{
 "cells": [
  {
   "cell_type": "markdown",
   "id": "d9b797ad",
   "metadata": {},
   "source": [
    "# Python_Basics_Programming_Assingment_5"
   ]
  },
  {
   "cell_type": "markdown",
   "id": "bf7fc705",
   "metadata": {},
   "source": [
    "# All Questions\n",
    "1. Write a Python Program to Find LCM?\n",
    "2. Write a Python Program to Find HCF?\n",
    "3. Write a Python Program to Convert Decimal to Binary, Octal and Hexadecimal?\n",
    "4. Write a Python Program To Find ASCII value of a character?\n",
    "5. Write a Python Program to Make a Simple Calculator with 4 basic mathematical operations?"
   ]
  },
  {
   "cell_type": "code",
   "execution_count": 27,
   "id": "a85deba5",
   "metadata": {},
   "outputs": [
    {
     "name": "stdout",
     "output_type": "stream",
     "text": [
      "LCM only till 4 digits integer\n",
      "Enter Your 1st number: 4877\n",
      "Enter Your 2nd number: 542\n",
      "This is your LCM 2643334\n",
      "LCM USING Greatest Comman Divisor for big and complex numbers\n",
      "Enter Your 1st number: 79845120364875221000\n",
      "Enter Your 2nd number: 4984521648794552\n",
      "This is your LCM 49748716376165912246179568074499000\n"
     ]
    }
   ],
   "source": [
    "#Q1.Write a Python Program to Find LCM?\n",
    "#Ans\n",
    "'''\n",
    "LCM Denotes The Least Common Multiple Of Any Two Or More Given Integers. \n",
    "For Example, L.C.M Of 16 And 20 Will Be 2 x 2 x 2 x 2 x 5 = 80, Where 80 Is The Smallest Common Multiple For Numbers 16 And 20.\n",
    "As we know,\n",
    "\n",
    "LCM=least common multiple\n",
    "GCD=greatest common divisor\n",
    "x,y=non-zero integers\n",
    "so we can also find lcm with gcd.\n",
    "The 1st program is unable to find the lcm of very big numbers so we try to find with gcd. It is faster and will give results\n",
    "'''\n",
    "#Let's Create Two variables x and y for user input\n",
    "print(\"LCM only till 4 digits integer\")\n",
    "x = int(input(\"Enter Your 1st number: \"))\n",
    "y = int(input(\"Enter Your 2nd number: \"))\n",
    "\n",
    "# Now we have a create a LCM function and inside it we put while loop to find LCM\n",
    "def program_lcm(x,y):\n",
    "    #we check x and y with if else condition find greater interger to do lcm of two numbers, for basic math divisible\n",
    "    if x > y:\n",
    "        greater = x \n",
    "    else:\n",
    "        greater = y\n",
    "    \n",
    "    # Now we create while loop to find the LCM\n",
    "    while(True):\n",
    "        if((greater % x == 0) and (greater % y == 0)):\n",
    "            lcm = greater\n",
    "            break\n",
    "        greater +=1\n",
    "    return lcm\n",
    "\n",
    "#We can call the function here in print statement to find the LCM\n",
    "print(\"This is your LCM\", program_lcm(x,y))\n",
    "\n",
    "##############################LCM USING GCD| x * y = L.C.M. * G.C.D.#############################################\n",
    "print(\"LCM USING Greatest Comman Divisor for big and complex numbers\")\n",
    "x = int(input(\"Enter Your 1st number: \"))\n",
    "y = int(input(\"Enter Your 2nd number: \"))\n",
    "\n",
    "def program_gcd(x, y):\n",
    "    while(y):\n",
    "        x, y = y, x % y\n",
    "    return x\n",
    "\n",
    "def program_lcm(x,y):\n",
    "    lcm = (x*y)//program_gcd(x, y)\n",
    "    return lcm\n",
    "\n",
    "print(\"This is your LCM\", program_lcm(x,y))"
   ]
  },
  {
   "cell_type": "code",
   "execution_count": 31,
   "id": "cba3534e",
   "metadata": {},
   "outputs": [
    {
     "name": "stdout",
     "output_type": "stream",
     "text": [
      "Enter 1st number: 8787\n",
      "Enter 2nd number: 1545\n",
      "The HCF is 3\n"
     ]
    }
   ],
   "source": [
    "#Q2.Write a Python Program to Find HCF?\n",
    "#Ans\n",
    "'''\n",
    "The full form of HCF in Maths is the Highest Common Factor. HCF of two or more numbers is the greatest factor that divides the numbers. \n",
    "For example, 2 is the HCF of 4 and 6.\n",
    "HCF=Highest Common Factor\n",
    "GCD=greatest common divisor\n",
    "x,y=non-zero integers\n",
    "This Means HCF = GCD\n",
    "In maths, the Euclidean algorithm, is an efficient method for computing the greatest common divisor of two integers, \n",
    "the largest number that divides them both without a remainder.\n",
    "In each iteration, we place the value of y in x and the remainder (x % y) in y, simultaneously. \n",
    "When y becomes zero, we have H.C.F. in x.\n",
    "'''\n",
    "# To find HCF we use above theorem and formula, so we craete a function and put while loop in it\n",
    "def program_hcf(x,y):\n",
    "    while(y):\n",
    "        x , y = y , x % y\n",
    "    return x \n",
    "\n",
    "find_hcf = program_hcf(int(input(\"Enter 1st number: \")), int(input(\"Enter 2nd number: \")))\n",
    "print(f\"The HCF is {find_hcf}\")"
   ]
  },
  {
   "cell_type": "code",
   "execution_count": 41,
   "id": "fc8f4910",
   "metadata": {},
   "outputs": [
    {
     "name": "stdout",
     "output_type": "stream",
     "text": [
      "Enter Your Number: 15784\n",
      "15784 converted to computer number system\n",
      "Binary- 0b11110110101000\n",
      "Octal- 0o36650\n",
      "Hexadecimal- 0x3da8\n"
     ]
    }
   ],
   "source": [
    "#Q3.Write a Python Program to Convert Decimal to Binary, Octal and Hexadecimal?\n",
    "#Ans\n",
    "'''\n",
    "The decimal numeral system is the standard system for denoting integer and non-integer numbers.\n",
    "The decimal system is the most widely used number system. However, computers only understand binary number systems. \n",
    "Binary, octal, and hexadecimal number systems are closely related, So we want decimals into these systems.\n",
    "'''\n",
    "#To print a program let's create a variable for user input\n",
    "decimal_number = int(input(\"Enter Your Number: \"))\n",
    "\n",
    "#In python there are predefined math function without importing math we use this\n",
    "print(f\"{decimal_number} converted to computer number system\")\n",
    "\n",
    "print(\"Binary-\", bin(decimal_number))\n",
    "print(\"Octal-\", oct(decimal_number))\n",
    "print(\"Hexadecimal-\", hex(decimal_number))"
   ]
  },
  {
   "cell_type": "code",
   "execution_count": 55,
   "id": "9ebc0688",
   "metadata": {},
   "outputs": [
    {
     "name": "stdout",
     "output_type": "stream",
     "text": [
      "Enter your character: #\n",
      "The ASCII character of # is 35 \n",
      "Enter your ASCII number: 45\n",
      "The ASCII character for 45 is - \n"
     ]
    }
   ],
   "source": [
    "#Q4.Write a Python Program To Find ASCII value of a character?\n",
    "#Ans\n",
    "'''\n",
    "ASCII is a 7-bit character set containing 128 characters.\n",
    "It contains the numbers from 0-9, the upper and lower case English letters from A to Z, and some special characters.\n",
    "The character sets used in modern computers, in HTML, and on the Internet, are all based on ASCII.\n",
    "Here we have used ord() function to convert a character to an integer (ASCII value). \n",
    "This function returns the Unicode code point of that character, as well as chr() funtions shows us character from number\n",
    "by using prebuilt functions we can check results vice-versa.\n",
    "'''\n",
    "# To print a program to find ASCII value of a character\n",
    "x = str(input(\"Enter your character: \"))\n",
    "print(f\"The ASCII character of {x} is {ord(x)} \")\n",
    "\n",
    "# To print a program to find a character from ASCII Value\n",
    "x = int(input(\"Enter your ASCII number: \"))\n",
    "print(f\"The ASCII character for {x} is {chr(x)} \")"
   ]
  },
  {
   "cell_type": "code",
   "execution_count": 1,
   "id": "1ca33ab0",
   "metadata": {},
   "outputs": [
    {
     "name": "stdout",
     "output_type": "stream",
     "text": [
      "1. Add\n",
      "2. Subtract\n",
      "3. Multiply\n",
      "4. Divide\n",
      "Enter Your Choice(1/2/3/4) press 0 to break: 1\n",
      "Enter Your 1st Number: 52\n",
      "Enter Your 2nd Number: 48\n",
      "This is your addition 100.0\n",
      "Enter Your Choice(1/2/3/4) press 0 to break: 2\n",
      "Enter Your 1st Number: 98\n",
      "Enter Your 2nd Number: 45\n",
      "This is your subtraction 53.0\n",
      "Enter Your Choice(1/2/3/4) press 0 to break: 3\n",
      "Enter Your 1st Number: 5\n",
      "Enter Your 2nd Number: 8\n",
      "This is your multiplication 40.0\n",
      "Enter Your Choice(1/2/3/4) press 0 to break: 4\n",
      "Enter Your 1st Number: 40\n",
      "Enter Your 2nd Number: 5\n",
      "This is your division 8.0\n",
      "Enter Your Choice(1/2/3/4) press 0 to break: 0\n"
     ]
    }
   ],
   "source": [
    "#Q5.Write a Python Program to Make a Simple Calculator with 4 basic mathematical operations?\n",
    "#Ans\n",
    "'''\n",
    "Summary - Create 4 functions for '+ , - , * , /' ask user input and process a while loop acc.to that using \n",
    "if else conditions and print the result.\n",
    "'''\n",
    "\n",
    "#To print a calculator we need 4 basic operators so we create a function and finds our answers using while loop\n",
    "def add(x,y):\n",
    "    return x + y\n",
    "\n",
    "def sub(x,y):\n",
    "    return x - y\n",
    "\n",
    "def mul(x,y):\n",
    "    return x * y\n",
    "\n",
    "def div(x,y):\n",
    "    return x / y\n",
    "\n",
    "#Now to print the basic calculator options to select an operator\n",
    "print(\"1. Add\")\n",
    "print(\"2. Subtract\")\n",
    "print(\"3. Multiply\")\n",
    "print(\"4. Divide\")\n",
    "\n",
    "#Now we create a while loop and using if else condition acc. to user input\n",
    "while True:\n",
    "    choice = int(input(\"Enter Your Choice(1/2/3/4) press 0 to break: \"))\n",
    "    \n",
    "    if choice in (1, 2, 3, 4):\n",
    "        x = float(input(\"Enter Your 1st Number: \"))\n",
    "        y = float(input(\"Enter Your 2nd Number: \"))\n",
    "        \n",
    "        if choice == 1:\n",
    "            res = x + y\n",
    "            print(f\"This is your addition {res}\")\n",
    "        \n",
    "        elif choice == 2:\n",
    "            res = x - y\n",
    "            print(f\"This is your subtraction {res}\")\n",
    "        \n",
    "        elif choice == 3:\n",
    "            res = x * y\n",
    "            print(f\"This is your multiplication {res}\")\n",
    "        \n",
    "        elif choice == 4:\n",
    "            res = x / y\n",
    "            print(f\"This is your division {res}\")\n",
    "        \n",
    "    else:\n",
    "        if choice == 0:\n",
    "            break"
   ]
  },
  {
   "cell_type": "code",
   "execution_count": null,
   "id": "3b929ccb",
   "metadata": {},
   "outputs": [],
   "source": []
  }
 ],
 "metadata": {
  "kernelspec": {
   "display_name": "Python 3 (ipykernel)",
   "language": "python",
   "name": "python3"
  },
  "language_info": {
   "codemirror_mode": {
    "name": "ipython",
    "version": 3
   },
   "file_extension": ".py",
   "mimetype": "text/x-python",
   "name": "python",
   "nbconvert_exporter": "python",
   "pygments_lexer": "ipython3",
   "version": "3.9.12"
  }
 },
 "nbformat": 4,
 "nbformat_minor": 5
}
