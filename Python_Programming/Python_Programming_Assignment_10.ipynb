{
 "cells": [
  {
   "cell_type": "markdown",
   "id": "e0c7ad3c",
   "metadata": {},
   "source": [
    "## Python_Programming_Assignment_10\n",
    "1. Write a Python program to find sum of elements in list?\n",
    "2. Write a Python program to  Multiply all numbers in the list?\n",
    "3. Write a Python program to find smallest number in a list?\n",
    "4. Write a Python program to find largest number in a list?\n",
    "5. Write a Python program to find second largest number in a list?\n",
    "6. Write a Python program to find N largest elements from a list?\n",
    "7. Write a Python program to print even numbers in a list?\n",
    "8. Write a Python program to print odd numbers in a List?\n",
    "9. Write a Python program to Remove empty List from List?\n",
    "10. Write a Python program to Cloning or Copying a list?\n",
    "11. Write a Python program to Count occurrences of an element in a list?"
   ]
  },
  {
   "cell_type": "code",
   "execution_count": 8,
   "id": "446b4b47",
   "metadata": {},
   "outputs": [
    {
     "name": "stdout",
     "output_type": "stream",
     "text": [
      "Sum of elements in the list:- 183\n"
     ]
    }
   ],
   "source": [
    "# Ans 1\n",
    "def sum_of_list_elements(lst):\n",
    "    total = sum(lst)\n",
    "    return total\n",
    "\n",
    "\n",
    "numbers = [14, 27, 43, 41, 58]\n",
    "print(f\"Sum of elements in the list:- {sum_of_list_elements(numbers)}\")"
   ]
  },
  {
   "cell_type": "code",
   "execution_count": 9,
   "id": "8d5e6c42",
   "metadata": {},
   "outputs": [
    {
     "name": "stdout",
     "output_type": "stream",
     "text": [
      "Multiplication of elements in the list:- 120\n"
     ]
    }
   ],
   "source": [
    "# Ans 2\n",
    "def multiply_list_elements(lst):\n",
    "    result = 1\n",
    "    for num in lst:\n",
    "        result *= num\n",
    "    return result\n",
    "\n",
    "\n",
    "numbers = [1, 2, 3, 4, 5]\n",
    "print(f\"Multiplication of elements in the list:- {multiply_list_elements(numbers)}\")"
   ]
  },
  {
   "cell_type": "code",
   "execution_count": 12,
   "id": "60796bf6",
   "metadata": {},
   "outputs": [
    {
     "name": "stdout",
     "output_type": "stream",
     "text": [
      "Smallest number in the list:- 3\n"
     ]
    }
   ],
   "source": [
    "'''Ans 3:- The find_smallest_number function iterates through the\n",
    "list, initializing smallest with the first element. It compares\n",
    "each element to the current smallest value and updates smallest\n",
    "if a smaller element is found. The program provides an\n",
    "example list numbers and calculates the smallest number using the\n",
    "find_smallest_number function.'''\n",
    "\n",
    "def find_smallest_number(lst):\n",
    "    smallest = lst[0]\n",
    "    for num in lst:\n",
    "        if num < smallest:\n",
    "            smallest = num\n",
    "    return smallest\n",
    "\n",
    "numbers = [9, 7, 4, 3, 5,]\n",
    "print(f\"Smallest number in the list:- {find_smallest_number(numbers)}\")"
   ]
  },
  {
   "cell_type": "code",
   "execution_count": 13,
   "id": "e142f035",
   "metadata": {},
   "outputs": [
    {
     "name": "stdout",
     "output_type": "stream",
     "text": [
      "Largest number in the list:- 9\n"
     ]
    }
   ],
   "source": [
    "'''Ans 4:- The find_largest_number function iterates through the\n",
    "list, initializing largest with the first element. It compares\n",
    "each element to the current largest value and updates largest\n",
    "if a larger element is found. The program provides an example\n",
    "list numbers and calculates the largest number using the\n",
    "find_largest_number function. The largest number is printed.'''\n",
    "def find_largest_number(lst):\n",
    "    largest = lst[0]\n",
    "    for num in lst:\n",
    "        if num > largest:\n",
    "            largest = num\n",
    "    return largest\n",
    "\n",
    "numbers = [8, 4, 9, 3, 5]\n",
    "print(f\"Largest number in the list:- {find_largest_number(numbers)}\")"
   ]
  },
  {
   "cell_type": "code",
   "execution_count": 21,
   "id": "946d9a8f",
   "metadata": {},
   "outputs": [
    {
     "name": "stdout",
     "output_type": "stream",
     "text": [
      "Second largest number in the list:- 8\n"
     ]
    }
   ],
   "source": [
    "'''Ans 5:- The find_second_largest function initializes largest and\n",
    "second_largest to negative infinity to ensure they will be updated\n",
    "correctly. It iterates through the list, updating both largest and\n",
    "second_largest as it finds larger numbers. The program provides an\n",
    "example list numbers and calculates the second largest number\n",
    "using the find_second_largest function. If a second largest\n",
    "number is found, it is printed; otherwise, it prints that the\n",
    "list doesn't have a second largest number.'''\n",
    "\n",
    "def find_second_largest(lst):\n",
    "    if len(lst) < 2:\n",
    "        return None\n",
    "    \n",
    "    largest = second_largest = float('-inf')\n",
    "    \n",
    "    for num in lst:\n",
    "        if num > largest:\n",
    "            second_largest = largest\n",
    "            largest = num\n",
    "        elif num > second_largest and num != largest:\n",
    "            second_largest = num\n",
    "            \n",
    "    return second_largest\n",
    "\n",
    "numbers = [8, 4, 9, 3, 5]\n",
    "\n",
    "second_largest_number = find_second_largest(numbers)\n",
    "\n",
    "if second_largest_number is not None:\n",
    "    print(f\"Second largest number in the list:- {second_largest_number}\")\n",
    "else:\n",
    "    print(\"List doesn't have a second largest number.\")"
   ]
  },
  {
   "cell_type": "code",
   "execution_count": 23,
   "id": "b747ff39",
   "metadata": {},
   "outputs": [
    {
     "name": "stdout",
     "output_type": "stream",
     "text": [
      "2 largest elements in the list: [9, 8]\n"
     ]
    }
   ],
   "source": [
    "'''Ans 6:- The find_n_largest_elements function takes a list lst and\n",
    "an integer n as input. It checks if n is less than or equal\n",
    "to 0 and returns an empty list if n is invalid. It sorts the\n",
    "list in descending order using sorted and reverse=True to get\n",
    "the largest elements first. It returns the first n elements\n",
    "from the sorted list, which are the N largest elements.'''\n",
    "\n",
    "def find_n_largest_elements(lst, n):\n",
    "    if n <= 0:\n",
    "        return []\n",
    "\n",
    "    sorted_list = sorted(lst, reverse=True)\n",
    "    return sorted_list[:n]\n",
    "\n",
    "\n",
    "numbers = [8, 4, 9, 3, 5]\n",
    "n = 2 \n",
    "largest_elements = find_n_largest_elements(numbers, n)\n",
    "\n",
    "if largest_elements:\n",
    "    print(f\"{n} largest elements in the list:\", largest_elements)\n",
    "else:\n",
    "    print(\"List is empty or 'n' is invalid.\")"
   ]
  },
  {
   "cell_type": "code",
   "execution_count": 25,
   "id": "9f1bf5ff",
   "metadata": {},
   "outputs": [
    {
     "name": "stdout",
     "output_type": "stream",
     "text": [
      "Even numbers in the list:\n",
      "2\n",
      "4\n",
      "6\n",
      "8\n"
     ]
    }
   ],
   "source": [
    "'''Ans 7:- The print_even_numbers function takes a list lst as input.\n",
    "It iterates through the elements of the list and checks if\n",
    "each element is even (divisible by 2) using the % operator. If\n",
    "an element is even, it's printed. In the example provided, it\n",
    "prints even numbers from the numbers list. You can replace the\n",
    "numbers list with any other list of numbers to find and print even\n",
    "numbers in that list.'''\n",
    "\n",
    "def print_even_numbers(lst):\n",
    "    for num in lst:\n",
    "        if num % 2 == 0:\n",
    "            print(num)\n",
    "\n",
    "\n",
    "numbers = [1, 2, 3, 4, 5, 6, 7, 8, 9]\n",
    "print(\"Even numbers in the list:\")\n",
    "print_even_numbers(numbers)"
   ]
  },
  {
   "cell_type": "code",
   "execution_count": 26,
   "id": "e0a19f39",
   "metadata": {},
   "outputs": [
    {
     "name": "stdout",
     "output_type": "stream",
     "text": [
      "Odd numbers in the list:\n",
      "1\n",
      "3\n",
      "5\n",
      "7\n",
      "9\n"
     ]
    }
   ],
   "source": [
    "'''Ans 8:- The print_odd_numbers function takes a list lst as input.\n",
    "It iterates through the elements of the list and checks if\n",
    "each element is odd (not divisible by 2) using the % operator.\n",
    "If an element is odd, it's printed. In the example provided,\n",
    "it prints odd numbers from the numbers list. You can replace\n",
    "the numbers list with any other list of numbers to find and\n",
    "print odd numbers in that list.'''\n",
    "\n",
    "def print_odd_numbers(lst):\n",
    "    for num in lst:\n",
    "        if num % 2 != 0:\n",
    "            print(num)\n",
    "\n",
    "numbers = [1, 2, 3, 4, 5, 6, 7, 8, 9]\n",
    "print(\"Odd numbers in the list:\")\n",
    "print_odd_numbers(numbers)"
   ]
  },
  {
   "cell_type": "code",
   "execution_count": 28,
   "id": "5d15a11a",
   "metadata": {},
   "outputs": [
    {
     "name": "stdout",
     "output_type": "stream",
     "text": [
      "List after removing empty lists:- [[1, 2, 3], [4, 5], [6, 7, 8]]\n"
     ]
    }
   ],
   "source": [
    "'''Ans 9:- The remove_empty_lists function takes a list lst as input,\n",
    "which contains sublists, including empty ones.  List\n",
    "comprehension is used to create a new list called result. Within the\n",
    "list comprehension, we iterate through each sublist in the\n",
    "input list lst.  For each sublist, the condition if sublist\n",
    "checks if it's non-empty. If a sublist is non-empty, it is\n",
    "included in the result list.  After processing all sublists, the\n",
    "result list contains only non-empty sublists, effectively\n",
    "removing the empty ones.  The program demonstrates the removal of\n",
    "empty sublists from an example list_of_lists. The result, stored\n",
    "in the cleaned_list variable, is then printed.'''\n",
    "\n",
    "def remove_empty_lists(lst):\n",
    "    # Use list comprehension to filter out non-empty lists\n",
    "    result = [sublist for sublist in lst if sublist]\n",
    "    return result\n",
    "\n",
    "list_of_lists = [[1, 2, 3], [], [4, 5], [], [], [6, 7, 8]]\n",
    "print(f\"List after removing empty lists:- {remove_empty_lists(list_of_lists)}\")"
   ]
  },
  {
   "cell_type": "code",
   "execution_count": 32,
   "id": "4e20fbfb",
   "metadata": {},
   "outputs": [
    {
     "name": "stdout",
     "output_type": "stream",
     "text": [
      "Original List: [1, 2, 3, 4, 5]\n",
      "Copied List Using slicing: [1, 2, 3, 4, 5]\n",
      "Copied List Using the copy() method: [1, 2, 3, 4, 5]\n",
      "Copied List Using the list() constructor: [1, 2, 3, 4, 5]\n"
     ]
    }
   ],
   "source": [
    "'''Ans 10:- All three methods will create a new list that is a copy of\n",
    "the original list. Keep in mind that these methods create a\n",
    "shallow copy, meaning that if the original list contains mutable\n",
    "objects (e.g., other lists or dictionaries), changes to the\n",
    "mutable objects within the copied list will affect the original\n",
    "list and vice versa. If you need a deep copy, you can use the\n",
    "copy module's deepcopy function.'''\n",
    "\n",
    "# Using slicing\n",
    "original_list = [1, 2, 3, 4, 5]\n",
    "copied_list = original_list[:]\n",
    "print(\"Original List:\", original_list)\n",
    "print(\"Copied List Using slicing:\", copied_list)\n",
    "\n",
    "# Using the copy() method\n",
    "copied_list = original_list.copy()\n",
    "print(\"Copied List Using the copy() method:\", copied_list)\n",
    "\n",
    "# Using the list() constructor:\n",
    "copied_list = list(original_list)\n",
    "print(\"Copied List Using the list() constructor:\", copied_list)"
   ]
  },
  {
   "cell_type": "code",
   "execution_count": 36,
   "id": "93308642",
   "metadata": {},
   "outputs": [
    {
     "name": "stdout",
     "output_type": "stream",
     "text": [
      "The element 2 appears 4 times in the list.\n",
      "The element 20 appears 3 times in the list.\n",
      "The element 4 appears 2 times in the list.\n"
     ]
    }
   ],
   "source": [
    "'''Ans 11:- All three methods will give you the count of occurrences\n",
    "of the specified element in the list. You can choose the one\n",
    "that suits your coding style and requirements.'''\n",
    "# Using the count() method\n",
    "def count_occurrences(lst, element):\n",
    "    return lst.count(element)\n",
    "\n",
    "my_list = [1, 2, 2, 3, 4, 2, 5, 2]\n",
    "element_to_count = 2\n",
    "\n",
    "count = count_occurrences(my_list, element_to_count)\n",
    "print(f\"The element {element_to_count} appears {count} times in the list.\")\n",
    "\n",
    "# Using a loop to iterate through the list:\n",
    "def count_occurrences(lst, element):\n",
    "    count = 0\n",
    "    for item in lst:\n",
    "        if item == element:\n",
    "            count += 1\n",
    "    return count\n",
    "\n",
    "my_list = [1, 2, 20, 20, 4, 2, 5, 20]\n",
    "element_to_count = 20\n",
    "\n",
    "count = count_occurrences(my_list, element_to_count)\n",
    "print(f\"The element {element_to_count} appears {count} times in the list.\")\n",
    "\n",
    "# Using a list comprehension:\n",
    "def count_occurrences(lst, element):\n",
    "    return len([item for item in lst if item == element])\n",
    "\n",
    "my_list = [1, 4, 2, 3, 4, 2, 5, 2]\n",
    "element_to_count = 4\n",
    "\n",
    "count = count_occurrences(my_list, element_to_count)\n",
    "print(f\"The element {element_to_count} appears {count} times in the list.\")"
   ]
  }
 ],
 "metadata": {
  "kernelspec": {
   "display_name": "Python 3 (ipykernel)",
   "language": "python",
   "name": "python3"
  },
  "language_info": {
   "codemirror_mode": {
    "name": "ipython",
    "version": 3
   },
   "file_extension": ".py",
   "mimetype": "text/x-python",
   "name": "python",
   "nbconvert_exporter": "python",
   "pygments_lexer": "ipython3",
   "version": "3.10.9"
  }
 },
 "nbformat": 4,
 "nbformat_minor": 5
}
