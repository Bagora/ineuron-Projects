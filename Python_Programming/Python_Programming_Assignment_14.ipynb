{
 "cells": [
  {
   "cell_type": "markdown",
   "id": "c2e6b3f0",
   "metadata": {},
   "source": [
    "## Python_Programming_Assignment_14\n",
    "1. Define a class with a generator which can iterate the numbers, which are divisible by 7, between a given range 0 and n.\n",
    "\n",
    "2. Write a program to compute the frequency of the words from the input. The output should output after sorting the key alphanumerically. \n",
    "\n",
    "    Suppose the following input is supplied to the program:\n",
    "    New to Python or choosing between Python 2 and Python 3? Read Python 2 or Python 3.\n",
    "    Then, the output should be:\n",
    "    2:2\n",
    "\n",
    "    3.:1\n",
    "\n",
    "    3?:1\n",
    "\n",
    "    New:1\n",
    "\n",
    "    Python:5\n",
    "\n",
    "    Read:1\n",
    "\n",
    "    and:1\n",
    "\n",
    "    between:1\n",
    "\n",
    "    choosing:1\n",
    "\n",
    "    or:2\n",
    "\n",
    "    to:1\n",
    "\n",
    "3. Define a class Person and its two child classes: Male and Female. All classes have a method \"getGender\" which can print \"Male\" for Male class and \"Female\" for Female class.\n",
    "\n",
    "4. Please write a program to generate all sentences where subject is in [\"I\", \"You\"] and verb is in [\"Play\", \"Love\"] and the object is in [\"Hockey\",\"Football\"].\n",
    "\n",
    "\n",
    "5. Please write a program to compress and decompress the string \"hello world!hello world!hello world!hello world!\".\n",
    "\n",
    "6. Please write a binary search function which searches an item in a sorted list. The function should return the index of element to be searched in the list."
   ]
  },
  {
   "cell_type": "code",
   "execution_count": 3,
   "id": "1a227b34",
   "metadata": {},
   "outputs": [
    {
     "name": "stdout",
     "output_type": "stream",
     "text": [
      "Enter the range (n): 70\n",
      "Numbers divisible by 7 between 0 and 70 :\n",
      "0\n",
      "7\n",
      "14\n",
      "21\n",
      "28\n",
      "35\n",
      "42\n",
      "49\n",
      "56\n",
      "63\n",
      "70\n"
     ]
    }
   ],
   "source": [
    "'''Ans 1:- The DivisibleBySeven class is defined with an __init__\n",
    "method that takes a single argument n, which represents the upper\n",
    "limit of the range.  Within the class, there's a\n",
    "generate_numbers method that uses a generator (yield) to iterate through\n",
    "numbers from 0 to n (inclusive) and yields only those that are\n",
    "divisible by 7.  An instance of the class is created with a given\n",
    "range n.  The generator is used in a for loop to iterate and\n",
    "print numbers divisible by 7 within the specified range.we can \n",
    "run this program, provide a value for n, and it will iterate and\n",
    "print numbers divisible by 7 within the range from 0 to n.'''\n",
    "\n",
    "class DivisibleBySeven:\n",
    "    def __init__(self, n):\n",
    "        self.n = n\n",
    "\n",
    "    def generate_numbers(self):\n",
    "        for num in range(self.n + 1):\n",
    "            if num % 7 == 0:\n",
    "                yield num\n",
    "\n",
    "# Create an instance of the class with a given range 'n'\n",
    "n = int(input(\"Enter the range (n): \"))\n",
    "divisible_by_seven = DivisibleBySeven(n)\n",
    "\n",
    "# Use the generator to iterate and print numbers divisible by 7\n",
    "print(\"Numbers divisible by 7 between 0 and\", n, \":\")\n",
    "for num in divisible_by_seven.generate_numbers():\n",
    "    print(num)"
   ]
  },
  {
   "cell_type": "code",
   "execution_count": 5,
   "id": "6f33802d",
   "metadata": {},
   "outputs": [
    {
     "name": "stdout",
     "output_type": "stream",
     "text": [
      "Enter a sentence: New to Python or choosing between Python 2 and Python 3? Read Python 2 or Python 3\n",
      "2:2\n",
      "3:2\n",
      "and:1\n",
      "between:1\n",
      "choosing:1\n",
      "new:1\n",
      "or:2\n",
      "python:5\n",
      "read:1\n",
      "to:1\n"
     ]
    }
   ],
   "source": [
    "'''Ans 2:- The program takes input from the user in the form of a\n",
    "sentence.  It splits the input sentence into individual words using\n",
    "the split() method.  A dictionary named word_frequency is\n",
    "created to store word frequencies.  The program iterates through\n",
    "the words, removes punctuation characters from each word, and\n",
    "converts it to lowercase to ensure case-insensitive counting.  Word\n",
    "frequencies are updated in the word_frequency dictionary.  The\n",
    "dictionary is sorted by keys (words) in alphanumeric order using the\n",
    "sorted() function.  Finally, the program prints the sorted word\n",
    "frequencies.  You can run this program, provide a sentence as input,\n",
    "and it will compute and display the frequencies of words in\n",
    "alphanumeric order.'''\n",
    "\n",
    "# Input a sentence\n",
    "input_sentence = input(\"Enter a sentence: \")\n",
    "\n",
    "# Split the sentence into words\n",
    "words = input_sentence.split()\n",
    "\n",
    "# Create a dictionary to store word frequencies\n",
    "word_frequency = {}\n",
    "\n",
    "# Count word frequencies\n",
    "for word in words:\n",
    "    # Remove punctuation characters from the word\n",
    "    word = word.strip(\".,?!\")\n",
    "    # Convert the word to lowercase to ensure case-insensitive counting\n",
    "    word = word.lower()\n",
    "    \n",
    "    # Update the frequency count in the dictionary\n",
    "    if word in word_frequency:\n",
    "        word_frequency[word] += 1\n",
    "    else:\n",
    "        word_frequency[word] = 1\n",
    "\n",
    "# Sort the dictionary by keys (words) in alphanumeric order\n",
    "sorted_word_frequency = dict(sorted(word_frequency.items()))\n",
    "\n",
    "# Print the sorted word frequencies\n",
    "for word, frequency in sorted_word_frequency.items():\n",
    "    print(f\"{word}:{frequency}\")"
   ]
  },
  {
   "cell_type": "code",
   "execution_count": 7,
   "id": "642c4326",
   "metadata": {},
   "outputs": [
    {
     "name": "stdout",
     "output_type": "stream",
     "text": [
      "Person's gender: Unknown\n",
      "Male's gender: Male\n",
      "Female's gender: Female\n"
     ]
    }
   ],
   "source": [
    "'''Ans 3:- The Person class is defined with a method getGender that\n",
    "returns \"Unknown\" by default.  The Male and Female classes are\n",
    "child classes of Person, and they override the getGender method\n",
    "to return \"Male\" and \"Female,\" respectively.  Instances of\n",
    "the classes (person, male, and female) are created, and the\n",
    "getGender method is called for each instance to get their respective\n",
    "genders.  This program demonstrates inheritance and method\n",
    "overriding in Python, allowing each class to have its own\n",
    "implementation of the getGender method.'''\n",
    "\n",
    "class Person:\n",
    "    def getGender(self):\n",
    "        return \"Unknown\"\n",
    "\n",
    "class Male(Person):\n",
    "    def getGender(self):\n",
    "        return \"Male\"\n",
    "\n",
    "class Female(Person):\n",
    "    def getGender(self):\n",
    "        return \"Female\"\n",
    "\n",
    "# Create instances of the classes\n",
    "person = Person()\n",
    "male = Male()\n",
    "female = Female()\n",
    "\n",
    "# Call the getGender method for each instance\n",
    "print(\"Person's gender:\", person.getGender())\n",
    "print(\"Male's gender:\", male.getGender())\n",
    "print(\"Female's gender:\", female.getGender())"
   ]
  },
  {
   "cell_type": "code",
   "execution_count": 9,
   "id": "8e3f3410",
   "metadata": {},
   "outputs": [
    {
     "name": "stdout",
     "output_type": "stream",
     "text": [
      "I Play Hockey.\n",
      "I Play Football.\n",
      "I Love Hockey.\n",
      "I Love Football.\n",
      "You Play Hockey.\n",
      "You Play Football.\n",
      "You Love Hockey.\n",
      "You Love Football.\n"
     ]
    }
   ],
   "source": [
    "'''Ans 4:- Three lists, subjects, verbs, and objects, contain the\n",
    "possible choices for the subject, verb, and object, respectively. \n",
    "Nested loops iterate through each possible combination of\n",
    "subject, verb, and object.  Inside the loops, a sentence is\n",
    "generated using f-strings, combining the subject, verb, and object. \n",
    "Each sentence is printed as it is generated.  Running this\n",
    "program will generate and print all possible sentences according\n",
    "to the provided criteria.'''\n",
    "\n",
    "subjects = [\"I\", \"You\"]\n",
    "verbs = [\"Play\", \"Love\"]\n",
    "objects = [\"Hockey\", \"Football\"]\n",
    "\n",
    "# Generate and print all sentences\n",
    "for subject in subjects:\n",
    "    for verb in verbs:\n",
    "        for obj in objects:\n",
    "            sentence = f\"{subject} {verb} {obj}.\"\n",
    "            print(sentence)"
   ]
  },
  {
   "cell_type": "code",
   "execution_count": 11,
   "id": "0a4bfdb7",
   "metadata": {},
   "outputs": [
    {
     "name": "stdout",
     "output_type": "stream",
     "text": [
      "Original String: hello world!hello world!hello world!hello world!\n",
      "Compressed Data: b'x\\x9c\\xcbH\\xcd\\xc9\\xc9W(\\xcf/\\xcaIQ\\xcc \\x82\\r\\x00\\xbd[\\x11\\xf5'\n",
      "Decompressed String: hello world!hello world!hello world!hello world!\n"
     ]
    }
   ],
   "source": [
    "'''Ans 5:- The program uses Python's zlib module to compress and\n",
    "decompress a string. It first compresses the original string and\n",
    "stores the compressed data. Then, it decompresses the data back\n",
    "to the original string. The results are displayed for\n",
    "verification.'''\n",
    "\n",
    "import zlib\n",
    "\n",
    "# Original string\n",
    "original_string = \"hello world!hello world!hello world!hello world!\"\n",
    "\n",
    "# Compress the string\n",
    "compressed_data = zlib.compress(original_string.encode('utf-8'))\n",
    "\n",
    "# Decompress the compressed data\n",
    "decompressed_string = zlib.decompress(compressed_data).decode('utf-8')\n",
    "\n",
    "print(\"Original String:\", original_string)\n",
    "print(\"Compressed Data:\", compressed_data)\n",
    "print(\"Decompressed String:\", decompressed_string)"
   ]
  },
  {
   "cell_type": "code",
   "execution_count": 16,
   "id": "3161bd5e",
   "metadata": {},
   "outputs": [
    {
     "name": "stdout",
     "output_type": "stream",
     "text": [
      "Element 11 found at index 5.\n"
     ]
    }
   ],
   "source": [
    "'''Ans 6:- The binary_search function takes a sorted list (arr) and a\n",
    "target element (target) as input.  It initializes left and right\n",
    "pointers to the start and end of the list, respectively.  It enters\n",
    "a while loop that continues as long as left is less than or\n",
    "equal to right.  Inside the loop, it calculates the middle index\n",
    "(mid) of the current search range.  It compares the element at\n",
    "the middle index with the target element. If they are equal,\n",
    "it returns the mid index, indicating that the element is\n",
    "found.  If the middle element is less than the target, it updates\n",
    "left to mid + 1 to search the right half of the list. If it's\n",
    "greater, it updates right to mid - 1 to search the left half.  If\n",
    "the loop completes without finding the element, it returns -1\n",
    "to indicate that the element is not in the list.  An example\n",
    "usage demonstrates searching for the target element 11 in the\n",
    "sorted list and printing the result.  This program efficiently\n",
    "searches for an item in a sorted list using binary search.'''\n",
    "\n",
    "def binary_search(arr, target):\n",
    "    left, right = 0, len(arr) - 1\n",
    "\n",
    "    while left <= right:\n",
    "        mid = (left + right) // 2\n",
    "\n",
    "        if arr[mid] == target:\n",
    "            return mid \n",
    "        elif arr[mid] < target:\n",
    "            left = mid + 1\n",
    "        else:\n",
    "            right = mid - 1\n",
    "\n",
    "    return -1 \n",
    "\n",
    "sorted_list = [1, 3, 5, 7, 9, 11, 13]\n",
    "target_element = 11\n",
    "\n",
    "result = binary_search(sorted_list, target_element)\n",
    "\n",
    "if result != -1:\n",
    "    print(f\"Element {target_element} found at index {result}.\")\n",
    "else:\n",
    "    print(f\"Element {target_element} not found in the list.\")"
   ]
  }
 ],
 "metadata": {
  "kernelspec": {
   "display_name": "Python 3 (ipykernel)",
   "language": "python",
   "name": "python3"
  },
  "language_info": {
   "codemirror_mode": {
    "name": "ipython",
    "version": 3
   },
   "file_extension": ".py",
   "mimetype": "text/x-python",
   "name": "python",
   "nbconvert_exporter": "python",
   "pygments_lexer": "ipython3",
   "version": "3.10.9"
  }
 },
 "nbformat": 4,
 "nbformat_minor": 5
}
