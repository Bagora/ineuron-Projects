{
 "cells": [
  {
   "cell_type": "markdown",
   "id": "5dfda17e",
   "metadata": {},
   "source": [
    "## Python_Programming_Assignment_9\n",
    "1. Write a Python program to check if the given number is a Disarium Number?\n",
    "2. Write a Python program to print all disarium numbers between 1 to 100?\n",
    "3. Write a Python program to check if the given number is Happy Number?\n",
    "4. Write a Python program to print all happy numbers between 1 and 100?\n",
    "5. Write a Python program to determine whether the given number is a Harshad Number?\n",
    "6. Write a Python program to print all pronic numbers between 1 and 100?"
   ]
  },
  {
   "cell_type": "code",
   "execution_count": 3,
   "id": "880156f1",
   "metadata": {},
   "outputs": [
    {
     "name": "stdout",
     "output_type": "stream",
     "text": [
      "Enter a number: 89\n",
      "89 is a Disarium Number.\n"
     ]
    }
   ],
   "source": [
    "'''Ans 1:- The program defines a function is_disarium_number that\n",
    "takes a number as input and checks if it is a Disarium Number.\n",
    "\n",
    "The number is converted to a string to process its digits\n",
    "individually.\n",
    "\n",
    "A power variable is used to keep track of the position\n",
    "exponent while iterating through digits.\n",
    "\n",
    "The digits are raised to the corresponding power and added to the total.\n",
    "\n",
    "The total is then compared with the original number to\n",
    "determine if it's a Disarium Number.'''\n",
    "def is_disarium_number(number):\n",
    "    num_str = str(number)\n",
    "    power = 1\n",
    "    total = 0\n",
    "\n",
    "    for digit in num_str:\n",
    "        total += int(digit) ** power\n",
    "        power += 1\n",
    "\n",
    "    return total == number\n",
    "\n",
    "# Example usage\n",
    "num = int(input(\"Enter a number: \"))\n",
    "if is_disarium_number(num):\n",
    "    print(f\"{num} is a Disarium Number.\")\n",
    "else:\n",
    "    print(f\"{num} is not a Disarium Number.\")"
   ]
  },
  {
   "cell_type": "code",
   "execution_count": 2,
   "id": "6d0ceab2",
   "metadata": {},
   "outputs": [
    {
     "name": "stdout",
     "output_type": "stream",
     "text": [
      "Disarium numbers between 1 and 100:\n",
      "1\n",
      "2\n",
      "3\n",
      "4\n",
      "5\n",
      "6\n",
      "7\n",
      "8\n",
      "9\n",
      "89\n"
     ]
    }
   ],
   "source": [
    "'''Ans 2:- \n",
    "The is_disarium_number function checks if a given number\n",
    "is a Disarium number, following the same logic as explained\n",
    "in the previous response. The program then uses a loop to\n",
    "iterate through numbers from 1 to 100. For each number in the\n",
    "range, it checks if it's a Disarium number using the\n",
    "is_disarium_number function. If the number is a Disarium number, it is\n",
    "printed. When we run this program, it will display the Disarium\n",
    "numbers between 1 and 100, which are 1, 2, 3, 4, 5, 6, 7, 8, 9,\n",
    "89.'''\n",
    "\n",
    "def is_disarium_number(number):\n",
    "    num_str = str(number)\n",
    "    power = 1\n",
    "    total = 0\n",
    "\n",
    "    for digit in num_str:\n",
    "        total += int(digit) ** power\n",
    "        power += 1\n",
    "\n",
    "    return total == number\n",
    "\n",
    "# Find and print Disarium numbers between 1 and 100\n",
    "print(\"Disarium numbers between 1 and 100:\")\n",
    "for num in range(1, 101):\n",
    "    if is_disarium_number(num):\n",
    "        print(num)"
   ]
  },
  {
   "cell_type": "code",
   "execution_count": 8,
   "id": "1998a43e",
   "metadata": {},
   "outputs": [
    {
     "name": "stdout",
     "output_type": "stream",
     "text": [
      "Enter a number: 31\n",
      "31 is a Happy Number.\n"
     ]
    }
   ],
   "source": [
    "'''Ans 3:- Certainly! A Happy Number is a number that, when replaced\n",
    "by the sum of the squares of its digits and this process is\n",
    "repeated, eventually reaches the number 1. If a number ends up being\n",
    "1, it's a Happy Number; otherwise, it's not. Here's a Python\n",
    "program to check if a given number is a Happy Number:\n",
    "\n",
    "The program defines a nested function square_sum that\n",
    "calculates the sum of the squares of the digits of a given number.\n",
    "The main function is_happy_number uses a loop to repeatedly\n",
    "calculate the square sum of digits until the number becomes 1 (a\n",
    "happy number) or until a number repeats (indicating it's not a\n",
    "happy number). The seen set is used to keep track of numbers\n",
    "encountered during the process to avoid infinite loops. Users input a\n",
    "number, and the program checks if it's a Happy Number or not and\n",
    "then provides the appropriate output message. When we run the\n",
    "program and input a number, it will determine if the number is a\n",
    "Happy Number or not.\n",
    "\n",
    "'''\n",
    "def is_happy_number(number):\n",
    "    def square_sum(n):\n",
    "        return sum(int(digit)**2 for digit in str(n))\n",
    "\n",
    "    seen = set()\n",
    "\n",
    "    while number != 1 and number not in seen:\n",
    "        seen.add(number)\n",
    "        number = square_sum(number)\n",
    "\n",
    "    return number == 1\n",
    "\n",
    "num = int(input(\"Enter a number: \"))\n",
    "if is_happy_number(num):\n",
    "    print(f\"{num} is a Happy Number.\")\n",
    "else:\n",
    "    print(f\"{num} is not a Happy Number.\")"
   ]
  },
  {
   "cell_type": "code",
   "execution_count": 10,
   "id": "256fc077",
   "metadata": {},
   "outputs": [
    {
     "name": "stdout",
     "output_type": "stream",
     "text": [
      "Happy numbers between 1 and 100:\n",
      "1\n",
      "7\n",
      "10\n",
      "13\n",
      "19\n",
      "23\n",
      "28\n",
      "31\n",
      "32\n",
      "44\n",
      "49\n",
      "68\n",
      "70\n",
      "79\n",
      "82\n",
      "86\n",
      "91\n",
      "94\n",
      "97\n",
      "100\n"
     ]
    }
   ],
   "source": [
    "'''Ans 4:- The code defines is_happy_number that uses nested\n",
    "square_sum function to compute the sum of squared digits. It iterates\n",
    "through numbers, repeatedly replacing digits' sum until 1 or\n",
    "repeating numbers appear. The set seen prevents loops. The program\n",
    "prints happy numbers between 1 and 100 by iterating through\n",
    "numbers and using the is_happy_number function.'''\n",
    "\n",
    "def is_happy_number(number):\n",
    "    def square_sum(n):\n",
    "        return sum(int(digit)**2 for digit in str(n))\n",
    "\n",
    "    seen = set()\n",
    "\n",
    "    while number != 1 and number not in seen:\n",
    "        seen.add(number)\n",
    "        number = square_sum(number)\n",
    "\n",
    "    return number == 1\n",
    "\n",
    "print(\"Happy numbers between 1 and 100:\")\n",
    "for num in range(1, 101):\n",
    "    if is_happy_number(num):\n",
    "        print(num)"
   ]
  },
  {
   "cell_type": "code",
   "execution_count": 30,
   "id": "6a3dc674",
   "metadata": {},
   "outputs": [
    {
     "name": "stdout",
     "output_type": "stream",
     "text": [
      "Enter a number: 1\n",
      "1 is a Harshad Number.\n"
     ]
    }
   ],
   "source": [
    "'''Ans 5:- A Harshad Number (also called a Niven Number) is an\n",
    "integer that is divisible by the sum of its own digits. Here's a\n",
    "Python program to determine if a given number is a Harshad\n",
    "Number:-\n",
    "\n",
    "The program defines the function is_harshad_number, which\n",
    "takes a number as input and returns True if it's a Harshad\n",
    "Number, and False otherwise. The sum of the digits of the number\n",
    "is calculated using a generator expression and the sum\n",
    "function. The number % digit_sum operation checks if the number is\n",
    "divisible by the sum of its digits. Users input a number, and the\n",
    "program checks if it's a Harshad Number or not and then provides\n",
    "the appropriate output message. When you run the program and\n",
    "input a number, it will determine if the number is a Harshad\n",
    "Number or not.'''\n",
    "\n",
    "def is_harshad_number(number):\n",
    "    digit_sum = sum(int(digit) for digit in str(number))\n",
    "    return number % digit_sum == 0\n",
    "\n",
    "num = int(input(\"Enter a number: \"))\n",
    "if is_harshad_number(num):\n",
    "    print(f\"{num} is a Harshad Number.\")\n",
    "else:\n",
    "    print(f\"{num} is not a Harshad Number.\")"
   ]
  },
  {
   "cell_type": "code",
   "execution_count": 34,
   "id": "08137a58",
   "metadata": {},
   "outputs": [
    {
     "name": "stdout",
     "output_type": "stream",
     "text": [
      "Harshad Numbers between 1 and 100:- [1, 2, 3, 4, 5, 6, 7, 8, 9, 10, 12, 18, 20, 21, 24, 27, 30, 36, 40, 42, 45, 48, 50, 54, 60, 63, 70, 72, 80, 81, 84, 90, 100]\n"
     ]
    }
   ],
   "source": [
    "#  Harshad Numbers between 1 and 100 \n",
    "def is_harshad_number(number):\n",
    "    digit_sum = sum(int(digit) for digit in str(number))\n",
    "    return number % digit_sum == 0\n",
    "\n",
    "harshad_numbers = []\n",
    "\n",
    "for num in range(1, 101):\n",
    "    if is_harshad_number(num):\n",
    "        harshad_numbers.append(num)\n",
    "\n",
    "print(f\"Harshad Numbers between 1 and 100:- {harshad_numbers}\")"
   ]
  },
  {
   "cell_type": "code",
   "execution_count": 36,
   "id": "c147dba0",
   "metadata": {},
   "outputs": [
    {
     "name": "stdout",
     "output_type": "stream",
     "text": [
      "Pronic Numbers between 1 and 100:- [2, 6, 12, 20, 30, 42, 56, 72, 90]\n"
     ]
    }
   ],
   "source": [
    "'''Ans 6:-  A pronic number, also known as an oblong number or\n",
    "rectangular number, is a product of two consecutive integers. \n",
    "\n",
    "The is_pronic_number function checks if a given number is\n",
    "a pronic number by testing if it can be expressed as the\n",
    "product of two consecutive integers. The program uses a loop to\n",
    "iterate through numbers from 1 to 100. For each number in the\n",
    "range, it checks if it's a pronic number using the\n",
    "is_pronic_number function. If the number is a pronic number, it is printed.'''\n",
    "\n",
    "def is_pronic_number(number):\n",
    "    root = int(number**0.5)\n",
    "    return root * (root + 1) == number\n",
    "\n",
    "Pronic_Numbers = []\n",
    "\n",
    "for num in range(1, 101):\n",
    "    if is_pronic_number(num):\n",
    "        Pronic_Numbers.append(num)\n",
    "\n",
    "print(f\"Pronic Numbers between 1 and 100:- {Pronic_Numbers}\")"
   ]
  },
  {
   "cell_type": "code",
   "execution_count": null,
   "id": "d7deb9d8",
   "metadata": {},
   "outputs": [],
   "source": []
  }
 ],
 "metadata": {
  "kernelspec": {
   "display_name": "Python 3 (ipykernel)",
   "language": "python",
   "name": "python3"
  },
  "language_info": {
   "codemirror_mode": {
    "name": "ipython",
    "version": 3
   },
   "file_extension": ".py",
   "mimetype": "text/x-python",
   "name": "python",
   "nbconvert_exporter": "python",
   "pygments_lexer": "ipython3",
   "version": "3.10.9"
  }
 },
 "nbformat": 4,
 "nbformat_minor": 5
}
