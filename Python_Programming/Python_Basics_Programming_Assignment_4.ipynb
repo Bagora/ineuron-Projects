{
 "cells": [
  {
   "cell_type": "markdown",
   "id": "a8d2ab04",
   "metadata": {},
   "source": [
    "# Python_Basics_Programming_Assingment_4"
   ]
  },
  {
   "cell_type": "markdown",
   "id": "30558aa3",
   "metadata": {},
   "source": [
    "# All Questions\n",
    "1.\tWrite a Python Program to Find the Factorial of a Number?\n",
    "2.\tWrite a Python Program to Display the multiplication Table?\n",
    "3.\tWrite a Python Program to Print the Fibonacci sequence?\n",
    "4.\tWrite a Python Program to Check Armstrong Number?\n",
    "5.\tWrite a Python Program to Find Armstrong Number in an Interval?\n",
    "6.\tWrite a Python Program to Find the Sum of Natural Numbers?"
   ]
  },
  {
   "cell_type": "code",
   "execution_count": 78,
   "id": "a8246ab5",
   "metadata": {},
   "outputs": [
    {
     "name": "stdout",
     "output_type": "stream",
     "text": [
      "Enter the number: 8\n",
      "The Factorial of 8 is 40320\n"
     ]
    }
   ],
   "source": [
    "#Q1.Write a Python Program to Find the Factorial of a Number?\n",
    "#Ans\n",
    "'''\n",
    "The factorial of a number is the product of all the integers from 1 to that number.\n",
    "For example, lets take a number 8 and check it's factorial like that:\n",
    "i = 1[1*1=1] i = 2[1*2=2] i = 3[2*3=6] i = 4[6*4=24] i = 5[24*5=120] i= 6[120*6=720] i = 7[720*7=5040] i = 8[5040*8=40320]\n",
    "Factorial is not defined for negative numbers, and the factorial of zero is one.\n",
    "'''\n",
    "# To print a program we can create a new variable\n",
    "fact_a = int(input(\"Enter the number: \"))\n",
    "\n",
    "#Factorial number is always positive so we can assign 1 to it\n",
    "Factorial = 1\n",
    "\n",
    "#Now we check that if the number is factorial or not using if else\n",
    "if fact_a < 0:\n",
    "    print(\"Sorry This is not a Factorial number because it is a negative number\")\n",
    "elif fact_a == 0:\n",
    "    print(\"This is a Factorial number because here zero is one and factorial number always takes positive integer eg 0! = 1\")\n",
    "else:\n",
    "    #now we use the factorial formula to print its range\n",
    "    for i in range(1, fact_a + 1):\n",
    "        Factorial = Factorial * i\n",
    "    print(f\"The Factorial of {fact_a} is {Factorial}\")"
   ]
  },
  {
   "cell_type": "code",
   "execution_count": 28,
   "id": "9689e172",
   "metadata": {},
   "outputs": [
    {
     "name": "stdout",
     "output_type": "stream",
     "text": [
      "Which Table do you want to learn today: 8\n",
      "8 x 1 = 8\n",
      "8 x 2 = 16\n",
      "8 x 3 = 24\n",
      "8 x 4 = 32\n",
      "8 x 5 = 40\n",
      "8 x 6 = 48\n",
      "8 x 7 = 56\n",
      "8 x 8 = 64\n",
      "8 x 9 = 72\n",
      "8 x 10 = 80\n",
      "8 x 11 = 88\n",
      "8 x 12 = 96\n",
      "8 x 13 = 104\n",
      "8 x 14 = 112\n",
      "8 x 15 = 120\n",
      "8 x 16 = 128\n",
      "8 x 17 = 136\n",
      "8 x 18 = 144\n",
      "8 x 19 = 152\n",
      "8 x 20 = 160\n"
     ]
    }
   ],
   "source": [
    "#Q2.Write a Python Program to Display the multiplication Table?\n",
    "#Ans\n",
    "'''\n",
    "In python we just need for loop to print the multiplication table.\n",
    "'''\n",
    "#To print table take user input\n",
    "num_a = int(input(\"Which Table do you want to learn today: \"))\n",
    "\n",
    "#We can print this table as many times but here we can only take till power 20 so we take range as (1,21)\n",
    "#cuz last number exclude in range\n",
    "for i in range(1, 21):\n",
    "   print(f\"{num_a} x {i} = {num_a*i}\")"
   ]
  },
  {
   "cell_type": "code",
   "execution_count": 41,
   "id": "492d2d4b",
   "metadata": {},
   "outputs": [
    {
     "name": "stdout",
     "output_type": "stream",
     "text": [
      "Enter your number for which you want to see this sequence: 10\n",
      "Fibonacci sequence upto 10\n",
      "0\n",
      "1\n",
      "1\n",
      "2\n",
      "3\n",
      "5\n",
      "8\n",
      "13\n",
      "21\n",
      "34\n"
     ]
    }
   ],
   "source": [
    "#Q3.Write a Python Program to Print the Fibonacci sequence?\n",
    "#Ans\n",
    "'''\n",
    "A series of numbers in which each number is the sum of the two preceding numbers. \n",
    "The simplest is the series 0, 1, 1, 2, 3, 5, 8, 13 etc.\n",
    "This means to say the nth term is the sum of (Fn-1) and (Fn-2) term.\n",
    "We can write the python program with the help of Fibonacci formula Fn = Fn-1 + Fn-2, where n > 1.\n",
    "any number which user input is becomes fn here it is fn = f8\n",
    "'''\n",
    "# We will create a variable and ask the user that how many terms to see this sequence\n",
    "terms_a = int(input(\"Enter your number for which you want to see this sequence: \"))\n",
    "\n",
    "#now to create three variables as mum1 and num2 and there count to assign starting terms range for fibonacci sequence\n",
    "num1 = 0\n",
    "num2 = 1\n",
    "count = 0\n",
    "\n",
    "#Now we can create a if else condition to find fibonacci sequence\n",
    "if terms_a < 0:\n",
    "    print(\"Sorry negative integer,please enter a positive value\")\n",
    "elif terms_a == 1:\n",
    "    print(f\"Fibonacci sequence upto {terms_a}\")\n",
    "    print(num1)\n",
    "else:\n",
    "    print(f\"Fibonacci sequence upto {terms_a}\")\n",
    "    while count < terms_a:\n",
    "        print(num1)\n",
    "        nth = num1 + num2 #according to formula this is n1 & n2\n",
    "        num1 = num2\n",
    "        num2 = nth\n",
    "        count += 1"
   ]
  },
  {
   "cell_type": "code",
   "execution_count": 8,
   "id": "658f80fc",
   "metadata": {},
   "outputs": [
    {
     "name": "stdout",
     "output_type": "stream",
     "text": [
      "Enter your number: 1741725\n",
      "1741725 is an Armstrong Number \n"
     ]
    }
   ],
   "source": [
    "#Q4.Write a Python Program to Check Armstrong Number?\n",
    "#Ans\n",
    "'''\n",
    "An Armstrong number is one whose sum of digits raised to the power three equals the number itself.\n",
    "371, for example, is an Armstrong number because 3**3 + 7**3 + 1**3 = 371.\n",
    "9474 is an Armstrong number because 9**4 + 4**4 + 7**4 + 4**4 is equal 9474\n",
    "here we can check the 4 digits examples\n",
    "'''\n",
    "# to Print a Armstrong number we need to take input from user\n",
    "num = int(input(\"Enter your number: \"))\n",
    "sum = 0\n",
    "\n",
    "#To find the sum of a cube of each digit\n",
    "x = num\n",
    "while x > 0:\n",
    "    digit = x % 10\n",
    "    sum += digit ** 7\n",
    "    x //= 10\n",
    "\n",
    "if num == sum:\n",
    "    print(f\"{num} is an Armstrong Number \")\n",
    "else:\n",
    "    print(f\"{num} is not an Armstrong Number \")"
   ]
  },
  {
   "cell_type": "code",
   "execution_count": 11,
   "id": "dbc59ace",
   "metadata": {},
   "outputs": [
    {
     "name": "stdout",
     "output_type": "stream",
     "text": [
      "Please Enter starting range: 0\n",
      "Please Enter Ending range: 2000000\n",
      "This are the Armstrong Number in an Interval 0 To 2000000\n",
      "0\n",
      "1\n",
      "2\n",
      "3\n",
      "4\n",
      "5\n",
      "6\n",
      "7\n",
      "8\n",
      "9\n",
      "153\n",
      "370\n",
      "371\n",
      "407\n",
      "1634\n",
      "8208\n",
      "9474\n",
      "54748\n",
      "92727\n",
      "93084\n",
      "548834\n",
      "1741725\n"
     ]
    }
   ],
   "source": [
    "#Q6.Write a Python Program to Find Armstrong Number in an Interval?\n",
    "#Ans\n",
    "# To take user input for range of number\n",
    "lower_digit = int(input(\"Please Enter starting range: \"))\n",
    "upper_digit = int(input(\"Please Enter Ending range: \"))\n",
    "print(f\"This are the Armstrong Number in an Interval {lower_digit} To {upper_digit}\")\n",
    "\n",
    "for num in range(lower_digit, upper_digit + 1):\n",
    "    order = len(str(num))\n",
    "    sum = 0\n",
    "    x = num\n",
    "   \n",
    "    while x > 0:\n",
    "        digit = x % 10\n",
    "        sum += digit ** order\n",
    "        x //= 10\n",
    "    \n",
    "    if num == sum:\n",
    "        print(num)"
   ]
  },
  {
   "cell_type": "code",
   "execution_count": 14,
   "id": "c0d05e30",
   "metadata": {},
   "outputs": [
    {
     "name": "stdout",
     "output_type": "stream",
     "text": [
      "Enter Your number: 101\n",
      "The Sum of Natural Number is:  5151\n"
     ]
    }
   ],
   "source": [
    "#Q6.Write a Python Program to Find the Sum of Natural Numbers?\n",
    "#Ans\n",
    "'''\n",
    "For those of you who are unfamiliar with this series, which has come to be known as the Ramanujan Summation,\n",
    "It states that if you add all the natural numbers, that is 1, 2, 3, 4, and so on, all the way to infinity, \n",
    "you will find that it is equal to -1/12.\n",
    "like we take an example\n",
    "A = 1–1+1–1+1–1--n\n",
    "Then take 1-A=1-(1–1+1–1+1–1⋯n)\n",
    "Using algebra we can simplify this further\n",
    "1-A =A\n",
    "1-A+A=A+A\n",
    "1 = 2A\n",
    "1/2 = A\n",
    "\n",
    "Now we know that A = 1/2,\n",
    "so we can check another situation\n",
    "A-B = B\n",
    "A = 2B\n",
    "1/2 = 2B\n",
    "1/4 = B\n",
    "therefore B = 1/4\n",
    "This is the way to find the sum of all natural numbers\n",
    "'''\n",
    "# To print a sum of natural number we take user input number and try to find with if else condition\n",
    "num = int(input(\"Enter Your number: \"))\n",
    "\n",
    "if num < 0:\n",
    "    print(\"Please Enter a positive number\")\n",
    "else:\n",
    "    sum = 0\n",
    "    while(num > 0):\n",
    "        sum += num\n",
    "        num -= 1\n",
    "    print(\"The Sum of Natural Number is: \", sum )"
   ]
  },
  {
   "cell_type": "code",
   "execution_count": null,
   "id": "77fe7721",
   "metadata": {},
   "outputs": [],
   "source": []
  }
 ],
 "metadata": {
  "kernelspec": {
   "display_name": "Python 3 (ipykernel)",
   "language": "python",
   "name": "python3"
  },
  "language_info": {
   "codemirror_mode": {
    "name": "ipython",
    "version": 3
   },
   "file_extension": ".py",
   "mimetype": "text/x-python",
   "name": "python",
   "nbconvert_exporter": "python",
   "pygments_lexer": "ipython3",
   "version": "3.9.12"
  }
 },
 "nbformat": 4,
 "nbformat_minor": 5
}
