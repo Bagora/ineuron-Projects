{
 "cells": [
  {
   "cell_type": "markdown",
   "id": "30974c8a",
   "metadata": {},
   "source": [
    "## Python_Programming_Assignment_15\n",
    "1. Please write a program using generator to print the numbers which can be divisible by 5 and 7 between 0 and n in comma separated form while n is input by console.\n",
    "    Example:\n",
    "    If the following n is given as input to the program:\n",
    "    100\n",
    "    Then, the output of the program should be:\n",
    "    0,35,70\n",
    "\n",
    "2. Please write a program using generator to print the even numbers between 0 and n in comma separated form while n is input by \n",
    "    console.\n",
    "    Example:\n",
    "    If the following n is given as input to the program:\n",
    "    10\n",
    "    Then, the output of the program should be:\n",
    "    0,2,4,6,8,10\n",
    "\n",
    "3. The Fibonacci Sequence is computed based on the following formula:\n",
    "    f(n)=0 if n=0\n",
    "    f(n)=1 if n=1\n",
    "    f(n)=f(n-1)+f(n-2) if n>1\n",
    "    Please write a program using list comprehension to print the Fibonacci Sequence in comma separated form with a given n input \n",
    "    by console.\n",
    "    Example:\n",
    "    If the following n is given as input to the program:\n",
    "    7\n",
    "    Then, the output of the program should be:\n",
    "    0,1,1,2,3,5,8,13\n",
    "\n",
    "4. Assuming that we have some email addresses in the \"username@companyname.com\" format, please write program to print the user name of a given email address. Both user names and company names are composed of letters only.\n",
    "    Example:\n",
    "    If the following email address is given as input to the program:\n",
    "    john@google.com\n",
    "    Then, the output of the program should be:\n",
    "    john\n",
    "\n",
    "5. Define a class named Shape and its subclass Square. The Square class has an init function which takes a length as argument. Both classes have a area function which can print the area of the shape where Shape's area is 0 by default."
   ]
  },
  {
   "cell_type": "code",
   "execution_count": 5,
   "id": "3f43578c",
   "metadata": {},
   "outputs": [
    {
     "name": "stdout",
     "output_type": "stream",
     "text": [
      "Enter the value of n: 100\n",
      "Numbers divisible by 5 and 7 between 0 and 100 : 0, 35, 70\n"
     ]
    }
   ],
   "source": [
    "'''Ans 1:- The program defines a generator function\n",
    "generate_divisible_numbers that takes an integer n as input.  Inside the generator\n",
    "function, it iterates through numbers from 0 to n and yields numbers\n",
    "that are divisible by both 5 and 7.  The program takes user\n",
    "input for n through the console.  It generates the numbers using\n",
    "the generator function and prints them in a comma-separated\n",
    "form.  To remove the trailing comma and space, \\b\\b is used to\n",
    "move the cursor back twice.  Running this program will allow\n",
    "the user to input a value for n, and then it will generate and\n",
    "print the numbers divisible by both 5 and 7 within the specified\n",
    "range.'''\n",
    "\n",
    "def generate_divisible_numbers(n):\n",
    "    for num in range(n + 1):\n",
    "        if num % 5 == 0 and num % 7 == 0:\n",
    "            yield num\n",
    "\n",
    "# Input n from the console\n",
    "n = int(input(\"Enter the value of n: \"))\n",
    "\n",
    "# Generate and print numbers divisible by 5 and 7\n",
    "result = generate_divisible_numbers(n)\n",
    "print(\"Numbers divisible by 5 and 7 between 0 and\", n, \":\", end=\" \")\n",
    "\n",
    "# Print the generated numbers in comma-separated form\n",
    "for num in result:\n",
    "    print(num, end=\", \")\n",
    "\n",
    "print(\"\\b\\b\")"
   ]
  },
  {
   "cell_type": "code",
   "execution_count": 6,
   "id": "c0eeca0e",
   "metadata": {},
   "outputs": [
    {
     "name": "stdout",
     "output_type": "stream",
     "text": [
      "Enter the value of n: 10\n",
      "Even numbers between 0 and 10 : 0, 2, 4, 6, 8, 10\n"
     ]
    }
   ],
   "source": [
    "'''Ans 2:- The program defines a generator function\n",
    "generate_even_numbers that takes an integer n as input.  Inside the generator\n",
    "function, it iterates through even numbers from 0 to n (inclusive)\n",
    "by incrementing by 2 and yields these even numbers.  The\n",
    "program takes user input for n through the console.  It generates\n",
    "the even numbers using the generator function and prints them\n",
    "in a comma-separated form.  To remove the trailing comma and\n",
    "space, \\b\\b is used to move the cursor back twice.  Running this\n",
    "program will allow the user to input a value for n, and then it\n",
    "will generate and print the even numbers within the specified\n",
    "range.'''\n",
    "\n",
    "def generate_even_numbers(n):\n",
    "    for num in range(0, n + 1, 2):\n",
    "        yield num\n",
    "\n",
    "# Input n from the console\n",
    "n = int(input(\"Enter the value of n: \"))\n",
    "\n",
    "# Generate and print even numbers\n",
    "result = generate_even_numbers(n)\n",
    "print(\"Even numbers between 0 and\", n, \":\", end=\" \")\n",
    "\n",
    "# Print the generated even numbers in comma-separated form\n",
    "for num in result:\n",
    "    print(num, end=\", \")\n",
    "\n",
    "print(\"\\b\\b\")"
   ]
  },
  {
   "cell_type": "code",
   "execution_count": 7,
   "id": "d7bf66b9",
   "metadata": {},
   "outputs": [
    {
     "name": "stdout",
     "output_type": "stream",
     "text": [
      "Enter the value of n: 7\n",
      "Fibonacci Sequence up to the 7 term: 0, 1, 1, 2, 3, 5, 8\n"
     ]
    }
   ],
   "source": [
    "'''Ans 3:- The generate_fibonacci function takes an integer n as\n",
    "input and generates the Fibonacci sequence up to the nth term. \n",
    "The sequence starts with [0, 1] if n is greater than 0 (to\n",
    "handle the base cases). Otherwise, an empty list is returned for\n",
    "n less than or equal to 0.  Inside a while loop, the\n",
    "function calculates and appends the next term in the Fibonacci\n",
    "sequence until the length of the sequence reaches n.  The program\n",
    "takes user input for n through the console.  It generates the\n",
    "Fibonacci sequence up to the nth term using the generate_fibonacci\n",
    "function.  The generated sequence is printed in a comma-separated\n",
    "form using the print function and the sep argument.  Running\n",
    "this program will allow the user to input a value for n, and\n",
    "then it will generate and print the Fibonacci sequence up to\n",
    "the specified term in comma-separated form.'''\n",
    "\n",
    "# Function to generate the Fibonacci sequence up to the nth term\n",
    "def generate_fibonacci(n):\n",
    "    fibonacci_sequence = [0, 1] if n > 0 else []\n",
    "\n",
    "    while len(fibonacci_sequence) < n:\n",
    "        next_term = fibonacci_sequence[-1] + fibonacci_sequence[-2]\n",
    "        fibonacci_sequence.append(next_term)\n",
    "\n",
    "    return fibonacci_sequence\n",
    "\n",
    "# Input n from the console\n",
    "n = int(input(\"Enter the value of n: \"))\n",
    "\n",
    "# Generate and print the Fibonacci sequence\n",
    "fibonacci_sequence = generate_fibonacci(n)\n",
    "print(\"Fibonacci Sequence up to the\", n, \"term:\", end=\" \")\n",
    "\n",
    "print(*fibonacci_sequence, sep=\", \")"
   ]
  },
  {
   "cell_type": "code",
   "execution_count": 20,
   "id": "c6832582",
   "metadata": {},
   "outputs": [
    {
     "name": "stdout",
     "output_type": "stream",
     "text": [
      "Enter Email Address: john@google.com\n",
      "Username of john@google.com is john\n",
      "Enter Email Address: Aditya@google.com\n",
      "Username of Aditya@google.com is Aditya\n",
      "Enter Email Address: Mark@google.com\n",
      "Username of Mark@google.com is Mark\n"
     ]
    }
   ],
   "source": [
    "'''Ans 4:- This Python code defines a function getUsernames() that\n",
    "prompts the user to input an email address. It then splits the\n",
    "input at the \"@\" symbol, extracts the username portion, and\n",
    "prints it. The code iterates this process three times using a\n",
    "loop. It effectively extracts and displays the usernames from\n",
    "email addresses entered by the user, assuming the email format\n",
    "is \"username@companyname.com.\"''' \n",
    "\n",
    "def getUsernames():\n",
    "    input_string = input('Enter Email Address: ')\n",
    "    output_string = input_string.split('@')\n",
    "    print(f'Username of {input_string} is {output_string[0]}')\n",
    "\n",
    "for i in range(3):\n",
    "    getUsernames()"
   ]
  },
  {
   "cell_type": "code",
   "execution_count": 23,
   "id": "e3ee4b5a",
   "metadata": {},
   "outputs": [
    {
     "name": "stdout",
     "output_type": "stream",
     "text": [
      "Area of the shape: 0\n",
      "Area of the square: 16\n"
     ]
    }
   ],
   "source": [
    "'''Ans 5:- The Shape class defines an area method that returns 0 by\n",
    "default.  The Square class is a subclass of Shape and has an\n",
    "__init__ method to initialize the side length of the square.  The\n",
    "Square class overrides the area method to calculate and return\n",
    "the area of a square (side length squared).  Instances of both\n",
    "the Shape and Square classes are created.  The area method is\n",
    "called on these instances to calculate and print their respective\n",
    "areas.  This code demonstrates the use of a base class (Shape)\n",
    "and a derived class (Square) with overridden methods to\n",
    "calculate and print the area of different shapes.'''\n",
    "\n",
    "class Shape:\n",
    "    def area(self):\n",
    "        return 0  # Default area for Shape\n",
    "\n",
    "class Square(Shape):\n",
    "    def __init__(self, length):\n",
    "        self.length = length\n",
    "\n",
    "    def area(self):\n",
    "        return self.length ** 2\n",
    "\n",
    "# Create instances of Shape and Square classes\n",
    "shape = Shape()\n",
    "square = Square(4) \n",
    "\n",
    "print(\"Area of the shape:\", shape.area())\n",
    "print(\"Area of the square:\", square.area())"
   ]
  }
 ],
 "metadata": {
  "kernelspec": {
   "display_name": "Python 3 (ipykernel)",
   "language": "python",
   "name": "python3"
  },
  "language_info": {
   "codemirror_mode": {
    "name": "ipython",
    "version": 3
   },
   "file_extension": ".py",
   "mimetype": "text/x-python",
   "name": "python",
   "nbconvert_exporter": "python",
   "pygments_lexer": "ipython3",
   "version": "3.10.9"
  }
 },
 "nbformat": 4,
 "nbformat_minor": 5
}
