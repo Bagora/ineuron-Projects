{
 "cells": [
  {
   "cell_type": "markdown",
   "id": "f378d49a",
   "metadata": {},
   "source": [
    "## Python_Programming_Assignment_17\n",
    "1. Create a function that takes three arguments a, b, c and returns the sum of the numbers that are evenly divided by c from the range a, b inclusive.\n",
    "    Examples\n",
    "    evenly_divisible(1, 10, 20) ➞ 0\n",
    "    No number between 1 and 10 can be evenly divided by 20.\n",
    "\n",
    "    evenly_divisible(1, 10, 2) ➞ 30\n",
    "    2 + 4 + 6 + 8 + 10 = 30\n",
    "\n",
    "    evenly_divisible(1, 10, 3) ➞ 18\n",
    "    3 + 6 + 9 = 18\n",
    "\n",
    "2. Create a function that returns True if a given inequality expression is correct and False otherwise.\n",
    "    Examples\n",
    "    correct_signs(\"3 < 7 < 11\") ➞ True\n",
    "\n",
    "    correct_signs(\"13 > 44 > 33 > 1\") ➞ False\n",
    "\n",
    "    correct_signs(\"1 < 2 < 6 < 9 > 3\") ➞ True\n",
    "\n",
    "3. Create a function that replaces all the vowels in a string with a specified character.\n",
    "    Examples\n",
    "    replace_vowels(\"the aardvark\", \"#\") ➞ \"th# ##rdv#rk\"\n",
    "\n",
    "    replace_vowels(\"minnie mouse\", \"?\") ➞ \"m?nn?? m??s?\"\n",
    "\n",
    "    replace_vowels(\"shakespeare\", \"*\") ➞ \"sh*k*sp**r*\"\n",
    "\n",
    "4. Write a function that calculates the factorial of a number recursively.\n",
    "    Examples\n",
    "    factorial(5) ➞ 120\n",
    "\n",
    "    factorial(3) ➞ 6\n",
    "\n",
    "    factorial(1) ➞ 1\n",
    "\n",
    "    factorial(0) ➞ 1\n",
    "\n",
    "5. Hamming distance is the number of characters that differ between two strings.\n",
    "    To illustrate:\n",
    "    String1: \"abcbba\"\n",
    "    String2: \"abcbda\"\n",
    "\n",
    "    Hamming Distance: 1 - \"b\" vs. \"d\" is the only difference.\n",
    "    Create a function that computes the hamming distance between two strings.\n",
    "    Examples\n",
    "    hamming_distance(\"abcde\", \"bcdef\") ➞ 5\n",
    "\n",
    "    hamming_distance(\"abcde\", \"abcde\") ➞ 0\n",
    "\n",
    "    hamming_distance(\"strong\", \"strung\") ➞ 1"
   ]
  },
  {
   "cell_type": "code",
   "execution_count": 2,
   "id": "157988ff",
   "metadata": {},
   "outputs": [
    {
     "name": "stdout",
     "output_type": "stream",
     "text": [
      "Enter the lower bound (a) for set 1: 1\n",
      "Enter the upper bound (b) for set 1: 10\n",
      "Enter the divisor (c) for set 1: 20\n",
      "The sum of numbers in the range [1, 10] that are divisible by 20 is 0.\n",
      "Enter the lower bound (a) for set 2: 1\n",
      "Enter the upper bound (b) for set 2: 10\n",
      "Enter the divisor (c) for set 2: 2\n",
      "The sum of numbers in the range [1, 10] that are divisible by 2 is 30.\n",
      "Enter the lower bound (a) for set 3: 1\n",
      "Enter the upper bound (b) for set 3: 10\n",
      "Enter the divisor (c) for set 3: 3\n",
      "The sum of numbers in the range [1, 10] that are divisible by 3 is 18.\n",
      "Enter the lower bound (a) for set 4: 3\n",
      "Enter the upper bound (b) for set 4: 5\n",
      "Enter the divisor (c) for set 4: 8\n",
      "The sum of numbers in the range [3, 5] that are divisible by 8 is 0.\n",
      "Enter the lower bound (a) for set 5: 1\n",
      "Enter the upper bound (b) for set 5: 20\n",
      "Enter the divisor (c) for set 5: 1\n",
      "The sum of numbers in the range [1, 20] that are divisible by 1 is 210.\n"
     ]
    }
   ],
   "source": [
    "'''Ans 1:- The code uses a for loop to iterate for up to 5 sets of a,\n",
    "b, and c.  For each set, it prompts the user to input the\n",
    "lower bound a, upper bound b, and divisor c.  It calls the\n",
    "sum_divisible_by_c function to calculate the sum of numbers within that range\n",
    "that are divisible by c.  The program then prints the sum for\n",
    "each set.  This code allows the user to input up to 5 sets of\n",
    "ranges and divisors, and it calculates and prints the sum of\n",
    "numbers within each range that are divisible by the respective\n",
    "divisor.'''\n",
    "\n",
    "def sum_divisible_by_c(a, b, c):\n",
    "    total = 0\n",
    "    for num in range(a, b + 1):\n",
    "        if num % c == 0:\n",
    "            total += num\n",
    "    return total\n",
    "\n",
    "# Iterate for up to 5 sets of a, b, and c\n",
    "for i in range(5):\n",
    "    a = int(input(f\"Enter the lower bound (a) for set {i + 1}: \"))\n",
    "    b = int(input(f\"Enter the upper bound (b) for set {i + 1}: \"))\n",
    "    c = int(input(f\"Enter the divisor (c) for set {i + 1}: \"))\n",
    "\n",
    "    result = sum_divisible_by_c(a, b, c)\n",
    "    print(f\"The sum of numbers in the range [{a}, {b}] that are divisible by {c} is {result}.\")"
   ]
  },
  {
   "cell_type": "code",
   "execution_count": 4,
   "id": "eac6618c",
   "metadata": {},
   "outputs": [
    {
     "name": "stdout",
     "output_type": "stream",
     "text": [
      "Enter inequality expression 1 (e.g., 5 > 3): 3 < 7 < 11\n",
      "The inequality expression '3 < 7 < 11' is True\n",
      "Enter inequality expression 2 (e.g., 5 > 3): 3 > 44 > 33 > 1\n",
      "The inequality expression '3 > 44 > 33 > 1' is False.\n",
      "Enter inequality expression 3 (e.g., 5 > 3): 1 < 2 < 6 < 9 > 3\n",
      "The inequality expression '1 < 2 < 6 < 9 > 3' is True\n",
      "Enter inequality expression 4 (e.g., 5 > 3): 5>3\n",
      "The inequality expression '5>3' is True\n",
      "Enter inequality expression 5 (e.g., 5 > 3): 8 < 9 < 10 < 100\n",
      "The inequality expression '8 < 9 < 10 < 100' is True\n"
     ]
    }
   ],
   "source": [
    "'''Ans 2:- The code uses a for loop to iterate for up to 5 inequality\n",
    "expressions.  For each iteration, it prompts the user to input an\n",
    "inequality expression.  It checks if the input is empty (if the user\n",
    "presses Enter), and if so, the loop exits.  It calls the\n",
    "is_inequality_correct function to evaluate the inequality expression and prints\n",
    "whether it's correct or not.  This code allows the user to input\n",
    "up to 5 inequality expressions, and it evaluates and prints\n",
    "the correctness of each expression using the provided\n",
    "function.'''\n",
    "\n",
    "def is_inequality_correct(expression):\n",
    "    try:\n",
    "        result = eval(expression)\n",
    "        return result\n",
    "    except Exception as e:\n",
    "        return False\n",
    "\n",
    "for i in range(5):\n",
    "    expression = input(f\"Enter inequality expression {i + 1} (e.g., 5 > 3): \")\n",
    "    \n",
    "    if not expression:\n",
    "        break\n",
    "    \n",
    "    if is_inequality_correct(expression):\n",
    "        print(f\"The inequality expression '{expression}' is True\")\n",
    "    else:\n",
    "        print(f\"The inequality expression '{expression}' is False.\")"
   ]
  },
  {
   "cell_type": "code",
   "execution_count": 1,
   "id": "a42f1bdd",
   "metadata": {},
   "outputs": [
    {
     "name": "stdout",
     "output_type": "stream",
     "text": [
      "th# ##rdv#rk, m?nn?? m??s?, sh*k*sp**r*\n"
     ]
    }
   ],
   "source": [
    "'''Ans 3:- The replace_vowels function takes two arguments:\n",
    "input_string (the input string) and replacement_character (the\n",
    "character to replace vowels with).  It defines a string vowels\n",
    "containing both uppercase and lowercase vowels.  It initializes an\n",
    "empty string result to store the modified string.  It iterates\n",
    "through each character in the input string. If the character is in\n",
    "the vowels string, it appends the replacement_character to the\n",
    "result otherwise, it appends the original character.  The\n",
    "modified string is returned as the result.'''\n",
    "\n",
    "def replace_vowels(input_string, replacement_character):\n",
    "    vowels = \"AEIOUaeiou\"  # List of vowels\n",
    "    result = \"\"\n",
    "    \n",
    "    for char in input_string:\n",
    "        if char in vowels:\n",
    "            result += replacement_character\n",
    "        else:\n",
    "            result += char\n",
    "    \n",
    "    return result\n",
    "\n",
    "example1 = replace_vowels(\"the aardvark\", \"#\")\n",
    "example2 = replace_vowels(\"minnie mouse\", \"?\")\n",
    "example3 = replace_vowels(\"shakespeare\", \"*\")\n",
    "\n",
    "print(f\"{example1}, {example2}, {example3}\")"
   ]
  },
  {
   "cell_type": "code",
   "execution_count": 5,
   "id": "358478e7",
   "metadata": {},
   "outputs": [
    {
     "name": "stdout",
     "output_type": "stream",
     "text": [
      "Enter a non-negative integer: 3\n",
      "The factorial of 3 is 6.\n",
      "Enter a non-negative integer: 1\n",
      "The factorial of 1 is 1.\n",
      "Enter a non-negative integer: 0\n",
      "The factorial of 0 is 1.\n"
     ]
    }
   ],
   "source": [
    "'''Ans 4:- The factorial_recursive function takes an integer n as\n",
    "input.  It includes a base case: if n is 0, it returns 1, as the\n",
    "factorial of 0 is defined to be 1.  For non-zero n, it recursively\n",
    "calls itself with n - 1 and multiplies the result by n to\n",
    "calculate the factorial.  An example usage allows the user to input\n",
    "a non-negative integer. If the input is negative, it prompts\n",
    "the user to enter a non-negative integer. Otherwise, it\n",
    "calculates and prints the factorial using the recursive function.'''\n",
    "\n",
    "def factorial_recursive(n):\n",
    "    if n == 0:\n",
    "        return 1  # Base case: factorial of 0 is 1\n",
    "    else:\n",
    "        return n * factorial_recursive(n - 1)\n",
    "\n",
    "for i in range (3):\n",
    "    number = int(input(\"Enter a non-negative integer: \"))\n",
    "    if number < 0:\n",
    "        print(\"Please enter a non-negative integer.\")\n",
    "    else:\n",
    "        result = factorial_recursive(number)\n",
    "        print(f\"The factorial of {number} is {result}.\")"
   ]
  },
  {
   "cell_type": "code",
   "execution_count": 1,
   "id": "9f5c5a86",
   "metadata": {},
   "outputs": [
    {
     "name": "stdout",
     "output_type": "stream",
     "text": [
      "Enter the first string for pair 1: abcde\n",
      "Enter the second string for pair 1: bcdef\n",
      "The Hamming distance between 'abcde' and 'bcdef' is 5.\n",
      "Enter the first string for pair 2: abcde\n",
      "Enter the second string for pair 2: abcde\n",
      "The Hamming distance between 'abcde' and 'abcde' is 0.\n",
      "Enter the first string for pair 3: strong\n",
      "Enter the second string for pair 3: strung\n",
      "The Hamming distance between 'strong' and 'strung' is 1.\n"
     ]
    }
   ],
   "source": [
    "'''Ans 5:- The code uses a for loop to iterate for up to 3 pairs of\n",
    "strings.  For each pair, it prompts the user to input the first and\n",
    "second strings.  It calls the hamming_distance function to\n",
    "calculate the Hamming distance between the two strings.  The program\n",
    "then prints the Hamming distance for each pair of strings, or a\n",
    "message if the lengths are different.'''\n",
    "\n",
    "def hamming_distance(string1, string2):\n",
    "    # Check if the strings have the same length\n",
    "    if len(string1) != len(string2):\n",
    "        return None \n",
    "    \n",
    "    distance = 0\n",
    "    for i in range(len(string1)):\n",
    "        if string1[i] != string2[i]:\n",
    "            distance += 1\n",
    "    return distance\n",
    "\n",
    "for i in range(3):\n",
    "    string1 = input(f\"Enter the first string for pair {i + 1}: \")\n",
    "    string2 = input(f\"Enter the second string for pair {i + 1}: \")\n",
    "\n",
    "    result = hamming_distance(string1, string2)\n",
    "\n",
    "    if result is None:\n",
    "        print(\"Hamming distance is undefined for strings of different lengths.\")\n",
    "    else:\n",
    "        print(f\"The Hamming distance between '{string1}' and '{string2}' is {result}.\")"
   ]
  }
 ],
 "metadata": {
  "kernelspec": {
   "display_name": "Python 3 (ipykernel)",
   "language": "python",
   "name": "python3"
  },
  "language_info": {
   "codemirror_mode": {
    "name": "ipython",
    "version": 3
   },
   "file_extension": ".py",
   "mimetype": "text/x-python",
   "name": "python",
   "nbconvert_exporter": "python",
   "pygments_lexer": "ipython3",
   "version": "3.10.9"
  }
 },
 "nbformat": 4,
 "nbformat_minor": 5
}
