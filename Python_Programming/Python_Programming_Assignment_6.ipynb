{
 "cells": [
  {
   "cell_type": "markdown",
   "id": "3a38fe11",
   "metadata": {},
   "source": [
    "## Python_Programming_Assignment_6\n",
    "1. Write a Python Program to Display Fibonacci Sequence Using Recursion?\n",
    "2. Write a Python Program to Find Factorial of Number Using Recursion?\n",
    "3. Write a Python Program to calculate your Body Mass Index?\n",
    "4. Write a Python Program to calculate the natural logarithm of any number?\n",
    "5. Write a Python Program for cube sum of first n natural numbers?"
   ]
  },
  {
   "cell_type": "code",
   "execution_count": 1,
   "id": "7e876b01",
   "metadata": {},
   "outputs": [
    {
     "name": "stdout",
     "output_type": "stream",
     "text": [
      "Enter the number of terms: 12\n",
      "Fibonacci Sequence:\n",
      "0 1 1 2 3 5 8 13 21 34 55 89 "
     ]
    }
   ],
   "source": [
    "'''Ans 1:- Fibonacci Sequence Using Recursion: The program uses a\n",
    "recursive function to compute the Fibonacci sequence. It takes an\n",
    "input number of terms, and for each term, calculates its value\n",
    "by recursively summing the previous two terms. The sequence\n",
    "is displayed iteratively.'''\n",
    "\n",
    "def fibonacci_recursive(n):\n",
    "    if n <= 0:\n",
    "        return 0\n",
    "    elif n == 1:\n",
    "        return 1\n",
    "    else:\n",
    "        return fibonacci_recursive(n - 1) + fibonacci_recursive(n - 2)\n",
    "\n",
    "def display_fibonacci_sequence(n):\n",
    "    if n <= 0:\n",
    "        print(\"Invalid input. Please enter a positive integer.\")\n",
    "        return\n",
    "    \n",
    "    print(\"Fibonacci Sequence:\")\n",
    "    for i in range(n):\n",
    "        print(fibonacci_recursive(i), end=\" \")\n",
    "\n",
    "\n",
    "num_terms = int(input(\"Enter the number of terms: \"))\n",
    "display_fibonacci_sequence(num_terms)"
   ]
  },
  {
   "cell_type": "code",
   "execution_count": 5,
   "id": "310ced47",
   "metadata": {},
   "outputs": [
    {
     "name": "stdout",
     "output_type": "stream",
     "text": [
      "Enter a number: 14\n",
      "The factorial of 14 is 87178291200\n"
     ]
    }
   ],
   "source": [
    "'''Ans 2:- Factorial Using Recursion: This program calculates the\n",
    "factorial of a given number using recursion. If the number is 0 or\n",
    "1, the factorial is 1. Otherwise, the factorial is computed\n",
    "by multiplying the number with the factorial of the preceding\n",
    "number, achieved through recursive calls.\n",
    "\n",
    "'''\n",
    "def factorial_recursive(n):\n",
    "    if n == 0 or n == 1:\n",
    "        return 1\n",
    "    else:\n",
    "        return n * factorial_recursive(n - 1)\n",
    "\n",
    "# Input the number\n",
    "num = int(input(\"Enter a number: \"))\n",
    "\n",
    "if num < 0:\n",
    "    print(\"Factorial is not defined for negative numbers.\")\n",
    "else:\n",
    "    result = factorial_recursive(num)\n",
    "    print(f\"The factorial of {num} is {result}\")"
   ]
  },
  {
   "cell_type": "code",
   "execution_count": 11,
   "id": "df85fff9",
   "metadata": {},
   "outputs": [
    {
     "name": "stdout",
     "output_type": "stream",
     "text": [
      "Enter your weight in kg: 78\n",
      "Enter your height in meters: 1.85\n",
      "Your Body Mass Index (BMI) is 22.79\n"
     ]
    }
   ],
   "source": [
    "'''Ans 3:- This program calculates Body Mass Index (BMI) by taking\n",
    "user inputs for weight in kilograms and height in meters. The\n",
    "calculate_bmi function computes BMI using the formula weight / (height\n",
    "** 2). User inputs are processed, and the calculated BMI is\n",
    "printed with two decimal places, providing an indicator of one's\n",
    "body weight in relation to height, which can help assess health\n",
    "and fitness levels.\n",
    "\n",
    "'''\n",
    "\n",
    "def calculate_bmi(weight, height):\n",
    "    return weight / (height ** 2)\n",
    "\n",
    "weight = float(input(\"Enter your weight in kg: \"))\n",
    "height = float(input(\"Enter your height in meters: \"))\n",
    "\n",
    "bmi = calculate_bmi(weight, height)\n",
    "print(f\"Your Body Mass Index (BMI) is {bmi:.2f}\")"
   ]
  },
  {
   "cell_type": "code",
   "execution_count": 15,
   "id": "e86d7bb6",
   "metadata": {},
   "outputs": [
    {
     "name": "stdout",
     "output_type": "stream",
     "text": [
      "Enter a number: 87\n",
      "The natural logarithm of 87.0 is 4.47\n"
     ]
    }
   ],
   "source": [
    "'''Ans 4:- The program uses the math module to calculate the natural\n",
    "logarithm of a user-entered number. It imports the math module,\n",
    "takes a number as input, calculates its natural logarithm using\n",
    "math.log(), and then prints the result with two decimal places. This\n",
    "helps determine the value of the natural logarithm for a given\n",
    "number.'''\n",
    "\n",
    "import math\n",
    "\n",
    "number = float(input(\"Enter a number: \"))\n",
    "natural_log = math.log(number)\n",
    "\n",
    "print(f\"The natural logarithm of {number} is {natural_log:.2f}\")"
   ]
  },
  {
   "cell_type": "code",
   "execution_count": 16,
   "id": "e6ac72ea",
   "metadata": {},
   "outputs": [
    {
     "name": "stdout",
     "output_type": "stream",
     "text": [
      "Enter a number: 54\n",
      "The cube sum of the first 54 natural numbers is 2205225\n"
     ]
    }
   ],
   "source": [
    "'''5:- The program calculates the cube sum of the first n natural\n",
    "numbers using the formula of the sum of consecutive cubes. The\n",
    "function cube_sum() computes the sum, and user input determines the\n",
    "value of n. The result is displayed as the cube sum of the\n",
    "specified number of natural numbers.'''\n",
    "\n",
    "def cube_sum(n):\n",
    "    return (n * (n + 1) // 2) ** 2\n",
    "\n",
    "n = int(input(\"Enter a number: \"))\n",
    "result = cube_sum(n)\n",
    "print(f\"The cube sum of the first {n} natural numbers is {result}\")"
   ]
  }
 ],
 "metadata": {
  "kernelspec": {
   "display_name": "Python 3 (ipykernel)",
   "language": "python",
   "name": "python3"
  },
  "language_info": {
   "codemirror_mode": {
    "name": "ipython",
    "version": 3
   },
   "file_extension": ".py",
   "mimetype": "text/x-python",
   "name": "python",
   "nbconvert_exporter": "python",
   "pygments_lexer": "ipython3",
   "version": "3.10.9"
  }
 },
 "nbformat": 4,
 "nbformat_minor": 5
}
