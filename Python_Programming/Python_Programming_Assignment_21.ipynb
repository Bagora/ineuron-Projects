{
 "cells": [
  {
   "cell_type": "markdown",
   "id": "2bee5026",
   "metadata": {},
   "source": [
    "## Python_Programming_Assignment_21\n",
    "1. Write a function that takes a list and a number as arguments. Add the number to the end of the list, then remove the first element of the list. The function should then return the updated list.\n",
    "    Examples\n",
    "    next_in_line([5, 6, 7, 8, 9], 1) ➞ [6, 7, 8, 9, 1]\n",
    "\n",
    "    next_in_line([7, 6, 3, 23, 17], 10) ➞ [6, 3, 23, 17, 10]\n",
    "\n",
    "    next_in_line([1, 10, 20, 42 ], 6) ➞ [10, 20, 42, 6]\n",
    "\n",
    "    next_in_line([], 6) ➞ \"No list has been selected\"\n",
    "\n",
    "2. Create the function that takes a list of dictionaries and returns the sum of people's budgets.\n",
    "    Examples\n",
    "    get_budgets([\n",
    "      { \"name\": \"John\", \"age\": 21, \"budget\": 23000 },\n",
    "      { \"name\": \"Steve\",  \"age\": 32, \"budget\": 40000 },\n",
    "      { \"name\": \"Martin\",  \"age\": 16, \"budget\": 2700 }\n",
    "    ]) ➞ 65700\n",
    "\n",
    "    get_budgets([\n",
    "      { \"name\": \"John\",  \"age\": 21, \"budget\": 29000 },\n",
    "      { \"name\": \"Steve\",  \"age\": 32, \"budget\": 32000 },\n",
    "      { \"name\": \"Martin\",  \"age\": 16, \"budget\": 1600 }\n",
    "    ]) ➞ 62600\n",
    "\n",
    "3. Create a function that takes a string and returns a string with its letters in alphabetical order.\n",
    "    Examples\n",
    "    alphabet_soup(\"hello\") ➞ \"ehllo\"\n",
    "\n",
    "    alphabet_soup(\"edabit\") ➞ \"abdeit\"\n",
    "\n",
    "    alphabet_soup(\"hacker\") ➞ \"acehkr\"\n",
    "\n",
    "    alphabet_soup(\"geek\") ➞ \"eegk\"\n",
    "\n",
    "    alphabet_soup(\"javascript\") ➞ \"aacijprstv\"\n",
    "\n",
    "4. Suppose that you invest $10,000 for 10 years at an\n",
    "interest rate of '6 percent compounded monthly. What will be the\n",
    "value of your investment at the end of the 10 year period?\n",
    "Create a function that accepts the principal p, the term in years\n",
    "t, the interest rate r, and the number of compounding periods\n",
    "per year n. The function returns the value at the end of term\n",
    "rounded to the nearest cent. For the example above:\n",
    "compound_interest(10000, 10, 0.06, 12) ➞ 18193.97 Note that the interest rate is\n",
    "given as a decimal and n=12 because with monthly compounding\n",
    "there are 12 periods per year. Compounding can also be done\n",
    "annually, quarterly, weekly, or daily. Examples\n",
    "compound_interest(100, 1, 0.05, 1) ➞ 105.0  compound_interest(3500, 15, 0.1, 4) ➞\n",
    "15399.26  compound_interest(100000, 20, 0.15, 365) ➞ 2007316.26\n",
    "\n",
    "5. Write a function that takes a list of elements and returns only the integers.\n",
    "    Examples\n",
    "    return_only_integer([9, 2, \"space\", \"car\", \"lion\", 16]) ➞ [9, 2, 16]\n",
    "\n",
    "    return_only_integer([\"hello\", 81, \"basketball\", 123, \"fox\"]) ➞ [81, 123]\n",
    "\n",
    "    return_only_integer([10, \"121\", 56, 20, \"car\", 3, \"lion\"]) ➞ [10, 56, 20, 3]\n",
    "\n",
    "    return_only_integer([\"String\",  True,  3.3,  1]) ➞ [1]"
   ]
  },
  {
   "cell_type": "code",
   "execution_count": 7,
   "id": "c07a9125",
   "metadata": {},
   "outputs": [
    {
     "name": "stdout",
     "output_type": "stream",
     "text": [
      "[6, 7, 8, 9, 1]\n",
      "[6, 3, 23, 17, 10]\n",
      "[10, 20, 42, 6]\n",
      "No list has been selected\n"
     ]
    }
   ],
   "source": [
    "'''Ans 1:- The next_in_line function takes two arguments: lst, which\n",
    "is the list to be modified, and num, which is the number to\n",
    "be added to the end of the list.  It first checks if the list\n",
    "is empty. If it's empty, the function returns the string \"No\n",
    "list has been selected\" as specified in the last example.  If\n",
    "the list is not empty, it appends num to the end of the list\n",
    "using lst.append(num).  It then removes the first element of the\n",
    "list using lst.pop(0).  Finally, the function returns the\n",
    "updated list.'''\n",
    "\n",
    "def next_in_line(lst, num):\n",
    "    if not lst:\n",
    "        return \"No list has been selected\"\n",
    "    lst.append(num)\n",
    "    lst.pop(0)\n",
    "    return lst\n",
    "\n",
    "print(next_in_line([5, 6, 7, 8, 9], 1))\n",
    "print(next_in_line([7, 6, 3, 23, 17], 10))\n",
    "print(next_in_line([1, 10, 20, 42], 6))\n",
    "print(next_in_line([], 6))"
   ]
  },
  {
   "cell_type": "code",
   "execution_count": 10,
   "id": "0d402dae",
   "metadata": {},
   "outputs": [
    {
     "name": "stdout",
     "output_type": "stream",
     "text": [
      "Enter name (or press Enter to calculate total): John\n",
      "Enter age: 21\n",
      "Enter budget: 23000\n",
      "Enter name (or press Enter to calculate total): Steve\n",
      "Enter age: 32\n",
      "Enter budget: 40000\n",
      "Enter name (or press Enter to calculate total): Martin\n",
      "Enter age: 16\n",
      "Enter budget: 2700\n",
      "Enter name (or press Enter to calculate total): \n",
      "Total budget: $65700.00\n"
     ]
    }
   ],
   "source": [
    "'''Ans 2:- An empty list people_list is initialized to store people\n",
    "and their budgets.  A while loop is used to continuously input\n",
    "people and their budgets until the user presses Enter to\n",
    "calculate the total.  Within the loop, the user is asked to enter a\n",
    "name, age, and budget for each person. If the user enters an\n",
    "empty name, the loop breaks. If the user enters invalid age or\n",
    "budget values, an error message is displayed.  Each person's\n",
    "information is added to the people_list as a dictionary.  After\n",
    "exiting the loop, the get_budgets function is called to calculate\n",
    "the total budgets, and the result is printed.'''\n",
    "\n",
    "# Test case 1\n",
    "def get_budgets(people):\n",
    "    total_budget = 0\n",
    "    for person in people:\n",
    "        total_budget += person['budget']\n",
    "    return total_budget\n",
    "\n",
    "# Initialize an empty list to store people and their budgets\n",
    "people_list = []\n",
    "\n",
    "# Input people and budgets until the user decides to stop\n",
    "while True:\n",
    "    name = input(\"Enter name (or press Enter to calculate total): \")\n",
    "    if not name:\n",
    "        break\n",
    "    \n",
    "    try:\n",
    "        age = int(input(\"Enter age: \"))\n",
    "        budget = float(input(\"Enter budget: \"))\n",
    "        people_list.append({\"name\": name, \"age\": age, \"budget\": budget})\n",
    "    except ValueError:\n",
    "        print(\"Invalid input. Please enter valid age and budget.\")\n",
    "\n",
    "# Calculate the total budgets\n",
    "total = get_budgets(people_list)\n",
    "print(f'Total budget: ${total:.2f}')"
   ]
  },
  {
   "cell_type": "code",
   "execution_count": 13,
   "id": "d284cf90",
   "metadata": {},
   "outputs": [
    {
     "name": "stdout",
     "output_type": "stream",
     "text": [
      "Enter name (or press Enter to calculate total): John\n",
      "Enter age: 21\n",
      "Enter budget: 29000\n",
      "Enter name (or press Enter to calculate total): Steve\n",
      "Enter age: 32\n",
      "Enter budget: 32000\n",
      "Enter name (or press Enter to calculate total): Martin\n",
      "Enter age: 16\n",
      "Enter budget: 1600\n",
      "Enter name (or press Enter to calculate total): \n",
      "Total budget: $62600.00\n"
     ]
    }
   ],
   "source": [
    "# Test case 2\n",
    "\n",
    "def get_budgets(people):\n",
    "    total_budget = 0\n",
    "    for person in people:\n",
    "        total_budget += person['budget']\n",
    "    return total_budget\n",
    "\n",
    "# Initialize an empty list to store people and their budgets\n",
    "people_list = []\n",
    "\n",
    "# Input people and budgets until the user decides to stop\n",
    "while True:\n",
    "    name = input(\"Enter name (or press Enter to calculate total): \")\n",
    "    if not name:\n",
    "        break\n",
    "    \n",
    "    try:\n",
    "        age = int(input(\"Enter age: \"))\n",
    "        budget = float(input(\"Enter budget: \"))\n",
    "        people_list.append({\"name\": name, \"age\": age, \"budget\": budget})\n",
    "    except ValueError:\n",
    "        print(\"Invalid input. Please enter valid age and budget.\")\n",
    "\n",
    "# Calculate the total budgets\n",
    "total = get_budgets(people_list)\n",
    "print(f'Total budget: ${total:.2f}')"
   ]
  },
  {
   "cell_type": "code",
   "execution_count": 4,
   "id": "95516d7f",
   "metadata": {},
   "outputs": [
    {
     "name": "stdout",
     "output_type": "stream",
     "text": [
      "['ehllo', 'abdeit', 'acehkr', 'eegk', 'aacijprstv']\n"
     ]
    }
   ],
   "source": [
    "'''Ans 3:- The alphabet_soup function takes an input string, sorts\n",
    "its characters alphabetically, and returns the sorted string. \n",
    "The code then creates a list called output by applying the\n",
    "alphabet_soup function to five different input strings.  Finally, it\n",
    "prints the output list, displaying the sorted strings for each\n",
    "input.'''\n",
    "\n",
    "def alphabet_soup(input_string):\n",
    "    sorted_string = \"\".join(sorted(input_string))\n",
    "    return sorted_string\n",
    "\n",
    "output = [alphabet_soup(\"hello\"),\n",
    "          alphabet_soup(\"edabit\"),\n",
    "          alphabet_soup(\"hacker\"),\n",
    "          alphabet_soup(\"geek\"),\n",
    "          alphabet_soup(\"javascript\")]\n",
    "\n",
    "print(output)"
   ]
  },
  {
   "cell_type": "code",
   "execution_count": 3,
   "id": "3fb072a9",
   "metadata": {},
   "outputs": [
    {
     "name": "stdout",
     "output_type": "stream",
     "text": [
      "[18193.97, 105.0, 15399.26, 2007316.26]\n"
     ]
    }
   ],
   "source": [
    "'''Ans 4:- In this code, we calculate the compound interest for each\n",
    "set of inputs and store the results in the results list. Then,\n",
    "we iterate through the list and print each result. This way,\n",
    "the compound_interest function is called once for each case,\n",
    "and the results are collected in the list for later use.'''\n",
    "\n",
    "def compound_interest(p, t, r, n):\n",
    "    # Calculate the compound interest\n",
    "    amount = p * (1 + (r / n)) ** (n * t)\n",
    "    \n",
    "    # Round the result to the nearest cent\n",
    "    return round(amount, 2)\n",
    "\n",
    "# Example usages\n",
    "results = [\n",
    "    compound_interest(10000, 10, 0.06, 12),\n",
    "    compound_interest(100, 1, 0.05, 1),\n",
    "    compound_interest(3500, 15, 0.1, 4),\n",
    "    compound_interest(100000, 20, 0.15, 365)\n",
    "]\n",
    "print(results)"
   ]
  },
  {
   "cell_type": "code",
   "execution_count": 8,
   "id": "99dded79",
   "metadata": {},
   "outputs": [
    {
     "name": "stdout",
     "output_type": "stream",
     "text": [
      "Enter elements for list 1 (comma-separated): 9, 2, \"space\", \"car\", \"lion\", 16\n",
      "Enter elements for list 2 (comma-separated): \"hello\", 81, \"basketball\", 123, \"fox\"\n",
      "Enter elements for list 3 (comma-separated): 10, \"121\", 56, 20, \"car\", 3, \"lion\"\n",
      "Enter elements for list 4 (comma-separated): \"String\", True, 3.3, 1\n",
      "Enter elements for list 5 (comma-separated): False, 7, 9, 0, \"\"\n",
      "Integers in list 1: [9, 2, 16]\n",
      "Integers in list 2: [81, 123]\n",
      "Integers in list 3: [10, 56, 20, 3]\n",
      "Integers in list 4: [1]\n",
      "Integers in list 5: [7, 9, 0]\n"
     ]
    }
   ],
   "source": [
    "'''Ans 5:-Here we use a try and except block to\n",
    "catch the ValueError that occurs when trying to convert a\n",
    "non-integer element to an integer. If an element cannot be converted\n",
    "to an integer, we simply skip it and continue processing the\n",
    "rest of the elements in the list. This should handle cases\n",
    "where the user enters a mix of integers and non-integer\n",
    "elements'''\n",
    "\n",
    "def filter_integers(elements):\n",
    "    integers_only = []\n",
    "    for element in elements:\n",
    "        try:\n",
    "            num = int(element)\n",
    "            integers_only.append(num)\n",
    "        except ValueError:\n",
    "            # Skip non-integer elements\n",
    "            pass\n",
    "    return integers_only\n",
    "\n",
    "# Example usage\n",
    "input_lists = []\n",
    "\n",
    "# Get user input for multiple lists\n",
    "for i in range(5):\n",
    "    user_input = input(f\"Enter elements for list {i + 1} (comma-separated): \")\n",
    "    elements = [x.strip() for x in user_input.split(\",\")]\n",
    "    input_lists.append(elements)\n",
    "\n",
    "# Filter and print integers from each list\n",
    "for i, elements in enumerate(input_lists):\n",
    "    integer_list = filter_integers(elements)\n",
    "    print(f\"Integers in list {i + 1}: {integer_list}\")"
   ]
  }
 ],
 "metadata": {
  "kernelspec": {
   "display_name": "Python 3 (ipykernel)",
   "language": "python",
   "name": "python3"
  },
  "language_info": {
   "codemirror_mode": {
    "name": "ipython",
    "version": 3
   },
   "file_extension": ".py",
   "mimetype": "text/x-python",
   "name": "python",
   "nbconvert_exporter": "python",
   "pygments_lexer": "ipython3",
   "version": "3.10.9"
  }
 },
 "nbformat": 4,
 "nbformat_minor": 5
}
