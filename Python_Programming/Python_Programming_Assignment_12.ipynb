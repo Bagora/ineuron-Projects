{
 "cells": [
  {
   "cell_type": "markdown",
   "id": "50fd6d36",
   "metadata": {},
   "source": [
    "## Python_Programming_Assignment_12\n",
    "1. Write a Python program to Extract Unique values dictionary values?\n",
    "2. Write a Python program to find the sum of all items in a dictionary?\n",
    "3. Write a Python program to Merging two Dictionaries?\n",
    "4. Write a Python program to convert key-values list to flat dictionary?\n",
    "5. Write a Python program to insertion at the beginning in OrderedDict?\n",
    "6. Write a Python program to check order of character in string using OrderedDict()?\n",
    "7. Write a Python program to sort Python Dictionaries by Key or Value?"
   ]
  },
  {
   "cell_type": "code",
   "execution_count": 2,
   "id": "feecbc1d",
   "metadata": {},
   "outputs": [
    {
     "name": "stdout",
     "output_type": "stream",
     "text": [
      "Unique Values:- {1, 2, 3, 4, 5}\n"
     ]
    }
   ],
   "source": [
    "'''Ans 1:- The extract_unique_values function takes a dictionary as\n",
    "input.  It initializes an empty set called unique_values to store\n",
    "the unique values.  The program iterates through the values of\n",
    "the dictionary using a loop and uses the update method to add\n",
    "these values to the unique_values set.  The unique_values set\n",
    "will automatically remove duplicates, giving you a set of\n",
    "unique values from the dictionary.  An example usage of the\n",
    "function is provided, where it extracts and prints the unique\n",
    "values from the given dictionary.  This program efficiently\n",
    "extracts and displays the unique values found in the values of a\n",
    "dictionary.'''\n",
    "\n",
    "def extract_unique_values(dictionary):\n",
    "    unique_values = set()\n",
    "    for value in dictionary.values():\n",
    "        unique_values.update(value)\n",
    "    return unique_values\n",
    "\n",
    "my_dict = {\n",
    "    'a': [1, 2, 3],\n",
    "    'b': [2, 3, 4],\n",
    "    'c': [3, 4, 5]\n",
    "}\n",
    "\n",
    "print(f\"Unique Values:- {extract_unique_values(my_dict)}\")"
   ]
  },
  {
   "cell_type": "code",
   "execution_count": 4,
   "id": "e8d007dc",
   "metadata": {},
   "outputs": [
    {
     "name": "stdout",
     "output_type": "stream",
     "text": [
      "Sum of all items in the dictionary:- 60\n"
     ]
    }
   ],
   "source": [
    "'''Ans 2:- The sum_dictionary_values function takes a dictionary as\n",
    "input.  It uses the sum() function to calculate the sum of all\n",
    "values in the dictionary.  The total sum is returned as the\n",
    "result.  An example usage of the function is provided, where it\n",
    "calculates and prints the sum of all items in the given dictionary. \n",
    "This program efficiently calculates the sum of all values in a\n",
    "dictionary.'''\n",
    "\n",
    "def sum_dictionary_values(dictionary):\n",
    "    total_sum = sum(dictionary.values())\n",
    "    return total_sum\n",
    "\n",
    "my_dict = {\n",
    "    'a': 10,\n",
    "    'b': 20,\n",
    "    'c': 30\n",
    "}\n",
    "\n",
    "print(f\"Sum of all items in the dictionary:- {sum_dictionary_values(my_dict)}\")"
   ]
  },
  {
   "cell_type": "code",
   "execution_count": 12,
   "id": "4aea949c",
   "metadata": {},
   "outputs": [
    {
     "name": "stdout",
     "output_type": "stream",
     "text": [
      "Merged Dictionary Using the update() method:- {'a': 1, 'b': 3, 'c': 4}\n",
      "Merged Dictionary Using dictionary unpacking:- {'a': 1, 'b': 3, 'c': 4}\n",
      "Merged Dictionary Using a dictionary comprehension:- {'a': 1, 'b': 3, 'c': 4}\n"
     ]
    }
   ],
   "source": [
    "'''Ans 3:- All three methods will merge the contents of two\n",
    "dictionaries into a new dictionary, with values from the second\n",
    "dictionary overwriting values from the first dictionary when there\n",
    "are key conflicts.'''\n",
    "\n",
    "# Using the update() method\n",
    "def merge_dictionaries(dict1, dict2):\n",
    "    merged_dict = dict1.copy() \n",
    "    merged_dict.update(dict2)\n",
    "    return merged_dict\n",
    "\n",
    "dict1 = {'a': 1, 'b': 2}\n",
    "dict2 = {'b': 3, 'c': 4}\n",
    "\n",
    "print(f\"Merged Dictionary Using the update() method:- {merge_dictionaries(dict1, dict2)}\")\n",
    "\n",
    "\n",
    "# Using dictionary unpacking \n",
    "def merge_dictionaries(dict1, dict2):\n",
    "    merged_dict = {**dict1, **dict2}\n",
    "    return merged_dict\n",
    "\n",
    "print(f\"Merged Dictionary Using dictionary unpacking:- {merge_dictionaries(dict1, dict2)}\")\n",
    "\n",
    "\n",
    "# Using a dictionary comprehension \n",
    "def merge_dictionaries(dict1, dict2):\n",
    "    merged_dict = {key: value for d in (dict1, dict2) for key, value in d.items()}\n",
    "    return merged_dict\n",
    "\n",
    "print(f\"Merged Dictionary Using a dictionary comprehension:- {merge_dictionaries(dict1, dict2)}\")"
   ]
  },
  {
   "cell_type": "code",
   "execution_count": 15,
   "id": "e5923ebf",
   "metadata": {},
   "outputs": [
    {
     "name": "stdout",
     "output_type": "stream",
     "text": [
      "Flat Dictionary:- {'a': 1, 'b': 2, 'c': 3}\n"
     ]
    }
   ],
   "source": [
    "'''Ans 4:- The list_to_dict function takes a list of key-value pairs\n",
    "(key_value_list) as input.  It initializes an empty dictionary called\n",
    "flat_dict.  The program iterates through the key-value pairs in the\n",
    "input list and adds them to the flat_dict dictionary, where the\n",
    "key is the first element of each pair, and the value is the\n",
    "second element.  The resulting flat_dict contains all the\n",
    "key-value pairs from the input list.  An example usage of the\n",
    "function is provided, where it converts the key_value_list into a\n",
    "flat dictionary and prints the result.'''\n",
    "\n",
    "def list_to_dict(key_value_list):\n",
    "    flat_dict = {}\n",
    "    for key, value in key_value_list:\n",
    "        flat_dict[key] = value\n",
    "    return flat_dict\n",
    "\n",
    "key_value_list = [('a', 1), ('b', 2), ('c', 3)]\n",
    "print(f\"Flat Dictionary:- {list_to_dict(key_value_list)}\")"
   ]
  },
  {
   "cell_type": "code",
   "execution_count": 17,
   "id": "c3f96027",
   "metadata": {},
   "outputs": [
    {
     "name": "stdout",
     "output_type": "stream",
     "text": [
      "Original OrderedDict: OrderedDict([('a', 1), ('b', 2), ('c', 3)])\n",
      "OrderedDict after insertion at the beginning: OrderedDict([('x', 0), ('a', 1), ('b', 2), ('c', 3)])\n"
     ]
    }
   ],
   "source": [
    "'''Ans 5:- We import the OrderedDict class from the collections\n",
    "module.  The insert_at_beginning function takes three arguments:\n",
    "the OrderedDict, the key, and the value you want to insert. \n",
    "Inside the function, we add the new key-value pair to the\n",
    "OrderedDict using regular dictionary assignment.  We then use the\n",
    "move_to_end() method with the last=False argument to move the newly\n",
    "inserted key-value pair to the beginning of the OrderedDict. \n",
    "Example usage is provided, where we create an OrderedDict and then\n",
    "insert a key-value pair ('x', 0) at the beginning.  This program\n",
    "demonstrates how to insert a key-value pair at the beginning of an\n",
    "OrderedDict while preserving the order of other elements.'''\n",
    "\n",
    "from collections import OrderedDict\n",
    "\n",
    "def insert_at_beginning(ordered_dict, key, value):\n",
    "    ordered_dict[key] = value\n",
    "    ordered_dict.move_to_end(key, last=False)\n",
    "\n",
    "my_ordered_dict = OrderedDict([('a', 1), ('b', 2), ('c', 3)])\n",
    "\n",
    "print(\"Original OrderedDict:\", my_ordered_dict)\n",
    "\n",
    "insert_at_beginning(my_ordered_dict, 'x', 0)\n",
    "print(\"OrderedDict after insertion at the beginning:\", my_ordered_dict)"
   ]
  },
  {
   "cell_type": "code",
   "execution_count": 22,
   "id": "cc6175c9",
   "metadata": {},
   "outputs": [
    {
     "name": "stdout",
     "output_type": "stream",
     "text": [
      "The characters in 'py' occur in order within 'hello python'.\n"
     ]
    }
   ],
   "source": [
    "'''Ans 6:- The program checks if characters in a pattern occur in\n",
    "order within an input string using an OrderedDict. It\n",
    "initializes a dictionary with pattern characters, counts their\n",
    "occurrences, and tracks their order in the input string. If the order\n",
    "is maintained, it returns True; otherwise, it returns False.'''\n",
    "\n",
    "from collections import OrderedDict\n",
    "\n",
    "def check_order_of_characters(input_string, pattern):\n",
    "    char_order_dict = OrderedDict.fromkeys(pattern, 0)\n",
    "    pattern_length = len(pattern)\n",
    "    current_index = 0\n",
    "\n",
    "    for char in input_string:\n",
    "        if char in char_order_dict:\n",
    "            char_order_dict[char] += 1\n",
    "            if char_order_dict[char] == 1:\n",
    "                current_index += 1\n",
    "\n",
    "        if current_index == pattern_length:\n",
    "            return True\n",
    "\n",
    "    return False\n",
    "\n",
    "input_str = \"hello python\"\n",
    "pattern = \"py\"\n",
    "\n",
    "result = check_order_of_characters(input_str, pattern)\n",
    "if result:\n",
    "    print(f\"The characters in '{pattern}' occur in order within '{input_str}'.\")\n",
    "else:\n",
    "    print(f\"The characters in '{pattern}' do not occur in order within '{input_str}'.\")"
   ]
  },
  {
   "cell_type": "code",
   "execution_count": 25,
   "id": "d42f242c",
   "metadata": {},
   "outputs": [
    {
     "name": "stdout",
     "output_type": "stream",
     "text": [
      "Sorted by Key:- {'apple': 3, 'banana': 1, 'cherry': 2}\n",
      "Sorted by Value:- {'banana': 1, 'cherry': 2, 'apple': 3}\n"
     ]
    }
   ],
   "source": [
    "'''Ans 7:- sort_dict_by_key takes a dictionary and sorts it by keys\n",
    "using the sorted() function. It returns a new dictionary with\n",
    "keys sorted in ascending order.  sort_dict_by_value takes a\n",
    "dictionary and sorts it by values. It uses the key parameter of the\n",
    "sorted() function with a lambda function to specify sorting based\n",
    "on values.  Example usage is provided with the dictionary\n",
    "my_dict.  sorted_by_key and sorted_by_value are dictionaries\n",
    "containing the sorted results, either by keys or values.'''\n",
    "\n",
    "# Function to sort a dictionary by keys\n",
    "def sort_dict_by_key(input_dict):\n",
    "    return dict(sorted(input_dict.items()))\n",
    "\n",
    "# Function to sort a dictionary by values\n",
    "def sort_dict_by_value(input_dict):\n",
    "    return dict(sorted(input_dict.items(), key=lambda item: item[1]))\n",
    "\n",
    "my_dict = {'cherry': 2 ,'apple': 3, 'banana': 1, }\n",
    "\n",
    "print(f\"Sorted by Key:- {sort_dict_by_key(my_dict)}\")\n",
    "print(f\"Sorted by Value:- {sort_dict_by_value(my_dict)}\")"
   ]
  }
 ],
 "metadata": {
  "kernelspec": {
   "display_name": "Python 3 (ipykernel)",
   "language": "python",
   "name": "python3"
  },
  "language_info": {
   "codemirror_mode": {
    "name": "ipython",
    "version": 3
   },
   "file_extension": ".py",
   "mimetype": "text/x-python",
   "name": "python",
   "nbconvert_exporter": "python",
   "pygments_lexer": "ipython3",
   "version": "3.10.9"
  }
 },
 "nbformat": 4,
 "nbformat_minor": 5
}
