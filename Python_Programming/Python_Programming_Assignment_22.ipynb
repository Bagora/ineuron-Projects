{
 "cells": [
  {
   "cell_type": "markdown",
   "id": "5f54729f",
   "metadata": {},
   "source": [
    "## Python_Programming_Assignment_22\n",
    "1. Create a function that takes three parameters where:\n",
    "    •\tx is the start of the range (inclusive).\n",
    "    •\ty is the end of the range (inclusive).\n",
    "    •\tn is the divisor to be checked against.\n",
    "    Return an ordered list with numbers in the range that are divisible by the third parameter n. Return an empty list if there are no numbers that are divisible by n.\n",
    "    Examples\n",
    "    list_operation(1, 10, 3) ➞ [3, 6, 9]\n",
    "\n",
    "    list_operation(7, 9, 2) ➞ [8]\n",
    "\n",
    "    list_operation(15, 20, 7) ➞ []\n",
    "\n",
    "2. Create a function that takes in two lists and returns True if the second list follows the first list by one element, and False otherwise. In other words, determine if the second list is the first list shifted to the right by 1.\n",
    "    Examples\n",
    "    simon_says([1, 2], [5, 1]) ➞ True\n",
    "\n",
    "    simon_says([1, 2], [5, 5]) ➞ False\n",
    "\n",
    "    simon_says([1, 2, 3, 4, 5], [0, 1, 2, 3, 4]) ➞ True\n",
    "\n",
    "    simon_says([1, 2, 3, 4, 5], [5, 5, 1, 2, 3]) ➞ False\n",
    "    Notes\n",
    "    •\tBoth input lists will be of the same length, and will have a minimum length of 2.\n",
    "    •\tThe values of the 0-indexed element in the second list and the n-1th indexed element in the first list do not matter.\n",
    "\n",
    "3. A group of friends have decided to start a secret society. The name will be the first letter of each of their names, sorted in alphabetical order.\n",
    "    Create a function that takes in a list of names and returns the name of the secret society.\n",
    "    Examples\n",
    "    society_name([\"Adam\", \"Sarah\", \"Malcolm\"]) ➞ \"AMS\"\n",
    "\n",
    "    society_name([\"Harry\", \"Newt\", \"Luna\", \"Cho\"]) ➞ \"CHLN\"\n",
    "\n",
    "    society_name([\"Phoebe\", \"Chandler\", \"Rachel\", \"Ross\", \"Monica\", \"Joey\"])\n",
    "\n",
    "4. An isogram is a word that has no duplicate letters. Create a function that takes a string and returns either True or False depending on whether or not it's an \"isogram\".\n",
    "    Examples\n",
    "    is_isogram(\"Algorism\") ➞ True\n",
    "\n",
    "    is_isogram(\"PasSword\") ➞ False\n",
    "    Not case sensitive.\n",
    "\n",
    "    is_isogram(\"Consecutive\") ➞ False\n",
    "    Notes\n",
    "    •\tIgnore letter case (should not be case sensitive).\n",
    "    •\tAll test cases contain valid one word strings.\n",
    "\n",
    "5. Create a function that takes a string and returns True or False, depending on whether the characters are in order or not.\n",
    "    Examples\n",
    "    is_in_order(\"abc\") ➞ True\n",
    "\n",
    "    is_in_order(\"edabit\") ➞ False\n",
    "\n",
    "    is_in_order(\"123\") ➞ True\n",
    "\n",
    "    is_in_order(\"xyzz\") ➞ True\n",
    "    Notes\n",
    "    You don't have to handle empty strings."
   ]
  },
  {
   "cell_type": "code",
   "execution_count": 1,
   "id": "663e5847",
   "metadata": {},
   "outputs": [
    {
     "name": "stdout",
     "output_type": "stream",
     "text": [
      "[3, 6, 9]\n",
      "[8]\n",
      "[]\n"
     ]
    }
   ],
   "source": [
    "'''Ans 1:- We define the list_operation function with three\n",
    "parameters: x, y, and n. We initialize an empty list called\n",
    "divisible_numbers to store the divisible numbers we find. We use a for loop\n",
    "to iterate through the range from x to y (inclusive). Inside\n",
    "the loop, we check if each number in the range is divisible by\n",
    "n using the modulus operator (%). If a number is divisible\n",
    "by n, we append it to the divisible_numbers list. Finally, we\n",
    "return the list of divisible numbers.'''\n",
    "\n",
    "def list_operation(x, y, n):\n",
    "    divisible_numbers = []  # Initialize an empty list to store divisible numbers\n",
    "    \n",
    "    for number in range(x, y + 1):  # Iterate through the range from x to y (inclusive)\n",
    "        if number % n == 0:  # Check if the number is divisible by n\n",
    "            divisible_numbers.append(number)  # If divisible, add it to the list\n",
    "    \n",
    "    return divisible_numbers  # Return the list of divisible numbers\n",
    "\n",
    "print(list_operation(1, 10, 3))\n",
    "print(list_operation(7, 9, 2))   \n",
    "print(list_operation(15, 20, 7))"
   ]
  },
  {
   "cell_type": "code",
   "execution_count": 2,
   "id": "22b6cbfa",
   "metadata": {},
   "outputs": [
    {
     "name": "stdout",
     "output_type": "stream",
     "text": [
      "True\n",
      "False\n",
      "True\n",
      "False\n"
     ]
    }
   ],
   "source": [
    "'''Ans 2:- We check if the lists have the same length and contain at\n",
    "least two elements, as specified in the problem statement.  We\n",
    "iterate through the elements of both lists, starting from the\n",
    "second element, and compare each element in list1 with the\n",
    "element in list2 that is one position to the right.  If any\n",
    "element doesn't match the shifted pattern, we return False.\n",
    "Otherwise, if all elements match, we return True.'''\n",
    "\n",
    "def simon_says(list1, list2):\n",
    "    # Check if the lists have the same length and contain at least two elements\n",
    "    if len(list1) != len(list2) or len(list1) < 2:\n",
    "        return False\n",
    "\n",
    "    # Compare elements starting from the second element to the end\n",
    "    for i in range(1, len(list1)):\n",
    "        if list1[i - 1] != list2[i]:\n",
    "            # If any element doesn't match the shifted pattern, return False\n",
    "            return False\n",
    "    # If all elements match the shifted pattern, return True\n",
    "    return True\n",
    "\n",
    "# Test cases\n",
    "print(simon_says([1, 2], [5, 1]))\n",
    "print(simon_says([1, 2], [5, 5]))\n",
    "print(simon_says([1, 2, 3, 4, 5], [0, 1, 2, 3, 4]))\n",
    "print(simon_says([1, 2, 3, 4, 5], [5, 5, 1, 2, 3]))"
   ]
  },
  {
   "cell_type": "code",
   "execution_count": 2,
   "id": "59f034a4",
   "metadata": {},
   "outputs": [
    {
     "name": "stdout",
     "output_type": "stream",
     "text": [
      "AMS\n",
      "CHLN\n",
      "CJMPRR\n"
     ]
    }
   ],
   "source": [
    "'''Ans 3:- We use a list comprehension to extract the first letter of\n",
    "each name and store them in the initials list.  We then sort\n",
    "the initials list alphabetically using the sorted() function. \n",
    "Finally, we concatenate the sorted initials using ''.join() to form\n",
    "the secret society's name and return it.'''\n",
    "\n",
    "def society_name(names):\n",
    "    # Extract the first letter of each name and store it in a list\n",
    "    initials = [name[0] for name in names]\n",
    "    \n",
    "    # Sort the list of initials alphabetically\n",
    "    sorted_initials = sorted(initials)\n",
    "    \n",
    "    # Concatenate the sorted initials to form the society's name\n",
    "    secret_society_name = ''.join(sorted_initials)\n",
    "    \n",
    "    return secret_society_name\n",
    "\n",
    "# Test cases\n",
    "print(society_name([\"Adam\", \"Sarah\", \"Malcolm\"]))\n",
    "print(society_name([\"Harry\", \"Newt\", \"Luna\", \"Cho\"]))\n",
    "print(society_name([\"Phoebe\", \"Chandler\", \"Rachel\", \"Ross\", \"Monica\", \"Joey\"]))"
   ]
  },
  {
   "cell_type": "code",
   "execution_count": 4,
   "id": "43eff90b",
   "metadata": {},
   "outputs": [
    {
     "name": "stdout",
     "output_type": "stream",
     "text": [
      "True\n",
      "False\n",
      "False\n"
     ]
    }
   ],
   "source": [
    "'''Ans 4:- We first convert the input string to lowercase using the\n",
    "lower() method to make it case-insensitive.  We create an empty\n",
    "set called unique_letters to store unique letters from the\n",
    "word.  Then, we iterate through each letter in the lowercase\n",
    "word. If we encounter a letter that is already in the\n",
    "unique_letters set, we return False because it means the word is not an\n",
    "isogram.  If we successfully iterate through the entire word\n",
    "without finding any duplicate letters, we return True, indicating\n",
    "that the word is an isogram.'''\n",
    "\n",
    "def is_isogram(word):\n",
    "    # Convert the word to lowercase to make it case-insensitive\n",
    "    word = word.lower()\n",
    "    \n",
    "    # Create an empty set to store unique letters\n",
    "    unique_letters = set()\n",
    "    \n",
    "    # Iterate through each letter in the word\n",
    "    for letter in word:\n",
    "        # If the letter is already in the set, it's not an isogram\n",
    "        if letter in unique_letters:\n",
    "            return False\n",
    "        # Otherwise, add it to the set\n",
    "        unique_letters.add(letter)\n",
    "    \n",
    "    # If we reached this point, it's an isogram\n",
    "    return True\n",
    "\n",
    "print(is_isogram(\"Algorism\"))\n",
    "print(is_isogram(\"PasSword\"))\n",
    "print(is_isogram(\"Consecutive\"))"
   ]
  },
  {
   "cell_type": "code",
   "execution_count": 5,
   "id": "5d4151bb",
   "metadata": {},
   "outputs": [
    {
     "name": "stdout",
     "output_type": "stream",
     "text": [
      "True\n",
      "False\n",
      "True\n",
      "True\n"
     ]
    }
   ],
   "source": [
    "'''Ans 5:- We iterate through the characters in the string s using a\n",
    "for loop, starting from the second character (index 1) and\n",
    "comparing each character with the previous one.  If we find a\n",
    "character that is less than the previous character (based on Unicode\n",
    "values), we return False because the characters are not in\n",
    "ascending order.  If the loop completes without finding any\n",
    "out-of-order characters, we return True, indicating that the characters\n",
    "are in order.'''\n",
    "\n",
    "def is_in_order(s):\n",
    "    # Iterate through the characters in the string, starting from the second character (index 1)\n",
    "    for i in range(1, len(s)):\n",
    "        # Compare the current character with the previous character\n",
    "        if s[i] < s[i - 1]:\n",
    "            return False  # If any character is out of order, return False\n",
    "    \n",
    "    return True  # If all characters are in order, return True\n",
    "\n",
    "# Test cases\n",
    "print(is_in_order(\"abc\"))\n",
    "print(is_in_order(\"edabit\"))\n",
    "print(is_in_order(\"123\"))\n",
    "print(is_in_order(\"xyzz\")) "
   ]
  }
 ],
 "metadata": {
  "kernelspec": {
   "display_name": "Python 3 (ipykernel)",
   "language": "python",
   "name": "python3"
  },
  "language_info": {
   "codemirror_mode": {
    "name": "ipython",
    "version": 3
   },
   "file_extension": ".py",
   "mimetype": "text/x-python",
   "name": "python",
   "nbconvert_exporter": "python",
   "pygments_lexer": "ipython3",
   "version": "3.10.9"
  }
 },
 "nbformat": 4,
 "nbformat_minor": 5
}
