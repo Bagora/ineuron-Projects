{
 "cells": [
  {
   "cell_type": "markdown",
   "id": "ace9331e",
   "metadata": {},
   "source": [
    "## Python_Programming_Assignment_24\n",
    "1. Create a function that takes an integer and returns a list from 1 to the given number, where:\n",
    "    >If the number can be divided evenly by 4, amplify it by 10 (i.e. return 10 times the number).\n",
    "    >If the number cannot be divided evenly by 4, simply return the number.\n",
    "        Examples\n",
    "        amplify(4) ➞ [1, 2, 3, 40]\n",
    "\n",
    "     >amplify(3) ➞ [1, 2, 3]\n",
    "\n",
    "      amplify(25) ➞ [1, 2, 3, 40, 5, 6, 7, 80, 9, 10, 11, 120, 13, 14, 15, 160, 17, 18, 19, 200, 21, 22, 23, 240, 25]\n",
    "        Notes\n",
    "        •\tThe given integer will always be equal to or greater than 1.\n",
    "        •\tInclude the number (see example above).\n",
    "        •\tTo perform this problem with its intended purpose, try doing it with list comprehensions. If that's too difficult, just solve the challenge any way you can.\n",
    "\n",
    "2. Create a function that takes a list of numbers and return the number that's unique.\n",
    "    Examples\n",
    "    unique([3, 3, 3, 7, 3, 3]) ➞ 7\n",
    "\n",
    "    unique([0, 0, 0.77, 0, 0]) ➞ 0.77\n",
    "\n",
    "    unique([0, 1, 1, 1, 1, 1, 1, 1]) ➞ 0\n",
    "    Notes\n",
    "    Test cases will always have exactly one unique number while all others are the same.\n",
    "\n",
    "3. Your task is to create a Circle constructor that creates a circle with a radius provided by an argument. The circles constructed must have two getters getArea() (PIr^2) and getPerimeter() (2PI*r) which give both respective areas and perimeter (circumference).\n",
    "    For help with this class, I have provided you with a Rectangle constructor which you can use as a base example.\n",
    "    Examples\n",
    "    circy = Circle(11)\n",
    "    circy.getArea()\n",
    "\n",
    "    #Should return 380.132711084365\n",
    "\n",
    "    circy = Circle(4.44)\n",
    "    circy.getPerimeter()\n",
    "\n",
    "    #Should return 27.897342763877365\n",
    "    Notes\n",
    "    Round results up to the nearest integer.\n",
    "\n",
    "4. Create a function that takes a list of strings and return a list, sorted from shortest to longest.\n",
    "    Examples\n",
    "    sort_by_length([\"Google\", \"Apple\", \"Microsoft\"])\n",
    "    ➞ [\"Apple\", \"Google\", \"Microsoft\"]\n",
    "\n",
    "    sort_by_length([\"Leonardo\", \"Michelangelo\", \"Raphael\", \"Donatello\"])\n",
    "    ➞ [\"Raphael\", \"Leonardo\", \"Donatello\", \"Michelangelo\"]\n",
    "\n",
    "    sort_by_length([\"Turing\", \"Einstein\", \"Jung\"])\n",
    "    ➞ [\"Jung\", \"Turing\", \"Einstein\"]\n",
    "    Notes\n",
    "    All test cases contain lists with strings of different lengths, so you won't have to deal with multiple strings of the same length.\n",
    "\n",
    "5. Create a function that validates whether three given integers form a Pythagorean triplet. The sum of the squares of the two smallest integers must equal the square of the largest number to be validated.\n",
    "\n",
    "\n",
    "    Examples\n",
    "    is_triplet(3, 4, 5) ➞ True\n",
    "    #3² + 4² = 25\n",
    "    #5² = 25\n",
    "\n",
    "    is_triplet(13, 5, 12) ➞ True\n",
    "    #5² + 12² = 169\n",
    "    #13² = 169\n",
    "\n",
    "    is_triplet(1, 2, 3) ➞ False\n",
    "    #1² + 2² = 5\n",
    "    #3² = 9\n",
    "    Notes\n",
    "    Numbers may not be given in a sorted order."
   ]
  },
  {
   "cell_type": "code",
   "execution_count": 2,
   "id": "81c3b72d",
   "metadata": {},
   "outputs": [
    {
     "name": "stdout",
     "output_type": "stream",
     "text": [
      "[1, 2, 3, 40]\n",
      "[1, 2, 3]\n",
      "[1, 2, 3, 40, 5, 6, 7, 80, 9, 10, 11, 120, 13, 14, 15, 160, 17, 18, 19, 200, 21, 22, 23, 240, 25]\n"
     ]
    }
   ],
   "source": [
    "'''Ans 1:- We use a list comprehension to generate the list from 1 to\n",
    "the given number (num).  For each number x in the range, we\n",
    "check if it is divisible by 4 (x % 4 == 0). If it is, we\n",
    "multiply it by 10; otherwise, we leave it unchanged.  The result is\n",
    "the desired list that meets the specified conditions.'''\n",
    "\n",
    "def amplify(num):\n",
    "    # Use list comprehension to generate the list\n",
    "    return [x * 10 if x % 4 == 0 else x for x in range(1, num + 1)]\n",
    "\n",
    "# Test cases\n",
    "print(amplify(4))\n",
    "print(amplify(3))\n",
    "print(amplify(25))"
   ]
  },
  {
   "cell_type": "code",
   "execution_count": 4,
   "id": "c22c82b5",
   "metadata": {},
   "outputs": [
    {
     "name": "stdout",
     "output_type": "stream",
     "text": [
      "7\n",
      "0.77\n",
      "0\n"
     ]
    }
   ],
   "source": [
    "'''Ans 2:- We create a dictionary num_count to count the occurrences\n",
    "of each number in the input list numbers.  We iterate through\n",
    "the numbers list and update the count in the num_count\n",
    "dictionary.  After counting occurrences, we iterate through the\n",
    "dictionary and find the unique number by checking which number has a\n",
    "count of 1.  The unique number is then returned as the result.'''\n",
    "\n",
    "def unique(numbers):\n",
    "    # Create a dictionary to count the occurrences of each number\n",
    "    num_count = {}\n",
    "    \n",
    "    # Iterate through the list and count occurrences\n",
    "    for num in numbers:\n",
    "        if num in num_count:\n",
    "            num_count[num] += 1\n",
    "        else:\n",
    "            num_count[num] = 1\n",
    "    \n",
    "    # Find the unique number with only one occurrence\n",
    "    for num, count in num_count.items():\n",
    "        if count == 1:\n",
    "            return num\n",
    "\n",
    "# Test cases\n",
    "print(unique([3, 3, 3, 7, 3, 3]))\n",
    "print(unique([0, 0, 0.77, 0, 0]))\n",
    "print(unique([0, 1, 1, 1, 1, 1, 1, 1]))"
   ]
  },
  {
   "cell_type": "code",
   "execution_count": 10,
   "id": "cc727cdf",
   "metadata": {},
   "outputs": [
    {
     "name": "stdout",
     "output_type": "stream",
     "text": [
      "Area ➞ 380\n",
      "Perimeter ➞ 28\n"
     ]
    }
   ],
   "source": [
    "'''Ans 3:- This code defines a Circle class to calculate the area and\n",
    "perimeter of circles based on their radii. The results are rounded\n",
    "to the nearest integer, and two examples demonstrate the\n",
    "class's usage.'''\n",
    "\n",
    "import math\n",
    "\n",
    "class Circle:\n",
    "    def __init__(self, radius):\n",
    "        self.radius = radius\n",
    "    \n",
    "    def getArea(self):\n",
    "        # Calculate and return the area of the circle, rounded to the nearest integer\n",
    "        return round(math.pi * self.radius * self.radius)\n",
    "    \n",
    "    def getPerimeter(self):\n",
    "        # Calculate and return the perimeter (circumference) of the circle, rounded to the nearest integer\n",
    "        return round(2 * math.pi * self.radius)\n",
    "\n",
    "# Example 1\n",
    "circy = Circle(11)\n",
    "area = circy.getArea()\n",
    "print(f'Area ➞ {area}')\n",
    "\n",
    "# Example 2\n",
    "circy = Circle(4.44)\n",
    "perimeter = circy.getPerimeter()\n",
    "print(f'Perimeter ➞ {perimeter}')"
   ]
  },
  {
   "cell_type": "code",
   "execution_count": 12,
   "id": "74890c73",
   "metadata": {},
   "outputs": [
    {
     "name": "stdout",
     "output_type": "stream",
     "text": [
      "['Apple', 'Google', 'Microsoft']\n",
      "['Raphael', 'Leonardo', 'Donatello', 'Michelangelo']\n",
      "['Jung', 'Turing', 'Einstein']\n"
     ]
    }
   ],
   "source": [
    "'''Ans 4:- We define the sort_by_length function that takes a list of\n",
    "strings as input.  We use the sorted function, specifying key=len\n",
    "as the sorting key. This key tells Python to sort the strings\n",
    "based on their lengths.  The sorted list is then returned, which\n",
    "will be sorted from shortest to longest.'''\n",
    "\n",
    "def sort_by_length(strings):\n",
    "    # Use the sorted function with a custom sorting key (length of strings)\n",
    "    return sorted(strings, key=len)\n",
    "\n",
    "# Test cases\n",
    "print(sort_by_length([\"Google\", \"Apple\", \"Microsoft\"]))\n",
    "print(sort_by_length([\"Leonardo\", \"Michelangelo\", \"Raphael\", \"Donatello\"]))\n",
    "print(sort_by_length([\"Turing\", \"Einstein\", \"Jung\"]))"
   ]
  },
  {
   "cell_type": "code",
   "execution_count": 13,
   "id": "e0cc5c81",
   "metadata": {},
   "outputs": [
    {
     "name": "stdout",
     "output_type": "stream",
     "text": [
      "True\n",
      "True\n",
      "False\n"
     ]
    }
   ],
   "source": [
    "'''Ans 5:- We first sort the three given integers in ascending order\n",
    "to ensure that a is the smallest, b is the second smallest,\n",
    "and c is the largest.  We then check if the condition for a\n",
    "Pythagorean triplet is met, which is a^2 + b^2 == c^2. If it's true,\n",
    "we return True; otherwise, we return False.  The test cases\n",
    "demonstrate the function's usage with different input values.'''\n",
    "\n",
    "def is_triplet(a, b, c):\n",
    "    # Sort the numbers to ensure a <= b <= c\n",
    "    a, b, c = sorted([a, b, c])\n",
    "    \n",
    "    # Check if it's a Pythagorean triplet\n",
    "    return a**2 + b**2 == c**2\n",
    "\n",
    "# Test cases\n",
    "print(is_triplet(3, 4, 5))\n",
    "print(is_triplet(13, 5, 12))\n",
    "print(is_triplet(1, 2, 3))"
   ]
  }
 ],
 "metadata": {
  "kernelspec": {
   "display_name": "Python 3 (ipykernel)",
   "language": "python",
   "name": "python3"
  },
  "language_info": {
   "codemirror_mode": {
    "name": "ipython",
    "version": 3
   },
   "file_extension": ".py",
   "mimetype": "text/x-python",
   "name": "python",
   "nbconvert_exporter": "python",
   "pygments_lexer": "ipython3",
   "version": "3.10.9"
  }
 },
 "nbformat": 4,
 "nbformat_minor": 5
}
