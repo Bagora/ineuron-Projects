{
 "cells": [
  {
   "cell_type": "markdown",
   "id": "12b1e95d",
   "metadata": {},
   "source": [
    "# Python_Basics_Programming_Assingment_1"
   ]
  },
  {
   "cell_type": "markdown",
   "id": "2c8a7e27",
   "metadata": {},
   "source": [
    "# All Questions\n",
    "1.\tWrite a Python program to print \"Hello Python\"?\n",
    "2.\tWrite a Python program to do arithmetical operations addition and division.?\n",
    "3.\tWrite a Python program to find the area of a triangle?\n",
    "4.\tWrite a Python program to swap two variables?\n",
    "5.\tWrite a Python program to generate a random number?"
   ]
  },
  {
   "cell_type": "code",
   "execution_count": 1,
   "id": "5ac717a8",
   "metadata": {},
   "outputs": [
    {
     "name": "stdout",
     "output_type": "stream",
     "text": [
      "Hello Python\n"
     ]
    }
   ],
   "source": [
    "#Q1.Write a Python program to print \"Hello Python\"?\n",
    "#Ans\n",
    "print(\"Hello Python\")"
   ]
  },
  {
   "cell_type": "code",
   "execution_count": 2,
   "id": "14457cd0",
   "metadata": {},
   "outputs": [
    {
     "name": "stdout",
     "output_type": "stream",
     "text": [
      "Your Addition:  30\n",
      "Your Division:  5.0\n"
     ]
    }
   ],
   "source": [
    "#Q2.Write a Python program to do arithmetical operations addition and division.?\n",
    "#Ans\n",
    "#To do arithmetical operation we need two variables\n",
    "a = 25\n",
    "b = 5\n",
    "print(\"Your Addition: \", a+b)\n",
    "print(\"Your Division: \", a/b)"
   ]
  },
  {
   "cell_type": "code",
   "execution_count": 1,
   "id": "3f4a122e",
   "metadata": {},
   "outputs": [
    {
     "name": "stdout",
     "output_type": "stream",
     "text": [
      "Enter Length of first triangle side: 18\n",
      "Enter Length of second-base triangle side: 25\n",
      "Enter Length of third triangle side: 40\n",
      "Area of a triangle:  155.36227824024724\n",
      "Perimeter of a triangle:  83.0\n",
      "Semi-Peremeter of a triangle:  41.5\n"
     ]
    }
   ],
   "source": [
    "#Q3.Write a Python program to find the area of a triangle?\n",
    "#Ans-To find area of triangle lets take three variable name a b c\n",
    "a = float(input(\"Enter Length of first triangle side: \")) #side\n",
    "b = float(input(\"Enter Length of second-base triangle side: \")) #base\n",
    "c = float(input(\"Enter Length of third triangle side: \")) #side\n",
    "\n",
    "#Now to find area of tringle first we need to find the perimeter of triangle with its formula p = a+b+c\n",
    "p = a+b+c\n",
    "\n",
    "#Now to calculate semi perimeter out of that\n",
    "s = p/2\n",
    "\n",
    "#Now we can Calculate the area of triangle\n",
    "area = (s*(s-a) * (s-b) * (s-c))**0.5 #to take square root of this equation we take ** 0.5\n",
    "\n",
    "print(\"Area of a triangle: \", area)\n",
    "print(\"Perimeter of a triangle: \", p)\n",
    "print(\"Semi-Peremeter of a triangle: \", s)"
   ]
  },
  {
   "cell_type": "code",
   "execution_count": 14,
   "id": "dac1558b",
   "metadata": {},
   "outputs": [
    {
     "name": "stdout",
     "output_type": "stream",
     "text": [
      "a =  15\n",
      "b =  5\n"
     ]
    }
   ],
   "source": [
    "#Q4.Write a Python program to swap two variables?\n",
    "#Ans\n",
    "#Let's take two variable a and b and assign a value to it then we can swap it using condition statement\n",
    "a = 5\n",
    "b = 15\n",
    "a,b = b,a # this will swap variables values\n",
    "print(\"a = \", a) #new value\n",
    "print(\"b = \", b) #new value"
   ]
  },
  {
   "cell_type": "code",
   "execution_count": 3,
   "id": "ebc07c42",
   "metadata": {},
   "outputs": [
    {
     "data": {
      "text/plain": [
       "119"
      ]
     },
     "execution_count": 3,
     "metadata": {},
     "output_type": "execute_result"
    }
   ],
   "source": [
    "#Q5.Write a Python program to generate a random number?\n",
    "#Ans\n",
    "#To print random number we can import a build in python package\n",
    "import random\n",
    "random.randint(0,1000)"
   ]
  },
  {
   "cell_type": "code",
   "execution_count": null,
   "id": "eb1c72d0",
   "metadata": {},
   "outputs": [],
   "source": []
  }
 ],
 "metadata": {
  "kernelspec": {
   "display_name": "Python 3 (ipykernel)",
   "language": "python",
   "name": "python3"
  },
  "language_info": {
   "codemirror_mode": {
    "name": "ipython",
    "version": 3
   },
   "file_extension": ".py",
   "mimetype": "text/x-python",
   "name": "python",
   "nbconvert_exporter": "python",
   "pygments_lexer": "ipython3",
   "version": "3.9.12"
  }
 },
 "nbformat": 4,
 "nbformat_minor": 5
}
