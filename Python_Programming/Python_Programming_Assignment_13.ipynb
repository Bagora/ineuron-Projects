{
 "cells": [
  {
   "cell_type": "markdown",
   "id": "24713c87",
   "metadata": {},
   "source": [
    "## Python_Programming_Assignment_13\n",
    "1. Write a program that calculates and prints the value according to the given formula:\n",
    "   Q = Square root of [(2 * C * D)/H]\n",
    "    Following are the fixed values of C and H:\n",
    "    C is 50. H is 30.\n",
    "    D is the variable whose values should be input to your program in a comma-separated sequence.\n",
    "    Example\n",
    "    Let us assume the following comma separated input sequence is given to the program:\n",
    "    100,150,180\n",
    "    The output of the program should be: 18,22,24\n",
    "    \n",
    "    \n",
    "2. Write a program which takes 2 digits, X,Y as input and generates a 2-dimensional array. The element value in the i-th row and j-th column of the array should be i*j.\n",
    "\n",
    "    Note: i=0,1.., X-1; j=0,1,¡¬Y-1.\n",
    "    Example\n",
    "    Suppose the following inputs are given to the program:\n",
    "    3,5\n",
    "    Then, the output of the program should be:\n",
    "    [[0, 0, 0, 0, 0], [0, 1, 2, 3, 4], [0, 2, 4, 6, 8]] \n",
    "    \n",
    "\n",
    "3. Write a program that accepts a comma separated sequence of words as input and prints the words in a comma-separated sequence after sorting them alphabetically.\n",
    "\n",
    "    Suppose the following input is supplied to the program:\n",
    "    without,hello,bag,world\n",
    "    Then, the output should be:\n",
    "    bag,hello,without,world\n",
    "\n",
    "\n",
    "4. Write a program that accepts a sequence of whitespace separated words as input and prints the words after removing all duplicate words and sorting them alphanumerically.\n",
    "\n",
    "    Suppose the following input is supplied to the program:\n",
    "    hello world and practice makes perfect and hello world again\n",
    "    Then, the output should be:\n",
    "    again and hello makes perfect practice world\n",
    "\n",
    "\n",
    "5. Write a program that accepts a sentence and calculate the number of letters and digits.\n",
    "\n",
    "    Suppose the following input is supplied to the program:\n",
    "    hello world! 123\n",
    "    Then, the output should be:\n",
    "    LETTERS 10\n",
    "    DIGITS 3\n",
    "\n",
    "\n",
    "6. A website requires the users to input username and password to register. Write a program to check the validity of password   input by users.\n",
    "\n",
    "    Following are the criteria for checking the password:\n",
    "\n",
    "    1. At least 1 letter between [a-z]\n",
    "\n",
    "    2. At least 1 number between [0-9]\n",
    "\n",
    "    1. At least 1 letter between [A-Z]\n",
    "\n",
    "    3. At least 1 character from [$#@]\n",
    "\n",
    "    4. Minimum length of transaction password: 6\n",
    "\n",
    "    5. Maximum length of transaction password: 12\n",
    "\n",
    "    Your program should accept a sequence of comma separated passwords and will check them according to the above criteria.\n",
    "    Passwords that match the criteria are to be printed, each separated by a comma.\n",
    "    Example If the following passwords are given as input to the program:ABd1234@1,a F1#,2w3E*,2We3345 Then, the output of the  \n",
    "    program should be:ABd1234@1"
   ]
  },
  {
   "cell_type": "code",
   "execution_count": 8,
   "id": "98398531",
   "metadata": {},
   "outputs": [
    {
     "name": "stdout",
     "output_type": "stream",
     "text": [
      "Enter comma-separated D values: 100,150,180\n",
      "Results for D values:- [18.257418583505537, 22.360679774997898, 24.49489742783178]\n"
     ]
    }
   ],
   "source": [
    "'''Ans 1:- We import the math module to use the sqrt function for\n",
    "calculating the square root.  Constants C and H are defined with their\n",
    "given values.  The calculate_Q function takes a list of D\n",
    "values, calculates Q for each D, and stores the results in a list.\n",
    " The program prompts the user to enter a comma-separated\n",
    "sequence of D values and splits them into a list of floating-point\n",
    "numbers.  It then calculates Q values for each D value using the\n",
    "formula provided.  The results are printed out for each D value in\n",
    "the input sequence.  You can run this program and provide a\n",
    "comma-separated sequence of D values to calculate and print the\n",
    "corresponding Q values.'''\n",
    "\n",
    "import math\n",
    "\n",
    "# Constants\n",
    "C = 50\n",
    "H = 30\n",
    "\n",
    "def calculate_Q(D_values):\n",
    "    results = []\n",
    "\n",
    "    for D in D_values:\n",
    "        Q = math.sqrt((2 * C * D) / H)\n",
    "        results.append(Q)\n",
    "\n",
    "    return results\n",
    "\n",
    "# Input comma-separated D values\n",
    "input_values = input(\"Enter comma-separated D values: \")\n",
    "D_values = [float(value) for value in input_values.split(\",\")]\n",
    "\n",
    "print(f\"Results for D values:- {calculate_Q(D_values)}\")"
   ]
  },
  {
   "cell_type": "code",
   "execution_count": 11,
   "id": "8c07df3f",
   "metadata": {},
   "outputs": [
    {
     "name": "stdout",
     "output_type": "stream",
     "text": [
      "Enter the number of rows (X): 3\n",
      "Enter the number of columns (Y): 5\n",
      "[0, 0, 0, 0, 0]\n",
      "[0, 1, 2, 3, 4]\n",
      "[0, 2, 4, 6, 8]\n"
     ]
    }
   ],
   "source": [
    "'''Ans 2:- The program takes two integer inputs, X and Y, which\n",
    "represent the number of rows and columns, respectively.  It then\n",
    "uses a nested list comprehension to generate the 2-dimensional\n",
    "array. The outer loop iterates over the rows (i) from 0 to X-1,\n",
    "and the inner loop iterates over the columns (j) from 0 to\n",
    "Y-1. The value at each element (i, j) is calculated as i * j. \n",
    "Finally, the program prints the generated 2-dimensional array, row\n",
    "by row.  You can run this program, provide values for X and\n",
    "Y, and it will generate and display the 2-dimensional array\n",
    "as described in the problem statement.'''\n",
    "\n",
    "# Input values X and Y\n",
    "X = int(input(\"Enter the number of rows (X): \"))\n",
    "Y = int(input(\"Enter the number of columns (Y): \"))\n",
    "\n",
    "# Generate the 2-dimensional array\n",
    "result = [[i * j for j in range(Y)] for i in range(X)]\n",
    "\n",
    "# Print the generated array\n",
    "for row in result:\n",
    "    print(row)"
   ]
  },
  {
   "cell_type": "code",
   "execution_count": 12,
   "id": "121db27b",
   "metadata": {},
   "outputs": [
    {
     "name": "stdout",
     "output_type": "stream",
     "text": [
      "Enter a comma-separated sequence of words: without,hello,bag,world\n",
      "Sorted sequence of words: bag, hello, without, world\n"
     ]
    }
   ],
   "source": [
    "'''Ans 3:- The program takes input from the user in the form of a\n",
    "comma-separated sequence of words.  It splits the input sequence into\n",
    "individual words using the split(\",\") method.  Leading and trailing\n",
    "spaces are removed from each word using the strip() method, and\n",
    "the words are sorted alphabetically using the sorted()\n",
    "function.  The sorted words are then joined back into a\n",
    "comma-separated string using \", \".join().  Finally, the program prints the\n",
    "sorted sequence of words.  we can run this program, provide a\n",
    "comma-separated sequence of words as input, and it will output the words\n",
    "sorted alphabetically in a comma-separated sequence.'''\n",
    "\n",
    "# Input a comma-separated sequence of words\n",
    "input_sequence = input(\"Enter a comma-separated sequence of words: \")\n",
    "\n",
    "# Split the input sequence into words\n",
    "words = input_sequence.split(\",\")\n",
    "\n",
    "# Remove leading and trailing spaces from each word and sort them alphabetically\n",
    "sorted_words = sorted([word.strip() for word in words])\n",
    "\n",
    "# Join the sorted words into a comma-separated string\n",
    "sorted_sequence = \", \".join(sorted_words)\n",
    "\n",
    "# Print the sorted sequence\n",
    "print(\"Sorted sequence of words:\", sorted_sequence)"
   ]
  },
  {
   "cell_type": "code",
   "execution_count": 13,
   "id": "4083e505",
   "metadata": {},
   "outputs": [
    {
     "name": "stdout",
     "output_type": "stream",
     "text": [
      "Enter a sequence of whitespace-separated words: hello world and practice makes perfect and hello world again\n",
      "Sorted sequence of words: again and hello makes perfect practice world\n"
     ]
    }
   ],
   "source": [
    "'''Ans 4:- The program takes input from the user in the form of a\n",
    "sequence of whitespace-separated words.  It splits the input\n",
    "sequence into individual words using the split() method, which\n",
    "splits on whitespace by default.  Duplicate words are removed by\n",
    "converting the list of words into a set and then back into a list\n",
    "(list(set(words))).  The unique words are sorted alphabetically using the\n",
    "sorted() function.  The sorted words are then joined back into a\n",
    "whitespace-separated string using \" \".join().  Finally, the program prints the\n",
    "sorted sequence of words.  We can run this program, provide a\n",
    "sequence of whitespace-separated words as input, and it will output\n",
    "the unique words sorted alphabetically in a\n",
    "whitespace-separated sequence.'''\n",
    "\n",
    "# Input a sequence of whitespace-separated words\n",
    "input_sequence = input(\"Enter a sequence of whitespace-separated words: \")\n",
    "\n",
    "# Split the input sequence into words and remove duplicates\n",
    "words = input_sequence.split()\n",
    "unique_words = list(set(words))\n",
    "\n",
    "# Sort the unique words alphabetically\n",
    "sorted_words = sorted(unique_words)\n",
    "\n",
    "# Join the sorted words into a whitespace-separated string\n",
    "sorted_sequence = \" \".join(sorted_words)\n",
    "\n",
    "# Print the sorted sequence\n",
    "print(\"Sorted sequence of words:\", sorted_sequence)"
   ]
  },
  {
   "cell_type": "code",
   "execution_count": 15,
   "id": "34385472",
   "metadata": {},
   "outputs": [
    {
     "name": "stdout",
     "output_type": "stream",
     "text": [
      "Enter a sentence: hello world! 123\n",
      "Number of letters: 10\n",
      "Number of digits: 3\n"
     ]
    }
   ],
   "source": [
    "'''Ans 5:- The program takes input from the user in the form of a\n",
    "sentence.  It initializes two counters, letter_count and\n",
    "digit_count, to keep track of the number of letters and digits in the\n",
    "sentence.  It iterates through each character in the sentence using\n",
    "a for loop.  Inside the loop, it checks if each character is\n",
    "a letter using the isalpha() method or a digit using the\n",
    "isdigit() method, and increments the corresponding counter\n",
    "accordingly.  After processing all the characters in the sentence, the\n",
    "program prints the counts of letters and digits.'''\n",
    "\n",
    "# Input a sentence\n",
    "input_sentence = input(\"Enter a sentence: \")\n",
    "\n",
    "# Initialize counters for letters and digits\n",
    "letter_count = 0\n",
    "digit_count = 0\n",
    "\n",
    "# Iterate through each character in the sentence\n",
    "for char in input_sentence:\n",
    "    if char.isalpha():\n",
    "        letter_count += 1\n",
    "    elif char.isdigit():\n",
    "        digit_count += 1\n",
    "\n",
    "# Print the counts of letters and digits\n",
    "print(\"Number of letters:\", letter_count)\n",
    "print(\"Number of digits:\", digit_count)"
   ]
  },
  {
   "cell_type": "code",
   "execution_count": 19,
   "id": "70462dd7",
   "metadata": {},
   "outputs": [
    {
     "name": "stdout",
     "output_type": "stream",
     "text": [
      "Enter a password: ABd1234@1\n",
      "Password is valid.\n"
     ]
    }
   ],
   "source": [
    "'''Ans 6:- The program defines the is_valid_password function, which\n",
    "takes a password as input.  It checks if the password length is\n",
    "between 6 and 12 characters using the len() function.  It uses\n",
    "regular expressions (re.search()) to check if the password\n",
    "contains at least one lowercase letter, one uppercase letter, one\n",
    "digit, and one of the characters [$#@].  If all the criteria are\n",
    "met, the function returns True, indicating that the password is\n",
    "valid; otherwise, it returns False.  The user is prompted to\n",
    "input a password, and the program checks its validity using the\n",
    "is_valid_password function.  Finally, the program prints whether the\n",
    "password is valid or not.  You can run this program, input a\n",
    "password, and it will check if the password meets the specified\n",
    "criteria for validity.'''\n",
    "import re\n",
    "\n",
    "def is_valid_password(password):\n",
    "    # Check if password length is between 6 and 12 characters\n",
    "    if 6 <= len(password) <= 12:\n",
    "        # Check if password contains at least one lowercase letter [a-z]\n",
    "        if re.search(r'[a-z]', password):\n",
    "            # Check if password contains at least one uppercase letter [A-Z]\n",
    "            if re.search(r'[A-Z]', password):\n",
    "                # Check if password contains at least one digit [0-9]\n",
    "                if re.search(r'[0-9]', password):\n",
    "                    # Check if password contains at least one of [$#@]\n",
    "                    if re.search(r'[$#@]', password):\n",
    "                        return True\n",
    "\n",
    "    return False\n",
    "\n",
    "# Input a password from the user\n",
    "password = input(\"Enter a password: \")\n",
    "\n",
    "# Check if the password is valid\n",
    "if is_valid_password(password):\n",
    "    print(\"Password is valid.\")\n",
    "else:\n",
    "    print(\"Password is invalid.\")"
   ]
  }
 ],
 "metadata": {
  "kernelspec": {
   "display_name": "Python 3 (ipykernel)",
   "language": "python",
   "name": "python3"
  },
  "language_info": {
   "codemirror_mode": {
    "name": "ipython",
    "version": 3
   },
   "file_extension": ".py",
   "mimetype": "text/x-python",
   "name": "python",
   "nbconvert_exporter": "python",
   "pygments_lexer": "ipython3",
   "version": "3.10.9"
  }
 },
 "nbformat": 4,
 "nbformat_minor": 5
}
