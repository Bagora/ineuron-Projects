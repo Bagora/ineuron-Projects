{
 "cells": [
  {
   "cell_type": "markdown",
   "id": "aad98b57",
   "metadata": {},
   "source": [
    "# Python_Basics_Programming_Assingment_2"
   ]
  },
  {
   "cell_type": "markdown",
   "id": "9e650657",
   "metadata": {},
   "source": [
    "# All Questions\n",
    "1.\tWrite a Python program to convert kilometers to miles?\n",
    "2.\tWrite a Python program to convert Celsius to Fahrenheit?\n",
    "3.\tWrite a Python program to display calendar?\n",
    "4.\tWrite a Python program to solve quadratic equation?\n",
    "5.\tWrite a Python program to swap two variables without temp variable?"
   ]
  },
  {
   "cell_type": "code",
   "execution_count": 1,
   "id": "55e93492",
   "metadata": {},
   "outputs": [
    {
     "name": "stdout",
     "output_type": "stream",
     "text": [
      "Enter the km range to convert it into mile: 1560.8\n",
      "1560.8 km to mile is:  969.8358568\n",
      "969.8358568 mile to km is:  1560.8\n"
     ]
    }
   ],
   "source": [
    "#Q1.Write a Python program to convert kilometers to miles?\n",
    "#Ans\n",
    "'''\n",
    "First let's understand kilometers to miles conversion formulae and ratio, As we know, \n",
    "Kilometre and Miles represent the unit of length. So we can say that 1 kilometre equals 0.621371 miles.\n",
    "Also Miles = kilometre * 0.621371  or km = mile/0.621371\n",
    "'''\n",
    "#To write a program using aboue statement\n",
    "kilometre = float(input(\"Enter the km range to convert it into mile: \"))\n",
    "# as we know 1 km is equal to 0.621371 miles so we can say\n",
    "mile = kilometre * 0.621371\n",
    "kilometre = mile/0.621371\n",
    "print(kilometre,\"km to mile is: \", mile)\n",
    "print(mile,\"mile to km is: \", kilometre)"
   ]
  },
  {
   "cell_type": "code",
   "execution_count": 5,
   "id": "69c3ef96",
   "metadata": {},
   "outputs": [
    {
     "name": "stdout",
     "output_type": "stream",
     "text": [
      "Enter Your Area temperature in Celsius to convert into Faherenheit: -5\n",
      "-5.0 Degree Celsius is 23.0 Degree Faherenheit\n"
     ]
    }
   ],
   "source": [
    "#Q2.Write a Python program to convert Celsius to Fahrenheit?\n",
    "#Ans\n",
    "'''\n",
    "In the program below, we take a temperature in degree Celsius and convert it into degree Fahrenheit.\n",
    "As we know they are related by the formula: \n",
    "fahrenheit = celsius * 1.8 + 32\n",
    "So 0 on the celsius scale is equivalent to 32 on the Fahrenheit scale. And water boiling point of 100°c is equivalent to 212°f. \n",
    "So, 100 divisions on the Celsius scale is equal to 212-32 = 180 divisions on the Fahrenheit scale. \n",
    "Hence while converting degrees in the celsius scale to Fahrenheit scale, we multiply it by 1.8 and add 32.\n",
    "'''\n",
    "celsius = float(input(\"Enter Your Area temperature in Celsius to convert into Faherenheit: \" ))\n",
    "fahrenheit = (celsius * 1.8) + 32\n",
    "print(celsius,\"Degree Celsius is\", fahrenheit, \"Degree Faherenheit\" )"
   ]
  },
  {
   "cell_type": "code",
   "execution_count": 8,
   "id": "80c3c8e7",
   "metadata": {},
   "outputs": [
    {
     "name": "stdout",
     "output_type": "stream",
     "text": [
      "Enter Year: 2023\n",
      "Enter Month: 12\n",
      "--------------------\n",
      "   December 2023\n",
      "Mo Tu We Th Fr Sa Su\n",
      "             1  2  3\n",
      " 4  5  6  7  8  9 10\n",
      "11 12 13 14 15 16 17\n",
      "18 19 20 21 22 23 24\n",
      "25 26 27 28 29 30 31\n",
      "\n"
     ]
    }
   ],
   "source": [
    "#@3.Write a Python program to display calendar?\n",
    "#Ans\n",
    "'''\n",
    "There are simple ways to print calendar in python. Python has a large number of build in functions and one of them is calendar\n",
    "module,so we can import it and make a result out of it.\n",
    "'''\n",
    "#To print a calendar\n",
    "import calendar\n",
    "yy = int(input(\"Enter Year: \"))\n",
    "mm = int(input(\"Enter Month: \"))\n",
    "print(\"--------------------\")\n",
    "print(calendar.month(yy,mm))"
   ]
  },
  {
   "cell_type": "markdown",
   "id": "c21a20ee",
   "metadata": {},
   "source": [
    "#Q4.Write a Python program to solve quadratic equation?\n",
    "---As We know that we can derive a quadratic equation with it's Formula $ ax^2+bx+c=0 $\n",
    "In algebra, a quadratic equation is any equation that can be rearranged in standard form as where x represents an unknown, \n",
    "and a, b, and c represent known numbers, where a ≠ 0\n",
    "For Python to solve this equation we use this formula (-b ± (b ** 2 - 4 * a * c) ** 0.5) / (2 * a)\n",
    "For the quadratic equation $ ax^2+bx+c=0 $, the expression b2 – 4ac is called the discriminant."
   ]
  },
  {
   "cell_type": "code",
   "execution_count": 21,
   "id": "a66a04fc",
   "metadata": {},
   "outputs": [
    {
     "name": "stdout",
     "output_type": "stream",
     "text": [
      "Enter a: 2\n",
      "Enter b: 4\n",
      "Enter c: 8\n",
      "The solution of this quadratic equation are (-1-1.7320508075688772j) and (-1+1.7320508075688772j)\n"
     ]
    }
   ],
   "source": [
    "#To find results we need to import math module like complex math\n",
    "import cmath\n",
    "\n",
    "#To print a quadratic equation we can take three variables a,b,c\n",
    "a = float(input(\"Enter a: \" ))\n",
    "b = float(input(\"Enter b: \" ))\n",
    "c = float(input(\"Enter c: \" ))\n",
    "\n",
    "#Now to take a variable to put a python formula discriminant b2-4ac\n",
    "dcmat = (b**2) - (4 * a * c)\n",
    "\n",
    "#Now with this we can find a two equations\n",
    "eq1 = (-b-cmath.sqrt(dcmat))/(2*a)\n",
    "eq2 = (-b+cmath.sqrt(dcmat))/(2*a)\n",
    "print('The solution of this quadratic equation are {0} and {1}'.format(eq1,eq2))"
   ]
  },
  {
   "cell_type": "code",
   "execution_count": 22,
   "id": "22caed18",
   "metadata": {},
   "outputs": [
    {
     "name": "stdout",
     "output_type": "stream",
     "text": [
      "a =  False\n",
      "b =  True\n"
     ]
    }
   ],
   "source": [
    "#5.Write a Python program to swap two variables without temp variable?\n",
    "#Ans\n",
    "#Let's take two variable a and b and assign a value to it then we can swap it using condition statement\n",
    "a = True\n",
    "b = False\n",
    "a,b = b,a # this will swap variables values\n",
    "print(\"a = \", a) #new value\n",
    "print(\"b = \", b) #new value"
   ]
  },
  {
   "cell_type": "code",
   "execution_count": null,
   "id": "21478a01",
   "metadata": {},
   "outputs": [],
   "source": []
  }
 ],
 "metadata": {
  "kernelspec": {
   "display_name": "Python 3 (ipykernel)",
   "language": "python",
   "name": "python3"
  },
  "language_info": {
   "codemirror_mode": {
    "name": "ipython",
    "version": 3
   },
   "file_extension": ".py",
   "mimetype": "text/x-python",
   "name": "python",
   "nbconvert_exporter": "python",
   "pygments_lexer": "ipython3",
   "version": "3.9.12"
  }
 },
 "nbformat": 4,
 "nbformat_minor": 5
}
