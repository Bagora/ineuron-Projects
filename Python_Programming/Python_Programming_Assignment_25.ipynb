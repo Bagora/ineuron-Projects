{
 "cells": [
  {
   "cell_type": "markdown",
   "id": "abb40e25",
   "metadata": {},
   "source": [
    "## Python_Programming_Assignment_25\n",
    "1. Create a function that takes three integer arguments (a, b, c) and returns the amount of integers which are of equal value.\n",
    "    Examples\n",
    "    equal(3, 4, 3) ➞ 2\n",
    "\n",
    "    equal(1, 1, 1) ➞ 3\n",
    "\n",
    "    equal(3, 4, 1) ➞ 0 \n",
    "    Notes\n",
    "    Your function must return 0, 2 or 3.\n",
    "\n",
    "2. Write a function that converts a dictionary into a list of keys-values tuples.\n",
    "    Examples\n",
    "    dict_to_list({\n",
    "      \"D\": 1,\n",
    "      \"B\": 2,\n",
    "      \"C\": 3\n",
    "    }) ➞ [(\"B\", 2), (\"C\", 3), (\"D\", 1)]\n",
    "\n",
    "    dict_to_list({\n",
    "      \"likes\": 2,\n",
    "      \"dislikes\": 3,\n",
    "      \"followers\": 10\n",
    "    }) ➞ [(\"dislikes\", 3), (\"followers\", 10), (\"likes\", 2)]\n",
    "    Notes\n",
    "    Return the elements in the list in alphabetical order.\n",
    "\n",
    "3. Write a function that creates a dictionary with each (key, value) pair being the (lower case, upper case) versions of a letter, respectively.\n",
    "    Examples\n",
    "    mapping([\"p\", \"s\"]) ➞ { \"p\": \"P\", \"s\": \"S\" }\n",
    "\n",
    "    mapping([\"a\", \"b\", \"c\"]) ➞ { \"a\": \"A\", \"b\": \"B\", \"c\": \"C\" }\n",
    "\n",
    "    mapping([\"a\", \"v\", \"y\", \"z\"]) ➞ { \"a\": \"A\", \"v\": \"V\", \"y\": \"Y\", \"z\": \"Z\" }\n",
    "    Notes\n",
    "    All of the letters in the input list will always be lowercase.\n",
    "\n",
    "4. Write a function, that replaces all vowels in a string with a specified vowel.\n",
    "    Examples\n",
    "    vow_replace(\"apples and bananas\", \"u\") ➞ \"upplus und bununus\"\n",
    "\n",
    "    vow_replace(\"cheese casserole\", \"o\") ➞ \"chooso cossorolo\"\n",
    "\n",
    "    vow_replace(\"stuffed jalapeno poppers\", \"e\") ➞ \"steffed jelepene peppers\"\n",
    "    Notes\n",
    "    All words will be lowercase. Y is not considered a vowel.\n",
    "\n",
    "5. Create a function that takes a string as input and capitalizes a letter if its ASCII code is even and returns its lower case version if its ASCII code is odd.\n",
    "    Examples\n",
    "    ascii_capitalize(\"to be or not to be!\") ➞ \"To Be oR NoT To Be!\"\n",
    "\n",
    "    ascii_capitalize(\"THE LITTLE MERMAID\") ➞ \"THe LiTTLe meRmaiD\"\n",
    "\n",
    "    ascii_capitalize(\"Oh what a beautiful morning.\") ➞ \"oH wHaT a BeauTiFuL moRNiNg.\""
   ]
  },
  {
   "cell_type": "code",
   "execution_count": 3,
   "id": "66eca904",
   "metadata": {},
   "outputs": [
    {
     "name": "stdout",
     "output_type": "stream",
     "text": [
      "2\n",
      "3\n",
      "0\n"
     ]
    }
   ],
   "source": [
    "'''Ans 1:- We check if all three integers are equal (a == b == c). If\n",
    "they are, we return 3 because all three integers have the same\n",
    "value.  If not all three are equal but at least two of them are\n",
    "equal (a == b or a == c or b == c), we return 2 because two\n",
    "integers have the same value.  If none of the above conditions are\n",
    "met, we return 0 because there are no integers with equal\n",
    "values among the three inputs.'''\n",
    "\n",
    "def equal(a, b, c):\n",
    "    if a == b == c:\n",
    "        return 3\n",
    "    elif a == b or a == c or b == c:\n",
    "        return 2\n",
    "    else:\n",
    "        return 0\n",
    "\n",
    "# Test cases\n",
    "print(equal(3, 4, 3))  # Output: 2\n",
    "print(equal(1, 1, 1))  # Output: 3\n",
    "print(equal(3, 4, 1))  # Output: 0"
   ]
  },
  {
   "cell_type": "code",
   "execution_count": 5,
   "id": "5489c7e4",
   "metadata": {},
   "outputs": [
    {
     "name": "stdout",
     "output_type": "stream",
     "text": [
      "[('B', 2), ('C', 3), ('D', 1)]\n",
      "[('dislikes', 3), ('followers', 10), ('likes', 2)]\n"
     ]
    }
   ],
   "source": [
    "'''Ans 2:- We use a list comprehension to iterate through the items\n",
    "of the dictionary input_dict.  We use the sorted function to\n",
    "sort the dictionary items alphabetically by their keys.  The\n",
    "key-value pairs are then converted into tuples and stored in the\n",
    "key_value_tuples list.  The function returns the list of tuples as\n",
    "specified in the question.'''\n",
    "\n",
    "def dict_to_list(input_dict):\n",
    "    key_value_tuples = [(key, value) for key, value in sorted(input_dict.items())]\n",
    "    return key_value_tuples\n",
    "\n",
    "# Test cases\n",
    "print(dict_to_list({ \"D\": 1, \"B\": 2, \"C\": 3 }))\n",
    "print(dict_to_list({ \"likes\": 2, \"dislikes\": 3, \"followers\": 10 }))"
   ]
  },
  {
   "cell_type": "code",
   "execution_count": 6,
   "id": "8b517b87",
   "metadata": {},
   "outputs": [
    {
     "name": "stdout",
     "output_type": "stream",
     "text": [
      "{'p': 'P', 's': 'S'}\n",
      "{'a': 'A', 'b': 'B', 'c': 'C'}\n",
      "{'a': 'A', 'v': 'V', 'y': 'Y', 'z': 'Z'}\n"
     ]
    }
   ],
   "source": [
    "'''Ans 3:- We use a dictionary comprehension to iterate through the\n",
    "letters in the letters list and create key-value pairs.  For each\n",
    "letter, we convert it to uppercase using the upper method and use\n",
    "it as the value in the dictionary.  The resulting dictionary\n",
    "letter_mapping contains the (lower case, upper case) pairs for each\n",
    "letter, and it is returned as the result of the function.'''\n",
    "\n",
    "def mapping(letters):\n",
    "    # Use a dictionary comprehension to create the mapping\n",
    "    letter_mapping = {letter: letter.upper() for letter in letters}\n",
    "    \n",
    "    return letter_mapping\n",
    "\n",
    "# Test cases\n",
    "print(mapping([\"p\", \"s\"]))\n",
    "print(mapping([\"a\", \"b\", \"c\"]))\n",
    "print(mapping([\"a\", \"v\", \"y\", \"z\"]))"
   ]
  },
  {
   "cell_type": "code",
   "execution_count": 7,
   "id": "70e8c7cf",
   "metadata": {},
   "outputs": [
    {
     "name": "stdout",
     "output_type": "stream",
     "text": [
      "upplus und bununus\n",
      "chooso cossorolo\n",
      "steffed jelepene peppers\n"
     ]
    }
   ],
   "source": [
    "'''Ans 4:- We define a set of vowels as the string \"aeiou\".  We use a\n",
    "list comprehension to iterate through each character in the\n",
    "input_string. If the character is a vowel (found in the vowels set), we\n",
    "replace it with the new_vowel. Otherwise, we leave the character\n",
    "unchanged.  The result is obtained by joining the characters in the\n",
    "list to form a string, and it is returned as the output of the\n",
    "function.'''\n",
    "\n",
    "def vow_replace(input_string, new_vowel):\n",
    "    # Define a set of vowels to be replaced\n",
    "    vowels = \"aeiou\"\n",
    "    \n",
    "    # Use a list comprehension to replace vowels with the new vowel\n",
    "    replaced_string = ''.join([new_vowel if char in vowels else char for char in input_string])\n",
    "    \n",
    "    return replaced_string\n",
    "\n",
    "# Test cases\n",
    "print(vow_replace(\"apples and bananas\", \"u\"))\n",
    "print(vow_replace(\"cheese casserole\", \"o\"))\n",
    "print(vow_replace(\"stuffed jalapeno poppers\", \"e\"))"
   ]
  },
  {
   "cell_type": "code",
   "execution_count": 8,
   "id": "c7f3b3fc",
   "metadata": {},
   "outputs": [
    {
     "name": "stdout",
     "output_type": "stream",
     "text": [
      "To Be oR NoT To Be!\n",
      "THe LiTTLe meRmaiD\n",
      "oH wHaT a BeauTiFuL moRNiNg.\n"
     ]
    }
   ],
   "source": [
    "'''Ans 5:- We initialize an empty string result to store the modified\n",
    "string.  We iterate through each character in the input_string.\n",
    "For each character that is a letter (checked with\n",
    "char.isalpha()), we get its ASCII code using ord(char).  If the ASCII code\n",
    "is even (ascii_code % 2 == 0), we capitalize the letter using\n",
    "char.upper(). If it's odd, we convert the letter to lowercase using\n",
    "char.lower().  Non-letter characters are appended to the result\n",
    "unchanged.  The function returns the modified result string.'''\n",
    "\n",
    "def ascii_capitalize(input_string):\n",
    "    result = \"\"\n",
    "    for char in input_string:\n",
    "        if char.isalpha():  # Check if the character is a letter\n",
    "            ascii_code = ord(char)  # Get the ASCII code of the character\n",
    "            if ascii_code % 2 == 0:  # If the ASCII code is even\n",
    "                result += char.upper()  # Capitalize the letter\n",
    "            else:\n",
    "                result += char.lower()  # Convert the letter to lowercase\n",
    "        else:\n",
    "            result += char  # Keep non-letter characters unchanged\n",
    "    \n",
    "    return result\n",
    "\n",
    "# Test cases\n",
    "print(ascii_capitalize(\"to be or not to be!\"))\n",
    "print(ascii_capitalize(\"THE LITTLE MERMAID\"))\n",
    "print(ascii_capitalize(\"Oh what a beautiful morning.\"))"
   ]
  }
 ],
 "metadata": {
  "kernelspec": {
   "display_name": "Python 3 (ipykernel)",
   "language": "python",
   "name": "python3"
  },
  "language_info": {
   "codemirror_mode": {
    "name": "ipython",
    "version": 3
   },
   "file_extension": ".py",
   "mimetype": "text/x-python",
   "name": "python",
   "nbconvert_exporter": "python",
   "pygments_lexer": "ipython3",
   "version": "3.10.9"
  }
 },
 "nbformat": 4,
 "nbformat_minor": 5
}
