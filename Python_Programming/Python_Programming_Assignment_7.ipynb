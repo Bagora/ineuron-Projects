{
 "cells": [
  {
   "cell_type": "markdown",
   "id": "7707169b",
   "metadata": {},
   "source": [
    "## Python_Programming_Assignment_7\n",
    "1. Write a Python Program to find sum of array?\n",
    "2. Write a Python Program to find largest element in an array?\n",
    "3. Write a Python Program for array rotation?\n",
    "4. Write a Python Program to Split the array and add the first part to the end?\n",
    "5. Write a Python Program to check if given array is Monotonic?"
   ]
  },
  {
   "cell_type": "code",
   "execution_count": 10,
   "id": "1e9e8dc7",
   "metadata": {},
   "outputs": [
    {
     "name": "stdout",
     "output_type": "stream",
     "text": [
      "Sum of the array: 150\n"
     ]
    }
   ],
   "source": [
    "'''Ans 1:- The code defines a function sum_of_array that calculates\n",
    "the sum of elements in an array by iterating through each\n",
    "element and accumulating their values. An example array [10, 20, 30,\n",
    "40, 50] is used, and the program prints the calculated sum\n",
    "using f-string formatting.'''\n",
    "\n",
    "def sum_of_array(arr):\n",
    "    total = 0\n",
    "    for num in arr:\n",
    "        total += num\n",
    "    return total\n",
    "\n",
    "array = [10, 20, 30, 40, 50]\n",
    "print(f\"Sum of the array: {sum_of_array(array)}\")"
   ]
  },
  {
   "cell_type": "code",
   "execution_count": 8,
   "id": "a2b52908",
   "metadata": {},
   "outputs": [
    {
     "name": "stdout",
     "output_type": "stream",
     "text": [
      "The largest element in the array is: 78\n"
     ]
    }
   ],
   "source": [
    "'''Ans 2:- Here, the find_largest_element function takes an array as\n",
    "input and iterates through each element in the array. It\n",
    "maintains a variable called largest that initially holds the value\n",
    "of the first element. As the loop progresses, if a larger\n",
    "element is found, the largest variable is updated. Finally, the\n",
    "program prints the largest element using an f-string. We can\n",
    "replace the array variable with our own list of numbers to find\n",
    "the largest element in that array.  '''\n",
    "\n",
    "def find_largest_element(arr):\n",
    "    largest = arr[0]  # Assume the first element is the largest\n",
    "\n",
    "    # Iterate through the array to compare each element with the current largest\n",
    "    for num in arr:\n",
    "        if num > largest:\n",
    "            largest = num\n",
    "\n",
    "    return largest\n",
    "\n",
    "array = [12, 45, 6, 23, 78, 32]\n",
    "print(f\"The largest element in the array is: {find_largest_element(array)}\")"
   ]
  },
  {
   "cell_type": "code",
   "execution_count": 22,
   "id": "5b778d09",
   "metadata": {},
   "outputs": [
    {
     "name": "stdout",
     "output_type": "stream",
     "text": [
      "Original array:- [1, 2, 3, 4, 5, 6, 7]\n",
      "Rotated array: [6, 7, 3, 4, 5, 1, 2]\n"
     ]
    }
   ],
   "source": [
    "'''Ans 3:- This program first defines a function rotate_array() that\n",
    "takes an array arr, the number of elements in the array n, and\n",
    "the number of elements to rotate d as input. The function then\n",
    "creates a temporary array temp to store the first d elements of\n",
    "the original array. The first d elements of the original array\n",
    "are then moved to the end of the array, and the elements in\n",
    "the temporary array are moved to the beginning of the array.\n",
    "The function then returns the rotated array.  The main\n",
    "function of the program first creates an array arr with the numbers\n",
    "1, 2, 3, 4, 5, 6, 7. It then sets the number of elements in\n",
    "the array to n and the number of elements to rotate to d. The\n",
    "main function then calls the rotate_array() function to rotate\n",
    "the array.'''\n",
    "\n",
    "def rotate_array(arr, n, d):\n",
    "    temp = arr[0:d]\n",
    "    arr[0:d] = arr[n-d:n]\n",
    "    arr[n-d:n] = temp\n",
    "    return arr\n",
    "\n",
    "\n",
    "def main():\n",
    "    arr = [1, 2, 3, 4, 5, 6, 7]\n",
    "    n = len(arr)\n",
    "    d = 2\n",
    "    print(f\"Original array:- {arr}\")\n",
    "    print(f\"Rotated array: {rotate_array(arr, n, d)}\")\n",
    "\n",
    "if __name__ == \"__main__\":\n",
    "    main()"
   ]
  },
  {
   "cell_type": "code",
   "execution_count": 25,
   "id": "37b6d130",
   "metadata": {},
   "outputs": [
    {
     "name": "stdout",
     "output_type": "stream",
     "text": [
      "Original array: [1, 2, 3, 4, 5, 6, 7]\n",
      "Array after splitting and adding: [4, 5, 6, 7, 1, 2, 3]\n"
     ]
    }
   ],
   "source": [
    "'''Ans 4:- The program defines a function split_and_add that takes an\n",
    "array and a split index. It separates the array into two parts\n",
    "at the split index, then adds the first part to the end of\n",
    "the second part. The original and modified arrays are printed\n",
    "using f-strings.'''\n",
    "\n",
    "def split_and_add(arr, split_index):\n",
    "    first_part = arr[:split_index]\n",
    "    second_part = arr[split_index:]\n",
    "    rotated_arr = second_part + first_part\n",
    "    return rotated_arr\n",
    "\n",
    "array = [1, 2, 3, 4, 5, 6, 7]\n",
    "print(f\"Original array: {array}\")\n",
    "print(f\"Array after splitting and adding: {split_and_add(array, 3)}\")"
   ]
  },
  {
   "cell_type": "code",
   "execution_count": 32,
   "id": "fb96cdbd",
   "metadata": {},
   "outputs": [
    {
     "name": "stdout",
     "output_type": "stream",
     "text": [
      "The array is monotonic: True\n"
     ]
    }
   ],
   "source": [
    "'''Ans 5:- The is_monotonic function iterates through the array,\n",
    "checking if it's non-decreasing (increasing variable) or\n",
    "non-increasing (decreasing variable). If neither condition holds for any\n",
    "element, the array is not monotonic. The example array [1, 2, 2, 3]\n",
    "is tested and the result is printed.'''\n",
    "\n",
    "def is_monotonic(arr):\n",
    "    increasing = decreasing = True\n",
    "    for i in range(1, len(arr)):\n",
    "        if arr[i] < arr[i - 1]:\n",
    "            increasing = False\n",
    "        if arr[i] > arr[i - 1]:\n",
    "            decreasing = False\n",
    "    return increasing or decreasing\n",
    "\n",
    "array = [1, 2, 2, 3]\n",
    "print(f\"The array is monotonic: {is_monotonic(array)}\")"
   ]
  }
 ],
 "metadata": {
  "kernelspec": {
   "display_name": "Python 3 (ipykernel)",
   "language": "python",
   "name": "python3"
  },
  "language_info": {
   "codemirror_mode": {
    "name": "ipython",
    "version": 3
   },
   "file_extension": ".py",
   "mimetype": "text/x-python",
   "name": "python",
   "nbconvert_exporter": "python",
   "pygments_lexer": "ipython3",
   "version": "3.10.9"
  }
 },
 "nbformat": 4,
 "nbformat_minor": 5
}
