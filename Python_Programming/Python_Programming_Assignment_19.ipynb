{
 "cells": [
  {
   "cell_type": "markdown",
   "id": "b9a85dfa",
   "metadata": {},
   "source": [
    "## Python_Programming_Assignment_19\n",
    "1. Create a function that takes a string and returns a string in which each character is repeated once.\n",
    "    Examples\n",
    "    double_char(\"String\") ➞ \"SSttrriinngg\"\n",
    "\n",
    "    double_char(\"Hello World!\") ➞ \"HHeelllloo  WWoorrlldd!!\"\n",
    "\n",
    "    double_char(\"1234!_ \") ➞ \"11223344!!__  \"\n",
    "\n",
    "2. Create a function that reverses a boolean value and returns the string \"boolean expected\" if another variable type is given.\n",
    "    Examples\n",
    "    reverse(True) ➞ False\n",
    "\n",
    "    reverse(False) ➞ True\n",
    "\n",
    "    reverse(0) ➞ \"boolean expected\"\n",
    "\n",
    "    reverse(None) ➞ \"boolean expected\"\n",
    "\n",
    "3. Create a function that returns the thickness (in meters) of a piece of paper after folding it n number of times. The paper starts off with a thickness of 0.5mm.\n",
    "    Examples\n",
    "    num_layers(1) ➞ \"0.001m\"\n",
    "    #Paper folded once is 1mm (equal to 0.001m)\n",
    "\n",
    "    num_layers(4) ➞ \"0.008m\"\n",
    "    #Paper folded 4 times is 8mm (equal to 0.008m)\n",
    "\n",
    "    num_layers(21) ➞ \"1048.576m\"\n",
    "    #Paper folded 21 times is 1048576mm (equal to 1048.576m)\n",
    "\n",
    "\n",
    "4. Create a function that takes a single string as argument and returns an ordered list containing the indices of all capital letters in the string.\n",
    "    Examples\n",
    "    index_of_caps(\"eDaBiT\") ➞ [1, 3, 5]\n",
    "\n",
    "    index_of_caps(\"eQuINoX\") ➞ [1, 3, 4, 6]\n",
    "\n",
    "    index_of_caps(\"determine\") ➞ []\n",
    "\n",
    "    index_of_caps(\"STRIKE\") ➞ [0, 1, 2, 3, 4, 5]\n",
    "\n",
    "    index_of_caps(\"sUn\") ➞ [1]\n",
    "\n",
    "5. Using list comprehensions, create a function that finds all even numbers from 1 to the given number.\n",
    "    Examples\n",
    "    find_even_nums(8) ➞ [2, 4, 6, 8]\n",
    "\n",
    "    find_even_nums(4) ➞ [2, 4]\n",
    "\n",
    "    find_even_nums(2) ➞ [2]"
   ]
  },
  {
   "cell_type": "code",
   "execution_count": 2,
   "id": "6b19b528",
   "metadata": {},
   "outputs": [
    {
     "name": "stdout",
     "output_type": "stream",
     "text": [
      "Enter a string: String\n",
      "String with Repeated Characters:- SSttrriinngg\n",
      "Enter a string: Hello World!\n",
      "String with Repeated Characters:- HHeelllloo  WWoorrlldd!!\n",
      "Enter a string: 1234!_ \n",
      "String with Repeated Characters:- 11223344!!__  \n"
     ]
    }
   ],
   "source": [
    "'''Ans 1:- In this code, we iterate through each character in the\n",
    "input string and concatenate it with itself (repeating it once)\n",
    "using a for loop.'''\n",
    "\n",
    "def repeat_characters_once(input_string):\n",
    "    repeated_string = \"\"\n",
    "    for char in input_string:\n",
    "        repeated_string += char + char\n",
    "    return repeated_string\n",
    "\n",
    "for i in range (3):\n",
    "    input_string = input(\"Enter a string: \")\n",
    "    print(f\"String with Repeated Characters:- {repeat_characters_once(input_string)}\")"
   ]
  },
  {
   "cell_type": "code",
   "execution_count": 4,
   "id": "51f20927",
   "metadata": {},
   "outputs": [
    {
     "name": "stdout",
     "output_type": "stream",
     "text": [
      "Enter a boolean value (True or False): True\n",
      "Reversed Boolean Value: False\n",
      "Enter a boolean value (True or False): False\n",
      "Reversed Boolean Value: True\n",
      "Enter a boolean value (True or False): 0\n",
      "Reversed Boolean Value: boolean expected\n",
      "Enter a boolean value (True or False): None\n",
      "Reversed Boolean Value: boolean expected\n",
      "Enter a boolean value (True or False): Python\n",
      "Invalid input. Please enter True or False.\n"
     ]
    }
   ],
   "source": [
    "'''Ans 2:- The reverse_boolean function takes an argument value and\n",
    "checks if it's a boolean using isinstance. If so, it reverses it\n",
    "with not. If not, it returns \"boolean expected.\" An example\n",
    "prompts user for a boolean input as a string, tries to convert it\n",
    "to boolean using eval, and prints the result or an error\n",
    "message.'''\n",
    "\n",
    "def reverse_boolean(value):\n",
    "    if isinstance(value, bool):\n",
    "        return not value\n",
    "    else:\n",
    "        return \"boolean expected\"\n",
    "\n",
    "for i in range(5):\n",
    "    input_value = input(\"Enter a boolean value (True or False): \")\n",
    "\n",
    "    try:\n",
    "        input_value = eval(input_value)  # Convert the input to a boolean if possible\n",
    "        result = reverse_boolean(input_value)\n",
    "        print(\"Reversed Boolean Value:\", result)\n",
    "    except NameError:\n",
    "        print(\"Invalid input. Please enter True or False.\")"
   ]
  },
  {
   "cell_type": "code",
   "execution_count": 5,
   "id": "f10efb1e",
   "metadata": {},
   "outputs": [
    {
     "name": "stdout",
     "output_type": "stream",
     "text": [
      "Enter the number of times to fold the paper: 1\n",
      "Thickness after folding 1 times: 0.001 meters\n",
      "Enter the number of times to fold the paper: 4\n",
      "Thickness after folding 4 times: 0.008 meters\n",
      "Enter the number of times to fold the paper: 21\n",
      "Thickness after folding 21 times: 1048.576 meters\n"
     ]
    }
   ],
   "source": [
    "'''Ans 3:- The paper_thickness_after_folding function takes an\n",
    "integer n as input, representing the number of times the paper is\n",
    "folded.  It starts with an initial thickness of 0.5 millimeters\n",
    "(initial_thickness_mm) and converts it to meters (initial_thickness_m) because\n",
    "the result should be in meters.  It calculates the folded\n",
    "thickness (folded_thickness_m) by multiplying the initial thickness\n",
    "by 2 raised to the power of n. Each fold doubles the\n",
    "thickness.  The function returns the folded thickness in meters.  An\n",
    "example usage allows the user to input the number of folds (n),\n",
    "calculates the folded thickness, and prints the result in meters.'''\n",
    "\n",
    "def paper_thickness_after_folding(n):\n",
    "    initial_thickness_mm = 0.5  # Initial thickness in millimeters\n",
    "    # Convert millimeters to meters (1 meter = 1000 millimeters)\n",
    "    initial_thickness_m = initial_thickness_mm / 1000\n",
    "\n",
    "    # Calculate the folded thickness\n",
    "    folded_thickness_m = initial_thickness_m * (2 ** n)\n",
    "\n",
    "    return folded_thickness_m\n",
    "\n",
    "for i in range(3):\n",
    "    n = int(input(\"Enter the number of times to fold the paper: \"))\n",
    "    result = paper_thickness_after_folding(n)\n",
    "    print(f\"Thickness after folding {n} times: {result} meters\")"
   ]
  },
  {
   "cell_type": "code",
   "execution_count": 6,
   "id": "f191706b",
   "metadata": {},
   "outputs": [
    {
     "name": "stdout",
     "output_type": "stream",
     "text": [
      "Enter a string: eDaBiT\n",
      "Indices of Capital Letters: [1, 3, 5]\n",
      "Enter a string: eQuINoX\n",
      "Indices of Capital Letters: [1, 3, 4, 6]\n",
      "Enter a string: determine\n",
      "Indices of Capital Letters: []\n",
      "Enter a string: STRIKE\n",
      "Indices of Capital Letters: [0, 1, 2, 3, 4, 5]\n",
      "Enter a string: sUn\n",
      "Indices of Capital Letters: [1]\n"
     ]
    }
   ],
   "source": [
    "'''Ans 4:- The find_capital_letter_indices function takes\n",
    "input_string as an argument and uses list comprehension with enumerate\n",
    "to iterate through the characters. For uppercase characters,\n",
    "it records their indices in capital_indices, which it\n",
    "returns. An example demonstrates its usage by finding capital\n",
    "letter indices in user-input strings.'''\n",
    "\n",
    "def find_capital_letter_indices(input_string):\n",
    "    capital_indices = [i for i, char in enumerate(input_string) if char.isupper()]\n",
    "    return capital_indices\n",
    "\n",
    "for i in range(5):\n",
    "    input_string = input(\"Enter a string: \")\n",
    "    result = find_capital_letter_indices(input_string)\n",
    "    print(\"Indices of Capital Letters:\", result)\n",
    "    "
   ]
  },
  {
   "cell_type": "code",
   "execution_count": 7,
   "id": "a22b7913",
   "metadata": {},
   "outputs": [
    {
     "name": "stdout",
     "output_type": "stream",
     "text": [
      "Enter a number: 8\n",
      "Even Numbers:- [2, 4, 6, 8]\n",
      "Enter a number: 4\n",
      "Even Numbers:- [2, 4]\n",
      "Enter a number: 2\n",
      "Even Numbers:- [2]\n"
     ]
    }
   ],
   "source": [
    "'''Ans 5:- The find_even_numbers function takes an upper limit n. It\n",
    "employs list comprehension to generate a list of even numbers from\n",
    "1 to n. The function returns this list. An example allows\n",
    "user input of n, and it prints the list of even numbers from 1\n",
    "to n.'''\n",
    "\n",
    "def find_even_numbers(n):\n",
    "    even_numbers = [x for x in range(1, n + 1) if x % 2 == 0]\n",
    "    return even_numbers\n",
    "\n",
    "for i in range(3):\n",
    "    n = int(input(\"Enter a number: \"))\n",
    "    print(f\"Even Numbers:- {find_even_numbers(n)}\")"
   ]
  }
 ],
 "metadata": {
  "kernelspec": {
   "display_name": "Python 3 (ipykernel)",
   "language": "python",
   "name": "python3"
  },
  "language_info": {
   "codemirror_mode": {
    "name": "ipython",
    "version": 3
   },
   "file_extension": ".py",
   "mimetype": "text/x-python",
   "name": "python",
   "nbconvert_exporter": "python",
   "pygments_lexer": "ipython3",
   "version": "3.10.9"
  }
 },
 "nbformat": 4,
 "nbformat_minor": 5
}
