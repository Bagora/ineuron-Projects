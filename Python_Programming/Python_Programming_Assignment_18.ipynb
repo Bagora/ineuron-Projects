{
 "cells": [
  {
   "cell_type": "markdown",
   "id": "faa68672",
   "metadata": {},
   "source": [
    "## Python_Programming_Assignment_18\n",
    "1. Create a function that takes a list of non-negative integers and strings and return a new list without the strings.\n",
    "    >Examples filter_list([1, 2, \"a\", \"b\"]) ➞ [1, 2]\n",
    "    >filter_list([1, \"a\", \"b\", 0, 15]) ➞ [1, 0, 15]\n",
    "    >filter_list([1, 2, \"aasf\", \"1\", \"123\", 123]) ➞ [1, 2, 123]\n",
    "\n",
    "2. The \"Reverser\" takes a string as input and returns that string in reverse order, with the opposite case.\n",
    "    >Examples reverse(\"Hello World\") ➞ \"DLROw OLLEh\"\n",
    "    >reverse(\"ReVeRsE\") ➞ \"eSrEvEr\"\n",
    "    >reverse(\"Radar\") ➞ \"RADAr\"\n",
    "\n",
    "3. You can assign variables from lists like this:\n",
    "    >lst = [1, 2, 3, 4, 5, 6]\n",
    "    >first = lst[0]\n",
    "    >middle = lst[1:-1]\n",
    "    >last = lst[-1]\n",
    "    >print(first) ➞ outputs 1\n",
    "    >print(middle) ➞ outputs [2, 3, 4, 5]\n",
    "    >print(last) ➞ outputs 6\n",
    "    \n",
    "    With Python 3, you can assign variables from lists in a much more succinct way. Create variables first, middle and last > from the given list using destructuring assignment (check the Resources tab for some examples), where:\n",
    "    >first  ➞ 1\n",
    "    >middle ➞ [2, 3, 4, 5]\n",
    "    >last ➞ 6\n",
    "    Your task is to unpack the list writeyourcodehere into three variables, being first, middle, and last, with middle being everything in between the first and last element. Then print all three variables.\n",
    "\n",
    "4. Write a function that calculates the factorial of a number recursively.\n",
    "    >Examples\n",
    "    >>factorial(5) ➞ 120\n",
    "    >>factorial(3) ➞ 6\n",
    "    >>factorial(1) ➞ 1\n",
    "    >>factorial(0) ➞ 1\n",
    "\n",
    "5. Write a function that moves all elements of one type to the end of the list.\n",
    "    >Examples\n",
    "    \n",
    "    >move_to_end([1, 3, 2, 4, 4, 1], 1) ➞ [3, 2, 4, 4, 1, 1]\n",
    "    \n",
    "    >Move all the 1s to the end of the array.\n",
    "    \n",
    "    >move_to_end([7, 8, 9, 1, 2, 3, 4], 9) ➞ [7, 8, 1, 2, 3, 4, 9]\n",
    "    \n",
    "    >move_to_end([\"a\", \"a\", \"a\", \"b\"], \"a\") ➞ [\"b\", \"a\", \"a\", \"a\"]"
   ]
  },
  {
   "cell_type": "code",
   "execution_count": 4,
   "id": "89e62d75",
   "metadata": {},
   "outputs": [
    {
     "name": "stdout",
     "output_type": "stream",
     "text": [
      "Enter a list of integers and strings (separated by spaces) for list 1: 1 2 \"a\" \"b\"\n",
      "Original List 1: ['1', '2', '\"a\"', '\"b\"']\n",
      "Filtered List 1 (Without Strings): [1, 2]\n",
      "Enter a list of integers and strings (separated by spaces) for list 2: 1 \"a\" \"b\" 0 15\n",
      "Original List 2: ['1', '\"a\"', '\"b\"', '0', '15']\n",
      "Filtered List 2 (Without Strings): [1, 0, 15]\n",
      "Enter a list of integers and strings (separated by spaces) for list 3: 1 2 \"aasf\" \"1\" \"123\" 123\n",
      "Original List 3: ['1', '2', '\"aasf\"', '\"1\"', '\"123\"', '123']\n",
      "Filtered List 3 (Without Strings): [1, 2, 123]\n"
     ]
    }
   ],
   "source": [
    "'''Ans 1:- The code uses a for loop to iterate for up to 3 lists. \n",
    "For each list, it prompts the user to enter a space-separated\n",
    "list of non-negative integers and strings.  It splits the input\n",
    "string to obtain a list of elements.  It then converts each\n",
    "element to its appropriate type (int or str) using a list\n",
    "comprehension. If the element is a digit, it's converted to an integer;\n",
    "otherwise, it remains a string.  The filter_strings function is\n",
    "called to filter out the strings from the converted list.  The\n",
    "program prints both the original list and the filtered list for\n",
    "each input.'''\n",
    "\n",
    "def filter_strings(input_list):\n",
    "    return [x for x in input_list if isinstance(x, int)]\n",
    "\n",
    "for i in range(3):\n",
    "    input_list = input(f\"Enter a list of integers and strings (separated by spaces) for list {i + 1}: \").split()\n",
    "    \n",
    "    # Convert input elements to their appropriate types (int or str)\n",
    "    converted_list = [int(x) if x.isdigit() else x for x in input_list]\n",
    "    \n",
    "    filtered_list = filter_strings(converted_list)\n",
    "    \n",
    "    print(f\"Original List {i + 1}:\", input_list)\n",
    "    print(f\"Filtered List {i + 1} (Without Strings):\", filtered_list)"
   ]
  },
  {
   "cell_type": "code",
   "execution_count": 5,
   "id": "fefcce82",
   "metadata": {},
   "outputs": [
    {
     "name": "stdout",
     "output_type": "stream",
     "text": [
      "Enter string 1: Hello World\n",
      "Reversed and Swapped Case String 1: DLROw OLLEh\n",
      "Enter string 2: ReVeRsE\n",
      "Reversed and Swapped Case String 2: eSrEvEr\n",
      "Enter string 3: Radar\n",
      "Reversed and Swapped Case String 3: RADAr\n",
      "Enter string 4: Data Science\n",
      "Reversed and Swapped Case String 4: ECNEICs ATAd\n",
      "Enter string 5: Python\n",
      "Reversed and Swapped Case String 5: NOHTYp\n"
     ]
    }
   ],
   "source": [
    "'''Ans 2:- The code uses a for loop to iterate for up to 5 input\n",
    "strings.  For each input string, it prompts the user to enter a\n",
    "string.  It calls the reverser function to reverse the string and\n",
    "swap the case of each character.  The program then prints the\n",
    "reversed and swapped case string for each input.'''\n",
    "\n",
    "def reverser(input_string):\n",
    "    reversed_string = input_string[::-1] \n",
    "    swapped_case_string = ''.join([char.lower() if char.isupper() else char.upper() for char in reversed_string])\n",
    "    return swapped_case_string\n",
    "\n",
    "\n",
    "for i in range(5):\n",
    "    input_string = input(f\"Enter string {i + 1}: \")\n",
    "    result = reverser(input_string)\n",
    "    print(f\"Reversed and Swapped Case String {i + 1}:\", result)"
   ]
  },
  {
   "cell_type": "code",
   "execution_count": 7,
   "id": "c4dee659",
   "metadata": {},
   "outputs": [
    {
     "name": "stdout",
     "output_type": "stream",
     "text": [
      "first ➞ 1\n",
      "middle ➞ [2, 3, 4, 5]\n",
      "last ➞ 6\n"
     ]
    }
   ],
   "source": [
    "'''Ans 3:- first is assigned the first element of the list, which is\n",
    "1.  *middle uses the asterisk * to collect all elements\n",
    "between the first and last elements into a list called middle. In\n",
    "this case, it collects [2, 3, 4, 5].  last is assigned the last\n",
    "element of the list, which is 6.  Finally, the code prints the\n",
    "values of first, middle, and last.'''\n",
    "\n",
    "# Given list\n",
    "lst = [1, 2, 3, 4, 5, 6]\n",
    "\n",
    "# Destructuring assignment\n",
    "first, *middle, last = lst\n",
    "\n",
    "\n",
    "print(\"first ➞\", first)\n",
    "print(\"middle ➞\", middle)\n",
    "print(\"last ➞\", last)"
   ]
  },
  {
   "cell_type": "code",
   "execution_count": 8,
   "id": "b38b0b09",
   "metadata": {},
   "outputs": [
    {
     "name": "stdout",
     "output_type": "stream",
     "text": [
      "Enter a non-negative integer for case 1: 5\n",
      "The factorial of 5 is 120.\n",
      "Enter a non-negative integer for case 2: 3\n",
      "The factorial of 3 is 6.\n",
      "Enter a non-negative integer for case 3: 1\n",
      "The factorial of 1 is 1.\n",
      "Enter a non-negative integer for case 4: 0\n",
      "The factorial of 0 is 1.\n",
      "Enter a non-negative integer for case 5: 12\n",
      "The factorial of 12 is 479001600.\n"
     ]
    }
   ],
   "source": [
    "'''Ans 4:- The code uses a for loop to iterate for up to 5 numbers. \n",
    "For each number, it prompts the user to enter a non-negative\n",
    "integer.  It calls the factorial_recursive function to calculate\n",
    "the factorial of the entered number.  The program then prints\n",
    "the factorial for each input.'''\n",
    "\n",
    "def factorial_recursive(n):\n",
    "    if n == 0:\n",
    "        # factorial of 0 is 1\n",
    "        return 1  \n",
    "    else:\n",
    "        return n * factorial_recursive(n - 1)\n",
    "\n",
    "for i in range(5):\n",
    "    number = int(input(f\"Enter a non-negative integer for case {i + 1}: \"))\n",
    "\n",
    "    if number < 0:\n",
    "        print(\"Please enter a non-negative integer.\")\n",
    "    else:\n",
    "        result = factorial_recursive(number)\n",
    "        print(f\"The factorial of {number} is {result}.\")"
   ]
  },
  {
   "cell_type": "code",
   "execution_count": 1,
   "id": "f1b3e8d9",
   "metadata": {},
   "outputs": [
    {
     "name": "stdout",
     "output_type": "stream",
     "text": [
      "move_to_end([1, 3, 2, 4, 4, 1], 1) ➞ [3, 2, 4, 4, 1, 1]\n",
      "move_to_end([7, 8, 9, 1, 2, 3, 4], 9) ➞ [7, 8, 1, 2, 3, 4, 9]\n",
      "move_to_end([\"a\", \"a\", \"a\", \"b\"], \"a\") ➞ ['b', 'a', 'a', 'a']\n"
     ]
    }
   ],
   "source": [
    "'''Ans 5:- The move_to_end function takes a list and an element as\n",
    "input. It initializes two empty lists, first_end and second_end.\n",
    "It iterates through the input list, appending the element to\n",
    "second_end if it matches the specified element; otherwise, it appends\n",
    "it to first_end. Finally, it extends first_end with\n",
    "second_end, effectively moving all instances of the specified element\n",
    "to the end of the list.'''\n",
    "\n",
    "def move_to_end(list,num):\n",
    "    first_end = []\n",
    "    second_end = []\n",
    "    for element in list:\n",
    "        if element == num:\n",
    "            second_end.append(element)\n",
    "        else:\n",
    "            first_end.append(element)\n",
    "    first_end.extend(second_end)\n",
    "    return first_end\n",
    "    \n",
    "print(f'move_to_end([1, 3, 2, 4, 4, 1], 1) ➞ {move_to_end([1, 3, 2, 4, 4, 1], 1)}')\n",
    "print(f'move_to_end([7, 8, 9, 1, 2, 3, 4], 9) ➞ {move_to_end([7, 8, 9, 1, 2, 3, 4], 9)}')\n",
    "print(f'move_to_end([\"a\", \"a\", \"a\", \"b\"], \"a\") ➞ {move_to_end([\"a\", \"a\", \"a\", \"b\"], \"a\")}')"
   ]
  }
 ],
 "metadata": {
  "kernelspec": {
   "display_name": "Python 3 (ipykernel)",
   "language": "python",
   "name": "python3"
  },
  "language_info": {
   "codemirror_mode": {
    "name": "ipython",
    "version": 3
   },
   "file_extension": ".py",
   "mimetype": "text/x-python",
   "name": "python",
   "nbconvert_exporter": "python",
   "pygments_lexer": "ipython3",
   "version": "3.10.9"
  }
 },
 "nbformat": 4,
 "nbformat_minor": 5
}
