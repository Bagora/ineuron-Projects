{
 "cells": [
  {
   "cell_type": "markdown",
   "id": "a56debbb",
   "metadata": {},
   "source": [
    "## Python_Programming_Assignment_11\n",
    "1. Write a Python program to find words which are greater than given length k?\n",
    "2. Write a Python program for removing i-th character from a string?\n",
    "3. Write a Python program to split and join a string?\n",
    "4. Write a Python to check if a given string is binary string or not?\n",
    "5. Write a Python program to find uncommon words from two Strings?\n",
    "6. Write a Python to find all duplicate characters in string?\n",
    "7. Write a Python Program to check if a string contains any special character?"
   ]
  },
  {
   "cell_type": "code",
   "execution_count": 2,
   "id": "344fe39a",
   "metadata": {},
   "outputs": [
    {
     "name": "stdout",
     "output_type": "stream",
     "text": [
      "Words longer than 5 characters: ['banana', 'cherry', 'elderberry']\n"
     ]
    }
   ],
   "source": [
    "'''Ans 1:- The program defines a function find_long_words that takes\n",
    "a list of words (word_list) and an integer k as input.  It\n",
    "uses a list comprehension to filter words in word_list that\n",
    "have a length greater than k.  The filtered words are stored in\n",
    "the long_words list, which is then returned.  An example usage\n",
    "of the function is provided, where it finds words longer than\n",
    "k characters in the word_list and prints the result.'''\n",
    "\n",
    "def find_long_words(word_list, k):\n",
    "    long_words = [word for word in word_list if len(word) > k]\n",
    "    return long_words\n",
    "\n",
    "word_list = [\"apple\", \"banana\", \"cherry\", \"date\", \"elderberry\"]\n",
    "k = 5\n",
    "print(f\"Words longer than {k} characters: {find_long_words(word_list, k)}\")"
   ]
  },
  {
   "cell_type": "code",
   "execution_count": 4,
   "id": "8e378e55",
   "metadata": {},
   "outputs": [
    {
     "name": "stdout",
     "output_type": "stream",
     "text": [
      "Original String: Hello, Python!\n",
      "String after removing character at index 6: Hello,Python!\n"
     ]
    }
   ],
   "source": [
    "'''Ans 2:- The remove_character_at_index function takes an input\n",
    "string and the index of the character to be removed.  It checks\n",
    "if the index is valid (i.e., within the bounds of the\n",
    "string).  If the index is valid, it creates a new string new_string\n",
    "by concatenating the part of the original string before the\n",
    "character to be removed and the part after the character to be\n",
    "removed.  The modified string (new_string) is returned as the\n",
    "result.  An example usage of the function is provided, where it\n",
    "removes the character at the specified index from the original\n",
    "string and prints the result.'''\n",
    "\n",
    "def remove_character_at_index(input_string, index_to_remove):\n",
    "    if index_to_remove < 0 or index_to_remove >= len(input_string):\n",
    "        return \"Invalid index\"\n",
    "    else:\n",
    "        new_string = input_string[:index_to_remove] + input_string[index_to_remove + 1:]\n",
    "        return new_string\n",
    "\n",
    "original_string = \"Hello, Python!\"\n",
    "index_to_remove = 6\n",
    "result = remove_character_at_index(original_string, index_to_remove)\n",
    "print(\"Original String:\", original_string)\n",
    "print(f\"String after removing character at index {index_to_remove}:\", result)"
   ]
  },
  {
   "cell_type": "code",
   "execution_count": 8,
   "id": "7b1689a0",
   "metadata": {},
   "outputs": [
    {
     "name": "stdout",
     "output_type": "stream",
     "text": [
      "Original String: This is a sample string.\n",
      "Split String:- ['This', 'is', 'a', 'sample', 'string.']\n",
      "Joined String:- This is a sample string.\n"
     ]
    }
   ],
   "source": [
    "'''Ans 3:- The split_string function uses the split() method to split\n",
    "an input string into a list of words. By default, split()\n",
    "splits the string at whitespace characters.  The join_string\n",
    "function uses the join() method to join a list of words back into a\n",
    "single string. In this example, a space is used as the separator\n",
    "between words.  An example usage of both functions is provided,\n",
    "where the original string is split, and the resulting list of\n",
    "words is joined back into a single string'''\n",
    "\n",
    "# Split a string into a list of words\n",
    "def split_string(input_string):\n",
    "    words = input_string.split()\n",
    "    return words\n",
    "\n",
    "# Join a list of words into a single string\n",
    "def join_string(words):\n",
    "    result = ' '.join(words) \n",
    "    return result\n",
    "\n",
    "original_string = \"This is a sample string.\"\n",
    "print(\"Original String:\", original_string)\n",
    "print(f\"Split String:- {split_string(original_string)}\")\n",
    "\n",
    "# Join the list of words back into a single string\n",
    "print(f\"Joined String:- {join_string(split_result)}\")"
   ]
  },
  {
   "cell_type": "code",
   "execution_count": 10,
   "id": "e287c599",
   "metadata": {},
   "outputs": [
    {
     "name": "stdout",
     "output_type": "stream",
     "text": [
      "'101010' is a binary string: True\n",
      "'10102' is a binary string: False\n"
     ]
    }
   ],
   "source": [
    "'''Ans 4:- We import the re module to work with regular expressions. \n",
    "The is_binary_string function defines a regular expression\n",
    "pattern ^[01]+$, which matches strings that contain only '0' and\n",
    "'1' characters and have at least one character.  The\n",
    "re.match() function is used to check if the input string matches the\n",
    "pattern. If it does, the function returns True, indicating that the\n",
    "string is a binary string. Otherwise, it returns False.  Example\n",
    "usage is provided, where we test two strings to determine if\n",
    "they are binary strings or not.'''\n",
    "\n",
    "import re\n",
    "\n",
    "def is_binary_string(input_string):\n",
    "    # Define a regular expression pattern for binary strings\n",
    "    pattern = '^[01]+$'\n",
    "    \n",
    "    # Use re.match() to check if the input string matches the pattern\n",
    "    if re.match(pattern, input_string):\n",
    "        return True\n",
    "    else:\n",
    "        return False\n",
    "\n",
    "# Example usage:\n",
    "test_string1 = \"101010\"\n",
    "test_string2 = \"10102\"\n",
    "\n",
    "print(f\"'{test_string1}' is a binary string: {is_binary_string(test_string1)}\")\n",
    "print(f\"'{test_string2}' is a binary string: {is_binary_string(test_string2)}\")"
   ]
  },
  {
   "cell_type": "code",
   "execution_count": 12,
   "id": "42ebc512",
   "metadata": {},
   "outputs": [
    {
     "name": "stdout",
     "output_type": "stream",
     "text": [
      "Uncommon words: ['first', 'second']\n"
     ]
    }
   ],
   "source": [
    "'''Ans 5:- The program defines a function find_uncommon_words that\n",
    "takes two input strings, str1 and str2.  It splits both strings\n",
    "into words using split() and converts them into sets to remove\n",
    "duplicates.  The symmetric difference of the two sets (words1 and\n",
    "words2) gives the uncommon words.  The uncommon words are\n",
    "converted back to a list and returned.'''\n",
    "\n",
    "def find_uncommon_words(str1, str2):\n",
    "    words1 = set(str1.split())\n",
    "    words2 = set(str2.split())\n",
    "    uncommon_words = words1.symmetric_difference(words2)\n",
    "    return list(uncommon_words)\n",
    "\n",
    "# Example usage:\n",
    "string1 = \"This is the first string\"\n",
    "string2 = \"This is the second string\"\n",
    "result = find_uncommon_words(string1, string2)\n",
    "print(\"Uncommon words:\", result)"
   ]
  },
  {
   "cell_type": "code",
   "execution_count": 13,
   "id": "2d9b83ca",
   "metadata": {},
   "outputs": [
    {
     "name": "stdout",
     "output_type": "stream",
     "text": [
      "Duplicate characters: ['r', 'm', 'g']\n"
     ]
    }
   ],
   "source": [
    "'''Ans 6:- The find_duplicate_characters function processes an input\n",
    "string, using char_count to track character counts and duplicates\n",
    "to store duplicates. It iterates through the string, marking\n",
    "characters with a count of 2 as duplicates. The function returns the\n",
    "list of duplicate characters. An example demonstrates its usage\n",
    "on the string \"programming.\"'''\n",
    "\n",
    "def find_duplicate_characters(input_string):\n",
    "    # Create an empty dictionary to store character counts\n",
    "    char_count = {}\n",
    "    duplicates = []\n",
    "\n",
    "    # Iterate through the string\n",
    "    for char in input_string:\n",
    "        # Increment the count for each character\n",
    "        char_count[char] = char_count.get(char, 0) + 1\n",
    "\n",
    "        # If the count becomes 2, it's a duplicate\n",
    "        if char_count[char] == 2:\n",
    "            duplicates.append(char)\n",
    "\n",
    "    return duplicates\n",
    "\n",
    "# Example usage:\n",
    "input_str = \"programming\"\n",
    "duplicate_chars = find_duplicate_characters(input_str)\n",
    "print(\"Duplicate characters:\", duplicate_chars)"
   ]
  },
  {
   "cell_type": "code",
   "execution_count": 14,
   "id": "f98d2285",
   "metadata": {},
   "outputs": [
    {
     "name": "stdout",
     "output_type": "stream",
     "text": [
      "'Hello123' contains special characters: False\n",
      "'Hello@World!' contains special characters: True\n"
     ]
    }
   ],
   "source": [
    "'''Ans 7:- The program utilizes the 're' module for regular\n",
    "expressions. The 'contains_special_characters' function employs a regex\n",
    "pattern to identify special characters. It employs 're.search()'\n",
    "to detect the pattern in the input string, returning 'True'\n",
    "if special characters are present, else 'False'. Sample usage\n",
    "demonstrates its functionality in checking for special characters.'''\n",
    "import re\n",
    "\n",
    "def contains_special_characters(input_string):\n",
    "    # Define a regular expression pattern for special characters\n",
    "    pattern = r'[!@#$%^&*()_+{}\\[\\]:;<>,.?~\\\\/-]'\n",
    "    \n",
    "    # Use re.search() to check if the pattern is found in the input string\n",
    "    if re.search(pattern, input_string):\n",
    "        return True\n",
    "    else:\n",
    "        return False\n",
    "\n",
    "test_string1 = \"Hello123\"\n",
    "test_string2 = \"Hello@World!\"\n",
    "\n",
    "print(f\"'{test_string1}' contains special characters: {contains_special_characters(test_string1)}\")\n",
    "print(f\"'{test_string2}' contains special characters: {contains_special_characters(test_string2)}\")"
   ]
  },
  {
   "cell_type": "code",
   "execution_count": null,
   "id": "abc53150",
   "metadata": {},
   "outputs": [],
   "source": []
  }
 ],
 "metadata": {
  "kernelspec": {
   "display_name": "Python 3 (ipykernel)",
   "language": "python",
   "name": "python3"
  },
  "language_info": {
   "codemirror_mode": {
    "name": "ipython",
    "version": 3
   },
   "file_extension": ".py",
   "mimetype": "text/x-python",
   "name": "python",
   "nbconvert_exporter": "python",
   "pygments_lexer": "ipython3",
   "version": "3.10.9"
  }
 },
 "nbformat": 4,
 "nbformat_minor": 5
}
