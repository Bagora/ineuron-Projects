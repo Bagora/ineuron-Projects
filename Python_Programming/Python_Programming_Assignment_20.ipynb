{
 "cells": [
  {
   "cell_type": "markdown",
   "id": "e19491fe",
   "metadata": {},
   "source": [
    "## Python_Programming_Assignment_20\n",
    "1. Create a function that takes a list of strings and integers, and filters out the list so that it returns a list of integers only.\n",
    "    Examples\n",
    "    filter_list([1, 2, 3, \"a\", \"b\", 4]) ➞ [1, 2, 3, 4]\n",
    "\n",
    "    filter_list([\"A\", 0, \"Edabit\", 1729, \"Python\", \"1729\"]) ➞ [0, 1729]\n",
    "\n",
    "    filter_list([\"Nothing\", \"here\"]) ➞ []\n",
    "\n",
    "2. Given a list of numbers, create a function which returns the list but with each element's index in the list added to itself. This means you add 0 to the number at index 0, add 1 to the number at index 1, etc...\n",
    "    Examples\n",
    "    add_indexes([0, 0, 0, 0, 0]) ➞ [0, 1, 2, 3, 4]\n",
    "\n",
    "    add_indexes([1, 2, 3, 4, 5]) ➞ [1, 3, 5, 7, 9]\n",
    "\n",
    "    add_indexes([5, 4, 3, 2, 1]) ➞ [5, 5, 5, 5, 5]\n",
    "\n",
    "3. Create a function that takes the height and radius of a cone as arguments and returns the volume of the cone rounded to the nearest hundredth. See the resources tab for the formula.\n",
    " \n",
    "    Examples\n",
    "    cone_volume(3, 2) ➞ 12.57\n",
    "\n",
    "    cone_volume(15, 6) ➞ 565.49\n",
    "\n",
    "    cone_volume(18, 0) ➞ 0\n",
    "\n",
    "4. This Triangular Number Sequence is generated from a pattern of dots that form a triangle. The first 5 numbers of the sequence, or dots, are: \n",
    "    1, 3, 6, 10, 15\n",
    "    This means that the first triangle has just one dot, the second one has three dots, the third one has 6 dots and so on.\n",
    "    Write a function that gives the number of dots with its corresponding triangle number of the sequence.\n",
    "    Examples\n",
    "    triangle(1) ➞ 1\n",
    "\n",
    "    triangle(6) ➞ 21\n",
    "\n",
    "    triangle(215) ➞ 23220\n",
    "\n",
    "5. Create a function that takes a list of numbers between 1 and 10 (excluding one number) and returns the missing number.\n",
    "    Examples\n",
    "    missing_num([1, 2, 3, 4, 6, 7, 8, 9, 10]) ➞ 5\n",
    "\n",
    "    missing_num([7, 2, 3, 6, 5, 9, 1, 4, 8]) ➞ 10\n",
    "\n",
    "    missing_num([10, 5, 1, 2, 4, 6, 8, 3, 9]) ➞ 7"
   ]
  },
  {
   "cell_type": "code",
   "execution_count": 3,
   "id": "900c129a",
   "metadata": {},
   "outputs": [
    {
     "name": "stdout",
     "output_type": "stream",
     "text": [
      "[1, 2, 3, 4]\n",
      "[0, 1729]\n",
      "[]\n"
     ]
    }
   ],
   "source": [
    "'''Ans 1:- It defines a function filter_list that takes a list\n",
    "as input and filters out only the integer elements using a\n",
    "list comprehension. It then returns the list of integers. The\n",
    "examples show how the function filters integers from different\n",
    "input lists.'''\n",
    "\n",
    "def filter_list(input_list):\n",
    "    integers_only = [x for x in input_list if isinstance(x, int)]\n",
    "    return integers_only\n",
    "\n",
    "print(filter_list([1, 2, 3, \"a\", \"b\", 4]))\n",
    "print(filter_list([\"A\", 0, \"Edabit\", 1729, \"Python\", \"1729\"]))\n",
    "print(filter_list([\"Nothing\", \"here\"]))"
   ]
  },
  {
   "cell_type": "code",
   "execution_count": 5,
   "id": "f3691fe6",
   "metadata": {},
   "outputs": [
    {
     "name": "stdout",
     "output_type": "stream",
     "text": [
      "[0, 1, 2, 3, 4]\n",
      "[1, 3, 5, 7, 9]\n",
      "[5, 5, 5, 5, 5]\n"
     ]
    }
   ],
   "source": [
    "'''Ans 2:- The add_indexes function takes a single argument\n",
    "input_list, which is the list of numbers.  It uses a list\n",
    "comprehension to iterate through the elements of input_list along with\n",
    "their respective indices. The enumerate(input_list) function\n",
    "provides both the index and the number for each element.  For each\n",
    "element num at index index, it calculates num + index and appends\n",
    "the result to the result list.  The function returns the\n",
    "result list, which contains the numbers with their indices added\n",
    "to them.'''\n",
    "\n",
    "def add_indexes(input_list):\n",
    "    result = [num + index for index, num in enumerate(input_list)]\n",
    "    return result\n",
    "\n",
    "print(add_indexes([0, 0, 0, 0, 0]))\n",
    "print(add_indexes([1, 2, 3, 4, 5]))\n",
    "print(add_indexes([5, 4, 3, 2, 1]))"
   ]
  },
  {
   "cell_type": "code",
   "execution_count": 6,
   "id": "615349ad",
   "metadata": {},
   "outputs": [
    {
     "name": "stdout",
     "output_type": "stream",
     "text": [
      "12.57\n",
      "565.49\n",
      "0.0\n"
     ]
    }
   ],
   "source": [
    "'''Ans 3:- The cone_volume function takes two arguments: height and\n",
    "radius.  It first checks if the radius is zero. If the radius is\n",
    "zero, the volume of the cone is zero, and it returns 0.0.  If\n",
    "the radius is non-zero, the function calculates the volume of\n",
    "the cone using the formula (1/3) * π * r^2 * h, where r is the\n",
    "radius, h is the height, and π is a constant from the math module.\n",
    "The calculated volume is rounded to two decimal places\n",
    "using the round function.  The function returns the calculated\n",
    "volume.'''\n",
    "\n",
    "import math\n",
    "\n",
    "def cone_volume(height, radius):\n",
    "    if radius == 0:\n",
    "        return 0.0\n",
    "    else:\n",
    "        volume = (1/3) * math.pi * (radius ** 2) * height\n",
    "        return round(volume, 2)\n",
    "\n",
    "print(cone_volume(3, 2))\n",
    "print(cone_volume(15, 6)) \n",
    "print(cone_volume(18, 0))"
   ]
  },
  {
   "cell_type": "code",
   "execution_count": 7,
   "id": "6399db8e",
   "metadata": {},
   "outputs": [
    {
     "name": "stdout",
     "output_type": "stream",
     "text": [
      "1\n",
      "21\n",
      "23220\n"
     ]
    }
   ],
   "source": [
    "'''Ans 4:- The triangle function takes a single argument n, which\n",
    "represents the position of the triangle in the sequence.  It\n",
    "calculates the number of dots in the n-th triangle using the formula\n",
    "(n * (n + 1)) // 2. This formula corresponds to the sum of\n",
    "the first n natural numbers, which represents the number of\n",
    "dots in the triangle.  The function returns the calculated\n",
    "number of dots for the given position in the sequence.'''\n",
    "\n",
    "def triangle(n):\n",
    "    return (n * (n + 1)) // 2\n",
    "\n",
    "print(triangle(1))\n",
    "print(triangle(6))\n",
    "print(triangle(215))"
   ]
  },
  {
   "cell_type": "code",
   "execution_count": 8,
   "id": "fd80ae97",
   "metadata": {},
   "outputs": [
    {
     "name": "stdout",
     "output_type": "stream",
     "text": [
      "5\n",
      "10\n",
      "7\n"
     ]
    }
   ],
   "source": [
    "'''Ans 5 :- The missing_num function takes a list of numbers\n",
    "as an argument.  It calculates the expected sum of numbers\n",
    "from 1 to 10 (inclusive) using sum(range(1, 11)).  It\n",
    "calculates the actual sum of the numbers in the input list using\n",
    "sum(numbers).  The missing number is determined by subtracting the\n",
    "actual sum from the expected sum.  The function returns the\n",
    "missing number.'''\n",
    "\n",
    "def missing_num(numbers):\n",
    "    expected_sum = sum(range(1, 11))\n",
    "    actual_sum = sum(numbers)\n",
    "    missing_number = expected_sum - actual_sum\n",
    "    return missing_number\n",
    "\n",
    "\n",
    "print(missing_num([1, 2, 3, 4, 6, 7, 8, 9, 10]))\n",
    "print(missing_num([7, 2, 3, 6, 5, 9, 1, 4, 8]))\n",
    "print(missing_num([10, 5, 1, 2, 4, 6, 8, 3, 9]))"
   ]
  }
 ],
 "metadata": {
  "kernelspec": {
   "display_name": "Python 3 (ipykernel)",
   "language": "python",
   "name": "python3"
  },
  "language_info": {
   "codemirror_mode": {
    "name": "ipython",
    "version": 3
   },
   "file_extension": ".py",
   "mimetype": "text/x-python",
   "name": "python",
   "nbconvert_exporter": "python",
   "pygments_lexer": "ipython3",
   "version": "3.10.9"
  }
 },
 "nbformat": 4,
 "nbformat_minor": 5
}
