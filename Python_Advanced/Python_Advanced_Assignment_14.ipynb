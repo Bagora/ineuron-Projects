{
 "cells": [
  {
   "cell_type": "markdown",
   "id": "e2c8b562",
   "metadata": {},
   "source": [
    "## Python_Advanced_Assignment_14\n",
    "1. Is an assignment operator like += only for show? Is it possible that it would lead to faster results at the runtime?\n",
    "2. What is the smallest number of statements you'd have to write in most programming languages to replace the Python expression a, b = a + b, a?\n",
    "3. In Python, what is the most effective way to set a list of 100 integers to 0?\n",
    "4. What is the most effective way to initialise a list of 99 integers that repeats the sequence 1, 2, 3? S If necessary, show step-by-step instructions on how to accomplish this.\n",
    "5. If you're using IDLE to run a Python application, explain how to print a multidimensional list as efficiently?\n",
    "6. Is it possible to use list comprehension with a string? If so, how can you go about doing it?\n",
    "7. From the command line, how do you get support with a user-written Python programme? Is this possible from inside IDLE?\n",
    "8. Functions are said to be “first-class objects” in Python but not in most other languages, such as C++ or Java. What can you do in Python with a function (callable object) that you can't do in C or C++?\n",
    "9. How do you distinguish between a wrapper, a wrapped feature, and a decorator?\n",
    "10. If a function is a generator function, what does it return?\n",
    "11. What is the one improvement that must be made to a function in order for it to become a generator function in the Python language?\n",
    "12. Identify at least one benefit of generators."
   ]
  },
  {
   "cell_type": "code",
   "execution_count": 4,
   "id": "a9f2f1d6",
   "metadata": {},
   "outputs": [
    {
     "name": "stdout",
     "output_type": "stream",
     "text": [
      "[1, 2, 3, 4, 5, 6]\n",
      "[1, 2, 3, 4, 5, 6]\n"
     ]
    }
   ],
   "source": [
    "'''Ans 1:- No, assignment operators like += are not just for show; they serve a practical\n",
    "purpose and can lead to faster results at runtime in certain situations. The +=\n",
    "operator is a shorthand way of performing an arithmetic operation and assigning the\n",
    "result back to the same variable. It can be more efficient than the equivalent full\n",
    "expression in terms of both performance and readability.\n",
    "\n",
    "For mutable objects like lists, using += can be more efficient than creating a\n",
    "new list and reassigning it. This is because += can modify the existing list in\n",
    "place, reducing memory consumption and potentially improving performance.\n",
    "\n",
    "In the first case, a new list is created and assigned to the numbers variable,\n",
    "while in the second case, the existing list is modified in place using +=.\n",
    "\n",
    "However, it's important to note that the performance gain from using += can\n",
    "vary based on the context, the size of the data, and the underlying implementation.\n",
    "In some cases, the performance difference may be negligible, while in others, it\n",
    "could be more significant.\n",
    "\n",
    "In summary, assignment operators like += are not just for show; they offer a\n",
    "more efficient and readable way to modify mutable objects like lists. It's a good\n",
    "practice to use them when appropriate, as they can lead to better runtime performance\n",
    "in some scenarios.'''\n",
    "\n",
    "# Creating a new list using concatenation\n",
    "numbers = [1, 2, 3]\n",
    "numbers = numbers + [4, 5, 6]\n",
    "print(numbers)\n",
    "\n",
    "# Using the += operator\n",
    "num = [1, 2, 3]\n",
    "num += [4, 5, 6]\n",
    "print(num)"
   ]
  },
  {
   "cell_type": "code",
   "execution_count": null,
   "id": "3f066b56",
   "metadata": {},
   "outputs": [],
   "source": [
    "'''Ans 2:- In most programming languages, we would need three statements to achieve the\n",
    "same result as the Python expression a, b = a + b, a. This is because most\n",
    "languages require temporary variables to perform the swap operation safely.\n",
    "\n",
    "In this Java example, a temporary variable temp is used to store the value of\n",
    "a before it's overwritten. Then, the values of a and b are updated accordingly. \n",
    "The same concept applies to many other programming languages like C, C++, C#, and\n",
    "so on. While Python's tuple unpacking feature allows you to perform such swaps in\n",
    "a single line, other languages generally require these temporary variables and\n",
    "additional statements to achieve the same result.'''\n",
    "\n",
    "int temp = a;\n",
    "a = a + b;\n",
    "b = temp;"
   ]
  },
  {
   "cell_type": "code",
   "execution_count": 5,
   "id": "07c44d30",
   "metadata": {},
   "outputs": [
    {
     "name": "stdout",
     "output_type": "stream",
     "text": [
      "[0, 0, 0, 0, 0, 0, 0, 0, 0, 0, 0, 0, 0, 0, 0, 0, 0, 0, 0, 0, 0, 0, 0, 0, 0, 0, 0, 0, 0, 0, 0, 0, 0, 0, 0, 0, 0, 0, 0, 0, 0, 0, 0, 0, 0, 0, 0, 0, 0, 0, 0, 0, 0, 0, 0, 0, 0, 0, 0, 0, 0, 0, 0, 0, 0, 0, 0, 0, 0, 0, 0, 0, 0, 0, 0, 0, 0, 0, 0, 0, 0, 0, 0, 0, 0, 0, 0, 0, 0, 0, 0, 0, 0, 0, 0, 0, 0, 0, 0, 0]\n"
     ]
    }
   ],
   "source": [
    "'''Ans 3:- The most effective way to set a list of 100 integers to 0 in Python is to use\n",
    "list comprehension. List comprehensions are concise and efficient for initializing\n",
    "elements in a list based on a specific pattern or value.\n",
    "\n",
    "Here's how you can set a list of 100 integers to 0 using list comprehension:-\n",
    "\n",
    "In this example, [0] * 100 creates a new list with 100 elements, all\n",
    "initialized to the value 0. This approach leverages Python's efficient memory allocation\n",
    "for lists and results in better performance compared to traditional loops.  Using\n",
    "list comprehension in this case provides a clean and efficient solution for\n",
    "initializing the list with the desired values.'''\n",
    "\n",
    "my_list = [0] * 100\n",
    "print(my_list)"
   ]
  },
  {
   "cell_type": "code",
   "execution_count": 8,
   "id": "34750b07",
   "metadata": {},
   "outputs": [
    {
     "name": "stdout",
     "output_type": "stream",
     "text": [
      "[1, 2, 3, 1, 2, 3, 1, 2, 3, 1, 2, 3, 1, 2, 3, 1, 2, 3, 1, 2, 3, 1, 2, 3, 1, 2, 3, 1, 2, 3, 1, 2, 3, 1, 2, 3, 1, 2, 3, 1, 2, 3, 1, 2, 3, 1, 2, 3, 1, 2, 3, 1, 2, 3, 1, 2, 3, 1, 2, 3, 1, 2, 3, 1, 2, 3, 1, 2, 3, 1, 2, 3, 1, 2, 3, 1, 2, 3, 1, 2, 3, 1, 2, 3, 1, 2, 3, 1, 2, 3, 1, 2, 3, 1, 2, 3, 1, 2, 3]\n"
     ]
    }
   ],
   "source": [
    "'''Ans 4:- The most effective way to initialize a list of 99 integers that repeats the\n",
    "sequence 1, 2, 3 is to use the itertools.cycle function combined with a list\n",
    "comprehension. This allows us to efficiently repeat the sequence while generating the list. \n",
    "\n",
    "Here's how we can do it step by step:-\n",
    "\n",
    "1. Import the itertools module to access the cycle function.\n",
    "2. Create a cycle of the sequence [1, 2, 3] using itertools.cycle.\n",
    "3. Use a list comprehension to generate the list by iterating through\n",
    "the cycle and stopping after 99 elements.\n",
    "\n",
    "In this code, sequence_cycle is a cyclic iterator that repeats the sequence\n",
    "[1, 2, 3]. The list comprehension iterates through the cycle and generates a list\n",
    "of 99 elements by calling next(sequence_cycle) to get the next value from the\n",
    "cycle.  Using the itertools.cycle function along with list comprehension provides an\n",
    "efficient and concise way to initialize the desired list with the repeating sequence.'''\n",
    "\n",
    "import itertools\n",
    "\n",
    "# Create a cycle of the sequence\n",
    "sequence_cycle = itertools.cycle([1, 2, 3])\n",
    "\n",
    "# Generate the list of 99 elements using list comprehension\n",
    "my_list = [next(sequence_cycle) for _ in range(99)]\n",
    "\n",
    "print(f\"{my_list}\")"
   ]
  },
  {
   "cell_type": "code",
   "execution_count": 11,
   "id": "2f7735e8",
   "metadata": {},
   "outputs": [
    {
     "name": "stdout",
     "output_type": "stream",
     "text": [
      "[1, 2, 3]\n",
      "[4, 5, 6]\n",
      "[7, 8, 9]\n"
     ]
    }
   ],
   "source": [
    "'''Ans 5:- In IDLE, we can print a multidimensional list efficiently using a loop \n",
    "to iterate through the rows and columns of the list.\n",
    "\n",
    "In this example, the loop iterates through each row in the matrix list and\n",
    "prints each row. This approach prints the multidimensional list efficiently and\n",
    "maintains a clear structure.'''\n",
    "\n",
    "# Example multidimensional list\n",
    "matrix = [\n",
    "    [1, 2, 3],\n",
    "    [4, 5, 6],\n",
    "    [7, 8, 9]\n",
    "]\n",
    "\n",
    "# Print the multidimensional list\n",
    "for row in matrix:\n",
    "    print(row)"
   ]
  },
  {
   "cell_type": "code",
   "execution_count": 15,
   "id": "74701f30",
   "metadata": {},
   "outputs": [
    {
     "name": "stdout",
     "output_type": "stream",
     "text": [
      "['H', 'e', 'l', 'l', 'o']\n",
      "[72, 101, 108, 108, 111]\n"
     ]
    }
   ],
   "source": [
    "'''Ans 6:-  Yes, it's possible to use list comprehension with a string in Python. List\n",
    "comprehension allows us to create a new list by applying an expression to each character in\n",
    "the string.\n",
    "\n",
    "In this example, the list comprehension [char for char in original_string]\n",
    "iterates through each character in the original_string and creates a new list\n",
    "(char_list) containing each individual character as separate elements.\n",
    "\n",
    "We can also apply operations or conditions within the list comprehension. For\n",
    "instance, if we want to create a list of the ASCII values of each character in the\n",
    "string. \n",
    "\n",
    "In this case, ord(char) returns the ASCII value of each character in the\n",
    "string, and the list comprehension creates a list of those ASCII values.  List\n",
    "comprehension with strings is a convenient way to manipulate individual characters and\n",
    "perform operations on them to generate a new list.'''\n",
    "\n",
    "original_string = \"Hello\"\n",
    "char_list = [char for char in original_string]\n",
    "print(char_list)\n",
    "\n",
    "ascii_values = [ord(char) for char in original_string]\n",
    "print(ascii_values)"
   ]
  },
  {
   "cell_type": "code",
   "execution_count": null,
   "id": "6995be76",
   "metadata": {},
   "outputs": [],
   "source": [
    "'''Ans 7:- From the command line, we can get support with a user-written Python program\n",
    "by using the built-in help() function or by using the -m pydoc module. This\n",
    "provides documentation and information about modules, functions, classes, and other\n",
    "components of our program.  \n",
    "\n",
    "Open a command prompt or terminal and launch the Python interpreter.\n",
    "Python\n",
    "\n",
    "Then, use the help() function with the name of the module, function, or class\n",
    "we want to get information about:-\n",
    "\n",
    "help(our_module)\n",
    "help(our_function)\n",
    "help(our_class)\n",
    "\n",
    "Press q to exit the help viewer.\n",
    "\n",
    "Using the pydoc module:- Open a command prompt or terminal and use the\n",
    "following command:-\n",
    "\n",
    "python -m pydoc our_module\n",
    "python -m pydoc our_function\n",
    "python -m pydoc our_class\n",
    "\n",
    "Replace our_module, our_function, and our_class with the actual names of our\n",
    "module, function, or class.  \n",
    "\n",
    "Regarding IDLE, we can also access help from within the IDLE environment:- \n",
    "Open IDLE. Type help() in the Python shell and press Enter. Enter the name of the\n",
    "module, function, or class we want to get help for. IDLE will display the help\n",
    "information directly in the shell.  Both command line and IDLE provide us with ways to\n",
    "access documentation and support for our user-written Python programs.'''"
   ]
  },
  {
   "cell_type": "code",
   "execution_count": null,
   "id": "d69311e2",
   "metadata": {},
   "outputs": [],
   "source": [
    "'''Ans 8:- In Python, functions are considered \"first-class objects,\" which means they\n",
    "have the same properties and abilities as other objects like integers, strings, or\n",
    "lists. This concept allows us to treat functions like any other variable or object,\n",
    "and it opens up several possibilities that are not as readily available in\n",
    "languages like C or C++\n",
    "\n",
    "1. Functions as Arguments: we can pass functions as arguments to other\n",
    "functions. This is the foundation of higher-order functions and is used in scenarios like\n",
    "callbacks, event handling, and more.\n",
    "\n",
    "2. Functions as Return Values: Functions can return other functions as their\n",
    "result, enabling the creation of factories or dynamic behavior depending on\n",
    "conditions.\n",
    "\n",
    "3. Functions in Data Structures: we can store functions in data structures like\n",
    "lists or dictionaries, which is useful for creating dynamic behavior and mappings.\n",
    "\n",
    "4. Anonymous (Lambda) Functions: Python allows us to create anonymous functions\n",
    "using the lambda keyword. These functions are often used for short, simple\n",
    "operations.\n",
    "\n",
    "5. Function Decorators: Decorators allow us to modify or enhance the behavior of\n",
    "functions without modifying their source code. This is used for aspects like logging,\n",
    "timing, access control, etc.\n",
    "\n",
    "6. Function Closures: Functions defined within other functions can access and\n",
    "remember the values of variables from their containing functions, even after the outer\n",
    "function has finished executing.\n",
    "\n",
    "7. Dynamic Behavior: The ability to manipulate functions as objects allows us to\n",
    "dynamically modify behavior at runtime.\n",
    "\n",
    "8. Functional Programming Paradigm: Python supports functional programming\n",
    "concepts like map, filter, and reduce, which operate on functions and sequences\n",
    "\n",
    "In languages like C or C++, while we can work with function pointers, the\n",
    "level of flexibility and ease of use that Python provides for functions as\n",
    "first-class objects is not as extensive. This aspect of Python's design encourages\n",
    "functional programming patterns and enhances the language's expressiveness and\n",
    "flexibility. '''"
   ]
  },
  {
   "cell_type": "code",
   "execution_count": null,
   "id": "fe90ab35",
   "metadata": {},
   "outputs": [],
   "source": [
    "'''Ans 9:- In programming, the terms \"wrapper,\" \"wrapped feature,\" and \"decorator\" can\n",
    "sometimes be related but refer to distinct concepts. Let's clarify each term:-\n",
    "\n",
    "1. Wrapper: A wrapper is a function or a class that encapsulates or \"wraps\n",
    "around\" another function, method, or piece of code. It adds some functionality,\n",
    "behavior, or control to the wrapped code without modifying its original implementation.\n",
    "Wrappers are commonly used for adding pre-processing, post-processing, logging, error\n",
    "handling, or other cross-cutting concerns to the wrapped feature.\n",
    "\n",
    "2. Wrapped Feature: The wrapped feature is the original function, method, or code\n",
    "that the wrapper is encapsulating. It's the core functionality that we want to\n",
    "extend, modify, or control using a wrapper.\n",
    "\n",
    "3. Decorator: A decorator is a specific type of wrapper in Python that uses the\n",
    "@decorator_name syntax. Decorators are a concise way to modify or enhance the behavior of\n",
    "functions or methods. They often encapsulate common cross-cutting concerns like logging,\n",
    "authentication, or caching. Decorators are applied using the @ symbol followed by the\n",
    "decorator function's name, placed above the function definition.\n",
    "\n",
    "In summary, a wrapper is a general concept of encapsulating code, a wrapped\n",
    "feature is the code being encapsulated, and a decorator is a specific type of wrapper\n",
    "used in Python for enhancing or modifying the behavior of functions or methods.\n",
    "While decorators are a common use case for wrappers, not all wrappers are\n",
    "decorators, as we can create wrappers that don't follow the @ syntax or aren't used\n",
    "solely for enhancing functions.'''"
   ]
  },
  {
   "cell_type": "code",
   "execution_count": 16,
   "id": "f8003604",
   "metadata": {},
   "outputs": [
    {
     "name": "stdout",
     "output_type": "stream",
     "text": [
      "0\n",
      "1\n",
      "4\n",
      "9\n",
      "16\n"
     ]
    }
   ],
   "source": [
    "'''Ans 10:- A generator function in Python returns a generator iterator when called,\n",
    "rather than immediately executing its code and returning a value like a regular\n",
    "function. The generator iterator can be used to iterate over the values generated by the\n",
    "generator function.\n",
    "\n",
    "A generator function is defined using the yield keyword instead of return.\n",
    "When the generator function is called, it returns a generator iterator that allows\n",
    "us to generate values one by one using the yield statement. The function's\n",
    "execution is paused and resumed each time a value is requested from the generator\n",
    "iterator. \n",
    "\n",
    "In this example, square_generator is a generator function that yields the\n",
    "squares of numbers up to n. When we create a generator iterator by calling\n",
    "square_generator(5), it doesn't immediately execute the function's code. Instead, it returns a\n",
    "generator iterator that we can use to iterate over the generated values using a loop or\n",
    "other iterable methods.  Generator functions are useful for creating iterators that\n",
    "generate values lazily, saving memory and improving efficiency when working with large\n",
    "datasets or infinite sequences.'''\n",
    "\n",
    "def square_generator(n):\n",
    "    for i in range(n):\n",
    "        yield i ** 2\n",
    "\n",
    "# Create a generator iterator\n",
    "generator = square_generator(5)\n",
    "\n",
    "# Iterate over the generated values\n",
    "for square in generator:\n",
    "    print(square)"
   ]
  },
  {
   "cell_type": "code",
   "execution_count": 17,
   "id": "06cabdaf",
   "metadata": {},
   "outputs": [],
   "source": [
    "'''Ans 11:- The one improvement that must be made to a regular function in order for it to\n",
    "become a generator function in Python is to replace the return statements with yield\n",
    "statements.\n",
    "\n",
    "In a regular function, the return statement is used to immediately exit the\n",
    "function and provide a value as the result of the function call. However, in a\n",
    "generator function, the yield statement is used to temporarily pause the function's\n",
    "execution, yield a value to the caller, and then resume execution from where it was\n",
    "paused when the next value is requested.\n",
    "\n",
    "In the generator function example, the use of yield indicates that the\n",
    "function is a generator. When the generator function is called, it doesn't execute its\n",
    "code immediately. Instead, it returns a generator iterator that allows us to\n",
    "control the execution flow by requesting values one at a time using the iterator's\n",
    "methods (e.g., next()).  So, the main improvement to turn a regular function into a\n",
    "generator function is to replace return with yield. This change allows the function to\n",
    "yield values lazily, creating an iterator that generates values on-the-fly.'''\n",
    "\n",
    "# Regular Function\n",
    "def regular_function():\n",
    "    return 42\n",
    "\n",
    "# Generator Function\n",
    "def generator_function():\n",
    "    yield 42"
   ]
  },
  {
   "cell_type": "code",
   "execution_count": 25,
   "id": "cd2e6873",
   "metadata": {},
   "outputs": [
    {
     "name": "stdout",
     "output_type": "stream",
     "text": [
      "0\n",
      "1\n",
      "2\n",
      "3\n",
      "4\n",
      "5\n",
      "6\n",
      "7\n",
      "8\n",
      "9\n"
     ]
    }
   ],
   "source": [
    "'''Ans 12:- One significant benefit of using generators in Python is their memory\n",
    "efficiency. Generators allow us to create iterators that generate values on-the-fly and\n",
    "are evaluated lazily, meaning that they produce values only as they are needed.\n",
    "This can lead to significant memory savings, especially when dealing with large\n",
    "datasets or when generating sequences that would otherwise consume a lot of memory. \n",
    "\n",
    "In this example, using a list comprehension creates a list that occupies\n",
    "memory proportional to the size of the sequence. On the other hand, the generator\n",
    "function creates an iterator that generates values one by one, without preloading the\n",
    "entire sequence into memory. This is especially beneficial when dealing with large or\n",
    "infinite sequences.  Generators are a powerful tool for efficient memory usage and can\n",
    "greatly improve the performance of our programs when dealing with resource-intensive\n",
    "tasks.'''\n",
    "\n",
    "# Using a generator to lazily generate the sequence\n",
    "def generate_sequence(n):\n",
    "    for i in range(n):\n",
    "        yield i\n",
    "\n",
    "sequence_generator = generate_sequence(10)\n",
    "\n",
    "# Using a loop to iterate and print the generated values\n",
    "for value in sequence_generator:\n",
    "    print(value)"
   ]
  }
 ],
 "metadata": {
  "kernelspec": {
   "display_name": "Python 3 (ipykernel)",
   "language": "python",
   "name": "python3"
  },
  "language_info": {
   "codemirror_mode": {
    "name": "ipython",
    "version": 3
   },
   "file_extension": ".py",
   "mimetype": "text/x-python",
   "name": "python",
   "nbconvert_exporter": "python",
   "pygments_lexer": "ipython3",
   "version": "3.10.9"
  }
 },
 "nbformat": 4,
 "nbformat_minor": 5
}
