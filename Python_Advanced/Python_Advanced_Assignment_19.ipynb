{
 "cells": [
  {
   "cell_type": "markdown",
   "id": "d402f88f",
   "metadata": {},
   "source": [
    "## Python_Advanced_Assignment_19\n",
    "1. Define the relationship between a class and its instances. Is it a one-to-one or a one-to-many partnership, for example?\n",
    "2. What kind of data is held only in an instance?\n",
    "3. What kind of knowledge is stored in a class?\n",
    "4. What exactly is a method, and how is it different from a regular function?\n",
    "5. Is inheritance supported in Python, and if so, what is the syntax?\n",
    "6. How much encapsulation (making instance or class variables private) does Python support?\n",
    "7. How do you distinguish between a class variable and an instance variable?\n",
    "8. When, if ever, can self be included in a class's method definitions?\n",
    "9. What is the difference between the _ _add_ _ and the _ _radd_ _ methods?\n",
    "10. When is it necessary to use a reflection method? When do you not need it, even though you support the operation in question?\n",
    "11. What is the _ _iadd_ _ method called?\n",
    "12. Is the _ _init_ _ method inherited by subclasses? What do you do if you need to customize its behavior within a subclass?"
   ]
  },
  {
   "cell_type": "code",
   "execution_count": null,
   "id": "66e2ce9b",
   "metadata": {},
   "outputs": [],
   "source": [
    "'''Ans 1:- The relationship between a class and its instances is a one-to-many\n",
    "partnership. A class serves as a blueprint or template that defines the structure,\n",
    "behavior, and attributes of objects. Instances, also known as objects, are specific\n",
    "individual representations created from that class. Each instance retains the attributes\n",
    "and behavior defined by the class, but may have distinct property values. Multiple\n",
    "instances can be created from a single class, forming a one-to-many relationship. This\n",
    "allows the class to serve as a reusable template to create numerous instances with\n",
    "similar characteristics, enabling efficient object-oriented programming and data\n",
    "encapsulation.'''"
   ]
  },
  {
   "cell_type": "code",
   "execution_count": null,
   "id": "db71ca9d",
   "metadata": {},
   "outputs": [],
   "source": [
    "'''Ans 2:- Instance-specific data, also known as instance variables or attributes, are\n",
    "held exclusively within an instance of a class in object-oriented programming.\n",
    "These data elements store unique properties or states that are distinct for each\n",
    "instance. They can represent characteristics and values specific to an object, differing\n",
    "among instances even if they share the same class structure. Instance data\n",
    "contributes to encapsulation, enabling each object to maintain its own state and behavior\n",
    "independently, enhancing modularity and reusability in the program's design.'''"
   ]
  },
  {
   "cell_type": "code",
   "execution_count": null,
   "id": "a1582090",
   "metadata": {},
   "outputs": [],
   "source": [
    "'''Ans 3:- A class in object-oriented programming stores the structure, behavior, and\n",
    "attributes that define objects of that class. It encapsulates the blueprint for creating\n",
    "instances and contains information about how those instances should behave and interact.\n",
    "This includes methods (functions) that define the behavior of the class, as well as\n",
    "class-level variables that are shared among all instances. The class serves as a template\n",
    "for creating objects with consistent characteristics and functionalities.'''"
   ]
  },
  {
   "cell_type": "code",
   "execution_count": null,
   "id": "ef8c9b7c",
   "metadata": {},
   "outputs": [],
   "source": [
    "'''Ans 4:- A method is a function defined within a class in object-oriented programming.\n",
    "It operates on the class's instances and has access to their attributes and other\n",
    "methods. Methods are associated with objects created from the class and can modify\n",
    "their internal state. In contrast, a regular function is not tied to a specific\n",
    "class or object and operates on its arguments without any inherent connection to an\n",
    "instance. Methods enable encapsulation, allowing object-specific behaviors and\n",
    "interactions to be defined within the class.'''"
   ]
  },
  {
   "cell_type": "code",
   "execution_count": 3,
   "id": "a6ed474e",
   "metadata": {},
   "outputs": [
    {
     "name": "stdout",
     "output_type": "stream",
     "text": [
      "Woof!\n",
      "Meow!\n"
     ]
    }
   ],
   "source": [
    "'''Ans 5:- Yes, inheritance is supported in Python. Inheritance allows a class to inherit\n",
    "attributes and methods from another class, forming a parent-child relationship. The\n",
    "syntax for inheritance is as follows.The ChildClass inherits attributes and methods\n",
    "from the ParentClass. The child class can also override or extend inherited methods\n",
    "to tailor them to its specific behavior while inheriting the common\n",
    "functionalities defined in the parent class.\n",
    "\n",
    "Here's a simple example of inheritance in Python:-\n",
    "\n",
    "In this example, the Dog and Cat classes inherit from the Animal class. Each\n",
    "subclass defines its own implementation of the speak() method while sharing the common\n",
    "behavior defined in the parent Animal class.'''\n",
    "\n",
    "class Animal:\n",
    "    def speak(self):\n",
    "        pass\n",
    "\n",
    "class Dog(Animal):\n",
    "    def speak(self):\n",
    "        return \"Woof!\"\n",
    "\n",
    "class Cat(Animal):\n",
    "    def speak(self):\n",
    "        return \"Meow!\"\n",
    "\n",
    "dog = Dog()\n",
    "print(dog.speak())\n",
    "\n",
    "cat = Cat()\n",
    "print(cat.speak())"
   ]
  },
  {
   "cell_type": "code",
   "execution_count": 4,
   "id": "42460c6b",
   "metadata": {},
   "outputs": [
    {
     "name": "stdout",
     "output_type": "stream",
     "text": [
      "42\n"
     ]
    }
   ],
   "source": [
    "'''Ans 6:- Python supports a basic level of encapsulation through name mangling,\n",
    "indicating that an instance or class variable is intended to be private. By prefixing the\n",
    "variable name with an underscore (e.g., _variable), it suggests that the variable is\n",
    "internal to the class. However, these variables can still be accessed from outside the\n",
    "class. Full encapsulation is not enforced like in some other languages.\n",
    "Despite the underscore, _private_variable can still be accessed externally.'''\n",
    "\n",
    "class MyClass:\n",
    "    def __init__(self):\n",
    "        self._private_variable = 42\n",
    "\n",
    "obj = MyClass()\n",
    "print(obj._private_variable)"
   ]
  },
  {
   "cell_type": "code",
   "execution_count": 6,
   "id": "35cd6453",
   "metadata": {},
   "outputs": [
    {
     "name": "stdout",
     "output_type": "stream",
     "text": [
      "0\n",
      "0\n",
      "10\n",
      "20\n"
     ]
    }
   ],
   "source": [
    "'''Ans 7:- In Python, class variables are shared among all instances of a class and are\n",
    "defined within the class scope, typically outside of methods. They are accessed using\n",
    "the class name or instance and are the same for all instances. Instance variables\n",
    "are unique to each instance and are defined within methods using the self keyword.\n",
    "They store instance-specific data. To distinguish between them.\n",
    "\n",
    "The code defines a class with a class variable class_var shared among\n",
    "instances. Instances have an instance_var specific to each object, initialized through\n",
    "the constructor.'''\n",
    "\n",
    "class MyClass:\n",
    "    class_var = 0\n",
    "\n",
    "    def __init__(self, instance_var):\n",
    "        self.instance_var = instance_var\n",
    "\n",
    "obj1 = MyClass(10)\n",
    "obj2 = MyClass(20)\n",
    "\n",
    "print(obj1.class_var)\n",
    "print(obj2.class_var)\n",
    "print(obj1.instance_var)\n",
    "print(obj2.instance_var)"
   ]
  },
  {
   "cell_type": "code",
   "execution_count": 7,
   "id": "e046c53e",
   "metadata": {},
   "outputs": [
    {
     "name": "stdout",
     "output_type": "stream",
     "text": [
      "4\n"
     ]
    }
   ],
   "source": [
    "'''Ans 8:- The self parameter is used in instance method definitions within a class. It\n",
    "represents the instance calling the method and allows access to instance variables and\n",
    "other methods of that instance. It must be included as the first parameter in every\n",
    "instance method, although any name can be used instead of self. This enables methods to\n",
    "interact with instance-specific attributes and behaviors.In the below code, custom_name\n",
    "and instance are interchangeable with self.'''\n",
    "\n",
    "class MyClass:\n",
    "    def __init__(custom_name, value):\n",
    "        custom_name.value = value\n",
    "\n",
    "    def print_value(instance):\n",
    "        print(instance.value)\n",
    "\n",
    "obj = MyClass(4)\n",
    "obj.print_value()"
   ]
  },
  {
   "cell_type": "code",
   "execution_count": 11,
   "id": "5b5c633e",
   "metadata": {},
   "outputs": [
    {
     "name": "stdout",
     "output_type": "stream",
     "text": [
      "15\n",
      "20\n"
     ]
    }
   ],
   "source": [
    "'''Ans 9:- The __add__ and __radd__ methods in Python are used to define the behavior of\n",
    "addition (+) operations involving objects of a class. The __add__ method is called when\n",
    "the left-hand side object performs the addition, while the __radd__ method is\n",
    "called when the right-hand side object doesn't support the addition operation itself,\n",
    "enabling the reverse operation.\n",
    "\n",
    "In this scenario, result1 will hold the value of 15 and result2 will also hold\n",
    "20.'''\n",
    "\n",
    "class Number:\n",
    "    def __init__(self, value):\n",
    "        self.value = value\n",
    "\n",
    "    def __add__(self, other):\n",
    "        return Number(self.value + other.value)\n",
    "\n",
    "    def __radd__(self, other):\n",
    "        return Number(self.value + other)\n",
    "\n",
    "num1 = Number(5)\n",
    "num2 = Number(10)\n",
    "\n",
    "result1 = num1 + num2  # Calls num1.__add__(num2)\n",
    "result2 = 15 + num1    # Calls num1.__radd__(15)\n",
    "\n",
    "print(result1.value)\n",
    "print(result2.value)"
   ]
  },
  {
   "cell_type": "code",
   "execution_count": null,
   "id": "68b62aa4",
   "metadata": {},
   "outputs": [],
   "source": [
    "'''Ans 10:- Reflection methods, such as __getattr__, are used in Python to control or\n",
    "customize attribute access or behavior of an object. They become necessary when we want\n",
    "to provide dynamic attributes or handle missing attribute cases. For example, if\n",
    "an attribute doesn't exist, __getattr__ can be defined to handle such cases\n",
    "gracefully.  On the other hand, reflection methods are not always needed, even when\n",
    "supporting an operation. For instance, if we want to define fixed attributes or\n",
    "behaviors without dynamic customization, using the standard attribute access (e.g.,\n",
    "object.attribute) suffices. Reflection methods are more relevant when we require runtime\n",
    "attribute modification, deferred computation, or handling missing attributes in a\n",
    "specific way.'''"
   ]
  },
  {
   "cell_type": "code",
   "execution_count": 13,
   "id": "653a42ab",
   "metadata": {},
   "outputs": [
    {
     "name": "stdout",
     "output_type": "stream",
     "text": [
      "105\n"
     ]
    }
   ],
   "source": [
    "'''Ans 11:- The __iadd__ method in Python is called when the += operator is used to modify\n",
    "an object in-place. It allows us to define the behavior of the in-place addition\n",
    "operation. This method updates the existing object rather than creating a new one. It's\n",
    "often used to efficiently modify the state of an object without the need for\n",
    "creating a new instance. \n",
    "In this example, after using +=, num1 is modified in-place using its __iadd__\n",
    "method.'''\n",
    "\n",
    "class Number:\n",
    "    def __init__(self, value):\n",
    "        self.value = value\n",
    "    \n",
    "    def __iadd__(self, other):\n",
    "        self.value += other.value\n",
    "        return self\n",
    "\n",
    "num1 = Number(5)\n",
    "num2 = Number(100)\n",
    "\n",
    "num1 += num2  # Calls num1.__iadd__(num2)\n",
    "print(num1.value)"
   ]
  },
  {
   "cell_type": "code",
   "execution_count": 14,
   "id": "1fadce78",
   "metadata": {},
   "outputs": [
    {
     "name": "stdout",
     "output_type": "stream",
     "text": [
      "50\n",
      "10\n"
     ]
    }
   ],
   "source": [
    "'''Ans 12:- Yes, the __init__ method is inherited by subclasses in Python. When a subclass\n",
    "is created, it inherits all the methods, including __init__, from its parent\n",
    "class.  If we need to customize the behavior of the __init__ method within a\n",
    "subclass, we can do so by overriding the method. To achieve this, define a new __init__\n",
    "method in the subclass with the desired customizations, while potentially calling the\n",
    "parent class's __init__ method using super() to retain or extend its behavior.In this\n",
    "example, the Child class has its own __init__ method that customizes behavior while\n",
    "still utilizing the parent class's __init__ method using super().'''\n",
    "\n",
    "class Parent:\n",
    "    def __init__(self, value):\n",
    "        self.value = value\n",
    "\n",
    "class Child(Parent):\n",
    "    def __init__(self, value, additional_value):\n",
    "        super().__init__(value)  # Call parent's __init__ to retain its behavior\n",
    "        self.additional_value = additional_value\n",
    "\n",
    "child_obj = Child(50, 10)\n",
    "print(child_obj.value)\n",
    "print(child_obj.additional_value)"
   ]
  }
 ],
 "metadata": {
  "kernelspec": {
   "display_name": "Python 3 (ipykernel)",
   "language": "python",
   "name": "python3"
  },
  "language_info": {
   "codemirror_mode": {
    "name": "ipython",
    "version": 3
   },
   "file_extension": ".py",
   "mimetype": "text/x-python",
   "name": "python",
   "nbconvert_exporter": "python",
   "pygments_lexer": "ipython3",
   "version": "3.10.9"
  }
 },
 "nbformat": 4,
 "nbformat_minor": 5
}
