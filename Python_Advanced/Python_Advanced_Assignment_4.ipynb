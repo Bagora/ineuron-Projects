{
 "cells": [
  {
   "cell_type": "markdown",
   "id": "cd4fd04f",
   "metadata": {},
   "source": [
    "## Python_Advanced_Assignment_4\n",
    "1. Which two operator overloading methods can you use in your classes to support iteration?\n",
    "2. In what contexts do the two operator overloading methods manage printing?\n",
    "3. In a class, how do you intercept slice operations?\n",
    "4. In a class, how do you capture in-place addition?\n",
    "5. When is it appropriate to use operator overloading?"
   ]
  },
  {
   "cell_type": "code",
   "execution_count": 3,
   "id": "43889df5",
   "metadata": {},
   "outputs": [
    {
     "name": "stdout",
     "output_type": "stream",
     "text": [
      "1\n",
      "2\n",
      "3\n",
      "4\n",
      "5\n",
      "6\n",
      "7\n",
      "8\n",
      "9\n",
      "10\n"
     ]
    }
   ],
   "source": [
    "'''Ans 1:- In Python, we can implement iteration support in our classes using the\n",
    "__iter__() and __next__() methods, which are part of the iterator protocol. The\n",
    "__iter__() method is used to define the iterator object itself and should return the\n",
    "instance of the class that implements the __next__() method. The __next__() method is\n",
    "responsible for returning the next value in the iteration or raising the StopIteration\n",
    "exception when there are no more items to iterate over.In this example, the MyIterator\n",
    "class defines both the __iter__() and __next__() methods, allowing instances of the\n",
    "class to be used in a for loop for iteration.'''\n",
    "\n",
    "class MyIterator:\n",
    "    def __init__(self, start, end):\n",
    "        self.start = start\n",
    "        self.end = end\n",
    "    \n",
    "    def __iter__(self):\n",
    "        return self\n",
    "    \n",
    "    def __next__(self):\n",
    "        if self.start < self.end:\n",
    "            value = self.start\n",
    "            self.start += 1\n",
    "            return value\n",
    "        else:\n",
    "            raise StopIteration\n",
    "\n",
    "# Using the custom iterator\n",
    "my_iter = MyIterator(1, 11)\n",
    "for num in my_iter:\n",
    "    print(num)"
   ]
  },
  {
   "cell_type": "code",
   "execution_count": 5,
   "id": "5b3cb180",
   "metadata": {},
   "outputs": [
    {
     "name": "stdout",
     "output_type": "stream",
     "text": [
      "MyClass instance with value: 42\n",
      "MyClass(42)\n"
     ]
    }
   ],
   "source": [
    "'''Ans 2:-  The two operator overloading methods that manage printing in Python are\n",
    "__str__() and __repr__().\n",
    "\n",
    "1. __str__(): This method is responsible for defining the \"informal\" or\n",
    "user-friendly string representation of an object. It is used when you call the built-in\n",
    "str() function on an object or use print() to display the object. The __str__()\n",
    "method is intended to provide a human-readable output.\n",
    "\n",
    "2. __repr__(): This method defines the \"formal\" or unambiguous string\n",
    "representation of an object. It is used when you call the built-in repr() function on an\n",
    "object or enter the object in the interactive interpreter. The __repr__() method is\n",
    "meant to be a representation that, when passed to eval(), would recreate the object.\n",
    "\n",
    "In this example, __str__() provides a more user-friendly representation when\n",
    "using print(), while __repr__() provides a representation that could be used to\n",
    "recreate the object.'''\n",
    "\n",
    "class MyClass:\n",
    "    def __init__(self, value):\n",
    "        self.value = value\n",
    "    \n",
    "    def __str__(self):\n",
    "        return f\"MyClass instance with value: {self.value}\"\n",
    "    \n",
    "    def __repr__(self):\n",
    "        return f\"MyClass({self.value})\"\n",
    "\n",
    "obj = MyClass(42)\n",
    "\n",
    "# Using the __str__() method\n",
    "print(obj)\n",
    "\n",
    "# Using the __repr__() method\n",
    "print(repr(obj))"
   ]
  },
  {
   "cell_type": "code",
   "execution_count": 6,
   "id": "7df2274e",
   "metadata": {},
   "outputs": [
    {
     "name": "stdout",
     "output_type": "stream",
     "text": [
      "[2, 4, 6]\n"
     ]
    }
   ],
   "source": [
    "'''Ans 3:- Intercepting slice operations in a class can be achieved by implementing the\n",
    "__getitem__ method with appropriate handling for slicing. When an object of the class is\n",
    "sliced using square brackets (e.g., obj[start:end]), Python invokes the __getitem__\n",
    "method with a slice object. You can extract start, stop, and step attributes from the\n",
    "slice object to manipulate the behavior of the slice operation. Within the method,\n",
    "you can then return the desired sliced data or perform custom actions.\n",
    "In this example, the SliceInterceptor class intercepts slice operations and\n",
    "applies custom logic to the slicing process, allowing you to control the behavior of\n",
    "the slice.'''\n",
    "\n",
    "class SliceInterceptor:\n",
    "    def __init__(self, data):\n",
    "        self.data = data\n",
    "    \n",
    "    def __getitem__(self, slice_obj):\n",
    "        start, stop, step = slice_obj.start, slice_obj.stop, slice_obj.step\n",
    "        sliced_data = self.data[start:stop:step]  # Manipulate slicing as needed\n",
    "        return sliced_data\n",
    "\n",
    "original_data = [0, 1, 2, 3, 4, 5, 6, 7, 8, 9]\n",
    "obj = SliceInterceptor(original_data)\n",
    "sliced_result = obj[2:8:2]  # Custom slicing through interception\n",
    "print(sliced_result)"
   ]
  },
  {
   "cell_type": "code",
   "execution_count": 7,
   "id": "199c344b",
   "metadata": {},
   "outputs": [
    {
     "name": "stdout",
     "output_type": "stream",
     "text": [
      "15\n",
      "35\n"
     ]
    }
   ],
   "source": [
    "'''Ans 4:- To capture in-place addition in a class, we need to implement the __iadd__\n",
    "method within the class definition. This method is invoked when the += operator is\n",
    "used on an object of the class. Within __iadd__, you can define how the object\n",
    "should be modified when in-place addition is performed. This method should return the\n",
    "modified object.In this example, the InPlaceAdditionCapture class defines the __iadd__\n",
    "method to handle in-place addition scenarios. It ensures that both instances of the\n",
    "class and other data types can be added using the += operator, while capturing the\n",
    "in-place modification.'''\n",
    "\n",
    "class InPlaceAdditionCapture:\n",
    "    def __init__(self, value):\n",
    "        self.value = value\n",
    "\n",
    "    def __iadd__(self, other):\n",
    "        if isinstance(other, InPlaceAdditionCapture):\n",
    "            self.value += other.value\n",
    "        else:\n",
    "            self.value += other\n",
    "        return self\n",
    "\n",
    "obj1 = InPlaceAdditionCapture(5)\n",
    "obj2 = InPlaceAdditionCapture(10)\n",
    "\n",
    "obj1 += obj2  # In-place addition using custom logic\n",
    "print(obj1.value)\n",
    "\n",
    "obj1 += 20  # In-place addition with integer\n",
    "print(obj1.value)"
   ]
  },
  {
   "cell_type": "code",
   "execution_count": 8,
   "id": "0fd3c582",
   "metadata": {},
   "outputs": [
    {
     "name": "stdout",
     "output_type": "stream",
     "text": [
      "4 6\n"
     ]
    }
   ],
   "source": [
    "'''Ans 5:- Operator overloading is appropriate when you want to define custom behavior\n",
    "for built-in operators in the context of your own classes. It enhances code\n",
    "readability and expressiveness by allowing objects of our class to work seamlessly with\n",
    "familiar operators, making our code more intuitive. Common use cases include\n",
    "mathematical operations, comparisons, and container manipulation.  For example, in a Vector\n",
    "class, you can overload the + operator to enable easy vector addition. In this\n",
    "example, operator overloading with __add__ allows you to use the + operator to perform\n",
    "vector addition, enhancing the readability and naturalness of the code.'''\n",
    "\n",
    "class Vector:\n",
    "    def __init__(self, x, y):\n",
    "        self.x = x\n",
    "        self.y = y\n",
    "\n",
    "    def __add__(self, other):\n",
    "        return Vector(self.x + other.x, self.y + other.y)\n",
    "\n",
    "v1 = Vector(1, 2)\n",
    "v2 = Vector(3, 4)\n",
    "result = v1 + v2  # Calls the custom __add__ method\n",
    "print(result.x, result.y)"
   ]
  }
 ],
 "metadata": {
  "kernelspec": {
   "display_name": "Python 3 (ipykernel)",
   "language": "python",
   "name": "python3"
  },
  "language_info": {
   "codemirror_mode": {
    "name": "ipython",
    "version": 3
   },
   "file_extension": ".py",
   "mimetype": "text/x-python",
   "name": "python",
   "nbconvert_exporter": "python",
   "pygments_lexer": "ipython3",
   "version": "3.10.9"
  }
 },
 "nbformat": 4,
 "nbformat_minor": 5
}
