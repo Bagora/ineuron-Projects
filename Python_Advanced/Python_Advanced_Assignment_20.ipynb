{
 "cells": [
  {
   "cell_type": "markdown",
   "id": "cc7fc379",
   "metadata": {},
   "source": [
    "## Python_Advanced_Assignment_20\n",
    "1. Compare and contrast the float and Decimal classes' benefits and drawbacks.\n",
    "2. Decimal('1.200') and Decimal('1.2') are two objects to consider. In what sense are these the same object? Are these just two ways of representing the exact same value, or do they correspond to different internal states?\n",
    "3. What happens if the equality of Decimal('1.200') and Decimal('1.2') is checked?\n",
    "4. Why is it preferable to start a Decimal object with a string rather than a floating-point value?\n",
    "5. In an arithmetic phrase, how simple is it to combine Decimal objects with integers?\n",
    "6. Can Decimal objects and floating-point values be combined easily?\n",
    "7. Using the Fraction class but not the Decimal class, give an example of a quantity that can be expressed with absolute precision.\n",
    "8. Describe a quantity that can be accurately expressed by the Decimal or Fraction classes but not by a floating-point value.\n",
    "9. Consider the following two fraction objects: Fraction(1, 2) and Fraction(1, 2). (5, 10). Is the internal state of these two objects the same? Why do you think that is?\n",
    "10. How do the Fraction class and the integer type (int) relate to each other? Containment or inheritance?"
   ]
  },
  {
   "cell_type": "code",
   "execution_count": 1,
   "id": "532094a4",
   "metadata": {},
   "outputs": [
    {
     "name": "stdout",
     "output_type": "stream",
     "text": [
      "Float_result:- 0.30000000000000004\n",
      "Decimal_result:- 0.3\n"
     ]
    }
   ],
   "source": [
    "'''Ans 1:- The float class in Python represents floating-point numbers using the IEEE 754\n",
    "standard, offering efficient arithmetic operations and supporting a wide range of\n",
    "values. However, it has limitations in terms of precision, leading to rounding errors\n",
    "in some calculations due to binary representation. For example, 0.1 + 0.2 might\n",
    "yield a result slightly off from 0.3.\n",
    "\n",
    "The Decimal class from the decimal module provides arbitrary precision decimal\n",
    "arithmetic, suitable for applications requiring exact decimal representation. It's\n",
    "particularly useful in financial or critical calculations to avoid precision issues.\n",
    "However, Decimal calculations are slower and consume more memory compared to float.\n",
    "\n",
    "In summary, float offers efficiency but limited precision, while Decimal\n",
    "provides accuracy but with performance trade-offs. The choice depends on the specific\n",
    "needs of the application.'''\n",
    "\n",
    "from decimal import Decimal\n",
    "\n",
    "float_result = 0.1 + 0.2\n",
    "decimal_result = Decimal('0.1') + Decimal('0.2')\n",
    "print(f\"Float_result:- {float_result}\")\n",
    "print(f\"Decimal_result:- {decimal_result}\")"
   ]
  },
  {
   "cell_type": "code",
   "execution_count": 2,
   "id": "95ba695a",
   "metadata": {},
   "outputs": [
    {
     "name": "stdout",
     "output_type": "stream",
     "text": [
      "True\n",
      "False\n"
     ]
    }
   ],
   "source": [
    "'''Ans 2:- In Python's decimal module, Decimal('1.200') and Decimal('1.2') are not the\n",
    "same object but represent the same value with different internal states. These two\n",
    "forms are distinct representations of the same decimal value, with trailing zeros\n",
    "considered as significant digits.\n",
    "\n",
    "While decimal1 and decimal2 are equal in value, they are not the same object\n",
    "in memory. They correspond to different internal states due to the presence of\n",
    "trailing zeros. The Decimal class ensures that these representations yield the same\n",
    "result in arithmetic operations and comparisons while preserving the precision and\n",
    "trailing zeros specified by the user.'''\n",
    "\n",
    "from decimal import Decimal\n",
    "\n",
    "decimal1 = Decimal('1.200')\n",
    "decimal2 = Decimal('1.2')\n",
    "\n",
    "print(decimal1 == decimal2)\n",
    "print(decimal1 is decimal2)"
   ]
  },
  {
   "cell_type": "code",
   "execution_count": 3,
   "id": "d5d57808",
   "metadata": {},
   "outputs": [
    {
     "name": "stdout",
     "output_type": "stream",
     "text": [
      "True\n"
     ]
    }
   ],
   "source": [
    "'''Ans 3:- When the equality of Decimal('1.200') and Decimal('1.2') is checked using the\n",
    "== operator, they are considered equal due to the way the decimal module handles\n",
    "comparison and equality for different representations of the same value.\n",
    "\n",
    "In this code, the comparison decimal1 == decimal2 returns True because the\n",
    "decimal module treats these two representations as the same value, disregarding the\n",
    "trailing zeros. This behavior ensures that equivalent decimal values with different\n",
    "representations are considered equal, maintaining the expected behavior for arithmetic and\n",
    "comparison operations while accounting for precision and significant digits.'''\n",
    "\n",
    "decimal1 = Decimal('1.200')\n",
    "decimal2 = Decimal('1.2')\n",
    "\n",
    "print(decimal1 == decimal2)"
   ]
  },
  {
   "cell_type": "code",
   "execution_count": 5,
   "id": "0863784e",
   "metadata": {},
   "outputs": [
    {
     "name": "stdout",
     "output_type": "stream",
     "text": [
      "0.1000000000000000055511151231257827021181583404541015625\n",
      "0.1\n"
     ]
    }
   ],
   "source": [
    "'''Ans 4:- Starting a Decimal object with a string rather than a floating-point value is\n",
    "preferable to avoid potential precision loss and rounding errors that can occur due to\n",
    "the limitations of binary floating-point representation. Floating-point values\n",
    "might not accurately represent decimal numbers, especially with repeating fractions.\n",
    "\n",
    "In this case, starting with a string '0.1' ensures that the Decimal object\n",
    "accurately represents the decimal value, while converting a floating-point value leads to\n",
    "slight inaccuracies. Using strings for initialization guarantees that the intended\n",
    "decimal value is preserved, minimizing the risk of precision issues and rounding\n",
    "errors in subsequent calculations.'''\n",
    "\n",
    "float_value = 0.1\n",
    "decimal_from_float = Decimal(float_value)\n",
    "decimal_from_string = Decimal('0.1')\n",
    "\n",
    "print(decimal_from_float)\n",
    "print(decimal_from_string)"
   ]
  },
  {
   "cell_type": "code",
   "execution_count": 6,
   "id": "66d8e747",
   "metadata": {},
   "outputs": [
    {
     "name": "stdout",
     "output_type": "stream",
     "text": [
      "5.5\n"
     ]
    }
   ],
   "source": [
    "'''Ans 5:- Combining Decimal objects with integers is straightforward and requires no\n",
    "additional considerations. Arithmetic operations involving Decimal and integers are\n",
    "seamless due to the decimal module's design to maintain precision and avoid rounding\n",
    "errors.\n",
    "\n",
    "In this example, adding a Decimal value to an integer is as simple as adding\n",
    "two integers. The Decimal module handles the arithmetic operation, ensuring that\n",
    "precision is maintained throughout the calculation. This straightforward combination of\n",
    "Decimal and integers showcases the module's ability to seamlessly perform arithmetic\n",
    "operations between different numeric types while avoiding floating-point issues that can\n",
    "occur in typical floating-point arithmetic.'''\n",
    "\n",
    "decimal_value = Decimal('2.5')\n",
    "integer_value = 3\n",
    "\n",
    "result = decimal_value + integer_value\n",
    "print(result)"
   ]
  },
  {
   "cell_type": "code",
   "execution_count": 8,
   "id": "aebbdd5d",
   "metadata": {},
   "outputs": [
    {
     "name": "stdout",
     "output_type": "stream",
     "text": [
      "5.700000000000000177635683940\n"
     ]
    }
   ],
   "source": [
    "'''Ans 6:- Combining Decimal objects and floating-point values is possible, but it\n",
    "requires careful consideration due to potential precision issues. The decimal module's\n",
    "design ensures that arithmetic involving Decimal objects maintains precision and\n",
    "minimizes rounding errors, but combining them with floating-point values can lead to\n",
    "precision loss.\n",
    "\n",
    "In this example, adding a Decimal value to a floating-point value results in a\n",
    "floating-point approximation with potential inaccuracies. The decimal module's precision\n",
    "doesn't extend to floating-point values, so the resulting value might not be as\n",
    "precise as desired. When combining Decimal objects with floating-point values, it's\n",
    "recommended to convert the floating-point value to a Decimal to ensure consistent\n",
    "precision throughout the calculation and avoid potential precision loss.\n",
    "\n",
    "The floating-point value is explicitly converted to a Decimal using the\n",
    "Decimal constructor before performing the addition. This approach maintains precision\n",
    "and avoids mixing incompatible types, preventing the TypeError.'''\n",
    "\n",
    "decimal_value = Decimal('2.5')\n",
    "float_value = 3.2\n",
    "\n",
    "result = decimal_value + Decimal(float_value)\n",
    "print(result)"
   ]
  },
  {
   "cell_type": "code",
   "execution_count": 17,
   "id": "c1a32874",
   "metadata": {},
   "outputs": [
    {
     "name": "stdout",
     "output_type": "stream",
     "text": [
      "1/2\n"
     ]
    }
   ],
   "source": [
    "'''Ans 7:- The Fraction class in Python's fractions module allows you to represent\n",
    "rational numbers with absolute precision. Fractions that can be expressed as exact\n",
    "ratios of integers are suitable for absolute precision, since the Fraction class\n",
    "stores them without any loss of precision.\n",
    "\n",
    "In this example, the fraction 3/7 can be expressed with absolute precision\n",
    "using the Fraction class. The Fraction object retains the exact ratio of the\n",
    "numerator and denominator, avoiding any rounding or approximation errors. The Fraction\n",
    "class is particularly useful for situations where precise fractions are essential,\n",
    "such as in financial calculations, where maintaining exact fractions is crucial to\n",
    "avoid any loss of accuracy during calculations.'''\n",
    "\n",
    "from fractions import Fraction\n",
    "\n",
    "fraction_value = Fraction(0.5)\n",
    "print(fraction_value)"
   ]
  },
  {
   "cell_type": "code",
   "execution_count": 18,
   "id": "76832d2e",
   "metadata": {},
   "outputs": [
    {
     "name": "stdout",
     "output_type": "stream",
     "text": [
      "1/3\n"
     ]
    }
   ],
   "source": [
    "'''Ans 8:- A quantity that can be accurately represented by the Decimal or Fraction\n",
    "classes but not by a floating-point value is a repeating decimal, like the\n",
    "mathematical constant \"one-third\" (1/3). In floating-point representation, decimals with\n",
    "repeating patterns cannot be represented precisely due to the limitations of binary\n",
    "floating-point arithmetic. However, both Decimal and Fraction classes can accurately handle\n",
    "such quantities.\n",
    "\n",
    "In this example, the fraction 1/3 is accurately represented by the Fraction\n",
    "class. This precision is not achievable with a floating-point value, where attempting\n",
    "to represent 1/3 could result in an approximation leading to rounding errors. The\n",
    "Decimal and Fraction classes, with their capability to maintain exact rational\n",
    "representations, are better suited for accurately handling quantities involving repeating\n",
    "decimals.'''\n",
    "\n",
    "from fractions import Fraction\n",
    "\n",
    "fraction_value = Fraction(1, 3)\n",
    "print(fraction_value)"
   ]
  },
  {
   "cell_type": "code",
   "execution_count": 23,
   "id": "9c5a4359",
   "metadata": {},
   "outputs": [
    {
     "name": "stdout",
     "output_type": "stream",
     "text": [
      "1/2\n",
      "1/2\n"
     ]
    }
   ],
   "source": [
    "'''Ans 9:- Yes, the internal state of the Fraction objects Fraction(1, 2) and Fraction(5,\n",
    "10) is the same. The Fraction class automatically simplifies fractions to their\n",
    "simplest form, using the greatest common divisor (GCD) to reduce the numerator and\n",
    "denominator.\n",
    "\n",
    "In this example, even though the fractions are initialized with different\n",
    "numerator and denominator values, the Fraction class simplifies both fractions to the\n",
    "simplest form, which is 1/2. This simplification ensures that fractions with equivalent\n",
    "values have the same internal state, making it easier to compare and perform\n",
    "arithmetic operations with them without worrying about differences in representation.'''\n",
    "\n",
    "from fractions import Fraction\n",
    "\n",
    "fraction1 = Fraction(1, 2)\n",
    "fraction2 = Fraction(5, 10)\n",
    "\n",
    "print(fraction1)\n",
    "print(fraction2)"
   ]
  },
  {
   "cell_type": "code",
   "execution_count": 24,
   "id": "ff8a8b97",
   "metadata": {},
   "outputs": [
    {
     "name": "stdout",
     "output_type": "stream",
     "text": [
      "5/2\n"
     ]
    }
   ],
   "source": [
    "'''Ans 10:- The Fraction class and the integer type (int) are related through containment\n",
    "and usage rather than inheritance. The Fraction class allows for rational numbers\n",
    "with both numerator and denominator as integers. While int is a basic numeric type,\n",
    "instances of int can be used as inputs for creating Fraction objects.\n",
    "\n",
    "In this example, the integer 5 is used as the numerator to create a Fraction\n",
    "object 5/2. The Fraction class uses integers as fundamental components to represent\n",
    "rational numbers. While there's no direct inheritance relationship between int and\n",
    "Fraction, int values can be utilized to create Fraction instances, demonstrating their\n",
    "relationship through usage and interaction.'''\n",
    "\n",
    "integer_value = 5\n",
    "fraction_value = Fraction(integer_value, 2)\n",
    "\n",
    "print(fraction_value)"
   ]
  }
 ],
 "metadata": {
  "kernelspec": {
   "display_name": "Python 3 (ipykernel)",
   "language": "python",
   "name": "python3"
  },
  "language_info": {
   "codemirror_mode": {
    "name": "ipython",
    "version": 3
   },
   "file_extension": ".py",
   "mimetype": "text/x-python",
   "name": "python",
   "nbconvert_exporter": "python",
   "pygments_lexer": "ipython3",
   "version": "3.10.9"
  }
 },
 "nbformat": 4,
 "nbformat_minor": 5
}
