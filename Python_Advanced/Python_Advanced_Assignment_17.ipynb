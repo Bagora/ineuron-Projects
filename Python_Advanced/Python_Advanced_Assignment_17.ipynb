{
 "cells": [
  {
   "cell_type": "markdown",
   "id": "98e85665",
   "metadata": {},
   "source": [
    "## Python_Advanced_Assignment_17\n",
    "1. Explain the difference between greedy and non-greedy syntax with visual terms in as few words as possible. What is the bare minimum effort required to transform a greedy pattern into a non-greedy one? What characters or characters can you introduce or change?\n",
    "2. When exactly does greedy versus non-greedy make a difference?  What if you're looking for a non-greedy match but the only one available is greedy?\n",
    "3. In a simple match of a string, which looks only for one match and does not do any replacement, is the use of a nontagged group likely to make any practical difference?\n",
    "4. Describe a scenario in which using a nontagged category would have a significant impact on the program's outcomes.\n",
    "5. Unlike a normal regex pattern, a look-ahead condition does not consume the characters it examines. Describe a situation in which this could make a difference in the results of your programme.\n",
    "6. In standard expressions, what is the difference between positive look-ahead and negative look-ahead?\n",
    "7. What is the benefit of referring to groups by name rather than by number in a standard expression?\n",
    "8. Can you identify repeated items within a target string using named groups, as in \"The cow jumped over the moon\"?\n",
    "9. When parsing a string, what is at least one thing that the Scanner interface does for you that the re.findall feature does not?\n",
    "10. Does a scanner object have to be named scanner?"
   ]
  },
  {
   "cell_type": "code",
   "execution_count": null,
   "id": "8624d2ff",
   "metadata": {},
   "outputs": [],
   "source": [
    "'''Ans 1:- Greedy syntax aims for the longest match: .* captures everything between the\n",
    "first and last occurrences. Non-greedy syntax aims for the shortest match: .*?\n",
    "captures the content between the closest occurrences. To transform greedy to\n",
    "non-greedy, just add ?. For instance, in the text \"ABCDEF\", with pattern A.*F, greedily\n",
    "matches \"ABCDEF,\" while A.*?F non-greedily matches \"ABCF.\" Adding ? minimizes the\n",
    "matched content.\n",
    "\n",
    "Greedy: Grabs the longest match: .*\n",
    "Non-greedy: Grabs the shortest match: .*?\n",
    "Change * to *?\n",
    "'''"
   ]
  },
  {
   "cell_type": "code",
   "execution_count": null,
   "id": "6d9dd694",
   "metadata": {},
   "outputs": [],
   "source": [
    "'''Ans 2:- Greedy versus non-greedy matters when there are multiple occurrences of the\n",
    "pattern in the text. Greedy seeks the longest match, often spanning multiple\n",
    "occurrences. Non-greedy seeks the shortest match, limited to the closest occurrences.  If\n",
    "only a greedy match is available but we need a non-greedy result, we can\n",
    "introduce constraints using the surrounding context or use a more specific pattern. This\n",
    "might involve altering the regular expression or combining it with additional logic\n",
    "to achieve the desired non-greedy outcome.'''"
   ]
  },
  {
   "cell_type": "code",
   "execution_count": null,
   "id": "08a61aef",
   "metadata": {},
   "outputs": [],
   "source": [
    "'''Ans 3:- In a simple string match where only one match is being sought and no\n",
    "replacement is involved, the use of a non-capturing group (also known as a non-tagged\n",
    "group) typically doesn't make a practical difference. Non-capturing groups are mainly\n",
    "used to group expressions together for quantifiers or alternations without\n",
    "capturing the matched content. Since capturing the matched content isn't a concern in\n",
    "your scenario, using non-capturing groups or not using them won't have a\n",
    "significant impact on the outcome of the match.'''"
   ]
  },
  {
   "cell_type": "code",
   "execution_count": 1,
   "id": "d875bfb7",
   "metadata": {},
   "outputs": [
    {
     "name": "stdout",
     "output_type": "stream",
     "text": [
      "Timestamp: 2023-08-27 12:34:56, Message: This is an informational message\n",
      "Timestamp: 2023-08-27 13:45:23, Message: An error occurred\n",
      "Timestamp: 2023-08-27 14:56:42, Message: This is a warning\n"
     ]
    }
   ],
   "source": [
    "'''Ans 4:- Let's consider a scenario involving regular expressions in a text\n",
    "processing task. Suppose we parsing log files to extract specific information from\n",
    "each log entry. Each log entry has a standardized format that includes various\n",
    "fields such as timestamp, severity level, and message content. we want to extract\n",
    "the timestamp and message content from each log entry.\n",
    "\n",
    "However, in this case, the severity level information is not relevant to our\n",
    "extraction task. we only interested in the timestamp and message content. Using a\n",
    "non-capturing group for the severity level can improve the efficiency of the regex and the\n",
    "clarity of our intention.\n",
    "\n",
    "In this example, the non-capturing group (?:.*?) is used for the severity\n",
    "level. This tells the regex engine not to create a capture group for the severity\n",
    "level, which can save some memory and processing time. While the difference in a\n",
    "single log entry might be negligible, in a scenario with a large number of log\n",
    "entries, using non-capturing groups for unnecessary captures can lead to improved\n",
    "performance and resource usage.\n",
    "\n",
    "\\[(.*?)\\] \\[(.*?)\\] Message: (.*)\n",
    "\n",
    "'''\n",
    "\n",
    "import re\n",
    "\n",
    "log_entries = [\n",
    "    \"[2023-08-27 12:34:56] [INFO] Message: This is an informational message\",\n",
    "    \"[2023-08-27 13:45:23] [ERROR] Message: An error occurred\",\n",
    "    \"[2023-08-27 14:56:42] [WARNING] Message: This is a warning\",\n",
    "]\n",
    "\n",
    "pattern = r'\\[(.*?)\\] \\[(?:.*?)\\] Message: (.*)'\n",
    "\n",
    "for log_entry in log_entries:\n",
    "    match = re.match(pattern, log_entry)\n",
    "    if match:\n",
    "        timestamp = match.group(1)\n",
    "        message = match.group(2)\n",
    "        print(f\"Timestamp: {timestamp}, Message: {message}\")\n",
    "    else:\n",
    "        print(\"No match found\")"
   ]
  },
  {
   "cell_type": "code",
   "execution_count": 3,
   "id": "c7583b8b",
   "metadata": {},
   "outputs": [],
   "source": [
    "'''Ans 5:- Consider a scenario where we are processing a list of email addresses, and you\n",
    "want to extract domain names that are followed by a specific keyword. Let's say\n",
    "you're looking for domain names that are associated with the keyword \"business.\"\n",
    "However, you don't want to include the keyword itself in the extracted result.\n",
    "\n",
    "user1@example.com\n",
    "user2@business.com\n",
    "user3@personal.biz\n",
    "user4@business.org\n",
    "\n",
    "we can use a positive look-ahead assertion to achieve this. \n",
    "@(\\w+(?=@business\\.))\n",
    "\n",
    "Explanation of the regex:  @ matches the \"@\" character. \\w+ matches one or\n",
    "more word characters (letters, digits, or underscores). (?=@business\\.) is a\n",
    "positive look-ahead assertion. It ensures that the matched characters are followed by\n",
    "@business. without consuming the characters matched by \\w+.'''"
   ]
  },
  {
   "cell_type": "code",
   "execution_count": 23,
   "id": "0df18afc",
   "metadata": {},
   "outputs": [
    {
     "name": "stdout",
     "output_type": "stream",
     "text": [
      "The string 'abc' is followed by any character.\n",
      "The string 'abc' is not followed by any character.\n"
     ]
    }
   ],
   "source": [
    "'''Ans 6:-  The main difference between positive lookahead and negative lookahead is that\n",
    "positive lookahead matches a pattern if it is followed by the specified text, while\n",
    "negative lookahead matches a pattern if it is not followed by the specified text.\n",
    "\n",
    "let's clarify the difference between positive look-ahead and\n",
    "negative look-ahead in regular expressions:-\n",
    "\n",
    "Positive Look-Ahead (?=...):-\n",
    "\n",
    "1. Syntax: (?=...)\n",
    "\n",
    "2. Description: Asserts that the text following the current position matches the\n",
    "enclosed pattern.\n",
    "\n",
    "3. Outcome: The match only occurs if the specified pattern is found after the\n",
    "current position.\n",
    "\n",
    "4. Example: foo(?=bar) matches \"foo\" only if it's followed by \"bar\".\n",
    "\n",
    "Negative Look-Ahead (?!...):-\n",
    "\n",
    "1. Syntax: (?!...) \n",
    "\n",
    "2. Description: Asserts that the text following the current\n",
    "position does not match the enclosed pattern.\n",
    "\n",
    "3. Outcome: The match only occurs if the specified pattern is not found after the\n",
    "current position.\n",
    "\n",
    "4. Example: foo(?!bar) matches \"foo\" only if it's not followed by \"bar\".\n",
    "\n",
    "In both cases, these assertions don't consume any characters from the string;\n",
    "they only assert whether the pattern following the current position matches or\n",
    "doesn't match the specified condition.\n",
    "\n",
    "Here's an example Python code snippet that demonstrates the use of positive\n",
    "look-ahead and negative look-ahead assertions in regular expressions:'''\n",
    "\n",
    "import re\n",
    "\n",
    "def main():\n",
    "    text = \"abc def\"\n",
    "\n",
    "  # Positive lookahead\n",
    "    pattern = r\"(?=abc)\"\n",
    "    if re.search(pattern, text):\n",
    "        print(\"The string 'abc' is followed by any character.\")\n",
    "\n",
    "  # Negative lookahead\n",
    "    pattern = r\"(?!abc)\"\n",
    "    if re.search(pattern, text):\n",
    "        print(\"The string 'abc' is not followed by any character.\")\n",
    "\n",
    "if __name__ == \"__main__\":\n",
    "    main()"
   ]
  },
  {
   "cell_type": "code",
   "execution_count": 19,
   "id": "f13adee6",
   "metadata": {},
   "outputs": [
    {
     "name": "stdout",
     "output_type": "stream",
     "text": [
      "Name: John\n",
      "Age: 30\n"
     ]
    }
   ],
   "source": [
    "'''Ans 7:- Referring to groups by name instead of by number in a regular expression\n",
    "provides several benefits. Naming groups makes our code more readable and\n",
    "maintainable, as it adds context to the captured content. This is especially valuable in\n",
    "complex patterns. Using names also shields your code from potential changes in the\n",
    "order of capture groups, which can occur when you modify the regex. It improves code\n",
    "robustness, as named groups are less prone to breakage during pattern updates. Moreover,\n",
    "named groups facilitate self-documentation, aiding other developers in understanding\n",
    "your intentions. For instance, in the pattern (?P<name>\\w+)\\s+(?P<age>\\d+), you can\n",
    "access matched values as match['name'] and match['age']. Overall, naming groups\n",
    "enhances the readability, maintainability, and stability of your regex code.'''\n",
    "\n",
    "import re\n",
    "\n",
    "pattern = r\"(?P<name>\\w+)\\s+(?P<age>\\d+)\"\n",
    "text = \"John 30\"\n",
    "\n",
    "match = re.match(pattern, text)\n",
    "print(\"Name:\", match['name'])\n",
    "print(\"Age:\", match['age'])"
   ]
  },
  {
   "cell_type": "code",
   "execution_count": 49,
   "id": "37b94ddb",
   "metadata": {},
   "outputs": [
    {
     "name": "stdout",
     "output_type": "stream",
     "text": [
      "Repeated words: {'the'}\n",
      "Counts: {'the': 2}\n"
     ]
    }
   ],
   "source": [
    "'''Ans 8:- Named groups are a special type of capturing group in regular expressions that\n",
    "allow us to give a name to the group. This can be useful for identifying repeated\n",
    "items within a target string.\n",
    "\n",
    "This code uses a regular expression to find words that repeat in a given\n",
    "string. It creates a dictionary to store unique repeated words and their counts. By\n",
    "comparing each word's count in a case-insensitive manner, it identifies repeated words\n",
    "and their occurrence frequency within the string. The output displays the repeated\n",
    "words and their counts.'''\n",
    "\n",
    "import re\n",
    "\n",
    "target_string = \"The cow jumped over the moon\"\n",
    "pattern = r'\\b(?P<word>\\w+)\\b(?=.*\\b\\1\\b)'\n",
    "\n",
    "matches = re.finditer(pattern, target_string, re.IGNORECASE)\n",
    "repeated_items = {match.group('word').lower() for match in matches}\n",
    "\n",
    "repeated_counts = {word: target_string.lower().count(word) for word in repeated_items}\n",
    "\n",
    "print(\"Repeated words:\", repeated_items)\n",
    "print(\"Counts:\", repeated_counts)"
   ]
  },
  {
   "cell_type": "code",
   "execution_count": 50,
   "id": "80ebf484",
   "metadata": {},
   "outputs": [
    {
     "name": "stdout",
     "output_type": "stream",
     "text": [
      "Scanner tokens: ['42']\n",
      "findall tokens: ['42', 'apples', '3.14', 'oranges', 'and', '7', 'bananas']\n"
     ]
    }
   ],
   "source": [
    "'''Ans 9:- Certainly! Here's a Python code snippet that demonstrates the difference\n",
    "between using the Scanner equivalent (re.Scanner) and re.findall() for parsing and\n",
    "extracting specific patterns from a string:-\n",
    "\n",
    "In this example, the Scanner equivalent re.Scanner is used to tokenize the\n",
    "input string into different patterns like integers, floats, and words. The\n",
    "re.findall() function is used to extract the same patterns. The key difference lies in the\n",
    "ability of Scanner to handle the processing of tokens and potentially complex actions\n",
    "while scanning, which isn't directly achievable with re.findall().'''\n",
    "\n",
    "import re\n",
    "\n",
    "# Using re.Scanner equivalent\n",
    "scanner_pattern = r'\\d+\\.\\d+|\\d+|[a-zA-Z]+'\n",
    "scanner = re.Scanner([(scanner_pattern, lambda s, t: t)])\n",
    "\n",
    "input_string = \"42 apples, 3.14 oranges, and 7 bananas\"\n",
    "tokens, remainder = scanner.scan(input_string)\n",
    "print(\"Scanner tokens:\", tokens)\n",
    "\n",
    "# Using re.findall()\n",
    "findall_pattern = r'\\d+\\.\\d+|\\d+|[a-zA-Z]+'\n",
    "findall_tokens = re.findall(findall_pattern, input_string)\n",
    "print(\"findall tokens:\", findall_tokens)"
   ]
  },
  {
   "cell_type": "code",
   "execution_count": null,
   "id": "4b9e33b4",
   "metadata": {},
   "outputs": [],
   "source": [
    "'''Ans 10:- No, a scanner object doesn't have to be named \"scanner.\" we can choose any\n",
    "valid variable name for the object. Naming it appropriately helps improve code\n",
    "readability and understanding, making our code more maintainable. The variable name should\n",
    "reflect the purpose of the object, aiding in identifying its role within the code.'''"
   ]
  }
 ],
 "metadata": {
  "kernelspec": {
   "display_name": "Python 3 (ipykernel)",
   "language": "python",
   "name": "python3"
  },
  "language_info": {
   "codemirror_mode": {
    "name": "ipython",
    "version": 3
   },
   "file_extension": ".py",
   "mimetype": "text/x-python",
   "name": "python",
   "nbconvert_exporter": "python",
   "pygments_lexer": "ipython3",
   "version": "3.10.9"
  }
 },
 "nbformat": 4,
 "nbformat_minor": 5
}
