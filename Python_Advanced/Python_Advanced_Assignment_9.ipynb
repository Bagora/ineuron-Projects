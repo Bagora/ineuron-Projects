{
 "cells": [
  {
   "cell_type": "markdown",
   "id": "f65c7d6b",
   "metadata": {},
   "source": [
    "## Python_Advanced_Assignment_9\n",
    "1. In Python 3.X, what are the names and functions of string object types?\n",
    "2. How do the string forms in Python 3.X vary in terms of operations?\n",
    "3. In 3.X, how do you put non-ASCII Unicode characters in a string?\n",
    "4. In Python 3.X, what are the key differences between text-mode and binary-mode files?\n",
    "5. How can you interpret a Unicode text file containing text encoded in a different encoding than your platform's default?\n",
    "6. What is the best way to make a Unicode text file in a particular encoding format?\n",
    "7. What qualifies ASCII text as a form of Unicode text?\n",
    "8. How much of an effect does the change in string types in Python 3.X have on your code?"
   ]
  },
  {
   "cell_type": "code",
   "execution_count": 4,
   "id": "959cf1f5",
   "metadata": {},
   "outputs": [
    {
     "name": "stdout",
     "output_type": "stream",
     "text": [
      "HELLO, WORLD!\n",
      "101\n",
      "bytearray(b'Aello')\n"
     ]
    }
   ],
   "source": [
    "'''Ans 1:- In Python 3.x, the main string object types are str, bytes, and bytearray.\n",
    "Each serves a specific purpose for handling text and bytes:-\n",
    "\n",
    "1. str: This is the Unicode string type used for representing text. It's the most\n",
    "commonly used string type and supports various string operations.\n",
    "\n",
    "2. bytes: This type represents a sequence of bytes and is used for handling\n",
    "binary data. It's immutable, similar to str.\n",
    "\n",
    "3. bytearray: This is a mutable version of bytes. It allows modifications to the\n",
    "underlying bytes.\n",
    "\n",
    "These string object types cater to different use cases, with str being the\n",
    "most versatile for text handling, and bytes and bytearray being essential for\n",
    "dealing with binary data and lower-level operations.'''\n",
    "\n",
    "# str\n",
    "text = \"Hello, World!\"\n",
    "print(text.upper())\n",
    "\n",
    "# bytes\n",
    "binary_data = b'\\x48\\x65\\x6c\\x6c\\x6f'  # \"Hello\" in ASCII bytes\n",
    "print(binary_data[1])  # Output: 101\n",
    "\n",
    "# bytearray\n",
    "byte_array = bytearray(b'\\x48\\x65\\x6c\\x6c\\x6f')\n",
    "byte_array[0] = 0x41  # Change 'H' to 'A'\n",
    "print(byte_array)"
   ]
  },
  {
   "cell_type": "code",
   "execution_count": 6,
   "id": "9af52133",
   "metadata": {},
   "outputs": [
    {
     "name": "stdout",
     "output_type": "stream",
     "text": [
      "HELLO, WORLD!\n",
      "Hello\n",
      "72\n",
      "bytearray(b'Aello')\n"
     ]
    }
   ],
   "source": [
    "'''Ans 2:- In Python 3.x, the different string forms—str, bytes, and bytearray—vary in\n",
    "terms of operations due to their intended use cases and immutability/mutability.\n",
    "Here's how their operations differ:-\n",
    "\n",
    "1. str (Unicode Strings): Supports a wide range of string manipulation operations\n",
    "like concatenation, slicing, and formatting. Offers methods for text manipulation\n",
    "such as upper(), lower(), replace(), etc. Supports Unicode characters and allows\n",
    "encoding and decoding operations.\n",
    "\n",
    "2. bytes: Lacks many string-specific methods; limited to basic sequence\n",
    "operations like indexing and slicing. Represents binary data and is used for I/O and\n",
    "network operations. Immutable, so operations like concatenation create new bytes\n",
    "objects.\n",
    "\n",
    "3. bytearray: Shares most operations with bytes, including indexing and slicing.\n",
    "Additional methods for in-place modification, like append(), pop(), and insert(). Mutable\n",
    "version of bytes, allowing direct modification of the underlying bytes.\n",
    "\n",
    "In summary, the choice of string form depends on your specific use case: str\n",
    "for text manipulation, bytes for binary data handling, and bytearray when you need\n",
    "to modify binary data in-place.'''\n",
    "\n",
    "# str operations\n",
    "text = \"Hello, World!\"\n",
    "print(text.upper())\n",
    "print(text[0:5])\n",
    "\n",
    "# bytes operations\n",
    "binary_data = b'\\x48\\x65\\x6c\\x6c\\x6f'\n",
    "print(binary_data[0])\n",
    "\n",
    "# bytearray operations\n",
    "byte_array = bytearray(b'\\x48\\x65\\x6c\\x6c\\x6f')\n",
    "byte_array[0] = 0x41   # Change 'H' to 'A'\n",
    "print(byte_array)"
   ]
  },
  {
   "cell_type": "markdown",
   "id": "6eafccc6",
   "metadata": {},
   "source": [
    "Ans 3:- In Python 3.x, we can include non-ASCII Unicode characters in a string by\n",
    "using Unicode escape sequences or by directly inputting the Unicode characters using\n",
    "their code points.\n",
    "\n",
    "1. Using Unicode Escape Sequences: we can represent non-ASCII characters using\n",
    "escape sequences in the form \\uXXXX or \\UXXXXXXXX, where XXXX or XXXXXXXX are the\n",
    "hexadecimal Unicode code points.\n",
    "\n",
    "2. Using Unicode Characters Directly: You can include Unicode characters directly\n",
    "in a string using their Unicode code points. Use the \\N{...} syntax.\n",
    "Python 3.x uses Unicode by default, so we can directly include\n",
    "non-ASCII characters in our strings.\n",
    "\n",
    "Both methods allow us to include non-ASCII Unicode characters in our strings,\n",
    "enabling us to work with a wide range of languages and symbols"
   ]
  },
  {
   "cell_type": "code",
   "execution_count": 16,
   "id": "efd5a8ac",
   "metadata": {},
   "outputs": [
    {
     "name": "stdout",
     "output_type": "stream",
     "text": [
      "Hello, Σ!\n",
      "Hello, Σ!\n",
      "Привет, 你好, こんにちは\n",
      "मुझे पाइथॉन बहुत पसंद है, मैं पाइथॉन के साथ कई ऐप्स बना सकता हूं\n"
     ]
    }
   ],
   "source": [
    "string_with_unicode = \"Hello, \\u03A3!\"\n",
    "string_with_unicode1 = \"Hello, \\N{GREEK CAPITAL LETTER SIGMA}!\"\n",
    "string_with_unicode2 = \"Привет, 你好, こんにちは\"  # Non-ASCII characters from various languages\n",
    "string_with_unicode3 = \"मुझे पाइथॉन बहुत पसंद है, मैं पाइथॉन के साथ कई ऐप्स बना सकता हूं\"\n",
    "\n",
    "print(string_with_unicode)\n",
    "print(string_with_unicode1)\n",
    "print(string_with_unicode2)\n",
    "print(string_with_unicode3)"
   ]
  },
  {
   "cell_type": "code",
   "execution_count": 30,
   "id": "cf22bb4d",
   "metadata": {},
   "outputs": [
    {
     "name": "stdout",
     "output_type": "stream",
     "text": [
      "\"Hello this is test file\"\n"
     ]
    },
    {
     "data": {
      "image/png": "[encoded data removed]",
      "text/plain": [
       "<IPython.core.display.Image object>"
      ]
     },
     "metadata": {},
     "output_type": "display_data"
    }
   ],
   "source": [
    "'''Ans 4:- In Python 3.x, text-mode and binary-mode files differ primarily in how they\n",
    "handle data and newline characters. Here are the key differences:-\n",
    "\n",
    "1. Text-Mode Files ('t'):\n",
    "Handle data as strings and automatically handle newline conversions (\\n to OS-specific newline).\n",
    "Suitable for working with text files like .txt, where newline character handling matters.\n",
    "\n",
    "2. Binary-Mode Files ('b'): Handle data as bytes without any newline conversions.\n",
    "Used for binary data like images, audio files, or non-textual data.\n",
    "\n",
    "Using the appropriate mode is crucial. Mixing text and binary modes can lead\n",
    "to encoding issues or unexpected behavior. Always choose the mode that matches\n",
    "the data you're working with to ensure correct reading and writing operations.'''\n",
    "\n",
    "from IPython.display import display\n",
    "\n",
    "with open('example.txt', 'rt') as f:\n",
    "    content = f.read()\n",
    "    print(content)\n",
    "\n",
    "with open('logo.png', 'rb') as f:\n",
    "    content = f.read()\n",
    "    display(Image(content))"
   ]
  },
  {
   "cell_type": "code",
   "execution_count": 38,
   "id": "9f900f5b",
   "metadata": {},
   "outputs": [
    {
     "name": "stdout",
     "output_type": "stream",
     "text": [
      "Hello, 你好, नमस्ते\n"
     ]
    }
   ],
   "source": [
    "'''Ans 5:- To interpret a Unicode text file encoded in a different encoding than our\n",
    "platform's default, we can use the encoding parameter when opening the file using the\n",
    "open function. Specify the encoding used in the file to correctly decode its\n",
    "content.\n",
    "\n",
    "In this example, the encoding parameter is set to 'utf-16' to correctly decode\n",
    "the content. If we don't specify the correct encoding, we might encounter decoding\n",
    "errors or get incorrect results. Always ensure that we know the correct encoding used\n",
    "in the file to accurately interpret its content.'''\n",
    "\n",
    "content = \"Hello, 你好, नमस्ते\"\n",
    "\n",
    "# Create a UTF-16 encoded file\n",
    "with open('utf16_file.txt', 'w', encoding='utf-16') as f:\n",
    "    f.write(content)\n",
    "\n",
    "\n",
    "with open('utf16_file.txt', 'r', encoding='utf-16') as f:\n",
    "    content = f.read()\n",
    "    print(content)"
   ]
  },
  {
   "cell_type": "code",
   "execution_count": 43,
   "id": "d6c2ce6d",
   "metadata": {},
   "outputs": [
    {
     "name": "stdout",
     "output_type": "stream",
     "text": [
      "मुझे पाइथॉन बहुत पसंद है, मैं पाइथॉन के साथ कई ऐप्स बना सकता हूं\n"
     ]
    }
   ],
   "source": [
    "'''Ans 6:- The best way to create a Unicode text file in a particular encoding format is\n",
    "to use the open function with the desired encoding parameter when writing the\n",
    "content. This ensures that the content is correctly encoded as per our requirement. \n",
    "\n",
    "In this example, the open function is used with the 'w' mode for writing and\n",
    "'utf-32' encoding to ensure the content is written in UTF-32 format. This method\n",
    "guarantees that the file is created in the specified encoding format.'''\n",
    "\n",
    "content = \"मुझे पाइथॉन बहुत पसंद है, मैं पाइथॉन के साथ कई ऐप्स बना सकता हूं\"\n",
    "\n",
    "# Create a UTF-32 encoded file\n",
    "with open('utf32_file.txt', 'w', encoding='utf-32') as f:\n",
    "    f.write(content)\n",
    "    \n",
    "# Reading a UTF-32 encoded file\n",
    "with open('utf32_file.txt', 'r', encoding='utf-32') as f:\n",
    "    read_content = f.read()\n",
    "    print(read_content)"
   ]
  },
  {
   "cell_type": "code",
   "execution_count": 46,
   "id": "738d7a9a",
   "metadata": {},
   "outputs": [
    {
     "name": "stdout",
     "output_type": "stream",
     "text": [
      "b'Hello, World!'\n",
      "b'\\xe0\\xa4\\xa8\\xe0\\xa4\\xae\\xe0\\xa4\\xb8\\xe0\\xa5\\x8d\\xe0\\xa4\\xa4\\xe0\\xa5\\x87'\n"
     ]
    }
   ],
   "source": [
    "'''Ans 7:- ASCII text is a subset of Unicode text. ASCII (American Standard Code for\n",
    "Information Interchange) is a character encoding that represents English characters using\n",
    "7 or 8 bits. Since ASCII uses a smaller subset of Unicode characters, ASCII text\n",
    "is inherently a form of Unicode text because Unicode encompasses a broader range\n",
    "of characters, including those from various languages and symbols.\n",
    "\n",
    "In the example, both ascii_text and unicode_text are encoded using UTF-8,\n",
    "which is a Unicode encoding. ASCII characters are a subset of UTF-8 characters,\n",
    "demonstrating how ASCII text fits within the broader Unicode standard.'''\n",
    "\n",
    "ascii_text = \"Hello, World!\"  # ASCII characters only\n",
    "unicode_text = \"नमस्ते\"  # Contains non-ASCII Unicode characters\n",
    "\n",
    "print(ascii_text.encode('utf-8'))\n",
    "print(unicode_text.encode('utf-8'))"
   ]
  },
  {
   "cell_type": "code",
   "execution_count": 48,
   "id": "ee187959",
   "metadata": {},
   "outputs": [
    {
     "name": "stdout",
     "output_type": "stream",
     "text": [
      "Hello, World!\n"
     ]
    }
   ],
   "source": [
    "'''Ans 8:- The change in string types in Python 3.x has a significant impact on code that\n",
    "involves text handling and encoding. Python 3.x introduced Unicode strings (str type)\n",
    "as the default, promoting better internationalization and text representation.\n",
    "This change affects:-\n",
    "\n",
    "1. Encoding/Decoding: In Python 2, implicit ASCII encoding/decoding could cause\n",
    "errors. Python 3 enforces explicit encoding/decoding to handle Unicode and non-ASCII\n",
    "characters.\n",
    "\n",
    "2. Print Statements: In Python 2, print was a statement; in Python 3, it's a\n",
    "function. Code with print statements needs to be updated.\n",
    "\n",
    "Unicode Handling: Python 3 handles Unicode natively, but Python 2 needed u''\n",
    "to denote Unicode strings. While these changes may require updates, they lead to\n",
    "better text handling, multi-language support, and improved consistency across\n",
    "platforms.'''\n",
    "\n",
    "# Python 2\n",
    "# print \"Hello, World!\"\n",
    "\n",
    "# Python 3\n",
    "print(\"Hello, World!\")"
   ]
  }
 ],
 "metadata": {
  "kernelspec": {
   "display_name": "Python 3 (ipykernel)",
   "language": "python",
   "name": "python3"
  },
  "language_info": {
   "codemirror_mode": {
    "name": "ipython",
    "version": 3
   },
   "file_extension": ".py",
   "mimetype": "text/x-python",
   "name": "python",
   "nbconvert_exporter": "python",
   "pygments_lexer": "ipython3",
   "version": "3.10.9"
  }
 },
 "nbformat": 4,
 "nbformat_minor": 5
}
