{
 "cells": [
  {
   "cell_type": "markdown",
   "id": "24d47fbc",
   "metadata": {},
   "source": [
    "## Python_Advanced_Assignment_8\n",
    "1. What are the two latest user-defined exception constraints in Python 3.X?\n",
    "2. How are class-based exceptions that have been raised matched to handlers?\n",
    "3. Describe two methods for attaching context information to exception artefacts.\n",
    "4. Describe two methods for specifying the text of an exception object's error message.\n",
    "5. Why do you no longer use string-based exceptions?"
   ]
  },
  {
   "cell_type": "code",
   "execution_count": 4,
   "id": "4f6117a5",
   "metadata": {},
   "outputs": [
    {
     "name": "stdout",
     "output_type": "stream",
     "text": [
      "MyException: This is an exception\n",
      "None\n"
     ]
    }
   ],
   "source": [
    "'''Ans 1:- The latest user-defined exception constraints were introduced in Python 3.8,\n",
    "which added the following two constraints:-\n",
    "\n",
    "1. tb_next : This is a reference to the next exception in the stack trace. \n",
    "2. context : This is a dictionary that contains contextual information about the\n",
    "exception, such as the filename and line number where the exception occurred.\n",
    "\n",
    "These constraints can be used by user-defined exceptions to provide more\n",
    "information about the exception to the caller.'''\n",
    "\n",
    "class MyException(Exception):\n",
    "    def __init__(self, message, tb_next=None):\n",
    "        super().__init__(message)\n",
    "        self.tb_next = tb_next\n",
    "\n",
    "    def __str__(self):\n",
    "        return f\"MyException: {self.args[0]}\"\n",
    "\n",
    "try:\n",
    "    raise MyException(\"This is an exception\", sys.exc_info()[2])\n",
    "except MyException as e:\n",
    "    print(e)\n",
    "    print(e.tb_next)"
   ]
  },
  {
   "cell_type": "code",
   "execution_count": 2,
   "id": "a2bc013f",
   "metadata": {},
   "outputs": [
    {
     "name": "stdout",
     "output_type": "stream",
     "text": [
      "{'filename': 'my_file.py', 'line_number': 100}\n"
     ]
    }
   ],
   "source": [
    "class MyException(Exception):\n",
    "    def __init__(self, message, context):\n",
    "        super().__init__(message)\n",
    "        self.context = context\n",
    "\n",
    "try:\n",
    "    raise MyException(\"This is an exception\", {\"filename\": \"my_file.py\", \"line_number\": 100})\n",
    "except MyException as e:\n",
    "    print(e.context)"
   ]
  },
  {
   "cell_type": "code",
   "execution_count": 5,
   "id": "3b1c6460",
   "metadata": {},
   "outputs": [
    {
     "name": "stdout",
     "output_type": "stream",
     "text": [
      "CustomError handled\n"
     ]
    }
   ],
   "source": [
    "'''Ans 2:- When class-based exceptions are raised in Python, they are matched to\n",
    "exception handlers using the inheritance hierarchy. The interpreter traverses the\n",
    "exception's base classes to find the first handler that matches the exception type. \n",
    "Python searches for handlers in the order they are defined in the code. If the\n",
    "exception class doesn't have a specific handler, the interpreter checks its parent\n",
    "classes. If no matching handler is found, the exception is propagated up the call\n",
    "stack, looking for enclosing try blocks or, ultimately, causing the program to\n",
    "terminate if unhandled.\n",
    "\n",
    "In this case, since CustomError inherits from Exception, the first except\n",
    "block handles it. The order of exception handlers is crucial to ensure correct\n",
    "handling based on the exception hierarchy.'''\n",
    "\n",
    "class CustomError(Exception):\n",
    "    pass\n",
    "\n",
    "try:\n",
    "    raise CustomError(\"An error occurred\")\n",
    "except CustomError:\n",
    "    print(\"CustomError handled\")\n",
    "except Exception:\n",
    "    print(\"Other exceptions handled\")"
   ]
  },
  {
   "cell_type": "code",
   "execution_count": 8,
   "id": "ec2b1b24",
   "metadata": {},
   "outputs": [],
   "source": [
    "'''Ans 3:- Attaching context information to exception artifacts in Python can enhance\n",
    "error understanding. Two methods for this are:-\n",
    "\n",
    "1. Using __cause__ and __context__: Exceptions can be linked to other exceptions\n",
    "using __cause__ and __context__ attributes, forming an exception chain. This\n",
    "provides a clear lineage of exceptions and their relationships.\n",
    "\n",
    "2. Custom Exception Subclasses: Creating custom exception subclasses with\n",
    "additional context attributes can provide more information about errors. These subclasses\n",
    "encapsulate specific error scenarios and can include relevant data.\n",
    "\n",
    "Both methods help communicate additional information along with exceptions,\n",
    "aiding in debugging and error resolution.'''\n",
    "\n",
    "try:\n",
    "    ...\n",
    "except FileNotFoundError as e:\n",
    "    raise RuntimeError(\"File processing failed\") from e\n",
    "\n",
    "\n",
    "class NetworkError(Exception):\n",
    "    def __init__(self, message, code):\n",
    "        super().__init__(message)\n",
    "        self.code = code\n",
    "\n",
    "try:\n",
    "    ...\n",
    "except ConnectionError:\n",
    "    raise NetworkError(\"Connection failed\", 404)"
   ]
  },
  {
   "cell_type": "code",
   "execution_count": 10,
   "id": "614a041f",
   "metadata": {},
   "outputs": [
    {
     "ename": "CustomError",
     "evalue": "This is a custom error message",
     "output_type": "error",
     "traceback": [
      "\u001b[1;31m---------------------------------------------------------------------------\u001b[0m",
      "\u001b[1;31mCustomError\u001b[0m                               Traceback (most recent call last)",
      "Cell \u001b[1;32mIn[10], line 18\u001b[0m\n\u001b[0;32m     15\u001b[0m     \u001b[38;5;28;01mdef\u001b[39;00m \u001b[38;5;21m__init__\u001b[39m(\u001b[38;5;28mself\u001b[39m, message):\n\u001b[0;32m     16\u001b[0m         \u001b[38;5;28msuper\u001b[39m()\u001b[38;5;241m.\u001b[39m\u001b[38;5;21m__init__\u001b[39m(message)\n\u001b[1;32m---> 18\u001b[0m \u001b[38;5;28;01mraise\u001b[39;00m CustomError(\u001b[38;5;124m\"\u001b[39m\u001b[38;5;124mThis is a custom error message\u001b[39m\u001b[38;5;124m\"\u001b[39m)\n",
      "\u001b[1;31mCustomError\u001b[0m: This is a custom error message"
     ]
    }
   ],
   "source": [
    "'''Ans 4:- Two methods for specifying the text of an exception object's error message in\n",
    "Python are:-\n",
    "\n",
    "1. Using __init__ Constructor: we can pass an error message string to the base\n",
    "class's __init__ constructor when defining a custom exception class.\n",
    "\n",
    "2. Using args Tuple: we can set the args attribute of the exception object with\n",
    "a tuple containing the error message and additional details.\n",
    "\n",
    "Both methods allow you to provide informative error messages that aid in\n",
    "identifying and understanding the cause of exceptions.'''\n",
    "\n",
    "# init\n",
    "class CustomError(Exception):\n",
    "    def __init__(self, message):\n",
    "        super().__init__(message)\n",
    "\n",
    "raise CustomError(\"This is a custom error message\")"
   ]
  },
  {
   "cell_type": "code",
   "execution_count": 11,
   "id": "0819f8c8",
   "metadata": {},
   "outputs": [
    {
     "name": "stdout",
     "output_type": "stream",
     "text": [
      "('Another error occurred', 42)\n"
     ]
    }
   ],
   "source": [
    "# args\n",
    "class AnotherError(Exception):\n",
    "    pass\n",
    "\n",
    "try:\n",
    "    raise AnotherError(\"Another error occurred\", 42)\n",
    "except AnotherError as e:\n",
    "    print(e.args)"
   ]
  },
  {
   "cell_type": "code",
   "execution_count": 16,
   "id": "f562d4d2",
   "metadata": {},
   "outputs": [],
   "source": [
    "'''Ans 5:- In Python, string-based exceptions (where the exception message is passed as a\n",
    "string) have been discouraged in favor of using class-based exceptions. Class-based\n",
    "exceptions offer numerous advantages, including better organization, traceability, and\n",
    "extensibility.\n",
    "\n",
    "1. Clarity: Class-based exceptions allow clear categorization and hierarchy.\n",
    "Developers can create custom exception classes with specific behaviors, context\n",
    "attributes, and error messages, enhancing code readability.\n",
    "\n",
    "2. Traceability: Class-based exceptions provide better traceback information,\n",
    "aiding in identifying the source of errors and promoting more effective debugging.\n",
    "\n",
    "3. Extensibility: Custom exception classes can encapsulate additional data and\n",
    "behaviors. They enable developers to define precise handling mechanisms, improving error\n",
    "recovery.\n",
    "\n",
    "Class-based exceptions promote robust error handling and better\n",
    "maintainability compared to string-based exceptions.'''\n",
    "\n",
    "# String-based exception (discouraged)\n",
    "try:\n",
    "    ...\n",
    "except Exception as e:\n",
    "    raise \"An error occurred: \" + str(e)"
   ]
  },
  {
   "cell_type": "code",
   "execution_count": 15,
   "id": "32b20c78",
   "metadata": {},
   "outputs": [],
   "source": [
    "'''The raise statement with a string concatenation should not be used for raising\n",
    "exceptions. The correct way to raise exceptions is by using class-based exceptions, as\n",
    "shown in the example:-'''\n",
    "\n",
    "class CustomError(Exception):\n",
    "    pass\n",
    "\n",
    "try:\n",
    "    ...\n",
    "except Exception as e:\n",
    "    raise CustomError(\"An error occurred\") from e"
   ]
  }
 ],
 "metadata": {
  "kernelspec": {
   "display_name": "Python 3 (ipykernel)",
   "language": "python",
   "name": "python3"
  },
  "language_info": {
   "codemirror_mode": {
    "name": "ipython",
    "version": 3
   },
   "file_extension": ".py",
   "mimetype": "text/x-python",
   "name": "python",
   "nbconvert_exporter": "python",
   "pygments_lexer": "ipython3",
   "version": "3.10.9"
  }
 },
 "nbformat": 4,
 "nbformat_minor": 5
}
