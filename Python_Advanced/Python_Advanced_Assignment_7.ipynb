{
 "cells": [
  {
   "cell_type": "markdown",
   "id": "668c90c9",
   "metadata": {},
   "source": [
    "## Python_Advanced_Assignment_7\n",
    "1. What is the purpose of the try statement?\n",
    "2. What are the two most popular try statement variations?\n",
    "3. What is the purpose of the raise statement?\n",
    "4. What does the assert statement do, and what other statement is it like?\n",
    "5. What is the purpose of the with/as argument, and what other statement is it like?"
   ]
  },
  {
   "cell_type": "code",
   "execution_count": 11,
   "id": "f74b2e57",
   "metadata": {},
   "outputs": [
    {
     "name": "stdout",
     "output_type": "stream",
     "text": [
      "Enter a number: 5\n",
      "The result is: 2.0\n"
     ]
    }
   ],
   "source": [
    "'''Ans 1:- The try statement in Python is used for exception handling, allowing us to\n",
    "manage and control the flow of our code when errors or exceptions occur during its\n",
    "execution. It's a fundamental tool for writing robust and fault-tolerant programs.\n",
    "\n",
    "When we enclose a block of code within a try statement, Python will attempt to\n",
    "execute that code. If an exception occurs within the try block, the program won't\n",
    "abruptly crash. Instead, it will jump to the corresponding except block where we can\n",
    "handle the exception gracefully. This helps us provide informative error messages to\n",
    "users and take appropriate actions without disrupting the entire program. \n",
    "\n",
    "In this example, the try block takes user input, attempts division, and\n",
    "handles potential exceptions. If a zero division or value conversion error occurs, the\n",
    "corresponding except block is executed. If no exception occurs, the else block runs,\n",
    "displaying the result.'''\n",
    "\n",
    "try:\n",
    "    num = int(input(\"Enter a number: \"))\n",
    "    result = 10 / num\n",
    "except ZeroDivisionError:\n",
    "    print(\"You can't divide by zero!\")\n",
    "except ValueError:\n",
    "    print(\"Invalid input. Please enter a valid number.\")\n",
    "else:\n",
    "    print(\"The result is:\", result)\n",
    "\n",
    "#output\n",
    "#Enter a number: 0\n",
    "#You can't divide by zero!\n",
    "\n",
    "#Enter a number: sd7\n",
    "#Invalid input. Please enter a valid number."
   ]
  },
  {
   "cell_type": "code",
   "execution_count": 18,
   "id": "3e6d9f39",
   "metadata": {},
   "outputs": [
    {
     "name": "stdout",
     "output_type": "stream",
     "text": [
      "You can't divide by zero!\n",
      "File not found!\n"
     ]
    }
   ],
   "source": [
    "'''Ans 2:- The two most popular variations of the try statement are the except clause and\n",
    "the finally clause.\n",
    "\n",
    "1. except clause: This variation is used to catch specific exceptions that might\n",
    "occur within the try block. we can have multiple except clauses to handle different\n",
    "types of exceptions separately. This allows us to provide customized error handling\n",
    "for various scenarios.\n",
    "\n",
    "2. finally clause: This variation is used to define a block of code that will\n",
    "always be executed, regardless of whether an exception was raised or not. It's\n",
    "commonly used for cleanup operations, like closing files or releasing resources, to\n",
    "ensure that essential tasks are performed regardless of errors.\n",
    "\n",
    "By combining these variations, we can create robust error-handling mechanisms\n",
    "in our Python code.'''\n",
    "\n",
    "# except clause\n",
    "try:\n",
    "    result = 10 / 0\n",
    "except ZeroDivisionError:\n",
    "    print(\"You can't divide by zero!\")\n",
    "except Exception as e:\n",
    "    print(\"An error occurred:\", e)\n",
    "    \n",
    "# finally clause\n",
    "try:\n",
    "    file = open(\"example.txt\", \"r\")\n",
    "    data = file.read()\n",
    "except FileNotFoundError:\n",
    "    print(\"File not found!\")\n",
    "finally:\n",
    "    if 'file' in locals():\n",
    "        file.close()"
   ]
  },
  {
   "cell_type": "code",
   "execution_count": 28,
   "id": "f4891a15",
   "metadata": {},
   "outputs": [
    {
     "name": "stdout",
     "output_type": "stream",
     "text": [
      "Error: Invalid discount percentage\n"
     ]
    }
   ],
   "source": [
    "'''Ans 3:- The raise statement in Python is used to intentionally raise exceptions in our\n",
    "code. This allows us  to create and propagate custom exceptions when specific\n",
    "conditions are met. It's a way to signal that an exceptional situation has occurred that\n",
    "our code should handle.  The raise statement is particularly useful when you want\n",
    "to indicate errors or issues that might not be caught by standard Python\n",
    "exceptions. By raising custom exceptions, we can provide more meaningful error messages\n",
    "and control the flow of your program based on specific situations. \n",
    "\n",
    "In this example, the calculate_discount function raises a ValueError when an\n",
    "invalid discount percentage is provided. The try block catches this custom exception,\n",
    "allowing us to handle it gracefully and provide a clear error message.  The raise\n",
    "statement empowers us to create a more tailored and descriptive error-handling strategy,\n",
    "enhancing the overall robustness of our code.'''\n",
    "\n",
    "def calculate_discount(price, discount):\n",
    "    if discount < 0 or discount > 100:\n",
    "        raise ValueError(\"Invalid discount percentage\")\n",
    "    discounted_price = price - (price * discount / 100)\n",
    "    return discounted_price\n",
    "\n",
    "try:\n",
    "    final_price = calculate_discount(100, 101)\n",
    "except ValueError as e:\n",
    "    print(\"Error:\", e)\n",
    "else:\n",
    "    print(\"Final price:\", final_price)"
   ]
  },
  {
   "cell_type": "code",
   "execution_count": 35,
   "id": "8445a730",
   "metadata": {},
   "outputs": [
    {
     "ename": "AssertionError",
     "evalue": "Division by zero is not allowed",
     "output_type": "error",
     "traceback": [
      "\u001b[1;31m---------------------------------------------------------------------------\u001b[0m",
      "\u001b[1;31mAssertionError\u001b[0m                            Traceback (most recent call last)",
      "Cell \u001b[1;32mIn[35], line 26\u001b[0m\n\u001b[0;32m     23\u001b[0m     \u001b[38;5;28;01massert\u001b[39;00m b \u001b[38;5;241m!=\u001b[39m \u001b[38;5;241m0\u001b[39m, \u001b[38;5;124m\"\u001b[39m\u001b[38;5;124mDivision by zero is not allowed\u001b[39m\u001b[38;5;124m\"\u001b[39m\n\u001b[0;32m     24\u001b[0m     \u001b[38;5;28;01mreturn\u001b[39;00m a \u001b[38;5;241m/\u001b[39m b\n\u001b[1;32m---> 26\u001b[0m result \u001b[38;5;241m=\u001b[39m \u001b[43mdivide\u001b[49m\u001b[43m(\u001b[49m\u001b[38;5;241;43m10\u001b[39;49m\u001b[43m,\u001b[49m\u001b[43m \u001b[49m\u001b[38;5;241;43m0\u001b[39;49m\u001b[43m)\u001b[49m\n\u001b[0;32m     27\u001b[0m \u001b[38;5;28mprint\u001b[39m(result)\n",
      "Cell \u001b[1;32mIn[35], line 23\u001b[0m, in \u001b[0;36mdivide\u001b[1;34m(a, b)\u001b[0m\n\u001b[0;32m     22\u001b[0m \u001b[38;5;28;01mdef\u001b[39;00m \u001b[38;5;21mdivide\u001b[39m(a, b):\n\u001b[1;32m---> 23\u001b[0m     \u001b[38;5;28;01massert\u001b[39;00m b \u001b[38;5;241m!=\u001b[39m \u001b[38;5;241m0\u001b[39m, \u001b[38;5;124m\"\u001b[39m\u001b[38;5;124mDivision by zero is not allowed\u001b[39m\u001b[38;5;124m\"\u001b[39m\n\u001b[0;32m     24\u001b[0m     \u001b[38;5;28;01mreturn\u001b[39;00m a \u001b[38;5;241m/\u001b[39m b\n",
      "\u001b[1;31mAssertionError\u001b[0m: Division by zero is not allowed"
     ]
    }
   ],
   "source": [
    "'''Ans 4:- The assert statement in Python is used for debugging and testing purposes. It\n",
    "provides a way to check whether a given condition is True. If the condition is False,\n",
    "the assert statement raises an AssertionError exception, indicating that an\n",
    "unexpected condition has been encountered.  The primary purpose of assert is to catch\n",
    "programming errors early in development, ensuring that assumptions about the state of the\n",
    "program hold true. It's often used to validate inputs, outputs, or internal states\n",
    "during debugging and testing phases.\n",
    "\n",
    "In this example, the assert statement checks if the denominator b is not zero\n",
    "before performing division. Since the condition is violated, an AssertionError is\n",
    "raised with the specified error message.  The assert statement is similar to the if\n",
    "statement in that both are used to check conditions and perform actions based on them.\n",
    "However, there's a key distinction: assert is primarily used for debugging and testing\n",
    "purposes and is typically disabled in production code, while the if statement is a\n",
    "fundamental control structure used for general program flow control.  In summary, the\n",
    "assert statement is used for debugging and testing by validating conditions, and it's\n",
    "not meant for handling errors during regular program execution.\n",
    "\n",
    "Here are some other statements that are similar to the assert statement:-  \n",
    "The if statement The try/except statement The try/finally statement.'''\n",
    "\n",
    "def divide(a, b):\n",
    "    assert b != 0, \"Division by zero is not allowed\"\n",
    "    return a / b\n",
    "\n",
    "result = divide(10, 0)\n",
    "print(result)"
   ]
  },
  {
   "cell_type": "code",
   "execution_count": 32,
   "id": "72e3f0d6",
   "metadata": {},
   "outputs": [],
   "source": [
    "'''Ans 5:- The with statement in Python is used in conjunction with context managers to\n",
    "simplify the management of resources, such as files, network connections, or database\n",
    "connections. The with statement ensures that the resources are properly acquired and\n",
    "released, even if exceptions are raised within the block.\n",
    "\n",
    "The as keyword in the with statement is used to assign the result of the\n",
    "context manager to a variable. This allows you to work with the managed resource using\n",
    "a more convenient reference while ensuring proper resource management.\n",
    "\n",
    "In this example, the open() function returns a file object that's used to read\n",
    "data from the file. The with statement, combined with the as keyword, ensures that\n",
    "the file is properly closed after the block is executed, regardless of whether an\n",
    "exception is raised.\n",
    "\n",
    "The with statement is similar to the try/finally statement, where the finally\n",
    "block is used for cleanup operations, like closing a resource. However, the with\n",
    "statement offers a more concise and readable way to manage resources, especially when\n",
    "multiple resources need to be managed simultaneously.'''\n",
    "\n",
    "with open(\"example.txt\", \"r\") as file:\n",
    "    data = file.read()\n",
    "# The 'file' resource is automatically closed after this block\n",
    "\n",
    "#using try/finally\n",
    "file = open(\"example.txt\", \"r\")\n",
    "try:\n",
    "    data = file.read()\n",
    "finally:\n",
    "    file.close()"
   ]
  }
 ],
 "metadata": {
  "kernelspec": {
   "display_name": "Python 3 (ipykernel)",
   "language": "python",
   "name": "python3"
  },
  "language_info": {
   "codemirror_mode": {
    "name": "ipython",
    "version": 3
   },
   "file_extension": ".py",
   "mimetype": "text/x-python",
   "name": "python",
   "nbconvert_exporter": "python",
   "pygments_lexer": "ipython3",
   "version": "3.10.9"
  }
 },
 "nbformat": 4,
 "nbformat_minor": 5
}
