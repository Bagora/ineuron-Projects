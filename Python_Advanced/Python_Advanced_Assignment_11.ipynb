{
 "cells": [
  {
   "cell_type": "markdown",
   "id": "d487fc5e",
   "metadata": {},
   "source": [
    "## Python_Advanced_Assignment_11\n",
    "1. What is the concept of a metaclass?\n",
    "2. What is the best way to declare a class's metaclass?\n",
    "3. How do class decorators overlap with metaclasses for handling classes?\n",
    "4. How do class decorators overlap with metaclasses for handling instances?"
   ]
  },
  {
   "cell_type": "code",
   "execution_count": 1,
   "id": "1c52bacb",
   "metadata": {},
   "outputs": [
    {
     "name": "stdout",
     "output_type": "stream",
     "text": [
      "10\n"
     ]
    }
   ],
   "source": [
    "'''Ans 1:- A metaclass is a class that defines the behavior and structure of other\n",
    "classes, which are its instances. It's often referred to as the \"class of a class.\"\n",
    "Metaclasses enable you to control the creation, attributes, and methods of classes. They\n",
    "provide a way to customize class creation and can be used for advanced features like\n",
    "enforcing coding standards, adding class-level methods, and more.\n",
    "\n",
    "In this example, MyMeta is a metaclass that modifies attributes of classes\n",
    "created using it. MyClass uses MyMeta as its metaclass, adding the attribute x with a\n",
    "value of 10.'''\n",
    "\n",
    "class MyMeta(type):\n",
    "    def __new__(cls, name, bases, attrs):\n",
    "        attrs['x'] = 10\n",
    "        return super().__new__(cls, name, bases, attrs)\n",
    "\n",
    "class MyClass(metaclass=MyMeta):\n",
    "    pass\n",
    "\n",
    "print(MyClass.x)"
   ]
  },
  {
   "cell_type": "code",
   "execution_count": 5,
   "id": "f252ca77",
   "metadata": {},
   "outputs": [],
   "source": [
    "'''Ans 2:- The best way to declare a class's metaclass in Python is by explicitly setting\n",
    "the metaclass attribute in the class definition. This is done by passing the\n",
    "metaclass as the second argument when defining the class. You can achieve this by\n",
    "creating a custom metaclass or using an existing one.\n",
    "\n",
    "In this example, MyMeta is a custom metaclass, and MyClass is declared to use\n",
    "MyMeta as its metaclass.  Remember that metaclasses can be powerful but also complex.\n",
    "It's essential to understand their purpose and use cases before implementing them.\n",
    "In most cases, using the default metaclass (type) is sufficient, and custom\n",
    "metaclasses are used for advanced scenarios where you need to modify class behavior during\n",
    "creation.'''\n",
    "\n",
    "class MyMeta(type):\n",
    "    pass\n",
    "\n",
    "class MyClass(metaclass=MyMeta):\n",
    "    pass"
   ]
  },
  {
   "cell_type": "code",
   "execution_count": 6,
   "id": "01a00e4e",
   "metadata": {},
   "outputs": [
    {
     "name": "stdout",
     "output_type": "stream",
     "text": [
      "42\n",
      "42\n"
     ]
    }
   ],
   "source": [
    "'''Ans 3:- Class decorators and metaclasses are both advanced techniques used to\n",
    "customize and modify classes in Python. While they serve similar purposes, they have\n",
    "distinct differences in how they achieve class modification.\n",
    "\n",
    "Class Decorators:- Class decorators are functions that are applied to classes\n",
    "using the @decorator syntax before the class definition. They work at the class\n",
    "level and can modify class attributes, methods, or add new methods. They are\n",
    "flexible and can be applied to individual classes without affecting the entire\n",
    "inheritance hierarchy.\n",
    "\n",
    "Metaclasses:- Metaclasses are classes themselves and control the creation and\n",
    "behavior of other classes. They affect the entire inheritance hierarchy of classes\n",
    "using that metaclass. They can enforce coding standards, add methods, and more\n",
    "during class creation.\n",
    "\n",
    "In summary, both class decorators and metaclasses offer ways to customize\n",
    "class creation and behavior. Class decorators provide a simpler and more localized\n",
    "way to modify individual classes, while metaclasses provide more extensive control\n",
    "over class hierarchy and creation, often affecting multiple classes at once. The\n",
    "choice between them depends on the level of customization required and the scope of\n",
    "the changes you want to make to classes.'''\n",
    "\n",
    "# Decorators\n",
    "def my_decorator(cls):\n",
    "    cls.new_attr = 42\n",
    "    return cls\n",
    "\n",
    "@my_decorator\n",
    "class MyClass:\n",
    "    pass\n",
    "\n",
    "print(MyClass.new_attr)\n",
    "\n",
    "# Metaclasses\n",
    "class MyMeta(type):\n",
    "    def __new__(cls, name, bases, attrs):\n",
    "        attrs['new_attr'] = 42\n",
    "        return super().__new__(cls, name, bases, attrs)\n",
    "\n",
    "class MyClass(metaclass=MyMeta):\n",
    "    pass\n",
    "\n",
    "print(MyClass.new_attr)"
   ]
  },
  {
   "cell_type": "code",
   "execution_count": 16,
   "id": "23190e7c",
   "metadata": {},
   "outputs": [
    {
     "name": "stdout",
     "output_type": "stream",
     "text": [
      "\n"
     ]
    }
   ],
   "source": [
    "'''Ans 4:- Class decorators and metaclasses overlap to some extent when it comes to\n",
    "handling instances, but they primarily address different aspects of instance behavior.\n",
    "\n",
    "Class Decorators:- Class decorators are applied to classes, not instances.\n",
    "They modify class-level attributes and methods. They can indirectly affect instance\n",
    "behavior by altering class attributes/methods that instances inherit. \n",
    "\n",
    "Metaclasses:- Metaclasses can affect instance behavior through their control\n",
    "over class creation. They can add methods or attributes to instances by modifying\n",
    "the class's __init__ or other methods. \n",
    "\n",
    "In summary, while class decorators and metaclasses can both influence instance\n",
    "behavior, class decorators are more focused on altering class-level attributes/methods\n",
    "that instances inherit, while metaclasses can directly impact instance creation and\n",
    "methods through their control over the class's construction. The choice between them\n",
    "depends on the specific modifications we want to make at the class and instance\n",
    "levels.'''"
   ]
  }
 ],
 "metadata": {
  "kernelspec": {
   "display_name": "Python 3 (ipykernel)",
   "language": "python",
   "name": "python3"
  },
  "language_info": {
   "codemirror_mode": {
    "name": "ipython",
    "version": 3
   },
   "file_extension": ".py",
   "mimetype": "text/x-python",
   "name": "python",
   "nbconvert_exporter": "python",
   "pygments_lexer": "ipython3",
   "version": "3.10.9"
  }
 },
 "nbformat": 4,
 "nbformat_minor": 5
}
