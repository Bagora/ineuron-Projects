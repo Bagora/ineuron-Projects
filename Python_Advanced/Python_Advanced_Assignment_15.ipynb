{
 "cells": [
  {
   "cell_type": "markdown",
   "id": "37c56f68",
   "metadata": {},
   "source": [
    "## Python_Advanced_Assignment_15\n",
    "1. What are the new features added in Python 3.8 version?\n",
    "2. What is monkey patching in Python?\n",
    "3. What is the difference between a shallow copy and deep copy?\n",
    "4. What is the maximum possible length of an identifier?\n",
    "5. What is generator comprehension?"
   ]
  },
  {
   "cell_type": "code",
   "execution_count": null,
   "id": "91e1c871",
   "metadata": {},
   "outputs": [],
   "source": [
    "'''Ans 1:- Python 3.8 introduced several new features and improvements. Some of the\n",
    "notable ones include:-\n",
    "\n",
    "1. Assignment Expressions (The Walrus Operator :=): Allows assignment within\n",
    "expressions. This helps in reducing code repetition and improving readability.\n",
    "\n",
    "2. Positional-only Parameters: Functions can now specify parameters as\n",
    "positional-only, ensuring that they can only be passed using positional arguments.\n",
    "\n",
    "3. f-strings Improvements: Allows the use of = to display expressions and their\n",
    "values in formatted strings.\n",
    "\n",
    "4. future Annotations: The __future__ module introduces forward compatibility for\n",
    "proposed changes. For example, annotations was introduced to standardize function and\n",
    "variable annotations.\n",
    "\n",
    "5. TypedDict: A dictionary with a fixed set of keys, each associated with a\n",
    "specific type.\n",
    "\n",
    "6. New Syntax Warnings: Warnings for suspicious syntax, like using != for object\n",
    "identity instead of is.\n",
    "\n",
    "7. New Syntax Features: Features like the match statement and positional-only\n",
    "parameters enhance the language's expressiveness.\n",
    "\n",
    "8. Performance Improvements: Various performance enhancements were made across\n",
    "the standard library and CPython implementation.\n",
    "\n",
    "9. Deprecations and Removals: Several outdated or redundant features and modules\n",
    "were deprecated or removed.\n",
    "\n",
    "10. Other Improvements: Changes in built-in libraries, enhancements to existing\n",
    "modules, and more.\n",
    "\n",
    "There were also a number of other changes in Python 3.8, such as:-\n",
    "Improved support for typing \n",
    "New and improved math and statistics functions \n",
    "Warnings about dangerous syntax \n",
    "Optimizations  \n",
    "and many more also we have a python docs page for reference.'''"
   ]
  },
  {
   "cell_type": "code",
   "execution_count": null,
   "id": "99c0d410",
   "metadata": {},
   "outputs": [],
   "source": [
    "'''Ans 2:- Monkey patching in Python refers to the practice of dynamically modifying or\n",
    "extending the behavior of existing modules, classes, or functions at runtime. It\n",
    "involves adding, modifying, or overriding code in existing objects without altering\n",
    "their original source code. Monkey patching is typically done to address bugs, add\n",
    "features, or change behavior without waiting for an official update or release.\n",
    "\n",
    "However, while monkey patching can provide quick fixes or temporary solutions,\n",
    "it has potential drawbacks and should be used with caution:-\n",
    "\n",
    "1. Maintenance Challenges: Monkey patches can lead to confusion and maintenance\n",
    "issues, as they can make code harder to understand and debug.\n",
    "\n",
    "2. Compatibility: Changes made through monkey patching might not be compatible\n",
    "with future updates or different environments.\n",
    "\n",
    "3. Collisions: Multiple patches applied by different parts of the code can\n",
    "conflict with each other.\n",
    "\n",
    "4. Readability: Monkey patches can make code less readable and harder to follow,\n",
    "leading to difficulties in understanding its behavior.\n",
    "\n",
    "5. Testing: Monkey patches can complicate testing, as they might alter expected\n",
    "behavior and make test cases harder to manage.\n",
    "\n",
    "Despite its drawbacks, monkey patching can be useful in certain scenarios,\n",
    "such as applying fixes to third-party libraries without waiting for official\n",
    "updates or experimenting with new behavior. However, it's recommended to explore\n",
    "alternative solutions, like subclassing or using decorators, which can provide more\n",
    "structured and maintainable ways to extend or modify functionality.'''"
   ]
  },
  {
   "cell_type": "code",
   "execution_count": 10,
   "id": "d01b56cb",
   "metadata": {},
   "outputs": [
    {
     "name": "stdout",
     "output_type": "stream",
     "text": [
      "[1, 2, 3]\n",
      "[10, 2, 3]\n",
      "{'a': 1, 'b': 2}\n",
      "{'a': 10, 'b': 2}\n"
     ]
    }
   ],
   "source": [
    "'''Ans 3:- The difference between a shallow copy and a deep copy lies in how they\n",
    "duplicate objects containing nested objects (like lists or dictionaries) in Python:-\n",
    "\n",
    "1. Shallow Copy: A shallow copy creates a new object, but instead of duplicating\n",
    "all nested objects within, it copies references to those nested objects. In other\n",
    "words, the new object contains new references to the same nested objects as the\n",
    "original. Shallow copies are created using the copy() method or the copy.copy() function\n",
    "from the copy module.\n",
    "\n",
    "2. Deep Copy: A deep copy creates a new object and recursively duplicates all\n",
    "nested objects within the original object. In other words, both the top-level object\n",
    "and all its nested objects are duplicated entirely. Deep copies are created using\n",
    "the copy.deepcopy() function from the copy module.'''\n",
    "\n",
    "# Shallow copy\n",
    "list1 = [1, 2, 3]\n",
    "list2 = list1.copy()\n",
    "\n",
    "list2[0] = 10\n",
    "\n",
    "print(list1)\n",
    "print(list2)\n",
    "\n",
    "\n",
    "# Deep copy\n",
    "dict1 = {'a': 1, 'b': 2}\n",
    "dict2 = copy.deepcopy(dict1)\n",
    "\n",
    "dict2['a'] = 10\n",
    "\n",
    "print(dict1)\n",
    "print(dict2)"
   ]
  },
  {
   "cell_type": "code",
   "execution_count": null,
   "id": "82f6fb99",
   "metadata": {},
   "outputs": [],
   "source": [
    "'''Ans 4:- In Python, the maximum possible length of an identifier is not explicitly\n",
    "defined in terms of a fixed number of characters. However, practical considerations\n",
    "and limitations related to the implementation of Python and the readability of\n",
    "code come into play.  Python supports variable and function names of arbitrary\n",
    "lengths, but using extremely long identifiers can negatively impact code readability\n",
    "and maintainability. PEP 8, the official Python style guide, recommends limiting\n",
    "lines to 79 characters for optimal readability, which indirectly suggests keeping\n",
    "identifier lengths reasonable.  Additionally, some Python implementations might have\n",
    "internal limitations on identifier lengths due to memory constraints or other technical\n",
    "reasons.  In practice, it's a good idea to follow PEP 8 guidelines, maintain reasonable\n",
    "identifier lengths, and prioritize code clarity and maintainability over excessively long\n",
    "identifiers.'''"
   ]
  },
  {
   "cell_type": "code",
   "execution_count": 12,
   "id": "a6a4e44a",
   "metadata": {},
   "outputs": [
    {
     "name": "stdout",
     "output_type": "stream",
     "text": [
      "[0, 2, 4, 6, 8, 10, 12, 14, 16, 18]\n",
      "<generator object <genexpr> at 0x000001CADE584190>\n"
     ]
    }
   ],
   "source": [
    "'''Ans 5:- Generator comprehension is a concise and memory-efficient way to create\n",
    "generators in Python. Similar to list comprehensions, generator comprehensions allow us\n",
    "to create sequences by specifying an expression followed by an iteration over a\n",
    "sequence. However, unlike list comprehensions, generator comprehensions produce a\n",
    "generator object that generates values on-the-fly rather than creating a list in memory.\n",
    "\n",
    "In this example, list_numbers is a list comprehension that creates a list of\n",
    "doubled numbers, while generator_numbers is a generator comprehension that creates a\n",
    "generator of the same doubled numbers. The key difference is that the generator\n",
    "comprehension doesn't create the entire sequence in memory upfront; instead, it produces\n",
    "values lazily when requested, making it memory-efficient for large or infinite\n",
    "sequences.'''\n",
    "\n",
    "# List comprehension creating a list\n",
    "list_numbers = [x * 2 for x in range(10)]\n",
    "\n",
    "# Generator comprehension creating a generator\n",
    "generator_numbers = (x * 2 for x in range(10))\n",
    "\n",
    "print(list_numbers) \n",
    "print(generator_numbers)"
   ]
  }
 ],
 "metadata": {
  "kernelspec": {
   "display_name": "Python 3 (ipykernel)",
   "language": "python",
   "name": "python3"
  },
  "language_info": {
   "codemirror_mode": {
    "name": "ipython",
    "version": 3
   },
   "file_extension": ".py",
   "mimetype": "text/x-python",
   "name": "python",
   "nbconvert_exporter": "python",
   "pygments_lexer": "ipython3",
   "version": "3.10.9"
  }
 },
 "nbformat": 4,
 "nbformat_minor": 5
}
