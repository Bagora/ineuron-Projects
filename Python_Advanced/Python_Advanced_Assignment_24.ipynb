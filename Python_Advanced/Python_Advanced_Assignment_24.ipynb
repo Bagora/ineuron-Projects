{
 "cells": [
  {
   "cell_type": "markdown",
   "id": "c7393c2c",
   "metadata": {},
   "source": [
    "## Python_Advanced_Assignment_24\n",
    "1. Is it permissible to use several import statements to import the same module? What would the goal be? Can you think of a situation where it would be beneficial?\n",
    "2. What are some of a module's characteristics? (Name at least one.)\n",
    "3. Circular importing, such as when two modules import each other, can lead to dependencies and bugs that aren't visible. How can you go about creating a program that avoids mutual importing?\n",
    "4. Why is  _ _all_ _ in Python?\n",
    "5. In what situation is it useful to refer to the _ _name_ _ attribute or the string '_ _main_ _'?\n",
    "6. What are some of the benefits of attaching a program counter to the RPN interpreter application, which interprets an RPN script line by line?\n",
    "7. What are the minimum expressions or statements (or both) that you'd need to render a basic programming language like RPN primitive but complete— that is, capable of carrying out any computerised task theoretically possible?"
   ]
  },
  {
   "cell_type": "code",
   "execution_count": 5,
   "id": "80e81800",
   "metadata": {},
   "outputs": [
    {
     "name": "stdout",
     "output_type": "stream",
     "text": [
      "math:-4.0\n",
      "cmath:-4j\n"
     ]
    }
   ],
   "source": [
    "'''Ans 1:- Yes, it's permissible to use several import statements to\n",
    "import the same module in Python. The goal is to have multiple\n",
    "ways to access the module's contents, providing flexibility and\n",
    "avoiding naming conflicts. This is especially useful when working\n",
    "with large projects or collaborating with others, as different\n",
    "team members might prefer different import styles.\n",
    "\n",
    "For instance, consider a project using both the math and\n",
    "cmath modules. One developer might prefer using regular\n",
    "functions from math, while another might need complex number support\n",
    "from cmath. By importing both modules in separate statements,\n",
    "each developer can utilize the appropriate functions without\n",
    "affecting the other's code.\n",
    "\n",
    "Beneficial:-\n",
    "Using multiple import statements enhances readability,\n",
    "avoids naming conflicts, and allows for a more specialized use of\n",
    "module functions in diverse scenarios.'''\n",
    "\n",
    "import math  \n",
    "import cmath\n",
    "\n",
    "x = math.sqrt(16)\n",
    "y = cmath.sqrt(-16)\n",
    "\n",
    "print(f\"math:-{x}\\ncmath:-{y}\")"
   ]
  },
  {
   "cell_type": "code",
   "execution_count": null,
   "id": "9025e5c3",
   "metadata": {},
   "outputs": [],
   "source": [
    "'''Ans 2:- One characteristic of a module in programming is that it\n",
    "encapsulates reusable code, functions, classes, or variables, promoting\n",
    "modular and organized code structure. Modules help avoid code\n",
    "duplication and improve maintainability. For instance, the math module\n",
    "in Python provides a collection of mathematical functions,\n",
    "constants, and methods. By importing and utilizing the math module,\n",
    "developers can access and leverage its functionalities across\n",
    "different parts of their program without having to recreate the\n",
    "mathematical logic each time. This promotes efficient code development\n",
    "and management.'''"
   ]
  },
  {
   "cell_type": "code",
   "execution_count": 12,
   "id": "d8d3ee9b",
   "metadata": {},
   "outputs": [],
   "source": [
    "'''Ans 3:- To prevent circular importing and the associated issues,\n",
    "we can restructure our program by utilizing techniques such\n",
    "as breaking down dependencies, using abstract base classes,\n",
    "or employing third-party libraries. One common approach is to\n",
    "separate the commonly used functionality into a third module that\n",
    "both original modules depend on. This removes the direct\n",
    "circular dependency while still allowing access to shared\n",
    "functionality.\n",
    "\n",
    "For example, consider modules A.py and B.py that were\n",
    "mutually importing each other. Create a new module common.py\n",
    "containing the shared functionality and import it into both A.py and\n",
    "B.py.\n",
    "\n",
    "By centralizing shared functionality, you break the\n",
    "circular dependency, improve maintainability, and prevent hidden\n",
    "bugs caused by circular imports.'''\n",
    "\n",
    "import common\n",
    "# This will import all module from a.py and b.py"
   ]
  },
  {
   "cell_type": "code",
   "execution_count": 17,
   "id": "eb4e35c1",
   "metadata": {},
   "outputs": [],
   "source": [
    "'''Ans 4:- In Python, the phrase \"all\" holds special significance\n",
    "when used as a list within a module. It specifies the names\n",
    "that will be imported when using the from module import *\n",
    "statement. By defining _all_, you explicitly state which names should\n",
    "be considered part of the module's public interface,\n",
    "promoting controlled and organized imports. This prevents unintended\n",
    "name clashes and enhances code readability.'''"
   ]
  },
  {
   "cell_type": "code",
   "execution_count": 19,
   "id": "2ec2a8b2",
   "metadata": {},
   "outputs": [
    {
     "name": "stdout",
     "output_type": "stream",
     "text": [
      "This script is run directly\n"
     ]
    }
   ],
   "source": [
    "'''Ans 5:- Referring to the __name__ attribute or the string\n",
    "'__main__' is particularly useful when writing modular code that can\n",
    "be used both as a standalone script and as a module imported\n",
    "into other scripts. This approach allows us to differentiate\n",
    "between whether the code is being executed directly or imported as\n",
    "a module.\n",
    "\n",
    "For instance, consider a script app.py that defines\n",
    "functions. By using if __name__ == '__main__':, we can include a\n",
    "block of code that only runs when the script is executed\n",
    "directly. This enables us to provide test cases or demonstrations\n",
    "within the script itself.\n",
    "\n",
    "By using this technique, we can ensure that our script\n",
    "can both serve as a standalone program and as a reusable\n",
    "module, enhancing code reusability and maintainability.'''\n",
    "\n",
    "# app.py\n",
    "def some_function():\n",
    "    pass\n",
    "\n",
    "if __name__ == '__main__':\n",
    "    print(\"This script is run directly\")"
   ]
  },
  {
   "cell_type": "code",
   "execution_count": null,
   "id": "f2bde35f",
   "metadata": {},
   "outputs": [],
   "source": [
    "'''Ans 6:- Attaching a program counter to the Reverse Polish Notation\n",
    "(RPN) interpreter application offers several benefits in terms\n",
    "of control, error handling, and functionality. The program\n",
    "counter keeps track of the current instruction being executed,\n",
    "allowing for precise control and management of the RPN script\n",
    "execution.\n",
    "\n",
    "1. Error Detection: The program counter can catch errors like\n",
    "invalid operations or incorrect syntax in a line before\n",
    "proceeding, aiding in early detection and better error handling.  \n",
    "\n",
    "2. Conditional Execution: The program counter enables\n",
    "implementing conditional statements within the RPN script. Based on\n",
    "certain conditions, specific parts of the script can be executed\n",
    "or skipped.\n",
    "\n",
    "3. Looping: By monitoring the program counter, the\n",
    "interpreter can implement loops, allowing sections of the script to be\n",
    "executed repeatedly until a certain condition is met.\n",
    "\n",
    "Consider an RPN script that calculates the area of\n",
    "different shapes. By attaching a program counter, we can introduce\n",
    "conditionals to calculate the area of specific shapes based on user\n",
    "input, enhancing the script's versatility and user-friendliness. \n",
    "Overall, a program counter empowers an RPN interpreter to become\n",
    "more versatile, error-resistant, and capable of handling\n",
    "complex logic and branching scenarios.'''"
   ]
  },
  {
   "cell_type": "code",
   "execution_count": null,
   "id": "418e2c07",
   "metadata": {},
   "outputs": [],
   "source": [
    "'''Ans 7:- A basic programming language needs to be able to perform\n",
    "the following tasks to be considered primitive but complete\n",
    "Assign values to variables. Perform basic arithmetic operations.\n",
    "Execute code based on a condition. Repeat code a certain number of\n",
    "times or until a condition is met. Call a function that has\n",
    "already been defined. These five tasks are the foundation of all\n",
    "programming languages. With these tasks, we can theoretically write\n",
    "any computer program.  Other useful expressions and statements\n",
    "include:  Declaring variables and specifying their data types.\n",
    "Reading input from the user and writing output to the screen.\n",
    "Manipulating strings of text. Creating and manipulating data structures\n",
    "such as arrays, lists, and dictionaries. Creating and using\n",
    "objects. These expressions and statements can be used to create\n",
    "more complex and powerful programs.'''"
   ]
  }
 ],
 "metadata": {
  "kernelspec": {
   "display_name": "Python 3 (ipykernel)",
   "language": "python",
   "name": "python3"
  },
  "language_info": {
   "codemirror_mode": {
    "name": "ipython",
    "version": 3
   },
   "file_extension": ".py",
   "mimetype": "text/x-python",
   "name": "python",
   "nbconvert_exporter": "python",
   "pygments_lexer": "ipython3",
   "version": "3.10.9"
  }
 },
 "nbformat": 4,
 "nbformat_minor": 5
}
