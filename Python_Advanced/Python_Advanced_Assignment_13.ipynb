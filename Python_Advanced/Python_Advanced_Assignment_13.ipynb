{
 "cells": [
  {
   "cell_type": "markdown",
   "id": "f79df60a",
   "metadata": {},
   "source": [
    "## Python_Advanced_Assignment_13\n",
    "1. Can you create a programme or function that employs both positive and negative indexing? Is there any repercussion if you do so?\n",
    "2. What is the most effective way of starting with 1,000 elements in a Python list? Assume that all elements should be set to the same value.\n",
    "3. How do you slice a list to get any other part while missing the rest? (For example, suppose you want to make a new list with the elements first, third, fifth, seventh, and so on.)\n",
    "4. Explain the distinctions between indexing and slicing.\n",
    "5. What happens if one of the slicing expression's indexes is out of range?\n",
    "6. If you pass a list to a function, and if you want the function to be able to change the values of the list—so that the list is different after the function returns—what action should you avoid?\n",
    "7. What is the concept of an unbalanced matrix?\n",
    "8. Why is it necessary to use either list comprehension or a loop to create arbitrarily large matrices?"
   ]
  },
  {
   "cell_type": "code",
   "execution_count": 10,
   "id": "e35aaa1d",
   "metadata": {},
   "outputs": [
    {
     "name": "stdout",
     "output_type": "stream",
     "text": [
      "Positive Indexing: Programming\n",
      "Negative Indexing: Python\n"
     ]
    }
   ],
   "source": [
    "'''Ans 1:- Certainly! Here's an example of a function that employs both positive and\n",
    "negative indexing to extract substrings from a given string. Negative indexing is used\n",
    "to extract substrings from the end of the string.\n",
    "\n",
    "In this example, the extract_substring function takes a string text, a\n",
    "start_pos index, and an end_pos index. It uses slicing to extract substrings based on\n",
    "these indices, both positive and negative.\n",
    "\n",
    "Using a combination of positive and negative indexing is valid and can be\n",
    "useful for scenarios where we need to extract substrings from different parts of the\n",
    "string. There are no significant repercussions from doing so, as long as you handle\n",
    "the indices correctly. However, care should be taken to ensure that the start_pos\n",
    "and end_pos values are appropriate for the intended substring extraction, as\n",
    "incorrect values can lead to unexpected results or errors.'''\n",
    "\n",
    "def extract_substring(text, start_pos, end_pos):\n",
    "    substring = text[start_pos:end_pos]\n",
    "    return substring\n",
    "\n",
    "text = \"Python Programming\"\n",
    "positive_substring = extract_substring(text, 7, 18)\n",
    "negative_substring = extract_substring(text, -18, -12)\n",
    "\n",
    "print(\"Positive Indexing:\", positive_substring)\n",
    "print(\"Negative Indexing:\", negative_substring)"
   ]
  },
  {
   "cell_type": "code",
   "execution_count": 12,
   "id": "b3e122d7",
   "metadata": {},
   "outputs": [
    {
     "name": "stdout",
     "output_type": "stream",
     "text": [
      "[42, 42, 42, 42, 42, 42, 42, 42, 42, 42, 42, 42, 42, 42, 42, 42, 42, 42, 42, 42, 42, 42, 42, 42, 42, 42, 42, 42, 42, 42, 42, 42, 42, 42, 42, 42, 42, 42, 42, 42, 42, 42, 42, 42, 42, 42, 42, 42, 42, 42, 42, 42, 42, 42, 42, 42, 42, 42, 42, 42, 42, 42, 42, 42, 42, 42, 42, 42, 42, 42, 42, 42, 42, 42, 42, 42, 42, 42, 42, 42, 42, 42, 42, 42, 42, 42, 42, 42, 42, 42, 42, 42, 42, 42, 42, 42, 42, 42, 42, 42, 42, 42, 42, 42, 42, 42, 42, 42, 42, 42, 42, 42, 42, 42, 42, 42, 42, 42, 42, 42, 42, 42, 42, 42, 42, 42, 42, 42, 42, 42, 42, 42, 42, 42, 42, 42, 42, 42, 42, 42, 42, 42, 42, 42, 42, 42, 42, 42, 42, 42, 42, 42, 42, 42, 42, 42, 42, 42, 42, 42, 42, 42, 42, 42, 42, 42, 42, 42, 42, 42, 42, 42, 42, 42, 42, 42, 42, 42, 42, 42, 42, 42, 42, 42, 42, 42, 42, 42, 42, 42, 42, 42, 42, 42, 42, 42, 42, 42, 42, 42, 42, 42, 42, 42, 42, 42, 42, 42, 42, 42, 42, 42, 42, 42, 42, 42, 42, 42, 42, 42, 42, 42, 42, 42, 42, 42, 42, 42, 42, 42, 42, 42, 42, 42, 42, 42, 42, 42, 42, 42, 42, 42, 42, 42, 42, 42, 42, 42, 42, 42, 42, 42, 42, 42, 42, 42, 42, 42, 42, 42, 42, 42, 42, 42, 42, 42, 42, 42, 42, 42, 42, 42, 42, 42, 42, 42, 42, 42, 42, 42, 42, 42, 42, 42, 42, 42, 42, 42, 42, 42, 42, 42, 42, 42, 42, 42, 42, 42, 42, 42, 42, 42, 42, 42, 42, 42, 42, 42, 42, 42, 42, 42, 42, 42, 42, 42, 42, 42, 42, 42, 42, 42, 42, 42, 42, 42, 42, 42, 42, 42, 42, 42, 42, 42, 42, 42, 42, 42, 42, 42, 42, 42, 42, 42, 42, 42, 42, 42, 42, 42, 42, 42, 42, 42, 42, 42, 42, 42, 42, 42, 42, 42, 42, 42, 42, 42, 42, 42, 42, 42, 42, 42, 42, 42, 42, 42, 42, 42, 42, 42, 42, 42, 42, 42, 42, 42, 42, 42, 42, 42, 42, 42, 42, 42, 42, 42, 42, 42, 42, 42, 42, 42, 42, 42, 42, 42, 42, 42, 42, 42, 42, 42, 42, 42, 42, 42, 42, 42, 42, 42, 42, 42, 42, 42, 42, 42, 42, 42, 42, 42, 42, 42, 42, 42, 42, 42, 42, 42, 42, 42, 42, 42, 42, 42, 42, 42, 42, 42, 42, 42, 42, 42, 42, 42, 42, 42, 42, 42, 42, 42, 42, 42, 42, 42, 42, 42, 42, 42, 42, 42, 42, 42, 42, 42, 42, 42, 42, 42, 42, 42, 42, 42, 42, 42, 42, 42, 42, 42, 42, 42, 42, 42, 42, 42, 42, 42, 42, 42, 42, 42, 42, 42, 42, 42, 42, 42, 42, 42, 42, 42, 42, 42, 42, 42, 42, 42, 42, 42, 42, 42, 42, 42, 42, 42, 42, 42, 42, 42, 42, 42, 42, 42, 42, 42, 42, 42, 42, 42, 42, 42, 42, 42, 42, 42, 42, 42, 42, 42, 42, 42, 42, 42, 42, 42, 42, 42, 42, 42, 42, 42, 42, 42, 42, 42, 42, 42, 42, 42, 42, 42, 42, 42, 42, 42, 42, 42, 42, 42, 42, 42, 42, 42, 42, 42, 42, 42, 42, 42, 42, 42, 42, 42, 42, 42, 42, 42, 42, 42, 42, 42, 42, 42, 42, 42, 42, 42, 42, 42, 42, 42, 42, 42, 42, 42, 42, 42, 42, 42, 42, 42, 42, 42, 42, 42, 42, 42, 42, 42, 42, 42, 42, 42, 42, 42, 42, 42, 42, 42, 42, 42, 42, 42, 42, 42, 42, 42, 42, 42, 42, 42, 42, 42, 42, 42, 42, 42, 42, 42, 42, 42, 42, 42, 42, 42, 42, 42, 42, 42, 42, 42, 42, 42, 42, 42, 42, 42, 42, 42, 42, 42, 42, 42, 42, 42, 42, 42, 42, 42, 42, 42, 42, 42, 42, 42, 42, 42, 42, 42, 42, 42, 42, 42, 42, 42, 42, 42, 42, 42, 42, 42, 42, 42, 42, 42, 42, 42, 42, 42, 42, 42, 42, 42, 42, 42, 42, 42, 42, 42, 42, 42, 42, 42, 42, 42, 42, 42, 42, 42, 42, 42, 42, 42, 42, 42, 42, 42, 42, 42, 42, 42, 42, 42, 42, 42, 42, 42, 42, 42, 42, 42, 42, 42, 42, 42, 42, 42, 42, 42, 42, 42, 42, 42, 42, 42, 42, 42, 42, 42, 42, 42, 42, 42, 42, 42, 42, 42, 42, 42, 42, 42, 42, 42, 42, 42, 42, 42, 42, 42, 42, 42, 42, 42, 42, 42, 42, 42, 42, 42, 42, 42, 42, 42, 42, 42, 42, 42, 42, 42, 42, 42, 42, 42, 42, 42, 42, 42, 42, 42, 42, 42, 42, 42, 42, 42, 42, 42, 42, 42, 42, 42, 42, 42, 42, 42, 42, 42, 42, 42, 42, 42, 42, 42, 42, 42, 42, 42, 42, 42, 42, 42, 42, 42, 42, 42, 42, 42, 42, 42, 42, 42, 42, 42, 42, 42, 42, 42, 42, 42, 42, 42, 42, 42, 42, 42, 42, 42, 42, 42, 42, 42, 42, 42, 42, 42, 42, 42, 42, 42, 42, 42, 42, 42, 42, 42, 42, 42, 42, 42, 42, 42, 42, 42, 42, 42, 42, 42, 42, 42, 42, 42, 42, 42, 42, 42, 42, 42, 42, 42, 42, 42, 42, 42, 42, 42, 42, 42, 42, 42, 42, 42, 42, 42, 42, 42, 42, 42, 42, 42, 42, 42, 42, 42, 42, 42, 42, 42, 42, 42, 42, 42, 42, 42, 42, 42, 42, 42, 42, 42, 42, 42, 42, 42, 42, 42, 42, 42, 42, 42, 42, 42, 42, 42, 42, 42, 42, 42, 42, 42, 42, 42, 42, 42, 42, 42, 42, 42, 42, 42, 42, 42]\n"
     ]
    }
   ],
   "source": [
    "'''Ans 2:- The most effective way to initialize a Python list with 1,000 elements, all\n",
    "set to the same value, is to use a list comprehension. This approach is concise,\n",
    "efficient, and provides better performance compared to traditional loops.\n",
    "\n",
    "In this example, value is the value you want to set for all elements, and\n",
    "[value] * 1000 creates a list with 1,000 elements, all having the value of 42 in this\n",
    "case. This approach takes advantage of Python's efficient memory allocation for\n",
    "lists and results in better performance compared to using loops for initialization. \n",
    "This method is straightforward, quick, and a recommended approach when we need to\n",
    "create a list with a large number of elements initialized to the same value.'''\n",
    "\n",
    "value = 42  # The value to set for all elements\n",
    "my_list = [value] * 1000\n",
    "print(my_list)"
   ]
  },
  {
   "cell_type": "code",
   "execution_count": 15,
   "id": "721200e4",
   "metadata": {},
   "outputs": [
    {
     "name": "stdout",
     "output_type": "stream",
     "text": [
      "[1, 3, 5, 7, 9]\n"
     ]
    }
   ],
   "source": [
    "'''Ans 3:- To create a new list with elements from specific positions in a list (e.g.,\n",
    "first, third, fifth, seventh, and so on), we can use slicing with a step value. The\n",
    "step value determines the interval between the selected elements. In this example,\n",
    "the step value should be 2 to skip every alternate element.\n",
    "\n",
    "In this example, original_list[::2] selects elements from the original_list\n",
    "starting from the first element (index 0) and skipping every alternate element,\n",
    "resulting in the desired new list [1, 3, 5, 7, 9].  By adjusting the step value, we can\n",
    "control the spacing between the selected elements in the new list.'''\n",
    "\n",
    "original_list = [1, 2, 3, 4, 5, 6, 7, 8, 9, 10]\n",
    "new_list = original_list[::2]  # Slicing with a step value of 2\n",
    "\n",
    "print(new_list)"
   ]
  },
  {
   "cell_type": "code",
   "execution_count": 16,
   "id": "5b5de1c6",
   "metadata": {},
   "outputs": [
    {
     "name": "stdout",
     "output_type": "stream",
     "text": [
      "(20, 'World')\n"
     ]
    }
   ],
   "source": [
    "'''Ans 4:- Indexing:- Indexing refers to accessing a single element within a sequence\n",
    "(like a list, string, or tuple) using its position. It uses square brackets [] with\n",
    "an index value inside them to access a specific element. Indexing retrieves and\n",
    "returns a single element from the sequence \n",
    "\n",
    "Slicing:- Slicing involves extracting a portion of a sequence by specifying a\n",
    "range of indices. It uses the syntax [start:end] to create a new sequence that\n",
    "includes elements from the start index up to, but not including, the end index. Slicing\n",
    "returns a new sequence containing the selected elements. \n",
    "\n",
    "Key Distinctions:  Indexing accesses a single element, while slicing creates a\n",
    "new sequence. Indexing uses a single index value, while slicing uses two indices\n",
    "(start and end). Indexing returns a single element, while slicing returns a sequence\n",
    "of elements. Indexing uses [], while slicing uses [:]. In summary, indexing\n",
    "focuses on accessing a single element by its position, while slicing focuses on\n",
    "extracting a portion of a sequence. Both indexing and slicing are fundamental techniques\n",
    "for working with sequences in Python.'''\n",
    "\n",
    "# Indexing\n",
    "my_list = [10, 20, 30, 40]\n",
    "element = my_list[1]  # Accesses the element at index 1 (20)\n",
    "\n",
    "# Slicing\n",
    "text = \"Hello, World!\"\n",
    "substring = text[7:12]  # Extracts the substring \"World\"\n",
    "\n",
    "# Getting result\n",
    "print(f\"{element, substring}\")"
   ]
  },
  {
   "cell_type": "code",
   "execution_count": 19,
   "id": "20ded2fd",
   "metadata": {},
   "outputs": [
    {
     "name": "stdout",
     "output_type": "stream",
     "text": [
      "[]\n",
      "[30, 40, 50]\n"
     ]
    }
   ],
   "source": [
    "'''Ans 5:- In Python, if one of the slicing expression's indexes is out of range, the\n",
    "slicing operation will not raise an error. Instead, it will return an empty sequence.\n",
    "\n",
    "This is because slicing is a more forgiving operation than indexing. Indexing\n",
    "returns a single element, and if the index is out of range, Python will raise an\n",
    "error. Slicing returns a subsequence of elements, and if the start or end index is\n",
    "out of range, Python will simply return an empty subsequence.\n",
    "\n",
    "\n",
    "Here's what happens:-\n",
    "\n",
    "1. If the start index is out of range or greater than the length of the sequence,\n",
    "the slicing will result in an empty list.\n",
    "\n",
    "2. If the end index is out of range or greater than the length of the sequence,\n",
    "the slicing will include elements up to the end of the sequence.'''\n",
    "\n",
    "my_list = [10, 20, 30, 40, 50]\n",
    "\n",
    "# Slicing with start index out of range\n",
    "sliced_list1 = my_list[10:15]\n",
    "\n",
    "# Slicing with end index out of range\n",
    "sliced_list2 = my_list[2:25]\n",
    "\n",
    "print(sliced_list1)\n",
    "print(sliced_list2)"
   ]
  },
  {
   "cell_type": "code",
   "execution_count": 22,
   "id": "d21f2d6a",
   "metadata": {},
   "outputs": [
    {
     "name": "stdout",
     "output_type": "stream",
     "text": [
      "[10, 20, 30]\n",
      "[10, 20, 30, 4]\n"
     ]
    }
   ],
   "source": [
    "'''Ans 6:- If we want a function to be able to change the values of a list so that the\n",
    "list is different after the function returns, we should avoid reassigning the list\n",
    "parameter itself within the function. If you reassign the list parameter, it will create\n",
    "a local variable with the same name, effectively disconnecting it from the\n",
    "original list outside the function. Any changes made to the local variable won't affect\n",
    "the original list.\n",
    "\n",
    "In this example, the modify_list function reassigns the lst parameter to a new\n",
    "list [1, 2, 3]. As a result, the changes are made to the local variable lst, and\n",
    "the original my_list outside the function remains unchanged.  To modify the values\n",
    "of the list directly within the function, we should use methods that modify the\n",
    "list in place, like .append(), .pop(), .remove(), etc., without reassigning the\n",
    "parameter itself.In this case, the function modifies the original my_list by appending the\n",
    "value 4 to it.'''\n",
    "\n",
    "def modify_list(lst):\n",
    "    lst = [1, 2, 3]  # Avoid reassigning the parameter\n",
    "\n",
    "my_list = [10, 20, 30]\n",
    "modify_list(my_list)\n",
    "print(my_list)\n",
    "\n",
    "\n",
    "def modify_list(lst):\n",
    "    lst.append(4)  # Modify the list in place\n",
    "\n",
    "my_list = [10, 20, 30]\n",
    "modify_list(my_list)\n",
    "print(my_list)"
   ]
  },
  {
   "cell_type": "code",
   "execution_count": 26,
   "id": "b12b2004",
   "metadata": {},
   "outputs": [
    {
     "name": "stdout",
     "output_type": "stream",
     "text": [
      "\n"
     ]
    }
   ],
   "source": [
    "'''Ans 7:- An unbalanced matrix, also known as an \"asymmetric matrix,\" is a type of\n",
    "matrix in linear algebra where the number of rows is not equal to the number of\n",
    "columns. In other words, it's a matrix that doesn't have an equal number of rows and\n",
    "columns.  In an unbalanced matrix, the elements may not be symmetrically positioned\n",
    "across the main diagonal, unlike in a square matrix where the number of rows is equal\n",
    "to the number of columns. As a result, operations like matrix multiplication,\n",
    "addition, and inversion might not be defined or behave differently for unbalanced\n",
    "matrices compared to balanced matrices.\n",
    "\n",
    "In this 3x2 matrix, there are three rows and two columns, making it\n",
    "unbalanced. In contrast, a balanced matrix, such as a square matrix, has an equal number\n",
    "of rows and columns.\n",
    "\n",
    "In this 2x2 matrix, there are two rows and two columns, making it balanced.'''\n",
    "\n",
    "# unbalanced matrix\n",
    "[1 2]\n",
    "[3 4]\n",
    "[5 6]\n",
    "\n",
    "# balanced matrix\n",
    "[1  2]\n",
    "[3  4]"
   ]
  },
  {
   "cell_type": "code",
   "execution_count": 32,
   "id": "3be76cd6",
   "metadata": {},
   "outputs": [
    {
     "name": "stdout",
     "output_type": "stream",
     "text": [
      "[0, 1, 2, 3, 4]\n",
      "[5, 6, 7, 8, 9]\n",
      "[10, 11, 12, 13, 14]\n",
      "[15, 16, 17, 18, 19]\n",
      "[20, 21, 22, 23, 24]\n"
     ]
    }
   ],
   "source": [
    "'''Ans 8:- Creating arbitrarily large matrices involves generating a large number of\n",
    "elements, and doing so manually using individual assignments would be impractical and\n",
    "inefficient. This is why using either list comprehension or loops is necessary when\n",
    "creating such matrices.\n",
    "\n",
    "1. List Comprehension: List comprehensions offer a concise and efficient way to\n",
    "generate elements for a matrix. They allow you to define a pattern or expression that\n",
    "generates elements based on certain rules, and Python takes care of the iteration and\n",
    "element generation process. This approach is particularly helpful when we need to\n",
    "create matrices with some mathematical or repetitive pattern.\n",
    "\n",
    "2. Loops: Loops provide a more explicit approach for generating elements. You can\n",
    "use nested loops to iterate over rows and columns and generate elements\n",
    "accordingly. This approach offers more flexibility when we need to incorporate complex\n",
    "conditions or logic for element generation.\n",
    "\n",
    "Both list comprehension and loops abstract away the repetitive task of element\n",
    "generation and make it feasible to create arbitrarily large matrices without writing out\n",
    "each element manually. The choice between them depends on the complexity of the\n",
    "element generation process and our preference for code readability and efficiency.'''\n",
    "\n",
    "# List Comprehension\n",
    "rows = 5\n",
    "cols = 5\n",
    "matrix = [[i * cols + j for j in range(cols)] for i in range(rows)]\n",
    "\n",
    "for row in matrix:\n",
    "    print(row)"
   ]
  },
  {
   "cell_type": "code",
   "execution_count": 35,
   "id": "62788633",
   "metadata": {},
   "outputs": [
    {
     "name": "stdout",
     "output_type": "stream",
     "text": [
      "[0, 1, 2, 3, 4, 5, 6]\n",
      "[7, 8, 9, 10, 11, 12, 13]\n",
      "[14, 15, 16, 17, 18, 19, 20]\n",
      "[21, 22, 23, 24, 25, 26, 27]\n",
      "[28, 29, 30, 31, 32, 33, 34]\n",
      "[35, 36, 37, 38, 39, 40, 41]\n",
      "[42, 43, 44, 45, 46, 47, 48]\n"
     ]
    }
   ],
   "source": [
    "# Loops\n",
    "rows = 7\n",
    "cols = 7\n",
    "matrix = []\n",
    "for i in range(rows):\n",
    "    row = []\n",
    "    for j in range(cols):\n",
    "        row.append(i * cols + j)\n",
    "    matrix.append(row)\n",
    "\n",
    "for row in matrix:\n",
    "    print(row)"
   ]
  }
 ],
 "metadata": {
  "kernelspec": {
   "display_name": "Python 3 (ipykernel)",
   "language": "python",
   "name": "python3"
  },
  "language_info": {
   "codemirror_mode": {
    "name": "ipython",
    "version": 3
   },
   "file_extension": ".py",
   "mimetype": "text/x-python",
   "name": "python",
   "nbconvert_exporter": "python",
   "pygments_lexer": "ipython3",
   "version": "3.10.9"
  }
 },
 "nbformat": 4,
 "nbformat_minor": 5
}
