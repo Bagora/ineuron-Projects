{
 "cells": [
  {
   "cell_type": "markdown",
   "id": "94d5437e",
   "metadata": {},
   "source": [
    "## Python_Advanced_Assignment_2\n",
    "1. What is the relationship between classes and modules?\n",
    "2. How do you make instances and classes?\n",
    "3. Where and how should be class attributes created?\n",
    "4. Where and how are instance attributes created?\n",
    "5. What does the term \"self\" in a Python class mean?\n",
    "6. How does a Python class handle operator overloading?\n",
    "7. When do you consider allowing operator overloading of your classes?\n",
    "8. What is the most popular form of operator overloading?\n",
    "9. What are the two most important concepts to grasp in order to comprehend Python OOP code?"
   ]
  },
  {
   "cell_type": "code",
   "execution_count": 5,
   "id": "3985b023",
   "metadata": {},
   "outputs": [
    {
     "name": "stdout",
     "output_type": "stream",
     "text": [
      "Circle Area: 78.53975\n",
      "Rectangle Area: 12\n"
     ]
    }
   ],
   "source": [
    "'''Ans 1:- In Python, classes and modules are both fundamental components of the\n",
    "language, but they serve different purposes and have distinct relationships.\n",
    "\n",
    "Classes are blueprints for creating objects (instances). They encapsulate\n",
    "attributes and methods that define the behavior and structure of objects. Classes allow\n",
    "you to model real-world entities with attributes and actions.\n",
    "\n",
    "Modules are files containing Python code, typically with functions, classes,\n",
    "and variables. They serve as organizational units for code. A module can include\n",
    "multiple classes, functions, and other code elements. Modules help manage the code's\n",
    "complexity and promote reusability.\n",
    "\n",
    "The relationship between classes and modules is that classes can be defined\n",
    "within modules. This way, modules can group related classes together, promoting code\n",
    "organization and reusability.\n",
    "\n",
    "In this example, the module \"sample2.py\" contains two classes, Circle and\n",
    "Rectangle. Other parts of your code can import this module and use its classes. This\n",
    "relationship between classes and modules enhances code organization and allows for modular\n",
    "programming.'''\n",
    "\n",
    "import sample2\n",
    "\n",
    "# Create instances of classes\n",
    "circle_instance = sample2.Circle(5)\n",
    "rectangle_instance = sample2.Rectangle(3, 4)\n",
    "\n",
    "# Call methods and print results\n",
    "print(\"Circle Area:\", circle_instance.area())\n",
    "print(\"Rectangle Area:\", rectangle_instance.area())"
   ]
  },
  {
   "cell_type": "code",
   "execution_count": 7,
   "id": "20f51599",
   "metadata": {},
   "outputs": [
    {
     "name": "stdout",
     "output_type": "stream",
     "text": [
      "Alice\n",
      "Hi, I'm Bob, and I'm 25 years old.\n"
     ]
    }
   ],
   "source": [
    "'''Ans 2:- To create instances and classes in Python, follow these steps:-\n",
    "\n",
    "1. Define a Class: Start by defining a class using the class keyword. Inside the\n",
    "class, you can define attributes (variables) and methods (functions) that will be\n",
    "associated with instances of the class.\n",
    "\n",
    "2. Create an Instance: To create an instance of the class, call the class's name\n",
    "followed by parentheses. This calls the class's constructor (__init__ method) and\n",
    "initializes the instance's attributes.\n",
    "\n",
    "3. Access Attributes and Methods: Use dot notation to access attributes and call\n",
    "methods on the instance.\n",
    "\n",
    "In this example, the Person class defines an __init__ method to initialize the\n",
    "name and age attributes. Instances are created using the class, and their\n",
    "attributes and methods are accessed using dot notation. This demonstrates how to make\n",
    "instances of a class and utilize them in Python.'''\n",
    "\n",
    "# Define a class\n",
    "class Person:\n",
    "    def __init__(self, name, age):\n",
    "        self.name = name\n",
    "        self.age = age\n",
    "\n",
    "    def introduce(self):\n",
    "        return f\"Hi, I'm {self.name}, and I'm {self.age} years old.\"\n",
    "\n",
    "# Create instances\n",
    "person1 = Person(\"Alice\", 30)\n",
    "person2 = Person(\"Bob\", 25)\n",
    "\n",
    "# Access attributes and call methods\n",
    "print(person1.name)\n",
    "print(person2.introduce())"
   ]
  },
  {
   "cell_type": "code",
   "execution_count": 8,
   "id": "f2ce4330",
   "metadata": {},
   "outputs": [
    {
     "name": "stdout",
     "output_type": "stream",
     "text": [
      "78.53975\n",
      "28.27431\n"
     ]
    }
   ],
   "source": [
    "'''Ans 3:- Class attributes in Python are attributes that are shared by all instances of\n",
    "a class. They are defined within the class block, outside of any methods, and\n",
    "are typically placed at the top of the class definition. Class attributes are\n",
    "accessible to all instances of the class, and any changes to them affect all instances\n",
    "uniformly. In this example, pi is a class attribute defined within the Circle class. All\n",
    "instances of the Circle class share the same value of pi. The area method uses the class\n",
    "attribute pi to calculate the area of circles. By placing pi as a class attribute, you\n",
    "ensure that it's consistent across all instances of the class.'''\n",
    "\n",
    "class Circle:\n",
    "    pi = 3.14159  # Class attribute\n",
    "\n",
    "    def __init__(self, radius):\n",
    "        self.radius = radius\n",
    "\n",
    "    def area(self):\n",
    "        return self.pi * self.radius ** 2\n",
    "\n",
    "# Creating instances of the Circle class\n",
    "circle1 = Circle(5)\n",
    "circle2 = Circle(3)\n",
    "\n",
    "# Accessing class attribute and instance methods\n",
    "print(circle1.area()) \n",
    "print(circle2.area())"
   ]
  },
  {
   "cell_type": "code",
   "execution_count": 9,
   "id": "fcc82cb4",
   "metadata": {},
   "outputs": [
    {
     "name": "stdout",
     "output_type": "stream",
     "text": [
      "Hi, I'm jon, and I'm 25 years old.\n",
      "Hi, I'm spyder, and I'm 45 years old.\n"
     ]
    }
   ],
   "source": [
    "'''Ans 4:- Instance attributes in Python are created within the __init__ method of a\n",
    "class. They are specific to each instance of the class and hold unique values for\n",
    "each instance. Instance attributes are defined using the self parameter, making\n",
    "them accessible throughout the instance's methods.In this example, name and age are\n",
    "instance attributes defined within the __init__ method. Each instance of the Person\n",
    "class has its own values for these attributes, allowing them to store and represent\n",
    "unique data for each instance.'''\n",
    "\n",
    "class Person:\n",
    "    def __init__(self, name, age):\n",
    "        self.name = name  # Instance attribute\n",
    "        self.age = age    # Instance attribute\n",
    "\n",
    "    def introduce(self):\n",
    "        return f\"Hi, I'm {self.name}, and I'm {self.age} years old.\"\n",
    "\n",
    "# Creating instances with unique attributes\n",
    "person1 = Person(\"jon\", 25)\n",
    "person2 = Person(\"spyder\", 45)\n",
    "\n",
    "print(person1.introduce())  \n",
    "print(person2.introduce())"
   ]
  },
  {
   "cell_type": "code",
   "execution_count": 10,
   "id": "ae153490",
   "metadata": {},
   "outputs": [
    {
     "name": "stdout",
     "output_type": "stream",
     "text": [
      "Hi, I'm jon, and I'm 28 years old.\n"
     ]
    }
   ],
   "source": [
    "'''Ans 5:- In a Python class, the term \"self\" refers to the instance of the class itself.\n",
    "It is a conventional name used as the first parameter in instance methods. When a\n",
    "method is called on an instance, \"self\" allows the method to access and manipulate\n",
    "the instance's attributes and methods.In this example, within the introduce\n",
    "method, \"self\" refers to the instance person. It allows the method to access the\n",
    "instance's name and age attributes using dot notation.'''\n",
    "\n",
    "class Person:\n",
    "    def __init__(self, name, age):\n",
    "        self.name = name\n",
    "        self.age = age\n",
    "\n",
    "    def introduce(self):\n",
    "        return f\"Hi, I'm {self.name}, and I'm {self.age} years old.\"\n",
    "\n",
    "# Creating an instance of the Person class\n",
    "person = Person(\"jon\", 28)\n",
    "print(person.introduce())"
   ]
  },
  {
   "cell_type": "code",
   "execution_count": 11,
   "id": "a4db2200",
   "metadata": {},
   "outputs": [
    {
     "name": "stdout",
     "output_type": "stream",
     "text": [
      "6 + 8j\n"
     ]
    }
   ],
   "source": [
    "'''Ans 6:- Python classes can handle operator overloading by defining special methods\n",
    "that correspond to various operators. These methods enable custom behavior for\n",
    "built-in operators when applied to instances of the class. The special methods are\n",
    "identified by their double underscore names (e.g., __add__ for addition). In this\n",
    "example, the __add__ method in the ComplexNumber class enables the use of the +\n",
    "operator between instances, allowing custom addition behavior. The __str__ method is\n",
    "also defined to provide a readable representation of instances when printed. This\n",
    "illustrates how classes can handle operator overloading to customize the behavior of\n",
    "operators for specific objects.'''\n",
    "\n",
    "class ComplexNumber:\n",
    "    def __init__(self, real, imag):\n",
    "        self.real = real\n",
    "        self.imag = imag\n",
    "\n",
    "    def __add__(self, other):\n",
    "        real_sum = self.real + other.real\n",
    "        imag_sum = self.imag + other.imag\n",
    "        return ComplexNumber(real_sum, imag_sum)\n",
    "\n",
    "    def __str__(self):\n",
    "        return f\"{self.real} + {self.imag}j\"\n",
    "\n",
    "# Creating instances\n",
    "c1 = ComplexNumber(2, 3)\n",
    "c2 = ComplexNumber(4, 5)\n",
    "\n",
    "# Using operator overloading\n",
    "result = c1 + c2\n",
    "print(result)"
   ]
  },
  {
   "cell_type": "code",
   "execution_count": 12,
   "id": "70aea729",
   "metadata": {},
   "outputs": [
    {
     "name": "stdout",
     "output_type": "stream",
     "text": [
      "4 6\n",
      "2 4\n"
     ]
    }
   ],
   "source": [
    "'''Ans 7:- We should consider allowing operator overloading for our classes when the\n",
    "natural or intuitive behavior of operators makes sense in the context of the class.\n",
    "Operator overloading can enhance the usability and readability of your code by\n",
    "providing a more intuitive interface for operations involving your custom objects. This\n",
    "is especially beneficial when the overloaded operators mirror real-world\n",
    "relationships or mathematical operations that users would expect.  For example, consider a\n",
    "Vector class representing mathematical vectors. Overloading operators like +, -, and\n",
    "* for vector addition, subtraction, and scalar multiplication could make the\n",
    "code more readable and aligned with mathematical conventions.In this example,\n",
    "allowing operator overloading enhances the class's usability by making vector\n",
    "operations more intuitive and consistent with mathematical conventions.'''\n",
    "\n",
    "class Vector:\n",
    "    def __init__(self, x, y):\n",
    "        self.x = x\n",
    "        self.y = y\n",
    "\n",
    "    def __add__(self, other):\n",
    "        return Vector(self.x + other.x, self.y + other.y)\n",
    "\n",
    "    def __mul__(self, scalar):\n",
    "        return Vector(self.x * scalar, self.y * scalar)\n",
    "\n",
    "v1 = Vector(1, 2)\n",
    "v2 = Vector(3, 4)\n",
    "\n",
    "result = v1 + v2  # Vector addition\n",
    "scaled = v1 * 2   # Scalar multiplication\n",
    "\n",
    "print(result.x, result.y)\n",
    "print(scaled.x, scaled.y) "
   ]
  },
  {
   "cell_type": "code",
   "execution_count": 13,
   "id": "c9ac50b8",
   "metadata": {},
   "outputs": [
    {
     "name": "stdout",
     "output_type": "stream",
     "text": [
      "9 + 17j\n"
     ]
    }
   ],
   "source": [
    "'''Ans 8:- One of the most popular forms of operator overloading in Python is the\n",
    "overloading of arithmetic operators such as +, -, *, and / to perform custom operations on\n",
    "objects. This form of operator overloading allows you to define how instances of your\n",
    "class should behave when these arithmetic operators are applied to them.In this\n",
    "example, the __add__ method overloads the + operator for the ComplexNumber class,\n",
    "allowing custom addition behavior. This form of operator overloading is popular because\n",
    "it enhances the expressiveness of custom classes and aligns them with familiar\n",
    "arithmetic operations.'''\n",
    "\n",
    "class ComplexNumber:\n",
    "    def __init__(self, real, imag):\n",
    "        self.real = real\n",
    "        self.imag = imag\n",
    "\n",
    "    def __add__(self, other):\n",
    "        real_sum = self.real + other.real\n",
    "        imag_sum = self.imag + other.imag\n",
    "        return ComplexNumber(real_sum, imag_sum)\n",
    "\n",
    "    def __str__(self):\n",
    "        return f\"{self.real} + {self.imag}j\"\n",
    "\n",
    "c1 = ComplexNumber(4, 8)\n",
    "c2 = ComplexNumber(5, 9)\n",
    "\n",
    "result = c1 + c2\n",
    "print(result)"
   ]
  },
  {
   "cell_type": "code",
   "execution_count": 16,
   "id": "43f5250c",
   "metadata": {},
   "outputs": [
    {
     "name": "stdout",
     "output_type": "stream",
     "text": [
      "Tata EV\n"
     ]
    }
   ],
   "source": [
    "'''Ans 9:- The two most important concepts to grasp in order to comprehend Python\n",
    "Object-Oriented Programming (OOP) code are classes and objects/instances.\n",
    "\n",
    "1. Classes: Classes are blueprints that define attributes and methods. They\n",
    "encapsulate data and behavior into a structured unit. \n",
    "\n",
    "2. Objects/Instances: Objects are specific instances created from classes. They\n",
    "hold unique data and can perform actions defined in the class.\n",
    "\n",
    "Understanding classes and instances allows you to grasp the essence of OOP.\n",
    "Classes define how objects should be structured, and instances represent concrete\n",
    "instances of those structures. By using classes and creating instances, we can model\n",
    "real-world concepts in our code and interact with them in a structured and intuitive\n",
    "manner.'''\n",
    "\n",
    "# Classes --- Polymorphism\n",
    "class Car:\n",
    "    def __init__(self, make, model):\n",
    "        self.make = make\n",
    "        self.model = model\n",
    "\n",
    "# Objects/Instances -- Inheritance\n",
    "my_car = Car(\"Tata\", \"EV\")\n",
    "print(my_car.make, my_car.model)"
   ]
  }
 ],
 "metadata": {
  "kernelspec": {
   "display_name": "Python 3 (ipykernel)",
   "language": "python",
   "name": "python3"
  },
  "language_info": {
   "codemirror_mode": {
    "name": "ipython",
    "version": 3
   },
   "file_extension": ".py",
   "mimetype": "text/x-python",
   "name": "python",
   "nbconvert_exporter": "python",
   "pygments_lexer": "ipython3",
   "version": "3.10.9"
  }
 },
 "nbformat": 4,
 "nbformat_minor": 5
}
