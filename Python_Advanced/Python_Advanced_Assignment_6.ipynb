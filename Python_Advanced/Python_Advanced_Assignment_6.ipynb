{
 "cells": [
  {
   "cell_type": "markdown",
   "id": "d9d139a2",
   "metadata": {},
   "source": [
    "## Python_Advanced_Assignment_6\n",
    "1. Describe three applications for exception processing.\n",
    "2. What happens if you don't do something extra to treat an exception?\n",
    "3. What are your options for recovering from an exception in your script?\n",
    "4. Describe two methods for triggering exceptions in your script.\n",
    "5. Identify two methods for specifying actions to be executed at termination time, regardless of whether or not an exception exists."
   ]
  },
  {
   "cell_type": "code",
   "execution_count": 4,
   "id": "d6714ca7",
   "metadata": {},
   "outputs": [
    {
     "name": "stdout",
     "output_type": "stream",
     "text": [
      "File not found.\n",
      "An error occurred: HTTPSConnectionPool(host='tfsf.com', port=443): Max retries exceeded with url: / (Caused by NewConnectionError('<urllib3.connection.HTTPSConnection object at 0x00000180929A15D0>: Failed to establish a new connection: [WinError 10061] No connection could be made because the target machine actively refused it'))\n"
     ]
    }
   ],
   "source": [
    "'''Ans 1:- Exception processing in Python is crucial for handling unexpected errors and\n",
    "maintaining the stability of programs. Here are three applications of exception\n",
    "processing:-\n",
    "\n",
    "1. Input Validation: Exception handling can be used to validate user input and\n",
    "handle invalid data gracefully. For instance, when converting user input to an\n",
    "integer, the ValueError exception can be caught to prevent program crashes.\n",
    "\n",
    "2. File Handling: While reading or writing files, exceptions like\n",
    "FileNotFoundError or PermissionError can occur. Exception handling ensures proper file closure\n",
    "and provides meaningful error messages.\n",
    "\n",
    "3. Network Operations: When performing network operations, exceptions like\n",
    "ConnectionError can happen. Proper exception handling helps manage connectivity issues.\n",
    "\n",
    "In all these cases, exception processing ensures that the program can\n",
    "gracefully handle errors and continue functioning rather than crashing or producing\n",
    "confusing results.'''\n",
    "\n",
    "try:\n",
    "    with open(\"myfile.txt\", \"r\") as file:\n",
    "        content = file.read()\n",
    "except FileNotFoundError:\n",
    "    print(\"File not found.\")\n",
    "except PermissionError:\n",
    "    print(\"Permission denied.\")\n",
    "    \n",
    "    \n",
    "import requests\n",
    "\n",
    "try:\n",
    "    response = requests.get(\"https://tfsf.com\")\n",
    "    response.raise_for_status()  # Raises an exception if request failed\n",
    "except requests.exceptions.RequestException as e:\n",
    "    print(f\"An error occurred: {e}\")"
   ]
  },
  {
   "cell_type": "code",
   "execution_count": 10,
   "id": "62b402f5",
   "metadata": {},
   "outputs": [
    {
     "name": "stdout",
     "output_type": "stream",
     "text": [
      "Enter a number: 0\n"
     ]
    },
    {
     "ename": "ZeroDivisionError",
     "evalue": "division by zero",
     "output_type": "error",
     "traceback": [
      "\u001b[1;31m---------------------------------------------------------------------------\u001b[0m",
      "\u001b[1;31mZeroDivisionError\u001b[0m                         Traceback (most recent call last)",
      "Cell \u001b[1;32mIn[10], line 14\u001b[0m\n\u001b[0;32m     12\u001b[0m \u001b[38;5;28;01mtry\u001b[39;00m:\n\u001b[0;32m     13\u001b[0m     num \u001b[38;5;241m=\u001b[39m \u001b[38;5;28mint\u001b[39m(\u001b[38;5;28minput\u001b[39m(\u001b[38;5;124m\"\u001b[39m\u001b[38;5;124mEnter a number: \u001b[39m\u001b[38;5;124m\"\u001b[39m))\n\u001b[1;32m---> 14\u001b[0m     result \u001b[38;5;241m=\u001b[39m \u001b[38;5;241;43m10\u001b[39;49m\u001b[43m \u001b[49m\u001b[38;5;241;43m/\u001b[39;49m\u001b[43m \u001b[49m\u001b[43mnum\u001b[49m\n\u001b[0;32m     15\u001b[0m     \u001b[38;5;28mprint\u001b[39m(\u001b[38;5;124mf\u001b[39m\u001b[38;5;124m\"\u001b[39m\u001b[38;5;124mResult: \u001b[39m\u001b[38;5;132;01m{\u001b[39;00mresult\u001b[38;5;132;01m}\u001b[39;00m\u001b[38;5;124m\"\u001b[39m)\n\u001b[0;32m     16\u001b[0m \u001b[38;5;28;01mexcept\u001b[39;00m \u001b[38;5;167;01mValueError\u001b[39;00m:\n",
      "\u001b[1;31mZeroDivisionError\u001b[0m: division by zero"
     ]
    }
   ],
   "source": [
    "'''Ans 2:- If we don't handle exceptions in our code, they will propagate up the call\n",
    "stack, potentially causing your program to terminate abruptly. This can lead to\n",
    "unexpected crashes, incorrect results, and an unpleasant user experience. Unhandled\n",
    "exceptions disrupt the normal flow of execution, making debugging and maintaining the\n",
    "code difficult.In this example, if the user enters \"0\" as input, a\n",
    "ZeroDivisionError will occur when attempting to divide by zero. Without additional exception\n",
    "handling for this case, the program will terminate and display a traceback, which can\n",
    "confuse users and negatively impact the program's reliability. Proper exception\n",
    "handling, such as catching the ZeroDivisionError, would prevent the program from\n",
    "crashing and allow us to display a meaningful error message.'''\n",
    "\n",
    "try:\n",
    "    num = int(input(\"Enter a number: \"))\n",
    "    result = 10 / num\n",
    "    print(f\"Result: {result}\")\n",
    "except ValueError:\n",
    "    print(\"Invalid input. Please enter a valid number.\")"
   ]
  },
  {
   "cell_type": "code",
   "execution_count": 15,
   "id": "28fc7501",
   "metadata": {},
   "outputs": [
    {
     "name": "stdout",
     "output_type": "stream",
     "text": [
      "Cannot divide by zero.\n",
      "None\n"
     ]
    }
   ],
   "source": [
    "'''Ans 3:- When recovering from an exception in our script, we have several options to\n",
    "handle the exceptional situation and continue execution:-\n",
    "\n",
    "1. Logging and Continuing: we can log the exception details and continue the\n",
    "script's execution. This helps diagnose issues while keeping the program running.\n",
    "\n",
    "2. Retry Mechanism: If an exception is transient, we can implement a retry\n",
    "mechanism to attempt the operation again.\n",
    "\n",
    "3. Fallback Values: Provide fallback values or actions in case of an exception.\n",
    "\n",
    "4. User-Friendly Messages: Display user-friendly error messages.\n",
    "\n",
    "We can choose the appropriate strategy based on the nature of the\n",
    "exception and the desired behavior of our script.'''\n",
    "\n",
    "def divide_numbers(numerator, denominator):\n",
    "      try:\n",
    "        return numerator / denominator\n",
    "      except ZeroDivisionError:\n",
    "        print(\"Cannot divide by zero.\")\n",
    "\n",
    "result = divide_numbers(10, 0)\n",
    "print(result)"
   ]
  },
  {
   "cell_type": "code",
   "execution_count": 16,
   "id": "22cd8329",
   "metadata": {},
   "outputs": [
    {
     "name": "stdout",
     "output_type": "stream",
     "text": [
      "An error occurred: Division by zero is not allowed\n",
      "Index out of range\n"
     ]
    }
   ],
   "source": [
    "'''Ans 4:- we can intentionally trigger exceptions in our script using various methods.\n",
    "Two common methods are:-\n",
    "\n",
    "1. Using the raise Statement:- We can explicitly raise exceptions using the\n",
    "raise statement. This is useful when we want to signal that a specific exceptional\n",
    "condition has occurred.\n",
    "\n",
    "2. Accessing Nonexistent Index in Lists: Trying to access an index that doesn't\n",
    "exist in a list raises an IndexError. This can happen when the index is negative or\n",
    "greater than the length of the list.\n",
    "\n",
    "In both cases, we intentionally causing exceptions to occur for specific\n",
    "scenarios, allowing us to handle them appropriately in our code.'''\n",
    "\n",
    "# Using the raise Statement\n",
    "def divide(x, y):\n",
    "    if y == 0:\n",
    "        raise ZeroDivisionError(\"Division by zero is not allowed\")\n",
    "    return x / y\n",
    "\n",
    "try:\n",
    "    result = divide(10, 0)\n",
    "except ZeroDivisionError as e:\n",
    "    print(f\"An error occurred: {e}\")\n",
    "\n",
    "\n",
    "# Accessing Nonexistent Index in Lists\n",
    "my_list = [1, 2, 3]\n",
    "try:\n",
    "    value = my_list[10]  # Accessing index out of range\n",
    "except IndexError:\n",
    "    print(\"Index out of range\")"
   ]
  },
  {
   "cell_type": "code",
   "execution_count": 20,
   "id": "5a14d0c4",
   "metadata": {},
   "outputs": [
    {
     "name": "stdout",
     "output_type": "stream",
     "text": [
      "\n"
     ]
    }
   ],
   "source": [
    "'''Ans 5:- Two methods for specifying actions to be executed at termination time,\n",
    "regardless of whether or not an exception exists, are using the try-finally construct and\n",
    "the atexit module:-\n",
    "\n",
    "1. Using try-finally:  The try-finally construct allows us to define a block of\n",
    "code that will be executed regardless of whether an exception is raised or not.\n",
    "This is useful for cleanup operations.\n",
    "\n",
    "2. Using the atexit Module:  The atexit module provides a way to register\n",
    "functions that will be called when the script is about to exit, whether normally or due\n",
    "to an exception.\n",
    "\n",
    "In both cases, these methods ensure that specified actions are executed at\n",
    "termination, regardless of the presence of exceptions.'''"
   ]
  }
 ],
 "metadata": {
  "kernelspec": {
   "display_name": "Python 3 (ipykernel)",
   "language": "python",
   "name": "python3"
  },
  "language_info": {
   "codemirror_mode": {
    "name": "ipython",
    "version": 3
   },
   "file_extension": ".py",
   "mimetype": "text/x-python",
   "name": "python",
   "nbconvert_exporter": "python",
   "pygments_lexer": "ipython3",
   "version": "3.10.9"
  }
 },
 "nbformat": 4,
 "nbformat_minor": 5
}
