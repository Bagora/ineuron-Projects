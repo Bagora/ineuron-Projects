{
 "cells": [
  {
   "cell_type": "markdown",
   "id": "18aaf5c7",
   "metadata": {},
   "source": [
    "## Python_Advanced_Assignment_5\n",
    "1. What is the meaning of multiple inheritance?\n",
    "2. What is the concept of delegation?\n",
    "3. What is the concept of composition?\n",
    "4. What are bound methods and how do we use them?\n",
    "5. What is the purpose of pseudoprivate attributes?"
   ]
  },
  {
   "cell_type": "code",
   "execution_count": 2,
   "id": "34a2b9ee",
   "metadata": {},
   "outputs": [
    {
     "name": "stdout",
     "output_type": "stream",
     "text": [
      "Method A from class A\n",
      "Method B from class B\n",
      "Method C from class C\n"
     ]
    }
   ],
   "source": [
    "'''Ans 1:- Multiple inheritance refers to a programming concept where a class can inherit\n",
    "attributes and methods from more than one parent class. This enables a subclass to\n",
    "acquire features from multiple sources, aiding code reuse and promoting modular\n",
    "design. However, multiple inheritance can lead to complexity due to potential\n",
    "conflicts in inherited attributes or methods.In this example, class C inherits from both\n",
    "classes A and B, showcasing multiple inheritance. The instance of class C can access\n",
    "methods from both parent classes A and B, demonstrating how multiple inheritance can\n",
    "bring functionalities from multiple sources into a single class.'''\n",
    "\n",
    "class A:\n",
    "    def method_A(self):\n",
    "        print(\"Method A from class A\")\n",
    "\n",
    "class B:\n",
    "    def method_B(self):\n",
    "        print(\"Method B from class B\")\n",
    "\n",
    "class C(A, B):\n",
    "    def method_C(self):\n",
    "        print(\"Method C from class C\")\n",
    "\n",
    "obj = C()\n",
    "obj.method_A()\n",
    "obj.method_B()  \n",
    "obj.method_C()  "
   ]
  },
  {
   "cell_type": "code",
   "execution_count": 3,
   "id": "700fed97",
   "metadata": {},
   "outputs": [
    {
     "name": "stdout",
     "output_type": "stream",
     "text": [
      "Manager Carol delegates work to Ron.\n",
      "Ron is coding.\n"
     ]
    }
   ],
   "source": [
    "'''Ans 2:- Delegation is a design principle in object-oriented programming where an\n",
    "object forwards certain responsibilities or tasks to another object. Instead of\n",
    "inheriting behavior, an object delegates specific tasks to other objects, promoting code\n",
    "reusability and separation of concerns. This allows for more flexible and modular designs\n",
    "compared to traditional inheritance.In this example, the Manager class delegates the\n",
    "responsibility of performing work to the associated Worker object (e.g., Developer or\n",
    "Tester). This way, delegation allows for flexible assignment of tasks and decouples the\n",
    "manager's behavior from the specifics of the worker's tasks.'''\n",
    "\n",
    "class Worker:\n",
    "    def __init__(self, name):\n",
    "        self.name = name\n",
    "\n",
    "    def work(self):\n",
    "        pass\n",
    "\n",
    "class Manager:\n",
    "    def __init__(self, name, worker):\n",
    "        self.name = name\n",
    "        self.worker = worker\n",
    "\n",
    "    def delegate_work(self):\n",
    "        print(f\"Manager {self.name} delegates work to {self.worker.name}.\")\n",
    "        self.worker.work()\n",
    "\n",
    "class Developer(Worker):\n",
    "    def work(self):\n",
    "        print(f\"{self.name} is coding.\")\n",
    "\n",
    "class Tester(Worker):\n",
    "    def work(self):\n",
    "        print(f\"{self.name} is testing.\")\n",
    "\n",
    "dev = Developer(\"Ron\")\n",
    "tester = Tester(\"Bob\")\n",
    "manager = Manager(\"Carol\", dev)\n",
    "\n",
    "manager.delegate_work()"
   ]
  },
  {
   "cell_type": "code",
   "execution_count": 4,
   "id": "7a9038c2",
   "metadata": {},
   "outputs": [
    {
     "name": "stdout",
     "output_type": "stream",
     "text": [
      "Car starting...\n",
      "Engine started\n"
     ]
    }
   ],
   "source": [
    "'''Ans 3:- Composition is a fundamental concept in object-oriented programming where a\n",
    "class is constructed by incorporating instances of other classes as its components\n",
    "or parts. It enables creating complex objects by assembling simpler ones,\n",
    "promoting code reusability, and establishing a \"has-a\" relationship. Composition is\n",
    "often favored over inheritance when building flexible and maintainable code\n",
    "structures.In this example, the Car class is composed of an Engine object. When the start\n",
    "method of Car is called, it internally invokes the start method of its composed\n",
    "Engine instance. This demonstrates composition, where a more complex object (a car)\n",
    "is built by assembling simpler objects (an engine). This approach allows for\n",
    "better encapsulation, flexibility, and separation of concerns.'''\n",
    "\n",
    "class Engine:\n",
    "    def start(self):\n",
    "        print(\"Engine started\")\n",
    "\n",
    "class Car:\n",
    "    def __init__(self):\n",
    "        self.engine = Engine()\n",
    "\n",
    "    def start(self):\n",
    "        print(\"Car starting...\")\n",
    "        self.engine.start()\n",
    "\n",
    "my_car = Car()\n",
    "my_car.start()"
   ]
  },
  {
   "cell_type": "code",
   "execution_count": 5,
   "id": "be0d4c05",
   "metadata": {},
   "outputs": [
    {
     "name": "stdout",
     "output_type": "stream",
     "text": [
      "Buddy says woof!\n",
      "Max says woof!\n"
     ]
    }
   ],
   "source": [
    "'''Ans 4:- Bound methods in Python are functions that are associated with a specific\n",
    "instance of a class. When you call a bound method, the instance on which the method was\n",
    "invoked is automatically passed as the first argument (usually named self). This\n",
    "allows the method to access and manipulate the instance's attributes and behavior.In\n",
    "this example, the bark method is a bound method of the Dog class. When you call\n",
    "dog1.bark(), the instance dog1 is automatically passed as self, allowing the method to\n",
    "access the instance's name attribute and produce the appropriate output. Bound\n",
    "methods facilitate encapsulation and enable objects to perform actions based on their\n",
    "individual attributes.'''\n",
    "\n",
    "class Dog:\n",
    "    def __init__(self, name):\n",
    "        self.name = name\n",
    "\n",
    "    def bark(self):\n",
    "        print(f\"{self.name} says woof!\")\n",
    "\n",
    "# Creating instances of the Dog class\n",
    "dog1 = Dog(\"Buddy\")\n",
    "dog2 = Dog(\"Max\")\n",
    "\n",
    "# Calling the bound method on instances\n",
    "dog1.bark()\n",
    "dog2.bark()"
   ]
  },
  {
   "cell_type": "code",
   "execution_count": 6,
   "id": "1f28b7ad",
   "metadata": {},
   "outputs": [
    {
     "name": "stdout",
     "output_type": "stream",
     "text": [
      "42\n"
     ]
    }
   ],
   "source": [
    "'''Ans 5:- Pseudoprivate attributes, often indicated by a double underscore prefix (e.g.,\n",
    "__attribute), are used in Python to create a level of name mangling that makes attributes\n",
    "harder to accidentally override in subclasses. They are not truly private and can\n",
    "still be accessed, but their names are modified to include the class name,\n",
    "discouraging direct usage and reducing the chances of unintentional name clashes.In this\n",
    "example, __secret_value is a pseudoprivate attribute. While it can be accessed using\n",
    "the mangled name obj._MyClass__secret_value, the intention is to limit direct\n",
    "access and prevent accidental name conflicts. Pseudoprivate attributes are helpful in\n",
    "maintaining encapsulation while still allowing some level of access when necessary, thus\n",
    "supporting the principle of \"we're all consenting adults here.\"'''\n",
    "\n",
    "class MyClass:\n",
    "    def __init__(self):\n",
    "        self.__secret_value = 42\n",
    "\n",
    "obj = MyClass()\n",
    "print(obj._MyClass__secret_value)  # Accessing pseudoprivate attribute"
   ]
  },
  {
   "cell_type": "code",
   "execution_count": null,
   "id": "a96c13e0",
   "metadata": {},
   "outputs": [],
   "source": []
  }
 ],
 "metadata": {
  "kernelspec": {
   "display_name": "Python 3 (ipykernel)",
   "language": "python",
   "name": "python3"
  },
  "language_info": {
   "codemirror_mode": {
    "name": "ipython",
    "version": 3
   },
   "file_extension": ".py",
   "mimetype": "text/x-python",
   "name": "python",
   "nbconvert_exporter": "python",
   "pygments_lexer": "ipython3",
   "version": "3.10.9"
  }
 },
 "nbformat": 4,
 "nbformat_minor": 5
}
