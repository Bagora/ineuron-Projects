{
 "cells": [
  {
   "cell_type": "markdown",
   "id": "6b8130ec",
   "metadata": {},
   "source": [
    "## Python_Advanced_Assignment_22\n",
    "1. What are the benefits of the built-in array package, if any?\n",
    "2. What are some of the array package's limitations?\n",
    "3. Describe the main differences between the array and numpy packages.\n",
    "4. Explain the distinctions between the empty, ones, and zeros functions.\n",
    "5. In the fromfunction function, which is used to construct new arrays, what is the role of the callable argument?\n",
    "6. What happens when a numpy array is combined with a single-value operand (a scalar, such as an int or a floating-point value) through addition, as in the expression A + n?\n",
    "7. Can array-to-scalar operations use combined operation-assign operators (such as += or *=)? What is the outcome?\n",
    "8. Does a numpy array contain fixed-length strings? What happens if you allocate a longer string to one of these arrays?\n",
    "9. What happens when you combine two numpy arrays using an operation like addition (+) or multiplication (*)? What are the conditions for combining two numpy arrays?\n",
    "10. What is the best way to use a Boolean array to mask another array?\n",
    "11. What are three different ways to get the standard deviation of a wide collection of data using both standard Python and its packages? Sort the three of them by how quickly they execute.\n",
    "12. What is the dimensionality of a Boolean mask-generated array?"
   ]
  },
  {
   "cell_type": "code",
   "execution_count": 10,
   "id": "ac8d4d7d",
   "metadata": {},
   "outputs": [
    {
     "name": "stdout",
     "output_type": "stream",
     "text": [
      "18.0\n"
     ]
    }
   ],
   "source": [
    "'''Ans 1:- \n",
    "Python's built-in array module provides an alternative to lists for handling\n",
    "arrays of a specific data type. While lists can hold elements of different types,\n",
    "arrays created using the array module are more memory-efficient and can only contain\n",
    "elements of a single specified data type. This can be especially useful when dealing\n",
    "with large datasets to save memory.\n",
    "\n",
    "In summary, the array module's benefits include memory efficiency, better\n",
    "performance for numerical computations, type control, and memory compactness, making it a\n",
    "valuable option for tasks involving large homogeneous datasets where memory\n",
    "optimization is crucial. Keep in mind that Python's ecosystem includes additional libraries\n",
    "like NumPy that offer more advanced array manipulation capabilities.\n",
    "\n",
    "\n",
    "Benefits:\n",
    "1. Memory Efficiency: Arrays use less memory than lists since they store\n",
    "elements of the same data type.\n",
    "2. Performance: Arrays can offer better performance for numerical operations compared to lists.\n",
    "3. Type Control: You can ensure that only elements of a specific type are stored in the array.\n",
    "4. Compact: Arrays are more compact in memory, suitable for scenarios with limited memory resources.\n",
    "\n",
    "Typecode must be:- b, B, u, h, H, i, I, l, L, q, Q, f or d\n",
    "'''\n",
    "\n",
    "from array import array\n",
    "\n",
    "# Create an array of integers\n",
    "int_array = array('d', [1.1, 2.9, 3.5, 4.8, 5.7])\n",
    "\n",
    "# Calculate the sum of array elements\n",
    "sum_elements = sum(int_array)\n",
    "print(sum_elements)"
   ]
  },
  {
   "cell_type": "code",
   "execution_count": 14,
   "id": "bc68789f",
   "metadata": {},
   "outputs": [
    {
     "name": "stdout",
     "output_type": "stream",
     "text": [
      "[1.0, 2.5, 3.700000047683716]\n"
     ]
    }
   ],
   "source": [
    "'''Ans 2:- The array package in Python offers memory-efficient arrays with specific data\n",
    "types, but it also has limitations to consider:-\n",
    "\n",
    "1. Fixed Type: Arrays are restricted to a single data type, unlike lists that can\n",
    "hold mixed types. This limits flexibility when dealing with heterogeneous data.\n",
    "\n",
    "2. Limited Operations: Arrays lack the extensive methods of lists. While you\n",
    "can't use common list methods directly, you can convert arrays to lists and vice\n",
    "versa to perform those operations.\n",
    "\n",
    "3. No Built-in Dynamic Resizing: Arrays have a fixed size upon creation. If you\n",
    "need to resize an array, you have to create a new one and copy data, making dynamic\n",
    "resizing less convenient.\n",
    "\n",
    "In summary, the array package's limitations include the inability to hold\n",
    "mixed data types, a reduced set of methods, and the lack of built-in dynamic\n",
    "resizing. While it's suitable for specific memory-efficient tasks with homogeneous data,\n",
    "its inflexibility and lack of versatility might not suit all use cases.\n",
    "\n",
    "Limitations:\n",
    "1. Homogeneous Type: Only elements of the same data type can be stored in an array.\n",
    "2. Limited Methods: Array methods are more limited compared to lists.\n",
    "3. Fixed Size: Array size is determined at creation and can't be dynamically changed.'''\n",
    "\n",
    "from array import array\n",
    "\n",
    "# Create an array of floats\n",
    "float_array = array('f', [1.0, 2.5, 3.7])\n",
    "\n",
    "\n",
    "# Example: Converting an array to a list\n",
    "float_list = list(float_array)\n",
    "print(float_list)"
   ]
  },
  {
   "cell_type": "code",
   "execution_count": 16,
   "id": "1b5a4abd",
   "metadata": {},
   "outputs": [
    {
     "name": "stdout",
     "output_type": "stream",
     "text": [
      "array('d', [1.0, 2.5, 3.7])\n"
     ]
    }
   ],
   "source": [
    "# Using the decimal module ensures accurate decimal representation\n",
    "\n",
    "from decimal import Decimal\n",
    "\n",
    "# Create an array of Decimals\n",
    "decimal_array = array('d', [Decimal('1.0'), Decimal('2.5'), Decimal('3.7')])\n",
    "print(decimal_array)\n",
    "\n",
    "# Now the array contains precise decimal values"
   ]
  },
  {
   "cell_type": "code",
   "execution_count": 20,
   "id": "691075b0",
   "metadata": {},
   "outputs": [
    {
     "name": "stdout",
     "output_type": "stream",
     "text": [
      "int_array array('i', [1, 2, 3, 4, 5, 1, 2, 3, 4, 5]) and np_array [ 2  4  6  8 10]\n"
     ]
    }
   ],
   "source": [
    "'''Ans 3:- Both the array module and the NumPy package are used to handle\n",
    "arrays in Python, but they serve different purposes and offer varying\n",
    "features:-\n",
    "\n",
    "1. Functionality:-\n",
    "array: Provides basic arrays with fixed data types,\n",
    "suitable for simple tasks and memory optimization.\n",
    "\n",
    "NumPy: Offers advanced multidimensional arrays with \n",
    "a wide range of mathematical and array operations for\n",
    "scientific computing.\n",
    "\n",
    "2. Data Types:-\n",
    "array: Limited data types compared to NumPy.\n",
    "\n",
    "NumPy: Supports a broader range of data types\n",
    "and user-defined data types.\n",
    "\n",
    "3. Operations:- \n",
    "array: Basic operations for iteration and simple calculations.\n",
    "\n",
    "In summary, while the array module is suitable for basic\n",
    "array storage with memory efficiency, NumPy excels in scientific\n",
    "computing with its powerful array operations and multidimensional\n",
    "array support. If your tasks involve complex mathematical\n",
    "computations, NumPy is generally a more suitable choice.'''\n",
    "\n",
    "# Using array\n",
    "from array import array\n",
    "int_array = array('i', [1, 2, 3, 4, 5])\n",
    "\n",
    "# Using NumPy\n",
    "import numpy as np\n",
    "np_array = np.array([1, 2, 3, 4, 5])\n",
    "\n",
    "# Element-wise multiplication\n",
    "int_array *= 2  # Performs scalar multiplication\n",
    "np_array *= 2   # Performs element-wise multiplication\n",
    "\n",
    "print(f\"int_array {int_array} and np_array {np_array}\")"
   ]
  },
  {
   "cell_type": "code",
   "execution_count": 21,
   "id": "8ec87dc4",
   "metadata": {},
   "outputs": [
    {
     "name": "stdout",
     "output_type": "stream",
     "text": [
      "Element-wise result: [ 2  6 12 20 30]\n",
      "Scalar-wise result: [ 2  4  6  8 10]\n"
     ]
    }
   ],
   "source": [
    "'''\n",
    "In this example, element-wise multiplication combines\n",
    "corresponding elements from array1 and array2, while scalar-wise\n",
    "multiplication multiplies each element of array1 by the scalar value 2.\n",
    "\n",
    "'''\n",
    "import numpy as np\n",
    "\n",
    "# Element-wise multiplication\n",
    "array1 = np.array([1, 2, 3, 4, 5])\n",
    "array2 = np.array([2, 3, 4, 5, 6])\n",
    "result_element_wise = array1 * array2  # [1*2, 2*3, 3*4, 4*5, 5*6]\n",
    "\n",
    "# Scalar-wise multiplication\n",
    "scalar = 2\n",
    "result_scalar_wise = array1 * scalar  # [1*2, 2*2, 3*2, 4*2, 5*2]\n",
    "\n",
    "print(f\"Element-wise result: {result_element_wise}\")\n",
    "print(f\"Scalar-wise result: {result_scalar_wise}\")"
   ]
  },
  {
   "cell_type": "code",
   "execution_count": 22,
   "id": "df055835",
   "metadata": {},
   "outputs": [
    {
     "name": "stdout",
     "output_type": "stream",
     "text": [
      "Empty Array:\n",
      "[[4.67296746e-307 1.69121096e-306 1.11260483e-306]\n",
      " [6.23053614e-307 2.22526399e-307 6.23053614e-307]\n",
      " [7.56592338e-307 9.34588061e-307 3.62651150e-317]]\n",
      "\n",
      "Ones Array:\n",
      "[[1. 1. 1. 1.]\n",
      " [1. 1. 1. 1.]]\n",
      "\n",
      "Zeros Array:\n",
      "[[0. 0.]\n",
      " [0. 0.]\n",
      " [0. 0.]\n",
      " [0. 0.]\n",
      " [0. 0.]]\n"
     ]
    }
   ],
   "source": [
    "'''Ans 4:- The empty, ones, and zeros functions are part of the NumPy\n",
    "package in Python and are used to create arrays with specific\n",
    "characteristics. Here are the distinctions between these functions:\n",
    "\n",
    "1. numpy.empty:-  \n",
    "This function creates a new array without initializing its values.\n",
    "The array elements will initially contain whatever values were \n",
    "already present in the allocated memory, which could be random\n",
    "and not predictable.\n",
    "\n",
    "It's useful when you need an array with a specific shape but \n",
    "don't require initial values, and you plan to fill it with data later.\n",
    "\n",
    "2. numpy.ones:-\n",
    "\n",
    "This function creates a new array filled with ones. You\n",
    "can specify the shape of the array using a tuple.\n",
    "\n",
    "It's commonly used when initializing arrays for\n",
    "mathematical operations, as ones are neutral elements in many\n",
    "operations (like multiplication).\n",
    "\n",
    "3. numpy.zeros:-\n",
    "\n",
    "This function creates a new array filled with zeros. Like\n",
    "numpy.ones, you can specify the shape of the array using a tuple.\n",
    "\n",
    "It's often used to initialize arrays before filling them\n",
    "with actual data.\n",
    "\n",
    "As empty creates an array without initializing values, \n",
    "which means the initial values are unpredictable and could vary\n",
    "between runs or systems. If we need specific initial values, use\n",
    "ones or zeros to ensure a well-defined starting point for our\n",
    "array.'''\n",
    "\n",
    "import numpy as np\n",
    "\n",
    "# Creating arrays using the functions\n",
    "empty_array = np.empty((3, 3))  # Create a 3x3 array with uninitialized values\n",
    "ones_array = np.ones((2, 4))    # Create a 2x4 array filled with ones\n",
    "zeros_array = np.zeros((5, 2))  # Create a 5x2 array filled with zeros\n",
    "\n",
    "print(\"Empty Array:\")\n",
    "print(empty_array)\n",
    "\n",
    "print(\"\\nOnes Array:\")\n",
    "print(ones_array)\n",
    "\n",
    "print(\"\\nZeros Array:\")\n",
    "print(zeros_array)"
   ]
  },
  {
   "cell_type": "code",
   "execution_count": 23,
   "id": "4812baff",
   "metadata": {},
   "outputs": [
    {
     "name": "stdout",
     "output_type": "stream",
     "text": [
      "[[0. 1. 2.]\n",
      " [1. 2. 3.]\n",
      " [2. 3. 4.]]\n"
     ]
    }
   ],
   "source": [
    "'''Ans 5:- The fromfunction function in NumPy is used to construct\n",
    "new arrays by applying a given function to each coordinate\n",
    "along the specified shape. The role of the callable argument in\n",
    "the fromfunction function is to provide a function that\n",
    "calculates the values for the elements of the resulting array based\n",
    "on their indices (coordinates) within the array.\n",
    "\n",
    "In this example, the my_function callable takes two\n",
    "arguments (x and y) which represent the indices of the array\n",
    "elements along their respective dimensions. The fromfunction\n",
    "function uses this callable to populate the array with values based\n",
    "on the function's result for each combination of indices.\n",
    "\n",
    "So, the callable argument's role is crucial in determining\n",
    "how the values are computed for each element of the newly\n",
    "created array based on its indices. It allows you to create arrays\n",
    "with customized patterns or calculations.'''\n",
    "\n",
    "import numpy as np\n",
    "\n",
    "# Define a callable function\n",
    "def my_function(x, y):\n",
    "    return x + y\n",
    "\n",
    "# Create a 3x3 array using the fromfunction function\n",
    "result_array = np.fromfunction(my_function, (3, 3))\n",
    "print(result_array)"
   ]
  },
  {
   "cell_type": "code",
   "execution_count": 25,
   "id": "24c1b38e",
   "metadata": {},
   "outputs": [
    {
     "name": "stdout",
     "output_type": "stream",
     "text": [
      "[[11 12 13]\n",
      " [14 15 16]]\n"
     ]
    }
   ],
   "source": [
    "'''Ans 6:- When a NumPy array is combined with a single-value operand\n",
    "through addition (A + n), NumPy performs element-wise addition.\n",
    "The scalar value n is added to each element in the array A,\n",
    "creating a new array with the same shape as A.\n",
    "\n",
    "Each element of the array A is added with the scalar n,\n",
    "resulting in an array where each element is increased by 10. This\n",
    "behavior of element-wise addition makes it convenient to apply\n",
    "scalar operations to entire arrays without the need for explicit\n",
    "loops.'''\n",
    "\n",
    "import numpy as np\n",
    "\n",
    "A = np.array([[1, 2, 3],\n",
    "              [4, 5, 6]])\n",
    "n = 10\n",
    "\n",
    "# Element-wise addition of scalar n to each element in array A\n",
    "result = A + n  \n",
    "print(result)"
   ]
  },
  {
   "cell_type": "code",
   "execution_count": 29,
   "id": "7d79161a",
   "metadata": {},
   "outputs": [
    {
     "name": "stdout",
     "output_type": "stream",
     "text": [
      "[21 22 23 24 25]\n",
      "[ 20  40  60  80 100]\n"
     ]
    }
   ],
   "source": [
    "'''Ans 7:- Yes, array-to-scalar operations can use combined\n",
    "operation-assign operators like += or *=. When these operators are used,\n",
    "the scalar value is combined with each element of the array,\n",
    "and the result is assigned back to the original array. This\n",
    "modifies the array in place.In the example, A += 20 adds 20 to each\n",
    "element in array A, and B *= 20 multiplies each element in array B\n",
    "by 20. The original arrays are modified in place to reflect\n",
    "the results of the combined operation-assign operators.'''\n",
    "\n",
    "import numpy as np\n",
    "\n",
    "A = np.array([1, 2, 3, 4, 5])\n",
    "\n",
    "# Using combined operation-assign operators\n",
    "# Adds 10 to each element of the array A\n",
    "A += 20  \n",
    "print(A)\n",
    "\n",
    "B = np.array([1, 2, 3, 4, 5])\n",
    "\n",
    "# Using combined operation-assign operators\n",
    "# Multiplies each element of the array B by 2\n",
    "B *= 20   \n",
    "print(B)"
   ]
  },
  {
   "cell_type": "code",
   "execution_count": 33,
   "id": "a370012d",
   "metadata": {},
   "outputs": [
    {
     "name": "stdout",
     "output_type": "stream",
     "text": [
      "[b'pineap' b'banana' b'cherry']\n"
     ]
    }
   ],
   "source": [
    "'''Ans 8:- In NumPy, arrays can contain fixed-length strings. When\n",
    "creating a NumPy array with a specified data type, we can use the S\n",
    "specifier followed by a number to indicate the maximum string\n",
    "length.  If we attempt to allocate a longer string to an array\n",
    "element than its specified fixed length, NumPy will truncate the\n",
    "string to fit within the specified length. No error or warning\n",
    "will be raised. \n",
    "\n",
    "In the example, the original string 'pineapple' is longer\n",
    "than the fixed length of 6 characters specified for the\n",
    "str_array. When assigned, the string is truncated to fit within the\n",
    "specified length, resulting in 'pineap'. This behavior ensures that\n",
    "the array elements conform to the defined data type and\n",
    "length.'''\n",
    "\n",
    "import numpy as np\n",
    "\n",
    "# Creating a NumPy array with fixed-length strings limited to 6 characters\n",
    "str_array = np.array(['apple', 'banana', 'cherry'], dtype='S6')  \n",
    "\n",
    "# Attempt to allocate a longer string\n",
    "# 'pineapple' is truncated to 'pineap'\n",
    "str_array[0] = 'pineapple'  \n",
    "print(str_array)"
   ]
  },
  {
   "cell_type": "code",
   "execution_count": 34,
   "id": "281fc762",
   "metadata": {},
   "outputs": [
    {
     "name": "stdout",
     "output_type": "stream",
     "text": [
      "Addition: [5 7 9]\n",
      "Multiplication: [ 4 10 18]\n"
     ]
    }
   ],
   "source": [
    "'''Ans 9:- When we combine two NumPy arrays using addition (+) or\n",
    "multiplication (*), the arrays are combined element-wise. This means that\n",
    "corresponding elements from both arrays are operated on, resulting in a\n",
    "new array with the same shape as the input arrays.\n",
    "\n",
    "Conditions for Combining:-\n",
    "\n",
    "1. The arrays must have compatible shapes, which usually\n",
    "means the same dimensions or dimensions that can be broadcasted\n",
    "(extended to match).\n",
    "\n",
    "In this example, the arrays A and B are combined\n",
    "element-wise using both addition and multiplication. The conditions for\n",
    "combining are met since both arrays have the same shape. The result\n",
    "arrays are [5, 7, 9] for addition and [4, 10, 18] for\n",
    "multiplication, where each element is the result of the respective\n",
    "operation applied to the corresponding elements from A and B.'''\n",
    "\n",
    "import numpy as np\n",
    "\n",
    "A = np.array([1, 2, 3])\n",
    "B = np.array([4, 5, 6])\n",
    "\n",
    "# Element-wise addition\n",
    "result_addition = A + B\n",
    "\n",
    "# Element-wise multiplication\n",
    "result_multiplication = A * B  \n",
    "\n",
    "print(\"Addition:\", result_addition)\n",
    "print(\"Multiplication:\", result_multiplication)"
   ]
  },
  {
   "cell_type": "code",
   "execution_count": 39,
   "id": "58ffc615",
   "metadata": {},
   "outputs": [
    {
     "name": "stdout",
     "output_type": "stream",
     "text": [
      "Masked [10 30 50]\n"
     ]
    }
   ],
   "source": [
    "'''Ans 10:- The best way to use a Boolean array to mask another array\n",
    "in NumPy is to directly use the Boolean array as an index to\n",
    "select the desired elements from the target array. This process\n",
    "is often referred to as \"array masking\" or \"Boolean\n",
    "indexing.\"\n",
    "\n",
    "In this example, the Boolean array mask is used to select\n",
    "elements from the data array. The True values in the mask\n",
    "correspond to the positions of elements to be selected. The resulting\n",
    "masked_data array contains only the elements from data where the\n",
    "corresponding positions in the mask are True.  This approach is\n",
    "efficient and concise, enabling us to filter and manipulate arrays\n",
    "based on specific conditions using Boolean arrays as masks.'''\n",
    "\n",
    "import numpy as np\n",
    "\n",
    "data = np.array([10, 20, 30, 40, 50])\n",
    "mask = np.array([True, False, True, False, True])\n",
    "\n",
    "masked_data = data[mask]\n",
    "print(f\"Masked {masked_data}\")"
   ]
  },
  {
   "cell_type": "code",
   "execution_count": 43,
   "id": "811b8c49",
   "metadata": {},
   "outputs": [
    {
     "name": "stdout",
     "output_type": "stream",
     "text": [
      "NumPy Package:- 14.142135623730951 \n",
      "Statistics Module:- 15.811388300841896 \n",
      "Pure Python:- 14.142135623730951\n"
     ]
    }
   ],
   "source": [
    "'''Ans 11:- Sorting algorithms based on execution speed can be\n",
    "influenced by various factors, including data size and computer\n",
    "hardware. However, here are three ways to calculate the standard\n",
    "deviation using standard Python and its packages, ranked by general\n",
    "execution speed:-\n",
    "\n",
    "1. NumPy Package (Fastest): NumPy's built-in numpy.std()\n",
    "function is highly optimized for fast array calculations.\n",
    "\n",
    "2. Statistics Module (Moderate): The statistics module in the\n",
    "Python standard library offers a stdev() function for calculating\n",
    "the standard deviation\n",
    "\n",
    "3. Pure Python (Slower): Calculating the standard deviation\n",
    "from scratch using pure Python is slower for larger datasets\n",
    "\n",
    "In terms of speed, NumPy is generally the fastest due to\n",
    "its optimized C implementation. The statistics module provides\n",
    "a moderate balance between speed and simplicity, while pure\n",
    "Python code is slower for larger datasets due to its interpreted\n",
    "nature.'''\n",
    "\n",
    "# NumPy Package\n",
    "import numpy as np\n",
    "data = np.array([10, 20, 30, 40, 50])\n",
    "std_numpy = np.std(data)\n",
    "\n",
    "\n",
    "# Statistics Module\n",
    "import statistics\n",
    "data = [10, 20, 30, 40, 50]\n",
    "std_stats = statistics.stdev(data)\n",
    "\n",
    "# Pure Python \n",
    "data = [10, 20, 30, 40, 50]\n",
    "mean = sum(data) / len(data)\n",
    "squared_diffs = [(x - mean) ** 2 for x in data]\n",
    "std_pure_python = (sum(squared_diffs) / len(data)) ** 0.5\n",
    "\n",
    "print(f\"NumPy Package:- {std_numpy} \\nStatistics Module:- {std_stats} \\nPure Python:- {std_pure_python}\")"
   ]
  },
  {
   "cell_type": "code",
   "execution_count": 46,
   "id": "a88bcea5",
   "metadata": {},
   "outputs": [
    {
     "name": "stdout",
     "output_type": "stream",
     "text": [
      "[1 3 5 7 9]\n"
     ]
    }
   ],
   "source": [
    "'''Ans 12:- A Boolean mask-generated array takes on a dimensionality\n",
    "determined by the shape of the mask itself. When using a Boolean mask\n",
    "to index an array, the resulting array retains the dimensions\n",
    "of the mask. For instance, if you have a 2D array and apply a\n",
    "Boolean mask to it, the resulting array will also be 2D, with\n",
    "values filled where the mask is True and masked (usually False)\n",
    "elsewhere.\n",
    "\n",
    "The resulting array has a dimensionality of 1,\n",
    "corresponding to the flattened version of the original array where the\n",
    "mask is True. In general, the dimensionality of a Boolean\n",
    "mask-generated array mirrors the shape of the mask, with True values\n",
    "indicating which elements from the original array are selected.'''\n",
    "\n",
    "import numpy as np\n",
    "# 2D array A\n",
    "A = np.array([[1, 2, 3],\n",
    "              [4, 5, 6],\n",
    "              [7, 8, 9]])\n",
    "\n",
    "# Boolean mask M\n",
    "M = np.array([[True, False, True],\n",
    "              [False, True, False],\n",
    "              [True, False, True]])\n",
    "\n",
    "result = A[M]\n",
    "print(result)"
   ]
  }
 ],
 "metadata": {
  "kernelspec": {
   "display_name": "Python 3 (ipykernel)",
   "language": "python",
   "name": "python3"
  },
  "language_info": {
   "codemirror_mode": {
    "name": "ipython",
    "version": 3
   },
   "file_extension": ".py",
   "mimetype": "text/x-python",
   "name": "python",
   "nbconvert_exporter": "python",
   "pygments_lexer": "ipython3",
   "version": "3.10.9"
  }
 },
 "nbformat": 4,
 "nbformat_minor": 5
}
