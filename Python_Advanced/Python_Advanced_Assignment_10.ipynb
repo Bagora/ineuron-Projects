{
 "cells": [
  {
   "cell_type": "markdown",
   "id": "03a0ff8f",
   "metadata": {},
   "source": [
    "## Python_Advanced_Assignment_10\n",
    "1. What is the difference between __getattr__ and __getattribute__?\n",
    "2. What is the difference between properties and descriptors?\n",
    "3. What are the key differences in functionality between __getattr__ and __getattribute__, as well as properties and descriptors?"
   ]
  },
  {
   "cell_type": "code",
   "execution_count": 8,
   "id": "23b56666",
   "metadata": {},
   "outputs": [
    {
     "name": "stdout",
     "output_type": "stream",
     "text": [
      "Accessing attribute using __getattribute__: age\n",
      "Accessing attribute using __getattribute__: dynamic_data\n",
      "Accessing attribute using __getattribute__: dynamic_data\n",
      "30\n",
      "Accessing attribute using __getattribute__: name\n",
      "Accessing attribute using __getattribute__: dynamic_data\n",
      "Accessing attribute using __getattribute__: dynamic_data\n",
      "Alice\n",
      "Accessing attribute using __getattribute__: height\n",
      "Accessing attribute using __getattribute__: dynamic_data\n",
      "'DynamicAttributes' object has no attribute 'height'\n"
     ]
    }
   ],
   "source": [
    "'''Ans 1:- getattr and getattribute are both built-in methods in Python, but they serve\n",
    "different purposes and are used in different contexts.\n",
    "\n",
    "getattr: This function is used to retrieve the value of an attribute from an\n",
    "object. It takes three arguments: the object, the attribute name as a string, and an\n",
    "optional default value to return if the attribute doesn't exist.\n",
    "\n",
    "__getattribute__: This special method is automatically called whenever an\n",
    "attribute is accessed on an object. It allows you to define custom behavior for\n",
    "attribute access. However, using it incorrectly can lead to infinite recursion, so it\n",
    "should be used with caution.\n",
    "\n",
    "In summary, getattr is a built-in function used to retrieve attribute values\n",
    "from objects, while __getattribute__ is a special method that allows you to\n",
    "customize attribute access behavior. The latter should be used carefully due to the\n",
    "potential for unintended side effects.\n",
    "\n",
    "'''\n",
    "class DynamicAttributes:\n",
    "    def __init__(self):\n",
    "        self.dynamic_data = {\"age\": 30, \"name\": \"Alice\"}\n",
    "\n",
    "    def __getattr__(self, name):\n",
    "        if name in self.dynamic_data:\n",
    "            return self.dynamic_data[name]\n",
    "        else:\n",
    "            raise AttributeError(f\"'DynamicAttributes' object has no attribute '{name}'\")\n",
    "\n",
    "    def __getattribute__(self, name):\n",
    "        print(f\"Accessing attribute using __getattribute__: {name}\")\n",
    "        return super().__getattribute__(name)\n",
    "\n",
    "obj = DynamicAttributes()\n",
    "\n",
    "# Using getattr to access dynamic attribute\n",
    "print(getattr(obj, \"age\"))  # Output: 30\n",
    "\n",
    "# Accessing attribute using dot notation triggers __getattribute__\n",
    "print(obj.name)  # Output: Accessing attribute using __getattribute__: name\n",
    "\n",
    "# Trying to access a non-existent attribute triggers __getattr__\n",
    "try:\n",
    "    print(obj.height)\n",
    "except AttributeError as e:\n",
    "    print(e)  # Output: 'DynamicAttributes' object has no attribute 'height'"
   ]
  },
  {
   "cell_type": "code",
   "execution_count": 9,
   "id": "7248926e",
   "metadata": {},
   "outputs": [
    {
     "name": "stdout",
     "output_type": "stream",
     "text": [
      "5\n",
      "7\n",
      "5\n",
      "7\n"
     ]
    }
   ],
   "source": [
    "'''Ans 2:- Both properties and descriptors are mechanisms in Python to control attribute\n",
    "access and provide a level of encapsulation. They help enforce data validation and\n",
    "encapsulation in classes.\n",
    "\n",
    "1. Properties: Properties are a simpler way to manage attribute access. They\n",
    "allow us to define getter, setter, and deleter methods for an attribute, but they\n",
    "are limited in functionality compared to descriptors.\n",
    "\n",
    "2. Descriptors: Descriptors provide a more powerful and flexible way to control\n",
    "attribute access. They are objects that define how attribute access is handled using\n",
    "methods like __get__, __set__, and __delete__.\n",
    "\n",
    "In summary, properties provide a straightforward way to control attribute\n",
    "access with getter and setter methods, while descriptors offer a more advanced\n",
    "mechanism for customizing attribute access using special methods. Descriptors are\n",
    "generally used for more complex cases where deeper control over attribute behavior is\n",
    "needed.'''\n",
    "\n",
    "#Properties\n",
    "class Circle:\n",
    "    def __init__(self, radius):\n",
    "        self._radius = radius\n",
    "    \n",
    "    @property\n",
    "    def radius(self):\n",
    "        return self._radius\n",
    "    \n",
    "    @radius.setter\n",
    "    def radius(self, value):\n",
    "        if value > 0:\n",
    "            self._radius = value\n",
    "\n",
    "circle = Circle(5)\n",
    "print(circle.radius)\n",
    "circle.radius = 7\n",
    "print(circle.radius)\n",
    "\n",
    "\n",
    "#Descriptors\n",
    "class Descriptor:\n",
    "    def __get__(self, instance, owner):\n",
    "        return instance._value\n",
    "    \n",
    "    def __set__(self, instance, value):\n",
    "        if value > 0:\n",
    "            instance._value = value\n",
    "\n",
    "class Circle:\n",
    "    radius = Descriptor()\n",
    "    def __init__(self, radius):\n",
    "        self.radius = radius\n",
    "\n",
    "circle = Circle(5)\n",
    "print(circle.radius)\n",
    "circle.radius = 7\n",
    "print(circle.radius)"
   ]
  },
  {
   "cell_type": "code",
   "execution_count": null,
   "id": "8a3c69cb",
   "metadata": {},
   "outputs": [],
   "source": [
    "'''Ans 3:- getattr and getattribute are both used for attribute access in Python, but\n",
    "they serve different purposes. getattr is a built-in function used to dynamically\n",
    "access attributes by name, providing a default value if the attribute doesn't exist.\n",
    "__getattribute__ is a special method that's automatically invoked for all attribute access,\n",
    "allowing customization of attribute retrieval.\n",
    "\n",
    "Properties and descriptors are mechanisms for controlling attribute access\n",
    "behavior. Properties: Properties allow the definition of methods (getter, setter,\n",
    "deleter) to manage attribute access. They provide a simple way to encapsulate attribute\n",
    "logic.  Descriptors: Descriptors are more powerful and customizable. They involve\n",
    "defining the __get__, __set__, and __delete__ methods to handle attribute access and\n",
    "modification. Descriptors allow in-depth control over how attributes are managed.\n",
    "\n",
    "In summary, getattr and getattribute differ in dynamic access and\n",
    "customization, while properties and descriptors offer varying levels of encapsulation and\n",
    "control over attribute behavior.'''"
   ]
  }
 ],
 "metadata": {
  "kernelspec": {
   "display_name": "Python 3 (ipykernel)",
   "language": "python",
   "name": "python3"
  },
  "language_info": {
   "codemirror_mode": {
    "name": "ipython",
    "version": 3
   },
   "file_extension": ".py",
   "mimetype": "text/x-python",
   "name": "python",
   "nbconvert_exporter": "python",
   "pygments_lexer": "ipython3",
   "version": "3.10.9"
  }
 },
 "nbformat": 4,
 "nbformat_minor": 5
}
