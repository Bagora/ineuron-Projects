{
 "cells": [
  {
   "cell_type": "markdown",
   "id": "bc527514",
   "metadata": {},
   "source": [
    "## Python_Advanced_Assignment_12\n",
    "1. Does assigning a value to a string's indexed character violate Python's string immutability?\n",
    "2. Does using the += operator to concatenate strings violate Python's string immutability? Why or why not?\n",
    "3. In Python, how many different ways are there to index a character?\n",
    "4. What is the relationship between indexing and slicing?\n",
    "5. What is an indexed character's exact data type? What is the data form of a slicing-generated substring?\n",
    "6. What is the relationship between string and character \"types\" in Python?\n",
    "7. Identify at least two operators and one method that allow you to combine one or more smaller strings to create a larger string.\n",
    "8. What is the benefit of first checking the target string with in or not in before using the index method to find a substring?\n",
    "9. Which operators and built-in string methods produce simple Boolean (true/false) results?"
   ]
  },
  {
   "cell_type": "code",
   "execution_count": 1,
   "id": "7e5f9f4b",
   "metadata": {},
   "outputs": [
    {
     "ename": "TypeError",
     "evalue": "'str' object does not support item assignment",
     "output_type": "error",
     "traceback": [
      "\u001b[1;31m---------------------------------------------------------------------------\u001b[0m",
      "\u001b[1;31mTypeError\u001b[0m                                 Traceback (most recent call last)",
      "Cell \u001b[1;32mIn[1], line 12\u001b[0m\n\u001b[0;32m      1\u001b[0m \u001b[38;5;124;03m'''Ans 1:- Yes, assigning a value to a string's indexed character directly violates\u001b[39;00m\n\u001b[0;32m      2\u001b[0m \u001b[38;5;124;03mPython's string immutability principle. Strings in Python are immutable, which means\u001b[39;00m\n\u001b[0;32m      3\u001b[0m \u001b[38;5;124;03mtheir individual characters cannot be changed after creation. When we attempt to\u001b[39;00m\n\u001b[1;32m   (...)\u001b[0m\n\u001b[0;32m      8\u001b[0m \u001b[38;5;124;03mchanges.This way, we are creating a new string with the desired modification while adhering\u001b[39;00m\n\u001b[0;32m      9\u001b[0m \u001b[38;5;124;03mto the principle of string immutability.'''\u001b[39;00m\n\u001b[0;32m     11\u001b[0m text \u001b[38;5;241m=\u001b[39m \u001b[38;5;124m\"\u001b[39m\u001b[38;5;124mHello, World!\u001b[39m\u001b[38;5;124m\"\u001b[39m\n\u001b[1;32m---> 12\u001b[0m text[\u001b[38;5;241m0\u001b[39m] \u001b[38;5;241m=\u001b[39m \u001b[38;5;124m'\u001b[39m\u001b[38;5;124mA\u001b[39m\u001b[38;5;124m'\u001b[39m\n",
      "\u001b[1;31mTypeError\u001b[0m: 'str' object does not support item assignment"
     ]
    }
   ],
   "source": [
    "'''Ans 1:- Yes, assigning a value to a string's indexed character directly violates\n",
    "Python's string immutability principle. Strings in Python are immutable, which means\n",
    "their individual characters cannot be changed after creation. When we attempt to\n",
    "assign a value to a specific character in a string, we will encounter a TypeError\n",
    "since strings don't support item assignment. \n",
    "\n",
    "To modify strings, we generally create new strings with the desired\n",
    "changes.This way, we are creating a new string with the desired modification while adhering\n",
    "to the principle of string immutability.'''\n",
    "\n",
    "text = \"Hello, World!\"\n",
    "text[0] = 'A'  # This will result in a TypeError"
   ]
  },
  {
   "cell_type": "code",
   "execution_count": 2,
   "id": "89c27878",
   "metadata": {},
   "outputs": [
    {
     "name": "stdout",
     "output_type": "stream",
     "text": [
      "Aello, World!\n"
     ]
    }
   ],
   "source": [
    "text = \"Hello, World!\"\n",
    "new_text = 'A' + text[1:]\n",
    "print(new_text)"
   ]
  },
  {
   "cell_type": "code",
   "execution_count": 3,
   "id": "a51f8dff",
   "metadata": {},
   "outputs": [
    {
     "name": "stdout",
     "output_type": "stream",
     "text": [
      "Hello, World!\n"
     ]
    }
   ],
   "source": [
    "'''Ans 2:- Using the += operator to concatenate strings does not violate Python's string\n",
    "immutability. While it might seem counterintuitive, the += operator creates a new string\n",
    "behind the scenes, rather than modifying the original string in place. This behavior\n",
    "is consistent with string immutability, as the original string remains unchanged.\n",
    "\n",
    "In this example, even though += is used, a new string \"Hello, World!\" is\n",
    "created, and the original string \"Hello, \" remains unaffected. This behavior ensures\n",
    "that string immutability is maintained while still allowing efficient string\n",
    "concatenation without explicitly creating new string objects.  So, while the += operator\n",
    "appears to modify the original string, it adheres to the principle of string\n",
    "immutability by creating new strings when concatenating.'''\n",
    "\n",
    "text = \"Hello, \"\n",
    "text += \"World!\"\n",
    "print(text)"
   ]
  },
  {
   "cell_type": "code",
   "execution_count": 6,
   "id": "d8625007",
   "metadata": {},
   "outputs": [
    {
     "name": "stdout",
     "output_type": "stream",
     "text": [
      "Positive Indexing:- H e\n",
      "Negative Indexing:- o l\n",
      "Slicing:- ell\n",
      "Extended Slicing:- Hlo\n",
      "Striding:- Hlo\n"
     ]
    }
   ],
   "source": [
    "'''Ans 3:- In Python, we can use various methods to index a character in a string:-\n",
    "\n",
    "1. Positive Indexing: Access characters from the beginning of the string using\n",
    "indices starting from 0.\n",
    "\n",
    "2. Negative Indexing: Access characters from the end of the string using negative\n",
    "indices.\n",
    "\n",
    "3. Slicing: Get a substring by specifying a range of indices.\n",
    "\n",
    "4. Extended Slicing: Specify a step value to skip characters in a slice.\n",
    "\n",
    "5. Striding: Access characters with a step using slice notation.\n",
    "\n",
    "Remember that indexing and slicing in Python are zero-based, meaning the first\n",
    "character is at index 0. The last index is exclusive when using slice notation.  Each of\n",
    "these methods provides a way to access and manipulate characters in a string, giving\n",
    "you flexibility in working with string data.'''\n",
    "\n",
    "# Positive Indexing\n",
    "text = \"Hello\"\n",
    "first_char = text[0]\n",
    "second_char = text[1]\n",
    "\n",
    "# Negative Indexing\n",
    "last_char = text[-1]\n",
    "second_last_char = text[-2]\n",
    "\n",
    "# Slicing\n",
    "substring = text[1:4]\n",
    "\n",
    "# Extended Slicing\n",
    "step_slice = text[0:5:2]\n",
    "\n",
    "# Striding\n",
    "strided_chars = text[::2]\n",
    "\n",
    "# Getting Results\n",
    "print(f\"Positive Indexing:- {first_char} {second_char}\")\n",
    "print(f\"Negative Indexing:- {last_char} {second_last_char}\")\n",
    "print(f\"Slicing:- {substring}\")\n",
    "print(f\"Extended Slicing:- {step_slice}\")\n",
    "print(f\"Striding:- {strided_chars}\")"
   ]
  },
  {
   "cell_type": "code",
   "execution_count": 8,
   "id": "b61fa996",
   "metadata": {},
   "outputs": [
    {
     "name": "stdout",
     "output_type": "stream",
     "text": [
      "('H', 'o')\n",
      "('ell', 'Hlo')\n"
     ]
    }
   ],
   "source": [
    "'''Ans 4:- Indexing and slicing are related concepts in Python, both used to access\n",
    "specific portions of sequences like strings, lists, and tuples. While indexing focuses\n",
    "on accessing individual elements, slicing allows you to extract a subrange of\n",
    "elements within a sequence.\n",
    "\n",
    "Indexing:- Indexing involves specifying a single position to access a specific\n",
    "element within a sequence. we use square brackets [] with the index value inside them\n",
    "to access an element. Indexing retrieves a single element at the specified\n",
    "position. Indexing can use positive (starting from 0) or negative (starting from -1)\n",
    "indices. \n",
    "\n",
    "Slicing:- Slicing involves specifying a range of positions to extract a subset\n",
    "of elements from a sequence. we use square brackets with the start, stop, and\n",
    "optional step values separated by colons [:]. Slicing retrieves a subset of elements\n",
    "from the sequence. The slice notation allows us to create a new sequence\n",
    "containing the selected elements. \n",
    "\n",
    "In summary, while indexing focuses on accessing a single element, slicing\n",
    "allows us to extract a portion of a sequence by specifying a range of indices.\n",
    "Slicing is a more versatile operation that lets you create new sequences with selected\n",
    "elements.'''\n",
    "\n",
    "# Indexing\n",
    "text = \"Hello\"\n",
    "first_char = text[0]\n",
    "last_char = text[-1]\n",
    "\n",
    "\n",
    "# Slicing\n",
    "text = \"Hello\"\n",
    "substring = text[1:4]\n",
    "step_slice = text[0:5:2]\n",
    "\n",
    "print(f\"{first_char, last_char}\")\n",
    "print(f\"{substring, step_slice}\")"
   ]
  },
  {
   "cell_type": "code",
   "execution_count": 9,
   "id": "aa12d1a9",
   "metadata": {},
   "outputs": [
    {
     "name": "stdout",
     "output_type": "stream",
     "text": [
      "<class 'str'>\n",
      "<class 'str'>\n"
     ]
    }
   ],
   "source": [
    "'''Ans 5:- An indexed character in Python is a single character (a string of length 1)\n",
    "and its exact data type is a string (str). When we access an individual character\n",
    "from a string, it's still represented as a string.\n",
    "\n",
    "A slicing-generated substring is also a string (str) data type. Slicing\n",
    "extracts a portion of a sequence (like a string), and the result is still a string\n",
    "containing the selected elements.\n",
    "\n",
    "In both cases, whether accessing an indexed character or generating a\n",
    "substring using slicing, the result is a string data type, as strings are sequences of\n",
    "characters in Python.'''\n",
    "\n",
    "text = \"Hello\"\n",
    "char = text[0]\n",
    "print(type(char))\n",
    "\n",
    "substring = text[1:4]\n",
    "print(type(substring))"
   ]
  },
  {
   "cell_type": "code",
   "execution_count": 10,
   "id": "b51b5da1",
   "metadata": {},
   "outputs": [],
   "source": [
    "'''Ans 6:- In Python, there is no distinct \"character\" data type like in some other\n",
    "programming languages. Instead, characters are represented as strings of length 1. In\n",
    "other words, a single character in Python is just a string containing that one\n",
    "character. This means that strings are used to represent both individual characters and\n",
    "sequences of characters.\n",
    "\n",
    "The relationship between strings and characters in Python can be summarized as\n",
    "follows:-\n",
    "\n",
    "1. Characters as Strings: Characters are treated as strings of length 1. Any\n",
    "single character, like 'a', 'H', or '9', is represented using a string containing\n",
    "that character.\n",
    "\n",
    "2. Strings as Sequences: Strings in Python are sequences of characters. They can\n",
    "contain one or more characters and are used to represent text and sequences of\n",
    "characters.\n",
    "\n",
    "This design simplifies the language and is consistent with Python's emphasis\n",
    "on simplicity and ease of use. It also aligns with Python's approach of treating\n",
    "everything as an object, where even a single character is treated as a string object.'''\n",
    "\n",
    "char = 'A'       # A character is a string of length 1\n",
    "string = \"Hello\" # A string is a sequence of characters"
   ]
  },
  {
   "cell_type": "code",
   "execution_count": 12,
   "id": "d327e575",
   "metadata": {},
   "outputs": [
    {
     "name": "stdout",
     "output_type": "stream",
     "text": [
      "Hello, World!\n",
      "Hello, Mark!\n",
      "Hello World\n"
     ]
    }
   ],
   "source": [
    "'''Ans 7:- Certainly! Here are two operators and one method that allow us to combine\n",
    "smaller strings into a larger string:-\n",
    "\n",
    "1. Concatenation Operator (+): The + operator is used to concatenate (combine)\n",
    "two or more strings into a single string.\n",
    "\n",
    "2. Formatted String Literals (f-strings): F-strings allow us to embed\n",
    "expressions within string literals using curly braces {}. The expressions are evaluated\n",
    "and inserted into the string.\n",
    "\n",
    "3. String Method - join(): The join() method is used to concatenate a list or\n",
    "iterable of strings into a single string. It inserts the calling string between each\n",
    "element of the iterable.\n",
    "\n",
    "All of these operators and methods allow us to build larger strings by\n",
    "combining smaller strings or values.'''\n",
    "\n",
    "# Concatenation Operator\n",
    "string1 = \"Hello, \"\n",
    "string2 = \"World!\"\n",
    "combined_string = string1 + string2\n",
    "print(combined_string)\n",
    "\n",
    "# Formatted String Literals (f-string)\n",
    "name = \"Mark\"\n",
    "greeting = f\"Hello, {name}!\"\n",
    "print(greeting)\n",
    "\n",
    "# String Method - join()\n",
    "words = [\"Hello\", \"World\"]\n",
    "combined_string = \" \".join(words)\n",
    "print(combined_string)"
   ]
  },
  {
   "cell_type": "code",
   "execution_count": 17,
   "id": "f3bf0ac0",
   "metadata": {},
   "outputs": [
    {
     "name": "stdout",
     "output_type": "stream",
     "text": [
      "The substring 'Python' starts at index 7\n"
     ]
    }
   ],
   "source": [
    "'''Ans 8:- Checking the target string with the in or not in operators before using the\n",
    "index() method to find a substring offers a way to handle cases where the substring\n",
    "may not exist within the target string. This approach helps prevent a ValueError\n",
    "from being raised when the substring is not found.\n",
    "\n",
    "The benefit of this approach is that it provides a way to avoid an exception\n",
    "and allows us to gracefully handle the absence of the substring in the target\n",
    "string. Instead of relying solely on exception handling, we can perform a quick check\n",
    "using the in or not in operators to decide whether to proceed with using the index()\n",
    "method. \n",
    "\n",
    "In this example, the in operator is used to check if the substring exists in\n",
    "the text before using the index() method. If the substring exists, the index is\n",
    "determined; otherwise, a message is printed indicating that the substring was not found. \n",
    "This approach helps prevent unnecessary exceptions and allows us to handle cases\n",
    "where the substring might not be present in the target string without interrupting\n",
    "the program's flow.'''\n",
    "\n",
    "text = \"Hello, Python!\"\n",
    "\n",
    "substring = \"Python\"\n",
    "if substring in text:\n",
    "    index = text.index(substring)\n",
    "    print(f\"The substring '{substring}' starts at index {index}\")\n",
    "else:\n",
    "    print(f\"The substring '{substring}' was not found\")"
   ]
  },
  {
   "cell_type": "code",
   "execution_count": 22,
   "id": "59adc397",
   "metadata": {},
   "outputs": [
    {
     "name": "stdout",
     "output_type": "stream",
     "text": [
      "False\n",
      "True\n",
      "True\n",
      "False\n",
      "False\n"
     ]
    }
   ],
   "source": [
    "'''Ans 9:- Several operators and built-in string methods in Python produce simple Boolean\n",
    "(true/false) results:-\n",
    "\n",
    "Operators:- Comparison Operators: Comparison operators like ==, !=, <, <=, >,\n",
    "and >= compare strings and produce Boolean results based on the comparison. \n",
    "\n",
    "Built-in String Methods:-\n",
    "1. startswith(): Checks if a string starts with a specified substring and returns True or False.\n",
    "2. endswith(): Checks if a string ends with a specified substring and returns True or False.\n",
    "3. isalpha(): Checks if all characters in a string are alphabetic and returns True or False.\n",
    "4. isdigit(): Checks if all characters in a string are digits and returns True or False.\n",
    "5. isalnum(): Checks if all characters in a string are alphanumeric and returns True or False.\n",
    "6. isspace(): Checks if all characters in a string are whitespace characters and returns True or False.\n",
    "\n",
    "These operators and methods are useful for performing Boolean checks on\n",
    "strings and making decisions based on the characteristics of the strings.'''\n",
    "\n",
    "string1 = \"apple\"\n",
    "string2 = \"banana\"\n",
    "result = string1 == string2\n",
    "\n",
    "\n",
    "text = \"Hello, World!\"\n",
    "\n",
    "starts_with_hello = text.startswith(\"Hello\")\n",
    "ends_with_world = text.endswith(\"World!\")\n",
    "is_alpha = text.isalpha()\n",
    "is_digit = text.isdigit()\n",
    "\n",
    "print(f\"{result}\")\n",
    "print(f\"{starts_with_hello}\")\n",
    "print(f\"{ends_with_world}\")\n",
    "print(f\"{is_alpha}\")\n",
    "print(f\"{is_digit}\")"
   ]
  }
 ],
 "metadata": {
  "kernelspec": {
   "display_name": "Python 3 (ipykernel)",
   "language": "python",
   "name": "python3"
  },
  "language_info": {
   "codemirror_mode": {
    "name": "ipython",
    "version": 3
   },
   "file_extension": ".py",
   "mimetype": "text/x-python",
   "name": "python",
   "nbconvert_exporter": "python",
   "pygments_lexer": "ipython3",
   "version": "3.10.9"
  }
 },
 "nbformat": 4,
 "nbformat_minor": 5
}
