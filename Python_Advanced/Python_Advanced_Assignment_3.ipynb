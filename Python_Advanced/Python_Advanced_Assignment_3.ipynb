{
 "cells": [
  {
   "cell_type": "markdown",
   "id": "7d266341",
   "metadata": {},
   "source": [
    "## Python_Advanced_Assignment_3\n",
    "1. What is the concept of an abstract superclass?\n",
    "2. What happens when a class statement's top level contains a basic assignment statement?\n",
    "3. Why does a class need to manually call a superclass's __init__ method?\n",
    "4. How can you augment, instead of completely replacing, an inherited method?\n",
    "5. How is the local scope of a class different from that of a function?"
   ]
  },
  {
   "cell_type": "code",
   "execution_count": 1,
   "id": "a58ad439",
   "metadata": {},
   "outputs": [
    {
     "name": "stdout",
     "output_type": "stream",
     "text": [
      "78.53975\n",
      "12\n"
     ]
    }
   ],
   "source": [
    "'''Ans 1:- An abstract superclass, also known as an abstract base class (ABC), is a class\n",
    "that is designed to be inherited from but not instantiated directly. It serves as a\n",
    "blueprint for other classes and provides a common interface or structure that its\n",
    "subclasses should adhere to. Abstract superclasses often contain abstract methods, which\n",
    "are methods without implementations that must be overridden by the subclasses. \n",
    "The primary purpose of an abstract superclass is to define a common set of\n",
    "attributes and methods that multiple related subclasses should implement. This ensures\n",
    "consistency and provides a clear design for the hierarchy of classes.  In Python, you can\n",
    "define an abstract superclass using the abc module, which provides the ABC class and\n",
    "the abstractmethod decorator.\n",
    "\n",
    "In this example, Shape is an abstract superclass that defines the area\n",
    "abstract method. Both Circle and Rectangle subclasses inherit from Shape and provide\n",
    "concrete implementations of the area method. Using abstract superclasses promotes a\n",
    "clear structure and ensures that subclasses adhere to a common interface.'''\n",
    "\n",
    "from abc import ABC, abstractmethod\n",
    "\n",
    "class Shape(ABC):\n",
    "    @abstractmethod\n",
    "    def area(self):\n",
    "        pass\n",
    "\n",
    "class Circle(Shape):\n",
    "    def __init__(self, radius):\n",
    "        self.radius = radius\n",
    "\n",
    "    def area(self):\n",
    "        return 3.14159 * self.radius ** 2\n",
    "\n",
    "class Rectangle(Shape):\n",
    "    def __init__(self, width, height):\n",
    "        self.width = width\n",
    "        self.height = height\n",
    "\n",
    "    def area(self):\n",
    "        return self.width * self.height\n",
    "\n",
    "# Creating instances and calling methods\n",
    "circle = Circle(5)\n",
    "rectangle = Rectangle(3, 4)\n",
    "\n",
    "print(circle.area())\n",
    "print(rectangle.area())"
   ]
  },
  {
   "cell_type": "code",
   "execution_count": 2,
   "id": "60ca2912",
   "metadata": {},
   "outputs": [
    {
     "name": "stdout",
     "output_type": "stream",
     "text": [
      "Unknown\n",
      "Unknown\n",
      "Labrador\n",
      "Labrador\n"
     ]
    }
   ],
   "source": [
    "'''Ans 2:- When a class statement's top level contains a basic assignment statement, it\n",
    "defines a class-level attribute that is shared by all instances of the class. This\n",
    "attribute is associated with the class itself rather than individual instances.In this\n",
    "example, the breed attribute is defined at the top level of the Dog class. It's a\n",
    "class-level attribute that is shared among all instances of the class. Changes to the\n",
    "class-level attribute affect all instances. However, instances can also have\n",
    "instance-level attributes like name that are unique to each instance.'''\n",
    "\n",
    "class Dog:\n",
    "    breed = \"Unknown\"  # Class-level attribute\n",
    "\n",
    "    def __init__(self, name):\n",
    "        self.name = name\n",
    "\n",
    "dog1 = Dog(\"Buddy\")\n",
    "dog2 = Dog(\"Max\")\n",
    "\n",
    "print(dog1.breed)  # Output: Unknown\n",
    "print(dog2.breed)  # Output: Unknown\n",
    "\n",
    "# Modifying class-level attribute\n",
    "Dog.breed = \"Labrador\"\n",
    "\n",
    "print(dog1.breed)\n",
    "print(dog2.breed)"
   ]
  },
  {
   "cell_type": "code",
   "execution_count": 5,
   "id": "78cd7cd8",
   "metadata": {},
   "outputs": [
    {
     "name": "stdout",
     "output_type": "stream",
     "text": [
      "Dog\n",
      "Buddy\n",
      "Golden Retriever\n"
     ]
    }
   ],
   "source": [
    "'''Ans 3:- A class needs to manually call a superclass's __init__ method when it has\n",
    "additional attributes or initialization steps beyond those of the superclass. By calling\n",
    "the superclass's __init__, the subclass can ensure that the common attributes are\n",
    "initialized correctly before adding its own attributes.In this example, the Dog class\n",
    "inherits from Animal and introduces its own attributes name and breed. By manually\n",
    "calling super().__init__(\"Dog\"), the species attribute from the Animal superclass is\n",
    "initialized before adding the subclass's attributes. This ensures that both superclass and\n",
    "subclass attributes are properly set during instantiation.'''\n",
    "\n",
    "class Animal:\n",
    "    def __init__(self, species):\n",
    "        self.species = species\n",
    "\n",
    "class Dog(Animal):\n",
    "    def __init__(self, name, breed):\n",
    "        super().__init__(\"Dog\")  # Call superclass's init\n",
    "        self.name = name\n",
    "        self.breed = breed\n",
    "\n",
    "dog = Dog(\"Buddy\", \"Golden Retriever\")\n",
    "print(dog.species)\n",
    "print(dog.name)\n",
    "print(dog.breed)"
   ]
  },
  {
   "cell_type": "code",
   "execution_count": 6,
   "id": "8c874df9",
   "metadata": {},
   "outputs": [
    {
     "name": "stdout",
     "output_type": "stream",
     "text": [
      "Parent's method\n",
      "Child's extension\n"
     ]
    }
   ],
   "source": [
    "'''Ans 4:- We can augment, instead of replacing, an inherited method by using the super()\n",
    "function to call the parent class's method and then adding additional behavior in the\n",
    "subclass. This allows you to extend the behavior of the inherited method without\n",
    "starting from scratch.In this example, the Child class extends the behavior of the\n",
    "method inherited from Parent by first calling the parent's method using super(), and\n",
    "then adding its own behavior.'''\n",
    "\n",
    "class Parent:\n",
    "    def method(self):\n",
    "        print(\"Parent's method\")\n",
    "\n",
    "class Child(Parent):\n",
    "    def method(self):\n",
    "        super().method()  # Call parent's method\n",
    "        print(\"Child's extension\")\n",
    "\n",
    "child = Child()\n",
    "child.method()"
   ]
  },
  {
   "cell_type": "code",
   "execution_count": 9,
   "id": "c2e6c0e2",
   "metadata": {},
   "outputs": [
    {
     "name": "stdout",
     "output_type": "stream",
     "text": [
      "10\n",
      "20\n"
     ]
    }
   ],
   "source": [
    "'''Ans 5:- The local scope of a class refers to the attributes and methods defined within\n",
    "the class, accessible throughout its methods. In contrast, the local scope of a\n",
    "function refers to variables defined within the function and can't be directly accessed\n",
    "outside the function.In this example, class_attribute is in the local scope of the\n",
    "class, while method_variable is in the local scope of the method.'''\n",
    "\n",
    "class MyClass:\n",
    "    class_attribute = 10  # Part of class's local scope\n",
    "\n",
    "    def my_method(self):\n",
    "        method_variable = 20  # Part of method's local scope\n",
    "        print(self.class_attribute)\n",
    "        print(method_variable)\n",
    "\n",
    "obj = MyClass()\n",
    "obj.my_method()"
   ]
  }
 ],
 "metadata": {
  "kernelspec": {
   "display_name": "Python 3 (ipykernel)",
   "language": "python",
   "name": "python3"
  },
  "language_info": {
   "codemirror_mode": {
    "name": "ipython",
    "version": 3
   },
   "file_extension": ".py",
   "mimetype": "text/x-python",
   "name": "python",
   "nbconvert_exporter": "python",
   "pygments_lexer": "ipython3",
   "version": "3.10.9"
  }
 },
 "nbformat": 4,
 "nbformat_minor": 5
}
