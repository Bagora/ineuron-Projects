{
 "cells": [
  {
   "cell_type": "markdown",
   "id": "8c36be25",
   "metadata": {},
   "source": [
    "## ML_Assignment_12\n",
    "1. What is prior probability? Give an example.\n",
    "2. What is posterior probability? Give an example.\n",
    "3. What is likelihood probability? Give an example.\n",
    "4. What is Naïve Bayes classifier? Why is it named so?\n",
    "5. What is optimal Bayes classifier?\n",
    "6. Write any two features of Bayesian learning methods.\n",
    "7. Define the concept of consistent learners.\n",
    "8. Write any two strengths of Bayes classifier.\n",
    "9. Write any two weaknesses of Bayes classifier.\n",
    "10. Explain how Naïve Bayes classifier is used for\n",
    "\n",
    "       1. Text classification\n",
    "\n",
    "       2. Spam filtering\n",
    "\n",
    "       3. Market sentiment analysis"
   ]
  },
  {
   "cell_type": "markdown",
   "id": "edf9f82d",
   "metadata": {},
   "source": [
    "### Ans 1\n",
    "\n",
    "Prior probability, often simply referred to as \"prior,\" is a fundamental concept in probability theory and Bayesian statistics. It represents the initial or prior belief about the likelihood of an event or outcome before considering any new evidence or information.\n",
    "\n",
    "In other words, the prior probability is what you believe about the probability of an event happening based on your knowledge or beliefs before you have observed any data or evidence. It serves as a starting point for making probabilistic predictions or decisions, and it can be updated or revised as new evidence becomes available through a process called Bayesian inference.\n",
    "\n",
    "Here's a simple example to illustrate the concept of prior probability:\n",
    "\n",
    "Imagine you are trying to predict whether it will rain tomorrow in a city where you've never been before. Your prior probability of rain would be based on general information you have about the climate in that city or region. Let's say you know that historically, this city has a reputation for being dry, and it rarely rains. So, your prior probability of rain might be very low, perhaps 10%.\n",
    "\n",
    "Prior Probability of Rain = 10%\n",
    "\n",
    "Now, if you were to obtain some new information, like a weather forecast for tomorrow, you could use Bayesian inference to update your prior probability. If the weather forecast says there is a 70% chance of rain, you would combine this new evidence with your prior probability to arrive at a revised or posterior probability:\n",
    "\n",
    "Revised Probability of Rain = (Prior Probability of Rain) * (Likelihood of Rain Given Forecast)\n",
    "Revised Probability of Rain = 10% * 70% = 7%\n",
    "\n",
    "So, your updated belief, or posterior probability, of rain tomorrow would be 7%, taking into account both your initial belief (the prior probability) and the new evidence (the weather forecast).\n",
    "\n",
    "In summary, prior probability represents your initial belief about the likelihood of an event before considering any new information or evidence. It's a crucial concept in Bayesian statistics and probability theory, as it provides a foundation for updating beliefs as new data becomes available."
   ]
  },
  {
   "cell_type": "markdown",
   "id": "cd88b440",
   "metadata": {},
   "source": [
    "### Ans 2\n",
    "\n",
    "Posterior probability, in the context of Bayesian statistics, is the updated probability of an event occurring after considering new evidence or data. It combines the prior probability (initial belief) with the likelihood of observing the data given various possible outcomes. Bayes' theorem is used to calculate the posterior probability.\n",
    "\n",
    "For example, consider a medical test for a rare disease. Your prior probability of having the disease might be low because it's uncommon in the general population. However, if you take a highly accurate diagnostic test that comes back positive, the posterior probability of having the disease increases significantly. The prior probability serves as your initial belief, but the posterior probability accounts for the test result, yielding a more accurate estimation of your disease risk. It reflects the influence of data on your beliefs, making Bayesian analysis valuable in decision-making, prediction, and risk assessment."
   ]
  },
  {
   "cell_type": "markdown",
   "id": "78797097",
   "metadata": {},
   "source": [
    "### Ans 3\n",
    "\n",
    "Likelihood probability, in Bayesian statistics, represents the probability of observing a particular set of data given different possible values of a parameter or hypothesis. It quantifies how well the data supports or corresponds to different scenarios, helping to update the prior beliefs to form a posterior probability using Bayes' theorem.\n",
    "\n",
    "For example, consider a coin toss. The likelihood probability in this case assesses how well a certain probability of heads or tails matches the actual outcomes observed in a series of coin tosses. If you've observed 8 heads and 2 tails in 10 tosses, the likelihood probability for a fair coin (0.5 for heads and 0.5 for tails) might be calculated as:\n",
    "\n",
    "Likelihood(8 heads and 2 tails | Fair coin) = (0.5^8) * (0.5^2) = 0.001\n",
    "\n",
    "This low likelihood suggests that a fair coin is an unlikely explanation for the observed data. Likelihood helps in comparing different hypotheses or parameter values and plays a crucial role in Bayesian inference by updating prior beliefs based on observed data. In this code, we use the binom.pmf function from the SciPy library to calculate the likelihood probability. It computes the probability of observing a specific number of heads (in this case, 8) in a series of coin tosses, assuming a given probability of heads (0.5 for a fair coin). The result is the likelihood probability for the observed data given the assumed probability of heads."
   ]
  },
  {
   "cell_type": "code",
   "execution_count": 1,
   "id": "7f874492",
   "metadata": {},
   "outputs": [
    {
     "name": "stdout",
     "output_type": "stream",
     "text": [
      "Likelihood Probability: 0.04394531249999997\n"
     ]
    }
   ],
   "source": [
    "def likelihood(probability_heads, num_heads_observed, num_tails_observed):\n",
    "    # Calculate the likelihood probability using the binomial probability mass function\n",
    "    from scipy.stats import binom\n",
    "    likelihood_heads = binom.pmf(num_heads_observed, num_heads_observed + num_tails_observed, probability_heads)\n",
    "    return likelihood_heads\n",
    "\n",
    "# Number of observed heads and tails in a series of coin tosses\n",
    "num_heads_observed = 8\n",
    "num_tails_observed = 2\n",
    "\n",
    "# Probability of heads (assuming a fair coin)\n",
    "probability_heads = 0.5\n",
    "\n",
    "# Calculate the likelihood probability\n",
    "likelihood_probability = likelihood(probability_heads, num_heads_observed, num_tails_observed)\n",
    "\n",
    "print(f\"Likelihood Probability: {likelihood_probability}\")"
   ]
  },
  {
   "cell_type": "markdown",
   "id": "1f2affc3",
   "metadata": {},
   "source": [
    "### Ans 4\n",
    "\n",
    "The Naïve Bayes classifier is a popular machine learning algorithm used for classification tasks, particularly in natural language processing and text classification. It's named \"naïve\" because of its underlying assumption of feature independence, which simplifies the calculation of conditional probabilities.\n",
    "\n",
    "The \"Bayes\" part of the name refers to its foundation in Bayes' theorem, a statistical principle used for probabilistic inference. The classifier works by calculating the posterior probability of a class label given a set of features, using Bayes' theorem.\n",
    "\n",
    "Despite the \"naïve\" assumption that features are independent (which may not hold true in many real-world scenarios), Naïve Bayes often performs surprisingly well, especially in text classification tasks. It's computationally efficient and requires relatively small amounts of training data. Its simplicity and effectiveness in many applications have contributed to its widespread use, leading to the name \"Naïve Bayes.\"\n",
    "\n",
    "The code uses a Naïve Bayes classifier to predict sentiment (positive or negative) based on sample text data. It demonstrates text preprocessing, training, and accurate classification."
   ]
  },
  {
   "cell_type": "code",
   "execution_count": 3,
   "id": "9cdb46ff",
   "metadata": {},
   "outputs": [
    {
     "name": "stdout",
     "output_type": "stream",
     "text": [
      "Predicted labels for new data: ['negative' 'negative']\n",
      "Training accuracy: 1.0\n"
     ]
    }
   ],
   "source": [
    "from sklearn.feature_extraction.text import CountVectorizer\n",
    "from sklearn.naive_bayes import MultinomialNB\n",
    "from sklearn.metrics import accuracy_score\n",
    "\n",
    "# Sample training data (text) and corresponding labels (classes)\n",
    "texts = [\n",
    "    \"I enjoy sunny days at the beach.\",\n",
    "    \"Rainy weather makes me stay indoors.\",\n",
    "    \"I like swimming in the pool.\",\n",
    "    \"Thunderstorms are frightening.\"\n",
    "]\n",
    "\n",
    "labels = [\"positive\", \"negative\", \"positive\", \"negative\"]\n",
    "\n",
    "# Vectorize the text data using CountVectorizer\n",
    "vectorizer = CountVectorizer(lowercase=True, stop_words='english')\n",
    "X = vectorizer.fit_transform(texts)\n",
    "\n",
    "# Create a Naïve Bayes classifier\n",
    "clf = MultinomialNB()\n",
    "\n",
    "# Train the classifier\n",
    "clf.fit(X, labels)\n",
    "\n",
    "# Test the classifier with new data\n",
    "new_texts = [\"I love the sun.\", \"I hate being wet in the rain.\"]\n",
    "X_new = vectorizer.transform(new_texts)\n",
    "predicted_labels = clf.predict(X_new)\n",
    "\n",
    "# Calculate accuracy on training data\n",
    "train_preds = clf.predict(X)\n",
    "train_accuracy = accuracy_score(labels, train_preds)\n",
    "\n",
    "print(\"Predicted labels for new data:\", predicted_labels)\n",
    "print(\"Training accuracy:\", train_accuracy)"
   ]
  },
  {
   "cell_type": "markdown",
   "id": "54b5fa20",
   "metadata": {},
   "source": [
    "### Ans 5\n",
    "\n",
    "The Optimal Bayes Classifier, often referred to as the Bayes Optimal Classifier, is a theoretical concept in machine learning and statistics that represents the ideal classification model when we have complete knowledge of the underlying data distribution. It makes decisions by selecting the class that maximizes the posterior probability, considering all possible classes. In other words, it chooses the class with the highest probability given the observed data, making it the most accurate classifier possible within the framework of Bayesian statistics.\n",
    "\n",
    "In this code, we use the Iris dataset and a Gaussian Naïve Bayes classifier as an example of a Bayesian classifier. The Bayes Optimal Classifier, as an idealized concept, represents the best possible classification performance achievable given complete knowledge of the data distribution."
   ]
  },
  {
   "cell_type": "code",
   "execution_count": 4,
   "id": "33fef7c8",
   "metadata": {},
   "outputs": [
    {
     "name": "stdout",
     "output_type": "stream",
     "text": [
      "Accuracy: 1.0\n"
     ]
    }
   ],
   "source": [
    "from sklearn.naive_bayes import GaussianNB\n",
    "from sklearn.datasets import load_iris\n",
    "from sklearn.model_selection import train_test_split\n",
    "from sklearn.metrics import accuracy_score\n",
    "\n",
    "# Load the Iris dataset as an example\n",
    "data = load_iris()\n",
    "X = data.data\n",
    "y = data.target\n",
    "\n",
    "# Split the data into training and testing sets\n",
    "X_train, X_test, y_train, y_test = train_test_split(X, y, test_size=0.2, random_state=42)\n",
    "\n",
    "# Create and train a Gaussian Naïve Bayes classifier (for simplicity)\n",
    "clf = GaussianNB()\n",
    "clf.fit(X_train, y_train)\n",
    "\n",
    "# Make predictions on the test data\n",
    "y_pred = clf.predict(X_test)\n",
    "\n",
    "# Calculate accuracy\n",
    "accuracy = accuracy_score(y_test, y_pred)\n",
    "print(\"Accuracy:\", accuracy)"
   ]
  },
  {
   "cell_type": "markdown",
   "id": "ed27e49f",
   "metadata": {},
   "source": [
    "### Ans 6\n",
    "\n",
    "Two key features of Bayesian learning methods are:\n",
    "\n",
    "1. **Probabilistic Framework**: Bayesian methods provide a probabilistic framework for modeling uncertainty in machine learning. They assign probabilities to different outcomes, allowing for principled handling of uncertainty in predictions. This is particularly useful when dealing with limited data or when making predictions in noisy environments.\n",
    "\n",
    "2. **Bayesian Inference**: Bayesian learning methods leverage Bayes' theorem to update beliefs based on observed data. They start with prior beliefs about parameters and update them with likelihood functions based on data, leading to posterior probability distributions. This iterative process allows models to incorporate new evidence and adjust their predictions accordingly.\n",
    "\n",
    "In this code, Bayesian inference is used to estimate the parameters (alpha, beta, and sigma) of a linear regression model, along with their uncertainty. The resulting posterior distributions provide a probabilistic view of these parameters, allowing for a more comprehensive understanding of the model's uncertainty.\n",
    "\n",
    "PyMC3 is a Python package for Bayesian statistical modeling and Probabilistic Machine Learning focusing on advanced Tasks"
   ]
  },
  {
   "cell_type": "code",
   "execution_count": 1,
   "id": "265d82a8",
   "metadata": {},
   "outputs": [
    {
     "name": "stdout",
     "output_type": "stream",
     "text": [
      "WARN: Could not locate executable g77\n",
      "WARN: Could not locate executable f77\n",
      "WARN: Could not locate executable ifort\n",
      "WARN: Could not locate executable ifl\n",
      "WARN: Could not locate executable f90\n",
      "WARN: Could not locate executable DF\n",
      "WARN: Could not locate executable efl\n",
      "WARN: Could not locate executable gfortran\n",
      "WARN: Could not locate executable f95\n",
      "WARN: Could not locate executable g95\n",
      "WARN: Could not locate executable efort\n",
      "WARN: Could not locate executable efc\n",
      "WARN: Could not locate executable flang\n",
      "WARN: don't know how to compile Fortran code on platform 'nt'\n"
     ]
    },
    {
     "name": "stderr",
     "output_type": "stream",
     "text": [
      "WARNING (theano.configdefaults): g++ not available, if using conda: `conda install m2w64-toolchain`\n",
      "WARNING (theano.configdefaults): g++ not detected ! Theano will be unable to execute optimized C-implementations (for both CPU and GPU) and will default to Python implementations. Performance will be severely degraded. To remove this warning, set Theano flags cxx to an empty string.\n",
      "WARNING (theano.tensor.blas): Using NumPy C-API based implementation for BLAS functions.\n",
      "C:\\Users\\Aditya\\AppData\\Roaming\\Python\\Python310\\site-packages\\deprecat\\classic.py:215: FutureWarning: In v4.0, pm.sample will return an `arviz.InferenceData` object instead of a `MultiTrace` by default. You can pass return_inferencedata=True or return_inferencedata=False to be safe and silence this warning.\n",
      "  return wrapped_(*args_, **kwargs_)\n",
      "Auto-assigning NUTS sampler...\n",
      "Initializing NUTS using jitter+adapt_diag...\n",
      "C:\\Users\\Aditya\\AppData\\Roaming\\Python\\Python310\\site-packages\\theano\\tensor\\elemwise.py:826: RuntimeWarning: divide by zero encountered in log\n",
      "  variables = ufunc(*ufunc_args, **ufunc_kwargs)\n",
      "C:\\Users\\Aditya\\AppData\\Roaming\\Python\\Python310\\site-packages\\theano\\tensor\\elemwise.py:826: RuntimeWarning: invalid value encountered in multiply\n",
      "  variables = ufunc(*ufunc_args, **ufunc_kwargs)\n",
      "Sequential sampling (2 chains in 1 job)\n",
      "NUTS: [sigma, beta, alpha]\n"
     ]
    },
    {
     "data": {
      "text/html": [
       "\n",
       "<style>\n",
       "    /* Turns off some styling */\n",
       "    progress {\n",
       "        /* gets rid of default border in Firefox and Opera. */\n",
       "        border: none;\n",
       "        /* Needs to be in here for Safari polyfill so background images work as expected. */\n",
       "        background-size: auto;\n",
       "    }\n",
       "    progress:not([value]), progress:not([value])::-webkit-progress-bar {\n",
       "        background: repeating-linear-gradient(45deg, #7e7e7e, #7e7e7e 10px, #5c5c5c 10px, #5c5c5c 20px);\n",
       "    }\n",
       "    .progress-bar-interrupted, .progress-bar-interrupted::-webkit-progress-bar {\n",
       "        background: #F44336;\n",
       "    }\n",
       "</style>\n"
      ],
      "text/plain": [
       "<IPython.core.display.HTML object>"
      ]
     },
     "metadata": {},
     "output_type": "display_data"
    },
    {
     "data": {
      "text/html": [
       "\n",
       "    <div>\n",
       "      <progress value='3000' class='' max='3000' style='width:300px; height:20px; vertical-align: middle;'></progress>\n",
       "      100.00% [3000/3000 05:30&lt;00:00 Sampling chain 0, 0 divergences]\n",
       "    </div>\n",
       "    "
      ],
      "text/plain": [
       "<IPython.core.display.HTML object>"
      ]
     },
     "metadata": {},
     "output_type": "display_data"
    },
    {
     "name": "stderr",
     "output_type": "stream",
     "text": [
      "C:\\Users\\Aditya\\AppData\\Roaming\\Python\\Python310\\site-packages\\numpy\\core\\fromnumeric.py:86: RuntimeWarning: overflow encountered in reduce\n",
      "  return ufunc.reduce(obj, axis, dtype, out, **passkwargs)\n",
      "C:\\Users\\Aditya\\AppData\\Roaming\\Python\\Python310\\site-packages\\theano\\tensor\\elemwise.py:826: RuntimeWarning: overflow encountered in exp\n",
      "  variables = ufunc(*ufunc_args, **ufunc_kwargs)\n",
      "C:\\Users\\Aditya\\AppData\\Roaming\\Python\\Python310\\site-packages\\theano\\scalar\\basic.py:2893: RuntimeWarning: divide by zero encountered in log\n",
      "  return np.log(x)\n",
      "C:\\Users\\Aditya\\AppData\\Roaming\\Python\\Python310\\site-packages\\theano\\tensor\\elemwise.py:826: RuntimeWarning: divide by zero encountered in impl (vectorized)\n",
      "  variables = ufunc(*ufunc_args, **ufunc_kwargs)\n",
      "C:\\Users\\Aditya\\AppData\\Roaming\\Python\\Python310\\site-packages\\theano\\scalar\\basic.py:1955: RuntimeWarning: invalid value encountered in true_divide\n",
      "  return x / y\n"
     ]
    },
    {
     "data": {
      "text/html": [
       "\n",
       "<style>\n",
       "    /* Turns off some styling */\n",
       "    progress {\n",
       "        /* gets rid of default border in Firefox and Opera. */\n",
       "        border: none;\n",
       "        /* Needs to be in here for Safari polyfill so background images work as expected. */\n",
       "        background-size: auto;\n",
       "    }\n",
       "    progress:not([value]), progress:not([value])::-webkit-progress-bar {\n",
       "        background: repeating-linear-gradient(45deg, #7e7e7e, #7e7e7e 10px, #5c5c5c 10px, #5c5c5c 20px);\n",
       "    }\n",
       "    .progress-bar-interrupted, .progress-bar-interrupted::-webkit-progress-bar {\n",
       "        background: #F44336;\n",
       "    }\n",
       "</style>\n"
      ],
      "text/plain": [
       "<IPython.core.display.HTML object>"
      ]
     },
     "metadata": {},
     "output_type": "display_data"
    },
    {
     "data": {
      "text/html": [
       "\n",
       "    <div>\n",
       "      <progress value='3000' class='' max='3000' style='width:300px; height:20px; vertical-align: middle;'></progress>\n",
       "      100.00% [3000/3000 05:28&lt;00:00 Sampling chain 1, 0 divergences]\n",
       "    </div>\n",
       "    "
      ],
      "text/plain": [
       "<IPython.core.display.HTML object>"
      ]
     },
     "metadata": {},
     "output_type": "display_data"
    },
    {
     "name": "stderr",
     "output_type": "stream",
     "text": [
      "Sampling 2 chains for 1_000 tune and 2_000 draw iterations (2_000 + 4_000 draws total) took 659 seconds.\n",
      "Got error No model on context stack. trying to find log_likelihood in translation.\n",
      "C:\\Users\\Aditya\\AppData\\Roaming\\Python\\Python310\\site-packages\\arviz\\data\\io_pymc3_3x.py:98: FutureWarning: Using `from_pymc3` without the model will be deprecated in a future release. Not using the model will return less accurate and less useful results. Make sure you use the model argument or call from_pymc3 within a model context.\n",
      "  warnings.warn(\n"
     ]
    },
    {
     "data": {
      "image/png": "[encoded data removed]",
      "text/plain": [
       "<Figure size 2208x552 with 3 Axes>"
      ]
     },
     "metadata": {},
     "output_type": "display_data"
    }
   ],
   "source": [
    "import warnings\n",
    "warnings.filterwarnings(\"ignore\", category=UserWarning)\n",
    "\n",
    "import numpy as np\n",
    "import matplotlib.pyplot as plt\n",
    "import pymc3 as pm\n",
    "\n",
    "# Generate synthetic data\n",
    "np.random.seed(0)\n",
    "X = np.linspace(0, 10, 50)\n",
    "Y = 2 * X + 1 + np.random.normal(0, 2, 50)\n",
    "\n",
    "# Bayesian linear regression\n",
    "with pm.Model() as model:\n",
    "    alpha = pm.Normal('alpha', mu=0, sd=10)\n",
    "    beta = pm.Normal('beta', mu=0, sd=10)\n",
    "    sigma = pm.HalfNormal('sigma', sd=1)\n",
    "\n",
    "    y_pred = alpha + beta * X\n",
    "    likelihood = pm.Normal('Y', mu=y_pred, sd=sigma, observed=Y)\n",
    "\n",
    "    trace = pm.sample(2000, tune=1000, cores=1)\n",
    "\n",
    "# Plot posterior distributions\n",
    "pm.plot_posterior(trace, var_names=['alpha', 'beta', 'sigma'])\n",
    "plt.show()"
   ]
  },
  {
   "cell_type": "markdown",
   "id": "856f4f94",
   "metadata": {},
   "source": [
    "### Ans 7\n",
    "\n",
    "Consistent learners, in the context of machine learning and statistical learning theory, refer to a class of algorithms that exhibit a desirable property known as \"consistency.\" Consistency is a key theoretical concept that relates to the convergence of a learning algorithm as the amount of data increases. A learner is considered consistent when it reliably approximates the true underlying pattern or distribution of the data as the dataset's size grows indefinitely.\n",
    "\n",
    "Formally, a consistent learner ensures that as the number of training examples increases, the learner's predictions converge to the true target function or model with high probability. In simpler terms, as you provide more data to a consistent learner, it becomes increasingly accurate in its predictions and approaches the best possible model given the data.\n",
    "\n",
    "Consistency is an important property because it provides a theoretical guarantee that, given enough data, the learner will learn the correct patterns, which is crucial for generalization to unseen data. Many well-established machine learning algorithms, such as maximum likelihood estimators, kernel methods, and support vector machines, are designed with consistency in mind, making them reliable tools for real-world applications where large datasets are available."
   ]
  },
  {
   "cell_type": "markdown",
   "id": "53abbd68",
   "metadata": {},
   "source": [
    "### Ans 8\n",
    "\n",
    "Two strengths of the Bayes classifier are:\n",
    "\n",
    "1. **Probabilistic Framework**: The Bayes classifier provides a solid probabilistic framework for making decisions under uncertainty. It assigns probabilities to different classes, allowing for principled reasoning about the likelihood of each class given the observed data. This is especially valuable when dealing with incomplete or noisy data, as it provides a clear measure of confidence in predictions.\n",
    "\n",
    "2. **Efficiency and Simplicity**: Bayes classifiers, particularly the Naïve Bayes variant, are computationally efficient and straightforward to implement. They are well-suited for high-dimensional data, such as text classification and spam email detection. The \"naïve\" assumption of feature independence simplifies calculations and reduces the risk of overfitting in cases where the data is limited. This simplicity makes Bayes classifiers a practical choice for quick and reliable classification tasks, especially when computational resources are limited or when real-time decisions are required."
   ]
  },
  {
   "cell_type": "markdown",
   "id": "63f2e101",
   "metadata": {},
   "source": [
    "### Ans 9\n",
    "\n",
    "Two weaknesses of the Bayes classifier are:\n",
    "\n",
    "1. **Assumption of Feature Independence**: The Naïve Bayes classifier, in particular, assumes that features are conditionally independent given the class label. This \"naïve\" assumption rarely holds true in real-world data, leading to inaccurate predictions when features are correlated. For instance, in natural language processing, the assumption that words are independent can lead to suboptimal performance.\n",
    "\n",
    "2. **Sensitivity to Feature Quality**: The Bayes classifier is sensitive to the quality of features. If the feature set is incomplete or contains irrelevant information, the classifier's performance can degrade significantly. Garbage-in, garbage-out applies, and feature engineering is crucial to make it effective.\n",
    "\n",
    "Despite these weaknesses, the Bayes classifier can still perform well in various applications, especially when data is limited or when other algorithms require more computational resources."
   ]
  },
  {
   "cell_type": "markdown",
   "id": "1165bc17",
   "metadata": {},
   "source": [
    "### Ans 10\n",
    "\n",
    "**Text Classification**: The Naïve Bayes classifier is widely employed for text classification tasks, such as sentiment analysis, topic categorization, and document classification. It works by calculating the probability of a document belonging to a particular class based on the words it contains. Each word's occurrence or frequency serves as a feature. It's especially suitable for text due to its simplicity and efficiency. For example, in sentiment analysis, it can classify movie reviews as positive or negative based on the words used, making it valuable in understanding user sentiment towards products or services.\n",
    "\n",
    "**Spam Filtering**: Naïve Bayes is a powerful tool for spam filtering. In this application, it assesses the probability that an incoming email or message is spam or not by analyzing its content, sender, and other features. The classifier learns from a labeled dataset of spam and non-spam messages. It's robust against changing tactics used by spammers and can effectively distinguish between legitimate and unwanted messages, reducing inbox clutter and improving user experience.\n",
    "\n",
    "**Market Sentiment Analysis**: Market sentiment analysis involves gauging the overall sentiment of financial news, social media, or other textual sources to make predictions about financial markets. Naïve Bayes can be used to classify news articles or social media posts as positive, negative, or neutral in sentiment. Investors and traders can use this information to inform their decisions. While it's just one component of complex financial models, sentiment analysis with Naïve Bayes can provide valuable insights into market sentiment trends."
   ]
  },
  {
   "cell_type": "code",
   "execution_count": null,
   "id": "2542bb96",
   "metadata": {},
   "outputs": [],
   "source": []
  }
 ],
 "metadata": {
  "kernelspec": {
   "display_name": "Python 3 (ipykernel)",
   "language": "python",
   "name": "python3"
  },
  "language_info": {
   "codemirror_mode": {
    "name": "ipython",
    "version": 3
   },
   "file_extension": ".py",
   "mimetype": "text/x-python",
   "name": "python",
   "nbconvert_exporter": "python",
   "pygments_lexer": "ipython3",
   "version": "3.10.9"
  }
 },
 "nbformat": 4,
 "nbformat_minor": 5
}
