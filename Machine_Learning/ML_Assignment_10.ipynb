{
 "cells": [
  {
   "cell_type": "markdown",
   "id": "08b5479f",
   "metadata": {},
   "source": [
    "## ML_Assignment_10\n",
    "1. Define the Bayesian interpretation of probability.\n",
    "2. Define probability of a union of two events with equation.\n",
    "3. What is joint probability? What is its formula?\n",
    "4. What is chain rule of probability?\n",
    "5. What is conditional probability means? What is the formula of it?\n",
    "6. What are continuous random variables?\n",
    "7. What are Bernoulli distributions? What is the formula of it?\n",
    "8. What is binomial distribution? What is the formula?\n",
    "9. What is Poisson distribution? What is the formula?\n",
    "10. Define covariance.\n",
    "11. Define correlation\n",
    "12. Define sampling with replacement. Give example.\n",
    "13. What is sampling without replacement? Give example.\n",
    "14. What is hypothesis? Give example."
   ]
  },
  {
   "cell_type": "markdown",
   "id": "7316aaba",
   "metadata": {},
   "source": [
    "### Ans 1\n",
    "\n",
    "The **Bayesian interpretation of probability** is a fundamental concept in probability theory and statistics. It views probability as a measure of uncertainty or belief in an event, given available evidence or prior knowledge. It's named after the 18th-century statistician and philosopher Thomas Bayes, who contributed to the development of this interpretation.\n",
    "\n",
    "In the Bayesian view, probability is subjective and reflects an individual's or a system's degree of belief or confidence in an event occurring. It incorporates prior information, called prior probabilities, and updates them with new evidence to calculate posterior probabilities. This process is described by Bayes' theorem.\n",
    "\n",
    "Mathematically, Bayes' theorem is expressed as:\n",
    "\n",
    "\\[P(A|B) = \\frac{P(B|A) \\cdot P(A)}{P(B)}\\]\n",
    "\n",
    "Where:\n",
    "- \\(P(A|B)\\) is the posterior probability of event A given evidence B.\n",
    "- \\(P(B|A)\\) is the probability of evidence B given event A.\n",
    "- \\(P(A)\\) is the prior probability of event A.\n",
    "- \\(P(B)\\) is the probability of evidence B.\n",
    "\n",
    "The Bayesian interpretation is widely used in various fields, including machine learning, where it is employed in Bayesian statistics and Bayesian inference to make probabilistic predictions and update beliefs as new data becomes available. It provides a principled way to incorporate uncertainty and prior knowledge into decision-making processes."
   ]
  },
  {
   "cell_type": "markdown",
   "id": "f0ea7023",
   "metadata": {},
   "source": [
    "### Ans 2\n",
    "\n",
    "Certainly! Here's a simple Python code example that demonstrates the Bayesian interpretation of probability using Bayes' theorem. In this example, we'll calculate the posterior probability of a medical condition given a positive test result, incorporating prior knowledge.\n",
    "\n",
    "In this example, we calculate the posterior probability of having a medical condition given a positive test result by applying Bayes' theorem. The result reflects the updated belief after considering both prior knowledge and the likelihood of the test result."
   ]
  },
  {
   "cell_type": "code",
   "execution_count": 1,
   "id": "15063565",
   "metadata": {},
   "outputs": [
    {
     "name": "stdout",
     "output_type": "stream",
     "text": [
      "Prior Probability of Condition: 0.01\n",
      "Likelihood of Positive Test Given Condition: 0.95\n",
      "Posterior Probability of Condition Given Positive Test: 0.08755760368663594\n"
     ]
    }
   ],
   "source": [
    "# Define prior probabilities\n",
    "prior_probability_condition = 0.01 \n",
    "prior_probability_no_condition = 1 - prior_probability_condition  # Prior probability of not having the condition\n",
    "\n",
    "# Define likelihoods\n",
    "likelihood_positive_given_condition = 0.95  \n",
    "likelihood_positive_given_no_condition = 0.10\n",
    "\n",
    "# Calculate the denominator (marginal likelihood)\n",
    "marginal_likelihood = (likelihood_positive_given_condition * prior_probability_condition) + \\\n",
    "                      (likelihood_positive_given_no_condition * prior_probability_no_condition)\n",
    "\n",
    "# Calculate the posterior probability using Bayes' theorem\n",
    "posterior_probability_condition = (likelihood_positive_given_condition * prior_probability_condition) / marginal_likelihood\n",
    "\n",
    "# Print the results\n",
    "print(\"Prior Probability of Condition:\", prior_probability_condition)\n",
    "print(\"Likelihood of Positive Test Given Condition:\", likelihood_positive_given_condition)\n",
    "print(\"Posterior Probability of Condition Given Positive Test:\", posterior_probability_condition)"
   ]
  },
  {
   "cell_type": "markdown",
   "id": "0c1f4cdb",
   "metadata": {},
   "source": [
    "### Ans 3\n",
    "\n",
    "The **probability of the union of two events** (A and B), denoted as P(A ∪ B), represents the likelihood that at least one of the two events will occur. It is calculated using the following equation:\n",
    "\n",
    "\\[P(A ∪ B) = P(A) + P(B) - P(A ∩ B)\\]\n",
    "\n",
    "Where:\n",
    "- \\(P(A)\\) is the probability of event A occurring.\n",
    "- \\(P(B)\\) is the probability of event B occurring.\n",
    "- \\(P(A ∩ B)\\) is the probability of both events A and B occurring simultaneously.\n",
    "\n",
    "The equation accounts for the possibility of double-counting the probability of both A and B occurring together. By subtracting \\(P(A ∩ B)\\), we ensure that the intersection of A and B is not counted twice.\n",
    "\n",
    "In this example, we compute the probability of the union of events A and B using the equation, taking into account both individual probabilities and the probability of their intersection."
   ]
  },
  {
   "cell_type": "code",
   "execution_count": 3,
   "id": "e0315980",
   "metadata": {},
   "outputs": [
    {
     "name": "stdout",
     "output_type": "stream",
     "text": [
      "Probability of Union (A ∪ B): 0.6\n"
     ]
    }
   ],
   "source": [
    "# Define the probabilities of events A and B\n",
    "probability_A = 0.4  # Probability of event A\n",
    "probability_B = 0.3  # Probability of event B\n",
    "\n",
    "# Define the probability of the intersection of A and B\n",
    "probability_intersection = 0.1  # Probability of both A and B occurring\n",
    "\n",
    "# Calculate the probability of the union of A and B\n",
    "probability_union = probability_A + probability_B - probability_intersection\n",
    "print(\"Probability of Union (A ∪ B):\", probability_union)"
   ]
  },
  {
   "cell_type": "markdown",
   "id": "f544956e",
   "metadata": {},
   "source": [
    "### Ans 4\n",
    "\n",
    "The **chain rule of probability** is a fundamental principle in probability theory used to calculate the joint probability of multiple events by breaking it down into a sequence of conditional probabilities. It is often employed when dealing with complex probability distributions involving multiple random variables. The chain rule is an extension of the product rule.\n",
    "\n",
    "Mathematically, for a sequence of events \\(X_1, X_2, \\ldots, X_n\\), the chain rule states:\n",
    "\n",
    "[P(X_1, X_2, \\ldots, X_n) = P(X_1) \\cdot P(X_2 | X_1) \\cdot P(X_3 | X_1, X_2) \\cdot \\ldots \\cdot P(X_n | X_1, X_2, \\ldots, X_{n-1})\\]\n",
    "\n",
    "Each term in the product represents the conditional probability of an event given the previous events in the sequence. This rule allows us to compute the joint probability step by step.\n",
    "\n",
    "In this example, we calculate the joint probability \\(P(A, B, C)\\) using the chain rule based on conditional probabilities \\(P(A)\\), \\(P(B | A)\\), and \\(P(C | A, B)\\). The chain rule allows us to break down the joint probability into a sequence of conditional probabilities."
   ]
  },
  {
   "cell_type": "code",
   "execution_count": 4,
   "id": "e2dab320",
   "metadata": {},
   "outputs": [
    {
     "name": "stdout",
     "output_type": "stream",
     "text": [
      "P(A): 0.4\n",
      "P(B | A): 0.3\n",
      "P(C | A, B): 0.2\n",
      "P(A, B): 0.12\n",
      "P(A, B, C): 0.024\n"
     ]
    }
   ],
   "source": [
    "# Define conditional probabilities\n",
    "# P(A)\n",
    "P_A = 0.4\n",
    "# P(B | A)\n",
    "P_B_given_A = 0.3\n",
    "# P(C | A, B)\n",
    "P_C_given_A_and_B = 0.2\n",
    "\n",
    "# Calculate joint probability P(A, B, C) using the chain rule\n",
    "P_A_and_B = P_A * P_B_given_A\n",
    "P_A_and_B_and_C = P_A_and_B * P_C_given_A_and_B\n",
    "\n",
    "# Print the results\n",
    "print(\"P(A):\", P_A)\n",
    "print(\"P(B | A):\", P_B_given_A)\n",
    "print(\"P(C | A, B):\", P_C_given_A_and_B)\n",
    "print(\"P(A, B):\", P_A_and_B)\n",
    "print(\"P(A, B, C):\", P_A_and_B_and_C)"
   ]
  },
  {
   "cell_type": "markdown",
   "id": "398750dd",
   "metadata": {},
   "source": [
    "### Ans 5\n",
    "\n",
    "**Conditional probability** is a concept in probability theory that measures the probability of an event occurring given that another event has already occurred. It quantifies how the likelihood of one event is influenced by the occurrence of another event. Conditional probability is denoted as \\(P(A | B)\\), which reads as \"the probability of event A given event B.\"\n",
    "\n",
    "The formula for conditional probability is:\n",
    "\n",
    "\\[P(A | B) = \\frac{P(A \\cap B)}{P(B)}\\]\n",
    "\n",
    "Where:\n",
    "- \\(P(A | B)\\) is the conditional probability of event A given event B.\n",
    "- \\(P(A \\cap B)\\) is the joint probability of both events A and B occurring.\n",
    "- \\(P(B)\\) is the probability of event B occurring.\n",
    "\n",
    "In words, it computes the ratio of the probability of both events A and B happening together to the probability of event B occurring. Conditional probability allows us to update our beliefs about the likelihood of an event based on new information or evidence provided by another event. It is a fundamental concept used in various applications, including statistics, machine learning, and decision-making."
   ]
  },
  {
   "cell_type": "code",
   "execution_count": 5,
   "id": "53005259",
   "metadata": {},
   "outputs": [
    {
     "name": "stdout",
     "output_type": "stream",
     "text": [
      "Conditional Probability P(A | B): 0.5\n"
     ]
    }
   ],
   "source": [
    "# Define the joint probability P(A and B)\n",
    "joint_probability_A_and_B = 0.2\n",
    "\n",
    "# Define the probability of event B\n",
    "probability_B = 0.4\n",
    "\n",
    "# Calculate the conditional probability P(A | B) using the formula\n",
    "conditional_probability_A_given_B = joint_probability_A_and_B / probability_B\n",
    "print(\"Conditional Probability P(A | B):\", conditional_probability_A_given_B)"
   ]
  },
  {
   "cell_type": "markdown",
   "id": "27bbaf3b",
   "metadata": {},
   "source": [
    "### Ans 6\n",
    "\n",
    "**Continuous random variables** are variables in probability and statistics that can take on an uncountable infinite number of values within a specified range. Unlike discrete random variables, which can only take on distinct, separate values, continuous random variables can assume any value within a given interval. These variables are often associated with real-world measurements that have an inherent level of precision.\n",
    "\n",
    "Examples of continuous random variables include:\n",
    "\n",
    "- Height: Measured in inches or centimeters, height can take on any value within a certain range.\n",
    "- Temperature: Temperature values can vary continuously within a given range.\n",
    "- Time: Time measurements can be expressed in fractions of seconds, milliseconds, etc.\n",
    "\n",
    "In probability theory, continuous random variables are described by probability density functions (PDFs) rather than probability mass functions (PMFs). The area under the PDF curve within a specific interval represents the probability of the variable falling within that interval.\n",
    "\n",
    "In this example, we use the normal distribution as a continuous random variable and plot its PDF, demonstrating the continuous nature of the variable."
   ]
  },
  {
   "cell_type": "code",
   "execution_count": 6,
   "id": "ac0384a3",
   "metadata": {},
   "outputs": [
    {
     "data": {
      "image/png": "[encoded data removed]",
      "text/plain": [
       "<Figure size 640x480 with 1 Axes>"
      ]
     },
     "metadata": {},
     "output_type": "display_data"
    }
   ],
   "source": [
    "import numpy as np\n",
    "import matplotlib.pyplot as plt\n",
    "from scipy.stats import norm\n",
    "\n",
    "# Define mean and standard deviation\n",
    "mu = 0  # Mean\n",
    "sigma = 1  # Standard deviation\n",
    "\n",
    "# Create a range of x values\n",
    "x = np.linspace(-5, 5, 1000)\n",
    "\n",
    "# Calculate the PDF for a normal distribution\n",
    "pdf = norm.pdf(x, mu, sigma)\n",
    "\n",
    "# Plot the PDF\n",
    "plt.plot(x, pdf, label='PDF (Normal Distribution)')\n",
    "plt.xlabel('x')\n",
    "plt.ylabel('Probability Density')\n",
    "plt.title('Probability Density Function (PDF) of a Continuous Random Variable')\n",
    "plt.legend()\n",
    "plt.grid(True)\n",
    "plt.show()"
   ]
  },
  {
   "cell_type": "markdown",
   "id": "6025c6e1",
   "metadata": {},
   "source": [
    "### Ans 7\n",
    "\n",
    "The **Bernoulli distribution** is a discrete probability distribution that models a random experiment with two possible outcomes: success (usually denoted as 1) and failure (usually denoted as 0). It is named after the Swiss mathematician Jacob Bernoulli. The distribution is characterized by a single parameter, \\(p\\), which represents the probability of success.\n",
    "\n",
    "The probability mass function (PMF) of the Bernoulli distribution is defined as:\n",
    "\n",
    "[P(X = x) = \\begin{cases} \n",
    "p & \\text{if } x = 1 \\text{ (success)} \\\\\n",
    "1 - p & \\text{if } x = 0 \\text{ (failure)}\n",
    "\\end{cases}\\]\n",
    "\n",
    "Where:\n",
    "- \\(P(X = x)\\) is the probability of the random variable \\(X\\) taking on the value \\(x\\).\n",
    "- \\(p\\) is the probability of success (the chance of getting a 1).\n",
    "- \\(1 - p\\) is the probability of failure (the chance of getting a 0).\n",
    "\n",
    "The Bernoulli distribution is often used to model simple binary experiments, such as coin flips (heads or tails), pass/fail outcomes, or yes/no decisions. It serves as the foundation for more complex distributions like the binomial distribution, which deals with multiple Bernoulli trials."
   ]
  },
  {
   "cell_type": "markdown",
   "id": "d592e8f7",
   "metadata": {},
   "source": [
    "### Ans 8\n",
    "\n",
    "The **binomial distribution** is a discrete probability distribution that models the number of successes in a fixed number of independent Bernoulli trials (experiments with two possible outcomes: success and failure). It is named after the Swiss mathematician Jacob Bernoulli. The key characteristics of the binomial distribution are:\n",
    "\n",
    "1. **Fixed Number of Trials (n):** The binomial distribution represents a fixed number, denoted as \\(n\\), of identical and independent trials or experiments.\n",
    "\n",
    "2. **Two Outcomes:** Each trial has two possible outcomes: success (usually denoted as 1) and failure (usually denoted as 0).\n",
    "\n",
    "3. **Constant Probability of Success (p):** The probability of success (\\(p\\)) remains constant from one trial to another.\n",
    "\n",
    "The probability mass function (PMF) of the binomial distribution is given by the formula:\n",
    "\n",
    "\\[P(X = k) = \\binom{n}{k} \\cdot p^k \\cdot (1 - p)^{n - k}\\]\n",
    "\n",
    "Where:\n",
    "- \\(P(X = k)\\) is the probability of getting exactly \\(k\\) successes in \\(n\\) trials.\n",
    "- \\(n\\) is the total number of trials.\n",
    "- \\(k\\) is the number of successes you want to calculate the probability for.\n",
    "- \\(p\\) is the probability of success in a single trial.\n",
    "- \\(\\binom{n}{k}\\) is the binomial coefficient, which represents the number of ways to choose \\(k\\) successes out of \\(n\\) trials.\n",
    "\n",
    "The binomial distribution is commonly used to model real-world scenarios involving binary outcomes, such as the number of heads obtained in a series of coin flips, the number of defective items in a batch of production, or the number of successful email responses in a marketing campaign. It plays a fundamental role in statistics and probability theory, and it has applications in various fields, including finance, biology, and quality control."
   ]
  },
  {
   "cell_type": "markdown",
   "id": "8a26a030",
   "metadata": {},
   "source": [
    "### Ans 9\n",
    "\n",
    "The **Poisson distribution** is a discrete probability distribution that models the number of events that occur in a fixed interval of time or space when events happen with a known average rate but are rare and random in nature. It is named after the French mathematician Siméon Denis Poisson. The key characteristics of the Poisson distribution are:\n",
    "\n",
    "1. **Events are Rare:** The Poisson distribution is suitable for situations where events are rare, and the probability of multiple events occurring in a small time or space interval is negligible.\n",
    "\n",
    "2. **Constant Rate (λ):** It is characterized by a single parameter, \\(λ\\) (lambda), which represents the average rate of event occurrences within the specified interval.\n",
    "\n",
    "The probability mass function (PMF) of the Poisson distribution is given by the formula:\n",
    "\n",
    "\\[P(X = k) = \\frac{e^{-λ} \\cdot λ^k}{k!}\\]\n",
    "\n",
    "Where:\n",
    "- \\(P(X = k)\\) is the probability of observing \\(k\\) events in the given interval.\n",
    "- \\(λ\\) is the average rate of events occurring in the interval.\n",
    "- \\(e\\) is the base of the natural logarithm (approximately 2.71828).\n",
    "- \\(k\\) is the number of events you want to calculate the probability for.\n",
    "- \\(k!\\) is the factorial of \\(k\\).\n",
    "\n",
    "In this example, we define the average rate (\\(λ\\)) as 2.5 and calculate the PMF for various values of \\(k\\), demonstrating the Poisson distribution's probability mass function."
   ]
  },
  {
   "cell_type": "code",
   "execution_count": 7,
   "id": "80ee1e86",
   "metadata": {},
   "outputs": [
    {
     "data": {
      "image/png": "[encoded data removed]",
      "text/plain": [
       "<Figure size 640x480 with 1 Axes>"
      ]
     },
     "metadata": {},
     "output_type": "display_data"
    }
   ],
   "source": [
    "import numpy as np\n",
    "import matplotlib.pyplot as plt\n",
    "from scipy.stats import poisson\n",
    "\n",
    "# Define the average rate (lambda)\n",
    "lambda_value = 2.5\n",
    "\n",
    "# Generate a range of values for k (number of events)\n",
    "k_values = np.arange(0, 11)\n",
    "\n",
    "# Calculate the PMF for each k\n",
    "pmf_values = poisson.pmf(k_values, mu=lambda_value)\n",
    "\n",
    "# Plot the PMF\n",
    "plt.bar(k_values, pmf_values, align='center', alpha=0.7)\n",
    "plt.xlabel('Number of Events (k)')\n",
    "plt.ylabel('Probability')\n",
    "plt.title('Poisson Distribution PMF (λ=2.5)')\n",
    "plt.xticks(k_values)\n",
    "plt.grid(True)\n",
    "plt.show()"
   ]
  },
  {
   "cell_type": "markdown",
   "id": "9d612f2e",
   "metadata": {},
   "source": [
    "### Ans 10\n",
    "\n",
    "**Covariance** is a statistical measure that quantifies the degree to which two random variables change together. It assesses whether an increase or decrease in one variable corresponds to a similar change in the other variable. In essence, covariance measures the linear relationship between two variables.\n",
    "\n",
    "The formula for the covariance between two random variables X and Y is given by:\n",
    "\n",
    "\\[ \\text{Cov}(X, Y) = \\frac{1}{n-1} \\sum_{i=1}^{n} (x_i - \\bar{x})(y_i - \\bar{y}) \\]\n",
    "\n",
    "Where:\n",
    "- \\(\\text{Cov}(X, Y)\\) represents the covariance between variables X and Y.\n",
    "- \\(n\\) is the number of data points.\n",
    "- \\(x_i\\) and \\(y_i\\) are individual data points.\n",
    "- \\(\\bar{x}\\) and \\(\\bar{y}\\) are the means (average values) of X and Y, respectively.\n",
    "\n",
    "Covariance can take on positive, negative, or zero values, indicating the nature of the relationship between the variables. \n",
    "- Positive covariance (\\(\\text{Cov}(X, Y) > 0\\)) implies that as one variable increases, the other tends to increase as well.\n",
    "- Negative covariance (\\(\\text{Cov}(X, Y) < 0\\)) indicates that as one variable increases, the other tends to decrease.\n",
    "- Zero covariance (\\(\\text{Cov}(X, Y) = 0\\)) suggests no linear relationship between the variables.\n",
    "\n",
    "However, the magnitude of covariance is not standardized, making it challenging to compare across different datasets. Therefore, it is often useful to normalize it by dividing by the standard deviations of X and Y, resulting in the correlation coefficient, which ranges from -1 (perfect negative correlation) to 1 (perfect positive correlation) with 0 indicating no linear correlation.\n",
    "\n",
    "In this example, we have two arrays, X and Y, representing two sets of data. We calculate the covariance between X and Y using the formula for covariance. The code first computes the means of X and Y and then calculates the covariance based on the data points' deviations from their respective means. The result represents the covariance between the two datasets."
   ]
  },
  {
   "cell_type": "code",
   "execution_count": 8,
   "id": "2758aac8",
   "metadata": {},
   "outputs": [
    {
     "name": "stdout",
     "output_type": "stream",
     "text": [
      "Covariance between X and Y: 2.5\n"
     ]
    }
   ],
   "source": [
    "import numpy as np\n",
    "\n",
    "# Define two sets of data (X and Y)\n",
    "X = np.array([1, 2, 3, 4, 5])\n",
    "Y = np.array([2, 3, 4, 5, 6])\n",
    "\n",
    "# Calculate the means of X and Y\n",
    "mean_X = np.mean(X)\n",
    "mean_Y = np.mean(Y)\n",
    "\n",
    "# Calculate the covariance between X and Y\n",
    "covariance = np.sum((X - mean_X) * (Y - mean_Y)) / (len(X) - 1)\n",
    "\n",
    "# Print the result\n",
    "print(\"Covariance between X and Y:\", covariance)"
   ]
  },
  {
   "cell_type": "markdown",
   "id": "8225aa22",
   "metadata": {},
   "source": [
    "### Ans 11\n",
    "\n",
    "**Correlation** is a statistical measure that quantifies the strength and direction of the linear relationship between two continuous random variables. It indicates how changes in one variable correspond to changes in another, whether they move together (positive correlation), move in opposite directions (negative correlation), or have no apparent relationship (zero correlation).\n",
    "\n",
    "The most common measure of correlation is the Pearson correlation coefficient, denoted as \\(r\\), which ranges from -1 (perfect negative correlation) to 1 (perfect positive correlation), with 0 indicating no linear correlation.\n",
    "\n",
    "In this example, we use the `pearsonr` function from SciPy to calculate the Pearson correlation coefficient between two arrays, X and Y. The result, \\(r\\), provides information about the strength and direction of the linear relationship between the variables."
   ]
  },
  {
   "cell_type": "code",
   "execution_count": 9,
   "id": "e9302b0c",
   "metadata": {},
   "outputs": [
    {
     "name": "stdout",
     "output_type": "stream",
     "text": [
      "Pearson Correlation Coefficient (r): 1.0\n",
      "p-value: 0.0\n"
     ]
    }
   ],
   "source": [
    "import numpy as np\n",
    "from scipy.stats import pearsonr\n",
    "\n",
    "# Define two sets of data (X and Y)\n",
    "X = np.array([1, 2, 3, 4, 5])\n",
    "Y = np.array([2, 3, 4, 5, 6])\n",
    "\n",
    "# Calculate the Pearson correlation coefficient (r) and the p-value\n",
    "correlation_coefficient, p_value = pearsonr(X, Y)\n",
    "\n",
    "# Print the results\n",
    "print(\"Pearson Correlation Coefficient (r):\", correlation_coefficient)\n",
    "print(\"p-value:\", p_value)"
   ]
  },
  {
   "cell_type": "markdown",
   "id": "2372be3c",
   "metadata": {},
   "source": [
    "### Ans 12\n",
    "\n",
    "**Sampling with replacement** is a sampling method in statistics where items or data points are selected from a population or dataset, and after each selection, the chosen item is returned to the population before the next selection is made. In other words, each item has an equal chance of being selected at each draw, and it's possible for the same item to be selected more than once.\n",
    "\n",
    "Sampling with replacement is commonly used in various statistical analyses, including bootstrapping and Monte Carlo simulations, to generate random samples that mimic the characteristics of the original dataset.\n",
    "\n",
    "In this example, we have a population represented by the list 'population', and we want to draw a sample of size 5 with replacement. The `random.choices` function is used to perform sampling with replacement, and it returns a list of randomly selected items from the population, which may include duplicates."
   ]
  },
  {
   "cell_type": "code",
   "execution_count": 10,
   "id": "3d49cc1c",
   "metadata": {},
   "outputs": [
    {
     "name": "stdout",
     "output_type": "stream",
     "text": [
      "Sampled Data (with replacement): [3, 9, 6, 7, 7]\n"
     ]
    }
   ],
   "source": [
    "import random\n",
    "\n",
    "# Define a population or dataset\n",
    "population = [1, 2, 3, 4, 5, 6, 7, 8, 9, 10]\n",
    "\n",
    "# Specify the sample size\n",
    "sample_size = 5\n",
    "\n",
    "# Perform sampling with replacement\n",
    "sample = random.choices(population, k=sample_size)\n",
    "\n",
    "# Print the sampled data\n",
    "print(\"Sampled Data (with replacement):\", sample)"
   ]
  },
  {
   "cell_type": "markdown",
   "id": "c386a16b",
   "metadata": {},
   "source": [
    "### Ans 13\n",
    "\n",
    "**Sampling without replacement** is a statistical sampling method in which items or data points are selected from a population or dataset, but once an item is chosen, it is not returned to the population before the next selection. As a result, each selection reduces the size of the population for subsequent draws. This method is often used when it's important to ensure that each item is selected only once in a sample.\n",
    "\n",
    "Imagine you have a deck of playing cards (52 cards in total), and you want to draw a hand of five cards. If you draw a card and do not return it to the deck before drawing the next card, you are sampling without replacement. In this case, as each card is drawn, the number of available cards in the deck decreases, reducing the pool from which subsequent cards can be selected. This ensures that no two cards in the hand are the same. Sampling without replacement is commonly used in experiments and surveys when it's essential to avoid duplication in the sample."
   ]
  },
  {
   "cell_type": "markdown",
   "id": "bb8ef4cf",
   "metadata": {},
   "source": [
    "### Ans 14\n",
    "\n",
    "A **hypothesis** is a specific and testable statement or educated guess that proposes an explanation for a phenomenon or a relationship between variables in a research study. It serves as the foundation for scientific investigation and helps researchers formulate predictions and design experiments or studies to either support or reject the hypothesis.\n",
    "\n",
    "For example, in a scientific experiment, a hypothesis could be:\n",
    "\n",
    "\"Hypothesis: Increasing the amount of sunlight a plant receives will result in faster growth.\"\n",
    "\n",
    "In this hypothesis, the independent variable is the amount of sunlight, and the dependent variable is the plant's growth rate. The hypothesis suggests a cause-and-effect relationship: changing the independent variable (sunlight) will have an impact on the dependent variable (growth rate). Through experimentation and data analysis, researchers can test and validate whether this hypothesis holds true, contributing to our understanding of the natural world.\n",
    "\n",
    "In this example, we have a hypothesis that increasing sunlight leads to faster plant growth. We simulate data representing different levels of sunlight and corresponding growth rates. We then calculate the correlation coefficient to analyze the relationship between sunlight and growth. Based on the results, we draw conclusions about whether the data supports the hypothesis."
   ]
  },
  {
   "cell_type": "code",
   "execution_count": 11,
   "id": "a1303862",
   "metadata": {},
   "outputs": [
    {
     "name": "stdout",
     "output_type": "stream",
     "text": [
      "Correlation Coefficient: 0.9999999999999999\n",
      "The data supports the hypothesis that increasing sunlight leads to faster growth.\n"
     ]
    },
    {
     "data": {
      "image/png": "[encoded data removed]",
      "text/plain": [
       "<Figure size 640x480 with 1 Axes>"
      ]
     },
     "metadata": {},
     "output_type": "display_data"
    }
   ],
   "source": [
    "import numpy as np\n",
    "import matplotlib.pyplot as plt\n",
    "\n",
    "# Simulated data: Plant growth under different sunlight conditions\n",
    "sunlight_levels = np.array([2, 4, 6, 8, 10])  # Independent variable (amount of sunlight)\n",
    "growth_rates = np.array([3, 5, 7, 9, 11])    # Dependent variable (plant growth rate)\n",
    "\n",
    "# Hypothesis: Increasing sunlight leads to faster growth\n",
    "# Let's visualize the data\n",
    "plt.scatter(sunlight_levels, growth_rates, label='Data Points')\n",
    "plt.xlabel('Amount of Sunlight')\n",
    "plt.ylabel('Plant Growth Rate')\n",
    "plt.title('Hypothesis Testing: Sunlight and Plant Growth')\n",
    "plt.legend()\n",
    "plt.grid(True)\n",
    "\n",
    "# Perform statistical analysis to test the hypothesis\n",
    "# (In a real experiment, you would use appropriate statistical tests)\n",
    "# For this example, let's calculate the correlation coefficient\n",
    "correlation_coefficient = np.corrcoef(sunlight_levels, growth_rates)[0, 1]\n",
    "\n",
    "# Print the correlation coefficient\n",
    "print(\"Correlation Coefficient:\", correlation_coefficient)\n",
    "\n",
    "# Analyze the results and draw conclusions about the hypothesis\n",
    "if correlation_coefficient > 0:\n",
    "    print(\"The data supports the hypothesis that increasing sunlight leads to faster growth.\")\n",
    "else:\n",
    "    print(\"The data suggests that there may not be a strong relationship between sunlight and growth.\")"
   ]
  },
  {
   "cell_type": "code",
   "execution_count": null,
   "id": "79da4855",
   "metadata": {},
   "outputs": [],
   "source": []
  }
 ],
 "metadata": {
  "kernelspec": {
   "display_name": "Python 3 (ipykernel)",
   "language": "python",
   "name": "python3"
  },
  "language_info": {
   "codemirror_mode": {
    "name": "ipython",
    "version": 3
   },
   "file_extension": ".py",
   "mimetype": "text/x-python",
   "name": "python",
   "nbconvert_exporter": "python",
   "pygments_lexer": "ipython3",
   "version": "3.10.9"
  }
 },
 "nbformat": 4,
 "nbformat_minor": 5
}
