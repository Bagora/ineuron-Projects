{
 "cells": [
  {
   "cell_type": "markdown",
   "id": "053dc6e2",
   "metadata": {},
   "source": [
    "## CV_Assignment_11\n",
    "1. What do REGION PROPOSALS entail?\n",
    "2. What do you mean by NON-MAXIMUM SUPPRESSION? (NMS)\n",
    "3. What exactly is mAP?\n",
    "4. What is a frames per second (FPS)?\n",
    "5. What is an IOU (INTERSECTION OVER UNION)?\n",
    "6. Describe the PRECISION-RECALL CURVE (PR CURVE)\n",
    "7. What is the term \"selective search\"?\n",
    "8. Describe the R-CNN model's four components.\n",
    "9. What exactly is the Localization Module?\n",
    "10. What are the R-CNN DISADVANTAGES?"
   ]
  },
  {
   "cell_type": "code",
   "execution_count": null,
   "id": "bb553d47",
   "metadata": {},
   "outputs": [],
   "source": [
    "'''Ans 1:- Region proposals are a crucial component of object\n",
    "detection in computer vision. They involve generating candidate\n",
    "regions within an image that are likely to contain objects. This\n",
    "reduces the computational burden by focusing on regions of\n",
    "interest. Common methods include selective search and region\n",
    "proposal networks (RPNs). These proposals serve as input to\n",
    "subsequent object detection algorithms, enabling efficient and\n",
    "accurate identification of objects in complex scenes, a key task in\n",
    "applications like autonomous vehicles, surveillance, and image\n",
    "analysis.'''"
   ]
  },
  {
   "cell_type": "code",
   "execution_count": null,
   "id": "ee1258e9",
   "metadata": {},
   "outputs": [],
   "source": [
    "'''Ans 2:- Non-Maximum Suppression (NMS) is a technique commonly used\n",
    "in object detection to remove redundant bounding boxes. After\n",
    "object detection generates multiple bounding boxes for the same\n",
    "object, NMS selects the one with the highest confidence score and\n",
    "suppresses (removes) others that significantly overlap with it. This\n",
    "ensures that only the most confident and non-overlapping bounding\n",
    "boxes are retained. NMS helps improve detection accuracy by\n",
    "reducing duplicate detections, making it a critical step in object\n",
    "localization and recognition tasks.'''"
   ]
  },
  {
   "cell_type": "code",
   "execution_count": null,
   "id": "9b1b8c33",
   "metadata": {},
   "outputs": [],
   "source": [
    "'''Ans 3:- mAP, or mean Average Precision, is a widely used\n",
    "evaluation metric in computer vision, particularly for object\n",
    "detection and image retrieval. It measures the quality of a model's\n",
    "predictions by considering the precision and recall at different\n",
    "confidence thresholds. The average precision is computed for each\n",
    "class and then averaged to calculate mAP. A higher mAP indicates\n",
    "better model performance in accurately localizing and recognizing\n",
    "objects in images.'''"
   ]
  },
  {
   "cell_type": "code",
   "execution_count": null,
   "id": "d7b1e8d1",
   "metadata": {},
   "outputs": [],
   "source": [
    "'''Ans 4:- Frames per second (FPS) is a measure of a device's or\n",
    "system's ability to display or process video or animation. It\n",
    "represents the number of individual frames (images) displayed or\n",
    "processed per second. In video games and multimedia applications,\n",
    "higher FPS values result in smoother and more fluid motion. In\n",
    "video recording, playback, or live streaming, FPS determines how\n",
    "many frames are captured or displayed each second, influencing\n",
    "video quality.'''"
   ]
  },
  {
   "cell_type": "code",
   "execution_count": null,
   "id": "e9753080",
   "metadata": {},
   "outputs": [],
   "source": [
    "'''Ans 5:- Intersection over Union (IoU) is an evaluation metric used\n",
    "in object detection and image segmentation tasks. It\n",
    "quantifies the overlap between the predicted bounding box or region\n",
    "and the ground truth (actual) bounding box or region. IoU is\n",
    "calculated by dividing the area of intersection between the two\n",
    "regions by the area of their union. It provides a measure of how\n",
    "accurately a model localizes objects, with higher IoU values\n",
    "indicating better object localization.'''"
   ]
  },
  {
   "cell_type": "code",
   "execution_count": null,
   "id": "4b843a5c",
   "metadata": {},
   "outputs": [],
   "source": [
    "'''Ans 6:- The Precision-Recall Curve (PR Curve) is a graphical\n",
    "representation used to assess the performance of binary classification\n",
    "models, especially when dealing with imbalanced datasets. It plots\n",
    "precision (positive predictive value) against recall (true positive\n",
    "rate) at various decision threshold settings. As the threshold\n",
    "changes, the trade-off between precision and recall varies. A\n",
    "model's performance is evaluated by the shape of the curve; an\n",
    "ideal model exhibits high precision and high recall across all\n",
    "thresholds. PR Curves provide valuable insights into a model's ability\n",
    "to make accurate positive predictions while minimizing false\n",
    "positives.'''"
   ]
  },
  {
   "cell_type": "code",
   "execution_count": null,
   "id": "b0b5e255",
   "metadata": {},
   "outputs": [],
   "source": [
    "'''Ans 7:- Selective Search is a region proposal algorithm used in\n",
    "computer vision and object detection tasks. It aims to generate a\n",
    "set of candidate regions within an image likely to contain\n",
    "objects. It operates by segmenting the image into different regions\n",
    "based on color, texture, and shape similarities and then\n",
    "recursively merging them into larger regions. These regions serve as\n",
    "potential object locations and are input to subsequent object\n",
    "detection algorithms.'''"
   ]
  },
  {
   "cell_type": "code",
   "execution_count": null,
   "id": "44313062",
   "metadata": {},
   "outputs": [],
   "source": [
    "'''Ans 8:- The R-CNN (Region-based Convolutional Neural Network)\n",
    "model consists of four main components:-\n",
    "\n",
    "1. Region Proposal: It generates potential object regions in an \n",
    "image using selective search or a similar method.\n",
    "\n",
    "2. Feature Extraction:- Each proposed region is cropped and resized\n",
    "to a fixed size, then passed through a CNN to extract features.\n",
    "\n",
    "3. Region Classification: These features are used to classify objects\n",
    "and refine bounding box coordinates.\n",
    "\n",
    "4. Non-Maximum Suppression (NMS):- Redundant bounding boxes are removed\n",
    "using NMS, ensuring only the most confident and non-overlapping\n",
    "detections are retained.'''"
   ]
  },
  {
   "cell_type": "code",
   "execution_count": 1,
   "id": "94e55298",
   "metadata": {},
   "outputs": [
    {
     "name": "stdout",
     "output_type": "stream",
     "text": [
      "Model: \"model\"\n",
      "_________________________________________________________________\n",
      " Layer (type)                Output Shape              Param #   \n",
      "=================================================================\n",
      " input_1 (InputLayer)        [(None, 14, 14, 256)]     0         \n",
      "                                                                 \n",
      " conv2d (Conv2D)             (None, 12, 12, 4)         9220      \n",
      "                                                                 \n",
      " flatten (Flatten)           (None, 576)               0         \n",
      "                                                                 \n",
      "=================================================================\n",
      "Total params: 9220 (36.02 KB)\n",
      "Trainable params: 9220 (36.02 KB)\n",
      "Non-trainable params: 0 (0.00 Byte)\n",
      "_________________________________________________________________\n"
     ]
    }
   ],
   "source": [
    "'''Ans 9:- The Localization Module, often a part of object detection\n",
    "networks like Faster R-CNN, is responsible for refining the initial\n",
    "bounding box proposals generated by the Region Proposal Network\n",
    "(RPN). It takes the feature maps from the backbone network and\n",
    "applies additional convolutional layers to regress the precise\n",
    "coordinates (x, y, width, height) of the object's bounding box within\n",
    "each proposed region. The Localization Module plays a critical\n",
    "role in accurately localizing objects, making it an essential\n",
    "component in object detection pipelines.\n",
    "\n",
    "This code defines a simple localization module as a\n",
    "convolutional layer followed by flattening the output. such modules are\n",
    "typically part of a larger object detection network and involve more\n",
    "complex architectures and loss functions tailored to localization\n",
    "tasks.'''\n",
    "\n",
    "import tensorflow as tf\n",
    "from tensorflow.keras.layers import Conv2D, Flatten, Dense\n",
    "\n",
    "# Define a simple Localization Module\n",
    "def create_localization_module():\n",
    "    input_features = tf.keras.layers.Input(shape=(14, 14, 256))  # Example feature map size\n",
    "    localization_conv = Conv2D(4, kernel_size=(3, 3), activation='linear')(input_features)\n",
    "    localization_output = Flatten()(localization_conv)\n",
    "    return tf.keras.Model(inputs=input_features, outputs=localization_output)\n",
    "\n",
    "# Create and compile the Localization Module\n",
    "localization_module = create_localization_module()\n",
    "localization_module.compile(optimizer='adam', loss='mean_squared_error')\n",
    "\n",
    "# Generate random feature map data for demonstration\n",
    "feature_maps = tf.random.normal((32, 14, 14, 256))\n",
    "\n",
    "# Forward pass through the Localization Module\n",
    "localization_results = localization_module(feature_maps)\n",
    "localization_module.summary()"
   ]
  },
  {
   "cell_type": "code",
   "execution_count": null,
   "id": "255042d7",
   "metadata": {},
   "outputs": [],
   "source": [
    "'''Ans 10:- R-CNN (Region-based Convolutional Neural Network) has\n",
    "several disadvantages:-\n",
    "\n",
    "1. Slow Training and Inference:- R-CNN is computationally intensive\n",
    "and slow, making it impractical for real-time applications due to its\n",
    "extensive region proposal processing.\n",
    "\n",
    "2. Complex Pipeline:- It involves multiple stages, including region proposal,\n",
    "feature extraction, and classification, leading to complexity and difficulty in training.\n",
    "\n",
    "3. Fixed Input Size:- R-CNN requires fixed-size input images,\n",
    "limiting its flexibility for handling various image dimensions.\n",
    "\n",
    "4. Memory and Storage Intensive:- It consumes substantial memory\n",
    "and storage resources, hindering scalability.\n",
    "\n",
    "5. LowLocalization Accuracy:- It may not precisely localize small or densely\n",
    "packed objects, affecting object detection quality.'''"
   ]
  }
 ],
 "metadata": {
  "kernelspec": {
   "display_name": "Python 3 (ipykernel)",
   "language": "python",
   "name": "python3"
  },
  "language_info": {
   "codemirror_mode": {
    "name": "ipython",
    "version": 3
   },
   "file_extension": ".py",
   "mimetype": "text/x-python",
   "name": "python",
   "nbconvert_exporter": "python",
   "pygments_lexer": "ipython3",
   "version": "3.10.9"
  }
 },
 "nbformat": 4,
 "nbformat_minor": 5
}
