{
 "cells": [
  {
   "cell_type": "markdown",
   "id": "c356db0a",
   "metadata": {},
   "source": [
    "## Python_Basics_Assignment_21\n",
    "1. Add the current date to the text file today.txt as a string.\n",
    "2. Read the text file today.txt into the string today_string\n",
    "3. Parse the date from today_string.\n",
    "4. List the files in your current directory\n",
    "5. Create a list of all of the files in your parent directory (minimum five files should be available).\n",
    "6. Use multiprocessing to create three separate processes. Make each one wait a random number of seconds between one and five, print the current time, and then exit.\n",
    "7. Create a date object of your day of birth.\n",
    "8. What day of the week was your day of birth?\n",
    "9. When will you be (or when were you) 10,000 days old?"
   ]
  },
  {
   "cell_type": "code",
   "execution_count": 1,
   "id": "713624f9",
   "metadata": {},
   "outputs": [],
   "source": [
    "'''Ans 1:- This Python code uses the datetime module to get the current date and time,\n",
    "then formats it as a string. It opens a file called \"today.txt\" and appends the\n",
    "formatted date to it. The file should be in the same location as the script. This code\n",
    "allows storing the current date in the \"today.txt\" file.'''\n",
    "\n",
    "from datetime import datetime\n",
    "\n",
    "current_date = datetime.now().strftime(\"%Y-%m-%d %H:%M:%S\")\n",
    "\n",
    "with open(\"today.txt\", \"a\") as file:\n",
    "    file.write(current_date + \"\\n\")"
   ]
  },
  {
   "cell_type": "code",
   "execution_count": 2,
   "id": "775ea15a",
   "metadata": {},
   "outputs": [
    {
     "name": "stdout",
     "output_type": "stream",
     "text": [
      "2023-08-20 23:33:06\n",
      "\n"
     ]
    }
   ],
   "source": [
    "'''Ans 2:-In this code, the with open() block opens the \"today.txt\" file in read mode\n",
    "(\"r\"), and the file.read() function reads the entire content of the file into the\n",
    "today_string variable. Finally, the print() statement displays the content of the file as a\n",
    "string.'''\n",
    "\n",
    "with open(\"today.txt\", \"r\") as file:\n",
    "    today_string = file.read()\n",
    "\n",
    "print(today_string)"
   ]
  },
  {
   "cell_type": "code",
   "execution_count": 13,
   "id": "7b0d4169",
   "metadata": {},
   "outputs": [
    {
     "name": "stdout",
     "output_type": "stream",
     "text": [
      "Parsed Date: 2023-08-20 23:33:06\n"
     ]
    }
   ],
   "source": [
    "'''Ans 3:- In this code, we use the strptime() function from the datetime module to parse\n",
    "the date string according to the specified format.'''\n",
    "\n",
    "date_string = today_string.strip()  # Remove any whitespace\n",
    "format = \"%Y-%m-%d %H:%M:%S\"\n",
    "parsed_date = datetime.strptime(date_string, format)\n",
    "\n",
    "print(\"Parsed Date:\", parsed_date)"
   ]
  },
  {
   "cell_type": "code",
   "execution_count": 15,
   "id": "17a91932",
   "metadata": {},
   "outputs": [
    {
     "name": "stdout",
     "output_type": "stream",
     "text": [
      ".ipynb_checkpoints\n",
      "Assignment_12.docx\n",
      "books.csv\n",
      "books.db\n",
      "cropped_image.png\n",
      "cropped_image5.png\n",
      "data.csv\n",
      "encrypted_output.pdf\n",
      "formatted_doc.docx\n",
      "my_document.docx\n",
      "my_document1.docx\n",
      "output.csv\n",
      "python-logo.png\n",
      "python.pdf\n",
      "Python_Basics_Assignment_10.ipynb\n",
      "Python_Basics_Assignment_11.ipynb\n",
      "Python_Basics_Assignment_12.ipynb\n",
      "Python_Basics_Assignment_13.ipynb\n",
      "Python_Basics_Assignment_14.ipynb\n",
      "Python_Basics_Assignment_15.ipynb\n",
      "Python_Basics_Assignment_16.ipynb\n",
      "Python_Basics_Assignment_17.ipynb\n",
      "Python_Basics_Assignment_18.ipynb\n",
      "Python_Basics_Assignment_19.ipynb\n",
      "Python_Basics_Assignment_20.ipynb\n",
      "Python_Basics_Assignment_21.ipynb\n",
      "Python_Basics_Assignment_6.ipynb\n",
      "Python_Basics_Assignment_7.ipynb\n",
      "Python_Basics_Assignment_8.ipynb\n",
      "Python_Basics_Assignment_9.ipynb\n",
      "rotated_output.pdf\n",
      "sample4.csv\n",
      "sample5.csv\n",
      "sample5.png\n",
      "sample6.png\n",
      "sample7.png\n",
      "test.txt\n",
      "today.txt\n",
      "XGBoost.pdf\n",
      "zoo.py\n",
      "__pycache__\n"
     ]
    }
   ],
   "source": [
    "'''Ans 4:- This code uses the os module to interact with the operating system. It\n",
    "retrieves the current directory using os.getcwd(), lists all the files in the directory\n",
    "using os.listdir(), and then prints the filenames one by one.'''\n",
    "import os\n",
    "\n",
    "# Get the current directory\n",
    "current_directory = os.getcwd()\n",
    "\n",
    "# List all files in the current directory\n",
    "file_list = os.listdir(current_directory)\n",
    "\n",
    "# Print the list of files\n",
    "for filename in file_list:\n",
    "    print(filename)"
   ]
  },
  {
   "cell_type": "code",
   "execution_count": 37,
   "id": "00ea91eb",
   "metadata": {},
   "outputs": [
    {
     "name": "stdout",
     "output_type": "stream",
     "text": [
      "['Answers', 'Computer vision [CV]', 'Deep Learning [DL]', 'Machine Learning [ML]', 'Natural Language Processing [NLP]', 'Python Questions']\n"
     ]
    }
   ],
   "source": [
    "'''Ans 5:- In this code, os.path.dirname(os.getcwd()) is used to get the path of the\n",
    "parent directory, then os.listdir() is used to list the files in that directory.'''\n",
    "\n",
    "import os\n",
    "\n",
    "# Get the parent directory\n",
    "parent_directory = os.path.dirname(os.getcwd())\n",
    "\n",
    "# List all files in the parent directory\n",
    "file_list = os.listdir(parent_directory)\n",
    "\n",
    "#creating list\n",
    "file_list_formatted = [filename for filename in file_list]\n",
    "\n",
    "print(file_list_formatted)"
   ]
  },
  {
   "cell_type": "code",
   "execution_count": 18,
   "id": "5bb8b334",
   "metadata": {},
   "outputs": [
    {
     "name": "stdout",
     "output_type": "stream",
     "text": [
      "All processes have exited.\n"
     ]
    }
   ],
   "source": [
    "'''Ans 6:- Some interactive environments like Jupyter Notebook might cause this behavior\n",
    "because they don't handle the multiprocessing module in the same way as regular Python\n",
    "scripts. So we create a .py file of this code and import this module and run it'''\n",
    "\n",
    "import multiprocessing\n",
    "import random\n",
    "import time\n",
    "from datetime import datetime\n",
    "\n",
    "def process_function(id):\n",
    "    sleep_time = random.randint(1, 5)\n",
    "    print(f\"Process {id} will sleep for {sleep_time} seconds.\")\n",
    "    time.sleep(sleep_time)\n",
    "    current_time = datetime.now().strftime(\"%Y-%m-%d %H:%M:%S\")\n",
    "    print(f\"Process {id} woke up at {current_time} and is now exiting.\")\n",
    "\n",
    "if __name__ == \"__main__\":\n",
    "    processes = []\n",
    "    num_processes = 3\n",
    "\n",
    "    for i in range(num_processes):\n",
    "        process = multiprocessing.Process(target=process_function, args=(i,))\n",
    "        processes.append(process)\n",
    "\n",
    "    for process in processes:\n",
    "        process.start()\n",
    "\n",
    "    for process in processes:\n",
    "        process.join()\n",
    "\n",
    "    print(\"All processes have exited.\")"
   ]
  },
  {
   "cell_type": "code",
   "execution_count": 28,
   "id": "9c7ab088",
   "metadata": {},
   "outputs": [
    {
     "name": "stdout",
     "output_type": "stream",
     "text": [
      "Process <built-in function id> will sleep for 3 seconds.\n",
      "Process <built-in function id> woke up at 2023-08-21 12:53:59 and is now exiting.\n"
     ]
    }
   ],
   "source": [
    "import sample6 as mp\n",
    "mp.process_function(id)"
   ]
  },
  {
   "cell_type": "code",
   "execution_count": 2,
   "id": "243f35a4",
   "metadata": {},
   "outputs": [
    {
     "name": "stdout",
     "output_type": "stream",
     "text": [
      "Birth Date: 1991-12-26\n"
     ]
    }
   ],
   "source": [
    "'''Ans 7:- The provided code introduces a SimpleDate class that constructs a custom date\n",
    "object comprising year, month, and day attributes. The __str__ method formats and\n",
    "returns the date in \"YYYY-MM-DD\" style. The 02d format specifier pads the month and\n",
    "day with leading zeros if needed. An instance of `SimpleDate` is created using a\n",
    "birthdate, say 1991-12-26 This offers a basic yet customized way of creating a date\n",
    "representation without relying on the datetime module.'''\n",
    "\n",
    "class SimpleDate:\n",
    "    def __init__(self, year, month, day):\n",
    "        self.year = year\n",
    "        self.month = month\n",
    "        self.day = day\n",
    "\n",
    "    def __str__(self):\n",
    "        return f\"{self.year}-{self.month:02d}-{self.day:02d}\"\n",
    "\n",
    "year = 1991\n",
    "month = 12\n",
    "day = 26\n",
    "\n",
    "birth_date = SimpleDate(year, month, day)\n",
    "print(\"Birth Date:\", birth_date)"
   ]
  },
  {
   "cell_type": "code",
   "execution_count": 10,
   "id": "542be848",
   "metadata": {},
   "outputs": [
    {
     "name": "stdout",
     "output_type": "stream",
     "text": [
      "Enter your birth year: 1991\n",
      "Enter your birth month: 12\n",
      "Enter your birth day: 26\n",
      "The day of the week of your birth is 3\n"
     ]
    }
   ],
   "source": [
    "'''Ans 8:- It calculates the day of the week for a user's given birthdate.\n",
    "It imports the datetime module and defines a day_of_week function that takes\n",
    "year, month, and day as inputs, returns the weekday number (0 - Monday, 6 - Sunday).\n",
    "The user inputs their birth year, month, and day. The code then calls the\n",
    "day_of_week function, calculates the weekday, and displays it.'''\n",
    "import datetime\n",
    "\n",
    "def day_of_week(year, month, day):\n",
    "    dt = datetime.date(year, month, day)\n",
    "    return dt.weekday()\n",
    "\n",
    "# Get the user's birth year, month, and day\n",
    "year = int(input(\"Enter your birth year: \"))\n",
    "month = int(input(\"Enter your birth month: \"))\n",
    "day = int(input(\"Enter your birth day: \"))\n",
    "\n",
    "# Calculate the day of the week of the user's birth\n",
    "day_of_week = day_of_week(year, month, day)\n",
    "\n",
    "print(\"The day of the week of your birth is\", day_of_week)"
   ]
  },
  {
   "cell_type": "code",
   "execution_count": 13,
   "id": "30b19eb5",
   "metadata": {},
   "outputs": [
    {
     "name": "stdout",
     "output_type": "stream",
     "text": [
      "Your birth date: 1991-12-26\n",
      "Date when you will be 10000 days old: 2019-05-13\n"
     ]
    }
   ],
   "source": [
    "'''Ans 9:- It calculates the date when you'll be 10,000 days old. Utilizing the datetime\n",
    "module, it inputs your birthdate and desired days to add. The timedelta class helps\n",
    "manage time durations. After calculating, it displays both your birthdate and the\n",
    "target date when you'll reach that milestone.'''\n",
    "\n",
    "from datetime import datetime, timedelta\n",
    "\n",
    "# Replace these values with your birthdate\n",
    "birth_year = 1991\n",
    "birth_month = 12\n",
    "birth_day = 26\n",
    "\n",
    "\n",
    "days_to_add = 10000\n",
    "\n",
    "# Create a datetime object for the birthdate\n",
    "birth_date = datetime(birth_year, birth_month, birth_day)\n",
    "\n",
    "# Calculate the target date by adding the timedelta\n",
    "target_date = birth_date + timedelta(days=days_to_add)\n",
    "\n",
    "print(\"Your birth date:\", birth_date.strftime(\"%Y-%m-%d\"))\n",
    "print(\"Date when you will be\", days_to_add, \"days old:\", target_date.strftime(\"%Y-%m-%d\"))"
   ]
  },
  {
   "cell_type": "code",
   "execution_count": null,
   "id": "ba8e6510",
   "metadata": {},
   "outputs": [],
   "source": []
  },
  {
   "cell_type": "code",
   "execution_count": null,
   "id": "2a5803c3",
   "metadata": {},
   "outputs": [],
   "source": []
  }
 ],
 "metadata": {
  "kernelspec": {
   "display_name": "Python 3 (ipykernel)",
   "language": "python",
   "name": "python3"
  },
  "language_info": {
   "codemirror_mode": {
    "name": "ipython",
    "version": 3
   },
   "file_extension": ".py",
   "mimetype": "text/x-python",
   "name": "python",
   "nbconvert_exporter": "python",
   "pygments_lexer": "ipython3",
   "version": "3.10.9"
  }
 },
 "nbformat": 4,
 "nbformat_minor": 5
}
