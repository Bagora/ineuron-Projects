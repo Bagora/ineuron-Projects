{
 "cells": [
  {
   "cell_type": "markdown",
   "id": "c7afd524",
   "metadata": {},
   "source": [
    "## Q1. To what does a relative path refer?"
   ]
  },
  {
   "cell_type": "markdown",
   "id": "40e8cf2e",
   "metadata": {},
   "source": [
    "Ans. In Python, a relative path refers to the location of a file or directory relative to the current working directory of the Python script or the Python interpreter.\n",
    "\n",
    "The current working directory is the directory from which the Python script is executed or the directory where the Python interpreter is launched. When a file path is specified in a Python script using a relative path, it is interpreted as being relative to the current working directory."
   ]
  },
  {
   "cell_type": "markdown",
   "id": "2f6ad30a",
   "metadata": {},
   "source": [
    "## Q2. What does an absolute path start with your operating system?"
   ]
  },
  {
   "cell_type": "markdown",
   "id": "806bf735",
   "metadata": {},
   "source": [
    "\n",
    "Ans. In most operating systems, an absolute path starts with the root directory of the file system.\n",
    "\n",
    "On Unix-based systems (such as Linux and macOS), the root directory is denoted by a forward slash /. For example, an absolute path to a file on a Unix-based system might look like /home/user/documents/example.txt, where / represents the root directory, home is a subdirectory of the root directory, and so on.\n",
    "\n",
    "On Windows-based systems, the root directory is denoted by a drive letter followed by a colon, such as C: or D:. An absolute path to a file on a Windows-based system might look like C:\\Users\\Python\\Documents\\example.txt, where C: represents the root directory of the C drive, Users is a subdirectory of the root directory, and so on.\n",
    "\n",
    "Note that the syntax for file paths can vary depending on the operating system, so it's important to use the appropriate path syntax for the operating system you're working with. For example, in Python, you can use the os.path module to manipulate file paths in a platform-independent way."
   ]
  },
  {
   "cell_type": "markdown",
   "id": "97f9bb9f",
   "metadata": {},
   "source": [
    "## Q3. What do the functions os.getcwd() and os.chdir() do?"
   ]
  },
  {
   "cell_type": "markdown",
   "id": "d06faf3e",
   "metadata": {},
   "source": [
    "Ans. The os.getcwd() function in Python returns the current working directory of the Python script or interpreter as a string. The current working directory is the directory from which the Python script is executed or the directory where the Python interpreter is launched. Here's an example that demonstrates the use of os.getcwd():"
   ]
  },
  {
   "cell_type": "code",
   "execution_count": 22,
   "id": "fb5d5b10",
   "metadata": {},
   "outputs": [
    {
     "name": "stdout",
     "output_type": "stream",
     "text": [
      "Current working directory C:\\Users\\Aditya\\Assignments-1 may 2023 \n"
     ]
    }
   ],
   "source": [
    "import os\n",
    "cwd = os.getcwd() # Get the current working directory\n",
    "print(f\"Current working directory {cwd} \")"
   ]
  },
  {
   "cell_type": "markdown",
   "id": "00523a8a",
   "metadata": {},
   "source": [
    "The os.chdir() function in Python changes the current working directory to the specified path. Here's an example:"
   ]
  },
  {
   "cell_type": "code",
   "execution_count": 2,
   "id": "3cffdfaa",
   "metadata": {},
   "outputs": [
    {
     "name": "stdout",
     "output_type": "stream",
     "text": [
      "Current working directory C:\\Users\\Aditya\\Assignments-1 may 2023\n",
      "New current working directory C:\\Python311\n"
     ]
    }
   ],
   "source": [
    "cwd = os.getcwd()\n",
    "print(f\"Current working directory {cwd}\")\n",
    "\n",
    "# Change the current working directory\n",
    "os.chdir('C:\\\\Python311') \n",
    "\n",
    "new_cwd = os.getcwd()\n",
    "print(f\"New current working directory {new_cwd}\")"
   ]
  },
  {
   "cell_type": "markdown",
   "id": "4974a9ef",
   "metadata": {},
   "source": [
    "In this example, we first use the os.getcwd() function to get the current working directory and print it to the console. We then use the os.chdir() function to change the current working directory to C:\\\\Python311, which is a different directory. Finally, we call new_cwd and print it to the console to get the new current working directory"
   ]
  },
  {
   "cell_type": "markdown",
   "id": "8a23cb8c",
   "metadata": {},
   "source": [
    "## Q4. What are the . and .. folders?"
   ]
  },
  {
   "cell_type": "markdown",
   "id": "f4890507",
   "metadata": {},
   "source": [
    "The . directory represents the current directory, and the .. directory represents the parent directory.\n",
    "In the context of a Flask application, the . directory can be used to refer to files and directories relative to the current file. For example, if you have a Flask application with a file structure like this:"
   ]
  },
  {
   "cell_type": "code",
   "execution_count": null,
   "id": "19b5957a",
   "metadata": {},
   "outputs": [],
   "source": [
    "myapp/\n",
    "    app.py\n",
    "    templates/\n",
    "        index.html"
   ]
  },
  {
   "cell_type": "markdown",
   "id": "11ba7aec",
   "metadata": {},
   "source": [
    "You can use \"./templates/index.html\" to refer to the index.html file from within the app.py file."
   ]
  },
  {
   "cell_type": "markdown",
   "id": "df3e1bc0",
   "metadata": {},
   "source": [
    "Similarly, you can use .. to refer to files and directories relative to the parent directory. For example, if you have a Flask application with a file structure like this:"
   ]
  },
  {
   "cell_type": "code",
   "execution_count": null,
   "id": "131bff86",
   "metadata": {},
   "outputs": [],
   "source": [
    "myapp/\n",
    "    app.py\n",
    "    templates/\n",
    "        index.html\n",
    "    static/\n",
    "        style.css"
   ]
  },
  {
   "cell_type": "markdown",
   "id": "8276eb81",
   "metadata": {},
   "source": [
    "You can use \"../static/style.css\" to refer to the style.css file from within the index.html file in the templates directory."
   ]
  },
  {
   "cell_type": "markdown",
   "id": "f1e3a9ab",
   "metadata": {},
   "source": [
    "## Q5. In C:\\bacon\\eggs\\spam.txt, which part is the dir name, and which part is the base name?"
   ]
  },
  {
   "cell_type": "markdown",
   "id": "b09bcdf2",
   "metadata": {},
   "source": [
    "In the file path C:\\bacon\\eggs\\spam.txt, the directory name is C:\\bacon\\eggs, and the base name is spam.txt.\n",
    "\n",
    "The directory name refers to the path of the directory that contains the file. In this case, the directory name is C:\\bacon\\eggs. This directory contains the file named spam.txt.\n",
    "\n",
    "The base name refers to the name of the file itself, without the directory path. In this case, the base name is spam.txt. It is the name of the file that is stored in the C:\\bacon\\eggs directory."
   ]
  },
  {
   "cell_type": "markdown",
   "id": "25f4744e",
   "metadata": {},
   "source": [
    "## Q6. What are the three “mode” arguments that can be passed to the open() function?"
   ]
  },
  {
   "cell_type": "markdown",
   "id": "5a160f61",
   "metadata": {},
   "source": [
    "The open() function in Python can take three different mode arguments, which determine how the file will be opened and read or written to. These mode arguments are:\n",
    "\n",
    "1. r: This mode is used for reading files. It opens the file for reading, and if the file does not exist, it will raise a     FileNotFoundError.\n",
    "\n",
    "2. w: This mode is used for writing files. It opens the file for writing, and if the file exists, it will truncate the file to zero length. If the file does not exist, it will be created.\n",
    "\n",
    "3. a: This mode is used for appending files. It opens the file for writing, but it does not truncate the file. If the file does not exist, it will be created.\n",
    "\n",
    "In addition to these three mode arguments, the open() function can also take two optional arguments: b and t. These arguments are used to specify whether the file should be opened in binary or text mode. By default, files are opened in text mode. If you want to open a file in binary mode, you can add the b argument to the mode string. For example, \"rb\" would open a file for reading in binary mode."
   ]
  },
  {
   "cell_type": "code",
   "execution_count": 33,
   "id": "aba1454c",
   "metadata": {},
   "outputs": [],
   "source": [
    "with open('msg.txt', 'w') as f:\n",
    "    f.write(\"Python Is Everywhere!!\")"
   ]
  },
  {
   "cell_type": "markdown",
   "id": "6939de69",
   "metadata": {},
   "source": [
    "In this example, we can open or create a file named python.py in write mode using the open() function with the w mode argument. We then write the string print(\"Python Is Everywhere\") to the file using the write() method of the file object f."
   ]
  },
  {
   "cell_type": "markdown",
   "id": "4d1edf9d",
   "metadata": {},
   "source": [
    "To print the contents of the file 'app.py' we can use the open() function with the r mode argument to open the file for reading. we then use the read() method of the file object to read the contents of the file and print them to the console, like this:"
   ]
  },
  {
   "cell_type": "code",
   "execution_count": 34,
   "id": "f8dac568",
   "metadata": {},
   "outputs": [
    {
     "name": "stdout",
     "output_type": "stream",
     "text": [
      "Python Is Everywhere!!\n"
     ]
    }
   ],
   "source": [
    "with open('msg.txt', 'r') as f:\n",
    "    print(f.read())"
   ]
  },
  {
   "cell_type": "code",
   "execution_count": 44,
   "id": "6388ff9c",
   "metadata": {},
   "outputs": [],
   "source": [
    "with open('msg.txt', 'a') as f:\n",
    "    f.write(\"and Data Science is the Future\")"
   ]
  },
  {
   "cell_type": "code",
   "execution_count": 45,
   "id": "68d954f9",
   "metadata": {},
   "outputs": [
    {
     "name": "stdout",
     "output_type": "stream",
     "text": [
      "Python Is Everywhere!!and Data Science is the Future\n"
     ]
    }
   ],
   "source": [
    "with open('msg.txt', 'r') as f:\n",
    "    print(f.read())"
   ]
  },
  {
   "cell_type": "code",
   "execution_count": 35,
   "id": "ecee106f",
   "metadata": {},
   "outputs": [],
   "source": [
    "with open('msg.py', 'w') as f:\n",
    "    f.write(\"a = Python Is Everywhere!!\")"
   ]
  },
  {
   "cell_type": "code",
   "execution_count": 36,
   "id": "3e4f08d2",
   "metadata": {},
   "outputs": [
    {
     "name": "stdout",
     "output_type": "stream",
     "text": [
      "Python Is Everywhere\n"
     ]
    }
   ],
   "source": [
    "with open('app.py', 'r') as f:\n",
    "    exec(f.read())\n",
    "    print(a)"
   ]
  },
  {
   "cell_type": "markdown",
   "id": "52b9e777",
   "metadata": {},
   "source": [
    "In this example, we are using the exec() function to execute the contents of the file 'app.py' as Python code."
   ]
  },
  {
   "cell_type": "markdown",
   "id": "6bf359c9",
   "metadata": {},
   "source": [
    "To append to the file instead of overwriting its contents, you can open it in append mode using the a mode argument instead of the w mode argument. Here's an example:"
   ]
  },
  {
   "cell_type": "code",
   "execution_count": 43,
   "id": "ea17b8f2",
   "metadata": {},
   "outputs": [],
   "source": [
    "with open('app.py', 'a') as f:\n",
    "    f.write(\"\\n a = '''Python Is Everywhere Data Science is Future'''\")"
   ]
  },
  {
   "cell_type": "markdown",
   "id": "c94c9c3f",
   "metadata": {},
   "source": [
    "Finally We will read file again which will appended "
   ]
  },
  {
   "cell_type": "code",
   "execution_count": null,
   "id": "b7ae6410",
   "metadata": {},
   "outputs": [],
   "source": []
  },
  {
   "cell_type": "code",
   "execution_count": null,
   "id": "42cd46fc",
   "metadata": {},
   "outputs": [],
   "source": []
  }
 ],
 "metadata": {
  "kernelspec": {
   "display_name": "Python 3 (ipykernel)",
   "language": "python",
   "name": "python3"
  },
  "language_info": {
   "codemirror_mode": {
    "name": "ipython",
    "version": 3
   },
   "file_extension": ".py",
   "mimetype": "text/x-python",
   "name": "python",
   "nbconvert_exporter": "python",
   "pygments_lexer": "ipython3",
   "version": "3.10.9"
  }
 },
 "nbformat": 4,
 "nbformat_minor": 5
}
