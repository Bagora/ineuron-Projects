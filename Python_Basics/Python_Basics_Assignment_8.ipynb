{
 "cells": [
  {
   "cell_type": "markdown",
   "id": "a24d83e7",
   "metadata": {},
   "source": [
    "## Q1. Is the Python Standard Library included with PyInputPlus?"
   ]
  },
  {
   "cell_type": "markdown",
   "id": "a9af8f2c",
   "metadata": {},
   "source": [
    "Ans.\n",
    "No, the Python Standard Library is not included with PyInputPlus. PyInputPlus is a third-party library that provides additional functionality for taking user input in Python programs, such as input validation and automatic retrying.\n",
    "\n",
    "The Python Standard Library is a collection of modules included with Python itself, and provides a wide range of functionality for Python programmers, including modules for working with files, networking, databases, and more. While PyInputPlus may use some modules from the Python Standard Library internally, it is not a part of the standard library itself."
   ]
  },
  {
   "cell_type": "code",
   "execution_count": 1,
   "id": "ed348ad7",
   "metadata": {},
   "outputs": [
    {
     "ename": "ModuleNotFoundError",
     "evalue": "No module named 'pyinputplus'",
     "output_type": "error",
     "traceback": [
      "\u001b[1;31m---------------------------------------------------------------------------\u001b[0m",
      "\u001b[1;31mModuleNotFoundError\u001b[0m                       Traceback (most recent call last)",
      "Cell \u001b[1;32mIn[1], line 1\u001b[0m\n\u001b[1;32m----> 1\u001b[0m \u001b[38;5;28;01mimport\u001b[39;00m \u001b[38;5;21;01mpyinputplus\u001b[39;00m\n",
      "\u001b[1;31mModuleNotFoundError\u001b[0m: No module named 'pyinputplus'"
     ]
    }
   ],
   "source": [
    "import pyinputplus"
   ]
  },
  {
   "cell_type": "markdown",
   "id": "1d17e5e7",
   "metadata": {},
   "source": [
    "Lets see an example of this so lets install pyinputplus using pip install pyinputplus and import it as pyip"
   ]
  },
  {
   "cell_type": "code",
   "execution_count": 4,
   "id": "b5897681",
   "metadata": {},
   "outputs": [
    {
     "name": "stdout",
     "output_type": "stream",
     "text": [
      "Enter a positive integer: -10\n",
      "Number must be at minimum 1.\n",
      "Enter a positive integer: 0\n",
      "Number must be at minimum 1.\n",
      "Enter a positive integer: 10\n",
      "You entered: 10 Thanks for entering a positive integer\n"
     ]
    }
   ],
   "source": [
    "import pyinputplus as pyip\n",
    "\n",
    "# Prompt the user to enter a positive integer\n",
    "num = pyip.inputInt(\"Enter a positive integer: \", min=1)\n",
    "print(f\"You entered: {num} Thanks for entering a positive integer\")"
   ]
  },
  {
   "cell_type": "markdown",
   "id": "a21787a5",
   "metadata": {},
   "source": [
    "\"In this example, we see that the 'min' argument of the 'inputInt' function from the 'pyinputplus' module handles errors when the user does not input a positive integer. The code prompts the user to enter a positive integer, and if the user inputs a valid positive integer, the program will print the entered number along with a message thanking the user for entering a positive integer. However, if the user inputs a non-positive integer, the 'min' argument will handle the error, and the code will continue to prompt the user until a valid positive integer is entered.\""
   ]
  },
  {
   "cell_type": "markdown",
   "id": "a301ea78",
   "metadata": {},
   "source": [
    "## Q2. Why is PyInputPlus commonly imported with import pyinputplus as pypi?"
   ]
  },
  {
   "cell_type": "markdown",
   "id": "96546347",
   "metadata": {},
   "source": [
    "Ans. PyInputPlus is commonly imported with the alias pypi to make it easier to reference the library in code. By importing PyInputPlus with the shorter alias pypi, you can save time and reduce typing in your code.\n",
    "\n",
    "For example, instead of writing pyinputplus.inputInt(), you can write pypi.inputInt() after importing the module with the alias pypi. This can be particularly useful if you use PyInputPlus frequently throughout your code, as it can help make your code more concise and easier to read.\n",
    "\n",
    "Of course, you can choose any alias you like when importing a module, not just pypi. The choice of alias is often a matter of personal preference or a convention adopted by a development team. However, pypi is a common alias used for PyInputPlus because it is short, easy to remember, and distinct from other commonly used aliases."
   ]
  },
  {
   "cell_type": "markdown",
   "id": "9bc0e081",
   "metadata": {},
   "source": [
    "## Q3. How do you distinguish between inputInt() and inputFloat()?"
   ]
  },
  {
   "cell_type": "markdown",
   "id": "2b3e83fe",
   "metadata": {},
   "source": [
    "Ans. inputInt() and inputFloat() are both PyInputPlus functions used to get user input as an integer or a float, respectively. The main difference between the two is the type of input they accept.\n",
    "\n",
    "inputInt() only accepts integer values, while inputFloat() accepts both integer and float values. If the user enters a float value for inputInt(), PyInputPlus will raise a pyinputplus.exceptions.BadInputError exception.\n",
    "\n",
    "Here's an example that shows the difference between inputInt() and inputFloat():"
   ]
  },
  {
   "cell_type": "code",
   "execution_count": 5,
   "id": "e2893a79",
   "metadata": {},
   "outputs": [
    {
     "name": "stdout",
     "output_type": "stream",
     "text": [
      "Enter an integer: True\n",
      "'True' is not an integer.\n",
      "Enter an integer: 1\n",
      "Enter a float: False\n",
      "'False' is not a float.\n",
      "Enter a float: 0\n",
      "You entered an integer: 1\n",
      "You entered a float: 0.0\n"
     ]
    }
   ],
   "source": [
    "# Prompt the user to enter an integer\n",
    "num_int = pyip.inputInt(\"Enter an integer: \")\n",
    "\n",
    "# Prompt the user to enter a float\n",
    "num_float = pyip.inputFloat(\"Enter a float: \")\n",
    "\n",
    "print(f\"You entered an integer: {num_int}\")\n",
    "print(f\"You entered a float: {num_float}\")"
   ]
  },
  {
   "cell_type": "markdown",
   "id": "71557353",
   "metadata": {},
   "source": [
    "The inputInt() and inputFloat() functions from the pyinputplus module handle errors when the user does not input the required values. The code prompts the user to enter an integer or a float, and if the user inputs a valid integer, the program will print the entered integer. Similarly, if the user inputs a valid float or integer, the program will print the entered value as float. However, if the user inputs an invalid integer or float value, the corresponding function will handle the error, and the code will continue to prompt the user until a valid value is entered."
   ]
  },
  {
   "cell_type": "markdown",
   "id": "27c8176d",
   "metadata": {},
   "source": [
    "## Q4. Using PyInputPlus, how do you ensure that the user enters a whole number between 0 and 99?"
   ]
  },
  {
   "cell_type": "markdown",
   "id": "3425cc96",
   "metadata": {},
   "source": [
    "Ans. You can use the inputInt() function from PyInputPlus to ensure that the user enters a whole number between 0 and 99. Here's an example:"
   ]
  },
  {
   "cell_type": "code",
   "execution_count": 7,
   "id": "3ca927fb",
   "metadata": {},
   "outputs": [
    {
     "name": "stdout",
     "output_type": "stream",
     "text": [
      "Enter a number between 0 and 99: -5\n",
      "Number must be at minimum 0.\n",
      "Enter a number between 0 and 99: 100\n",
      "Number must be at maximum 99.\n",
      "Enter a number between 0 and 99: 90\n",
      "You entered: 90\n"
     ]
    }
   ],
   "source": [
    "# Prompt the user to enter a number between 0 and 99\n",
    "num = pyip.inputInt(\"Enter a number between 0 and 99: \", min=0, max=99)\n",
    "print(f\"You entered: {num}\")"
   ]
  },
  {
   "cell_type": "markdown",
   "id": "4138451b",
   "metadata": {},
   "source": [
    "In this example, we use the inputInt() function with the min and max arguments set to 0 and 99, respectively, to ensure that the entered value is between 0 and 99. If the user enters a value outside of this range, PyInputPlus will prompt them to enter a valid value. If the user enters a non-integer value, PyInputPlus will also prompt them to enter a valid integer."
   ]
  },
  {
   "cell_type": "markdown",
   "id": "47e1c060",
   "metadata": {},
   "source": [
    "## Q5. What is transferred to the keyword arguments allowRegexes and     blockRegexes?"
   ]
  },
  {
   "cell_type": "markdown",
   "id": "e232f2c1",
   "metadata": {},
   "source": [
    "Ans. The allowRegexes and blockRegexes arguments are lists of regular expressions that are used to allow or block certain types of input from the user.\n",
    "\n",
    "When you use these arguments in a PyInputPlus function, you can pass a list of regular expressions as a parameter. PyInputPlus will then use these regular expressions to determine whether the user's input should be allowed or blocked.\n",
    "\n",
    "Here's an example that demonstrates how to use allowRegexes and blockRegexes:"
   ]
  },
  {
   "cell_type": "code",
   "execution_count": 19,
   "id": "9654fbb2",
   "metadata": {},
   "outputs": [
    {
     "name": "stdout",
     "output_type": "stream",
     "text": [
      "Enter a string with letters,spaces & Special char: @python3 IS EVErywhere #@DATA_Science\n",
      "You entered: @python3 IS EVErywhere #@DATA_Science\n",
      "Enter a number that is not divisible by 2: 8\n",
      "This response is invalid.\n",
      "Enter a number that is not divisible by 2: 99\n"
     ]
    }
   ],
   "source": [
    "user_input = pyip.inputStr(\"Enter a string with letters,spaces & Special char: \", allowRegexes=['^[a-zA-Z_]*$'])\n",
    "print(f\"You entered: {user_input}\")\n",
    "\n",
    "num = pyip.inputInt(\"Enter a number that is not divisible by 2: \", blockRegexes=[r'^.*[02468]$'])"
   ]
  },
  {
   "cell_type": "markdown",
   "id": "004eb7a3",
   "metadata": {},
   "source": [
    "allowRegexes is used to specify a regular expression that matches strings containing letters or digits. If the user enters a string that doesn't match this regular expression (e.g., a string containing special characters), PyInputPlus will prompt them to enter a valid string.\n",
    "\n",
    "blockRegexes is used to specify a regular expression that matches numbers that are divisible by 2. If the user enters a number that matches this regular expression (i.e., a number that ends in an even digit), PyInputPlus will prompt them to enter a different number."
   ]
  },
  {
   "cell_type": "markdown",
   "id": "6f880351",
   "metadata": {},
   "source": [
    "## Q6. If a blank input is entered three times, what does inputStr(limit=3) do?"
   ]
  },
  {
   "cell_type": "markdown",
   "id": "fe6ca28e",
   "metadata": {},
   "source": [
    "Ans. If a blank input is entered three times in a row, the inputStr(limit=3) function from PyInputPlus will raise a TimeoutException with the message \"Blank values are not allowed\". This is because the limit argument specifies the number of times the user is allowed to enter a blank input before the function raises an exception.\n",
    "\n",
    "Here's an example:"
   ]
  },
  {
   "cell_type": "code",
   "execution_count": 21,
   "id": "a671b26e",
   "metadata": {},
   "outputs": [
    {
     "name": "stdout",
     "output_type": "stream",
     "text": [
      "Enter a string: \n",
      "Blank values are not allowed.\n",
      "Enter a string: \n",
      "Blank values are not allowed.\n",
      "Enter a string: \n",
      "Blank values are not allowed.\n"
     ]
    },
    {
     "ename": "RetryLimitException",
     "evalue": "",
     "output_type": "error",
     "traceback": [
      "\u001b[1;31m---------------------------------------------------------------------------\u001b[0m",
      "\u001b[1;31mValidationException\u001b[0m                       Traceback (most recent call last)",
      "File \u001b[1;32m~\\AppData\\Roaming\\Python\\Python310\\site-packages\\pyinputplus\\__init__.py:167\u001b[0m, in \u001b[0;36m_genericInput\u001b[1;34m(prompt, default, timeout, limit, applyFunc, validationFunc, postValidateApplyFunc, passwordMask)\u001b[0m\n\u001b[0;32m    166\u001b[0m \u001b[38;5;28;01mtry\u001b[39;00m:\n\u001b[1;32m--> 167\u001b[0m     possibleNewUserInput \u001b[38;5;241m=\u001b[39m \u001b[43mvalidationFunc\u001b[49m\u001b[43m(\u001b[49m\n\u001b[0;32m    168\u001b[0m \u001b[43m        \u001b[49m\u001b[43muserInput\u001b[49m\n\u001b[0;32m    169\u001b[0m \u001b[43m    \u001b[49m\u001b[43m)\u001b[49m  \u001b[38;5;66;03m# If validation fails, this function will raise an exception. Returns an updated value to use as user input (e.g. stripped of whitespace, etc.)\u001b[39;00m\n\u001b[0;32m    170\u001b[0m     \u001b[38;5;28;01mif\u001b[39;00m possibleNewUserInput \u001b[38;5;129;01mis\u001b[39;00m \u001b[38;5;129;01mnot\u001b[39;00m \u001b[38;5;28;01mNone\u001b[39;00m:\n",
      "File \u001b[1;32m~\\AppData\\Roaming\\Python\\Python310\\site-packages\\pyinputplus\\__init__.py:243\u001b[0m, in \u001b[0;36minputStr.<locals>.<lambda>\u001b[1;34m(value)\u001b[0m\n\u001b[0;32m    241\u001b[0m pysv\u001b[38;5;241m.\u001b[39m_validateGenericParameters(blank, strip, allowRegexes, blockRegexes)\n\u001b[1;32m--> 243\u001b[0m validationFunc \u001b[38;5;241m=\u001b[39m \u001b[38;5;28;01mlambda\u001b[39;00m value: \u001b[43mpysv\u001b[49m\u001b[38;5;241;43m.\u001b[39;49m\u001b[43m_prevalidationCheck\u001b[49m\u001b[43m(\u001b[49m\n\u001b[0;32m    244\u001b[0m \u001b[43m    \u001b[49m\u001b[43mvalue\u001b[49m\u001b[43m,\u001b[49m\u001b[43m \u001b[49m\u001b[43mblank\u001b[49m\u001b[38;5;241;43m=\u001b[39;49m\u001b[43mblank\u001b[49m\u001b[43m,\u001b[49m\u001b[43m \u001b[49m\u001b[43mstrip\u001b[49m\u001b[38;5;241;43m=\u001b[39;49m\u001b[43mstrip\u001b[49m\u001b[43m,\u001b[49m\u001b[43m \u001b[49m\u001b[43mallowRegexes\u001b[49m\u001b[38;5;241;43m=\u001b[39;49m\u001b[43mallowRegexes\u001b[49m\u001b[43m,\u001b[49m\u001b[43m \u001b[49m\u001b[43mblockRegexes\u001b[49m\u001b[38;5;241;43m=\u001b[39;49m\u001b[43mblockRegexes\u001b[49m\u001b[43m,\u001b[49m\u001b[43m \u001b[49m\u001b[43mexcMsg\u001b[49m\u001b[38;5;241;43m=\u001b[39;49m\u001b[38;5;28;43;01mNone\u001b[39;49;00m\u001b[43m,\u001b[49m\n\u001b[0;32m    245\u001b[0m \u001b[43m\u001b[49m\u001b[43m)\u001b[49m[\u001b[38;5;241m1\u001b[39m]\n\u001b[0;32m    247\u001b[0m \u001b[38;5;28;01mreturn\u001b[39;00m _genericInput(\n\u001b[0;32m    248\u001b[0m     prompt\u001b[38;5;241m=\u001b[39mprompt,\n\u001b[0;32m    249\u001b[0m     default\u001b[38;5;241m=\u001b[39mdefault,\n\u001b[1;32m   (...)\u001b[0m\n\u001b[0;32m    254\u001b[0m     validationFunc\u001b[38;5;241m=\u001b[39mvalidationFunc,\n\u001b[0;32m    255\u001b[0m )\n",
      "File \u001b[1;32m~\\AppData\\Roaming\\Python\\Python310\\site-packages\\pysimplevalidate\\__init__.py:250\u001b[0m, in \u001b[0;36m_prevalidationCheck\u001b[1;34m(value, blank, strip, allowRegexes, blockRegexes, excMsg)\u001b[0m\n\u001b[0;32m    248\u001b[0m \u001b[38;5;28;01mif\u001b[39;00m \u001b[38;5;129;01mnot\u001b[39;00m blank \u001b[38;5;129;01mand\u001b[39;00m value \u001b[38;5;241m==\u001b[39m \u001b[38;5;124m\"\u001b[39m\u001b[38;5;124m\"\u001b[39m:\n\u001b[0;32m    249\u001b[0m     \u001b[38;5;66;03m# value is blank but blanks aren't allowed.\u001b[39;00m\n\u001b[1;32m--> 250\u001b[0m     \u001b[43m_raiseValidationException\u001b[49m\u001b[43m(\u001b[49m\u001b[43m_\u001b[49m\u001b[43m(\u001b[49m\u001b[38;5;124;43m\"\u001b[39;49m\u001b[38;5;124;43mBlank values are not allowed.\u001b[39;49m\u001b[38;5;124;43m\"\u001b[39;49m\u001b[43m)\u001b[49m\u001b[43m,\u001b[49m\u001b[43m \u001b[49m\u001b[43mexcMsg\u001b[49m\u001b[43m)\u001b[49m\n\u001b[0;32m    251\u001b[0m \u001b[38;5;28;01melif\u001b[39;00m blank \u001b[38;5;129;01mand\u001b[39;00m value \u001b[38;5;241m==\u001b[39m \u001b[38;5;124m\"\u001b[39m\u001b[38;5;124m\"\u001b[39m:\n",
      "File \u001b[1;32m~\\AppData\\Roaming\\Python\\Python310\\site-packages\\pysimplevalidate\\__init__.py:222\u001b[0m, in \u001b[0;36m_raiseValidationException\u001b[1;34m(standardExcMsg, customExcMsg)\u001b[0m\n\u001b[0;32m    221\u001b[0m \u001b[38;5;28;01mif\u001b[39;00m customExcMsg \u001b[38;5;129;01mis\u001b[39;00m \u001b[38;5;28;01mNone\u001b[39;00m:\n\u001b[1;32m--> 222\u001b[0m     \u001b[38;5;28;01mraise\u001b[39;00m ValidationException(\u001b[38;5;28mstr\u001b[39m(standardExcMsg))\n\u001b[0;32m    223\u001b[0m \u001b[38;5;28;01melse\u001b[39;00m:\n",
      "\u001b[1;31mValidationException\u001b[0m: Blank values are not allowed.",
      "\nDuring handling of the above exception, another exception occurred:\n",
      "\u001b[1;31mRetryLimitException\u001b[0m                       Traceback (most recent call last)",
      "Cell \u001b[1;32mIn[21], line 2\u001b[0m\n\u001b[0;32m      1\u001b[0m \u001b[38;5;66;03m# Prompt the user to enter a string, allowing blank input up to 3 times\u001b[39;00m\n\u001b[1;32m----> 2\u001b[0m text \u001b[38;5;241m=\u001b[39m \u001b[43mpyip\u001b[49m\u001b[38;5;241;43m.\u001b[39;49m\u001b[43minputStr\u001b[49m\u001b[43m(\u001b[49m\u001b[38;5;124;43m\"\u001b[39;49m\u001b[38;5;124;43mEnter a string: \u001b[39;49m\u001b[38;5;124;43m\"\u001b[39;49m\u001b[43m,\u001b[49m\u001b[43m \u001b[49m\u001b[43mlimit\u001b[49m\u001b[38;5;241;43m=\u001b[39;49m\u001b[38;5;241;43m3\u001b[39;49m\u001b[43m)\u001b[49m\n\u001b[0;32m      3\u001b[0m \u001b[38;5;28mprint\u001b[39m(\u001b[38;5;124mf\u001b[39m\u001b[38;5;124m\"\u001b[39m\u001b[38;5;124mYou entered: \u001b[39m\u001b[38;5;132;01m{\u001b[39;00mtext\u001b[38;5;132;01m}\u001b[39;00m\u001b[38;5;124m\"\u001b[39m)\n",
      "File \u001b[1;32m~\\AppData\\Roaming\\Python\\Python310\\site-packages\\pyinputplus\\__init__.py:247\u001b[0m, in \u001b[0;36minputStr\u001b[1;34m(prompt, default, blank, timeout, limit, strip, allowRegexes, blockRegexes, applyFunc, postValidateApplyFunc)\u001b[0m\n\u001b[0;32m    241\u001b[0m pysv\u001b[38;5;241m.\u001b[39m_validateGenericParameters(blank, strip, allowRegexes, blockRegexes)\n\u001b[0;32m    243\u001b[0m validationFunc \u001b[38;5;241m=\u001b[39m \u001b[38;5;28;01mlambda\u001b[39;00m value: pysv\u001b[38;5;241m.\u001b[39m_prevalidationCheck(\n\u001b[0;32m    244\u001b[0m     value, blank\u001b[38;5;241m=\u001b[39mblank, strip\u001b[38;5;241m=\u001b[39mstrip, allowRegexes\u001b[38;5;241m=\u001b[39mallowRegexes, blockRegexes\u001b[38;5;241m=\u001b[39mblockRegexes, excMsg\u001b[38;5;241m=\u001b[39m\u001b[38;5;28;01mNone\u001b[39;00m,\n\u001b[0;32m    245\u001b[0m )[\u001b[38;5;241m1\u001b[39m]\n\u001b[1;32m--> 247\u001b[0m \u001b[38;5;28;01mreturn\u001b[39;00m \u001b[43m_genericInput\u001b[49m\u001b[43m(\u001b[49m\n\u001b[0;32m    248\u001b[0m \u001b[43m    \u001b[49m\u001b[43mprompt\u001b[49m\u001b[38;5;241;43m=\u001b[39;49m\u001b[43mprompt\u001b[49m\u001b[43m,\u001b[49m\n\u001b[0;32m    249\u001b[0m \u001b[43m    \u001b[49m\u001b[43mdefault\u001b[49m\u001b[38;5;241;43m=\u001b[39;49m\u001b[43mdefault\u001b[49m\u001b[43m,\u001b[49m\n\u001b[0;32m    250\u001b[0m \u001b[43m    \u001b[49m\u001b[43mtimeout\u001b[49m\u001b[38;5;241;43m=\u001b[39;49m\u001b[43mtimeout\u001b[49m\u001b[43m,\u001b[49m\n\u001b[0;32m    251\u001b[0m \u001b[43m    \u001b[49m\u001b[43mlimit\u001b[49m\u001b[38;5;241;43m=\u001b[39;49m\u001b[43mlimit\u001b[49m\u001b[43m,\u001b[49m\n\u001b[0;32m    252\u001b[0m \u001b[43m    \u001b[49m\u001b[43mapplyFunc\u001b[49m\u001b[38;5;241;43m=\u001b[39;49m\u001b[43mapplyFunc\u001b[49m\u001b[43m,\u001b[49m\n\u001b[0;32m    253\u001b[0m \u001b[43m    \u001b[49m\u001b[43mpostValidateApplyFunc\u001b[49m\u001b[38;5;241;43m=\u001b[39;49m\u001b[43mpostValidateApplyFunc\u001b[49m\u001b[43m,\u001b[49m\n\u001b[0;32m    254\u001b[0m \u001b[43m    \u001b[49m\u001b[43mvalidationFunc\u001b[49m\u001b[38;5;241;43m=\u001b[39;49m\u001b[43mvalidationFunc\u001b[49m\u001b[43m,\u001b[49m\n\u001b[0;32m    255\u001b[0m \u001b[43m\u001b[49m\u001b[43m)\u001b[49m\n",
      "File \u001b[1;32m~\\AppData\\Roaming\\Python\\Python310\\site-packages\\pyinputplus\\__init__.py:188\u001b[0m, in \u001b[0;36m_genericInput\u001b[1;34m(prompt, default, timeout, limit, applyFunc, validationFunc, postValidateApplyFunc, passwordMask)\u001b[0m\n\u001b[0;32m    185\u001b[0m         \u001b[38;5;28;01mreturn\u001b[39;00m default\n\u001b[0;32m    186\u001b[0m     \u001b[38;5;28;01melse\u001b[39;00m:\n\u001b[0;32m    187\u001b[0m         \u001b[38;5;66;03m# If there is no default, then raise the timeout/limit exception.\u001b[39;00m\n\u001b[1;32m--> 188\u001b[0m         \u001b[38;5;28;01mraise\u001b[39;00m limitOrTimeoutException\n\u001b[0;32m    189\u001b[0m \u001b[38;5;28;01melse\u001b[39;00m:\n\u001b[0;32m    190\u001b[0m     \u001b[38;5;66;03m# If there was no timeout/limit exceeded, let the user enter input again.\u001b[39;00m\n\u001b[0;32m    191\u001b[0m     \u001b[38;5;28;01mcontinue\u001b[39;00m\n",
      "\u001b[1;31mRetryLimitException\u001b[0m: "
     ]
    }
   ],
   "source": [
    "# Prompt the user to enter a string, allowing blank input up to 3 times\n",
    "text = pyip.inputStr(\"Enter a string: \", limit=3)\n",
    "print(f\"You entered: {text}\")"
   ]
  },
  {
   "cell_type": "markdown",
   "id": "02f20934",
   "metadata": {},
   "source": [
    "In this example, inputStr() is used to prompt the user to enter a string, with limit=3 allowing up to 3 blank inputs. If the user enters a non-blank input, the function will return the entered string and continue with the program. If the user enters a blank input, PyInputPlus will prompt them to enter a valid input. If the user enters a blank input 3 times in a row, PyInputPlus will raise a RetryLimitException with the message \"Blank values are not allowed\"."
   ]
  },
  {
   "cell_type": "markdown",
   "id": "1e3e770d",
   "metadata": {},
   "source": [
    "\"Now, here's the catch: if we don't want a user to see a long error and interrupt our program, we can use built-in Python keywords 'try' and 'except' to handle errors.\""
   ]
  },
  {
   "cell_type": "code",
   "execution_count": 22,
   "id": "bfbf3533",
   "metadata": {},
   "outputs": [
    {
     "name": "stdout",
     "output_type": "stream",
     "text": [
      "Enter a string: \n",
      "Blank values are not allowed.\n",
      "Enter a string: \n",
      "Blank values are not allowed.\n",
      "Enter a string: \n",
      "Blank values are not allowed.\n",
      "You entered blank input 3 times.\n"
     ]
    }
   ],
   "source": [
    "try:\n",
    "    # Prompt the user to enter a string, allowing blank input up to 3 times\n",
    "    text = pyip.inputStr(\"Enter a string: \", limit=3)\n",
    "    print(f\"You entered: {text}\")\n",
    "\n",
    "    \n",
    "except pyip.RetryLimitException:\n",
    "    # Handle the case where the user entered blank input 3 times\n",
    "    print(\"You entered blank input 3 times.\")"
   ]
  },
  {
   "cell_type": "markdown",
   "id": "c79742ff",
   "metadata": {},
   "source": [
    "## Q7. If blank input is entered three times, what does inputStr(limit=3, default=&#39;hello&#39;) do?"
   ]
  },
  {
   "cell_type": "code",
   "execution_count": 24,
   "id": "a810d28c",
   "metadata": {},
   "outputs": [
    {
     "name": "stdout",
     "output_type": "stream",
     "text": [
      "Enter a string: \n",
      "Blank values are not allowed.\n",
      "Enter a string: \n",
      "Blank values are not allowed.\n",
      "Enter a string: \n",
      "Blank values are not allowed.\n",
      "You entered: hello\n"
     ]
    }
   ],
   "source": [
    "# Prompt the user to enter a string, allowing blank input up to 3 times\n",
    "text = pyip.inputStr(\"Enter a string: \", limit=3, default=\"hello\")\n",
    "print(f\"You entered: {text}\")"
   ]
  },
  {
   "cell_type": "markdown",
   "id": "26592d3f",
   "metadata": {},
   "source": [
    "If the user enters a blank input three times in a row, the inputStr() function with the limit=3 and default='hello' arguments will return the string 'hello'. The default argument specifies a default value to be returned if the user reaches the limit of attempts without providing a valid input. In this case, the default value is the string 'hello'."
   ]
  },
  {
   "cell_type": "code",
   "execution_count": null,
   "id": "969a6e6f",
   "metadata": {},
   "outputs": [],
   "source": []
  }
 ],
 "metadata": {
  "kernelspec": {
   "display_name": "Python 3 (ipykernel)",
   "language": "python",
   "name": "python3"
  },
  "language_info": {
   "codemirror_mode": {
    "name": "ipython",
    "version": 3
   },
   "file_extension": ".py",
   "mimetype": "text/x-python",
   "name": "python",
   "nbconvert_exporter": "python",
   "pygments_lexer": "ipython3",
   "version": "3.10.9"
  }
 },
 "nbformat": 4,
 "nbformat_minor": 5
}
