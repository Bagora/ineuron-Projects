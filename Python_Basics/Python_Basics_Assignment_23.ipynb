{
 "cells": [
  {
   "cell_type": "markdown",
   "id": "2a9f7f16",
   "metadata": {},
   "source": [
    "## Python_Basics_Assignment_23\n",
    "1. What is the result of the code, and why?\n",
    ">>> def func(a, b=6, c=8):\n",
    "print(a, b, c)\n",
    ">>> func(1, 2)\n",
    "\n",
    "2. What is the result of this code, and why?\n",
    ">>> def func(a, b, c=5):\n",
    "print(a, b, c)\n",
    ">>> func(1, c=3, b=2)\n",
    "\n",
    "3. How about this code: what is its result, and why?\n",
    ">>> def func(a, *pargs):\n",
    "print(a, pargs)\n",
    ">>> func(1, 2, 3)\n",
    "\n",
    "4. What does this code print, and why?\n",
    ">>> def func(a, **kargs):\n",
    "print(a, kargs)\n",
    ">>> func(a=1, c=3, b=2)\n",
    "\n",
    "5. What gets printed by this, and explain?\n",
    ">>> def func(a, b, c=8, d=5): print(a, b, c, d)\n",
    ">>> func(1, *(5, 6))\n",
    "\n",
    "6. what is the result of this, and explain?\n",
    ">>> def func(a, b, c): a = 2; b[0] = 'x'; c['a'] = 'y'\n",
    ">>> l=1; m=[1]; n={'a':0}\n",
    ">>> func(l, m, n)\n",
    ">>> l, m, n"
   ]
  },
  {
   "cell_type": "code",
   "execution_count": 1,
   "id": "1de00458",
   "metadata": {},
   "outputs": [
    {
     "name": "stdout",
     "output_type": "stream",
     "text": [
      "1 2 8\n"
     ]
    }
   ],
   "source": [
    "'''Ans 1:- The function func() is defined with three parameters: a, b, and c. The\n",
    "parameters b and c have default values of 6 and 8, respectively. When the function is\n",
    "called with func(1, 2), the arguments 1 and 2 are passed to a and b, respectively.\n",
    "The default value of c remains 8.  Therefore, the print() statement inside the\n",
    "function will display the values of a, b, and c as 1, 2, and 8, respectively.'''\n",
    "\n",
    "def func(a, b=6, c=8):\n",
    "    print(a, b, c) \n",
    "func(1, 2)"
   ]
  },
  {
   "cell_type": "code",
   "execution_count": 2,
   "id": "38150d4c",
   "metadata": {},
   "outputs": [
    {
     "name": "stdout",
     "output_type": "stream",
     "text": [
      "1 2 3\n"
     ]
    }
   ],
   "source": [
    "'''Ans 2:- The function func() is defined with three parameters: a, b, and\n",
    "c. The parameter c has a default value of 5. When the function is called with\n",
    "func(1, c=3, b=2), the arguments 1, 2, and 3 are passed to a, b, and c, respectively. \n",
    "The provided arguments directly match the parameter names, and since keyword\n",
    "arguments are used, the order of the arguments doesn't matter. The values are assigned\n",
    "to the corresponding parameters regardless of their positions.  Therefore, the\n",
    "print() statement inside the function will display the values of a, b, and c as 1, 2,\n",
    "and 3'''\n",
    "\n",
    "def func(a, b, c=5): \n",
    "    print(a, b, c) \n",
    "func(1, c=3, b=2)"
   ]
  },
  {
   "cell_type": "code",
   "execution_count": 3,
   "id": "50cb0f7c",
   "metadata": {},
   "outputs": [
    {
     "name": "stdout",
     "output_type": "stream",
     "text": [
      "1 (2, 3)\n"
     ]
    }
   ],
   "source": [
    "'''Ans 3:- The function func() is defined with two parameters: a and\n",
    "*pargs. The *pargs parameter is used to collect any additional positional arguments\n",
    "passed to the function as a tuple.  When the function is called with func(1, 2, 3),\n",
    "the argument 1 is assigned to parameter a, and the additional arguments 2 and 3\n",
    "are collected into the pargs tuple.  Therefore, the print() statement inside the\n",
    "function will display the value of a as 1, and the tuple pargs will contain the values\n",
    "(2, 3)'''\n",
    "\n",
    "def func(a, *pargs):\n",
    "    print(a, pargs)\n",
    "func(1, 2, 3)"
   ]
  },
  {
   "cell_type": "code",
   "execution_count": 8,
   "id": "9d452fb9",
   "metadata": {},
   "outputs": [
    {
     "name": "stdout",
     "output_type": "stream",
     "text": [
      "1 {'c': 3, 'b': 2}\n"
     ]
    }
   ],
   "source": [
    "'''Ans 4:- The function func() is defined with a parameter a and **kargs, which is used\n",
    "to collect any additional keyword arguments passed to the function as a\n",
    "dictionary.  When the function is called with func(a=1, c=3, b=2), the keyword arguments\n",
    "c=3 and b=2 are collected into the kargs dictionary. The keyword argument a=1 is\n",
    "assigned to the parameter a.  Therefore, the print() statement inside the function will\n",
    "display the value of a as 1, and the dictionary kargs will contain the keyword\n",
    "arguments 'c': 3 and 'b': 2'.'''\n",
    "\n",
    "def func(a, **kargs):\n",
    "    print(a, kargs)\n",
    "func(a=1, c=3, b=2)"
   ]
  },
  {
   "cell_type": "code",
   "execution_count": 9,
   "id": "6822908e",
   "metadata": {},
   "outputs": [
    {
     "name": "stdout",
     "output_type": "stream",
     "text": [
      "1 5 6 5\n"
     ]
    }
   ],
   "source": [
    "''' Ans 5:- The function func() is defined with four parameters: a, b, c, and d. The\n",
    "parameters c and d have default values of 8 and 5, When the function is\n",
    "called with func(1, *(5, 6)), the argument 1 is assigned to parameter a, and the *(5,\n",
    "6) syntax unpacks the tuple (5, 6) into the remaining positional parameters b, c,\n",
    "and d. As a result: Parameter b gets assigned 5. Parameter c gets assigned 6.\n",
    "Parameter d retains its default value of 5. Therefore, the print() statement inside the\n",
    "function will display the values of a, b, c, and d as 1, 5, 6, and 5 respectively.'''\n",
    "\n",
    "def func(a, b, c=8, d=5):\n",
    "    print(a, b, c, d)\n",
    "func(1, *(5, 6))"
   ]
  },
  {
   "cell_type": "code",
   "execution_count": 12,
   "id": "daf3cb3e",
   "metadata": {},
   "outputs": [
    {
     "name": "stdout",
     "output_type": "stream",
     "text": [
      "(1, ['x'], {'a': 'y'})\n"
     ]
    }
   ],
   "source": [
    "'''Ans 6:-The function func(a, b, c) is defined, which takes three arguments a, b, and\n",
    "c.  Inside the function, there are three assignments:  a is assigned the value 2.\n",
    "However, this assignment only affects the local variable a within the function scope\n",
    "and does not affect the variables passed to the function. The first element of\n",
    "list b is modified to 'x'. Since lists are mutable, this modification directly\n",
    "affects the original list outside the function. The value associated with the key 'a'\n",
    "in dictionary c is changed to 'y'. Similarly, this modification affects the\n",
    "original dictionary outside the function. Outside the function, before calling it,\n",
    "three variables are defined:  l is assigned the value 1. m is assigned a list [1]. n\n",
    "is assigned a dictionary {'a': 0}. The function func(l, m, n) is called with the\n",
    "three variables.  After the function call, the values of the variables l, m, and n\n",
    "remain unchanged:  l is still 1. m has been modified due to its mutability. The first\n",
    "element is changed from 1 to 'x'. n has been modified due to its mutability. The value\n",
    "associated with the key 'a' is changed from 0 to 'y'. Therefore, the final values of the\n",
    "variables are:  l: 1 m: ['x'] n: {'a': 'y'}. When you run this code, it will output: \n",
    "(1, ['x'], {'a': 'y'}) This output demonstrates how the function modifies the\n",
    "mutable objects list and dictionary, and how the non-mutable object int remains\n",
    "unaffected by the modifications within the function. '''\n",
    "\n",
    "def func(a, b, c):\n",
    "    a = 2\n",
    "    b[0] = 'x'\n",
    "    c['a'] = 'y'\n",
    "    \n",
    "l = 1\n",
    "m = [1]\n",
    "n = {'a': 0}\n",
    "\n",
    "func(l, m, n)\n",
    "\n",
    "result = (l, m, n)\n",
    "print(result)"
   ]
  }
 ],
 "metadata": {
  "kernelspec": {
   "display_name": "Python 3 (ipykernel)",
   "language": "python",
   "name": "python3"
  },
  "language_info": {
   "codemirror_mode": {
    "name": "ipython",
    "version": 3
   },
   "file_extension": ".py",
   "mimetype": "text/x-python",
   "name": "python",
   "nbconvert_exporter": "python",
   "pygments_lexer": "ipython3",
   "version": "3.10.9"
  }
 },
 "nbformat": 4,
 "nbformat_minor": 5
}
