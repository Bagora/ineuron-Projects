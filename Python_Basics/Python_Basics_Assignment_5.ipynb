{
 "cells": [
  {
   "cell_type": "markdown",
   "id": "3df0ee05",
   "metadata": {},
   "source": [
    "# Python_Basics_Assignment_5"
   ]
  },
  {
   "cell_type": "markdown",
   "id": "5b593e3a",
   "metadata": {},
   "source": [
    "# All Questions\n",
    "1. What does an empty dictionary's code look like?\n",
    "2. What is the value of a dictionary value with the key 'foo' and the value 42?\n",
    "3. What is the most significant distinction between a dictionary and a list?\n",
    "4. What happens if you try to access spam['foo'] if spam is {'bar': 100}?\n",
    "5. If a dictionary is stored in spam, what is the difference between the expressions 'cat' in spam and\n",
    "   'cat' in spam.keys()?\n",
    "6. If a dictionary is stored in spam, what is the difference between the expressions 'cat' in spam and\n",
    "   'cat' in spam.values()?\n",
    "7. What is a shortcut for the following code?\n",
    "   if 'color' not in spam:\n",
    "   spam['color'] = 'black'\n",
    "8. How do you \"pretty print\" dictionary values using which module and function?"
   ]
  },
  {
   "cell_type": "code",
   "execution_count": 1,
   "id": "95bb8286",
   "metadata": {},
   "outputs": [
    {
     "name": "stdout",
     "output_type": "stream",
     "text": [
      "{} {'not empty': 1}\n"
     ]
    }
   ],
   "source": [
    "#Q1.What does an empty dictionary's code look like?\n",
    "#Ans\n",
    "'''\n",
    "Anything which comes under curly bracket{} is dictionary in python.\n",
    "'''\n",
    "# Let's check\n",
    "a = {} #empty dic\n",
    "b = {'not empty' : 1}\n",
    "print(a,b)"
   ]
  },
  {
   "cell_type": "code",
   "execution_count": 2,
   "id": "a0cd1459",
   "metadata": {},
   "outputs": [
    {
     "name": "stdout",
     "output_type": "stream",
     "text": [
      "{'foo': 42}\n"
     ]
    }
   ],
   "source": [
    "#Q2.What is the value of a dictionary value with the key 'foo' and the value 42?\n",
    "#Ans\n",
    "'''\n",
    "In dictionary a key is a predefined data which will be call at anytime with it's data value\n",
    "lets see above example 'not empty' is a key and 1 is there value. so we check this eg. also\n",
    "'''\n",
    "# Let's check\n",
    "a = {'foo' : 42}\n",
    "print(a)"
   ]
  },
  {
   "cell_type": "code",
   "execution_count": 9,
   "id": "d3b42c7a",
   "metadata": {},
   "outputs": [
    {
     "name": "stdout",
     "output_type": "stream",
     "text": [
      "Hello i am List in python ['Hello', True, (2+1j), 10, 8]\n",
      "Hello i am Dictionary in python {'Hello': True, 'Python': 3.1}\n"
     ]
    }
   ],
   "source": [
    "#Q3.What is the most significant distinction between a dictionary and a list?\n",
    "#Ans\n",
    "'''\n",
    "The items stored in a dictionary are unordered, before python 3.7 but in latest python version's like 3.10\n",
    "dict() add it's subclass as OrderedDict(),while the items in a list are already ordered.\n",
    "\n",
    "1. The list & Dictionary is a mutable data type, but Dictionary keys are immutable and values can be of any type.\n",
    "\n",
    "2. A list is enclosed within the square brackets [ ], but a Dictionary is enclosed within the curly bracket { }.\n",
    "List has a proper way of indexing Eg [1,2,3,45,88,0], Dict is a combination of keys and values Eg {'a’:1, 'b’:2}\n",
    "in dict its keys serve as its index values, dict do not allowed duplicate items with same keys\n",
    "\n",
    "3. Dictionary items cannot be reversed as they are the key-value pairs Also Count() method does not exists in dictionary\n",
    "'''\n",
    "# To print list and Dictionary\n",
    "list_a = [\"Hello\", True, 2+1j, 10 ,8]\n",
    "dict_a = {\"Hello\" : True, \"Python\": 3.10}\n",
    "print(f\"Hello i am List in python {list_a}\")\n",
    "print(f\"Hello i am Dictionary in python {dict_a}\")"
   ]
  },
  {
   "cell_type": "code",
   "execution_count": 19,
   "id": "ab146165",
   "metadata": {},
   "outputs": [
    {
     "ename": "KeyError",
     "evalue": "'foo'",
     "output_type": "error",
     "traceback": [
      "\u001b[1;31m---------------------------------------------------------------------------\u001b[0m",
      "\u001b[1;31mKeyError\u001b[0m                                  Traceback (most recent call last)",
      "Input \u001b[1;32mIn [19]\u001b[0m, in \u001b[0;36m<cell line: 7>\u001b[1;34m()\u001b[0m\n\u001b[0;32m      3\u001b[0m \u001b[38;5;124;03m'''\u001b[39;00m\n\u001b[0;32m      4\u001b[0m \u001b[38;5;124;03mLet's check this using python interpreter \u001b[39;00m\n\u001b[0;32m      5\u001b[0m \u001b[38;5;124;03m'''\u001b[39;00m\n\u001b[0;32m      6\u001b[0m spam \u001b[38;5;241m=\u001b[39m {\u001b[38;5;124m'\u001b[39m\u001b[38;5;124mbar\u001b[39m\u001b[38;5;124m'\u001b[39m: \u001b[38;5;241m100\u001b[39m}\n\u001b[1;32m----> 7\u001b[0m find \u001b[38;5;241m=\u001b[39m \u001b[43mspam\u001b[49m\u001b[43m[\u001b[49m\u001b[38;5;124;43m'\u001b[39;49m\u001b[38;5;124;43mfoo\u001b[39;49m\u001b[38;5;124;43m'\u001b[39;49m\u001b[43m]\u001b[49m\n",
      "\u001b[1;31mKeyError\u001b[0m: 'foo'"
     ]
    }
   ],
   "source": [
    "#Q4.What happens if you try to access spam['foo'] if spam is {'bar': 100}?\n",
    "#Ans\n",
    "'''\n",
    "Let's check this using python interpreter \n",
    "'''\n",
    "spam = {'bar': 100}\n",
    "find = spam['foo']\n",
    "# we are not able to access this key because it is not available in our spam dictionary so it throws KeyError"
   ]
  },
  {
   "cell_type": "code",
   "execution_count": 29,
   "id": "a77623f1",
   "metadata": {},
   "outputs": [
    {
     "name": "stdout",
     "output_type": "stream",
     "text": [
      "False\n"
     ]
    },
    {
     "data": {
      "text/plain": [
       "dict_keys(['cat'])"
      ]
     },
     "execution_count": 29,
     "metadata": {},
     "output_type": "execute_result"
    }
   ],
   "source": [
    "#Q5.If a dictionary is stored in spam, what is the difference between the expressions 'cat' in spam and 'cat' in spam.keys()?\n",
    "#Ans\n",
    "'''\n",
    "As you can see the example below we created a variable name spam and put 'cat' as key and False it's value.\n",
    "So on that eg we can see that print(x) shows it's value while spam.keys() shows it's key like\n",
    "Value - False\n",
    "spam.keys() - dict_keys(['cat'])\n",
    "'''\n",
    "spam = {'cat': False}\n",
    "x = spam['cat']\n",
    "print(x)\n",
    "spam.keys()"
   ]
  },
  {
   "cell_type": "code",
   "execution_count": 26,
   "id": "467872db",
   "metadata": {},
   "outputs": [
    {
     "name": "stdout",
     "output_type": "stream",
     "text": [
      "False\n"
     ]
    },
    {
     "data": {
      "text/plain": [
       "dict_values([False])"
      ]
     },
     "execution_count": 26,
     "metadata": {},
     "output_type": "execute_result"
    }
   ],
   "source": [
    "#Q6.If a dictionary is stored in spam, what is the difference between the expressions 'cat' in spam and 'cat' in spam.values()?\n",
    "#Ans\n",
    "'''\n",
    "As you can see the example below we created a variable name spam and put 'cat' as key and False it's value.\n",
    "So on that eg we can see that print(x) shows it's value and also spam.values() shows it's value like\n",
    "value - False\n",
    "spam.values() - dict_values([False])\n",
    "'''\n",
    "spam = {'cat': False}\n",
    "x = spam['cat']\n",
    "print(x)\n",
    "spam.values()"
   ]
  },
  {
   "cell_type": "code",
   "execution_count": 43,
   "id": "46d3c88e",
   "metadata": {},
   "outputs": [
    {
     "name": "stdout",
     "output_type": "stream",
     "text": [
      "{'cloud': 9, 'color': 'black'}\n"
     ]
    }
   ],
   "source": [
    "#Q7.What is a shortcut for the following code? if 'color' not in spam: spam['color'] = 'black'\n",
    "#Ans\n",
    "'''\n",
    "We use dictionary methods we can find them by pressing them after putting a dot after the dictionary name.\n",
    "spam.setdefault('color', 'black') this method also add key and value in dictionary like this do spam['color'] = 'black'\n",
    "'''\n",
    "#Let's find this by using example by creating a dictionary and put this color value in it.\n",
    "spam = {'cloud': 9}\n",
    "#Now update this dic using this method\n",
    "spam.setdefault('color', 'black')\n",
    "print(spam) #let's check our dictionary"
   ]
  },
  {
   "cell_type": "code",
   "execution_count": 64,
   "id": "d022aad7",
   "metadata": {},
   "outputs": [
    {
     "name": "stdout",
     "output_type": "stream",
     "text": [
      "{'Python': True}\n",
      "{'Python': True}\n"
     ]
    }
   ],
   "source": [
    "#Q8.How do you \"pretty print\" dictionary values using which module and function?\n",
    "#Ans\n",
    "'''\n",
    "The python inbuilt module named pprint which is Pretty Print module so we can import it and use this fuction\n",
    "pprint.pprint() to call a dic using pretty print or pp.pprint\n",
    "'''\n",
    "import pprint\n",
    "test_dict = {'Python' : True}\n",
    "pprint.pprint(test_dict) \n",
    "#pp.*\n",
    "pp.pprint(test_dict)"
   ]
  },
  {
   "cell_type": "code",
   "execution_count": null,
   "id": "49ff2f18",
   "metadata": {},
   "outputs": [],
   "source": []
  }
 ],
 "metadata": {
  "kernelspec": {
   "display_name": "Python 3 (ipykernel)",
   "language": "python",
   "name": "python3"
  },
  "language_info": {
   "codemirror_mode": {
    "name": "ipython",
    "version": 3
   },
   "file_extension": ".py",
   "mimetype": "text/x-python",
   "name": "python",
   "nbconvert_exporter": "python",
   "pygments_lexer": "ipython3",
   "version": "3.9.12"
  }
 },
 "nbformat": 4,
 "nbformat_minor": 5
}
