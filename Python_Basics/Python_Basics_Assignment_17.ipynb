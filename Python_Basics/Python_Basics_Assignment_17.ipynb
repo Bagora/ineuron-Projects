{
 "cells": [
  {
   "cell_type": "markdown",
   "id": "ec227e22",
   "metadata": {},
   "source": [
    "## Python_Basics_Assignment_17\n",
    "1. Assign the value 7 to the variable guess_me. Then, write the conditional tests (if, else, and elif) to print the string 'too low' if guess_me is less than 7, 'too high' if greater than 7, and 'just right' if equal to 7.\n",
    "2. Assign the value 7 to the variable guess_me and the value 1 to the variable start. Write a while loop that compares start with guess_me. Print too low if start is less than guess me. If start equals guess_me, print 'found it!' and exit the loop. If start is greater than guess_me, print 'oops' and exit the loop. Increment start at the end of the loop.\n",
    "3. Print the following values of the list [3, 2, 1, 0] using a for loop.\n",
    "4. Use a list comprehension to make a list of the even numbers in range(10)\n",
    "5. Use a dictionary comprehension to create the dictionary squares. Use range(10) to return the keys, and use the square of each key as its value.\n",
    "6. Construct the set odd from the odd numbers in the range using a set comprehension (10).\n",
    "7. Use a generator comprehension to return the string 'Got ' and a number for the numbers in range(10). Iterate through this by using a for loop.\n",
    "8. Define a function called good that returns the list ['Harry', 'Ron', 'Hermione'].\n",
    "9. Define a generator function called get_odds that returns the odd numbers from range(10). Use a for loop to find and print the third value returned.\n",
    "10. Define an exception called OopsException. Raise this exception to see what happens. Then write the code to catch this exception and print 'Caught an oops'.\n",
    "11. Use zip() to make a dictionary called movies that pairs these lists: titles = ['Creature of Habit', 'Crewel Fate'] and plots = ['A nun turns into a monster', 'A haunted yarn shop']."
   ]
  },
  {
   "cell_type": "code",
   "execution_count": 1,
   "id": "f2f4f8e2",
   "metadata": {},
   "outputs": [
    {
     "name": "stdout",
     "output_type": "stream",
     "text": [
      "just right\n"
     ]
    }
   ],
   "source": [
    "'''Ans 1:- In this code, we first assign the value 7 to the variable guess_me. Then, we\n",
    "use the if, elif and else statements to check different\n",
    "conditions based on the value of guess_me. If guess_me is less than 7, it prints 'too\n",
    "low'. If guess_me is greater than 7, it prints 'too high'. If neither of these\n",
    "conditions is met, it prints 'just right'. Since in this case, guess_me is equal to 7,\n",
    "the output will be 'just right'.'''\n",
    "\n",
    "guess_me = 7\n",
    "\n",
    "if guess_me < 7:\n",
    "    print('too low')\n",
    "elif guess_me > 7:\n",
    "    print('too high')\n",
    "else:\n",
    "    print('just right')"
   ]
  },
  {
   "cell_type": "code",
   "execution_count": null,
   "id": "69425f31",
   "metadata": {},
   "outputs": [],
   "source": [
    "'''Ans 2:- In this code, we start with start equal to 1 and increment it in each\n",
    "iteration of the loop. The loop continues as long as start is less than or equal to\n",
    "guess_me. Inside the loop, we use conditional statements to check the relationship\n",
    "between start and guess_me. If start is less than guess_me, it prints 'too low'. If\n",
    "start is equal to guess_me, it prints 'found it!' and exits the loop using the break\n",
    "statement. If start is greater than guess_me, it prints 'oops' and exits the loop. After\n",
    "each iteration, start is incremented by 1 using start += 1.'''\n",
    "\n",
    "guess_me = 7\n",
    "start = 1\n",
    "\n",
    "while start <= guess_me:\n",
    "    if start < guess_me:\n",
    "        print('too low')\n",
    "    elif start == guess_me:\n",
    "        print('found it!')\n",
    "        break\n",
    "    else:\n",
    "        print('oops')\n",
    "        break\n",
    "    start += 1"
   ]
  },
  {
   "cell_type": "code",
   "execution_count": 4,
   "id": "3adb1200",
   "metadata": {},
   "outputs": [
    {
     "name": "stdout",
     "output_type": "stream",
     "text": [
      "3\n",
      "2\n",
      "1\n",
      "0\n"
     ]
    }
   ],
   "source": [
    "'''Ans 3:-  We can use a for loop to iterate through the elements of the list and print\n",
    "each value.'''\n",
    "\n",
    "my_list = [3, 2, 1, 0]\n",
    "\n",
    "for value in my_list:\n",
    "    print(value)"
   ]
  },
  {
   "cell_type": "code",
   "execution_count": 5,
   "id": "e48746b6",
   "metadata": {},
   "outputs": [
    {
     "name": "stdout",
     "output_type": "stream",
     "text": [
      "[0, 2, 4, 6, 8]\n"
     ]
    }
   ],
   "source": [
    "'''Ans 4:- We can use a list comprehension to create a list of even numbers in the range\n",
    "from 0 to 9 (inclusive).'''\n",
    "\n",
    "even_numbers = [x for x in range(10) if x % 2 == 0]\n",
    "print(even_numbers)"
   ]
  },
  {
   "cell_type": "code",
   "execution_count": 6,
   "id": "c355c219",
   "metadata": {},
   "outputs": [
    {
     "name": "stdout",
     "output_type": "stream",
     "text": [
      "{0: 0, 1: 1, 2: 4, 3: 9, 4: 16, 5: 25, 6: 36, 7: 49, 8: 64, 9: 81}\n"
     ]
    }
   ],
   "source": [
    "'''Ans 5:- We can use a dictionary comprehension to create a dictionary where the keys\n",
    "are the numbers from 0 to 9 (inclusive), and the values are the squares of those\n",
    "numbers.\n",
    "When we run this code, it will create a dictionary squares with keys ranging\n",
    "from 0 to 9 and corresponding values being their squares:-'''\n",
    "\n",
    "squares = {x: x**2 for x in range(10)}\n",
    "print(squares)"
   ]
  },
  {
   "cell_type": "code",
   "execution_count": 7,
   "id": "3dd37958",
   "metadata": {},
   "outputs": [
    {
     "name": "stdout",
     "output_type": "stream",
     "text": [
      "{1, 3, 5, 7, 9}\n"
     ]
    }
   ],
   "source": [
    "'''Ans 6:- We can use a set comprehension to create a set containing the odd numbers from\n",
    "the range 0 to 9'''\n",
    "\n",
    "odd = {x for x in range(10) if x % 2 != 0}\n",
    "print(odd)"
   ]
  },
  {
   "cell_type": "code",
   "execution_count": 8,
   "id": "e2ad68f3",
   "metadata": {},
   "outputs": [
    {
     "name": "stdout",
     "output_type": "stream",
     "text": [
      "Got 0\n",
      "Got 1\n",
      "Got 2\n",
      "Got 3\n",
      "Got 4\n",
      "Got 5\n",
      "Got 6\n",
      "Got 7\n",
      "Got 8\n",
      "Got 9\n"
     ]
    }
   ],
   "source": [
    "'''Ans 7:- Certainly! We can use a generator comprehension to create a sequence of\n",
    "strings, each containing \"Got \" followed by a number from the range 0 to 9 (inclusive).\n",
    "Then, you can iterate through this sequence using a for loop.  When we run this\n",
    "code, it will create a generator that yields strings like \"Got 0\", \"Got 1\", ...,\n",
    "\"Got 9\", and then the for loop will iterate through the generator and print each\n",
    "string.'''\n",
    "\n",
    "generator = ('Got ' + str(x) for x in range(10))\n",
    "\n",
    "for item in generator:\n",
    "    print(item)"
   ]
  },
  {
   "cell_type": "code",
   "execution_count": 9,
   "id": "4c702478",
   "metadata": {},
   "outputs": [
    {
     "name": "stdout",
     "output_type": "stream",
     "text": [
      "['Harry', 'Ron', 'Hermione']\n"
     ]
    }
   ],
   "source": [
    "'''Ans 8:- Here's how we can define the good function that returns the list\n",
    "['Harry','Ron', 'Hermione'] When we run this code, the good function will return the list and\n",
    "the print statement will display the result'''\n",
    "\n",
    "def good():\n",
    "    return ['Harry', 'Ron', 'Hermione']\n",
    "\n",
    "result = good()\n",
    "print(result)"
   ]
  },
  {
   "cell_type": "code",
   "execution_count": 10,
   "id": "2280a185",
   "metadata": {},
   "outputs": [
    {
     "name": "stdout",
     "output_type": "stream",
     "text": [
      "The third odd number is: 5\n"
     ]
    }
   ],
   "source": [
    "'''Ans 9:- Certainly! Here's how we can define the get_odds generator function and use a\n",
    "for loop to find and print the third odd number it returns. When we run this code,\n",
    "the generator function get_odds will yield odd numbers from 0 to 9, and the for\n",
    "loop will iterate through these numbers. It will print the third odd number it\n",
    "encounters.'''\n",
    "\n",
    "def get_odds():\n",
    "    for number in range(10):\n",
    "        if number % 2 != 0:\n",
    "            yield number\n",
    "\n",
    "# Using a for loop to find and print the third odd number\n",
    "count = 0\n",
    "for odd_number in get_odds():\n",
    "    count += 1\n",
    "    if count == 3:\n",
    "        print(\"The third odd number is:\", odd_number)\n",
    "        break"
   ]
  },
  {
   "cell_type": "code",
   "execution_count": 11,
   "id": "0959d55b",
   "metadata": {},
   "outputs": [
    {
     "name": "stdout",
     "output_type": "stream",
     "text": [
      "Caught an oops: Something went wrong!\n"
     ]
    }
   ],
   "source": [
    "'''Ans 10:- In this code, we define the custom exception OopsException as a subclass of\n",
    "the built-in Exception class. Then, we use a try-except block to raise the\n",
    "OopsException with a custom message. If the exception is caught, the code within the except\n",
    "block will execute, printing the message \"Caught an oops\" along with the exception\n",
    "message.'''\n",
    "\n",
    "# Define the custom exception\n",
    "class OopsException(Exception):\n",
    "    pass\n",
    "\n",
    "try:\n",
    "    # Raise the custom exception\n",
    "    raise OopsException(\"Something went wrong!\")\n",
    "\n",
    "except OopsException as e:\n",
    "    # Catch the exception and print a message\n",
    "    print(\"Caught an oops:\", e)"
   ]
  },
  {
   "cell_type": "code",
   "execution_count": 12,
   "id": "77197cef",
   "metadata": {},
   "outputs": [
    {
     "name": "stdout",
     "output_type": "stream",
     "text": [
      "{'Creature of Habit': 'A nun turns into a monster', 'Crewel Fate': 'A haunted yarn shop'}\n"
     ]
    }
   ],
   "source": [
    "'''Ans 11:- Certainly! we can use the zip() function to pair the titles and plots lists\n",
    "and create a dictionary called movies. When we run this code, it will create a\n",
    "dictionary movies where each title is paired with its corresponding plot.'''\n",
    "\n",
    "titles = ['Creature of Habit', 'Crewel Fate']\n",
    "plots = ['A nun turns into a monster', 'A haunted yarn shop']\n",
    "\n",
    "movies = dict(zip(titles, plots))\n",
    "print(movies)"
   ]
  },
  {
   "cell_type": "code",
   "execution_count": null,
   "id": "e4930358",
   "metadata": {},
   "outputs": [],
   "source": []
  }
 ],
 "metadata": {
  "kernelspec": {
   "display_name": "Python 3 (ipykernel)",
   "language": "python",
   "name": "python3"
  },
  "language_info": {
   "codemirror_mode": {
    "name": "ipython",
    "version": 3
   },
   "file_extension": ".py",
   "mimetype": "text/x-python",
   "name": "python",
   "nbconvert_exporter": "python",
   "pygments_lexer": "ipython3",
   "version": "3.10.9"
  }
 },
 "nbformat": 4,
 "nbformat_minor": 5
}
