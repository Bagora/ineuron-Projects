{
 "cells": [
  {
   "cell_type": "markdown",
   "id": "59d26eab",
   "metadata": {},
   "source": [
    "## Python_Basics_Assignment_10\n",
    "1. How do you distinguish between shutil.copy() and shutil.copytree()?\n",
    "2. What function is used to rename files??\n",
    "3. What is the difference between the delete functions in the send2trash and shutil modules?\n",
    "4. ZipFile objects have a close() method just like File objects’ close() method. What ZipFile method is equivalent to File    objects’ open() method?\n",
    "5. Create a programme that searches a folder tree for files with a certain file extension (such as .pdf or .jpg). Copy these files from whatever location they are in to a new folder."
   ]
  },
  {
   "cell_type": "markdown",
   "id": "ebf33561",
   "metadata": {},
   "source": [
    "Ans 1 - shutil is a Python module used for file operations, and it provides functions for copying files and directories. These two functions like, shutil.copy() and shutil.copytree(), serve different purposes:\n",
    "\n",
    "1. shutil.copy(src, dst):\n",
    "This function is used to copy a single file from the source (src) to the destination (dst). It preserves the metadata (e.g., permissions, timestamps) of the original file. If the destination is a directory, the function will create a new file with the same name as the source file in that directory."
   ]
  },
  {
   "cell_type": "code",
   "execution_count": 4,
   "id": "e4475359",
   "metadata": {},
   "outputs": [
    {
     "data": {
      "text/plain": [
       "'newmsg.txt'"
      ]
     },
     "execution_count": 4,
     "metadata": {},
     "output_type": "execute_result"
    }
   ],
   "source": [
    "import shutil\n",
    "\n",
    "src_file = 'msg.txt'\n",
    "dst_dir = 'newmsg.txt'\n",
    "shutil.copy(src_file, dst_dir)"
   ]
  },
  {
   "cell_type": "markdown",
   "id": "bd9dc197",
   "metadata": {},
   "source": [
    "2. shutil.copytree(src, dst):\n",
    "This function is used to copy an entire directory tree from the source directory (src) to the destination directory (dst). It recursively copies all files and subdirectories within the source directory, preserving their structure and metadata."
   ]
  },
  {
   "cell_type": "code",
   "execution_count": 6,
   "id": "cc14afa5",
   "metadata": {},
   "outputs": [
    {
     "data": {
      "text/plain": [
       "'destination_directory-fullcopy'"
      ]
     },
     "execution_count": 6,
     "metadata": {},
     "output_type": "execute_result"
    }
   ],
   "source": [
    "src_dir = 'Assignments-1 may 2023'\n",
    "dst_dir = 'destination_directory-fullcopy'\n",
    "shutil.copytree(src_dir, dst_dir)"
   ]
  },
  {
   "cell_type": "markdown",
   "id": "3dc50d71",
   "metadata": {},
   "source": [
    "In summary, shutil.copy() is used for copying individual files, while shutil.copytree() is used for copying entire directory trees. Keep in mind that when using shutil.copytree(), the destination directory should not already exist, as it will be created by the function during the copy process."
   ]
  },
  {
   "cell_type": "code",
   "execution_count": 5,
   "id": "c5a73b3b",
   "metadata": {},
   "outputs": [],
   "source": [
    "'''\n",
    "Ans 2:- To rename files in Python, you can use the os.rename() function from the os module.\n",
    "This function allows you to change the name of a file by providing the current path of the file\n",
    "and the desired new path with the new name.The shutil.move() function is also used for renaming files,\n",
    "as well as moving them. Here's how you can use the os.rename() function to rename a file:\n",
    "'''\n",
    "import os\n",
    "\n",
    "old_name = 'newmsg.txt'\n",
    "new_name = '2newmsg.txt'\n",
    "\n",
    "# Rename the file\n",
    "os.rename(old_name, new_name)"
   ]
  },
  {
   "cell_type": "code",
   "execution_count": 6,
   "id": "d01bdc0f",
   "metadata": {},
   "outputs": [],
   "source": [
    "'''\n",
    "Ans 3:- The send2trash and shutil modules both provide functions for deleting files\n",
    "and directories in Python, but they serve slightly different purposes and have\n",
    "different behaviors:\n",
    "\n",
    "1. send2trash Module: The send2trash module is not a part of the standard\n",
    "library; it needs to be installed separately (e.g., via pip). It provides a safe way to\n",
    "delete files or directories by sending them to the operating system's trash or\n",
    "recycle bin, rather than permanently deleting them. This is particularly useful if you\n",
    "want to give users the opportunity to recover deleted items.\n",
    "Example using send2trash:\n",
    "'''\n",
    "from send2trash import send2trash\n",
    "\n",
    "file_to_delete = '2newmsg.txt'\n",
    "send2trash(file_to_delete)\n",
    "\n",
    "'''\n",
    "2. shutil Module: The shutil module provides various file operations,\n",
    "including deleting files and directories. The shutil.rmtree() function is commonly used\n",
    "to remove an entire directory tree, including all files and subdirectories. \n",
    "Example using shutil to delete a file:\n",
    "'''\n",
    "import shutil\n",
    "\n",
    "file_to_delete = 'msg.txt'\n",
    "os.remove(file_to_delete)\n",
    "\n",
    "#Example using shutil to delete a directory tree\n",
    "\n",
    "directory_to_delete = 'destination_directory-fullcopy'\n",
    "shutil.rmtree(directory_to_delete)"
   ]
  },
  {
   "cell_type": "code",
   "execution_count": 22,
   "id": "30395ce6",
   "metadata": {},
   "outputs": [
    {
     "name": "stdout",
     "output_type": "stream",
     "text": [
      "msg.zip has these files in it ['msg.txt']\n",
      "b'Python Is Everywhere!!and Data Science is the Future'\n"
     ]
    }
   ],
   "source": [
    "'''\n",
    "Ans 4:- The equivalent method to File objects' open() method for ZipFile objects is\n",
    "the ZipFile() constructor itself. When you create a new ZipFile object using this\n",
    "constructor, it effectively opens a ZIP archive file for reading or writing, depending on\n",
    "the mode you specify. The zipfile.ZipFile() function is equivalent to the open() function \n",
    "the first argument is the filename, and the second argument is the mode to open the ZIP file in\n",
    "(read, write, or append).\n",
    "\n",
    "'''\n",
    "import zipfile\n",
    "\n",
    "with zipfile.ZipFile(\"msg.zip\", \"r\") as archive:\n",
    "    contents = archive.namelist()\n",
    "print(f\"msg.zip has these files in it {contents}\")\n",
    "\n",
    "\n",
    "'''In this example, ZipFile(zip_filename, 'r') opens the msg.zip file for\n",
    "reading, and the with statement ensures that the ZipFile is automatically closed when\n",
    "you're done with it.\n",
    "'''\n",
    "with zipfile.ZipFile(\"msg.zip\", \"r\") as archive:\n",
    "    contents = archive.read(\"msg.txt\")\n",
    "    print(contents)"
   ]
  },
  {
   "cell_type": "code",
   "execution_count": 23,
   "id": "4b2c7c4b",
   "metadata": {},
   "outputs": [
    {
     "name": "stdout",
     "output_type": "stream",
     "text": [
      "Files with '.pdf' extension copied to 'Pdf files'.\n"
     ]
    }
   ],
   "source": [
    "'''\n",
    "Ans 5:- The program uses the os.walk() function to traverse through the source\n",
    "folder's directory tree. For each file encountered, it checks if the file's extension\n",
    "matches the desired extension. If a match is found, the file is copied using\n",
    "shutil.copy2() to the target folder. The shutil.copy2() function is used to preserve file\n",
    "metadata such as timestamps.\n",
    "'''\n",
    "import os\n",
    "import shutil\n",
    "\n",
    "def find_and_copy_files(source_folder, target_folder, file_extension):\n",
    "    for root, _, files in os.walk(source_folder):\n",
    "        for file in files:\n",
    "            if file.lower().endswith(file_extension.lower()):\n",
    "                source_path = os.path.join(root, file)\n",
    "                target_path = os.path.join(target_folder, file)\n",
    "                shutil.copy2(source_path, target_path)\n",
    "\n",
    "source_folder = 'Test folder'\n",
    "target_folder = 'Pdf files'\n",
    "file_extension = '.pdf'\n",
    "\n",
    "if not os.path.exists(target_folder):\n",
    "    os.makedirs(target_folder)\n",
    "\n",
    "find_and_copy_files(source_folder, target_folder, file_extension)\n",
    "print(f\"Files with '{file_extension}' extension copied to '{target_folder}'.\")"
   ]
  }
 ],
 "metadata": {
  "kernelspec": {
   "display_name": "Python 3 (ipykernel)",
   "language": "python",
   "name": "python3"
  },
  "language_info": {
   "codemirror_mode": {
    "name": "ipython",
    "version": 3
   },
   "file_extension": ".py",
   "mimetype": "text/x-python",
   "name": "python",
   "nbconvert_exporter": "python",
   "pygments_lexer": "ipython3",
   "version": "3.10.9"
  }
 },
 "nbformat": 4,
 "nbformat_minor": 5
}
