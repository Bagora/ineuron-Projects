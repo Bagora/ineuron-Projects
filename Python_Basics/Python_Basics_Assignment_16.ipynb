{
 "cells": [
  {
   "cell_type": "markdown",
   "id": "79453456",
   "metadata": {},
   "source": [
    "## Python_Basics_Assignment_16\n",
    "1. Create a list called years_list, starting with the year of your birth, and each year thereafter until the year of your fifth birthday. For example, if you were born in 1980. the list would be years_list = [1980, 1981, 1982, 1983, 1984, 1985].\n",
    "2. In which year in years_list was your third birthday? Remember, you were 0 years of age for your first year.\n",
    "3. In the years list, which year were you the oldest?\n",
    "4. Make a list called things with these three strings as elements: \"mozzarella\", \"cinderella\", \"salmonella\".\n",
    "5. Capitalize the element in things that refers to a person and then print the list. Did it change the element in the list?\n",
    "6. Make a surprise list with the elements \"Groucho,\" \"Chico,\" and \"Harpo.\"\n",
    "7. Lowercase the last element of the surprise list, reverse it, and then capitalize it.\n",
    "8. Make an English-to-French dictionary called e2f and print it. Here are your starter words: dog is chien, cat is chat, and walrus is morse.\n",
    "9. Write the French word for walrus in your three-word dictionary e2f.\n",
    "10. Make a French-to-English dictionary called f2e from e2f. Use the items method.\n",
    "11. Print the English version of the French word chien using f2e.\n",
    "12. Make and print a set of English words from the keys in e2f.\n",
    "13. Make a multilevel dictionary called life. Use these strings for the topmost keys: 'animals', 'plants', and 'other'. Make the 'animals' key refer to another dictionary with the keys 'cats', 'octopi', and 'emus'. Make the 'cats' key refer to a list of strings with the values 'Henri', 'Grumpy', and 'Lucy'. Make all the other keys refer to empty dictionaries.\n",
    "14. Print the top-level keys of life.\n",
    "15. Print the keys for life['animals'].\n",
    "16. Print the values for life['animals'],['cats']"
   ]
  },
  {
   "cell_type": "code",
   "execution_count": 1,
   "id": "f7aa7f9d",
   "metadata": {},
   "outputs": [
    {
     "name": "stdout",
     "output_type": "stream",
     "text": [
      "[1991, 1992, 1993, 1994, 1995, 1996]\n"
     ]
    }
   ],
   "source": [
    "'''Ans 1:- This code uses a list comprehension to generate the years_list starting from\n",
    "the birth_year and including the next five years.'''\n",
    "\n",
    "birth_year = 1991\n",
    "years_list = [year for year in range(birth_year, birth_year + 6)]\n",
    "print(years_list)"
   ]
  },
  {
   "cell_type": "code",
   "execution_count": 6,
   "id": "19ab7013",
   "metadata": {},
   "outputs": [
    {
     "name": "stdout",
     "output_type": "stream",
     "text": [
      "1994\n",
      "1994 You are three years old now\n"
     ]
    }
   ],
   "source": [
    "'''Ans 2:- 1994\n",
    "'''\n",
    "\n",
    "birth_year = 1991\n",
    "years_list = [year for year in range(birth_year, birth_year + 6)]\n",
    "\n",
    "third_birthday_year = birth_year + 3\n",
    "print(third_birthday_year)\n",
    "\n",
    "#By using indexing method\n",
    "print(f\"{years_list[3]} You are three years old now\")"
   ]
  },
  {
   "cell_type": "code",
   "execution_count": 7,
   "id": "b88594a6",
   "metadata": {},
   "outputs": [
    {
     "name": "stdout",
     "output_type": "stream",
     "text": [
      "1996 You are oldest now\n"
     ]
    }
   ],
   "source": [
    "'''Ans 3:- If we want to find the year in the years_list when i were the oldest, i\n",
    "can use the last element of the list, which corresponds to the year you turned\n",
    "five years old.'''\n",
    "\n",
    "#By using indexing method\n",
    "print(f\"{years_list[-1]} You are oldest now\")"
   ]
  },
  {
   "cell_type": "code",
   "execution_count": 8,
   "id": "b35435fe",
   "metadata": {},
   "outputs": [
    {
     "name": "stdout",
     "output_type": "stream",
     "text": [
      "['mozzarella', 'cinderella', 'salmonella']\n"
     ]
    }
   ],
   "source": [
    "'''Ans 4:- We can create a list called things with the given strings as elements like this:-'''\n",
    "\n",
    "things = [\"mozzarella\", \"cinderella\", \"salmonella\"]\n",
    "print(things)"
   ]
  },
  {
   "cell_type": "code",
   "execution_count": 9,
   "id": "aecfe22c",
   "metadata": {},
   "outputs": [
    {
     "name": "stdout",
     "output_type": "stream",
     "text": [
      "['mozzarella', 'Cinderella', 'salmonella']\n"
     ]
    }
   ],
   "source": [
    "'''Ans 5:- We can capitalize the element \"cinderella\" in the things list and then print\n",
    "the list to see the changes.\n",
    "As we can see, the element \"cinderella\" has been capitalized to \"Cinderella\"\n",
    "in the list. The change was made using indexing to access and modify the element\n",
    "at that position.'''\n",
    "\n",
    "things[1] = things[1].capitalize()\n",
    "print(things)"
   ]
  },
  {
   "cell_type": "code",
   "execution_count": 10,
   "id": "2207c94c",
   "metadata": {},
   "outputs": [
    {
     "name": "stdout",
     "output_type": "stream",
     "text": [
      "['Groucho', 'Chico', 'Harpo']\n"
     ]
    }
   ],
   "source": [
    "'''Ans 6:- We can create a list called `surprise` with the given elements \"Groucho,\"\n",
    "\"Chico,\" and \"Harpo\" like this:-'''\n",
    "surprise = [\"Groucho\", \"Chico\", \"Harpo\"]\n",
    "print(surprise)"
   ]
  },
  {
   "cell_type": "code",
   "execution_count": 13,
   "id": "9051c3d9",
   "metadata": {},
   "outputs": [
    {
     "name": "stdout",
     "output_type": "stream",
     "text": [
      "harpo\n",
      "Oprah\n"
     ]
    }
   ],
   "source": [
    "'''Ans 7:-  The code takes a list \"surprise\" with elements \"Groucho,\" \"Chico,\" and\n",
    "\"Harpo.\" It processes the last element by making it lowercase, reversing it, and then\n",
    "capitalizing it. The result is \"Oprah,\" which is printed.\n",
    "'''\n",
    "\n",
    "surprise = [\"Groucho\", \"Chico\", \"Harpo\"]\n",
    "last_element = surprise[-1]\n",
    "lowercased_reversed = last_element.lower()[::-1]  # Lowercase, reverse\n",
    "capitalized_result = lowercased_reversed.capitalize()  # Capitalize the reversed string\n",
    "\n",
    "print(surprise[-1].lower())\n",
    "print(capitalized_result)"
   ]
  },
  {
   "cell_type": "code",
   "execution_count": 22,
   "id": "0ad29ec1",
   "metadata": {},
   "outputs": [
    {
     "name": "stdout",
     "output_type": "stream",
     "text": [
      "{'dog': 'chien', 'cat': 'chat', 'walrus': 'morse'}\n",
      "English-to-French dictionary for 1.dog, 2.cat, 3.walrus ('chien', 'chat', 'morse')\n"
     ]
    }
   ],
   "source": [
    "'''Ans 8:- The code defines an English-to-French dictionary named e2f with starter words\n",
    "and translations. The dictionary associates English words (\"dog,\" \"cat,\" \"walrus\")\n",
    "with their French equivalents.'''\n",
    "\n",
    "e2f = {\n",
    "    \"dog\": \"chien\",\n",
    "    \"cat\": \"chat\",\n",
    "    \"walrus\": \"morse\"\n",
    "}\n",
    "\n",
    "print(e2f)\n",
    "print(f\"English-to-French dictionary for 1.dog, 2.cat, 3.walrus {e2f['dog'],e2f['cat'],e2f['walrus']}\")"
   ]
  },
  {
   "cell_type": "code",
   "execution_count": 25,
   "id": "09bd2393",
   "metadata": {},
   "outputs": [
    {
     "name": "stdout",
     "output_type": "stream",
     "text": [
      "In the e2f dictionary, the French word for walrus is morse\n"
     ]
    }
   ],
   "source": [
    "'''Ans 9:- In the e2f dictionary, the French word for \"walrus\" is \"morse\".'''\n",
    "\n",
    "print(f\"In the e2f dictionary, the French word for walrus is {e2f['walrus']}\")"
   ]
  },
  {
   "cell_type": "code",
   "execution_count": 26,
   "id": "a366e890",
   "metadata": {},
   "outputs": [
    {
     "name": "stdout",
     "output_type": "stream",
     "text": [
      "{'chien': 'dog', 'chat': 'cat', 'morse': 'walrus'}\n"
     ]
    }
   ],
   "source": [
    "'''Ans 10:- We can create a French-to-English dictionary called f2e using the items()\n",
    "method of the e2f dictionary.\n",
    "\n",
    "The f2e dictionary now contains the French words as keys and their\n",
    "corresponding English translations as values, obtained by reversing the key-value pairs of\n",
    "the e2f dictionary using dictionary comprehension with the items() method.'''\n",
    "\n",
    "e2f = {\n",
    "    \"dog\": \"chien\",\n",
    "    \"cat\": \"chat\",\n",
    "    \"walrus\": \"morse\"\n",
    "}\n",
    "\n",
    "f2e = {french: english for english, french in e2f.items()}\n",
    "print(f2e)"
   ]
  },
  {
   "cell_type": "code",
   "execution_count": 27,
   "id": "9db9b276",
   "metadata": {},
   "outputs": [
    {
     "name": "stdout",
     "output_type": "stream",
     "text": [
      "dog\n"
     ]
    }
   ],
   "source": [
    "'''Ans 11'''\n",
    "english_translation = f2e[\"chien\"]\n",
    "print(english_translation)"
   ]
  },
  {
   "cell_type": "code",
   "execution_count": 30,
   "id": "d2d6e71d",
   "metadata": {},
   "outputs": [
    {
     "name": "stdout",
     "output_type": "stream",
     "text": [
      "{'dog', 'cat', 'walrus'}\n"
     ]
    }
   ],
   "source": [
    "'''Ans 12'''\n",
    "english_words = set(e2f.keys())\n",
    "print(english_words)"
   ]
  },
  {
   "cell_type": "code",
   "execution_count": 32,
   "id": "a91a6023",
   "metadata": {},
   "outputs": [
    {
     "name": "stdout",
     "output_type": "stream",
     "text": [
      "{'animals': {'cats': ['Henri', 'Grumpy', 'Lucy'], 'octopi': {}, 'emus': {}}, 'plants': {}, 'other': {}}\n"
     ]
    }
   ],
   "source": [
    "'''Ans 13:-  The code creates a multilevel dictionary named 'life'. It contains three\n",
    "top-level keys ('animals', 'plants', 'other'). 'animals' points to a nested dictionary\n",
    "with 'cats', 'octopi', and 'emus' keys. 'cats' refers to a list of cat names, while\n",
    "the others are empty dictionaries.'''\n",
    "\n",
    "life = {\n",
    "    'animals': {\n",
    "        'cats': ['Henri', 'Grumpy', 'Lucy'],\n",
    "        'octopi': {},\n",
    "        'emus': {}\n",
    "    },\n",
    "    'plants': {},\n",
    "    'other': {}\n",
    "}\n",
    "\n",
    "print(life)"
   ]
  },
  {
   "cell_type": "code",
   "execution_count": 33,
   "id": "ccd9121d",
   "metadata": {},
   "outputs": [
    {
     "name": "stdout",
     "output_type": "stream",
     "text": [
      "dict_keys(['animals', 'plants', 'other'])\n"
     ]
    }
   ],
   "source": [
    "'''Ans 14:- We can print the top-level keys of the life dictionary using the keys() method.'''\n",
    "\n",
    "top_level_keys = life.keys()\n",
    "print(top_level_keys)"
   ]
  },
  {
   "cell_type": "code",
   "execution_count": 34,
   "id": "15f85c64",
   "metadata": {},
   "outputs": [
    {
     "name": "stdout",
     "output_type": "stream",
     "text": [
      "dict_keys(['cats', 'octopi', 'emus'])\n"
     ]
    }
   ],
   "source": [
    "'''Ans 15:- We can print the keys for the nested dictionary life['animals'] using the\n",
    "keys() method.'''\n",
    "\n",
    "animals_keys = life['animals'].keys()\n",
    "print(animals_keys)"
   ]
  },
  {
   "cell_type": "code",
   "execution_count": 35,
   "id": "90cb186a",
   "metadata": {},
   "outputs": [
    {
     "name": "stdout",
     "output_type": "stream",
     "text": [
      "['Henri', 'Grumpy', 'Lucy']\n"
     ]
    }
   ],
   "source": [
    "'''Ans 16:- This code retrieves and prints the list of cat names within the nested\n",
    "dictionary life['animals'] under the key 'cats'.'''\n",
    "\n",
    "cat_names = life['animals']['cats']\n",
    "print(cat_names)"
   ]
  }
 ],
 "metadata": {
  "kernelspec": {
   "display_name": "Python 3 (ipykernel)",
   "language": "python",
   "name": "python3"
  },
  "language_info": {
   "codemirror_mode": {
    "name": "ipython",
    "version": 3
   },
   "file_extension": ".py",
   "mimetype": "text/x-python",
   "name": "python",
   "nbconvert_exporter": "python",
   "pygments_lexer": "ipython3",
   "version": "3.10.9"
  }
 },
 "nbformat": 4,
 "nbformat_minor": 5
}
