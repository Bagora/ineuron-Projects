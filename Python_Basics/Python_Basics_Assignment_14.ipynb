{
 "cells": [
  {
   "cell_type": "markdown",
   "id": "b35ec1c3",
   "metadata": {},
   "source": [
    "## Python_Basics_Assignment_14\n",
    "1. What does RGBA stand for?\n",
    "2. From the Pillow module, how do you get the RGBA value of any images?\n",
    "3. What is a box tuple, and how does it work?\n",
    "4. Use your image and load in notebook then, How can you find out the width and height of an Image object?\n",
    "5. What method would you call to get Image object for a 100×100 image, excluding the lower-left quarter of it?\n",
    "6. After making changes to an Image object, how could you save it as an image file?\n",
    "7. What module contains Pillow’s shape-drawing code?\n",
    "8. Image objects do not have drawing methods. What kind of object does? How do you get this kind of object?"
   ]
  },
  {
   "cell_type": "code",
   "execution_count": 28,
   "id": "790a405b",
   "metadata": {},
   "outputs": [
    {
     "data": {
      "text/plain": [
       "(255, 0, 0, 255)"
      ]
     },
     "execution_count": 28,
     "metadata": {},
     "output_type": "execute_result"
    }
   ],
   "source": [
    "'''Ans 1:- RGBA stands for \"Red Green Blue Alpha.\" It is a color model commonly used in\n",
    "computer graphics and digital imaging.  In the RGBA color model, each color is\n",
    "represented by a combination of red, green, and blue components, similar to the RGB model.\n",
    "However, RGBA includes an additional component called \"alpha,\" which represents the\n",
    "level of transparency or opacity of the color. The alpha value ranges from 0\n",
    "(completely transparent) to 255 (completely opaque) in most cases, although it can also be\n",
    "represented as a value between 0 and 1.  The four components together—red, green, blue,\n",
    "and alpha—determine the appearance of a color on a display or in an image. This\n",
    "model is widely used for specifying colors in digital media, including computer\n",
    "graphics, web design, and image processing applications, where transparency and opacity\n",
    "are important considerations.'''\n",
    "\n",
    "from PIL import ImageColor\n",
    "ImageColor.getcolor('red', 'RGBA')"
   ]
  },
  {
   "cell_type": "code",
   "execution_count": 4,
   "id": "08ab4c2f",
   "metadata": {},
   "outputs": [
    {
     "name": "stdout",
     "output_type": "stream",
     "text": [
      "(248, 248, 248, 255)\n"
     ]
    }
   ],
   "source": [
    "'''Ans 2:- In the Pillow (PIL) module in Python, we can use the getpixel() method to\n",
    "retrieve the RGBA (Red Green Blue Alpha) value of a pixel in an image.\n",
    "\n",
    "The getpixel() method takes a tuple of (x, y) coordinates as an argument and\n",
    "returns a tuple containing the RGBA values of the pixel at those coordinates.  The\n",
    "rgba_value tuple will have four components: the Red, Green, Blue, and Alpha values. Each\n",
    "value will be an integer ranging from 0 to 255, where the alpha value represents the\n",
    "opacity of the pixel.  Keep in mind that image coordinates are typically zero-based,\n",
    "with the top-left corner being (0, 0). The x-coordinate increases as you move to\n",
    "the right, and the y-coordinate increases as you move down the image.\n",
    "\n",
    "'''\n",
    "\n",
    "from PIL import Image\n",
    "\n",
    "# Open an image\n",
    "image = Image.open('python-logo.png')\n",
    "\n",
    "# Get the RGBA value of a pixel at coordinates (x, y)\n",
    "x = 100  # x-coordinate of the pixel\n",
    "y = 50   # y-coordinate of the pixel\n",
    "rgba_value = image.getpixel((x, y))\n",
    "\n",
    "print(rgba_value)  # Output: (R, G, B, A)"
   ]
  },
  {
   "cell_type": "code",
   "execution_count": 8,
   "id": "df2a7fef",
   "metadata": {},
   "outputs": [],
   "source": [
    "'''Ans 3:- In the context of the Pillow (PIL) library in Python, a \"box tuple\" refers to a\n",
    "tuple that defines a rectangular region within an image. It is commonly used to\n",
    "specify areas of interest within an image for various image processing operations. A\n",
    "box tuple typically consists of four values: (left, upper, right, lower).\n",
    "\n",
    "left: The x-coordinate of the left edge of the rectangle.\n",
    "upper: The y-coordinate of the upper edge of the rectangle.\n",
    "right: The x-coordinate of the right edge of the rectangle (not inclusive). \n",
    "lower: The y-coordinate of the lower edge of the rectangle (not inclusive).\n",
    "\n",
    "The box tuple is used to define a rectangular region, also known\n",
    "as a bounding box, within an image. This bounding box can be used for cropping,\n",
    "resizing, and other operations that involve a specific region of the image. In this\n",
    "example, the box tuple (100, 50, 300, 200) specifies a rectangular region with a\n",
    "top-left corner at (100, 50) and a bottom-right corner at (300, 200). The crop() method\n",
    "is then used to extract this region from the original image, resulting in a\n",
    "cropped image.  The concept of a box tuple simplifies the process of defining and\n",
    "working with rectangular regions within images, making it easier to perform various\n",
    "image manipulation tasks.'''\n",
    "\n",
    "from PIL import Image\n",
    "\n",
    "# Open an image\n",
    "image = Image.open('python-logo.png')\n",
    "\n",
    "# Define the box tuple for the region you want to crop\n",
    "box = (100, 50, 300, 500)  # (left, upper, right, lower)\n",
    "\n",
    "# Crop the image using the defined box tuple\n",
    "cropped_image = image.crop(box)\n",
    "\n",
    "# Save the cropped image\n",
    "cropped_image.save('cropped_image.png')"
   ]
  },
  {
   "cell_type": "code",
   "execution_count": 2,
   "id": "25576957",
   "metadata": {},
   "outputs": [
    {
     "name": "stdout",
     "output_type": "stream",
     "text": [
      "Image Width: 407px\n",
      "Image Height: 350px\n"
     ]
    }
   ],
   "source": [
    "'''Ans 4:- If we have an image loaded as an Image object, we can use the Python Imaging\n",
    "Library (PIL) module to obtain its width and height.'''\n",
    "\n",
    "from PIL import Image\n",
    "\n",
    "# Load the image\n",
    "image_path = \"python-logo.png\"\n",
    "image = Image.open(image_path)\n",
    "\n",
    "# Get the width and height of the image\n",
    "width, height = image.size\n",
    "\n",
    "print(f\"Image Width: {width}px\")\n",
    "print(f\"Image Height: {height}px\")"
   ]
  },
  {
   "cell_type": "code",
   "execution_count": 37,
   "id": "a82d103f",
   "metadata": {},
   "outputs": [],
   "source": [
    "'''Ans 5:- In this code, the cropping coordinates (0, 0, 100, 100) specify a region that\n",
    "starts from the top-left corner of the image and spans 100 pixels in both width and\n",
    "height. This will effectively crop a 100x100 region from the image.'''\n",
    "\n",
    "from PIL import Image\n",
    "\n",
    "img = Image.open(\"python-logo.png\")\n",
    "cropped_img = img.crop((0, 0, 100, 100))\n",
    "\n",
    "cropped_img.show()\n",
    "cropped_img.save(\"sample5.png\")"
   ]
  },
  {
   "cell_type": "code",
   "execution_count": 39,
   "id": "36415c87",
   "metadata": {},
   "outputs": [
    {
     "name": "stdout",
     "output_type": "stream",
     "text": [
      "Image Width: 100px\n",
      "Image Height: 100px\n"
     ]
    }
   ],
   "source": [
    "# Get the width and height of the image\n",
    "\n",
    "img = Image.open(\"sample5.png\")\n",
    "width, height = img.size\n",
    "\n",
    "print(f\"Image Width: {width}px\")\n",
    "print(f\"Image Height: {height}px\")"
   ]
  },
  {
   "cell_type": "code",
   "execution_count": 42,
   "id": "c6a2a1b2",
   "metadata": {},
   "outputs": [],
   "source": [
    "'''Ans 6:- To save an Image object as an image file in Python, we can use the\n",
    "Image.save() method. This method takes two arguments: the filename of the image file to\n",
    "save, and the image format. The image format can be one of the following: JPEG, PNG\n",
    "GIF, BMP, TIFF, WEBP, but the format should be same for input & output file.\n",
    "\n",
    "\n",
    "'''\n",
    "import PIL.Image\n",
    "\n",
    "img = PIL.Image.open(\"python-logo.png\")\n",
    "img = img.resize((200, 200))\n",
    "img.save(\"sample6.png\")"
   ]
  },
  {
   "cell_type": "code",
   "execution_count": 43,
   "id": "672c38d5",
   "metadata": {},
   "outputs": [
    {
     "name": "stdout",
     "output_type": "stream",
     "text": [
      "Image Width: 200px\n",
      "Image Height: 200px\n"
     ]
    }
   ],
   "source": [
    "# Get the width and height of the image\n",
    "\n",
    "img = Image.open(\"sample6.png\")\n",
    "width, height = img.size\n",
    "\n",
    "print(f\"Image Width: {width}px\")\n",
    "print(f\"Image Height: {height}px\")"
   ]
  },
  {
   "cell_type": "code",
   "execution_count": 40,
   "id": "0f97200b",
   "metadata": {},
   "outputs": [],
   "source": [
    "'''Ans 7:-  The ImageDraw module in the Pillow library provides functions to draw various\n",
    "shapes, lines, text, and other graphical elements on an image. You can use it to add\n",
    "shapes like lines, rectangles, ellipses, polygons, and more to your images.\n",
    "\n",
    "In this code, the ImageDraw.Draw() function creates an ImageDraw object\n",
    "associated with the given image. You can then use methods of this object to draw shapes\n",
    "and lines on the image. In the example, a red rectangle is drawn using the\n",
    "rectangle() method.'''\n",
    "\n",
    "from PIL import Image, ImageDraw\n",
    "\n",
    "# Load the image\n",
    "image_path = \"python-logo.png\"\n",
    "image = Image.open(image_path)\n",
    "\n",
    "# Create an ImageDraw object\n",
    "draw = ImageDraw.Draw(image)\n",
    "\n",
    "# Define the coordinates for the rectangle\n",
    "x0, y0 = 50, 50\n",
    "x1, y1 = 150, 150\n",
    "\n",
    "# Draw a red rectangle\n",
    "draw.rectangle([x0, y0, x1, y1], outline=\"red\")\n",
    "\n",
    "# Display & save the modified image\n",
    "image.show()\n",
    "image.save(\"sample7.png\")"
   ]
  },
  {
   "cell_type": "code",
   "execution_count": null,
   "id": "2143de87",
   "metadata": {},
   "outputs": [],
   "source": [
    "'''Ans 8:-  Image objects do not have drawing methods because they are simply\n",
    "representations of images. They do not have any intrinsic ability to draw themselves. To draw\n",
    "an image, you need to create a drawing object that contains the image.\n",
    "\n",
    "To draw shapes and lines on an image, you need to create an ImageDraw.Draw\n",
    "object using the ImageDraw.Draw() function. This object provides methods for drawing\n",
    "various shapes, lines, text, and other graphical elements on an image.'''"
   ]
  }
 ],
 "metadata": {
  "kernelspec": {
   "display_name": "Python 3 (ipykernel)",
   "language": "python",
   "name": "python3"
  },
  "language_info": {
   "codemirror_mode": {
    "name": "ipython",
    "version": 3
   },
   "file_extension": ".py",
   "mimetype": "text/x-python",
   "name": "python",
   "nbconvert_exporter": "python",
   "pygments_lexer": "ipython3",
   "version": "3.10.9"
  }
 },
 "nbformat": 4,
 "nbformat_minor": 5
}
