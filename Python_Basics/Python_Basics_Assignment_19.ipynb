{
 "cells": [
  {
   "cell_type": "markdown",
   "id": "e037617a",
   "metadata": {},
   "source": [
    "## Python_Basics_Assignment_19\n",
    "1. Make a class called Thing with no contents and print it. Then, create an object called example from this class and also print it. Are the printed values the same or different?\n",
    "2. Create a new class called Thing2 and add the value 'abc' to the letters class attribute. Letters should be printed.\n",
    "3. Make yet another class called, of course, Thing3. This time, assign the value 'xyz' to an instance (object) attribute called letters. Print letters. Do you need to make an object from the class to do this?\n",
    "4. Create an Element class with the instance attributes name, symbol, and number. Create a class object with the values 'Hydrogen,' 'H,' and 1.\n",
    "5. Make a dictionary with these keys and values: 'name': 'Hydrogen', 'symbol': 'H', 'number': 1. Then, create an object called hydrogen from class Element using this dictionary.\n",
    "6. For the Element class, define a method called dump() that prints the values of the object’s attributes (name, symbol, and number). Create the hydrogen object from this new definition and use dump() to print its attributes.\n",
    "7. Call print(hydrogen). In the definition of Element, change the name of method dump to __str__, create a new hydrogen object, and call print(hydrogen) again.\n",
    "8. Modify Element to make the attributes name, symbol, and number private. Define a getter property for each to return its value.\n",
    "9. Define three classes: Bear, Rabbit, and Octothorpe. For each, define only one method: eats(). This should return 'berries' (Bear), 'clover' (Rabbit), or 'campers' (Octothorpe). Create one object from each and print what it eats.\n",
    "10. Define these classes: Laser, Claw, and SmartPhone. Each has only one method: does(). This returns 'disintegrate' (Laser), 'crush' (Claw), or 'ring' (SmartPhone). Then, define the class Robot that has one instance (object) of each of these. Define a does() method for the Robot that prints what its component objects do."
   ]
  },
  {
   "cell_type": "code",
   "execution_count": 1,
   "id": "b44c4bac",
   "metadata": {},
   "outputs": [
    {
     "name": "stdout",
     "output_type": "stream",
     "text": [
      "<__main__.Thing object at 0x000001629F1725F0>\n",
      "<__main__.Thing object at 0x000001629F172290>\n"
     ]
    }
   ],
   "source": [
    "'''Ans 1:- The printed values for the class and the object are different. The first\n",
    "printed value <__main__.Thing object at 0x...> represents an instance of the Thing\n",
    "class, and the second printed value is also <__main__.Thing object at 0x...>, which\n",
    "represents the example object created from the Thing class. These addresses (e.g., 0x...)\n",
    "are memory locations, and they will likely be different each time you run the\n",
    "program.'''\n",
    "class Thing:\n",
    "    pass\n",
    "\n",
    "print(Thing())\n",
    "example = Thing()\n",
    "print(example)"
   ]
  },
  {
   "cell_type": "code",
   "execution_count": 2,
   "id": "02b572e2",
   "metadata": {},
   "outputs": [
    {
     "name": "stdout",
     "output_type": "stream",
     "text": [
      "abc\n"
     ]
    }
   ],
   "source": [
    "'''Ans 2:- In this code, the Thing2 class has a class attribute letters with the value\n",
    "'abc', and you access class attributes using the class name followed by the attribute\n",
    "name (e.g., Thing2.letters).'''\n",
    "class Thing2:\n",
    "    letters = 'abc'\n",
    "\n",
    "print(Thing2.letters)"
   ]
  },
  {
   "cell_type": "code",
   "execution_count": 8,
   "id": "01ae4799",
   "metadata": {},
   "outputs": [
    {
     "name": "stdout",
     "output_type": "stream",
     "text": [
      "xyz\n"
     ]
    }
   ],
   "source": [
    "'''Ans 3:- In this code, the Thing3 class has an __init__ method (the constructor) that\n",
    "initializes the instance attribute letters with the value 'xyz'. we can directly access\n",
    "the letters attribute using the class name followed by the attribute name, without\n",
    "creating an object from the class.'''\n",
    "class Thing3:\n",
    "    def __init__(self):\n",
    "        self.letters = 'xyz'\n",
    "\n",
    "print(Thing3().letters)"
   ]
  },
  {
   "cell_type": "code",
   "execution_count": 12,
   "id": "f5dc178e",
   "metadata": {},
   "outputs": [
    {
     "name": "stdout",
     "output_type": "stream",
     "text": [
      "Name:-Hydrogen, Symbol:-H, Number:-1\n"
     ]
    }
   ],
   "source": [
    "'''Ans 4:- When we run this code, it will create an Element class object named hydrogen\n",
    "with the specified values for its attributes. The code then accesses and prints the\n",
    "attributes of the hydrogen object. The __init__ method is used to initialize the instance\n",
    "attributes name, symbol, and number when creating an object from the Element class.'''\n",
    "\n",
    "class Element:\n",
    "    def __init__(self, name, symbol, number):\n",
    "        self.name = name\n",
    "        self.symbol = symbol\n",
    "        self.number = number\n",
    "\n",
    "# Create a class object\n",
    "hydrogen = Element('Hydrogen', 'H', 1)\n",
    "\n",
    "print(f\"Name:-{hydrogen.name}, Symbol:-{hydrogen.symbol}, Number:-{hydrogen.number}\")"
   ]
  },
  {
   "cell_type": "code",
   "execution_count": 14,
   "id": "796e1931",
   "metadata": {},
   "outputs": [
    {
     "name": "stdout",
     "output_type": "stream",
     "text": [
      "Name:-Hydrogen, Symbol:-H, Number:-1\n"
     ]
    }
   ],
   "source": [
    "'''Ans 5:- We can create a dictionary with the specified keys and values, and then use\n",
    "that dictionary to create an object called hydrogen from the Element class.\n",
    "double asterisks (**) are used to perform the dictionary unpacking and pass the\n",
    "dictionary's key-value pairs as keyword arguments to the constructor of the Element class.'''\n",
    "\n",
    "element_data = {'name': 'Hydrogen', 'symbol': 'H', 'number': 1}\n",
    "\n",
    "# Create an object from the Element class using the dictionary\n",
    "hydrogen = Element(**element_data)\n",
    "\n",
    "print(f\"Name:-{hydrogen.name}, Symbol:-{hydrogen.symbol}, Number:-{hydrogen.number}\")"
   ]
  },
  {
   "cell_type": "code",
   "execution_count": 28,
   "id": "efa7a217",
   "metadata": {},
   "outputs": [
    {
     "name": "stdout",
     "output_type": "stream",
     "text": [
      "Name: Hydrogen\n",
      "Symbol: H\n",
      "Number: 1\n"
     ]
    }
   ],
   "source": [
    "'''Ans 6:- In this code, the dump() method is defined within the Element class to print\n",
    "the values of the object's attributes. The self keyword refers to the instance of\n",
    "the class, allowing us to access its attributes and methods.'''\n",
    "\n",
    "# By using the above element class we define a function\n",
    "def dump(self):\n",
    "    print(f\"Name: {self.name}, Symbol: {self.symbol}, Number: {self.number}\")\n",
    "hydrogen.dump()"
   ]
  },
  {
   "cell_type": "code",
   "execution_count": 36,
   "id": "046669ca",
   "metadata": {},
   "outputs": [
    {
     "name": "stdout",
     "output_type": "stream",
     "text": [
      "Name: Hydrogen\n",
      "Symbol: H\n",
      "Number: 1\n"
     ]
    }
   ],
   "source": [
    "'''Ans 7:- In this code, the __str__() method is defined within the Element class to\n",
    "return a formatted string representation of the object's attributes. This allows us\n",
    "to customize how the object is displayed when using the print() function.'''\n",
    "\n",
    "def __str__(self):\n",
    "    return f\"Name: {self.name}\\nSymbol: {self.symbol}\\nNumber: {self.number}\"\n",
    "\n",
    "print(hydrogen)"
   ]
  },
  {
   "cell_type": "code",
   "execution_count": 37,
   "id": "65c4fb93",
   "metadata": {},
   "outputs": [
    {
     "name": "stdout",
     "output_type": "stream",
     "text": [
      "Name: Hydrogen\n",
      "Symbol: H\n",
      "Number: 1\n"
     ]
    }
   ],
   "source": [
    "# or we can use this approach\n",
    "def dump(self):\n",
    "    return\n",
    "\n",
    "Element.dump = str\n",
    "print(hydrogen)"
   ]
  },
  {
   "cell_type": "code",
   "execution_count": 48,
   "id": "e421e807",
   "metadata": {},
   "outputs": [
    {
     "name": "stdout",
     "output_type": "stream",
     "text": [
      "Name: Hydrogen\n",
      "Symbol: H\n",
      "Number: 1\n"
     ]
    }
   ],
   "source": [
    "'''Ans 8:- We can make the attributes name, symbol, and number private by prefixing them\n",
    "with an underscore _, and then we can define getter properties to access their\n",
    "values. When we run this code, it will create the Element class with private\n",
    "attributes and getter properties. We can access the attributes using the getter\n",
    "properties, like hydrogen.name, hydrogen.symbol, and hydrogen.number.  By making the\n",
    "attributes private (using _name, _symbol, _number), we indicate that they are intended\n",
    "for internal use within the class. The getter properties allow us to access these\n",
    "private attributes in a controlled manner.'''\n",
    "\n",
    "class Element:\n",
    "    def __init__(self, name, symbol, number):\n",
    "        self._name = name\n",
    "        self._symbol = symbol\n",
    "        self._number = number\n",
    "\n",
    "    @property\n",
    "    def name(self):\n",
    "        return self._name\n",
    "\n",
    "    @property\n",
    "    def symbol(self):\n",
    "        return self._symbol\n",
    "\n",
    "    @property\n",
    "    def number(self):\n",
    "        return self._number\n",
    "\n",
    "    def __str__(self):\n",
    "        return\n",
    "\n",
    "hydrogen = Element('Hydrogen', 'H', 1)\n",
    "\n",
    "print(\"Name:\", hydrogen.name)\n",
    "print(\"Symbol:\", hydrogen.symbol)\n",
    "print(\"Number:\", hydrogen.number)"
   ]
  },
  {
   "cell_type": "code",
   "execution_count": 51,
   "id": "d4669ad3",
   "metadata": {},
   "outputs": [
    {
     "name": "stdout",
     "output_type": "stream",
     "text": [
      "Bear eats: berries\n",
      "Rabbit eats: clover\n",
      "Octothorpe eats: campers\n"
     ]
    }
   ],
   "source": [
    "'''Ans 9:- This example defines three classes, Bear, Rabbit, and Octothorpe, each with an\n",
    "eats() method returning specific foods. Objects are created from these classes and\n",
    "their eating preferences are printed.'''\n",
    "\n",
    "class Bear:\n",
    "    def eats(self):\n",
    "        return 'berries'\n",
    "\n",
    "class Rabbit:\n",
    "    def eats(self):\n",
    "        return 'clover'\n",
    "\n",
    "class Octothorpe:\n",
    "    def eats(self):\n",
    "        return 'campers'\n",
    "\n",
    "# Create objects and print what they eat\n",
    "bear = Bear()\n",
    "rabbit = Rabbit()\n",
    "octothorpe = Octothorpe()\n",
    "\n",
    "print(f\"Bear eats: {bear.eats()}\")\n",
    "print(f\"Rabbit eats: {rabbit.eats()}\")\n",
    "print(f\"Octothorpe eats: {octothorpe.eats()}\")"
   ]
  },
  {
   "cell_type": "code",
   "execution_count": 53,
   "id": "73250155",
   "metadata": {},
   "outputs": [
    {
     "name": "stdout",
     "output_type": "stream",
     "text": [
      "Laser does: disintegrate\n",
      "Claw does: crush\n",
      "SmartPhone does: ring\n"
     ]
    }
   ],
   "source": [
    "'''Ans 10:- This code defines three classes: Laser, Claw, and SmartPhone, each with a\n",
    "does() method that returns actions. The Robot class aggregates instances of these\n",
    "classes and has its own does() method that prints what each component object does.\n",
    "When a Robot object is created and its does() method is called, it prints the\n",
    "actions of its components, illustrating a basic composition of classes and their\n",
    "behaviors within a larger class structure.'''\n",
    "class Laser:\n",
    "    def does(self):\n",
    "        return 'disintegrate'\n",
    "\n",
    "class Claw:\n",
    "    def does(self):\n",
    "        return 'crush'\n",
    "\n",
    "class SmartPhone:\n",
    "    def does(self):\n",
    "        return 'ring'\n",
    "\n",
    "class Robot:\n",
    "    def __init__(self):\n",
    "        self.laser = Laser()\n",
    "        self.claw = Claw()\n",
    "        self.smartphone = SmartPhone()\n",
    "\n",
    "    def does(self):\n",
    "        print(f\"Laser does: {self.laser.does()}\")\n",
    "        print(f\"Claw does: {self.claw.does()}\")\n",
    "        print(f\"SmartPhone does: {self.smartphone.does()}\")\n",
    "\n",
    "# Create a Robot object and call its does() method\n",
    "robot = Robot()\n",
    "robot.does()"
   ]
  },
  {
   "cell_type": "code",
   "execution_count": null,
   "id": "aec0e89e",
   "metadata": {},
   "outputs": [],
   "source": []
  }
 ],
 "metadata": {
  "kernelspec": {
   "display_name": "Python 3 (ipykernel)",
   "language": "python",
   "name": "python3"
  },
  "language_info": {
   "codemirror_mode": {
    "name": "ipython",
    "version": 3
   },
   "file_extension": ".py",
   "mimetype": "text/x-python",
   "name": "python",
   "nbconvert_exporter": "python",
   "pygments_lexer": "ipython3",
   "version": "3.10.9"
  }
 },
 "nbformat": 4,
 "nbformat_minor": 5
}
