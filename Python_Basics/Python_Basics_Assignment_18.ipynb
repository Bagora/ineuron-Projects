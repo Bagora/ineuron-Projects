{
 "cells": [
  {
   "cell_type": "markdown",
   "id": "e28898e4",
   "metadata": {},
   "source": [
    "## Python_Basics_Assignment_18\n",
    "1. Create a zoo.py file first. Define the hours() function, which prints the string 'Open 9-5 daily'. Then, use the interactive interpreter to import the zoo module and call its hours() function.\n",
    "2. In the interactive interpreter, import the zoo module as menagerie and call its hours() function.\n",
    "3. Using the interpreter, explicitly import and call the hours() function from zoo.\n",
    "4. Import the hours() function as info and call it.\n",
    "5. Create a plain dictionary with the key-value pairs 'a': 1, 'b': 2, and 'c': 3, and print it out.\n",
    "6. Make an OrderedDict called fancy from the same pairs listed in 5 and print it. Did it print in the same order as plain?\n",
    "7. Make a default dictionary called dict_of_lists and pass it the argument list. Make the list dict_of_lists['a'] and append the value 'something for a' to it in one assignment. Print dict_of_lists['a']."
   ]
  },
  {
   "cell_type": "code",
   "execution_count": 6,
   "id": "8c6a5165",
   "metadata": {},
   "outputs": [
    {
     "name": "stdout",
     "output_type": "stream",
     "text": [
      "Open 9-5 daily\n"
     ]
    }
   ],
   "source": [
    "'''Ans 1:- We can create a zoo.py file in this directory and import the zoo module which\n",
    "we created and call its hours() function, which will print the string 'Open 9-5\n",
    "daily'.'''\n",
    "# zoo.py, #def hours(),#print('Open 9-5 daily')\n",
    "\n",
    "import zoo\n",
    "\n",
    "zoo.hours()"
   ]
  },
  {
   "cell_type": "code",
   "execution_count": 7,
   "id": "9a751663",
   "metadata": {},
   "outputs": [
    {
     "name": "stdout",
     "output_type": "stream",
     "text": [
      "Open 9-5 daily\n"
     ]
    }
   ],
   "source": [
    "'''Ans 2:- We can import the zoo module as menagerie and then call its\n",
    "hours() function in the interactive interpreter. This will import the zoo module with the alias\n",
    "menagerie and call its hours() function, which will print the string Open 9-5\n",
    "daily'''\n",
    "\n",
    "import zoo as menagerie\n",
    "\n",
    "menagerie.hours()"
   ]
  },
  {
   "cell_type": "code",
   "execution_count": 8,
   "id": "ec60cf5c",
   "metadata": {},
   "outputs": [
    {
     "name": "stdout",
     "output_type": "stream",
     "text": [
      "Open 9-5 daily\n"
     ]
    }
   ],
   "source": [
    "'''Ans 3'''\n",
    "from zoo import hours\n",
    "\n",
    "hours()"
   ]
  },
  {
   "cell_type": "code",
   "execution_count": 9,
   "id": "3ec29d35",
   "metadata": {},
   "outputs": [
    {
     "name": "stdout",
     "output_type": "stream",
     "text": [
      "Open 9-5 daily\n"
     ]
    }
   ],
   "source": [
    "'''Ans 4:- This will import the hours() function from the zoo module as info and then\n",
    "call the info() function, which will print the string 'Open 9-5 daily'.'''\n",
    "\n",
    "from zoo import hours as info\n",
    "\n",
    "info()"
   ]
  },
  {
   "cell_type": "code",
   "execution_count": 10,
   "id": "e629aab8",
   "metadata": {},
   "outputs": [
    {
     "name": "stdout",
     "output_type": "stream",
     "text": [
      "{'a': 1, 'b': 2, 'c': 3}\n"
     ]
    }
   ],
   "source": [
    "'''Ans 5:- When we run this code, it will create the dictionary with the specified\n",
    "key-value pairs and then print it.'''\n",
    "\n",
    "plain_dict = {'a': 1, 'b': 2, 'c': 3}\n",
    "print(plain_dict)"
   ]
  },
  {
   "cell_type": "code",
   "execution_count": 17,
   "id": "56968774",
   "metadata": {},
   "outputs": [
    {
     "name": "stdout",
     "output_type": "stream",
     "text": [
      "OrderedDict([('a', 1), ('b', 2), ('c', 3)])\n"
     ]
    }
   ],
   "source": [
    "'''Ans 6:- We can use the collections module to create an OrderedDict called fancy with\n",
    "the same key-value pairs as plain_dict. The OrderedDict maintains the order of insertion, so it\n",
    "should print in the same order as plain_dict. When you run this code, it will create\n",
    "the OrderedDict fancy or fancy = OrderedDict(plain_dict) and then print it.'''\n",
    "\n",
    "from collections import OrderedDict\n",
    "\n",
    "fancy = OrderedDict({'a': 1, 'b': 2, 'c': 3})\n",
    "print(fancy)"
   ]
  },
  {
   "cell_type": "code",
   "execution_count": 18,
   "id": "f0ba65ca",
   "metadata": {},
   "outputs": [
    {
     "name": "stdout",
     "output_type": "stream",
     "text": [
      "['something for a']\n"
     ]
    }
   ],
   "source": [
    "'''Ans 7:- When we run this code, it will create the defaultdict with lists as default\n",
    "values, append the value 'something for a' to the list associated with key 'a', and\n",
    "then print the contents of the list. If the key 'a' doesn't exist in the\n",
    "defaultdict initially, it will automatically create a new list and associate it with the\n",
    "key 'a'. This is one of the convenient features of defaultdict.'''\n",
    "\n",
    "from collections import defaultdict\n",
    "\n",
    "dict_of_lists = defaultdict(list)\n",
    "dict_of_lists['a'].append('something for a')\n",
    "\n",
    "print(dict_of_lists['a'])"
   ]
  }
 ],
 "metadata": {
  "kernelspec": {
   "display_name": "Python 3 (ipykernel)",
   "language": "python",
   "name": "python3"
  },
  "language_info": {
   "codemirror_mode": {
    "name": "ipython",
    "version": 3
   },
   "file_extension": ".py",
   "mimetype": "text/x-python",
   "name": "python",
   "nbconvert_exporter": "python",
   "pygments_lexer": "ipython3",
   "version": "3.10.9"
  }
 },
 "nbformat": 4,
 "nbformat_minor": 5
}
