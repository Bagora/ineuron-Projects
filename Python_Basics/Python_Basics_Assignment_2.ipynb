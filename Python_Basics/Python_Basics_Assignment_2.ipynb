{
 "cells": [
  {
   "cell_type": "markdown",
   "id": "c981a3b9",
   "metadata": {},
   "source": [
    "# Python_Basics_Assignment_2"
   ]
  },
  {
   "cell_type": "markdown",
   "id": "07abc738",
   "metadata": {},
   "source": [
    "# All Questions\n",
    "1.What are the two values of the Boolean data type? How do you write them?\n",
    "2. What are the three different types of Boolean operators?\n",
    "3. Make a list of each Boolean operator's truth tables (i.e. every possible combination of Boolean values for the operator and what it evaluate ).\n",
    "4. What are the values of the following expressions?\n",
    "(5 > 4) and (3 == 5)\n",
    "not (5 > 4)\n",
    "(5 > 4) or (3 == 5)\n",
    "not ((5 > 4) or (3 == 5))\n",
    "(True and True) and (True == False)\n",
    "(not False) or (not True)\n",
    "5. What are the six comparison operators?\n",
    "6. How do you tell the difference between the equal to and assignment operators?Describe a condition and when you would use one.\n",
    "7. Identify the three blocks in this code:\n",
    "spam = 0\n",
    "if spam == 10:\n",
    "print('eggs')\n",
    "if spam > 5:\n",
    "print('bacon')\n",
    "else:\n",
    "print('ham')\n",
    "print('spam')\n",
    "print('spam')\n",
    "8. Write code that prints Hello if 1 is stored in spam, prints Howdy if 2 is stored in spam, and prints Greetings! if anything else is stored in spam.\n",
    "\n",
    "\n",
    "9.If your programme is stuck in an endless loop, what keys you’ll press?\n",
    "10. How can you tell the difference between break and continue?\n",
    "11. In a for loop, what is the difference between range(10), range(0, 10), and range(0, 10, 1)?\n",
    "12. Write a short program that prints the numbers 1 to 10 using a for loop. Then write an equivalent program that prints the numbers 1 to 10 using a while loop.\n",
    "13. If you had a function named bacon() inside a module named spam, how would you call it after importing spam?"
   ]
  },
  {
   "cell_type": "code",
   "execution_count": 4,
   "id": "9fd9a5ed",
   "metadata": {},
   "outputs": [
    {
     "name": "stdout",
     "output_type": "stream",
     "text": [
      "True\n",
      "False\n"
     ]
    }
   ],
   "source": [
    "#Q1.What are the two values of the Boolean data type? How do you write them?\n",
    "#Ans\n",
    "'''\n",
    "There are 35 keywords in Python among them only three are case-sensitive keywords and two or them are boolean so we write them as True and False.\n",
    "'''\n",
    "# Programme to print boolean data type\n",
    "a = 1\n",
    "b = 0\n",
    "print(bool(a))\n",
    "print(bool(b))\n"
   ]
  },
  {
   "cell_type": "code",
   "execution_count": 47,
   "id": "c0676ae1",
   "metadata": {},
   "outputs": [
    {
     "name": "stdout",
     "output_type": "stream",
     "text": [
      "False True True\n"
     ]
    }
   ],
   "source": [
    "#Q2.What are the three different types of Boolean operators?\n",
    "#Ans\n",
    "'''\n",
    "Boolean Operations are simple arithmetic of True and False values. These values can be manipulated by the use of boolean \n",
    "operators which include AND, Or, and NOT\n",
    "'''\n",
    "# A programe to check these operators\n",
    "a = True\n",
    "b = False\n",
    "\n",
    "x = a and b\n",
    "y = b or a \n",
    "z = not b\n",
    "print(x,y,z)"
   ]
  },
  {
   "cell_type": "code",
   "execution_count": 1,
   "id": "c599dd57",
   "metadata": {},
   "outputs": [
    {
     "name": "stdout",
     "output_type": "stream",
     "text": [
      "\n"
     ]
    }
   ],
   "source": [
    "#Q3. Make a list of each Boolean operator's truth tables (i.e. every possible combination of Boolean values for the operator and what it evaluate )\n",
    "#Ans\n",
    "'''\n",
    "There are three different types of bollean operators OR, AND, NOT. So we will see each condition in truth table \n",
    "Let's consider variable a and b. Now we see what operators do.\n",
    "1. OR operator always select True until and unless both the conditions are not False.\n",
    "2. AND Operator Selects True if both the conditions are same otherwise it selects False.\n",
    "3. NOT operator returns opposite value, like if A is True then NOT A is False.\n",
    "\n",
    "#Truth Table\n",
    "1. OR\n",
    " A        B      X\n",
    "True\tTrue\tTrue\n",
    "True\tFalse\tTrue\n",
    "False\tTrue\tTrue\n",
    "False\tFalse\tFalse\n",
    "\n",
    "2. AND\n",
    " A        B       x\n",
    "True\tTrue\tTrue\n",
    "True\tFalse\tFalse\n",
    "False\tTrue\tFalse\n",
    "False\tFalse\tFalse\n",
    "\n",
    "3. NOT\n",
    "A       Not A\n",
    "True\tFalse\n",
    "False\tTrue\n",
    "'''"
   ]
  },
  {
   "cell_type": "code",
   "execution_count": 27,
   "id": "a26a97c8",
   "metadata": {},
   "outputs": [
    {
     "name": "stdout",
     "output_type": "stream",
     "text": [
      "False False True False False True\n"
     ]
    }
   ],
   "source": [
    "'''\n",
    "#Q4. What are the values of the following expressions?\n",
    "(5 > 4) and (3 == 5)\n",
    "not (5 > 4)\n",
    "(5 > 4) or (3 == 5)\n",
    "not ((5 > 4) or (3 == 5))\n",
    "(True and True) and (True == False)\n",
    "(not False) or (not True)\n",
    "'''\n",
    "#Ans\n",
    "'''\n",
    "To check this we need to make a variable for each expression so that we can check the result of bollean data type.\n",
    "False False True False False True\n",
    "'''\n",
    "# A Programe to check these expressions\n",
    "a= (5 > 4) and (3 == 5) # False\n",
    "b= not (5 > 4) # False\n",
    "c= (5 > 4) or (3 == 5) #True\n",
    "d= not ((5 > 4) or (3 == 5)) #False\n",
    "e= (True and True) and (True == False) #False\n",
    "f= (not False) or (not True) #True\n",
    "\n",
    "print(a,b,c,d,e,f)\n"
   ]
  },
  {
   "cell_type": "code",
   "execution_count": 46,
   "id": "4be04906",
   "metadata": {},
   "outputs": [
    {
     "name": "stdout",
     "output_type": "stream",
     "text": [
      "True\n",
      "False\n",
      "True\n",
      "False\n",
      "True\n",
      "False\n"
     ]
    }
   ],
   "source": [
    "#Q5. What are the six comparison operators?\n",
    "#Ans\n",
    "'''\n",
    "In Python we often want to compare a value with another value. To do that, we use comparison operators.\n",
    "Python has six comparison operators, which are as follows:\n",
    "1. Less than ( < )\n",
    "2. Less than or equal to (<=)\n",
    "3. Greater than (>)\n",
    "4. Greater than or equal to (>=)\n",
    "5. Equal to ( == )\n",
    "6. Not equal to ( != )\n",
    "These comparison operators compare two values and return a boolean value, either True or False.\n",
    "'''\n",
    "#To Print a programe which shows logic of these operators\n",
    "#1. Less than ( < )\n",
    "a = 2\n",
    "b = 5\n",
    "print(a<b)\n",
    "\n",
    "#2. Less than or equal to (<=)\n",
    "a = 50\n",
    "b = 49.9\n",
    "print(a<=b)\n",
    "\n",
    "#3. Greater than (>)\n",
    "a = 10\n",
    "b = 7\n",
    "print(a>b)\n",
    "\n",
    "#4. Greater than or equal to (>=)\n",
    "a = 15\n",
    "b = 15.6\n",
    "print(a>=b)\n",
    "\n",
    "#5. Equal to ( == )\n",
    "a = 99.999\n",
    "b = 99.999\n",
    "print(a==b)\n",
    "\n",
    "#6. Not equal to ( != )\n",
    "a = 9\n",
    "b = 9\n",
    "print(a!=b)\n",
    "\n",
    "\n"
   ]
  },
  {
   "cell_type": "code",
   "execution_count": 56,
   "id": "118e7369",
   "metadata": {},
   "outputs": [
    {
     "name": "stdout",
     "output_type": "stream",
     "text": [
      "10\n",
      "True\n"
     ]
    }
   ],
   "source": [
    "#Q6. How do you tell the difference between the equal to and assignment operators? Describe a condition and when you would use one.\n",
    "#Ans\n",
    "'''\n",
    "As we all know in python the most used operator is assignment operator which is '=' as it stores a value in a variable.\n",
    "Equal to operators is for comparison two values and shows result in boolean data type either True or False.\n",
    "'''\n",
    "# Conditions\n",
    "a = 10 # '=' this operator helps the variable a to save a value 10\n",
    "b = (5==5) #'==' this operator helps to evalute a boolean value\n",
    "print(a)\n",
    "print(b)"
   ]
  },
  {
   "cell_type": "code",
   "execution_count": 58,
   "id": "452073fe",
   "metadata": {},
   "outputs": [
    {
     "name": "stdout",
     "output_type": "stream",
     "text": [
      "ham\n",
      "spam\n",
      "spam\n"
     ]
    }
   ],
   "source": [
    "'''\n",
    "#Q7. Identify the three blocks in this code:\n",
    "spam = 0\n",
    "if spam == 10:\n",
    "print('eggs')\n",
    "if spam > 5:\n",
    "print('bacon')\n",
    "else:\n",
    "print('ham')\n",
    "print('spam')\n",
    "print('spam')\n",
    "'''\n",
    "#Ans\n",
    "'''\n",
    "This code shows this error IndentationError: expected an indented block\n",
    "In this code there are three indendation problems because whenever we put colon ':' we need to start with fresh line with one press\n",
    "tab indentation block.To fix this programe lets leave the indentation and test the code.\n",
    "'''\n",
    "spam = 0\n",
    "if spam == 10:\n",
    "    print('eggs')\n",
    "if spam > 5:\n",
    "    print('bacon')\n",
    "else:\n",
    "    print('ham')\n",
    "    print('spam')\n",
    "    print('spam')\n"
   ]
  },
  {
   "cell_type": "code",
   "execution_count": 80,
   "id": "392c9901",
   "metadata": {},
   "outputs": [
    {
     "name": "stdout",
     "output_type": "stream",
     "text": [
      "Enter choice from 1 To 5: 5\n",
      "Greetings!\n"
     ]
    }
   ],
   "source": [
    "#Q8. Write code that prints Hello if 1 is stored in spam, prints Howdy if 2 is stored in spam, and prints Greetings! if anything else is stored in spam.\n",
    "#Ans\n",
    "'''\n",
    "Let's take a variable name spam and in that variable we will put user input so that we can test all three conditions.\n",
    "'''\n",
    "#To print a condition programe\n",
    "spam = int(input(\"Enter choice from 1 To 5: \"))\n",
    "\n",
    "if spam == 1:\n",
    "    print(\"Hello\")\n",
    "if spam == 2:\n",
    "    print(\"Howdy\")\n",
    "else:\n",
    "    print(\"Greetings!\")"
   ]
  },
  {
   "cell_type": "code",
   "execution_count": 2,
   "id": "93066786",
   "metadata": {},
   "outputs": [
    {
     "name": "stdout",
     "output_type": "stream",
     "text": [
      "\n"
     ]
    }
   ],
   "source": [
    "#Q9.If your programme is stuck in an endless loop, what keys you’ll press?\n",
    "#Ans\n",
    "'''\n",
    "We can always kill any program in python with Ctrl+c in windows and linux, and command+c in mac os\n",
    "or kill the terminal manually or restart the kernel.\n",
    "'''"
   ]
  },
  {
   "cell_type": "code",
   "execution_count": 98,
   "id": "ea4acea0",
   "metadata": {},
   "outputs": [
    {
     "name": "stdout",
     "output_type": "stream",
     "text": [
      "0\n",
      "1\n",
      "2\n",
      "3\n",
      "4\n",
      "5\n",
      "6\n",
      "7\n",
      "H\n",
      "e\n",
      "o\n",
      " \n",
      "W\n",
      "o\n",
      "r\n",
      "d\n"
     ]
    }
   ],
   "source": [
    "#Q10. How can you tell the difference between break and continue?\n",
    "#Ans\n",
    "'''\n",
    "The main difference between both the statements is that when the break keyword comes, it terminates the execution of the current\n",
    "loop and passes the control over the next loop or main body, whereas when the continue keyword is encountered, \n",
    "it skips the current iteration and executes the very next iteration in the loop. \n",
    "In simple words break statement leaves a loop, whereas the continue statement jumps to the next iteration. \n",
    "'''\n",
    "#To print a program using break and continue statements\n",
    "#Simple use of break keyword\n",
    "for i in range(12):\n",
    "    if i == 8:\n",
    "        break\n",
    "    else:\n",
    "        print(i)\n",
    "\n",
    "#Simple use of continue keyword\n",
    "for i in \"Hello World\":\n",
    "    if  i ==\"l\":\n",
    "        continue\n",
    "    else:\n",
    "        print(i)"
   ]
  },
  {
   "cell_type": "code",
   "execution_count": 121,
   "id": "a86a1ff6",
   "metadata": {},
   "outputs": [
    {
     "name": "stdout",
     "output_type": "stream",
     "text": [
      "range(10)\n",
      "0\n",
      "1\n",
      "2\n",
      "3\n",
      "4\n",
      "5\n",
      "6\n",
      "7\n",
      "8\n",
      "9\n",
      "range(0, 10)\n",
      "0\n",
      "1\n",
      "2\n",
      "3\n",
      "4\n",
      "5\n",
      "6\n",
      "7\n",
      "8\n",
      "9\n",
      "range(0, 10, 1)\n",
      "0\n",
      "1\n",
      "2\n",
      "3\n",
      "4\n",
      "5\n",
      "6\n",
      "7\n",
      "8\n",
      "9\n"
     ]
    }
   ],
   "source": [
    "#Q11. In a for loop, what is the difference between range(10), range(0, 10), and range(0, 10, 1)?\n",
    "#Ans\n",
    "'''\n",
    "As we all know range in python starts and ended with indexing of each Literals like eg \"Hello\" \"True\" \"12345\" so like x[0] is H,\n",
    "x[1] is e so if we need to cover 5 letters in python we need to write index like x[0:6] because it always leaves the last one \n",
    "so we always need to select a number higher from our desired range. using range scaling concept, so (10) shows 0 to 9, \n",
    "(0, 10) shows 0 to 9 , (0, 10, 1) shows o to 9.\n",
    "range(0, 10, 1) It explicitly tells the loop to increase the variable by 1 on each iteration. At the end they all are doing same thing.\n",
    "'''\n",
    "# To print range\n",
    "print(\"range(10)\")\n",
    "for i in range(10):\n",
    "    print(i)\n",
    "\n",
    "print(\"range(0, 10)\")\n",
    "for i in range(0, 10):\n",
    "    print(i)\n",
    "\n",
    "print(\"range(0, 10, 1)\")\n",
    "for i in range(0, 10, 1):\n",
    "    print(i)"
   ]
  },
  {
   "cell_type": "code",
   "execution_count": 123,
   "id": "15a40479",
   "metadata": {},
   "outputs": [
    {
     "name": "stdout",
     "output_type": "stream",
     "text": [
      "range(1 to 10 using for loop)\n",
      "1\n",
      "2\n",
      "3\n",
      "4\n",
      "5\n",
      "6\n",
      "7\n",
      "8\n",
      "9\n",
      "10\n",
      "range(1 to 10 using while loop)\n",
      "1\n",
      "2\n",
      "3\n",
      "4\n",
      "5\n",
      "6\n",
      "7\n",
      "8\n",
      "9\n",
      "10\n",
      "1\n",
      "2\n",
      "3\n",
      "4\n",
      "5\n",
      "6\n",
      "7\n",
      "8\n",
      "9\n",
      "10\n"
     ]
    }
   ],
   "source": [
    "#Q12. Write a short program that prints the numbers 1 to 10 using a for loop. Then write an equivalent program that prints the numbers 1 to 10 using a while loop.\n",
    "#Ans\n",
    "'''\n",
    "There is a difference between for loop and while loop as for loop does it's task print its result and break by itself but \n",
    "while loop does not break automatically python calculator is the example of while loop.\n",
    "so in that case we made a variable name i and assign a value 1 to it.And create a while loop with i<=10 \n",
    "when i meets the requirement which is i<=10 then it's stop printing a value otherwise it will print value and increment i \n",
    "with i+1 then check the while loop and print again if the condition is not meet and break if desired result comes.\n",
    "here is a code that print the desired results\n",
    "'''\n",
    "# To write a code using for and while loop\n",
    "\n",
    "#for loop\n",
    "print(\"range(1 to 10 using for loop)\")\n",
    "for i in range(1,11):\n",
    "    print(i)\n",
    "\n",
    "#while loop\n",
    "print(\"range(1 to 10 using while loop)\")\n",
    "i = 1\n",
    "while i <= 10:\n",
    "    print(i)\n",
    "    i = i + 1\n",
    "    \n",
    "#while using break\n",
    "i = 0\n",
    "while i <=10:\n",
    "    i+=1\n",
    "    if i==11:\n",
    "        break\n",
    "    print(i)\n"
   ]
  },
  {
   "cell_type": "code",
   "execution_count": 3,
   "id": "b07c1344",
   "metadata": {
    "scrolled": false
   },
   "outputs": [
    {
     "name": "stdout",
     "output_type": "stream",
     "text": [
      "This is my first function\n"
     ]
    },
    {
     "ename": "ModuleNotFoundError",
     "evalue": "No module named 'spam'",
     "output_type": "error",
     "traceback": [
      "\u001b[1;31m---------------------------------------------------------------------------\u001b[0m",
      "\u001b[1;31mModuleNotFoundError\u001b[0m                       Traceback (most recent call last)",
      "Input \u001b[1;32mIn [3]\u001b[0m, in \u001b[0;36m<cell line: 14>\u001b[1;34m()\u001b[0m\n\u001b[0;32m     11\u001b[0m bacon()\n\u001b[0;32m     13\u001b[0m \u001b[38;5;66;03m#To call this function in a module\u001b[39;00m\n\u001b[1;32m---> 14\u001b[0m \u001b[38;5;28;01mimport\u001b[39;00m \u001b[38;5;21;01mspam\u001b[39;00m\n\u001b[0;32m     15\u001b[0m spam\u001b[38;5;241m.\u001b[39mbacon()\n",
      "\u001b[1;31mModuleNotFoundError\u001b[0m: No module named 'spam'"
     ]
    }
   ],
   "source": [
    "#Q13. If you had a function named bacon() inside a module named spam, how would you call it after importing spam?\n",
    "#Ans\n",
    "'''\n",
    "In Python, a function is a group of related statements that performs a specific task which only runs when it is called.\n",
    "In Python, Modules are simply files with the “. py” or ipynb extension containing Python code that can be imported inside another \n",
    "Python Program. It is just a python file with some code in it, so that we can call this code in some another file.\n",
    "'''\n",
    "#write a program to call a function\n",
    "def bacon():\n",
    "    print(\"This is my first function\")\n",
    "bacon()\n",
    "\n",
    "#To call this function in a module\n",
    "import spam\n",
    "spam.bacon()"
   ]
  },
  {
   "cell_type": "code",
   "execution_count": null,
   "id": "8f5f21a4",
   "metadata": {},
   "outputs": [],
   "source": []
  },
  {
   "cell_type": "code",
   "execution_count": null,
   "id": "f21756db",
   "metadata": {},
   "outputs": [],
   "source": []
  }
 ],
 "metadata": {
  "kernelspec": {
   "display_name": "Python 3 (ipykernel)",
   "language": "python",
   "name": "python3"
  },
  "language_info": {
   "codemirror_mode": {
    "name": "ipython",
    "version": 3
   },
   "file_extension": ".py",
   "mimetype": "text/x-python",
   "name": "python",
   "nbconvert_exporter": "python",
   "pygments_lexer": "ipython3",
   "version": "3.9.12"
  }
 },
 "nbformat": 4,
 "nbformat_minor": 5
}
