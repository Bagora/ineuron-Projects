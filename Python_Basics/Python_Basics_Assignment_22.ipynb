{
 "cells": [
  {
   "cell_type": "markdown",
   "id": "38dec890",
   "metadata": {},
   "source": [
    "## Python_Basics_Assignment_22\n",
    "1. What is the result of the code, and explain?\n",
    ">>> X = 'iNeuron'\n",
    ">>> def func():\n",
    "print(X)\n",
    "\n",
    ">>> func()\n",
    "\n",
    "2. What is the result of the code, and explain?\n",
    ">>> X = 'iNeuron'\n",
    ">>> def func():\n",
    "X = 'NI!'\n",
    "\n",
    ">>> func()\n",
    ">>> print(X)\n",
    "\n",
    "3. What does this code print, and why?\n",
    ">>> X = 'iNeuron'\n",
    ">>> def func():\n",
    "X = 'NI'\n",
    "print(X)\n",
    "\n",
    ">>> func()\n",
    ">>> print(X)\n",
    "\n",
    "4. What output does this code produce? Why?\n",
    ">>> X = 'iNeuron'\n",
    ">>> def func():\n",
    "global X\n",
    "X = 'NI'\n",
    "\n",
    ">>> func()\n",
    ">>> print(X)\n",
    "\n",
    "5. What about this code—what’s the output, and why?\n",
    ">>> X = 'iNeuron'\n",
    ">>> def func():\n",
    "X = 'NI'\n",
    "def nested():\n",
    "print(X)\n",
    "nested()\n",
    "\n",
    ">>> func()\n",
    ">>> X\n",
    "\n",
    "6. How about this code: what is its output in Python 3, and explain?\n",
    ">>> def func():\n",
    "X = 'NI'\n",
    "def nested():\n",
    "nonlocal X\n",
    "X = 'Spam'\n",
    "nested()\n",
    "print(X)\n",
    "\n",
    ">>> func()"
   ]
  },
  {
   "cell_type": "code",
   "execution_count": 1,
   "id": "9ac1eaf4",
   "metadata": {},
   "outputs": [
    {
     "name": "stdout",
     "output_type": "stream",
     "text": [
      "iNeuron\n"
     ]
    }
   ],
   "source": [
    "'''Ans 1:- The code you've provided defines a global variable X with the value 'iNeuron'\n",
    "and then defines a function func() that prints the value of the global variable X.\n",
    "After defining the function, the code calls the function func().'''\n",
    "\n",
    "X = 'iNeuron'\n",
    "\n",
    "def func():\n",
    "    print(X)\n",
    "\n",
    "func()"
   ]
  },
  {
   "cell_type": "code",
   "execution_count": 3,
   "id": "22dbbb59",
   "metadata": {},
   "outputs": [
    {
     "name": "stdout",
     "output_type": "stream",
     "text": [
      "iNeuron\n"
     ]
    }
   ],
   "source": [
    "'''Ans 2:- In this code, we define a global variable X with the value 'iNeuron'. Then, we\n",
    "define a function func() which has a local variable X with the value 'NI!'. However,\n",
    "this local variable X is confined to the scope of the function and does not affect\n",
    "the global variable X.  The global variable X is assigned the value 'iNeuron'. \n",
    "The function func() is defined, but it does not return or print anything. Inside\n",
    "the function, a local variable X is defined with the value 'NI!'. This local\n",
    "variable does not affect the global variable.  The code calls the function func(). \n",
    "After the function call, print(X) is executed. This statement refers to the global\n",
    "variable X with the value 'iNeuron', not the local variable X defined within the\n",
    "function.  Therefore, the output of print(X) is 'iNeuron'.'''\n",
    "\n",
    "X = 'iNeuron' \n",
    "\n",
    "def func():\n",
    "    X = 'NI!'\n",
    "\n",
    "func()\n",
    "print(X)"
   ]
  },
  {
   "cell_type": "code",
   "execution_count": 4,
   "id": "5ee8c287",
   "metadata": {},
   "outputs": [
    {
     "name": "stdout",
     "output_type": "stream",
     "text": [
      "NI\n",
      "iNeuron\n"
     ]
    }
   ],
   "source": [
    "'''Ans 3:- The given code defines a global variable X with the value 'iNeuron'. It then\n",
    "defines a function func() that sets a local variable X with the value 'NI' and prints\n",
    "it. When the function is called with func(), it prints 'NI' from the local\n",
    "variable. However, the final print(X) statement outside the function refers to the\n",
    "global variable X, which still holds the value 'iNeuron'. The function's local\n",
    "variable X doesn't affect the global variable X, resulting in the two different outputs\n",
    "for the print(X) statements.'''\n",
    "\n",
    "X = 'iNeuron'\n",
    "\n",
    "def func():\n",
    "    X = 'NI'\n",
    "    print(X)\n",
    "\n",
    "\n",
    "func()\n",
    "print(X)"
   ]
  },
  {
   "cell_type": "code",
   "execution_count": 7,
   "id": "963300f5",
   "metadata": {},
   "outputs": [
    {
     "name": "stdout",
     "output_type": "stream",
     "text": [
      "NI\n"
     ]
    }
   ],
   "source": [
    "'''Ans 4:- The provided code initializes a global variable X with the value 'iNeuron'. It\n",
    "then defines a function func() that specifies the variable X as a global variable\n",
    "using the global keyword and changes its value to 'NI'. When the function is invoked\n",
    "with func(), it modifies the global X to 'NI'. Consequently, the subsequent\n",
    "print(X) statement outside the function prints the modified global value, which is now\n",
    "'NI'. The function's global declaration ensures that changes to X inside the\n",
    "function impact the global variable, leading to the altered output.'''\n",
    "\n",
    "X = 'iNeuron'\n",
    "\n",
    "def func():\n",
    "    global X\n",
    "    X = 'NI'\n",
    "\n",
    "func()\n",
    "print(X)"
   ]
  },
  {
   "cell_type": "code",
   "execution_count": 19,
   "id": "b76498bb",
   "metadata": {},
   "outputs": [
    {
     "name": "stdout",
     "output_type": "stream",
     "text": [
      "NI\n"
     ]
    },
    {
     "data": {
      "text/plain": [
       "'iNeuron'"
      ]
     },
     "execution_count": 19,
     "metadata": {},
     "output_type": "execute_result"
    }
   ],
   "source": [
    "'''Ans 5:- The provided code demonstrates variable scoping in Python. The\n",
    "global variable X is assigned 'iNeuron'. Inside the function func(), a local variable\n",
    "X is created with the value 'NI'. The nested function nested() prints the value\n",
    "of the local X, which is 'NI'. Upon calling func(), the nested function is\n",
    "executed, printing 'NI'. Finally, the global variable X is printed outside the function,\n",
    "yielding 'iNeuron'. The local variable in the function doesn't alter\n",
    "the global scope variable, illustrating the concept of variable scope in Python.'''\n",
    "X = 'iNeuron'\n",
    "\n",
    "def func():\n",
    "    X = 'NI'\n",
    "    def nested():\n",
    "        print(X)\n",
    "    \n",
    "    nested()\n",
    "func()\n",
    "X"
   ]
  },
  {
   "cell_type": "code",
   "execution_count": 18,
   "id": "7c0280b8",
   "metadata": {},
   "outputs": [
    {
     "name": "stdout",
     "output_type": "stream",
     "text": [
      "Spam\n"
     ]
    }
   ],
   "source": [
    "'''Ans 6:- The code defines an outer function func() that defines a variable X with the\n",
    "value 'NI'. It then defines a nested function nested() that uses the nonlocal\n",
    "keyword to tell Python that it wants to modify the value of the X variable in the\n",
    "outer function. So, when the nested function changes the value of X to 'Spam', the\n",
    "change is reflected in the outer function as well.  The nonlocal keyword is used to\n",
    "modify the value of a variable that is defined in an outer scope from within an inner\n",
    "scope.'''\n",
    "\n",
    "def func():\n",
    "    X = 'NI'\n",
    "    \n",
    "    def nested():\n",
    "        nonlocal X\n",
    "        X = 'Spam'\n",
    "    \n",
    "    nested()\n",
    "    print(X)\n",
    "func()"
   ]
  },
  {
   "cell_type": "code",
   "execution_count": null,
   "id": "3fa2cc74",
   "metadata": {},
   "outputs": [],
   "source": []
  },
  {
   "cell_type": "code",
   "execution_count": null,
   "id": "f8379e22",
   "metadata": {},
   "outputs": [],
   "source": []
  }
 ],
 "metadata": {
  "kernelspec": {
   "display_name": "Python 3 (ipykernel)",
   "language": "python",
   "name": "python3"
  },
  "language_info": {
   "codemirror_mode": {
    "name": "ipython",
    "version": 3
   },
   "file_extension": ".py",
   "mimetype": "text/x-python",
   "name": "python",
   "nbconvert_exporter": "python",
   "pygments_lexer": "ipython3",
   "version": "3.10.9"
  }
 },
 "nbformat": 4,
 "nbformat_minor": 5
}
