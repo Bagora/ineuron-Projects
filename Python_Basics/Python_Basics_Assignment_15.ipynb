{
 "cells": [
  {
   "cell_type": "markdown",
   "id": "dc5dac12",
   "metadata": {},
   "source": [
    "## Python_Basics_Assignment_15\n",
    "1. How many seconds are in an hour? Use the interactive interpreter as a calculator and multiply the number of seconds in a minute (60) by the number of minutes in an hour (also 60). sol. 60 \n",
    "2. Assign the result from the previous task (seconds in an hour) to a variable called seconds_per_hour.\n",
    "3. How many seconds do you think there are in a day? Make use of the variables seconds per hour and minutes per hour.\n",
    "4. Calculate seconds per day again, but this time save the result in a variable called seconds_per_day\n",
    "5. Divide seconds_per_day by seconds_per_hour. Use floating-point (/) division.\n",
    "6. Divide seconds_per_day by seconds_per_hour, using integer (//) division. Did this number agree with the floating-point value from the previous question, aside from the final .0?\n",
    "7. Write a generator, genPrimes, that returns the sequence of prime numbers on successive calls to its next() method: 2, 3, 5, 7, 11, ...\n"
   ]
  },
  {
   "cell_type": "code",
   "execution_count": 2,
   "id": "9bbdc9ef",
   "metadata": {},
   "outputs": [
    {
     "name": "stdout",
     "output_type": "stream",
     "text": [
      "There are 3600 seconds in an hour\n"
     ]
    }
   ],
   "source": [
    "'''Ans 1:- To calculate the number of seconds in an hour, Let's solve this with Python interpreter '''\n",
    "\n",
    "seconds_in_minute = 60\n",
    "minutes_in_hour = 60\n",
    "\n",
    "seconds_in_hour = seconds_in_minute * minutes_in_hour\n",
    "print(f\"There are {seconds_in_hour} seconds in an hour\")"
   ]
  },
  {
   "cell_type": "code",
   "execution_count": 3,
   "id": "50752df1",
   "metadata": {},
   "outputs": [
    {
     "name": "stdout",
     "output_type": "stream",
     "text": [
      "3600\n"
     ]
    }
   ],
   "source": [
    "'''Ans 2:- We can assign the result from the previous calculation (3600 seconds in an\n",
    "hour) to a variable called seconds_per_hour like this:-'''\n",
    "\n",
    "seconds_per_hour = 3600\n",
    "print(seconds_per_hour)"
   ]
  },
  {
   "cell_type": "code",
   "execution_count": 4,
   "id": "444a5938",
   "metadata": {},
   "outputs": [
    {
     "name": "stdout",
     "output_type": "stream",
     "text": [
      "There are 86400 seconds per day\n"
     ]
    }
   ],
   "source": [
    "'''Ans 3:- To calculate the number of seconds in a day, we can use the previously\n",
    "calculated value seconds_per_hour and then * that into 24 hours in a day.'''\n",
    "\n",
    "seconds_per_hour = 3600\n",
    "hours_per_day = 24\n",
    "\n",
    "seconds_per_day = seconds_per_hour * hours_per_day\n",
    "print(f\"There are {seconds_per_day} seconds per day\")"
   ]
  },
  {
   "cell_type": "code",
   "execution_count": 5,
   "id": "be7c162a",
   "metadata": {},
   "outputs": [
    {
     "name": "stdout",
     "output_type": "stream",
     "text": [
      "There are 86400 seconds per day\n"
     ]
    }
   ],
   "source": [
    "'''Ans 4:- To calculate seconds_per_day by multiplying seconds_per_hour with the number\n",
    "of hours in a day (24)'''\n",
    "\n",
    "seconds_per_day = 3600 * 24\n",
    "print(f\"There are {seconds_per_day} seconds per day\")"
   ]
  },
  {
   "cell_type": "code",
   "execution_count": 7,
   "id": "cbb7af6c",
   "metadata": {},
   "outputs": [
    {
     "name": "stdout",
     "output_type": "stream",
     "text": [
      "24.0\n"
     ]
    }
   ],
   "source": [
    "'''Ans 5:- We divide seconds_per_day by seconds_per_hour using floating-point division'''\n",
    "\n",
    "seconds_per_day = 86400\n",
    "seconds_per_hour = 3600\n",
    "\n",
    "division = seconds_per_day / seconds_per_hour\n",
    "print(division)"
   ]
  },
  {
   "cell_type": "code",
   "execution_count": 9,
   "id": "2d753a49",
   "metadata": {},
   "outputs": [
    {
     "name": "stdout",
     "output_type": "stream",
     "text": [
      "24\n"
     ]
    }
   ],
   "source": [
    "'''Ans 6:- We divide seconds_per_day by seconds_per_hour using integer division (//)\n",
    "'''\n",
    "seconds_per_day = 86400\n",
    "seconds_per_hour = 3600\n",
    "\n",
    "division_integer = seconds_per_day // seconds_per_hour\n",
    "print(division_integer)"
   ]
  },
  {
   "cell_type": "code",
   "execution_count": 21,
   "id": "faebb590",
   "metadata": {},
   "outputs": [
    {
     "name": "stdout",
     "output_type": "stream",
     "text": [
      "2\n",
      "3\n",
      "5\n",
      "7\n",
      "11\n",
      "13\n",
      "17\n",
      "19\n",
      "23\n",
      "29\n",
      "31\n",
      "37\n",
      "41\n",
      "43\n",
      "47\n",
      "53\n",
      "59\n",
      "61\n",
      "67\n",
      "71\n",
      "73\n",
      "79\n",
      "83\n",
      "89\n",
      "97\n"
     ]
    }
   ],
   "source": [
    "'''Ans 7:- The is_prime function checks if a number is prime. It returns False for n <=\n",
    "1, True for n <= 3, and considers even or divisible by 3 as non-prime. It then\n",
    "uses a loop with a divisor i, incrementing by 6, to check primality efficiently.\n",
    "The genPrimes generator yields prime numbers. The example prints the first 25\n",
    "primes using the generator.'''\n",
    "\n",
    "def is_prime(n):\n",
    "    if n <= 1:\n",
    "        return False\n",
    "    if n <= 3:\n",
    "        return True\n",
    "    if n % 2 == 0 or n % 3 == 0:\n",
    "        return False\n",
    "    i = 5\n",
    "    while i * i <= n:\n",
    "        if n % i == 0 or n % (i + 2) == 0:\n",
    "            return False\n",
    "        i += 6\n",
    "    return True\n",
    "\n",
    "def genPrimes():\n",
    "    prime = 2\n",
    "    while True:\n",
    "        if is_prime(prime):\n",
    "            yield prime\n",
    "        prime += 1\n",
    "\n",
    "\n",
    "prime_generator = genPrimes()\n",
    "for _ in range(25): \n",
    "    print(next(prime_generator))"
   ]
  },
  {
   "cell_type": "code",
   "execution_count": null,
   "id": "86f330e3",
   "metadata": {},
   "outputs": [],
   "source": []
  },
  {
   "cell_type": "code",
   "execution_count": null,
   "id": "ae0fbcf6",
   "metadata": {},
   "outputs": [],
   "source": []
  }
 ],
 "metadata": {
  "kernelspec": {
   "display_name": "Python 3 (ipykernel)",
   "language": "python",
   "name": "python3"
  },
  "language_info": {
   "codemirror_mode": {
    "name": "ipython",
    "version": 3
   },
   "file_extension": ".py",
   "mimetype": "text/x-python",
   "name": "python",
   "nbconvert_exporter": "python",
   "pygments_lexer": "ipython3",
   "version": "3.10.9"
  }
 },
 "nbformat": 4,
 "nbformat_minor": 5
}
