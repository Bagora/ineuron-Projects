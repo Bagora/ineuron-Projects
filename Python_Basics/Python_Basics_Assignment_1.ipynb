{
 "cells": [
  {
   "cell_type": "markdown",
   "id": "155eaa4d",
   "metadata": {},
   "source": [
    "# Python Basics Assignment_1"
   ]
  },
  {
   "cell_type": "markdown",
   "id": "9cc35b95",
   "metadata": {},
   "source": [
    "# All Questions\n",
    "1. In the below elements which of them are values or an expression? eg:- values can be integer or string and expressions will be mathematical operators.\n",
    "   *, 'hello, -87.8, -, /, +, 6 \n",
    "\n",
    "2. What is the difference between string and variable?\n",
    "3. Describe three different data types.\n",
    "4. What is an expression made up of? What do all expressions do?\n",
    "5. This assignment statements, like spam = 10. What is the difference between an expression and a statement?\n",
    "6. After running the following code, what does the variable bacon contain?\n",
    "   bacon = 22\n",
    "   bacon + 1\n",
    "7. What should the values of the following two terms be?\n",
    "   'spam' + 'spamspam'\n",
    "   'spam' * 3\n",
    "8. Why is eggs a valid variable name while 100 is invalid?\n",
    "9. What three functions can be used to get the integer, floating-point number, or string version of a value?\n",
    "10. Why does this expression cause an error? How can you fix it?\n",
    "   'I have eaten ' + 99 + ' burritos.'"
   ]
  },
  {
   "cell_type": "code",
   "execution_count": 8,
   "id": "9e8e77c3",
   "metadata": {},
   "outputs": [
    {
     "name": "stdout",
     "output_type": "stream",
     "text": [
      "50\n",
      "<class 'str'>\n",
      "<class 'str'>\n",
      "<class 'str'>\n",
      "<class 'str'>\n",
      "<class 'str'>\n",
      "<class 'float'>\n",
      "99.8\n",
      "0.1999999999999993\n",
      "0.08417508417508418\n",
      "Pastpresentfuture\n",
      "<class 'int'>\n"
     ]
    }
   ],
   "source": [
    "'''\n",
    "Q1. In the below elements which of them are values or an expression?\n",
    "eg:- values can be integer or string and expressions will be mathematical operators. *, 'hello, -87.8, -, /, +, 6\n",
    "'''\n",
    "#Ans\n",
    "'''\n",
    "1. '*' - It is a mathematical Operator it used to multiply two values like a*b\n",
    "The Python Program will be shown below for this operation\n",
    "'''\n",
    "a = 5\n",
    "b = 10\n",
    "print(a*b)\n",
    "\n",
    "'''\n",
    "2. 'hello'- It is a string used in python, string means that is comes under inverted comma like \"Hello World\" , \"10\" , \"2+1j\", \"True\", \"None\" , \"\"\n",
    "or anything which you want to wrap in between \"\" turns into string. \n",
    "'''\n",
    "# python programme to print a string\n",
    "a = \"Hello From Python\" #string and intergers are values as well like value of a is \"\"Hello From Python\"\" and b is \"10\"\n",
    "b = \"10\" # i am a number but used as string\n",
    "c = \"2+1j\" # i am a complex number but used as a string \n",
    "d = \"True\" # i am keyword but now as a string\n",
    "e = \"\" # blank string\n",
    "print(type(a))\n",
    "print(type(b))\n",
    "print(type(c))\n",
    "print(type(d))\n",
    "print(type(e))\n",
    "\n",
    "'''\n",
    "3. '-87.8' - It is float in python any numbers which has point values are float not integers. like 10.0 not 10\n",
    "'''\n",
    "#To print float values\n",
    "a = -87.8\n",
    "print(type(a))\n",
    "\n",
    "'''\n",
    "4. '-' , '/' , '+'  - It is a mathematical operators in python used to substract, Divide, and addition in python.\n",
    "or even used in advanced options while concatenate strings, integers, values in python\n",
    "'''\n",
    "#Python programe to evalute numbers\n",
    "a = 50\n",
    "b = 30\n",
    "c = 19.8\n",
    "\n",
    "#Python programe to evalute string\n",
    "d = \"Past\"\n",
    "e = \"present\"\n",
    "f = \"future\"\n",
    "\n",
    "#To print results\n",
    "print(a+b+c)\n",
    "print(a-b-c)\n",
    "print(a/b/c)\n",
    "print(d+e+f)\n",
    "\n",
    "'''\n",
    "5. '6' -  It is a integer in python\n",
    "'''\n",
    "#To print integer\n",
    "a = 6\n",
    "print(type(a))"
   ]
  },
  {
   "cell_type": "code",
   "execution_count": null,
   "id": "09252085",
   "metadata": {},
   "outputs": [],
   "source": [
    "#Q2 2. What is the difference between string and variable?\n",
    "#Ans\n",
    "'''Variables are symbols that you can use to store data in a program. You can think of them as an empty boxes that you fill with some data or value. \n",
    "Strings are data, so we can use them to fill up a variable. \n",
    "Python has no command for declaring a variable. A variable is created the moment you first assign a value to it. \n",
    "Strings in python are surrounded by either single quotation marks, double quotation marks, or three single quotes\n",
    "'''\n",
    "#Eg\n",
    "a = \"Python\"\n",
    "# a is a variable\n",
    "# And the value assign to it is a string which is in that case \"Python\""
   ]
  },
  {
   "cell_type": "code",
   "execution_count": 50,
   "id": "2b8d7a78",
   "metadata": {},
   "outputs": [
    {
     "name": "stdout",
     "output_type": "stream",
     "text": [
      "Here is my all data types list:  ['Hello Python', 25, 45.8, (5+8j), ['I am list under list', 'Apple', 'Orange', 'water', 52], ('I am tuple', 10.2), range(10, 20), {'id1': 'keyword', 'id2': 'datatypes', 'id3': 1010}, {'banana', 'cherry', 'apple'}, frozenset({'banana', 'cherry', 'apple'}), True, False, b'Hello', bytearray(b'\\x00\\x00\\x00\\x00\\x00'), <memory at 0x000001F52F05B4C0>, None]\n",
      "Total length of list:  16\n",
      "<class 'list'>\n",
      "<class 'str'>\n",
      "<class 'int'>\n",
      "<class 'float'>\n",
      "<class 'complex'>\n",
      "<class 'list'>\n",
      "<class 'tuple'>\n",
      "<class 'range'>\n",
      "<class 'dict'>\n",
      "<class 'set'>\n",
      "<class 'frozenset'>\n",
      "<class 'bool'>\n",
      "<class 'bool'>\n",
      "<class 'bytes'>\n",
      "<class 'bytearray'>\n",
      "<class 'memoryview'>\n",
      "<class 'NoneType'>\n"
     ]
    }
   ],
   "source": [
    "#Q3 Describe three different data types.\n",
    "#Ans\n",
    "'''\n",
    "In python programming, the data type is an important concept. Variables can store data of different types, and different types can do different things.\n",
    "Python has the following data types built in by default, in these categories:\n",
    "Text Type:-str\n",
    "Numeric Types:-int, float, complex\n",
    "Sequence Types:-list, tuple, range\n",
    "Mapping Type:-dict\n",
    "Set Types:-set, frozenset\n",
    "Boolean Type:-bool\n",
    "Binary Types:-bytes, bytearray, memoryview\n",
    "None Type:-NoneType\n",
    "\n",
    "Top 5 data types used in python are:\n",
    "1.string type, for sequences of character data. This is a blank string\"\"\n",
    "2.interger type for numbers, math\n",
    "3.bool type for justify conditions,\n",
    "4.dict type: Dictionary Data Structure is mutable and it improves the readability of your code.\n",
    "  At the end of the day, a python dictionary represents a data structure that can prove valuable in cleaning data and making \n",
    "  it actionable. \n",
    "  It becomes even more valuable because it is inherently simple to use and much faster and more efficient as well.\n",
    "5.list & tuple : Lists are mutable, tuple are immutable, which means you can append list but not tuple.\n",
    "'''\n",
    "# Make a python programme to print the list of all the data types\n",
    "l1 = [\"Hello Python\", 25, 45.8, 5+8j, [\"I am list under list\", \"Apple\", \"Orange\", \"water\", 52], (\"I am tuple\" , 10.2), range(10, 20, 1), {\"id1\":\"keyword\", \"id2\":\"datatypes\", \"id3\":1010}, ({\"apple\", \"banana\", \"cherry\"}), frozenset({\"apple\", \"banana\", \"cherry\"}), True, False, b\"Hello\", bytearray(5), memoryview(bytes(5)), None]\n",
    "print(\"Here is my all data types list: \", l1)\n",
    "print(\"Total length of list: \", len(l1))\n",
    "print(type(l1))\n",
    "print(type(l1[0]))\n",
    "print(type(l1[1]))\n",
    "print(type(l1[2]))\n",
    "print(type(l1[3]))\n",
    "print(type(l1[4]))\n",
    "print(type(l1[5]))\n",
    "print(type(l1[6]))\n",
    "print(type(l1[7]))\n",
    "print(type(l1[8]))\n",
    "print(type(l1[9]))\n",
    "print(type(l1[10]))\n",
    "print(type(l1[11]))\n",
    "print(type(l1[12]))\n",
    "print(type(l1[13]))\n",
    "print(type(l1[14]))\n",
    "print(type(l1[15]))"
   ]
  },
  {
   "cell_type": "code",
   "execution_count": 70,
   "id": "7f6fc2e0",
   "metadata": {},
   "outputs": [
    {
     "name": "stdout",
     "output_type": "stream",
     "text": [
      "11205.35564\n",
      "Addition:  1030\n",
      "Subtraction:  670\n",
      "Multiplication:  153000\n",
      "Division:  4.722222222222222\n",
      "Quotient:  4\n",
      "Remainder : 130\n",
      "Exponentiation:  197427037422210792385912104241757967839078409075382483869869056833091401730404306157195455753067403292341766445126647205223176403710964823033195389139030988256699988747764942118203827769859837263196877058438664690825620983482558713019187000118783578145189701904725672416593737512036372464145602099268298119418008074177350863465107977390289306640625000000000000000000000000000000000000000000000000000000000000000000000000000000000000000000000000000000000000000000000000000000000000000000000000000000000000000000000000000000000000\n",
      "Integral Expressions:  60\n",
      "Floating Expressions:  4.25\n",
      "True True False True\n",
      "False True False\n",
      "2 40\n",
      "20 -30 200\n"
     ]
    }
   ],
   "source": [
    "#Q4 What is an expression made up of? What do all expressions do?\n",
    "#Ans\n",
    "'''\n",
    "An Expression Is An Instruction That Combines Values And Operators And Always Evaluates Down To A Single Value.\n",
    "For Example, This Is An Expression: 2 + 2\n",
    "This Expression Evaluates Down To The Single Integer Value: 4 #this Is Also An Expression\n",
    "We Have Many Different Types Of Expressions In Python:-\n",
    "1. Constant Expressions: These Are The Expressions That Have Constant Values Only.\n",
    "2. Arithmetic Expressions: An Arithmetic Expression Is A Combination Of Numeric Values, Operators, And Sometimes Parenthesis.\n",
    "   The operators are Addition,Subtraction,Multiplication,Division,Quotient,Remainder,Exponentiation\n",
    "3. Integral Expressions: These Are The Kind Of Expressions That Produce Only Integer Results After All Computations And Type Conversions.\n",
    "4. Floating Expressions: These Are The Kind Of Expressions That Produce Floating Point Numbers As a Result After All Computations And Type Conversions.\n",
    "5. Relational Expressions: In These Types Of Expressions, Arithmetic Expressions Are Written On Both Sides Of Relational Operator (> , < , >= , <=).\n",
    "   These expressions are also called \n",
    "   Boolean expressions.\n",
    "6. Logical Expressions: These Are Kinds Of Expressions That Result In Either True Or False. It Basically Specifies One Or More Conditions,\n",
    "   with [and, or, not]\n",
    "7. Bitwise Expressions: These Are The Kind Of Expressions In Which Computations Are Performed At Bit Level.\n",
    "8. Combinational Expressions: We Can Also Use Different Types Of Expressions In A Single Expression, And That Will Be Termed As Combinational Expressions.\n",
    "'''\n",
    "#A programme to understand more about expressions\n",
    "\n",
    "#1.Constant Expression\n",
    "a = 155 + 11050.35564\n",
    "print(a)\n",
    "\n",
    "#2.Arithmetic Expressions\n",
    "a = 850\n",
    "b = 180\n",
    "add = a+b\n",
    "sub = a-b\n",
    "mul = a*b\n",
    "div = a/b\n",
    "quo = a//b\n",
    "rem = a%b\n",
    "exp = a**b\n",
    "\n",
    "print(\"Addition: \", add)\n",
    "print(\"Subtraction: \", sub)\n",
    "print(\"Multiplication: \", mul)\n",
    "print(\"Division: \", div)\n",
    "print(\"Quotient: \", quo)\n",
    "print(\"Remainder :\", rem)\n",
    "print(\"Exponentiation: \", exp)\n",
    "\n",
    "#3.Integral Expressions\n",
    "a = 52\n",
    "b = 8\n",
    "c = a+int(b)\n",
    "\n",
    "print(\"Integral Expressions: \",c)\n",
    "\n",
    "#4.Floating Expressions\n",
    "a = 17\n",
    "b = 4\n",
    "c = a/b\n",
    "\n",
    "print(\"Floating Expressions: \", c)\n",
    "\n",
    "#5.Relational Expressions\n",
    "a = 40\n",
    "b = 85\n",
    "c = 45\n",
    "d = 52\n",
    "e = a+b >= (c-d)\n",
    "f = a-b <= (c+d)\n",
    "x = a*b < (c/d)\n",
    "y = a*b > (c*d)\n",
    "\n",
    "print(e,f,x,y)\n",
    "\n",
    "#6.Logical Expressions\n",
    "a = (1500==1400)\n",
    "b = (200 > 48)\n",
    "\n",
    "#we can take out logical Expressions from it\n",
    "x = a and b\n",
    "y = b or a\n",
    "z = not b\n",
    "\n",
    "print(x,y,z)\n",
    "\n",
    "#7.Bitwise Expressions\n",
    "a = 10\n",
    "x = a >> 2\n",
    "y = a << 2\n",
    "\n",
    "print(x,y)\n",
    "\n",
    "#8.Combinational Expressions\n",
    "a = 10\n",
    "b = 20\n",
    "c = a + (b>>1)\n",
    "d = a - (b<<1)\n",
    "e = a * (b or a)\n",
    "\n",
    "print(c,d,e)"
   ]
  },
  {
   "cell_type": "code",
   "execution_count": 73,
   "id": "727fbfb2",
   "metadata": {},
   "outputs": [
    {
     "data": {
      "text/plain": [
       "'\\nExpression represents something, Statement Does Something, \\nPython evaluates the expression, python Executes the statement\\nexpression shows results in a value but statement shows results in action. In other words:\\nAn expression is something that can be reduced to a value, for example \"1+3\" is an expression,which reduce and shows 4 as a result, \\nbut statement shows print str or imports print(\"Hello from python\")\\nEg: expression - 4.6 , statement - \"Hello World\", import sys, etc\\n'"
      ]
     },
     "execution_count": 73,
     "metadata": {},
     "output_type": "execute_result"
    }
   ],
   "source": [
    "#Q5 This assignment statements, like spam = 10. What is the difference between an expression and a statement?\n",
    "#Ans\n",
    "'''\n",
    "Expression represents something, Statement Does Something, \n",
    "Python evaluates the expression, python Executes the statement\n",
    "expression shows results in a value but statement shows results in action. In other words:\n",
    "An expression evaluates to a single value. A statement does not.\n",
    "An expression is something that can be reduced to a value, for example \"1+3\" is an expression,which reduce and shows 4 as a result, \n",
    "but statement shows print, str or imports, print(\"Hello from python\")\n",
    "Eg: expression - 4.6 , statement - \"Hello World\", import sys, etc\n",
    "'''"
   ]
  },
  {
   "cell_type": "code",
   "execution_count": 75,
   "id": "1bf985ea",
   "metadata": {},
   "outputs": [
    {
     "name": "stdout",
     "output_type": "stream",
     "text": [
      "22\n",
      "23\n"
     ]
    }
   ],
   "source": [
    "#Q6 After running the following code, what does the variable bacon contain?\n",
    "#bacon = 22\n",
    "#bacon + 1\n",
    "\n",
    "#Ans\n",
    "'''\n",
    "The bacon variable is set to 22. The bacon + 1 expression does not reassign the value in bacon \n",
    "that would need an assignment statement like: bacon = bacon + 1\n",
    "'''\n",
    "# To test bacon\n",
    "bacon = 22\n",
    "bacon + 1 #It does not add plus 1 to 22 so it does not reassign value in bacon variable\n",
    "print(bacon)\n",
    "\n",
    "#To add value in bacon\n",
    "bacon = bacon + 1 #This method is used to reduce expression or develop statement in python\n",
    "print(bacon)"
   ]
  },
  {
   "cell_type": "code",
   "execution_count": 83,
   "id": "c17dd4ba",
   "metadata": {},
   "outputs": [
    {
     "name": "stdout",
     "output_type": "stream",
     "text": [
      "spamspamspam spamspamspam\n"
     ]
    }
   ],
   "source": [
    "#Q7 What should the values of the following two terms be?\n",
    "#'spam' + 'spamspam'\n",
    "#'spam' * 3\n",
    "\n",
    "#Ans\n",
    "'''\n",
    "As shown in example both of these expression shows same string 'spamspamspam'\n",
    "'''\n",
    "#lets test this code\n",
    "a = 'spam' + 'spamspam'\n",
    "b = 'spam' * 3\n",
    "print(a,b)\n"
   ]
  },
  {
   "cell_type": "code",
   "execution_count": 90,
   "id": "1f6503b6",
   "metadata": {},
   "outputs": [
    {
     "ename": "SyntaxError",
     "evalue": "cannot assign to literal (2891138108.py, line 13)",
     "output_type": "error",
     "traceback": [
      "\u001b[1;36m  Input \u001b[1;32mIn [90]\u001b[1;36m\u001b[0m\n\u001b[1;33m    100 = eggs   # not allowed\u001b[0m\n\u001b[1;37m    ^\u001b[0m\n\u001b[1;31mSyntaxError\u001b[0m\u001b[1;31m:\u001b[0m cannot assign to literal\n"
     ]
    }
   ],
   "source": [
    "#Q8 Why is eggs a valid variable name while 100 is invalid?\n",
    "#Ans\n",
    "'''\n",
    "As shown in result SyntaxError: cannot assign to literal, which means variable name cannot begin with number or spaces or dash\n",
    "inbetween\n",
    "'''\n",
    "\n",
    "#To print python programe with valid variable\n",
    "eggs = 100\n",
    "eggs100 = \"egg\"\n",
    "_100 = \"eggs\"\n",
    "eggs_100 = \"buy more egg\"\n",
    "\n",
    "#invalid variables\n",
    "100 = eggs   # not allowed\n",
    "eggs 100 = \"egg\" # not allowed\n",
    "eggs-100 = \"egg\" # not allowed\n"
   ]
  },
  {
   "cell_type": "code",
   "execution_count": 94,
   "id": "d822afba",
   "metadata": {},
   "outputs": [
    {
     "name": "stdout",
     "output_type": "stream",
     "text": [
      "52 41.0 Hello Python\n"
     ]
    }
   ],
   "source": [
    "#9 What three functions can be used to get the integer, floating-point number, or string version of a value?\n",
    "#Ans\n",
    "'''\n",
    "In Python these functions works and denote like this int() for integer, flot() for float number and str() for string.\n",
    "This functions are very helpful to get convert or pass something and get desired results.\n",
    "'''\n",
    "\n",
    "#To print a programme for integer, float and string\n",
    "a = int(52.4) #convert float number to integer\n",
    "b = float(41) #convert integer number to float number\n",
    "c = str(\"Hello Python\")\n",
    "print(a,b,c)"
   ]
  },
  {
   "cell_type": "code",
   "execution_count": 2,
   "id": "8e70d529",
   "metadata": {},
   "outputs": [
    {
     "name": "stdout",
     "output_type": "stream",
     "text": [
      "I have eaten 99 burritos. I have eaten 99 burritos.\n"
     ]
    }
   ],
   "source": [
    "#10. Why does this expression cause an error? How can you fix it?\n",
    "#'I have eaten ' + 99 + ' burritos.'\n",
    "#Ans\n",
    "'''\n",
    "It shows a that TypeError: can only concatenate str (not \"int\") to str, which means while making a statement a string and interger\n",
    "cannot combine with + sign to concatenate a new string of statement. so if we need to concatenate them then we need str function\n",
    "or convert, wrap int with double quotes, once all expressions becomes str then it will concatenate and not show any error\n",
    "'''\n",
    "\n",
    "# To print and check this expression\n",
    "a = 'I have eaten ' + str(99) + ' burritos.'\n",
    "b = 'I have eaten ' + '99' + ' burritos.'\n",
    "print(a,b)\n",
    "\n",
    "#This Will throw error\n",
    "#'I have eaten ' + 99 + ' burritos.'"
   ]
  },
  {
   "cell_type": "code",
   "execution_count": null,
   "id": "0a687ff8",
   "metadata": {},
   "outputs": [],
   "source": []
  }
 ],
 "metadata": {
  "kernelspec": {
   "display_name": "Python 3 (ipykernel)",
   "language": "python",
   "name": "python3"
  },
  "language_info": {
   "codemirror_mode": {
    "name": "ipython",
    "version": 3
   },
   "file_extension": ".py",
   "mimetype": "text/x-python",
   "name": "python",
   "nbconvert_exporter": "python",
   "pygments_lexer": "ipython3",
   "version": "3.9.12"
  }
 },
 "nbformat": 4,
 "nbformat_minor": 5
}
