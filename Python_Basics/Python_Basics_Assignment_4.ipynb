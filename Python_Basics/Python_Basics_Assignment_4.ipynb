{
 "cells": [
  {
   "cell_type": "markdown",
   "id": "e8065d8f",
   "metadata": {},
   "source": [
    "# Python_Basics_Assignment_4"
   ]
  },
  {
   "cell_type": "markdown",
   "id": "883c8d28",
   "metadata": {},
   "source": [
    "# All Questions\n",
    "1. What exactly is []?\n",
    "2. In a list of values stored in a variable called spam, how would you assign the value 'hello' as the third value?\n",
    "   (Assume [2, 4, 6, 8, 10] are in spam.) \n",
    "\n",
    "   Let's pretend the spam includes the list ['a', 'b', 'c', 'd'] for the next three queries.\n",
    "\n",
    "3. What is the value of spam[int(int('3' * 2) / 11)]?\n",
    "4. What is the value of spam[-1]?\n",
    "5. What is the value of spam[:2]?\n",
    "   #Let's pretend bacon has the list [3.14, 'cat,' 11, 'cat,' True] for the next three questions.\n",
    "6. What is the value of bacon.index('cat')?\n",
    "7. How does bacon.append(99) change the look of the list value in bacon?\n",
    "8. How does bacon.remove('cat') change the look of the list in bacon?\n",
    "9. What are the list concatenation and list replication operators?\n",
    "10. What is difference between the list methods append() and insert()?\n",
    "11. What are the two methods for removing items from a list?\n",
    "12. Describe how list values and string values are identical.\n",
    "13. What's the difference between tuples and lists?\n",
    "14. How do you type a tuple value that only contains the integer 42?\n",
    "15. How do you get a list value's tuple form? How do you get a tuple value's list form?\n",
    "16. Variables that \"contain\" list values are not necessarily lists themselves. Instead, what do they contain?\n",
    "17. How do you distinguish between copy.copy() and copy.deepcopy()?"
   ]
  },
  {
   "cell_type": "code",
   "execution_count": 1,
   "id": "3575cbe9",
   "metadata": {},
   "outputs": [
    {
     "name": "stdout",
     "output_type": "stream",
     "text": [
      "This is an empty list []\n",
      "This is list with some data in it [1, 2, 3, 4, 5]\n"
     ]
    }
   ],
   "source": [
    "#Q1.What exactly is []\n",
    "#Ans\n",
    "'''\n",
    "This is an empty list any data that comes under square brackets is a list\n",
    "'''\n",
    "#Let's understand this with examples\n",
    "a = []\n",
    "b = [1,2,3,4,5]\n",
    "\n",
    "print(f\"This is an empty list {a}\")\n",
    "print(f\"This is list with some data in it {b}\")"
   ]
  },
  {
   "cell_type": "code",
   "execution_count": 1,
   "id": "caa9205e",
   "metadata": {},
   "outputs": [
    {
     "name": "stdout",
     "output_type": "stream",
     "text": [
      "[2, 4, 6, 'hello', 10]\n",
      "hello at index 3 as the third value if range start from 0 to 4\n",
      "########################break######################\n",
      "[2, 4, 'hello', 8, 10]\n",
      "hello at index 2 as the third value if list range start from 1 to 5\n"
     ]
    }
   ],
   "source": [
    "#Q2.In a list of values stored in a variable called spam, how would you assign the value 'hello' as the third value?\n",
    "#(Assume [2, 4, 6, 8, 10] are in spam.)\n",
    "\n",
    "#Ans\n",
    "'''\n",
    "According to this question, let's assume the given data range starts from 0 to N [2, 4, 6, 8, 10] which means \n",
    "at 0 value is 2\n",
    "at 1 value is 4\n",
    "at 2 value is 6\n",
    "at 3 value is 8\n",
    "at 4 value is 10\n",
    "Now according to requirements we need 'hello' as a third value which means 8 is replacing by hello.\n",
    "but if this question is tricky then they are counting from 1 to 5 then in that case 6 would be replace with spam[2]\n",
    "but here let's assume that this list starts from range 0 to 4. so let's check an example for this.\n",
    "'''\n",
    "#Let's print the result acc. to problem\n",
    "spam = [2,4,6,8,10] \n",
    "\n",
    "#As we know List is mutable so we can easily change or assign value at some index if range start from 0 to 4 than\n",
    "spam[3] = 'hello'\n",
    "print(spam)\n",
    "print(spam[3], \"at index 3 as the third value if range start from 0 to 4\")\n",
    "print(\"########################break######################\")\n",
    "#Satisfying 2nd condition if list range start from 1 to 5 than\n",
    "spam1 = [2,4,6,8,10] \n",
    "spam1[2] = 'hello'\n",
    "print(spam1)\n",
    "print(spam1[2], \"at index 2 as the third value if list range start from 1 to 5\")"
   ]
  },
  {
   "cell_type": "code",
   "execution_count": 24,
   "id": "b97972cf",
   "metadata": {},
   "outputs": [
    {
     "data": {
      "text/plain": [
       "'d'"
      ]
     },
     "execution_count": 24,
     "metadata": {},
     "output_type": "execute_result"
    }
   ],
   "source": [
    "#Let's pretend the spam includes the list ['a', 'b', 'c', 'd'] for the next three queries.\n",
    "#Q3.What is the value of spam[int(int('3' * 2) / 11)]?\n",
    "#Ans\n",
    "'''\n",
    "Let's try this with eg.\n",
    "The value is d because it is an index value 3 and the desired equation result is 3 \n",
    "we are trying to multiply string with number so '3' * 2 which does = '33' so now '33' as a string will convert int\n",
    "cuz of outer int so now 33/11 = 3\n",
    "which shows spam[3] = d\n",
    "'''\n",
    "spam = ['a', 'b', 'c', 'd']\n",
    "spam[int(int('3' * 2) / 11)]"
   ]
  },
  {
   "cell_type": "code",
   "execution_count": 25,
   "id": "d14e4cdb",
   "metadata": {},
   "outputs": [
    {
     "data": {
      "text/plain": [
       "'d'"
      ]
     },
     "execution_count": 25,
     "metadata": {},
     "output_type": "execute_result"
    }
   ],
   "source": [
    "#Q4.What is the value of spam[-1]?\n",
    "#Ans\n",
    "'''\n",
    "d is the answer as the negative range start from -1 and in spam list -1 is d because its the last value\n",
    "'''\n",
    "#lets try in code\n",
    "spam[-1]"
   ]
  },
  {
   "cell_type": "code",
   "execution_count": 26,
   "id": "2cb592c3",
   "metadata": {},
   "outputs": [
    {
     "data": {
      "text/plain": [
       "['a', 'b']"
      ]
     },
     "execution_count": 26,
     "metadata": {},
     "output_type": "execute_result"
    }
   ],
   "source": [
    "#Q5.What is the value of spam[:2]?\n",
    "#Ans\n",
    "'''\n",
    "'a', 'b' is the answer because range starts for 0, if it's not mention range always starts from 0 so we got \n",
    "at 0 value is a\n",
    "at 1 value is b\n",
    "at 2 value is c\n",
    "at 3 value is d\n",
    "It took 0 and 1 value as index \n",
    "'''\n",
    "spam[:2]"
   ]
  },
  {
   "cell_type": "code",
   "execution_count": 30,
   "id": "ee79caea",
   "metadata": {},
   "outputs": [
    {
     "data": {
      "text/plain": [
       "1"
      ]
     },
     "execution_count": 30,
     "metadata": {},
     "output_type": "execute_result"
    }
   ],
   "source": [
    "#Let's pretend bacon has the list [3.14, 'cat,' 11, 'cat,' True] for the next three questions.\n",
    "#Q6.What is the value of bacon.index('cat')?\n",
    "bacon = [3.14, 'cat', 11, 'cat', True]\n",
    "#Ans\n",
    "'''\n",
    "In this bacon list we have:\n",
    "at 0 value is 3.14\n",
    "at 1 value is cat\n",
    "at 2 value is 11\n",
    "at 3 value is cat\n",
    "at 4 value is True\n",
    "It show 1 as a result as the first cat is at index 1, this fuction did not count another cat because once it found cat it\n",
    "breaks itself.\n",
    "'''\n",
    "bacon.index('cat')"
   ]
  },
  {
   "cell_type": "code",
   "execution_count": 36,
   "id": "8e3eb8cf",
   "metadata": {},
   "outputs": [
    {
     "name": "stdout",
     "output_type": "stream",
     "text": [
      "[3.14, 'cat', 11, 'cat', True, 99]\n"
     ]
    }
   ],
   "source": [
    "#Q7.How does bacon.append(99) change the look of the list value in bacon?\n",
    "#Ans\n",
    "'''\n",
    "As we know that list in mutable so we can easily append any item in list. Lets try with this example, it will add 99 at last\n",
    "because append always adds a value at last by default.\n",
    "'''\n",
    "bacon = [3.14, 'cat', 11, 'cat', True]\n",
    "bacon.append(99)\n",
    "print(bacon)"
   ]
  },
  {
   "cell_type": "code",
   "execution_count": 40,
   "id": "f1e9ebd9",
   "metadata": {},
   "outputs": [
    {
     "name": "stdout",
     "output_type": "stream",
     "text": [
      "[3.14, 11, 'cat', True, 99]\n"
     ]
    }
   ],
   "source": [
    "#Q8.How does bacon.remove('cat') change the look of the list in bacon?\n",
    "#Ans It will remove the first cat and break by itself\n",
    "bacon = [3.14, 'cat', 11, 'cat', True, 99]\n",
    "bacon.remove('cat')\n",
    "print(bacon)"
   ]
  },
  {
   "cell_type": "code",
   "execution_count": 51,
   "id": "80fa6baa",
   "metadata": {},
   "outputs": [
    {
     "name": "stdout",
     "output_type": "stream",
     "text": [
      "['a,b,c,d', True, 1, 2, 3, 4, False]\n",
      "['orange', 'mango', 'apple', 12.5, None, ['I am nested list'], 'orange', 'mango', 'apple', 12.5, None, ['I am nested list']]\n"
     ]
    }
   ],
   "source": [
    "#Q9.What are the list concatenation and list replication operators?\n",
    "#Ans\n",
    "'''\n",
    "Concatenation meaning - the action of linking things together in a series. It means + operator\n",
    "Replication meaning - copy or Duplicate It Means * operator\n",
    "Python's extend() method can be used to concatenate two lists in Python also + and * operators in list. \n",
    "The + operator joins the two list. The * operator replicates the elements in the list.\n",
    "'''\n",
    "#Let's see some example\n",
    "list1 = ['a,b,c,d', True]\n",
    "list2 = [1, 2, 3, 4, False]\n",
    "concat_list = list1 + list2\n",
    "print(concat_list)\n",
    "\n",
    "#let make a duplicate list\n",
    "list3 = ['orange', 'mango', 'apple', 12.5, None, ['I am nested list']]\n",
    "rep_list = list3 * 2\n",
    "print(rep_list)"
   ]
  },
  {
   "cell_type": "code",
   "execution_count": 58,
   "id": "a71ef4a5",
   "metadata": {},
   "outputs": [
    {
     "name": "stdout",
     "output_type": "stream",
     "text": [
      "['black', 'blue', 'white', 'green']\n",
      "['If you want to save the earth', 'you need to', 'save soil']\n"
     ]
    }
   ],
   "source": [
    "#Q10.What is difference between the list methods append() and insert()?\n",
    "#Ans\n",
    "'''\n",
    "The append() method adds a single item to the end of the list.\n",
    "The insert() method is to insert a single item at a specified index in a list. \n",
    "'''\n",
    "#Let's see some example\n",
    "a = ['black', 'blue', 'white']\n",
    "a.append('green') #takes exactly one argument\n",
    "print(a)\n",
    "\n",
    "#insert example\n",
    "b = ['If you want to save the earth', 'you need to']\n",
    "b.insert(2, 'save soil') # expected 2 arguments\n",
    "print(b)"
   ]
  },
  {
   "cell_type": "code",
   "execution_count": 3,
   "id": "4219746b",
   "metadata": {},
   "outputs": [
    {
     "name": "stdout",
     "output_type": "stream",
     "text": [
      "[10, 30, 40, 50]\n",
      "[100, 200, 300]\n",
      "['test', False]\n",
      "[] Empty the list using clear()\n"
     ]
    }
   ],
   "source": [
    "#Q11.What are the two methods for removing items from a list?\n",
    "#Ans\n",
    "'''\n",
    "The remove() method is to remove a single item from a list.\n",
    "The pop() method removes the specified index or last item.\n",
    "The del keyword also removes the specified index or delete the list completely.\n",
    "The clear() method empties the list means clear the content.\n",
    "'''\n",
    "#Let's see remove() example\n",
    "a = [10,20,30,40,50]\n",
    "a.remove(20)\n",
    "print(a)\n",
    "\n",
    "#Let's see pop() example\n",
    "b = [100,200,300,400]\n",
    "b.pop() #if we don't specified a value then it will delete the last one\n",
    "print(b)\n",
    "\n",
    "#Let's see del keyword example\n",
    "c = ['test',29, False] #range 0 to 2\n",
    "del c[1]\n",
    "print(c)\n",
    "del c\n",
    "#print(c) # Now it throws error that name 'c' is not defined because we already del the list c\n",
    "\n",
    "#Let's see clear() example\n",
    "d = ['qwerty', 'xyz', [1,2,3,4], True]\n",
    "d.clear()\n",
    "print(f\"{d} Empty the list using clear()\")"
   ]
  },
  {
   "cell_type": "code",
   "execution_count": 87,
   "id": "aa30974c",
   "metadata": {},
   "outputs": [
    {
     "name": "stdout",
     "output_type": "stream",
     "text": [
      "\n"
     ]
    }
   ],
   "source": [
    "#Q12.Describe how list values and string values are identical.\n",
    "#Ans\n",
    "'''\n",
    "In Python lists and strings can be passed to len() and have indexes and slices.They can be used in for loops,\n",
    "concatenated and replicated or with the in and not-in operators.\n",
    "min() −This function returns the minimum element from the list and string or tuple\n",
    "max() −This function returns the maximum element from the list or string\n",
    "etc.\n",
    "'''"
   ]
  },
  {
   "cell_type": "code",
   "execution_count": 92,
   "id": "a39323d5",
   "metadata": {},
   "outputs": [
    {
     "name": "stdout",
     "output_type": "stream",
     "text": [
      "This means List is mutable [1, 2, 3, 4, 5, 6]\n",
      "This means tuple is immutable (1, 2, 3, 4, 5)\n"
     ]
    }
   ],
   "source": [
    "#Q13.What's the difference between tuples and lists?\n",
    "#Ans\n",
    "'''\n",
    "List and Tuple in Python are the classes of Python Data Structures. \n",
    "The list is dynamic, whereas the tuple has static characteristics.\n",
    "Lists are mutable; they can have values added, removed, or changed. \n",
    "Tuples are immutable; they cannot be changed at all. Also, tuples are written using parentheses,('Hello', 'world'), \n",
    "while lists use the square brackets, ['Hello', 'world']\n",
    "#Let's see some examples\n",
    "'''\n",
    "#To print list\n",
    "a = [1,2,3,4,5] #range 0 to 4\n",
    "a.append(6)\n",
    "print(f\"This means List is mutable {a}\")\n",
    "\n",
    "#To print tuple\n",
    "b = (1,2,3,4,5) #range 0 to 4\n",
    "#b.append(6) # 'tuple' does not have append\n",
    "#b[3] = 3.5 #'tuple' object does not support item assignment\n",
    "print(f\"This means tuple is immutable {b}\")"
   ]
  },
  {
   "cell_type": "code",
   "execution_count": 5,
   "id": "a1c9c77b",
   "metadata": {},
   "outputs": [
    {
     "name": "stdout",
     "output_type": "stream",
     "text": [
      "(42,) <class 'tuple'>\n"
     ]
    }
   ],
   "source": [
    "#Q14.How do you type a tuple value that only contains the integer 42?\n",
    "#Ans\n",
    "'''\n",
    "As we know we can write string, int, and float in this parentheses()\n",
    "but here is a catch if we put alpha value and don't put , comma in between two values then it act as an str('hello world')\n",
    "same for int (42) and float (42.0). But as soon as we separate this data with comma in between it act as a tuple.\n",
    "('Hello', 'world').\n",
    "So if we print a value 42 as a tuple we have to put comma after each value if it is many value then good otherwise \n",
    "if only one value like 42 then we have to put comma after that\n",
    "'''\n",
    "#Let's check\n",
    "a = (42,)\n",
    "print(a, type(a))"
   ]
  },
  {
   "cell_type": "code",
   "execution_count": 110,
   "id": "4fe34aff",
   "metadata": {},
   "outputs": [
    {
     "name": "stdout",
     "output_type": "stream",
     "text": [
      "(1, 2, 3, 4, 5)\n",
      "[5, 4, 3, 2, 1]\n"
     ]
    }
   ],
   "source": [
    "#Q15.How do you get a list value's tuple form? How do you get a tuple value's list form?\n",
    "#Ans-As we know tuple use this(), and list use this[]. so by Using list() and tuple() methods we do that\n",
    "\n",
    "#convert list to tuple\n",
    "a = [1,2,3,4,5]\n",
    "b_tuple = tuple(a)\n",
    "print(b_tuple)\n",
    "\n",
    "#convert tuple to list\n",
    "b = (5,4,3,2,1)\n",
    "a_list = list(b)\n",
    "print(a_list)"
   ]
  },
  {
   "cell_type": "code",
   "execution_count": 117,
   "id": "2d26b2e3",
   "metadata": {},
   "outputs": [
    {
     "name": "stdout",
     "output_type": "stream",
     "text": [
      "2 <class 'list'> python basics\n",
      "2 <class 'tuple'> tuple orange\n"
     ]
    }
   ],
   "source": [
    "#Q16.Variables that \"contain\" list values are not necessarily lists themselves. Instead, what do they contain?\n",
    "#Ans\n",
    "'''\n",
    "They contain references to list values. like a = [10,20,30,40,50] but if we don't call 'a' we cannot know its value\n",
    "so variables are very important because it contains a variety of information\n",
    "'''\n",
    "a = ['python', 'basics']\n",
    "b = ('tuple', 'orange')\n",
    "print(len(a),type(a),a[0],a[1])\n",
    "print(len(b),type(b),b[0],b[1])"
   ]
  },
  {
   "cell_type": "code",
   "execution_count": 15,
   "id": "6e7cf726",
   "metadata": {},
   "outputs": [
    {
     "name": "stdout",
     "output_type": "stream",
     "text": [
      "copy.copy() [5, 7, 5, 2, [8, True]] 3120735470656\n",
      "copy.deepcopy() [5, 7, 5, 2, [8, True]] 3120735580672\n"
     ]
    }
   ],
   "source": [
    "#Q17.How do you distinguish between copy.copy() and copy.deepcopy()?\n",
    "#Ans\n",
    "'''\n",
    "The copy.copy() function will do a shallow copy of a list, while the copy.deepcopy() function will do a deep copy of a list.\n",
    "That is, only copy.deepcopy() will duplicate any lists inside the list.\n",
    "Lets' understand this with example by import copy module from python inbuilt lib.\n",
    "'''\n",
    "import copy\n",
    "a  = [5,7,5,2,[8,True]]\n",
    "b = copy.copy(a)\n",
    "c = copy.deepcopy(a)\n",
    "\n",
    "print(\"copy.copy()\", b,id(b))\n",
    "print(\"copy.deepcopy()\", c,id(c))"
   ]
  },
  {
   "cell_type": "code",
   "execution_count": null,
   "id": "4cc2f8af",
   "metadata": {},
   "outputs": [],
   "source": []
  }
 ],
 "metadata": {
  "kernelspec": {
   "display_name": "Python 3 (ipykernel)",
   "language": "python",
   "name": "python3"
  },
  "language_info": {
   "codemirror_mode": {
    "name": "ipython",
    "version": 3
   },
   "file_extension": ".py",
   "mimetype": "text/x-python",
   "name": "python",
   "nbconvert_exporter": "python",
   "pygments_lexer": "ipython3",
   "version": "3.9.12"
  }
 },
 "nbformat": 4,
 "nbformat_minor": 5
}
