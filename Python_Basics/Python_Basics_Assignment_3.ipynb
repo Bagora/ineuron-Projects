{
 "cells": [
  {
   "cell_type": "markdown",
   "id": "30c81044",
   "metadata": {},
   "source": [
    "# Python_Basics_Assignment_3"
   ]
  },
  {
   "cell_type": "markdown",
   "id": "4b4c54d1",
   "metadata": {},
   "source": [
    "# All Questions\n",
    "1. Why are functions advantageous to have in your programs?\n",
    "2. When does the code in a function run: when it's specified or when it's called?\n",
    "3. What statement creates a function?\n",
    "4. What is the difference between a function and a function call?\n",
    "5. How many global scopes are there in a Python program? How many local scopes?\n",
    "6. What happens to variables in a local scope when the function call returns?\n",
    "7. What is the concept of a return value? Is it possible to have a return value in an expression?\n",
    "8. If a function does not have a return statement, what is the return value of a call to that function?\n",
    "9. How do you make a function variable refer to the global variable?\n",
    "10. What is the data type of None?\n",
    "11. What does the sentence import areallyourpetsnamederic do?\n",
    "12. If you had a bacon() feature in a spam module, what would you call it after importing spam?\n",
    "13. What can you do to save a programme from crashing if it encounters an error?\n",
    "14. What is the purpose of the try clause? What is the purpose of the except clause?"
   ]
  },
  {
   "cell_type": "code",
   "execution_count": 19,
   "id": "39ecc49f",
   "metadata": {},
   "outputs": [
    {
     "name": "stdout",
     "output_type": "stream",
     "text": [
      "Enter x: 150\n",
      "Enter y: 250\n"
     ]
    },
    {
     "data": {
      "text/plain": [
       "(400.0, -100.0, 37500.0, 0.6)"
      ]
     },
     "execution_count": 19,
     "metadata": {},
     "output_type": "execute_result"
    }
   ],
   "source": [
    "#Q1.Why are functions advantageous to have in your programs?\n",
    "#Ans\n",
    "'''\n",
    "Python Functions is a block of statements that return the specific task. Functions help break our program into smaller and \n",
    "modular chunks. As our program grows larger and larger, functions make it more organized and manageable.\n",
    "1.Reducing duplication of code.\n",
    "2.Decomposing complex problems into simpler pieces.\n",
    "3.Improving clarity of the code.\n",
    "4.Reuse of code.\n",
    "5.Information hiding.\n",
    "6.Easy to read, write and call\n",
    "Function syntax example\n",
    "\n",
    "def simple_calculator(x,y):\n",
    "    return x+y\n",
    "In this python program use def as a keyword, simple_calculator as function name, (x,y) as parameters \n",
    "& return x+y as a statement.\n",
    "'''\n",
    "# To print a simple function and call it\n",
    "x = float(input(\"Enter x: \"))\n",
    "y = float(input(\"Enter y: \"))\n",
    "\n",
    "def simple_calculator(x,y):\n",
    "    return (x+y),(x-y),(x*y),(x/y)\n",
    "\n",
    "simple_calculator(x,y)"
   ]
  },
  {
   "cell_type": "code",
   "execution_count": 13,
   "id": "c50d5487",
   "metadata": {},
   "outputs": [
    {
     "name": "stdout",
     "output_type": "stream",
     "text": [
      "If they call me again i will print Hello world thanks for having me in your program\n"
     ]
    }
   ],
   "source": [
    "#Q2.When does the code in a function run: when it's specified or when it's called?\n",
    "#Ans\n",
    "'''\n",
    "As you can see the above example the simple_calculator function will not work until and unless we call it at the end \n",
    "outside the loop\n",
    "eg :\n",
    "def my_function(x,y):\n",
    "    return something\n",
    "#here we call the function to work like\n",
    "my_function(x,y)\n",
    "'''\n",
    "# To test this let's write a small example for not calling a function\n",
    "\n",
    "def call_me():\n",
    "    print(\"If they call me i will print Hello world thanks for calling me\")\n",
    "#if we don't call function here it will not print the result\n",
    "\n",
    "# To test this let's write a small example for calling a function and print the result\n",
    "\n",
    "def call_me_again():\n",
    "    print(\"If they call me again i will print Hello world thanks for having me in your program\")\n",
    "call_me_again()"
   ]
  },
  {
   "cell_type": "code",
   "execution_count": 25,
   "id": "efbfa447",
   "metadata": {},
   "outputs": [
    {
     "name": "stdout",
     "output_type": "stream",
     "text": [
      "You just create a function using def keyword\n"
     ]
    }
   ],
   "source": [
    "#Q3.What statement creates a function?\n",
    "#Ans\n",
    "'''\n",
    "A function is created with the def keyword. The statements in the block of the function must be indented.\n",
    "The def keyword is followed by the function name with round brackets and a colon.\n",
    "eg: hey i am keyword def mynameis_fuction()\n",
    "'''\n",
    "def my_id():\n",
    "    print(\"You just create a function using def keyword\")\n",
    "my_id()"
   ]
  },
  {
   "cell_type": "code",
   "execution_count": 26,
   "id": "fc707d97",
   "metadata": {},
   "outputs": [
    {
     "name": "stdout",
     "output_type": "stream",
     "text": [
      "Hey but I will only print when you were called\n"
     ]
    }
   ],
   "source": [
    "#4.What is the difference between a function and a function call?\n",
    "#Ans\n",
    "'''\n",
    "A function is a block of code that does a particular operation and returns a result. \n",
    "It consist's a def keyword It usually accepts inputs as parameters and returns a result. \n",
    "A function call is a code used to pass control to a function that executes a program.\n",
    "A function call is actually a function name. Let's see an example\n",
    "'''\n",
    "# This is function\n",
    "def i_am_function():\n",
    "    print(\"Hey but I will only print when you were called\")\n",
    "\n",
    "#This is Function call\n",
    "i_am_function()"
   ]
  },
  {
   "cell_type": "code",
   "execution_count": 17,
   "id": "2f8b2bdb",
   "metadata": {},
   "outputs": [
    {
     "name": "stdout",
     "output_type": "stream",
     "text": [
      "Global scope Inside local 80\n",
      "global scope we call it anywhere 80\n",
      "100000 local variable local scope call\n"
     ]
    }
   ],
   "source": [
    "#5.How many global scopes are there in a Python program? How many local scopes?\n",
    "#Ans\n",
    "'''\n",
    "In Python, a variable declared outside of the function or in global scope is known as a global variable.\n",
    "This means that a global variable can be accessed inside or outside of the function. \n",
    "A variable declared inside the function's body or in the local scope is known as a local variable.\n",
    "It Means There is one global scope, and a local scope is created whenever a function is called.\n",
    "'''\n",
    "#Eg of global scope\n",
    "x = 80\n",
    "def global_scope():\n",
    "    print(f\"Global scope Inside local {x}\")\n",
    "\n",
    "global_scope()\n",
    "print(f\"global scope we call it anywhere {x}\")\n",
    "\n",
    "#Eg of local scope\n",
    "def local_scope():\n",
    "    y = 10 **5\n",
    "    print(f\"{y} local variable local scope call\")\n",
    "local_scope()\n",
    "#print(f\"outside local {y}\") # it shows it is not define"
   ]
  },
  {
   "cell_type": "code",
   "execution_count": 26,
   "id": "d51c1052",
   "metadata": {},
   "outputs": [
    {
     "data": {
      "text/plain": [
       "'I am a local_scope string so i have to destroyed myself after printing this to you.'"
      ]
     },
     "execution_count": 26,
     "metadata": {},
     "output_type": "execute_result"
    }
   ],
   "source": [
    "#Q6.What happens to variables in a local scope when the function call returns?\n",
    "#Ans\n",
    "'''\n",
    "When a function returns, the local scope is destroyed, and all the variables in it are forgotten.\n",
    "'''\n",
    "#eg\n",
    "def temp_local():\n",
    "    a = (\"I am a local_scope string so i have to destroyed myself after printing this to you.\")\n",
    "    return a\n",
    "temp_local()\n",
    "#print(a) # It shows error-->name 'a' is not defined that means we cannot print local scope here at global scope."
   ]
  },
  {
   "cell_type": "code",
   "execution_count": 2,
   "id": "412096ca",
   "metadata": {},
   "outputs": [
    {
     "data": {
      "text/plain": [
       "True"
      ]
     },
     "execution_count": 2,
     "metadata": {},
     "output_type": "execute_result"
    }
   ],
   "source": [
    "#Q7.What is the concept of a return value? Is it possible to have a return value in an expression?\n",
    "#Ans\n",
    "'''\n",
    "A return value is help's to solve the fuction and execute it's result.\n",
    "Like any value, a return value can be used as part of an expression.\n",
    "'''\n",
    "#eg\n",
    "def easy_bool():\n",
    "    x = 1==1\n",
    "    return x #If we don't put return nothing happens\n",
    "easy_bool()"
   ]
  },
  {
   "cell_type": "code",
   "execution_count": 30,
   "id": "7180a002",
   "metadata": {},
   "outputs": [],
   "source": [
    "#Q8.If a function does not have a return statement, what is the return value of a call to that function?\n",
    "#Ans\n",
    "'''\n",
    "If there is no return statement for a function, its return value is None.\n",
    "'''\n",
    "#eg\n",
    "def no_return():\n",
    "    x = False\n",
    "    \n",
    "no_return()\n",
    "#As you can see If we don't put return nothing happens function not execute and not print result"
   ]
  },
  {
   "cell_type": "code",
   "execution_count": 38,
   "id": "8835b75f",
   "metadata": {},
   "outputs": [
    {
     "name": "stdout",
     "output_type": "stream",
     "text": [
      "15 global variable inside local scope\n",
      "15 global variable in global scope\n",
      "Python is Everywhere\n"
     ]
    }
   ],
   "source": [
    "#9.How do you make a function variable refer to the global variable?\n",
    "#Ans\n",
    "'''\n",
    "Normally, when you create a variable inside a function, that variable is local, and can only be used inside that function. \n",
    "To create a global variable inside a function, you can use the global keyword.\n",
    "Also a global statement will force a variable in a function to refer to the global variable. means if we create a varibale\n",
    "globally then it is used by both local scope and global scope. but if we create a same name variable in both scope,\n",
    "then the function always print global scope variable\n",
    "'''\n",
    "x = 10+5\n",
    "\n",
    "def force_global():\n",
    "    print(f\"{x} global variable inside local scope\")\n",
    "force_global()\n",
    "\n",
    "#Also we print here and check that this scope is global or not\n",
    "print(f\"{x} global variable in global scope\")\n",
    "\n",
    "#Now lets create global variable whith global keyword inside a local scope\n",
    "def global_using_keyword():\n",
    "    global y\n",
    "    y = \"Everywhere\" #if we don't return or print anything nothing happens\n",
    "global_using_keyword()\n",
    "\n",
    "#Now this is global scope and we print local variable here cuz we use global as keyword se lets test\n",
    "print(f\"Python is {y}\")"
   ]
  },
  {
   "cell_type": "code",
   "execution_count": 39,
   "id": "d3a97f9b",
   "metadata": {},
   "outputs": [
    {
     "name": "stdout",
     "output_type": "stream",
     "text": [
      "<class 'NoneType'>\n"
     ]
    }
   ],
   "source": [
    "#Q10.What is the data type of None?\n",
    "#Ans\n",
    "'''\n",
    "The data type of None is NoneType.\n",
    "'''\n",
    "#eg\n",
    "a = None\n",
    "print(type(a))"
   ]
  },
  {
   "cell_type": "code",
   "execution_count": 64,
   "id": "a70596b1",
   "metadata": {},
   "outputs": [
    {
     "name": "stdout",
     "output_type": "stream",
     "text": [
      "With the help of keyword module we are printing python keyword as a list:-->['False', 'None', 'True', '__peg_parser__', 'and', 'as', 'assert', 'async', 'await', 'break', 'class', 'continue', 'def', 'del', 'elif', 'else', 'except', 'finally', 'for', 'from', 'global', 'if', 'import', 'in', 'is', 'lambda', 'nonlocal', 'not', 'or', 'pass', 'raise', 'return', 'try', 'while', 'with', 'yield']\n"
     ]
    },
    {
     "data": {
      "text/plain": [
       "3.141592653589793"
      ]
     },
     "execution_count": 64,
     "metadata": {},
     "output_type": "execute_result"
    }
   ],
   "source": [
    "#Q11.What does the sentence import areallyourpetsnamederic do?\n",
    "#Ans\n",
    "'''\n",
    "It will simply import the module under this name if it is available.\n",
    "let's test some python prebuilt modules in example\n",
    "there are so many module to try we just take few examples \n",
    "'''\n",
    "import keyword\n",
    "print(f\"With the help of keyword module we are printing python keyword as a list:-->{keyword.kwlist}\")\n",
    "\n",
    "#Let's print all the prebuilt module in python\n",
    "#all_module = help(\"modules\")\n",
    "#print(all_module) #not print in jupyter notebook this will show result in local idle\n",
    "\n",
    "import math\n",
    "math.pi"
   ]
  },
  {
   "cell_type": "code",
   "execution_count": 67,
   "id": "9081d095",
   "metadata": {},
   "outputs": [
    {
     "name": "stdout",
     "output_type": "stream",
     "text": [
      "62\n"
     ]
    },
    {
     "data": {
      "text/plain": [
       "197.5"
      ]
     },
     "execution_count": 67,
     "metadata": {},
     "output_type": "execute_result"
    }
   ],
   "source": [
    "#Q12.If you had a bacon() feature in a spam module, what would you call it after importing spam?\n",
    "#Ans\n",
    "'''\n",
    "we can call this module using spam.bacon().\n",
    "As this is just test module so we try to import real prebuild module and just call them with feature\n",
    "To print a module with it's feature, a feature is anything that comes after Dot\n",
    "'.' we check that by pressing tab after calling a module\n",
    "\n",
    "'''\n",
    "#Eg\n",
    "#let's import a two module for example\n",
    "import random\n",
    "a = random.randrange(0, 100) # This will print a random range\n",
    "print(a)\n",
    "\n",
    "import statistics\n",
    "statistics.mean([5,45,15,20,100,1000])"
   ]
  },
  {
   "cell_type": "code",
   "execution_count": 117,
   "id": "ab60a71e",
   "metadata": {},
   "outputs": [
    {
     "name": "stdout",
     "output_type": "stream",
     "text": [
      "Handling run-time error: division by zero\n",
      "########################2nd example########################################\n",
      "Please enter an integer: as\n",
      "No valid integer! Please try again ...\n",
      "Please enter an integer: 10.0\n",
      "No valid integer! Please try again ...\n",
      "Please enter an integer: 10\n",
      "Great, you successfully entered an integer!\n"
     ]
    }
   ],
   "source": [
    "#Q13.What can you do to save a programme from crashing if it encounters an error?\n",
    "#Ans\n",
    "'''\n",
    "We can use python inbuild Errors and Exceptions clause\n",
    "place the line of code that might cause an error in a try clause.\n",
    "'''\n",
    "def this_fails():\n",
    "    x = 1/0 # division by zero is not possible so we insert try & except\n",
    "    return x\n",
    "try:\n",
    "    this_fails()\n",
    "except ZeroDivisionError as err:\n",
    "    print('Handling run-time error:', err)\n",
    "    \n",
    "print(\"########################2nd example########################################\")\n",
    "#Another example to prevent error using try clause\n",
    "\n",
    "while True:\n",
    "    try:\n",
    "        n = int(input(\"Please enter an integer: \"))\n",
    "        break\n",
    "    except ValueError:\n",
    "        print(\"No valid integer! Please try again ...\")\n",
    "print(\"Great, you successfully entered an integer!\") # this is result after break so it's outside try loop and inside while loop"
   ]
  },
  {
   "cell_type": "code",
   "execution_count": 119,
   "id": "83ed151f",
   "metadata": {},
   "outputs": [
    {
     "name": "stdout",
     "output_type": "stream",
     "text": [
      "\n"
     ]
    }
   ],
   "source": [
    "#Q14.What is the purpose of the try clause? What is the purpose of the except clause?\n",
    "#Ans\n",
    "'''\n",
    "The try block lets you test a block of code for errors\n",
    "The except block lets you handle the error. \n",
    "As you can see in above example how this try and except clause works so we can say that\n",
    "The code that could potentially cause an error goes in the try clause and the code that executes if an error happens goes in the except clause.\n",
    "'''"
   ]
  }
 ],
 "metadata": {
  "kernelspec": {
   "display_name": "Python 3 (ipykernel)",
   "language": "python",
   "name": "python3"
  },
  "language_info": {
   "codemirror_mode": {
    "name": "ipython",
    "version": 3
   },
   "file_extension": ".py",
   "mimetype": "text/x-python",
   "name": "python",
   "nbconvert_exporter": "python",
   "pygments_lexer": "ipython3",
   "version": "3.9.12"
  }
 },
 "nbformat": 4,
 "nbformat_minor": 5
}
