{
 "cells": [
  {
   "cell_type": "markdown",
   "id": "71fb5335",
   "metadata": {},
   "source": [
    "## Python_Basics_Assignment_20\n",
    "1. Set the variable test1 to the string 'This is a test of the emergency text system,' and save test1 to a file named test.txt.\n",
    "2. Read the contents of the file test.txt into the variable test2. Is there a difference between test 1 and test 2?\n",
    "3. Create a CSV file called books.csv by using these lines:\n",
    "    title,author,year\n",
    "    The Weirdstone of Brisingamen,Alan Garner,1960\n",
    "    Perdido Street Station,China Miéville,2000\n",
    "    Thud!,Terry Pratchett,2005\n",
    "    The Spellman Files,Lisa Lutz,2007\n",
    "    Small Gods,Terry Pratchett,1992\n",
    "4. Use the sqlite3 module to create a SQLite database called books.db, and a table called books with these fields: title (text), author (text), and year (integer).\n",
    "5. Read books.csv and insert its data into the book table.\n",
    "6. Select and print the title column from the book table in alphabetical order.\n",
    "7. From the book table, select and print all columns in the order of publication.\n",
    "8. Use the sqlalchemy module to connect to the sqlite3 database books.db that you just made in exercise 6.\n",
    "9. Install the Redis server and the Python redis library (pip install redis) on your computer. Create a Redis hash called test with the fields count (1) and name ('Fester Bestertester'). Print all the fields for test.\n",
    "10. Increment the count field of test and print it."
   ]
  },
  {
   "cell_type": "code",
   "execution_count": 1,
   "id": "58e495ad",
   "metadata": {},
   "outputs": [],
   "source": [
    "'''Ans 1:- When we run this code, it will create a file named test.txt in the same\n",
    "directory where our program runs, and the content of test1 will be written to that file.'''\n",
    "\n",
    "test1 = 'This is a test of the emergency text system.'\n",
    "\n",
    "# Save test1 to a file named test.txt\n",
    "with open('test.txt', 'w') as file:\n",
    "    file.write(test1)"
   ]
  },
  {
   "cell_type": "code",
   "execution_count": 4,
   "id": "52b47751",
   "metadata": {},
   "outputs": [
    {
     "name": "stdout",
     "output_type": "stream",
     "text": [
      "Contents of test1:- This is a test of the emergency text system.\n",
      "Contents of test2:- This is a test of the emergency text system.\n",
      "Are test1 and test2 the same? True\n"
     ]
    }
   ],
   "source": [
    "'''Ans 2:- When we run this code, it will read the contents of the file test.txt into\n",
    "test2 and then print the contents of both test1 and test2. Additionally, it will\n",
    "print whether test1 and test2 have the same content True if they are the same, False\n",
    "if they are different.'''\n",
    "\n",
    "# Read the contents of test.txt into the variable test2\n",
    "with open('test.txt', 'r') as file:\n",
    "    test2 = file.read()\n",
    "\n",
    "# Compare test1 and test2\n",
    "print(f\"Contents of test1:- {test1}\")\n",
    "print(f\"Contents of test2:- {test2}\")\n",
    "print(f\"Are test1 and test2 the same? {test1 == test2}\")"
   ]
  },
  {
   "cell_type": "code",
   "execution_count": 5,
   "id": "e411c414",
   "metadata": {},
   "outputs": [
    {
     "name": "stdout",
     "output_type": "stream",
     "text": [
      "File 'books.csv' has been created.\n"
     ]
    }
   ],
   "source": [
    "'''Ans 3:- This code uses the csv module to create a CSV file named books.csv. It\n",
    "populates the file with title, author, and year data for several books. Each line is a\n",
    "list of values, and the module handles formatting for proper CSV structure.'''\n",
    "import csv\n",
    "\n",
    "data = [\n",
    "    ['title', 'author', 'year'],\n",
    "    ['The Weirdstone of Brisingamen', 'Alan Garner', '1960'],\n",
    "    ['Perdido Street Station', 'China Miéville', '2000'],\n",
    "    ['Thud!', 'Terry Pratchett', '2005'],\n",
    "    ['The Spellman Files', 'Lisa Lutz', '2007'],\n",
    "    ['Small Gods', 'Terry Pratchett', '1992']\n",
    "]\n",
    "\n",
    "# Write data to the CSV file\n",
    "with open('books.csv', 'w', newline='') as file:\n",
    "    writer = csv.writer(file)\n",
    "    writer.writerows(data)\n",
    "\n",
    "print(\"File 'books.csv' has been created.\")"
   ]
  },
  {
   "cell_type": "code",
   "execution_count": 8,
   "id": "97d33941",
   "metadata": {},
   "outputs": [
    {
     "name": "stdout",
     "output_type": "stream",
     "text": [
      "Database 'books.db' and table 'books' have been created.\n"
     ]
    }
   ],
   "source": [
    "'''Ans 4:- When we run this code, it will create an SQLite database named books.db and\n",
    "define a table named books with fields title (text), author (text), and year\n",
    "(integer). The message \"Database 'books.db' and table 'books' have been created.\" will be\n",
    "printed'''\n",
    "\n",
    "import sqlite3\n",
    "\n",
    "# Connect to the database\n",
    "conn = sqlite3.connect('books.db')\n",
    "\n",
    "# Create a cursor to interact with the database\n",
    "cursor = conn.cursor()\n",
    "\n",
    "# Create the 'books' table\n",
    "cursor.execute('''\n",
    "    CREATE TABLE IF NOT EXISTS books (\n",
    "        title TEXT,\n",
    "        author TEXT,\n",
    "        year INTEGER\n",
    "    )\n",
    "''')\n",
    "\n",
    "# Commit the changes and close the connection\n",
    "conn.commit()\n",
    "conn.close()\n",
    "\n",
    "print(\"Database 'books.db' and table 'books' have been created.\")"
   ]
  },
  {
   "cell_type": "code",
   "execution_count": 9,
   "id": "31ef0c9e",
   "metadata": {},
   "outputs": [
    {
     "name": "stdout",
     "output_type": "stream",
     "text": [
      "Data from 'books.csv' has been inserted into the 'books' table.\n"
     ]
    }
   ],
   "source": [
    "'''Ans 5:- When we run this code, it will read the data from books.csv (skipping the\n",
    "header row) and insert each row into the books table in the books.db database. The\n",
    "message \"Data from 'books.csv' has been inserted into the 'books' table.\" will be\n",
    "printed.'''\n",
    "import csv\n",
    "import sqlite3\n",
    "\n",
    "# Connect to the database\n",
    "conn = sqlite3.connect('books.db')\n",
    "cursor = conn.cursor()\n",
    "\n",
    "# Read data from books.csv and insert into the books table\n",
    "with open('books.csv', 'r') as file:\n",
    "    csv_reader = csv.reader(file)\n",
    "    next(csv_reader)  # Skip the header row\n",
    "    for row in csv_reader:\n",
    "        cursor.execute('INSERT INTO books (title, author, year) VALUES (?, ?, ?)', row)\n",
    "\n",
    "# Commit the changes and close the connection\n",
    "conn.commit()\n",
    "conn.close()\n",
    "\n",
    "print(\"Data from 'books.csv' has been inserted into the 'books' table.\")"
   ]
  },
  {
   "cell_type": "code",
   "execution_count": 10,
   "id": "3cf7574f",
   "metadata": {},
   "outputs": [
    {
     "name": "stdout",
     "output_type": "stream",
     "text": [
      "Perdido Street Station\n",
      "Small Gods\n",
      "The Spellman Files\n",
      "The Weirdstone of Brisingamen\n",
      "Thud!\n"
     ]
    }
   ],
   "source": [
    "'''Ans 6:- When we run this code, it will connect to the books.db database, execute a SQL\n",
    "query to select the title column from the books table in alphabetical order, fetch\n",
    "the results, and then print each title one by one. Finally, the connection to the\n",
    "database will be closed.'''\n",
    "import sqlite3\n",
    "\n",
    "# Connect to the database\n",
    "conn = sqlite3.connect('books.db')\n",
    "cursor = conn.cursor()\n",
    "\n",
    "# Select and print the title column in alphabetical order\n",
    "cursor.execute('SELECT title FROM books ORDER BY title')\n",
    "titles = cursor.fetchall()\n",
    "for title in titles:\n",
    "    print(title[0])\n",
    "\n",
    "# Close the connection\n",
    "conn.close()"
   ]
  },
  {
   "cell_type": "code",
   "execution_count": 11,
   "id": "841279cd",
   "metadata": {},
   "outputs": [
    {
     "name": "stdout",
     "output_type": "stream",
     "text": [
      "('The Weirdstone of Brisingamen', 'Alan Garner', 1960)\n",
      "('Small Gods', 'Terry Pratchett', 1992)\n",
      "('Perdido Street Station', 'China Miéville', 2000)\n",
      "('Thud!', 'Terry Pratchett', 2005)\n",
      "('The Spellman Files', 'Lisa Lutz', 2007)\n"
     ]
    }
   ],
   "source": [
    "'''Ans 7:- When we run this code, it will connect to the books.db database, execute a SQL\n",
    "query to select all columns from the books table in the order of publication (year),\n",
    "fetch the results, and then print each row (which represents all columns for each\n",
    "book) one by one. Finally, the connection to the database will be closed.'''\n",
    "\n",
    "import sqlite3\n",
    "\n",
    "# Connect to the database\n",
    "conn = sqlite3.connect('books.db')\n",
    "cursor = conn.cursor()\n",
    "\n",
    "# Select and print all columns in the order of publication\n",
    "cursor.execute('SELECT * FROM books ORDER BY year')\n",
    "rows = cursor.fetchall()\n",
    "for row in rows:\n",
    "    print(row)\n",
    "\n",
    "# Close the connection\n",
    "conn.close()"
   ]
  },
  {
   "cell_type": "code",
   "execution_count": 12,
   "id": "c80a78d8",
   "metadata": {},
   "outputs": [],
   "source": [
    "'''Ans 8:- In this code, the create_engine function from the SQLAlchemy module is used to\n",
    "establish a connection to the SQLite database books.db. The connection string\n",
    "'sqlite:///books.db' indicates that we're connecting to an SQLite database named books.db. we can\n",
    "perform various database operations using the engine object.'''\n",
    "\n",
    "from sqlalchemy import create_engine\n",
    "\n",
    "# Create an SQLite database connection using SQLAlchemy\n",
    "engine = create_engine('sqlite:///books.db')\n",
    "\n",
    "# Close the connection\n",
    "engine.dispose()"
   ]
  },
  {
   "cell_type": "code",
   "execution_count": 13,
   "id": "313e20fc",
   "metadata": {},
   "outputs": [
    {
     "name": "stdout",
     "output_type": "stream",
     "text": [
      "Defaulting to user installation because normal site-packages is not writeable\n",
      "Collecting redis\n",
      "  Downloading redis-5.0.0-py3-none-any.whl (250 kB)\n",
      "     -------------------------------------- 250.1/250.1 kB 2.2 MB/s eta 0:00:00\n",
      "Collecting async-timeout>=4.0.2\n",
      "  Downloading async_timeout-4.0.3-py3-none-any.whl (5.7 kB)\n",
      "Installing collected packages: async-timeout, redis\n",
      "Successfully installed async-timeout-4.0.3 redis-5.0.0\n",
      "Note: you may need to restart the kernel to use updated packages.\n"
     ]
    }
   ],
   "source": [
    "pip install redis"
   ]
  },
  {
   "cell_type": "code",
   "execution_count": 1,
   "id": "c1b470e7",
   "metadata": {},
   "outputs": [
    {
     "name": "stdout",
     "output_type": "stream",
     "text": [
      "count: 1\n",
      "name: Fester Bestertester\n"
     ]
    }
   ],
   "source": [
    "'''Ans 9:- We Have utilizes the \"redis\" library to interact with a Redis server. It\n",
    "establishes a connection to the local Redis server on port 6379 and selects database 0.\n",
    "Two fields, 'count' (set to 1) and 'name' (set to 'Fester Bestertester'), are\n",
    "added to a Redis hash named 'test' using the hset method. The code then retrieves\n",
    "all fields and their values from the 'test' hash using hgetall, iterating through\n",
    "each pair and printing them. This code showcases the creation of a Redis hash,\n",
    "field-value addition, and fetching data, offering a basic understanding of how to interact\n",
    "with Redis data structures.'''\n",
    "\n",
    "import redis\n",
    "\n",
    "# Connect to the Redis server\n",
    "r = redis.Redis(host='localhost', port=6379, db=0)\n",
    "\n",
    "# Create a Redis hash called 'test'\n",
    "r.hset('test', 'count', 1)\n",
    "r.hset('test', 'name', 'Fester Bestertester')\n",
    "\n",
    "# Print all the fields for 'test'\n",
    "all_fields = r.hgetall('test')\n",
    "for field, value in all_fields.items():\n",
    "    print(f\"{field.decode('utf-8')}: {value.decode('utf-8')}\")"
   ]
  },
  {
   "cell_type": "code",
   "execution_count": 2,
   "id": "1547f847",
   "metadata": {},
   "outputs": [
    {
     "name": "stdout",
     "output_type": "stream",
     "text": [
      "Updated count: 2\n"
     ]
    }
   ],
   "source": [
    "'''Ans 10:- To increment the 'count' field of the 'test' hash and print the updated value,\n",
    "you can use the hincrby method to increment the value by a specified amount and\n",
    "then use the hget method to retrieve and print the updated count value. In this\n",
    "code, the hincrby method increments the value of the 'count' field by\n",
    "increment_amount (which is set to 1 in this case). The updated count value is then stored in\n",
    "the updated_count variable and printed to the console.'''\n",
    "\n",
    "import redis\n",
    "\n",
    "# Connect to the Redis server\n",
    "r = redis.Redis(host='localhost', port=6379, db=0)\n",
    "\n",
    "# Increment the 'count' field by 1\n",
    "increment_amount = 1\n",
    "updated_count = r.hincrby('test', 'count', increment_amount)\n",
    "\n",
    "# Print the updated 'count' value\n",
    "print(f\"Updated count: {updated_count}\")"
   ]
  }
 ],
 "metadata": {
  "kernelspec": {
   "display_name": "Python 3 (ipykernel)",
   "language": "python",
   "name": "python3"
  },
  "language_info": {
   "codemirror_mode": {
    "name": "ipython",
    "version": 3
   },
   "file_extension": ".py",
   "mimetype": "text/x-python",
   "name": "python",
   "nbconvert_exporter": "python",
   "pygments_lexer": "ipython3",
   "version": "3.10.9"
  }
 },
 "nbformat": 4,
 "nbformat_minor": 5
}
