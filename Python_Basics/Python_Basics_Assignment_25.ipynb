{
 "cells": [
  {
   "cell_type": "markdown",
   "id": "67c3407a",
   "metadata": {},
   "source": [
    "## Python_Basics_Assignment_25\n",
    "1) What is the difference between enclosing a list comprehension in square brackets and parentheses?\n",
    "2) What is the relationship between generators and iterators?\n",
    "3) What are the signs that a function is a generator function?\n",
    "4) What is the purpose of a yield statement?\n",
    "5) What is the relationship between map calls and list comprehensions? Make a comparison and contrast between the two."
   ]
  },
  {
   "cell_type": "code",
   "execution_count": 5,
   "id": "0f15974f",
   "metadata": {},
   "outputs": [
    {
     "name": "stdout",
     "output_type": "stream",
     "text": [
      "[0, 1, 4, 9, 16]\n",
      "<generator object <genexpr> at 0x0000026C69721CB0>\n",
      "0\n",
      "1\n",
      "4\n",
      "9\n",
      "16\n"
     ]
    }
   ],
   "source": [
    "'''Ans 1:- The difference between enclosing a list comprehension in square brackets ([])\n",
    "and parentheses (()) lies in the type of resulting object and its behavior:\n",
    "\n",
    "1. Square Brackets ([]): When we use square brackets to enclose a list\n",
    "comprehension, it creates a new list. The list comprehension iterates over the input iterable\n",
    "(e.g., another list, tuple, or range), applies the defined expression or function to\n",
    "each element, and generates a list of the results.\n",
    "\n",
    "2. Parentheses (()): When we use parentheses to enclose a list comprehension, it\n",
    "creates a generator expression. A generator expression generates values lazily as they\n",
    "are needed, instead of generating all values upfront like a list comprehension.\n",
    "This can save memory and improve performance when working with large datasets.\n",
    "\n",
    "In summary, the key distinction is that using square brackets creates a list,\n",
    "while using parentheses creates a generator expression. If you need to use the\n",
    "results multiple times or if memory usage is not a concern, using a list comprehension\n",
    "is suitable. On the other hand, if you want to conserve memory and work with\n",
    "large datasets efficiently, a generator expression enclosed in parentheses is a\n",
    "better choice.'''\n",
    "\n",
    "squares = [x ** 2 for x in range(5)]\n",
    "print(squares)\n",
    "\n",
    "squares_generator = (x ** 2 for x in range(5))\n",
    "print(squares_generator)\n",
    "\n",
    "for square in squares_generator:\n",
    "    print(square)"
   ]
  },
  {
   "cell_type": "code",
   "execution_count": 6,
   "id": "ed898846",
   "metadata": {},
   "outputs": [
    {
     "name": "stdout",
     "output_type": "stream",
     "text": [
      "0\n",
      "1\n",
      "4\n",
      "9\n",
      "16\n",
      "0\n",
      "1\n",
      "4\n",
      "9\n",
      "16\n"
     ]
    }
   ],
   "source": [
    "'''Ans 2:- Generators and iterators are closely related concepts in Python. Generators\n",
    "are a specific type of iterator. While both allow sequential access to a sequence\n",
    "of values, generators offer a memory-efficient and lazy evaluation approach.\n",
    "Generators are defined using generator expressions or functions with the `yield` keyword,\n",
    "producing values on-the-fly as they're requested. Iterators are more\n",
    "general and can be implemented using classes with `__iter__()` and `__next__()`\n",
    "methods. Generators simplify the process of creating iterators by handling the\n",
    "iteration protocol internally, making them easier to work with, especially for large\n",
    "datasets or dynamically generated sequences.'''\n",
    "\n",
    "# Generator using a generator expression\n",
    "squares_generator = (x ** 2 for x in range(5))\n",
    "\n",
    "# Iterator using a class\n",
    "class SquaresIterator:\n",
    "    def __init__(self, limit):\n",
    "        self.limit = limit\n",
    "        self.current = 0\n",
    "\n",
    "    def __iter__(self):\n",
    "        return self\n",
    "\n",
    "    def __next__(self):\n",
    "        if self.current >= self.limit:\n",
    "            raise StopIteration\n",
    "        square = self.current ** 2\n",
    "        self.current += 1\n",
    "        return square\n",
    "\n",
    "# Using the generator\n",
    "for square in squares_generator:\n",
    "    print(square)\n",
    "\n",
    "# Using the iterator\n",
    "squares_iterator = SquaresIterator(5)\n",
    "for square in squares_iterator:\n",
    "    print(square)"
   ]
  },
  {
   "cell_type": "code",
   "execution_count": 10,
   "id": "1538e0b6",
   "metadata": {},
   "outputs": [
    {
     "name": "stdout",
     "output_type": "stream",
     "text": [
      "5\n",
      "4\n",
      "3\n",
      "2\n",
      "1\n"
     ]
    }
   ],
   "source": [
    "'''Ans 3:-  A generator function in Python is identifiable through several\n",
    "characteristics. Firstly, it employs the yield keyword within its body, distinguishing it from\n",
    "standard functions that use return. Generator functions define iterable sequences,\n",
    "returning generator objects that can be iterated over. These functions are defined like\n",
    "regular functions but pause execution upon encountering a yield statement, yielding a\n",
    "value to the caller. This allows the function to resume from where it left off,\n",
    "maintaining internal state. Generator functions are memory-efficient, generating values\n",
    "lazily one at a time, which is particularly beneficial for large datasets. In\n",
    "essence, the use of yield, the iterable nature, memory efficiency, and the ability to\n",
    "maintain state are key indicators that a function is a generator function.\n",
    "\n",
    "In this example, the countdown generator function takes a starting value and\n",
    "yields values in reverse order, counting down to 1. When you create a generator\n",
    "object using countdown(5), it doesn't immediately execute the function. Instead, it\n",
    "returns a generator that can be iterated. When the for loop iterates through the\n",
    "generator, the function's execution is paused at each yield statement, producing one\n",
    "value at a time. This lazy evaluation is a key characteristic of generator\n",
    "functions.'''\n",
    "\n",
    "def countdown(start):\n",
    "    while start > 0:\n",
    "        yield start\n",
    "        start -= 1\n",
    "\n",
    "# Creating a generator object\n",
    "countdown_generator = countdown(5)\n",
    "\n",
    "# Iterating through the generator\n",
    "for num in countdown_generator:\n",
    "    print(num)"
   ]
  },
  {
   "cell_type": "code",
   "execution_count": 11,
   "id": "4a6b0808",
   "metadata": {},
   "outputs": [
    {
     "name": "stdout",
     "output_type": "stream",
     "text": [
      "0\n",
      "1\n",
      "1\n",
      "2\n",
      "3\n",
      "5\n",
      "8\n",
      "13\n",
      "21\n",
      "34\n"
     ]
    }
   ],
   "source": [
    "'''Ans 4:- The purpose of the yield statement in Python is to create a generator function\n",
    "that produces values lazily and iteratively. Instead of returning a value and\n",
    "terminating the function, yield temporarily suspends the function's execution, yielding a\n",
    "value to the caller. This allows the function to maintain its internal state and\n",
    "resume execution from where it left off when iterated. The yield statement is crucial\n",
    "for creating memory-efficient generators that process large datasets or infinite\n",
    "sequences. For example, consider a Fibonacci number generator.\n",
    "\n",
    "The code defines a generator producing Fibonacci numbers. It yields each\n",
    "number using variables a and b, updating them according to the sequence rule. The\n",
    "generator is iterated 10 times using _ (a placeholder variable) to print the first 10\n",
    "Fibonacci numbers.\n",
    "\n",
    "'''\n",
    "\n",
    "def fibonacci_generator():\n",
    "    a, b = 0, 1\n",
    "    while True:\n",
    "        yield a\n",
    "        a, b = b, a + b\n",
    "\n",
    "fibonacci = fibonacci_generator()\n",
    "for _ in range(10):\n",
    "    print(next(fibonacci))"
   ]
  },
  {
   "cell_type": "code",
   "execution_count": 13,
   "id": "ad8531d1",
   "metadata": {},
   "outputs": [
    {
     "name": "stdout",
     "output_type": "stream",
     "text": [
      "[1, 4, 9, 16, 25]\n",
      "[1, 8, 27, 64, 125]\n"
     ]
    }
   ],
   "source": [
    "'''Ans 5:- Both map calls and list comprehensions are constructs in Python used for\n",
    "transforming and processing elements within iterables, like lists. While their purposes are\n",
    "similar, they exhibit differences in syntax and behavior, each with its own strengths.\n",
    "\n",
    "Comparison:-\n",
    "Syntax: map takes a function and an iterable, applying the\n",
    "function to each item. Its syntax is map(function, iterable). List comprehensions allow\n",
    "combining the operation and iteration, offering a more compact form: [expression for\n",
    "item in iterable].  \n",
    "\n",
    "Output: map returns a map object that requires conversion into\n",
    "a list to access the results. In contrast, list comprehensions directly generate\n",
    "a new list.\n",
    "\n",
    "Contrast:-\n",
    "Readability: List comprehensions are often considered more readable and\n",
    "concise, particularly for simpler operations.   \n",
    "\n",
    "Lazy Evaluation: map employs lazy evaluation similar to generator expressions.\n",
    "This approach can be memory-efficient, generating values on-demand. List\n",
    "comprehensions, however, always produce a complete list.\n",
    "\n",
    "In this example, both map and a list comprehension are used to square and cube\n",
    "the numbers in a list. The map function generates a map object that's converted to\n",
    "a list, while the list comprehension directly produces a list. While both\n",
    "achieve the same result, list comprehensions often offer a more concise and readable\n",
    "approach.'''\n",
    "\n",
    "# Using map\n",
    "numbers = [1, 2, 3, 4, 5]\n",
    "squared = map(lambda x: x ** 2, numbers)\n",
    "squared_list = list(squared)  # Convert map object to list\n",
    "print(squared_list)\n",
    "\n",
    "# Using list comprehension\n",
    "cubed = [x ** 3 for x in numbers]\n",
    "print(cubed)"
   ]
  },
  {
   "cell_type": "code",
   "execution_count": null,
   "id": "dcab459e",
   "metadata": {},
   "outputs": [],
   "source": []
  }
 ],
 "metadata": {
  "kernelspec": {
   "display_name": "Python 3 (ipykernel)",
   "language": "python",
   "name": "python3"
  },
  "language_info": {
   "codemirror_mode": {
    "name": "ipython",
    "version": 3
   },
   "file_extension": ".py",
   "mimetype": "text/x-python",
   "name": "python",
   "nbconvert_exporter": "python",
   "pygments_lexer": "ipython3",
   "version": "3.10.9"
  }
 },
 "nbformat": 4,
 "nbformat_minor": 5
}
