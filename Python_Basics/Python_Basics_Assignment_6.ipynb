{
 "cells": [
  {
   "cell_type": "markdown",
   "id": "44045e7e",
   "metadata": {},
   "source": [
    "# Python_Basics_Assignment_6"
   ]
  },
  {
   "cell_type": "markdown",
   "id": "c12b1ae3",
   "metadata": {},
   "source": [
    "1. What are escape characters, and how do you use them?\n",
    "2. What do the escape characters n and t stand for?\n",
    "3. What is the way to include backslash characters in a string?\n",
    "4. The string \"Howl's Moving Castle\" is a correct value. Why isn't the single quote character in the word Howl's not escaped a problem?\n",
    "5. How do you write a string of newlines if you don't want to use the n character?\n",
    "6. What are the values of the given expressions?\n",
    "'Hello, world!'[1]\n",
    "'Hello, world!'[0:5]\n",
    "'Hello, world!'[:5]\n",
    "'Hello, world!'[3:]\n",
    "\n",
    "7. What are the values of the following expressions?\n",
    "'Hello'.upper()\n",
    "'Hello'.upper().isupper()\n",
    "'Hello'.upper().lower()\n",
    "8. What are the values of the following expressions?\n",
    "'Remember, remember, the fifth of July.'.split()\n",
    "'-'.join('There can only one.'.split())\n",
    "9. What are the methods for right-justifying, left-justifying, and centering a string?\n",
    "10. What is the best way to remove whitespace characters from the start or end?"
   ]
  },
  {
   "cell_type": "code",
   "execution_count": 18,
   "id": "bc86d981",
   "metadata": {},
   "outputs": [
    {
     "name": "stdout",
     "output_type": "stream",
     "text": [
      "Hello i am a string \"can i be nested string with excape characters\" i think yes\n"
     ]
    }
   ],
   "source": [
    "#Q1.What are escape characters, and how do you use them?\n",
    "#Ans \n",
    "'''\n",
    "An escape character is a backslash \\ followed by the character you want to insert. \n",
    "Escape characters represent characters in string values that would otherwise be difficult or impossible to type into code\n",
    "To insert characters that are illegal in a string, We use an escape character.\n",
    "#eg. An illegal character is a double quote inside a string that is surrounded by double quotes\n",
    "either we fix it with triple quotes or with escape characters\n",
    "'''\n",
    "# Let's check and example\n",
    "#a = \"Hello i am a string \"can i be nested string\" i think no\"\n",
    "#print(a)\n",
    "\n",
    "#now we use escape characters\n",
    "a = \"Hello i am a string \\\"can i be nested string with excape characters\\\" i think yes\"\n",
    "print(a)"
   ]
  },
  {
   "cell_type": "code",
   "execution_count": 17,
   "id": "657ba15c",
   "metadata": {},
   "outputs": [
    {
     "name": "stdout",
     "output_type": "stream",
     "text": [
      "Python is\n",
      "everywhere\n",
      "Python is\teverywhere\n"
     ]
    }
   ],
   "source": [
    "#Q2.What do the escape characters n and t stand for?\n",
    "#Ans \\n for new line and \\t for tab, space between string.\n",
    "\n",
    "#Let's check and example for that\n",
    "a = \"Python is\\neverywhere\"\n",
    "b = \"Python is\\teverywhere\"\n",
    "print(a)\n",
    "print(b)"
   ]
  },
  {
   "cell_type": "code",
   "execution_count": 16,
   "id": "aca7f87b",
   "metadata": {},
   "outputs": [
    {
     "name": "stdout",
     "output_type": "stream",
     "text": [
      "Python is \\ everywhere\n"
     ]
    }
   ],
   "source": [
    "#Q3.What is the way to include backslash characters in a string?\n",
    "#Ans This is the \\\\ Backslash character in a string\n",
    "\n",
    "#Let's check and example for that\n",
    "a = \"Python is \\\\ everywhere\"\n",
    "print(a)"
   ]
  },
  {
   "cell_type": "code",
   "execution_count": 19,
   "id": "f560213e",
   "metadata": {},
   "outputs": [
    {
     "name": "stdout",
     "output_type": "stream",
     "text": [
      "Howl's Moving Castle\n"
     ]
    }
   ],
   "source": [
    "#Q4.The string \"Howl's Moving Castle\" is a correct value. Why isn't the single quote character in the word Howl's not escaped a problem?\n",
    "#Ans lets take an eg.\n",
    "'''\n",
    "The single quote in Howl's is fine because we used double quotes to mark the beginning and end of the string. so we don't need\n",
    "escape characters here.\n",
    "'''\n",
    "a = \"Howl's Moving Castle\"\n",
    "print(a)"
   ]
  },
  {
   "cell_type": "code",
   "execution_count": 21,
   "id": "0d0fd72a",
   "metadata": {},
   "outputs": [
    {
     "name": "stdout",
     "output_type": "stream",
     "text": [
      "Hello world\n",
      "        this is multiline string and a \n",
      "                    line break without using excape characters like \\n\n"
     ]
    }
   ],
   "source": [
    "#Q5.How do you write a string of newlines if you don't want to use the n character?\n",
    "#Ans\n",
    "'''\n",
    "Multiline strings allow you to use newlines in strings without the \\n escape character.\n",
    "'''\n",
    "a  = '''Hello world\n",
    "        this is multiline string and a \n",
    "                    line break without using excape characters like \\\\n'''\n",
    "print(a)"
   ]
  },
  {
   "cell_type": "code",
   "execution_count": 22,
   "id": "0985ba87",
   "metadata": {},
   "outputs": [
    {
     "name": "stdout",
     "output_type": "stream",
     "text": [
      "e\n",
      "Hello\n",
      "Hello\n",
      "lo, world!\n"
     ]
    }
   ],
   "source": [
    "#Q6.What are the values of the given expressions?\n",
    "#'Hello, world!'[1] 'Hello, world!'[0:5] 'Hello, world!'[:5] 'Hello, world!'[3:]\n",
    "'''\n",
    "Let's check this with an example\n",
    "here are the results\n",
    "a[1] = e\n",
    "a[0:5] = Hello\n",
    "a[:5] = Hello\n",
    "a[3:] = lo, world!\n",
    "'''\n",
    "#Lets create a variable\n",
    "a = ('Hello, world!')\n",
    "print(a[1])\n",
    "print(a[0:5])\n",
    "print(a[:5])\n",
    "print(a[3:])"
   ]
  },
  {
   "cell_type": "code",
   "execution_count": 23,
   "id": "1afdda5b",
   "metadata": {},
   "outputs": [
    {
     "name": "stdout",
     "output_type": "stream",
     "text": [
      "HELLO\n",
      "True\n",
      "hello\n"
     ]
    }
   ],
   "source": [
    "#Q7.What are the values of the following expressions?\n",
    "# 'Hello'.upper() 'Hello'.upper().isupper() 'Hello'.upper().lower()\n",
    "#Ans\n",
    "'''\n",
    "Let's check this with an example\n",
    "here are the results\n",
    "a.upper() = HELLO\n",
    "a.upper().isupper() = True\n",
    "a.upper().lower() = hello\n",
    "\n",
    "'''\n",
    "#Lets create a variable\n",
    "a = ('Hello')\n",
    "print(a.upper())\n",
    "print(a.upper().isupper())\n",
    "print(a.upper().lower())"
   ]
  },
  {
   "cell_type": "code",
   "execution_count": 33,
   "id": "e8af2b0d",
   "metadata": {},
   "outputs": [
    {
     "name": "stdout",
     "output_type": "stream",
     "text": [
      "['Remember,', 'remember,', 'the', 'fifth', 'of', 'July.']\n",
      "There-can-only-one.\n"
     ]
    }
   ],
   "source": [
    "#Q8.What are the values of the following expressions?\n",
    "# 'Remember, remember, the fifth of July.'.split() '-'.join('There can only one.'.split())\n",
    "#Ans\n",
    "'''\n",
    "Let's check this with an example\n",
    "here are the results\n",
    "a = ['Remember,', 'remember,', 'the', 'fifth', 'of', 'July.']\n",
    "b = There-can-only-one.\n",
    "'''\n",
    "a = 'Remember, remember, the fifth of July.'.split()\n",
    "b = '-'.join('There can only one.'.split())\n",
    "print(a)\n",
    "print(b)"
   ]
  },
  {
   "cell_type": "code",
   "execution_count": 14,
   "id": "126ee0da",
   "metadata": {},
   "outputs": [
    {
     "name": "stdout",
     "output_type": "stream",
     "text": [
      "....................Python is Everywhere\n",
      "Python is Everywhere!!!!!!!!!!!!!!!!!!!!\n",
      "##########Python is Everywhere##########\n"
     ]
    }
   ],
   "source": [
    "#Q9.What are the methods for right-justifying, left-justifying, and centering a string?\n",
    "#Ans\n",
    "'''\n",
    "The rjust() for right-justifying, ljust() for left-justifying, and center() for centering a string.\n",
    "It takes two arguments, like\n",
    "1. rjust( len, fillchr )\n",
    "2. ljust( len, fillchr )\n",
    "3. center( len, fillchr )\n",
    "'''\n",
    "#let's center a string with center()\n",
    "a = \"Python is Everywhere\"\n",
    "print(a.rjust(40,'.'))\n",
    "print(a.ljust(40,'!'))\n",
    "print(a.center(40,'#'))"
   ]
  },
  {
   "cell_type": "code",
   "execution_count": 11,
   "id": "b3924f96",
   "metadata": {},
   "outputs": [
    {
     "name": "stdout",
     "output_type": "stream",
     "text": [
      "python is everywhere\n",
      "Hello world!\n"
     ]
    }
   ],
   "source": [
    "#Q10.What is the best way to remove whitespace characters from the start or end?\n",
    "#Ans\n",
    "'''\n",
    "In Python, characters that are used for spacing are called as whitespace characters.\n",
    "This include newline, spaces, tabs, carriage return, feed, etc.\n",
    "The lstrip() and rstrip() methods remove whitespace from the left and right ends of a string\n",
    "'''\n",
    "#Let's take an example\n",
    "a = \"           python is everywhere\"\n",
    "b = \"Hello world!                   \"\n",
    "print(a.lstrip())\n",
    "print(b.rstrip())"
   ]
  },
  {
   "cell_type": "code",
   "execution_count": null,
   "id": "7715dc94",
   "metadata": {},
   "outputs": [],
   "source": []
  }
 ],
 "metadata": {
  "kernelspec": {
   "display_name": "Python 3 (ipykernel)",
   "language": "python",
   "name": "python3"
  },
  "language_info": {
   "codemirror_mode": {
    "name": "ipython",
    "version": 3
   },
   "file_extension": ".py",
   "mimetype": "text/x-python",
   "name": "python",
   "nbconvert_exporter": "python",
   "pygments_lexer": "ipython3",
   "version": "3.9.12"
  }
 },
 "nbformat": 4,
 "nbformat_minor": 5
}
