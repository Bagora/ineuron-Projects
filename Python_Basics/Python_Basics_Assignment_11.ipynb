{
 "cells": [
  {
   "cell_type": "markdown",
   "id": "acfc9e35",
   "metadata": {},
   "source": [
    "## Python_Basics_Assignment_11\n",
    "1. Create an assert statement that throws an AssertionError if the variable spam is a negative integer.\n",
    "2. Write an assert statement that triggers an AssertionError if the variables eggs and bacon contain strings that are the same as each other, even if their cases are different (that is, 'hello' and 'hello' are considered the same, and 'goodbye' and 'GOODbye' are also considered the same).\n",
    "3. Create an assert statement that throws an AssertionError every time.\n",
    "4. What are the two lines that must be present in your software in order to call logging.debug()?\n",
    "5. What are the two lines that your program must have in order to have logging.debug() send a logging message to a file named programLog.txt?\n",
    "6. What are the five levels of logging?\n",
    "7. What line of code would you add to your software to disable all logging messages?\n",
    "8. Why is using logging messages better than using print() to display the same message?\n",
    "9. What are the differences between the Step Over, Step In, and Step Out buttons in the debugger?\n",
    "10. After you click Continue, when will the debugger stop ?\n",
    "11. What is the concept of a breakpoint?"
   ]
  },
  {
   "cell_type": "code",
   "execution_count": 21,
   "id": "59c51545",
   "metadata": {},
   "outputs": [
    {
     "ename": "ValueError",
     "evalue": "Value should not be a negative integer",
     "output_type": "error",
     "traceback": [
      "\u001b[1;31m---------------------------------------------------------------------------\u001b[0m",
      "\u001b[1;31mValueError\u001b[0m                                Traceback (most recent call last)",
      "Cell \u001b[1;32mIn[21], line 13\u001b[0m\n\u001b[0;32m     10\u001b[0m         \u001b[38;5;28;01mraise\u001b[39;00m \u001b[38;5;167;01mValueError\u001b[39;00m(\u001b[38;5;124m\"\u001b[39m\u001b[38;5;124mValue should not be a negative integer\u001b[39m\u001b[38;5;124m\"\u001b[39m)\n\u001b[0;32m     12\u001b[0m spam \u001b[38;5;241m=\u001b[39m \u001b[38;5;241m-\u001b[39m\u001b[38;5;241m1\u001b[39m \u001b[38;5;66;03m# negative integer will throw an error\u001b[39;00m\n\u001b[1;32m---> 13\u001b[0m \u001b[38;5;28mprint\u001b[39m(\u001b[38;5;124mf\u001b[39m\u001b[38;5;124m\"\u001b[39m\u001b[38;5;132;01m{\u001b[39;00mcheck_positive(spam)\u001b[38;5;132;01m}\u001b[39;00m\u001b[38;5;124m\"\u001b[39m)\n",
      "Cell \u001b[1;32mIn[21], line 10\u001b[0m, in \u001b[0;36mcheck_positive\u001b[1;34m(value)\u001b[0m\n\u001b[0;32m      8\u001b[0m \u001b[38;5;28;01mdef\u001b[39;00m \u001b[38;5;21mcheck_positive\u001b[39m(value):\n\u001b[0;32m      9\u001b[0m     \u001b[38;5;28;01mif\u001b[39;00m value \u001b[38;5;241m<\u001b[39m \u001b[38;5;241m0\u001b[39m:\n\u001b[1;32m---> 10\u001b[0m         \u001b[38;5;28;01mraise\u001b[39;00m \u001b[38;5;167;01mValueError\u001b[39;00m(\u001b[38;5;124m\"\u001b[39m\u001b[38;5;124mValue should not be a negative integer\u001b[39m\u001b[38;5;124m\"\u001b[39m)\n",
      "\u001b[1;31mValueError\u001b[0m: Value should not be a negative integer"
     ]
    }
   ],
   "source": [
    "'''Ans 1:- In this example, if the value of spam is a negative integer, the assert\n",
    "statement will raise an AssertionError with the given message. If the value of spam is\n",
    "non-negative, the code will continue to execute without any issue.\n",
    "We need to include the error message when using the assert statement. The\n",
    "error message is optional, but it's recommended to provide a clear message that\n",
    "helps you understand what condition wasn't met if the assertion fails.\n",
    "'''\n",
    "def check_positive(value):\n",
    "    if value < 0:\n",
    "        raise ValueError(\"Value should not be a negative integer\")\n",
    "        \n",
    "spam = -1 # negative integer will throw an error\n",
    "print(f\"{check_positive(spam)}\")"
   ]
  },
  {
   "cell_type": "code",
   "execution_count": 23,
   "id": "c3b68111",
   "metadata": {},
   "outputs": [
    {
     "ename": "AssertionError",
     "evalue": "eggs and bacon strings should not be the same",
     "output_type": "error",
     "traceback": [
      "\u001b[1;31m---------------------------------------------------------------------------\u001b[0m",
      "\u001b[1;31mAssertionError\u001b[0m                            Traceback (most recent call last)",
      "Cell \u001b[1;32mIn[23], line 11\u001b[0m\n\u001b[0;32m      8\u001b[0m eggs \u001b[38;5;241m=\u001b[39m \u001b[38;5;124m\"\u001b[39m\u001b[38;5;124mHello\u001b[39m\u001b[38;5;124m\"\u001b[39m\n\u001b[0;32m      9\u001b[0m bacon \u001b[38;5;241m=\u001b[39m \u001b[38;5;124m\"\u001b[39m\u001b[38;5;124mHELLO\u001b[39m\u001b[38;5;124m\"\u001b[39m\n\u001b[1;32m---> 11\u001b[0m \u001b[38;5;28;01massert\u001b[39;00m eggs\u001b[38;5;241m.\u001b[39mlower() \u001b[38;5;241m!=\u001b[39m bacon\u001b[38;5;241m.\u001b[39mlower(), \u001b[38;5;124m\"\u001b[39m\u001b[38;5;124meggs and bacon strings should not be the same\u001b[39m\u001b[38;5;124m\"\u001b[39m\n",
      "\u001b[1;31mAssertionError\u001b[0m: eggs and bacon strings should not be the same"
     ]
    }
   ],
   "source": [
    "'''Ans 2:- To achieve this, We can use the lower() method to convert both strings to\n",
    "lowercase before comparing them with an assert statement.\n",
    "In this code, the lower() method is used on both eggs and bacon to convert\n",
    "their contents to lowercase. Then, the assert statement checks if the lowercase\n",
    "versions of the strings are not equal. If they are equal (even with different cases),\n",
    "the assertion will fail and raise an AssertionError with the given message. '''\n",
    "\n",
    "eggs = \"Hello\"\n",
    "bacon = \"HELLO\"\n",
    "\n",
    "assert eggs.lower() != bacon.lower(), \"eggs and bacon strings should not be the same\""
   ]
  },
  {
   "cell_type": "code",
   "execution_count": 24,
   "id": "7e499ad5",
   "metadata": {},
   "outputs": [
    {
     "ename": "AssertionError",
     "evalue": "This assertion will always throw an error",
     "output_type": "error",
     "traceback": [
      "\u001b[1;31m---------------------------------------------------------------------------\u001b[0m",
      "\u001b[1;31mAssertionError\u001b[0m                            Traceback (most recent call last)",
      "Cell \u001b[1;32mIn[24], line 7\u001b[0m\n\u001b[0;32m      1\u001b[0m \u001b[38;5;124;03m'''Ans 3:-Certainly! We can simply use the assert statement with a condition that\u001b[39;00m\n\u001b[0;32m      2\u001b[0m \u001b[38;5;124;03malways evaluates to False. This will trigger an AssertionError every time the code is\u001b[39;00m\n\u001b[0;32m      3\u001b[0m \u001b[38;5;124;03mexecuted. In this code, the condition False ensures that the assertion will fail every\u001b[39;00m\n\u001b[0;32m      4\u001b[0m \u001b[38;5;124;03mtime. The provided message will be displayed as the error message in case of\u001b[39;00m\n\u001b[0;32m      5\u001b[0m \u001b[38;5;124;03mfailure.'''\u001b[39;00m\n\u001b[1;32m----> 7\u001b[0m \u001b[38;5;28;01massert\u001b[39;00m \u001b[38;5;28;01mFalse\u001b[39;00m, \u001b[38;5;124m\"\u001b[39m\u001b[38;5;124mThis assertion will always throw an error\u001b[39m\u001b[38;5;124m\"\u001b[39m\n",
      "\u001b[1;31mAssertionError\u001b[0m: This assertion will always throw an error"
     ]
    }
   ],
   "source": [
    "'''Ans 3:-Certainly! We can simply use the assert statement with a condition that\n",
    "always evaluates to False. This will trigger an AssertionError every time the code is\n",
    "executed. In this code, the condition False ensures that the assertion will fail every\n",
    "time. The provided message will be displayed as the error message in case of\n",
    "failure.'''\n",
    "\n",
    "assert False, \"This assertion will always throw an error\""
   ]
  },
  {
   "cell_type": "code",
   "execution_count": 25,
   "id": "c1aee3c2",
   "metadata": {},
   "outputs": [],
   "source": [
    "'''Ans 4:- In order to use the logging.debug() function in Python, we need to include\n",
    "the following two lines at the beginning of our script. \n",
    "The first line imports the logging module, which provides the logging\n",
    "functionality. The second line sets up the logging configuration using basicConfig(),\n",
    "specifying the desired log level (in this case, logging.DEBUG).  After these two lines,\n",
    "you can call logging.debug() to log debug-level messages, and they will be\n",
    "displayed based on the configured log level.'''\n",
    "\n",
    "import logging\n",
    "\n",
    "logging.basicConfig(level=logging.DEBUG)"
   ]
  },
  {
   "cell_type": "code",
   "execution_count": 26,
   "id": "5b3737b7",
   "metadata": {},
   "outputs": [],
   "source": [
    "'''Ans 5:- To send logging.debug() messages to a file named programLog.txt, we need to\n",
    "configure the logging module to write logs to that file. Here are the two lines you need\n",
    "to include in your code'''\n",
    "\n",
    "import logging\n",
    "\n",
    "logging.basicConfig(filename='programLog.txt', level=logging.DEBUG)"
   ]
  },
  {
   "cell_type": "code",
   "execution_count": 27,
   "id": "b77bd077",
   "metadata": {},
   "outputs": [],
   "source": [
    "'''Ans 6:- 1. DEBUG: Detailed information, typically useful for debugging purposes. These\n",
    "messages are usually intended for developers and provide low-level information about\n",
    "the program's behavior.  \n",
    "\n",
    "2. INFO: General information about the program's progress\n",
    "and actions. These messages help you understand what the program is doing without\n",
    "being overwhelming.\n",
    "\n",
    "3. WARNING: Indicates a potential problem or something that might\n",
    "lead to an error in the future. The program can continue to function, but attention\n",
    "is needed.\n",
    "\n",
    "4 ERROR: Indicates a more serious issue or error that caused the\n",
    "program to fail to perform a specific operation. The program can still run, but the\n",
    "situation requires investigation and intervention.\n",
    "\n",
    "5. CRITICAL: Indicates a critical error or issue that causes the program to stop or fail entirely.\n",
    "This level signifies a severe problem that requires immediate attention.\n",
    "'''\n",
    "\n",
    "import logging\n",
    "\n",
    "logging.basicConfig(filename='programLog.txt', level=logging.DEBUG)\n",
    "logging.basicConfig(filename='programLog.txt', level=logging.INFO)\n",
    "logging.basicConfig(filename='programLog.txt', level=logging.WARNING)\n",
    "logging.basicConfig(filename='programLog.txt', level=logging.ERROR)\n",
    "logging.basicConfig(filename='programLog.txt', level=logging.CRITICAL)"
   ]
  },
  {
   "cell_type": "code",
   "execution_count": 28,
   "id": "01847048",
   "metadata": {},
   "outputs": [],
   "source": [
    "'''Ans 7:- By using logging.disable(logging.CRITICAL), you're effectively turning off all\n",
    "logging messages with a severity level lower than or equal to CRITICAL. No logging\n",
    "messages will be displayed or recorded after this line of code is executed.'''\n",
    "\n",
    "import logging\n",
    "\n",
    "logging.disable(logging.CRITICAL)"
   ]
  },
  {
   "cell_type": "code",
   "execution_count": 30,
   "id": "e4db8572",
   "metadata": {},
   "outputs": [
    {
     "name": "stdout",
     "output_type": "stream",
     "text": [
      "\n"
     ]
    }
   ],
   "source": [
    "'''Ans 8:- While print() statements can be quick and simple for small scripts and quick\n",
    "debugging, logging provides a more organized and versatile approach, especially in larger\n",
    "projects or long-term software development.\n",
    "\n",
    "1. Log Levels: Logging categorizes messages by severity, helping control\n",
    "information display. \n",
    "\n",
    "2. Flexibility: Logging can be configured dynamically, adjusting output\n",
    "and verbosity. \n",
    "\n",
    "3. Control: Logging settings can be changed without altering the code.\n",
    "\n",
    "4. Production Environment: Logging enables selective suppression of debug messages in\n",
    "production. \n",
    "\n",
    "5. Consistency: Logging provides a standardized way to capture information.\n",
    "\n",
    "6. Formatting: Logging supports detailed message formatting, aiding debugging and analysis.\n",
    "\n",
    "7. Performance: Logging can be more efficient for large outputs or file logging. \n",
    "\n",
    "8. Integration: Logging is often supported by libraries and frameworks for monitoring and analysis.\n",
    "'''"
   ]
  },
  {
   "cell_type": "code",
   "execution_count": null,
   "id": "fc06853b",
   "metadata": {},
   "outputs": [],
   "source": [
    "'''Ans 9:- The \"Step Over,\" \"Step In,\" and \"Step Out\" buttons in a debugger are commonly\n",
    "used during debugging sessions to navigate through code execution. Here are the\n",
    "differences between these three debugging actions:\n",
    "\n",
    "1. Step Over:  Function: Executes the current line of code.\n",
    "\n",
    "Usage: Used to move forward in code execution, but if the current line contains a function call, the\n",
    "debugger will execute the entire function call and return to the next line after the\n",
    "function call. \n",
    "\n",
    "Scenario: Useful when you want to quickly move through function calls\n",
    "without diving into the implementation details. \n",
    "\n",
    "2. Step In:  Function: If the current\n",
    "line contains a function call, this action will enter the function and start\n",
    "debugging inside the called function. \n",
    "\n",
    "Usage: Used when you want to explore the details\n",
    "of a function's execution and debug within the function's code. \n",
    "\n",
    "Scenario: Helpful when you're interested in understanding how a particular function works \n",
    "and want to see the step-by-step execution within that function.\n",
    "\n",
    "3. Step Out:  Function: This\n",
    "action is only relevant when you are currently debugging inside a function call.\n",
    "\n",
    "Usage: Used to exit the current function being debugged and return to the caller\n",
    "function. \n",
    "\n",
    "Scenario: Useful when you've stepped into a function call, but now you want to\n",
    "return to the context that called that function to continue debugging at the higher\n",
    "level.\n",
    "\n",
    "In summary \n",
    "Step Over: Moves to the next line of code, skipping over function calls. \n",
    "\n",
    "Step In: Enters the current function call and starts debugging within that function. \n",
    "\n",
    "Step Out: Exits the current function being debugged and returns to the calling context. \n",
    "\n",
    "These actions provide different ways to navigate through your code during\n",
    "debugging, allowing you to inspect and understand the behavior of your program more\n",
    "effectively.\n",
    "\n",
    "'''"
   ]
  },
  {
   "cell_type": "code",
   "execution_count": null,
   "id": "337d3fde",
   "metadata": {},
   "outputs": [],
   "source": [
    "'''Ans 10:- After you click the \"Continue\" button in a debugger, the debugger will stop\n",
    "when one of the following conditions is met:-\n",
    "\n",
    "1. Breakpoint Reached: If you have set breakpoints in your code, the debugger will stop\n",
    "when it reaches a line of code with an active breakpoint.  \n",
    "\n",
    "2. Exception Occurs: If an unhandled exception is thrown during the execution of your code, \n",
    "the debugger will stop at the point where the exception is raised.  \n",
    "\n",
    "3. Program Completion: If your program completes its execution, the debugger\n",
    "will stop when it reaches the end of the program.  \n",
    "\n",
    "4. External Event: Some debuggers allow you to configure the debugger to pause execution on specific events,\n",
    "such as a signal from an external source or a specific condition being met.\n",
    "\n",
    "'''"
   ]
  },
  {
   "cell_type": "code",
   "execution_count": null,
   "id": "26bc95bd",
   "metadata": {},
   "outputs": [],
   "source": [
    "'''Ans 11:- A breakpoint is a debugging feature that allows us to pause the execution of\n",
    "our program at a specific line of code. When the program reaches a breakpoint\n",
    "during execution, it stops, and you can examine the current state of variables,\n",
    "inspect the call stack, and interact with the program's environment to understand its\n",
    "behavior and identify issues.\n",
    "'''"
   ]
  }
 ],
 "metadata": {
  "kernelspec": {
   "display_name": "Python 3 (ipykernel)",
   "language": "python",
   "name": "python3"
  },
  "language_info": {
   "codemirror_mode": {
    "name": "ipython",
    "version": 3
   },
   "file_extension": ".py",
   "mimetype": "text/x-python",
   "name": "python",
   "nbconvert_exporter": "python",
   "pygments_lexer": "ipython3",
   "version": "3.10.9"
  }
 },
 "nbformat": 4,
 "nbformat_minor": 5
}
