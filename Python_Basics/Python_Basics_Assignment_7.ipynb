{
 "cells": [
  {
   "cell_type": "markdown",
   "id": "6ce0f1e7",
   "metadata": {},
   "source": [
    "# Python_Basics_Assignment_7"
   ]
  },
  {
   "cell_type": "markdown",
   "id": "dfa79d5c",
   "metadata": {},
   "source": [
    "1. What is the name of the feature responsible for generating Regex objects?\n",
    "2. Why do raw strings often appear in Regex objects?\n",
    "3. What is the return value of the search() method?\n",
    "4. From a Match item, how do you get the actual strings that match the pattern?\n",
    "5. In the regex which created from the r'(\\d\\d\\d)-(\\d\\d\\d-\\d\\d\\d\\d)', what does group zero cover? Group 2? Group 1?\n",
    "6. In standard expression syntax, parentheses and intervals have distinct meanings. How can you tell a regex that you want it to fit real parentheses and periods?\n",
    "7. The findall() method returns a string list or a list of string tuples. What causes it to return one of the two options?\n",
    "8. In standard expressions, what does the | character mean?\n",
    "9. In regular expressions, what does the character stand for?\n",
    "10. In regular expressions, what is the difference between the + and * characters?\n",
    "11. What is the difference between {4} and {4,5} in regular expression?\n",
    "12. What do you mean by the \\d, \\w, and \\s shorthand character classes signify in regular expressions?\n",
    "13. What do means by \\D, \\W, and \\S shorthand character classes signify in regular expressions?\n",
    "14. What is the difference between .*? and .*?\n",
    "15. What is the syntax for matching both numbers and lowercase letters with a character class?\n",
    "16. What is the procedure for making a normal expression in regax case insensitive?\n",
    "17. What does the . character normally match? What does it match if re.DOTALL is passed as 2nd argument in re.compile()?\n",
    "18. If numReg = re.compile(r'\\d+'), what will numRegex.sub('X', '11 drummers, 10 pipers, five rings, 4 hen') return?\n",
    "19. What does passing re.VERBOSE as the 2nd argument to re.compile() allow to do?\n",
    "20. How would you write a regex that match a number with comma for every three digits? It must match the given following:\n",
    "    '42'\n",
    "    '1,234'\n",
    "    '6,368,745'\n",
    "    but not the following:\n",
    "    '12,34,567' (which has only two digits between the commas)\n",
    "    '1234' (which lacks commas)\n",
    "21. How would you write a regex that matches the full name of someone whose last name is Watanabe? You can assume that the first name that comes before it will always be one word that begins with a capital letter. The regex must match the following:\n",
    "    'Haruto Watanabe'\n",
    "    'Alice Watanabe'\n",
    "    'RoboCop Watanabe'\n",
    "    but not the following:\n",
    "    'haruto Watanabe' (where the first name is not capitalized)\n",
    "    'Mr. Watanabe' (where the preceding word has a nonletter character)\n",
    "    'Watanabe' (which has no first name)\n",
    "    'Haruto watanabe' (where Watanabe is not capitalized)\n",
    "22. How would you write a regex that matches a sentence where the first word is either Alice, Bob, or Carol; the second word is either eats, pets, or throws; the third word is apples, cats, or baseballs; and the sentence ends with a period? This regex should be case-insensitive. It must match the following:\n",
    "    'Alice eats apples.'\n",
    "    'Bob pets cats.'\n",
    "    'Carol throws baseballs.'\n",
    "    'Alice throws Apples.'\n",
    "    'BOB EATS CATS.'\n",
    "    but not the following:\n",
    "    'RoboCop eats apples.'\n",
    "    'ALICE THROWS FOOTBALLS.'\n",
    "    'Carol eats 7 cats.'"
   ]
  },
  {
   "cell_type": "code",
   "execution_count": 40,
   "id": "189c94bb",
   "metadata": {},
   "outputs": [
    {
     "name": "stdout",
     "output_type": "stream",
     "text": [
      "a =  ['28', '71', '23', '44']\n",
      "b =  ['11', '21', '51', '99']\n"
     ]
    }
   ],
   "source": [
    "''' Ans1:- The re.compile() function returns Regex objects. We can\n",
    "combine a regular expression pattern into pattern objects,\n",
    "(re.Pattern) which can be used for pattern matching. It also helps to\n",
    "search a pattern again without rewriting it Later we can use this\n",
    "pattern object to search for a match inside different target\n",
    "strings using regex methods  such as re.match() or re.search()'''\n",
    "\n",
    "import re\n",
    "\n",
    "a = \"My luck numbers are 281 711 231 441\"\n",
    "string_pattern = r\"\\d{2}\" #pattern to find digits\n",
    "regex_pattern = re.compile(string_pattern) #compile string pattern to re.Pattern object\n",
    "result = regex_pattern.findall(a)\n",
    "print('a = ', result)\n",
    "\n",
    "b = \"Your luck numbers are 115 216 514 995\"\n",
    "result = regex_pattern.findall(b)\n",
    "print('b = ', result)"
   ]
  },
  {
   "cell_type": "code",
   "execution_count": null,
   "id": "18eeb188",
   "metadata": {},
   "outputs": [],
   "source": [
    "'''Ans 2:- Raw strings (prefixed with 'r') are commonly used in regex\n",
    "objects to simplify handling special characters. They prevent\n",
    "unintended escapes and enhance code readability.'''\n",
    "\n",
    "# Without raw string\n",
    "pattern = '\\\\d+'\n",
    "\n",
    "# With raw string\n",
    "pattern = r'\\d+'\n",
    "# Using r'\\d+', it's clear and avoids extra escaping for regex patterns."
   ]
  },
  {
   "cell_type": "code",
   "execution_count": 1,
   "id": "b05365a9",
   "metadata": {},
   "outputs": [
    {
     "name": "stdout",
     "output_type": "stream",
     "text": [
      "123\n"
     ]
    }
   ],
   "source": [
    "'''Ans 3:- The search() method in Python's regex module returns a\n",
    "match object if it finds a match in the input string, or None if\n",
    "no match is found. we can use methods like group() to extract\n",
    "matched content.'''\n",
    "\n",
    "import re\n",
    "text = \"Hello, 123 World!\"\n",
    "match = re.search(r'\\d+', text)\n",
    "if match:\n",
    "    print(match.group())"
   ]
  },
  {
   "cell_type": "code",
   "execution_count": 3,
   "id": "24f96c5a",
   "metadata": {},
   "outputs": [
    {
     "name": "stdout",
     "output_type": "stream",
     "text": [
      "$25.99\n"
     ]
    }
   ],
   "source": [
    "'''Ans 4:- To get the actual strings that match the pattern from a\n",
    "Match object, we can use the group() method. By default,\n",
    "group(0) returns the entire matched string, and additional groups\n",
    "are specified by their index.\n",
    "\n",
    "In this example, we use a regex pattern to extract a price\n",
    "value from a string and obtain the matched price string using\n",
    "group().'''\n",
    "\n",
    "import re\n",
    "\n",
    "text = \"The price of the product is $25.99\"\n",
    "match = re.search(r'\\$\\d+\\.\\d+', text)\n",
    "\n",
    "if match:\n",
    "    matched_price = match.group()\n",
    "    print(matched_price)"
   ]
  },
  {
   "cell_type": "code",
   "execution_count": 5,
   "id": "75ce616f",
   "metadata": {},
   "outputs": [
    {
     "name": "stdout",
     "output_type": "stream",
     "text": [
      "Group 0 (Entire Match): 123-456-7890\n",
      "Group 1 (First Set): 123\n",
      "Group 2 (Second Set): 456-7890\n"
     ]
    }
   ],
   "source": [
    "'''Ans 5:- In the regex pattern r'(\\d\\d\\d)-(\\d\\d\\d-\\d\\d\\d\\d)', group\n",
    "zero (group(0)) covers the entire matched string. Group 1\n",
    "(group(1)) captures the first set of three digits inside the\n",
    "parentheses, and group 2 (group(2)) captures the second set of three\n",
    "digits followed by a hyphen and four more digits.'''\n",
    "\n",
    "import re\n",
    "\n",
    "text = \"Phone numbers: 123-456-7890 and 987-654-3210\"\n",
    "pattern = r'(\\d\\d\\d)-(\\d\\d\\d-\\d\\d\\d\\d)'\n",
    "match = re.search(pattern, text)\n",
    "\n",
    "if match:\n",
    "    print(\"Group 0 (Entire Match):\", match.group(0))\n",
    "    print(\"Group 1 (First Set):\", match.group(1))\n",
    "    print(\"Group 2 (Second Set):\", match.group(2))"
   ]
  },
  {
   "cell_type": "code",
   "execution_count": 9,
   "id": "ef7f297d",
   "metadata": {},
   "outputs": [
    {
     "name": "stdout",
     "output_type": "stream",
     "text": [
      "Found: (is a) sample text. (It contains)\n"
     ]
    }
   ],
   "source": [
    "'''Ans 6:- In regular expressions, a period (.) matches any character\n",
    "except a newline character. Parentheses (() are used for grouping\n",
    "and capturing. To tell a regex that we want it to fit real\n",
    "parentheses and periods, we need to escape them with a backslash ().\n",
    "For example, the regular expression \\(.*\\) will match any\n",
    "string that contains a parentheses followed by any number of\n",
    "characters. Thebackslashes tells the regex engine to treat the\n",
    "parentheses and period as literal characters, rather than as special\n",
    "characters.'''\n",
    "\n",
    "import re\n",
    "\n",
    "text = \"This (is a) sample text. (It contains) parentheses.\"\n",
    "pattern = r'\\(.*\\)'\n",
    "matches = re.findall(pattern, text)\n",
    "\n",
    "for match in matches:\n",
    "    print(\"Found:\", match)"
   ]
  },
  {
   "cell_type": "code",
   "execution_count": 5,
   "id": "2dba2ec6",
   "metadata": {},
   "outputs": [
    {
     "name": "stdout",
     "output_type": "stream",
     "text": [
      "List of String Tuples (with capturing group): ['100.00', '80.00']\n",
      "List of Strings (without capturing group): ['The', 'price', 'of', 'apples', 'is', '100', '00', 'and', 'oranges', 'cost', '80', '00']\n"
     ]
    }
   ],
   "source": [
    "'''Ans 7:- The findall() method in Python's re module returns either\n",
    "a list of strings or a list of string tuples based on the\n",
    "presence of capturing groups (parentheses) in the regular\n",
    "expression pattern.  List of Strings: If the regular expression\n",
    "pattern does not contain any capturing groups, findall() returns a\n",
    "list of strings. Each element in the list represents a complete\n",
    "match of the pattern in the input string.  List of String\n",
    "Tuples: If the regular expression pattern contains one or more\n",
    "capturing groups (defined by parentheses), findall() returns a list\n",
    "of string tuples. Each tuple contains the matched content of\n",
    "each capturing group in the order they appear in the pattern.'''\n",
    "\n",
    "import re\n",
    "\n",
    "text = \"The price of apples is ₹100.00, and oranges cost ₹80.00.\"\n",
    "\n",
    "# Pattern with capturing group (for matching prices)\n",
    "pattern_with_group = r'\\₹(\\d+\\.\\d+)'\n",
    "matches_with_group = re.findall(pattern_with_group, text)\n",
    "\n",
    "# Pattern without capturing group (for matching words)\n",
    "pattern_without_group = r'\\w+'\n",
    "matches_without_group = re.findall(pattern_without_group, text)\n",
    "\n",
    "print(\"List of String Tuples (with capturing group):\", matches_with_group)\n",
    "print(\"List of Strings (without capturing group):\", matches_without_group)"
   ]
  },
  {
   "cell_type": "code",
   "execution_count": 6,
   "id": "45c9a704",
   "metadata": {},
   "outputs": [
    {
     "name": "stdout",
     "output_type": "stream",
     "text": [
      "['cat', 'dog']\n"
     ]
    }
   ],
   "source": [
    "'''Ans 8:- In regular expressions, the | (pipe) character is used to\n",
    "denote an OR condition. It allows us to specify multiple\n",
    "alternatives, and the pattern will match if any of those alternatives is\n",
    "found. For example, the regex cat|dog will match either \"cat\" or\n",
    "\"dog\" in the input text.'''\n",
    "\n",
    "import re\n",
    "\n",
    "text = \"I have a cat and a dog at home.\"\n",
    "pattern = r'cat|dog'\n",
    "matches = re.findall(pattern, text)\n",
    "\n",
    "print(matches)"
   ]
  },
  {
   "cell_type": "code",
   "execution_count": 31,
   "id": "48ab7a25",
   "metadata": {},
   "outputs": [
    {
     "name": "stdout",
     "output_type": "stream",
     "text": [
      "['axb', 'a1b', 'a@b']\n"
     ]
    }
   ],
   "source": [
    "'''Q9:- In regular expressions, what does the character stand for?\n",
    "'''\n",
    "'''Ans 9:- In regular expressions, the . (dot) character represents\n",
    "any single character except a newline. It acts as a wildcard\n",
    "that matches any character. For example, the regex pattern a.b\n",
    "would match \"axb,\" \"a1b,\" or \"a@b,\" where the dot can stand for\n",
    "any character.'''\n",
    "\n",
    "import re\n",
    "\n",
    "text = \"axb a1b a@b\"\n",
    "pattern = r'a.b'\n",
    "matches = re.findall(pattern, text)\n",
    "\n",
    "print(matches)"
   ]
  },
  {
   "cell_type": "code",
   "execution_count": 7,
   "id": "7c67db49",
   "metadata": {},
   "outputs": [
    {
     "name": "stdout",
     "output_type": "stream",
     "text": [
      "['123', '4567', '89']\n",
      "['123', '', '', '', '', '4567', '', '', '89', '']\n"
     ]
    }
   ],
   "source": [
    "'''Ans 10:- In regular expressions, the + character means \"one or more\n",
    "occurrences\" of the preceding element. It requires at least one\n",
    "occurrence for a match. For example, the regex \\d+ matches one or\n",
    "more digits in a string.  In contrast, the * character means\n",
    "\"zero or more occurrences\" of the preceding element. It can\n",
    "match zero occurrences as well. For example, the regex \\d*\n",
    "matches any sequence containing zero or more digits.  Example: \n",
    "\\d+ matches \"123\" but not an empty string. \\d* matches \"123\"\n",
    "and an empty string.\n",
    "\n",
    "In the first example with +, the regex \\d+ matches one or\n",
    "more digits, so it does not match an empty string. In the\n",
    "second example with *, the regex \\d* matches zero or more digits,\n",
    "so it matches empty strings as well.'''\n",
    "\n",
    "# Using + character\n",
    "\n",
    "import re\n",
    "\n",
    "text = \"123, 4567, 89\"\n",
    "pattern = r'\\d+'  # Matches one or more digits\n",
    "matches = re.findall(pattern, text)\n",
    "print(matches)\n",
    "\n",
    "# Using * character\n",
    "\n",
    "text = \"123, , 4567, 89\"\n",
    "pattern = r'\\d*'  # Matches zero or more digits\n",
    "matches = re.findall(pattern, text)\n",
    "\n",
    "print(matches)"
   ]
  },
  {
   "cell_type": "code",
   "execution_count": 9,
   "id": "5a404bf8",
   "metadata": {},
   "outputs": [
    {
     "name": "stdout",
     "output_type": "stream",
     "text": [
      "['1234', '5678', '1234']\n",
      "['1234', '56789', '12345']\n"
     ]
    }
   ],
   "source": [
    "'''Ans 11:- In regular expressions, {4} specifies exactly four\n",
    "occurrences of the preceding element, while {4,5} specifies a range of\n",
    "four to five occurrences.  Example:  \\d{4} matches exactly four\n",
    "digits (e.g., \"1234\"). \\d{4,5} matches between four to five\n",
    "digits (e.g., \"12345\" or \"6789\").'''\n",
    "\n",
    "import re\n",
    "\n",
    "text = \"1234 56789 123456\"\n",
    "pattern1 = r'\\d{4}'    # Matches exactly four digits\n",
    "pattern2 = r'\\d{4,5}'  # Matches between four to five digits\n",
    "\n",
    "matches1 = re.findall(pattern1, text)\n",
    "matches2 = re.findall(pattern2, text)\n",
    "\n",
    "print(matches1)\n",
    "print(matches2)"
   ]
  },
  {
   "cell_type": "code",
   "execution_count": 11,
   "id": "cd2f90c5",
   "metadata": {},
   "outputs": [
    {
     "name": "stdout",
     "output_type": "stream",
     "text": [
      "['1', '2', '3']\n",
      "['H', 'e', 'l', 'l', 'o', '1', '2', '3', 'w', 'o', 'r', 'l', 'd']\n",
      "[' ', ' ']\n"
     ]
    }
   ],
   "source": [
    "'''Ans 12:- In regular expressions, shorthand character classes\n",
    "represent common character groups:  \\d: Matches any digit (0-9). \\w:\n",
    "Matches any word character (letters, digits, or underscores). \\s:\n",
    "Matches any whitespace character (spaces, tabs, newlines).In this\n",
    "example, each shorthand character class matches its respective\n",
    "character group in the input text.'''\n",
    "\n",
    "import re\n",
    "\n",
    "text = \"Hello, 123 world!\"\n",
    "\n",
    "# Matches digits\n",
    "pattern_digit = r'\\d'\n",
    "\n",
    "# Matches word characters\n",
    "pattern_word = r'\\w'\n",
    "\n",
    "# Matches whitespace\n",
    "pattern_whitespace = r'\\s'\n",
    "\n",
    "digits = re.findall(pattern_digit, text)\n",
    "word_chars = re.findall(pattern_word, text)\n",
    "whitespace_chars = re.findall(pattern_whitespace, text)\n",
    "\n",
    "print(digits)\n",
    "print(word_chars)\n",
    "print(whitespace_chars)"
   ]
  },
  {
   "cell_type": "code",
   "execution_count": 12,
   "id": "721c6de2",
   "metadata": {},
   "outputs": [
    {
     "name": "stdout",
     "output_type": "stream",
     "text": [
      "['H', 'e', 'l', 'l', 'o', ',', ' ', ' ', 'w', 'o', 'r', 'l', 'd', '!']\n",
      "[',', ' ', ' ', '!']\n",
      "['H', 'e', 'l', 'l', 'o', ',', '1', '2', '3', 'w', 'o', 'r', 'l', 'd', '!']\n"
     ]
    }
   ],
   "source": [
    "'''Ans 13:- In regular expressions, the shorthand character classes\n",
    "with uppercase forms \\D, \\W, and \\S are negations of their\n",
    "lowercase counterparts:-\n",
    "\\D: Matches any character that is not a digit.\n",
    "\\W: Matches any character that is not a word character.\n",
    "\\S: Matches any character that is not whitespace.'''\n",
    "\n",
    "import re\n",
    "\n",
    "text = \"Hello, 123 world!\"\n",
    "\n",
    "# Matches characters that are not digits\n",
    "pattern_not_digit = r'\\D'\n",
    "\n",
    "# Matches characters that are not word characters\n",
    "pattern_not_word = r'\\W' \n",
    "\n",
    "# Matches characters that are not whitespace\n",
    "pattern_not_whitespace = r'\\S'  \n",
    "\n",
    "non_digits = re.findall(pattern_not_digit, text)\n",
    "non_word_chars = re.findall(pattern_not_word, text)\n",
    "non_whitespace_chars = re.findall(pattern_not_whitespace, text)\n",
    "\n",
    "print(non_digits)\n",
    "print(non_word_chars)\n",
    "print(non_whitespace_chars)"
   ]
  },
  {
   "cell_type": "code",
   "execution_count": 13,
   "id": "2cf4f857",
   "metadata": {},
   "outputs": [
    {
     "name": "stdout",
     "output_type": "stream",
     "text": [
      "Greedy Match: <em>sample</em>\n",
      "Lazy Match: <em>\n"
     ]
    }
   ],
   "source": [
    "'''Ans 14:- The difference between .* and .*? in regular expressions\n",
    "is in their matching behavior:  .*: Greedy matching. It\n",
    "matches as much as possible while still allowing the overall\n",
    "pattern to match.  .*?: Lazy or non-greedy matching. It matches as\n",
    "little as possible while still allowing the overall pattern to\n",
    "match. In this example, the greedy pattern r'<.*>' matches more\n",
    "than expected, while the lazy pattern r'<.*?>' matches the\n",
    "minimal content.'''\n",
    "\n",
    "import re\n",
    "\n",
    "text = \"This is a <em>sample</em> text.\"\n",
    "pattern_greedy = r'<.*>'\n",
    "pattern_lazy = r'<.*?>'\n",
    "\n",
    "match_greedy = re.search(pattern_greedy, text)\n",
    "match_lazy = re.search(pattern_lazy, text)\n",
    "\n",
    "print(\"Greedy Match:\", match_greedy.group())\n",
    "print(\"Lazy Match:\", match_lazy.group())"
   ]
  },
  {
   "cell_type": "code",
   "execution_count": 14,
   "id": "c975da99",
   "metadata": {},
   "outputs": [
    {
     "name": "stdout",
     "output_type": "stream",
     "text": [
      "['ello', '123', 'world']\n"
     ]
    }
   ],
   "source": [
    "'''Ans 15:- To match both numbers and lowercase letters with a\n",
    "character class, we can use [0-9a-z]. This character class will\n",
    "match any single character that is either a digit (0-9) or a\n",
    "lowercase letter (a-z).In this example, the pattern [0-9a-z]+\n",
    "matches sequences of lowercase letters and numbers in the input\n",
    "text.'''\n",
    "\n",
    "import re\n",
    "\n",
    "text = \"Hello, 123 world!\"\n",
    "\n",
    "# Matches sequences of lowercase letters and numbers\n",
    "pattern = r'[0-9a-z]+'\n",
    "\n",
    "matches = re.findall(pattern, text)\n",
    "\n",
    "print(matches)"
   ]
  },
  {
   "cell_type": "code",
   "execution_count": 15,
   "id": "07857a00",
   "metadata": {},
   "outputs": [
    {
     "name": "stdout",
     "output_type": "stream",
     "text": [
      "['Hello', 'hello']\n"
     ]
    }
   ],
   "source": [
    "'''Ans 16:- To make a regular expression case-insensitive in Python,\n",
    "we can use the re.IGNORECASE flag or re.I flag. we can pass\n",
    "this flag as the second argument to the re.compile() function\n",
    "or use it directly in the regular expression pattern. In this\n",
    "example, re.IGNORECASE makes the pattern case-insensitive, so it\n",
    "matches both \"Hello\" and \"hello.\"'''\n",
    "\n",
    "import re\n",
    "\n",
    "text = \"Hello World, hello world\"\n",
    "pattern = re.compile(r'hello', re.IGNORECASE)\n",
    "matches = pattern.findall(text)\n",
    "\n",
    "print(matches)"
   ]
  },
  {
   "cell_type": "code",
   "execution_count": 23,
   "id": "92b40d5a",
   "metadata": {},
   "outputs": [
    {
     "name": "stdout",
     "output_type": "stream",
     "text": [
      "Without re.DOTALL: Line 1\n",
      "With re.DOTALL: \n",
      "Line 1\n",
      "Line 2\n"
     ]
    }
   ],
   "source": [
    "'''Ans 17:- The . character in regular expressions normally matches\n",
    "any character except a newline (\\n). However, when re.DOTALL\n",
    "(or re.S) is passed as the second argument in re.compile(),\n",
    "the . character will match any character, including newlines.'''\n",
    "\n",
    "# without re.DOTALL\n",
    "\n",
    "import re\n",
    "\n",
    "text = \"Line 1\\nLine 2\"\n",
    "pattern = re.compile(r'.+')\n",
    "match = pattern.search(text)\n",
    "\n",
    "print(f\"Without re.DOTALL: {match.group()}\")\n",
    "\n",
    "# with re.DOTALL\n",
    "\n",
    "import re\n",
    "\n",
    "text = \"Line 1\\nLine 2\"\n",
    "pattern = re.compile(r'.+', re.DOTALL)\n",
    "match = pattern.search(text)\n",
    "\n",
    "print(f\"With re.DOTALL: \\n{match.group()}\")"
   ]
  },
  {
   "cell_type": "code",
   "execution_count": 24,
   "id": "72016ffa",
   "metadata": {},
   "outputs": [
    {
     "name": "stdout",
     "output_type": "stream",
     "text": [
      "X drummers, X pipers, five rings, X hens\n"
     ]
    }
   ],
   "source": [
    "'''Ans 18:- The numRegex.sub('X', '11 drummers, 10 pipers, five rings,\n",
    "4 hens') will return the string with all numeric sequences\n",
    "replaced by 'X'. So, the result will be:  \"X drummers, X pipers,\n",
    "five rings, X hens\"In this example, re.sub() replaces all\n",
    "numeric sequences with 'X' in the input string.'''\n",
    "\n",
    "import re\n",
    "\n",
    "numRegex = re.compile(r'\\d+')\n",
    "result = numRegex.sub('X', '11 drummers, 10 pipers, five rings, 4 hens')\n",
    "print(result)"
   ]
  },
  {
   "cell_type": "code",
   "execution_count": 25,
   "id": "b4181bba",
   "metadata": {},
   "outputs": [
    {
     "name": "stdout",
     "output_type": "stream",
     "text": [
      "['123-AB', '456-CD']\n"
     ]
    }
   ],
   "source": [
    "'''Ans 19:- Passing re.VERBOSE as the second argument to re.compile()\n",
    "allows us to write more readable and well-documented regular\n",
    "expressions by ignoring whitespace and adding comments. It also makes\n",
    "it easier to format and organize complex regex patterns.'''\n",
    "\n",
    "import re\n",
    "\n",
    "pattern = re.compile(r'''\n",
    "    \\d{3}  # Match a three-digit number\n",
    "    -      # Match a hyphen\n",
    "    \\w{2}  # Match two word characters\n",
    "''', re.VERBOSE)\n",
    "\n",
    "text = \"123-AB 456-CD\"\n",
    "matches = pattern.findall(text)\n",
    "\n",
    "print(matches)"
   ]
  },
  {
   "cell_type": "code",
   "execution_count": 27,
   "id": "6d8a5883",
   "metadata": {},
   "outputs": [
    {
     "name": "stdout",
     "output_type": "stream",
     "text": [
      "'42' is a valid number.\n",
      "'1,234' is a valid number.\n",
      "'6,368,745' is a valid number.\n",
      "'12,34,567' is not a valid number.\n",
      "'1234' is not a valid number.\n"
     ]
    }
   ],
   "source": [
    "'''Ans 20:- To match a number with commas for every three digits, we\n",
    "can use the following regular expression pattern:-\n",
    "\n",
    "import re\n",
    "pattern = r'^\\d{1,3}(,\\d{3})*$'\n",
    "\n",
    "1. ^ and $ ensure that the pattern matches the entire string.\n",
    "2. \\d{1,3} matches one to three digits at the beginning.\n",
    "3. (,\\d{3})* matches zero or more groups of a comma followed\n",
    "by exactly three digits.\n",
    "\n",
    "valid_numbers contains numbers that meet the pattern's\n",
    "criteria ('42', '1,234', '6,368,745'). invalid_numbers contains\n",
    "numbers that do not meet the criteria ('12,34,567', '1234'). We\n",
    "iterate through the valid_numbers list and use re.match() to check\n",
    "if each number matches the pattern. If it does, we print that\n",
    "it is a valid number.  We also iterate through the\n",
    "invalid_numbers list and use re.match() to check if each number does not\n",
    "match the pattern. If it doesn't, we print that it is not a\n",
    "valid number.'''\n",
    "\n",
    "import re\n",
    "\n",
    "pattern = r'^\\d{1,3}(,\\d{3})*$'\n",
    "valid_numbers = ['42', '1,234', '6,368,745']\n",
    "invalid_numbers = ['12,34,567', '1234']\n",
    "\n",
    "for num in valid_numbers:\n",
    "    if re.match(pattern, num):\n",
    "        print(f\"'{num}' is a valid number.\")\n",
    "\n",
    "for num in invalid_numbers:\n",
    "    if not re.match(pattern, num):\n",
    "        print(f\"'{num}' is not a valid number.\")"
   ]
  },
  {
   "cell_type": "code",
   "execution_count": 28,
   "id": "e63b1df6",
   "metadata": {},
   "outputs": [
    {
     "name": "stdout",
     "output_type": "stream",
     "text": [
      "'Haruto Watanabe' is a valid name.\n",
      "'Alice Watanabe' is a valid name.\n",
      "'RoboCop Watanabe' is a valid name.\n",
      "'haruto Watanabe' is not a valid name.\n",
      "'Mr. Watanabe' is not a valid name.\n",
      "'Watanabe' is not a valid name.\n",
      "'Haruto watanabe' is not a valid name.\n"
     ]
    }
   ],
   "source": [
    "'''Ans 21:- This Python code defines a regular expression pattern to\n",
    "match full names with the last name \"Watanabe.\" The pattern\n",
    "ensures that the first name starts with a capital letter and may\n",
    "contain both uppercase and lowercase letters. It then tests\n",
    "various names, printing whether each is a valid name or not based\n",
    "on the pattern's criteria.\n",
    "\n",
    "1. [A-Z]: Matches an uppercase letter for the first character.\n",
    "2. [a-zA-Z]*: Matches zero or more lowercase and uppercase letters\n",
    "for the rest of the first name (if any).\n",
    "3. \\s: Matches a space character.\n",
    "4. Watanabe: Matches the literal last name \"Watanabe.\"\n",
    "'''\n",
    "\n",
    "import re\n",
    "\n",
    "pattern = r'[A-Z][a-zA-Z]*\\sWatanabe'\n",
    "valid_names = ['Haruto Watanabe', 'Alice Watanabe', 'RoboCop Watanabe']\n",
    "invalid_names = ['haruto Watanabe', 'Mr. Watanabe', 'Watanabe', 'Haruto watanabe']\n",
    "\n",
    "for name in valid_names:\n",
    "    if re.match(pattern, name):\n",
    "        print(f\"'{name}' is a valid name.\")\n",
    "\n",
    "for name in invalid_names:\n",
    "    if not re.match(pattern, name):\n",
    "        print(f\"'{name}' is not a valid name.\")"
   ]
  },
  {
   "cell_type": "code",
   "execution_count": 29,
   "id": "8b548985",
   "metadata": {},
   "outputs": [
    {
     "name": "stdout",
     "output_type": "stream",
     "text": [
      "'Alice eats apples.' is a valid sentence.\n",
      "'Bob pets cats.' is a valid sentence.\n",
      "'Carol throws baseballs.' is a valid sentence.\n",
      "'Alice throws Apples.' is a valid sentence.\n",
      "'BOB EATS CATS.' is a valid sentence.\n",
      "'RoboCop eats apples.' is not a valid sentence.\n",
      "'ALICE THROWS FOOTBALLS.' is not a valid sentence.\n",
      "'Carol eats 7 cats.' is not a valid sentence.\n"
     ]
    }
   ],
   "source": [
    "'''Ans 22:- This Python code defines a regular expression pattern to\n",
    "match sentences with specific structures starting with \"Alice,\"\n",
    "\"Bob,\" or \"Carol,\" followed by \"eats,\" \"pets,\" or \"throws,\" and\n",
    "ending with \"apples,\" \"cats,\" or \"baseballs,\" followed by a\n",
    "period. The re.IGNORECASE flag makes the pattern case-insensitive.\n",
    "The code then tests various sentences, printing whether each\n",
    "is valid or not based on the pattern's criteria.\n",
    "\n",
    "1. ^ and $ ensure that the pattern matches the entire sentence\n",
    "     from start to end.\n",
    "2. (Alice|Bob|Carol) matches the first word, allowing for any case\n",
    "    of Alice, Bob, or Carol.\n",
    "3. \\s+ matches one or more whitespace characters.\n",
    "4. (eats|pets|throws) matches the second word, allowing for any case\n",
    "    of eats, pets, or throws.\n",
    "5. (apples|cats|baseballs) matches the third word, allowing for any case\n",
    "   of apples, cats, or baseballs.\n",
    "6. \\. matches the period at the end of the sentence.\n",
    "'''\n",
    "import re\n",
    "\n",
    "pattern = r'^(Alice|Bob|Carol)\\s+(eats|pets|throws)\\s+(apples|cats|baseballs)\\.$'\n",
    "\n",
    "valid_sentences = ['Alice eats apples.', \n",
    "                   'Bob pets cats.', \n",
    "                   'Carol throws baseballs.',\n",
    "                   'Alice throws Apples.', \n",
    "                   'BOB EATS CATS.']\n",
    "\n",
    "invalid_sentences = ['RoboCop eats apples.', \n",
    "                     'ALICE THROWS FOOTBALLS.',\n",
    "                     'Carol eats 7 cats.']\n",
    "\n",
    "for sentence in valid_sentences:\n",
    "    if re.match(pattern, sentence, re.IGNORECASE):\n",
    "        print(f\"'{sentence}' is a valid sentence.\")\n",
    "\n",
    "for sentence in invalid_sentences:\n",
    "    if not re.match(pattern, sentence, re.IGNORECASE):\n",
    "        print(f\"'{sentence}' is not a valid sentence.\")"
   ]
  }
 ],
 "metadata": {
  "kernelspec": {
   "display_name": "Python 3 (ipykernel)",
   "language": "python",
   "name": "python3"
  },
  "language_info": {
   "codemirror_mode": {
    "name": "ipython",
    "version": 3
   },
   "file_extension": ".py",
   "mimetype": "text/x-python",
   "name": "python",
   "nbconvert_exporter": "python",
   "pygments_lexer": "ipython3",
   "version": "3.10.9"
  }
 },
 "nbformat": 4,
 "nbformat_minor": 5
}
