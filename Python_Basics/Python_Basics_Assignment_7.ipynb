{
 "cells": [
  {
   "cell_type": "markdown",
   "id": "6ce0f1e7",
   "metadata": {},
   "source": [
    "# Python_Basics_Assignment_7"
   ]
  },
  {
   "cell_type": "markdown",
   "id": "dfa79d5c",
   "metadata": {},
   "source": [
    "1. What is the name of the feature responsible for generating Regex objects?\n",
    "2. Why do raw strings often appear in Regex objects?\n",
    "3. What is the return value of the search() method?\n",
    "4. From a Match item, how do you get the actual strings that match the pattern?\n",
    "5. In the regex which created from the r'(\\d\\d\\d)-(\\d\\d\\d-\\d\\d\\d\\d)', what does group zero cover? Group 2? Group 1?\n",
    "6. In standard expression syntax, parentheses and intervals have distinct meanings. How can you tell a regex that you want it to fit real parentheses and periods?\n",
    "7. The findall() method returns a string list or a list of string tuples. What causes it to return one of the two options?\n",
    "8. In standard expressions, what does the | character mean?\n",
    "9. In regular expressions, what does the character stand for?\n",
    "10.In regular expressions, what is the difference between the + and * characters?\n",
    "11. What is the difference between {4} and {4,5} in regular expression?\n",
    "12. What do you mean by the \\d, \\w, and \\s shorthand character classes signify in regular expressions?\n",
    "13. What do means by \\D, \\W, and \\S shorthand character classes signify in regular expressions?\n",
    "14. What is the difference between .*? and .*?\n",
    "15. What is the syntax for matching both numbers and lowercase letters with a character class?\n",
    "16. What is the procedure for making a normal expression in regax case insensitive?\n",
    "17. What does the . character normally match? What does it match if re.DOTALL is passed as 2nd argument in re.compile()?\n",
    "18. If numReg = re.compile(r'\\d+'), what will numRegex.sub('X', '11 drummers, 10 pipers, five rings, 4 hen') return?\n",
    "19. What does passing re.VERBOSE as the 2nd argument to re.compile() allow to do?\n",
    "20. How would you write a regex that match a number with comma for every three digits? It must match the given following:\n",
    "'42'\n",
    "'1,234'\n",
    "'6,368,745'\n",
    "but not the following:\n",
    "'12,34,567' (which has only two digits between the commas)\n",
    "'1234' (which lacks commas)\n",
    "21. How would you write a regex that matches the full name of someone whose last name is Watanabe? You can assume that the first name that comes before it will always be one word that begins with a capital letter. The regex must match the following:\n",
    "'Haruto Watanabe'\n",
    "'Alice Watanabe'\n",
    "'RoboCop Watanabe'\n",
    "but not the following:\n",
    "'haruto Watanabe' (where the first name is not capitalized)\n",
    "'Mr. Watanabe' (where the preceding word has a nonletter character)\n",
    "'Watanabe' (which has no first name)\n",
    "'Haruto watanabe' (where Watanabe is not capitalized)\n",
    "22. How would you write a regex that matches a sentence where the first word is either Alice, Bob, or Carol; the second word is either eats, pets, or throws; the third word is apples, cats, or baseballs; and the sentence ends with a period? This regex should be case-insensitive. It must match the following:\n",
    "'Alice eats apples.'\n",
    "'Bob pets cats.'\n",
    "'Carol throws baseballs.'\n",
    "'Alice throws Apples.'\n",
    "'BOB EATS CATS.'\n",
    "but not the following:\n",
    "'RoboCop eats apples.'\n",
    "'ALICE THROWS FOOTBALLS.'\n",
    "'Carol eats 7 cats.'"
   ]
  },
  {
   "cell_type": "code",
   "execution_count": 40,
   "id": "189c94bb",
   "metadata": {},
   "outputs": [
    {
     "name": "stdout",
     "output_type": "stream",
     "text": [
      "a =  ['28', '71', '23', '44']\n",
      "b =  ['11', '21', '51', '99']\n"
     ]
    }
   ],
   "source": [
    "#Q1.What is the name of the feature responsible for generating Regex objects?\n",
    "#Ans\n",
    "'''\n",
    "The re.compile() function returns Regex objects. We can combine a regular expression pattern into pattern objects, (re.Pattern)\n",
    "which can be used for pattern matching. It also helps to search a pattern again without rewriting it\n",
    "Later we can use this pattern object to search for a match inside different target strings using regex methods \n",
    "such as re.match() or re.search()\n",
    "'''\n",
    "import re\n",
    "\n",
    "a = \"My luck numbers are 281 711 231 441\"\n",
    "string_pattern = r\"\\d{2}\" #pattern to find digits\n",
    "regex_pattern = re.compile(string_pattern) #compile string pattern to re.Pattern object\n",
    "result = regex_pattern.findall(a)\n",
    "print('a = ', result)\n",
    "\n",
    "b = \"Your luck numbers are 115 216 514 995\"\n",
    "result = regex_pattern.findall(b)\n",
    "print('b = ', result)"
   ]
  },
  {
   "cell_type": "code",
   "execution_count": null,
   "id": "18eeb188",
   "metadata": {},
   "outputs": [],
   "source": [
    "#Q2.Why do raw strings often appear in Regex objects?\n",
    "#Ans\n",
    "'''\n",
    "'''"
   ]
  }
 ],
 "metadata": {
  "kernelspec": {
   "display_name": "Python 3 (ipykernel)",
   "language": "python",
   "name": "python3"
  },
  "language_info": {
   "codemirror_mode": {
    "name": "ipython",
    "version": 3
   },
   "file_extension": ".py",
   "mimetype": "text/x-python",
   "name": "python",
   "nbconvert_exporter": "python",
   "pygments_lexer": "ipython3",
   "version": "3.9.13"
  }
 },
 "nbformat": 4,
 "nbformat_minor": 5
}
