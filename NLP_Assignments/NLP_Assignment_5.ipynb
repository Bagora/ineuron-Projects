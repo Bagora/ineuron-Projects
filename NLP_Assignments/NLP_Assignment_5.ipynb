{
 "cells": [
  {
   "cell_type": "markdown",
   "id": "e18da0bc",
   "metadata": {},
   "source": [
    "## NLP_Assignment_5\n",
    "1. What are Sequence-to-sequence models?\n",
    "2. What are the Problem with Vanilla RNNs?\n",
    "3. What is Gradient clipping?\n",
    "4. Explain Attention mechanism\n",
    "5. Explain Conditional random fields (CRFs)\n",
    "6. Explain self-attention\n",
    "7. What is Bahdanau Attention?\n",
    "8. What is a Language Model?\n",
    "9. What is Multi-Head Attention?\n",
    "10. What is Bilingual Evaluation Understudy (BLEU)"
   ]
  },
  {
   "cell_type": "code",
   "execution_count": 6,
   "id": "3f6753c2",
   "metadata": {},
   "outputs": [
    {
     "name": "stdout",
     "output_type": "stream",
     "text": [
      "\n"
     ]
    }
   ],
   "source": [
    "'''Ans 1:- A Sequence-to-Sequence (seq2seq) model is a vital\n",
    "advancement in machine learning, especially for tasks involving\n",
    "sequences like translation, summarization, and question answering.\n",
    "Comprising an encoder and a decoder, the model first encodes input\n",
    "sequences into fixed-length vectors and then uses these vectors to\n",
    "generate output sequences. Typically, both encoder and decoder\n",
    "employ recurrent neural networks (RNNs) due to their\n",
    "sequence-processing capabilities.  The encoder-decoder attention mechanism is\n",
    "often used to train seq2seq models, allowing the decoder to\n",
    "focus on relevant input sequence parts during output generation.\n",
    "Seq2seq models have excelled in numerous Natural Language\n",
    "Processing (NLP) tasks, such as machine translation, text\n",
    "summarization, and question answering. They power commercial translation\n",
    "systems and efficiently summarize text. Seq2seq-based question\n",
    "answering generates answers from summaries.  These models also\n",
    "enhance chatbots, making their responses more human-like and\n",
    "engaging. Seq2seq models represent a pivotal tool in NLP, offering\n",
    "significant potential for further innovation in sequence-related\n",
    "tasks. Researchers and practitioners continually explore their\n",
    "capabilities, ensuring ongoing progress and relevance in the field.'''"
   ]
  },
  {
   "cell_type": "code",
   "execution_count": null,
   "id": "74262bc0",
   "metadata": {},
   "outputs": [],
   "source": [
    "'''Ans 2:- Vanilla Recurrent Neural Networks (RNNs) suffer from\n",
    "several limitations. First, they struggle with capturing\n",
    "long-range dependencies in sequences due to the vanishing gradient\n",
    "problem, where gradients diminish during backpropagation through\n",
    "time. Second, they cannot effectively handle sequences of\n",
    "varying lengths and require fixed-length inputs. Lastly, RNNs are\n",
    "computationally expensive and not well-suited for parallel processing,\n",
    "limiting their scalability. These issues have led to the\n",
    "development of more advanced RNN variants like Long Short-Term Memory\n",
    "(LSTM) and Gated Recurrent Unit (GRU) to address the vanishing\n",
    "gradient problem and enhance the modeling of sequential data.'''"
   ]
  },
  {
   "cell_type": "code",
   "execution_count": null,
   "id": "b12cdc4f",
   "metadata": {},
   "outputs": [],
   "source": [
    "'''Ans 3:- Gradient clipping is a technique used in machine learning,\n",
    "particularly in training neural networks, to mitigate the exploding\n",
    "gradient problem. When gradients during backpropagation become too\n",
    "large, it can lead to unstable training and divergence. Gradient\n",
    "clipping sets a threshold value, and if gradients exceed this\n",
    "threshold, they are scaled down proportionally to ensure they stay\n",
    "within a reasonable range. This prevents the model from making\n",
    "overly large weight updates and helps stabilize the training\n",
    "process, allowing for more effective convergence and preventing\n",
    "numerical instability. It is a common practice in training recurrent\n",
    "neural networks (RNNs) and deep learning models.'''"
   ]
  },
  {
   "cell_type": "code",
   "execution_count": null,
   "id": "3b27feb0",
   "metadata": {},
   "outputs": [],
   "source": [
    "'''Ans 4:- The attention mechanism is a fundamental concept in deep\n",
    "learning, particularly in natural language processing (NLP) and\n",
    "computer vision. It enables models to selectively focus on specific\n",
    "parts of input data while making predictions or generating\n",
    "outputs, mimicking human attention. This mechanism involves three\n",
    "key components for each input element: query, key, and value.\n",
    "The query represents the current focus, keys store element\n",
    "information, and values hold associated data.  Scores, measuring\n",
    "element-query compatibility, are calculated for each input element.\n",
    "These scores are converted into attention weights using a\n",
    "softmax function, determining the importance of each element\n",
    "relative to the query. Finally, a weighted sum of values creates a\n",
    "context vector that captures the highlighted information.  The\n",
    "attention mechanism improves model performance by allowing dynamic\n",
    "emphasis on different input elements based on context, enhancing\n",
    "the understanding of long-range dependencies. Variants like\n",
    "self-attention and multi-head attention, as seen in transformers, have\n",
    "revolutionized NLP and computer vision, contributing to numerous\n",
    "applications.'''"
   ]
  },
  {
   "cell_type": "code",
   "execution_count": null,
   "id": "e6ac0c03",
   "metadata": {},
   "outputs": [],
   "source": [
    "'''Ans 5:- Conditional Random Fields (CRFs) are probabilistic\n",
    "graphical models used in machine learning for sequence labeling\n",
    "tasks. They model dependencies between adjacent labels in a\n",
    "sequence, such as part-of-speech tagging or named entity\n",
    "recognition. CRFs consider input features and output labels, learning\n",
    "to assign probabilities to label sequences given the input,\n",
    "which helps improve accuracy in structured prediction tasks.'''"
   ]
  },
  {
   "cell_type": "code",
   "execution_count": null,
   "id": "5850862a",
   "metadata": {},
   "outputs": [],
   "source": [
    "'''Ans 6:- Self-attention is a mechanism in deep learning, notably in\n",
    "the Transformer model, that enables a model to weigh and focus\n",
    "on different parts of its input sequence when making\n",
    "predictions. It computes attention scores for each element in the\n",
    "sequence relative to every other element, creating context-aware\n",
    "representations. This self-attention mechanism allows the model to capture\n",
    "long-range dependencies and is instrumental in tasks like language\n",
    "translation and text summarization.'''"
   ]
  },
  {
   "cell_type": "code",
   "execution_count": null,
   "id": "9ab032af",
   "metadata": {},
   "outputs": [],
   "source": [
    "'''Ans 7:- Bahdanau Attention, also known as Additive Attention, is\n",
    "an attention mechanism introduced in the context of machine\n",
    "translation. It's used in sequence-to-sequence models like the Neural\n",
    "Machine Translation (NMT) model. Unlike traditional attention\n",
    "mechanisms, Bahdanau Attention calculates alignment scores between the\n",
    "decoder's current hidden state and all encoder states. It learns to\n",
    "focus on different parts of the source sentence dynamically,\n",
    "improving the model's translation quality and handling\n",
    "variable-length sequences effectively. This attention mechanism is crucial\n",
    "in many NLP tasks beyond machine translation.'''"
   ]
  },
  {
   "cell_type": "code",
   "execution_count": null,
   "id": "ac7070b8",
   "metadata": {},
   "outputs": [],
   "source": [
    "'''Ans 8:- A language model is a computational model in natural\n",
    "language processing (NLP) that learns to predict and generate\n",
    "human-like text. It's trained on large text datasets and can estimate\n",
    "the likelihood of word sequences, making it capable of\n",
    "generating coherent text, completing sentences, or providing\n",
    "context-aware suggestions. Language models are essential for various NLP\n",
    "tasks, including machine translation, text generation, and\n",
    "sentiment analysis.'''"
   ]
  },
  {
   "cell_type": "code",
   "execution_count": null,
   "id": "15529087",
   "metadata": {},
   "outputs": [],
   "source": [
    "'''Ans 9:- Multi-Head Attention is an extension of the self-attention\n",
    "mechanism used in models like Transformers. It enables the model to\n",
    "focus on different parts of the input sequence simultaneously by\n",
    "learning multiple sets of attention weights (heads). Each head\n",
    "captures different aspects of the data, allowing the model to\n",
    "extract various patterns and relationships within the input,\n",
    "making it more expressive and effective for complex tasks in\n",
    "natural language processing and beyond.'''"
   ]
  },
  {
   "cell_type": "code",
   "execution_count": null,
   "id": "c9628604",
   "metadata": {},
   "outputs": [],
   "source": [
    "'''Ans 10:- The Bilingual Evaluation Understudy (BLEU) is a metric\n",
    "used to evaluate the quality of machine-generated translations\n",
    "compared to human-generated reference translations in the field of\n",
    "machine translation. BLEU measures the similarity between the\n",
    "machine-generated text and reference text based on n-grams (sequences of n\n",
    "consecutive words). It ranges from 0 to 1, with 1 indicating a perfect\n",
    "match.  For example, if a machine translation system produces the\n",
    "sentence \"The cat is on the mat,\" and the reference translation is\n",
    "\"The cat is lying on the mat,\" BLEU might calculate a score\n",
    "indicating how closely the two sentences match, considering both\n",
    "unigrams (single words) and bigrams (pairs of consecutive words). \n",
    "BLEU is widely used for automated translation evaluation, but\n",
    "it has limitations, as it relies heavily on n-gram overlap\n",
    "and may not capture the full quality of a translation,\n",
    "especially in complex or creative language tasks.'''"
   ]
  }
 ],
 "metadata": {
  "kernelspec": {
   "display_name": "Python 3 (ipykernel)",
   "language": "python",
   "name": "python3"
  },
  "language_info": {
   "codemirror_mode": {
    "name": "ipython",
    "version": 3
   },
   "file_extension": ".py",
   "mimetype": "text/x-python",
   "name": "python",
   "nbconvert_exporter": "python",
   "pygments_lexer": "ipython3",
   "version": "3.10.9"
  }
 },
 "nbformat": 4,
 "nbformat_minor": 5
}
